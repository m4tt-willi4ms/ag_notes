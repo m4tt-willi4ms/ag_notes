{
 "cells": [
  {
   "cell_type": "markdown",
   "metadata": {},
   "source": [
    "## Icosahedral Symmetry\n",
    "\n"
   ]
  },
  {
   "cell_type": "markdown",
   "metadata": {},
   "source": [
    "The icosahedral group is defined as the group of rotations that map the\n",
    "icosahedron into itself. Placing two antipodal vertices along the $\\zeta$ axis\n",
    "at $(0,0,\\pm 1)$, and one next-nearest vertex at\n",
    "${\\bf\\hat n}_n = (-\\sin\\,2\\alpha,0,\\cos\\,2\\alpha)$, we find that there is a two-fold symmetry\n",
    "about the axis ${\\bf \\hat n}_2:=(-\\sin\\alpha,0,\\cos\\alpha)$, in addition to a\n",
    "five-fold symmetry about ${\\bf \\hat n}_5:=(0,0,1)$:\n",
    "\n",
    "$$\n",
    "\n",
    "\\begin{align*}\n",
    "IV:&\\quad {\\mathcal O}({\\bf\\hat n}_2, \\pi)\\\\\n",
    "V:&\\quad {\\mathcal O}({\\bf\\hat n}_5, 2\\pi/5)\n",
    "\\end{align*}\n",
    "\n",
    "$$\n",
    "\n",
    "It can be shown that the above symmetry generators can be combined to reproduce\n",
    "the 60-fold symmetries of the icosahedral group. In particular, the three-fold\n",
    "symmetry of one of the icosahedron faces nearest to the top vertex can be written as \n",
    "\n",
    "$$\n",
    "\n",
    "{\\mathcal O}_C({\\bf\\hat n}_3, 2\\pi/3) = {\\mathcal O}_B({\\bf\\hat n}_5, -2\\pi/5)\\,{\\mathcal O}_A({\\bf\\hat n}_2,\n",
    "\\pi) \\,,\n",
    "\n",
    "$$\n",
    "\n",
    "given an appropriate choice of ${\\bf\\hat n}_2$ (or $\\alpha$) and ${\\bf\\hat n_3}$."
   ]
  },
  {
   "cell_type": "markdown",
   "metadata": {},
   "source": [
    "To determine $\\alpha$, note that the $\\{{\\bf a}, d\\}$ parametrizations of the\n",
    "above transformations are\n",
    "\n",
    "$$\n",
    "\n",
    "\\begin{align*}\n",
    "a_{1A} = -\\sin\\alpha\\,,\\quad a_{3A} = \\cos\\alpha \\,,\\quad a_{2A} = d_A =0 \\\\ \n",
    "a_{1B} = a_{2B} = 0 \\,,\\quad a_{3B} = -\\sin(\\pi/5) \\,,\\quad d_B = \\cos(\\pi/5) \\,.\n",
    "\\end{align*}\n",
    "\n",
    "$$\n",
    "\n",
    "Recalling the composition property of the $d$ parameter, $d_C = -a_{1A} a_{1B} - a_{2A} a_{2B} - a_{3A} a_{3B} + d_A d_B$, we find that \n",
    "\n",
    "$$\n",
    "\n",
    "d_C = \\cos\\alpha\\,\\sin(\\pi/5) = \\cos(\\pi/3) = \\frac12\n",
    "\n",
    "$$\n",
    "\n",
    "for the composed transformation. Therfore, \n",
    "\n",
    "$$\n",
    "\n",
    "\\cos\\alpha = \\frac1{2\\,\\sin(\\pi/5)} \\,.\n",
    "\n",
    "$$"
   ]
  },
  {
   "cell_type": "markdown",
   "metadata": {},
   "source": [
    "Similarly,\n",
    "\n",
    "$$\n",
    "\n",
    "\\begin{align*}\n",
    "a_{1C} &= a_{1A} d_B + a_{1B} d_A - a_{2A} a_{3B} + a_{2B} a_{3A} = -\\sin\\alpha\\,\\cos(\\pi/5)\\\\\n",
    "a_{2C} &= a_{2A} d_B + a_{2B} d_A - a_{3A} a_{1B} + a_{3B} a_{1A} = \\sin\\alpha\\,\\sin(\\pi/5) \\\\\n",
    "a_{3C} &= a_{3A} d_B + a_{3B} d_A - a_{1A} a_{2B} + a_{1B} a_{2A} = \\cos\\alpha\\,\\cos(\\pi/5) \n",
    "\\end{align*}\n",
    "\n",
    "$$\n",
    "\n",
    "which together imply that \n",
    "\n",
    "$$\n",
    "\n",
    "{\\bf\\hat n}_3 = \\frac2{\\sqrt{3}}(-\\sin\\alpha\\,\\cos(\\pi/5), \\sin\\alpha\\,\\sin(\\pi/5), \\cos\\alpha\\,\\cos(\\pi/5)) \\,.\n",
    "\n",
    "$$\n",
    "\n",
    "(${\\bf\\hat n}_3$ is guaranteed to be unit-normalized whenever $\\alpha$ satisfies the condition above.)"
   ]
  },
  {
   "cell_type": "markdown",
   "metadata": {},
   "source": [
    "Moving to stereographically-projected coordinates, the vertex at ${\\bf\\hat n}_n$ is given by\n",
    "\n",
    "$$\n",
    "\n",
    "z_n := -\\frac{\\sin 2\\alpha}{(1-\\cos 2\\alpha)} = -\\cot\\alpha \\,.\n",
    "\n",
    "$$\n",
    "\n",
    "However, we will find that it is more convenient to instead write\n",
    "\n",
    "$$\n",
    "\n",
    "z_n = \\epsilon^2 + \\epsilon^3 \\,,\\quad{\\rm where}\\quad \\epsilon:=e^{2\\pi i /5} \\,,\n",
    "\n",
    "$$\n",
    "\n",
    "since the other four vertices related to $z_n$ under the five-fold symmetry\n",
    "transformation $V$ are given by\n",
    "\n",
    "$$\n",
    "\n",
    "z_k := \\epsilon^k\\,z_n \\,,\\quad k \\in \\{1, 2, 3, 4, 5\\} \\,.\n",
    "\n",
    "$$"
   ]
  },
  {
   "cell_type": "code",
   "execution_count": null,
   "metadata": {},
   "outputs": [
    {
     "data": {
      "text/latex": [
       "$\\displaystyle 1.61803398874989$"
      ],
      "text/plain": [
       "1.61803398874989"
      ]
     },
     "metadata": {},
     "output_type": "display_data"
    }
   ],
   "source": [
    "(2 * cos(pi / 5)).evalf()"
   ]
  },
  {
   "cell_type": "code",
   "execution_count": null,
   "metadata": {},
   "outputs": [
    {
     "data": {
      "text/latex": [
       "$\\displaystyle 1.61803398874989$"
      ],
      "text/plain": [
       "1.61803398874989"
      ]
     },
     "metadata": {},
     "output_type": "display_data"
    }
   ],
   "source": [
    "((1 + sqrt(5)) / 2).evalf()"
   ]
  },
  {
   "cell_type": "markdown",
   "metadata": {},
   "source": [
    "The equivalence of the two expressions above follows from the defining relation\n",
    "\n",
    "$$\n",
    "\n",
    "\\epsilon^5 = 1 \\quad\\implies\\quad \\epsilon + \\epsilon^2 + \\epsilon^3 + \\epsilon^4 + \\epsilon^5 = 0 \n",
    "\n",
    "$$\n",
    "\n",
    "which together imply that \n",
    "\n",
    "$$\n",
    "\n",
    "(\\epsilon^4 - \\epsilon)(\\epsilon^2 - \\epsilon^3) = \\epsilon + \\epsilon^4 - \\epsilon^2 - \\epsilon^3 = \\sqrt{5} \n",
    "\n",
    "$$\n",
    "\n",
    "(as can be checked by squaring the second equality above). Noting that $\\sin (\\pi/5) = (\\epsilon^2-\\epsilon^3)/2i$, the previous condition on $\\alpha$ becomes\n",
    "\n",
    "$$\n",
    "\n",
    "\\cos\\alpha = \\frac i{\\epsilon^2-\\epsilon^3} =\\frac i{\\sqrt{5}}(\\epsilon^4 - \\epsilon) \\quad\\implies\\quad \\sin\\alpha = \\frac i{\\sqrt{5}}(\\epsilon^3-\\epsilon^2)\n",
    "\n",
    "$$\n",
    "\n",
    "and so\n",
    "\n",
    "$$\n",
    "\n",
    "z_n = - \\cot\\alpha = \\frac{(\\epsilon - \\epsilon^4)}{(\\epsilon^3-\\epsilon^2)} \\times\\frac{(\\epsilon^2+\\epsilon^3)}{(\\epsilon^2+\\epsilon^3)} = \\epsilon^2+\\epsilon^3 \\,.\n",
    "\n",
    "$$"
   ]
  },
  {
   "cell_type": "markdown",
   "metadata": {},
   "source": [
    "Across from $z_n$ is an antipodal vertex $z_m:= -1/z_n$ given by\n",
    "\n",
    "$$\n",
    "\n",
    "z_m = -\\frac1{(\\epsilon^2+\\epsilon^3)} = \\frac{-1\\times(\\epsilon+\\epsilon^4)}{(\\epsilon^2+\\epsilon^3)(\\epsilon+\\epsilon^4)} = \\epsilon+\\epsilon^4 \\,.\n",
    "\n",
    "$$\n",
    "\n",
    "In addition to the vertices $z_0 = 0$, $z_\\infty = \\infty$ and the five $z_k$ (where $z_5 = z_n$), the remaining five are related to $z_m$ under the five-fold symmetry\n",
    "transformation $V$ as follows:\n",
    "\n",
    "$$\n",
    "\n",
    "z_k := \\epsilon^k\\,z_m \\,,\\quad k \\in \\{6, 7, 8, 9, 10\\} \n",
    "\n",
    "$$\n",
    "\n",
    "(where $z_{10} = z_m$, similarly to $z_n$)."
   ]
  },
  {
   "cell_type": "markdown",
   "metadata": {},
   "source": [
    "Relating $z_n$, $z_m$ back to to their explicit values, we see that \n",
    "\n",
    "$$\n",
    "\n",
    "z_n = - 2\\,\\cos\\pi/5 := -\\phi \\,,\\quad z_m = 2\\,\\cos 2\\pi/5 = \\phi^2- 2\n",
    "\n",
    "$$\n",
    "\n",
    "(where the last equality follows from the cosine half-angle formula). Recalling that $z_n$ and $z_m$ are antipodal, we see that $\\phi$ must satisfy\n",
    "\n",
    "$$\n",
    "\n",
    "z_n\\,z_m = -1 \\quad\\leftrightarrow\\quad (\\phi+1)(\\phi^2 - \\phi -1) =0 \\,.\n",
    "\n",
    "$$\n",
    "\n",
    "Therefore, $\\phi$ is the __golden ratio__: $\\phi = (1+\\sqrt{5})/2$ (since $\\phi$, by definition, is positive). Additionally, since the $\\epsilon$'s satisfy $\\sum_{k=1}^5\\epsilon^k = 0$, we find\n",
    "\n",
    "$$\n",
    "\n",
    "z_n + z_m + 1 =0 \\,,\\quad z_n^2+z_n-1=0\\,,\\quad z_m^2+z_m-1=0\\,,\n",
    "\n",
    "$$\n",
    "\n",
    "which is consistent with the above."
   ]
  },
  {
   "cell_type": "code",
   "execution_count": null,
   "metadata": {},
   "outputs": [
    {
     "data": {
      "text/latex": [
       "$\\displaystyle \\left(u + 1\\right) \\left(u^{2} - u - 1\\right)$"
      ],
      "text/plain": [
       "(u + 1)*(u**2 - u - 1)"
      ]
     },
     "metadata": {},
     "output_type": "display_data"
    }
   ],
   "source": [
    "(u**3 - 2 * u - 1).factor()"
   ]
  },
  {
   "cell_type": "markdown",
   "metadata": {},
   "source": [
    "Lastly, the homogeneous transformation corresponding to the symmetry\n",
    "transformation $IV$ is given by\n",
    "\n",
    "$$\n",
    "\n",
    "\\begin{align*}\n",
    "u' = i\\,\\cos\\alpha \\, u - i\\,\\sin\\alpha\\,v &= \\frac1{\\sqrt{5}}\\left(\\epsilon - \\epsilon^4\\right) u +\\frac1{\\sqrt{5}}\\left(\\epsilon^3 - \\epsilon^2\\right) v \\\\\n",
    "v' = -i\\,\\sin\\alpha\\,u - i\\,\\cos\\alpha\\, v &= \\frac1{\\sqrt{5}}\\left(\\epsilon^3 - \\epsilon^2\\right) u -\\frac1{\\sqrt{5}}\\left(\\epsilon - \\epsilon^4\\right) v \\,,\n",
    "\\end{align*}\n",
    "\n",
    "$$\n",
    "\n",
    "whereas transformation $V$ corresponds to $u' = \\epsilon^{1/2}\\, u$, $v' = \\epsilon^{-1/2}\\, v$."
   ]
  },
  {
   "cell_type": "markdown",
   "metadata": {},
   "source": [
    "## Icosahedral Polynomial Invariants\n",
    "\n",
    "Multiplying together the homogeneous polynomials $(u-z_k\\,v)$ for\n",
    "$k\\in \\{0,1,\\ldots,10,\\infty\\}$, we find\n",
    "\n",
    "$$\n",
    "\n",
    "f(u,v) = \\prod_k\\left(u - z_k\\,v\\right) = uv\\left(u^{10}+11\\,u^5v^5-v^{10}\\right) \\,.\n",
    "\n",
    "$$"
   ]
  },
  {
   "cell_type": "code",
   "execution_count": null,
   "metadata": {},
   "outputs": [
    {
     "data": {
      "text/latex": [
       "$\\displaystyle u v \\left(u - v \\left(e^{3} + e^{2}\\right)\\right) \\left(u - v \\left(e^{4} + e\\right)\\right) \\left(- e v \\left(e^{3} + e^{2}\\right) + u\\right) \\left(- e v \\left(e^{4} + e\\right) + u\\right) \\left(- e^{2} v \\left(e^{3} + e^{2}\\right) + u\\right) \\left(- e^{2} v \\left(e^{4} + e\\right) + u\\right) \\left(- e^{3} v \\left(e^{3} + e^{2}\\right) + u\\right) \\left(- e^{3} v \\left(e^{4} + e\\right) + u\\right) \\left(- e^{4} v \\left(e^{3} + e^{2}\\right) + u\\right) \\left(- e^{4} v \\left(e^{4} + e\\right) + u\\right)$"
      ],
      "text/plain": [
       "u*v*(u - v*(e**3 + e**2))*(u - v*(e**4 + e))*(-e*v*(e**3 + e**2) + u)*(-e*v*(e**4 + e) + u)*(-e**2*v*(e**3 + e**2) + u)*(-e**2*v*(e**4 + e) + u)*(-e**3*v*(e**3 + e**2) + u)*(-e**3*v*(e**4 + e) + u)*(-e**4*v*(e**3 + e**2) + u)*(-e**4*v*(e**4 + e) + u)"
      ]
     },
     "metadata": {},
     "output_type": "display_data"
    }
   ],
   "source": [
    "# Check of the above:\n",
    "from functools import reduce\n",
    "\n",
    "# e = exp(2 * pi * I / 5)\n",
    "e = symbols(\"e\")\n",
    "n = e**2 + e**3\n",
    "m = e + e**4\n",
    "\n",
    "iso_verts = []\n",
    "for i in range(5):\n",
    "    iso_verts.append(n * e**i)\n",
    "    iso_verts.append(m * e**i)\n",
    "\n",
    "f = u * v * reduce(lambda x, y: x * y, [u - x * v for x in iso_verts])\n",
    "f"
   ]
  },
  {
   "cell_type": "code",
   "execution_count": null,
   "metadata": {},
   "outputs": [
    {
     "name": "stdout",
     "output_type": "stream",
     "text": [
      "done\n"
     ]
    },
    {
     "data": {
      "text/latex": [
       "$\\displaystyle u v \\left(u^{10} + 11 u^{5} v^{5} - v^{10}\\right)$"
      ],
      "text/plain": [
       "u*v*(u**10 + 11*u**5*v**5 - v**10)"
      ]
     },
     "metadata": {},
     "output_type": "display_data"
    }
   ],
   "source": [
    "def e_simp(expr, full=True, cleanup=True):\n",
    "    result = Poly(expr, e)\n",
    "    e_coeffs = reversed(result.all_coeffs())\n",
    "    simp_coeffs = [0] * 5\n",
    "    # enforce e**5 = 1\n",
    "    for i, coeff in enumerate(e_coeffs):\n",
    "        simp_coeffs[i % 5] += coeff\n",
    "    print(\"done\")\n",
    "    # enforce e**4 = - e**3 - e**2 - e - 1\n",
    "    if full:\n",
    "        simp_coeffs = [simp_coeffs[i] - simp_coeffs[4] for i in range(4)]\n",
    "    if cleanup:\n",
    "        return simplify(Poly.from_list(reversed(simp_coeffs), e).as_expr())\n",
    "    return Poly.from_list(reversed(simp_coeffs), e).as_expr()\n",
    "\n",
    "\n",
    "f = e_simp(f)\n",
    "f"
   ]
  },
  {
   "cell_type": "markdown",
   "metadata": {},
   "source": [
    "It should be straightforward to check that $f(u,v)$ is indeed a polynomial\n",
    "invariant under transformations $IV$, $V$:\n",
    "\n",
    "$$\n",
    "\n",
    "f(u',v') = f(u,v) \\,.\n",
    "\n",
    "$$"
   ]
  },
  {
   "cell_type": "code",
   "execution_count": null,
   "metadata": {},
   "outputs": [
    {
     "name": "stdout",
     "output_type": "stream",
     "text": [
      "done\n",
      "f_prime=u*v*(u**10 + 11*u**5*v**5 - v**10)\n",
      "done\n"
     ]
    },
    {
     "data": {
      "text/plain": [
       "True"
      ]
     },
     "metadata": {},
     "output_type": "display_data"
    }
   ],
   "source": [
    "# Check of the above:\n",
    "orth = 1 / sqrt(5) * Matrix([[e - e**4, e**3 - e**2], [e**3 - e**2, e**4 - e]])\n",
    "u, v = symbols(\"u v\")\n",
    "U, V = symbols(\"U V\")\n",
    "uv = Matrix([u, v])\n",
    "\n",
    "uv_prime = orth * uv\n",
    "\n",
    "f_prime = f.subs([(u, U), (v, V)]).subs([(U, uv_prime[0]), (V, uv_prime[1])])\n",
    "f_prime = e_simp(f_prime)\n",
    "print(f\"{f_prime=}\")\n",
    "e_simp(f_prime).equals(f)"
   ]
  },
  {
   "cell_type": "markdown",
   "metadata": {},
   "source": [
    "Computing the Hessian of $f$, we find ${\\rm Hess}[f](u,v) = 121\\,H(u,v)$ where\n",
    "\n",
    "$$\n",
    "\n",
    "H(u,v) := -u^{20} - v^{20} + 228\\left(u^{15}\\,v^5-u^5\\,v^{15}\\right)-494\\,u^{10}\\,v^{10} \\,.\n",
    "\n",
    "$$"
   ]
  },
  {
   "cell_type": "code",
   "execution_count": null,
   "metadata": {},
   "outputs": [
    {
     "data": {
      "text/latex": [
       "$\\displaystyle \\frac{2 i e^{3} + e^{2} \\left(-1 + 2 i\\right) + e \\left(-2 + i\\right) - 1}{e \\left(e^{2} + e + 1\\right)}$"
      ],
      "text/plain": [
       "(2*I*e**3 + e**2*(-1 + 2*I) + e*(-2 + I) - 1)/(e*(e**2 + e + 1))"
      ]
     },
     "metadata": {},
     "output_type": "display_data"
    }
   ],
   "source": [
    "r = (e - e**4) * I + e**2 + e**3\n",
    "\n",
    "\n",
    "def rot3(z):\n",
    "    return ((e - e**3) * z - (1 - e**4)) / ((1 - e) * z + e**4 - e**2)\n",
    "\n",
    "\n",
    "simplify(simplify(rot3(r)).subs(e**5, 1).subs(e**4, -(e**3) - e**2 - e - 1))"
   ]
  },
  {
   "cell_type": "code",
   "execution_count": null,
   "metadata": {},
   "outputs": [
    {
     "name": "stdout",
     "output_type": "stream",
     "text": [
      "done\n"
     ]
    },
    {
     "data": {
      "text/latex": [
       "$\\displaystyle a^{5} u^{5} + b^{5} v^{5}$"
      ],
      "text/plain": [
       "a**5*u**5 + b**5*v**5"
      ]
     },
     "metadata": {},
     "output_type": "display_data"
    }
   ],
   "source": [
    "a, b = symbols(\"a b\")\n",
    "expr = reduce(lambda x, y: x * y, [e**k * a * u + b * v for k in range(5)])\n",
    "e_simp(expr)"
   ]
  },
  {
   "cell_type": "code",
   "execution_count": null,
   "metadata": {},
   "outputs": [
    {
     "name": "stdout",
     "output_type": "stream",
     "text": [
      "done\n"
     ]
    },
    {
     "data": {
      "text/latex": [
       "$\\displaystyle - \\frac{5 e^{3} \\cdot \\left(42 - 325 i\\right)}{8} - \\frac{5 e^{2} \\cdot \\left(777 - 650 i\\right)}{16} - \\frac{4305 e}{16} - \\frac{4305}{32} - \\frac{875 i}{16}$"
      ],
      "text/plain": [
       "-5*e**3*(42 - 325*I)/8 - 5*e**2*(777 - 650*I)/16 - 4305*e/16 - 4305/32 - 875*I/16"
      ]
     },
     "metadata": {},
     "output_type": "display_data"
    }
   ],
   "source": [
    "r = ((e**2 - e**3) * I + (e**2 + e**3) / 2) * (e - e**4)\n",
    "e_simp(r**5)"
   ]
  },
  {
   "cell_type": "code",
   "execution_count": null,
   "metadata": {},
   "outputs": [
    {
     "name": "stdout",
     "output_type": "stream",
     "text": [
      "done\n"
     ]
    },
    {
     "data": {
      "text/latex": [
       "$\\displaystyle 15 e^{3} - 5 e^{2} + 10 e + 5$"
      ],
      "text/plain": [
       "15*e**3 - 5*e**2 + 10*e + 5"
      ]
     },
     "metadata": {},
     "output_type": "display_data"
    }
   ],
   "source": [
    "s = e**3 - e**2\n",
    "e_simp(s**5)"
   ]
  },
  {
   "cell_type": "code",
   "execution_count": null,
   "metadata": {},
   "outputs": [
    {
     "name": "stdout",
     "output_type": "stream",
     "text": [
      "done\n"
     ]
    },
    {
     "data": {
      "text/latex": [
       "$\\displaystyle a_{0} b_{0} + a_{1} b_{4} + a_{2} b_{3} + a_{3} b_{2} + a_{4} b_{1} + e^{4} \\left(a_{0} b_{4} + a_{1} b_{3} + a_{2} b_{2} + a_{3} b_{1} + a_{4} b_{0}\\right) + e^{3} \\left(a_{0} b_{3} + a_{1} b_{2} + a_{2} b_{1} + a_{3} b_{0} + a_{4} b_{4}\\right) + e^{2} \\left(a_{0} b_{2} + a_{1} b_{1} + a_{2} b_{0} + a_{3} b_{4} + a_{4} b_{3}\\right) + e \\left(a_{0} b_{1} + a_{1} b_{0} + a_{2} b_{4} + a_{3} b_{3} + a_{4} b_{2}\\right)$"
      ],
      "text/plain": [
       "a0*b0 + a1*b4 + a2*b3 + a3*b2 + a4*b1 + e**4*(a0*b4 + a1*b3 + a2*b2 + a3*b1 + a4*b0) + e**3*(a0*b3 + a1*b2 + a2*b1 + a3*b0 + a4*b4) + e**2*(a0*b2 + a1*b1 + a2*b0 + a3*b4 + a4*b3) + e*(a0*b1 + a1*b0 + a2*b4 + a3*b3 + a4*b2)"
      ]
     },
     "metadata": {},
     "output_type": "display_data"
    }
   ],
   "source": [
    "aes = symbols(\"a0 a1 a2 a3 a4\")\n",
    "bs = symbols(\"b0 b1 b2 b3 b4\")\n",
    "\n",
    "\n",
    "def list_mult(vals):\n",
    "    return reduce(lambda x, y: x * y, vals)\n",
    "\n",
    "\n",
    "e_simp(\n",
    "    reduce(lambda x, y: x + y, [aes[k] * e**k for k in range(5)])\n",
    "    * reduce(lambda x, y: x + y, [bs[k] * e**k for k in range(5)]),\n",
    "    full=False,\n",
    ")"
   ]
  },
  {
   "cell_type": "markdown",
   "metadata": {},
   "source": [
    "## The Rotated Octahedron\n",
    "\n",
    "Earlier, we demonstrated the that function $t(u,v) = u^5\\,v-u\\,v^5$ was an\n",
    "absolute invariant under tetrahedral symmetry, and that its square was an\n",
    "absolute invariant under octahedral symmetry. We now wish to consider how this\n",
    "particular product of roots changes under a rotation of the octahedron about its\n",
    "centre. \n",
    "\n",
    "To this end, consider the rotated points $z'_k$, related to $z_k \\in \\{0,\n",
    "\\infty, \\pm 1,\\pm i\\}$ by\n",
    "\n",
    "$$\n",
    "\n",
    "z'_k(\\alpha, \\theta) = e^{i\\,\\theta}\\left[\\frac{\\cos(\\alpha/2)\\,z_k+\\sin(\\alpha/2)}{-\\sin(\\alpha/2)\\,z_k + \\cos(\\alpha/2)}\\right]\\,.\n",
    "\n",
    "$$\n",
    "\n",
    "(The rotation above corresponds to a rotation about the $\\eta$ axis by an angle $\\alpha$, followed by a rotation about the $\\zeta$ axis by an angle $\\theta$.) Computing the product $t'(u,v) := \\prod_{k}(u-z_k'\\,v)$ we find\n",
    "\n",
    "$$\n",
    "\n",
    "\\begin{align*}\n",
    "t'(u,v, \\tan(2\\alpha), e^{i\\theta}) &= u^6 + \\frac{4\\,u^5\\,v\\,e^{i\\theta}}{\\tan(2\\alpha)}-5\\,u^4\\,v^2\\,e^{2\\,i\\theta} \\\\\n",
    "&-\n",
    "5\\,u^2\\,v^4\\,e^{4\\,i\\theta} - \\frac{4\\,u\\,v^5\\,e^{5\\,i\\theta}}{\\tan(2\\alpha)} + v^6\\,e^{6\\,i\\theta} \\,.\n",
    "\\end{align*}\n",
    "\n",
    "$$\n",
    "\n",
    "Note that the original expression for $t(u,v)$ arises only in the singular limit\n",
    "$\\alpha\\to 0$."
   ]
  },
  {
   "cell_type": "code",
   "execution_count": null,
   "metadata": {},
   "outputs": [
    {
     "data": {
      "text/latex": [
       "$\\displaystyle p^{6} v^{6} - \\frac{4 p^{5} u v^{5}}{\\tan{\\left(2 \\alpha \\right)}} - 5 p^{4} u^{2} v^{4} - 5 p^{2} u^{4} v^{2} + \\frac{4 p u^{5} v}{\\tan{\\left(2 \\alpha \\right)}} + u^{6}$"
      ],
      "text/plain": [
       "p**6*v**6 - 4*p**5*u*v**5/tan(2*alpha) - 5*p**4*u**2*v**4 - 5*p**2*u**4*v**2 + 4*p*u**5*v/tan(2*alpha) + u**6"
      ]
     },
     "metadata": {},
     "output_type": "display_data"
    }
   ],
   "source": [
    "# Check of the above:\n",
    "def reduce_multiply(any_list):\n",
    "    return reduce(lambda x, y: x * y, any_list)\n",
    "\n",
    "\n",
    "zs = [0, oo, 1, -1, I, -I]\n",
    "\n",
    "\n",
    "def rotate(z, alpha, prephase=1):\n",
    "    if z is oo:\n",
    "        return -cos(alpha / 2) / sin(alpha / 2)\n",
    "    return (cos(alpha / 2) * prephase * z + sin(alpha / 2)) / (\n",
    "        -sin(alpha / 2) * prephase * z + cos(alpha / 2)\n",
    "    )\n",
    "\n",
    "\n",
    "alpha, p, w = symbols(\"alpha p w\")\n",
    "\n",
    "\n",
    "zps = [rotate(z, alpha) for z in zs]\n",
    "\n",
    "\n",
    "tp = reduce_multiply([u - p * z * v for z in zps])\n",
    "tp = simplify(tp.expand())\n",
    "tp"
   ]
  },
  {
   "cell_type": "code",
   "execution_count": null,
   "metadata": {},
   "outputs": [
    {
     "data": {
      "text/latex": [
       "$\\displaystyle p^{6} v^{6} - \\frac{4 p^{5} u v^{5}}{w} - 5 p^{4} u^{2} v^{4} - 5 p^{2} u^{4} v^{2} + \\frac{4 p u^{5} v}{w} + u^{6}$"
      ],
      "text/plain": [
       "p**6*v**6 - 4*p**5*u*v**5/w - 5*p**4*u**2*v**4 - 5*p**2*u**4*v**2 + 4*p*u**5*v/w + u**6"
      ]
     },
     "metadata": {},
     "output_type": "display_data"
    }
   ],
   "source": [
    "tp = tp.subs(tan(2 * alpha), w)\n",
    "tp"
   ]
  },
  {
   "cell_type": "code",
   "execution_count": null,
   "metadata": {},
   "outputs": [
    {
     "data": {
      "text/latex": [
       "$\\displaystyle \\left(u^{2} + v^{2}\\right) \\left(u^{4} + 2 u^{3} v - 6 u^{2} v^{2} - 2 u v^{3} + v^{4}\\right)$"
      ],
      "text/plain": [
       "(u**2 + v**2)*(u**4 + 2*u**3*v - 6*u**2*v**2 - 2*u*v**3 + v**4)"
      ]
     },
     "metadata": {},
     "output_type": "display_data"
    }
   ],
   "source": [
    "tp.subs(w, 2).subs(p, 1).factor()"
   ]
  },
  {
   "cell_type": "code",
   "execution_count": null,
   "metadata": {},
   "outputs": [
    {
     "data": {
      "text/latex": [
       "$\\displaystyle \\left(p^{2} v^{2} + u^{2}\\right) \\left(p^{4} v^{4} - 2 p^{3} u v^{3} - 6 p^{2} u^{2} v^{2} + 2 p u^{3} v + u^{4}\\right)$"
      ],
      "text/plain": [
       "(p**2*v**2 + u**2)*(p**4*v**4 - 2*p**3*u*v**3 - 6*p**2*u**2*v**2 + 2*p*u**3*v + u**4)"
      ]
     },
     "metadata": {},
     "output_type": "display_data"
    }
   ],
   "source": [
    "tp.subs(w, 2).factor()"
   ]
  },
  {
   "cell_type": "code",
   "execution_count": null,
   "metadata": {},
   "outputs": [
    {
     "name": "stdout",
     "output_type": "stream",
     "text": [
      "done\n"
     ]
    },
    {
     "data": {
      "text/latex": [
       "$\\displaystyle u^{4} + 2 u^{3} v - 6 u^{2} v^{2} - 2 u v^{3} + v^{4}$"
      ],
      "text/plain": [
       "u**4 + 2*u**3*v - 6*u**2*v**2 - 2*u*v**3 + v**4"
      ]
     },
     "metadata": {},
     "output_type": "display_data"
    }
   ],
   "source": [
    "e_simp(\n",
    "    (\n",
    "        (u**2 - 2 * (e**2 + e**3) * u * v - v**2)\n",
    "        * (u**2 - 2 * (e + e**4) * u * v - v**2)\n",
    "    ).expand()\n",
    ")"
   ]
  },
  {
   "cell_type": "markdown",
   "metadata": {},
   "source": [
    "### TODO: add note explaining particular case where $\\tan(2\\alpha)=2$\n",
    "\n",
    "In this case,\n",
    "\n",
    "$$\n",
    "\n",
    "t'(u,v,2,1) = (u^2+v^2)(u^2-2z_m\\,uv-v^2)(u^2-2z_n\\,uv-v^2)\n",
    "\n",
    "$$\n"
   ]
  },
  {
   "cell_type": "markdown",
   "metadata": {},
   "source": [
    "## Icosahedral Edge Midpoints\n",
    "\n",
    "If we now consider the product of 5 such functions, representing the 30 edge\n",
    "midpoints of the icosahedron, with each inscribed octahedron rotated by $e^{2\\pi\n",
    "i/5}$ relative to one another, we find (introducing $w$ as a stand-in for $\\tan(2\\alpha)$)\n",
    "\n",
    "$$\n",
    "\n",
    "\\begin{align*}\n",
    "T(u,v,w) &:= \\prod_{k=0}^4 t'(u,v,w, e^{2\\pi i k/5}) \\\\\n",
    "&= u^{30} + \\left(\\frac{ 580\\, w^4 + 1600 \\, w^2 + 1024 }{w^5}\\right)\\left(u^{25}\\,v^5-u^5\\,v^{25}\\right) \\\\\n",
    "&- \\left(\\frac{ 6725 \\,w^4 +11840 \\,w^2 + 5120 }{w^4}\\right)\\left(u^{20}\\,v^{10} + u^{10}\\,v^{20}\\right)  + v^{30} \\,.\n",
    "\n",
    "\\end{align*}\n",
    "\n",
    "$$"
   ]
  },
  {
   "cell_type": "code",
   "execution_count": null,
   "metadata": {},
   "outputs": [
    {
     "name": "stdout",
     "output_type": "stream",
     "text": [
      "done\n",
      "done\n",
      "done\n",
      "done\n",
      "done\n",
      "done\n",
      "done\n",
      "done\n",
      "done\n",
      "done\n",
      "done\n",
      "done\n",
      "done\n",
      "done\n",
      "done\n",
      "done\n",
      "done\n",
      "done\n",
      "done\n",
      "done\n",
      "done\n",
      "done\n",
      "done\n",
      "done\n",
      "done\n",
      "done\n",
      "done\n",
      "done\n",
      "done\n",
      "done\n",
      "done\n"
     ]
    },
    {
     "data": {
      "text/latex": [
       "$\\displaystyle u^{30} + \\frac{u^{25} \\cdot \\left(580 v^{5} w^{4} + 1600 v^{5} w^{2} + 1024 v^{5}\\right)}{w^{5}} + \\frac{u^{20} \\left(- 6725 v^{10} w^{4} - 11840 v^{10} w^{2} - 5120 v^{10}\\right)}{w^{4}} + \\frac{u^{10} \\left(- 6725 v^{20} w^{4} - 11840 v^{20} w^{2} - 5120 v^{20}\\right)}{w^{4}} + \\frac{u^{5} \\left(- 580 v^{25} w^{4} - 1600 v^{25} w^{2} - 1024 v^{25}\\right)}{w^{5}} + v^{30}$"
      ],
      "text/plain": [
       "u**30 + u**25*(580*v**5*w**4 + 1600*v**5*w**2 + 1024*v**5)/w**5 + u**20*(-6725*v**10*w**4 - 11840*v**10*w**2 - 5120*v**10)/w**4 + u**10*(-6725*v**20*w**4 - 11840*v**20*w**2 - 5120*v**20)/w**4 + u**5*(-580*v**25*w**4 - 1600*v**25*w**2 - 1024*v**25)/w**5 + v**30"
      ]
     },
     "metadata": {},
     "output_type": "display_data"
    }
   ],
   "source": [
    "# Check of the above:\n",
    "factors = [tp.subs(p, e**k) for k in range(5)]\n",
    "result = reduce_multiply(factors)\n",
    "\n",
    "result = Poly(result, u)\n",
    "\n",
    "\n",
    "new_coeffs = []\n",
    "\n",
    "\n",
    "for coeff in result.all_coeffs():\n",
    "    new_coeffs.append(e_simp(coeff))\n",
    "\n",
    "\n",
    "result = Poly.from_list(new_coeffs, u).as_expr()\n",
    "result"
   ]
  },
  {
   "cell_type": "markdown",
   "metadata": {},
   "source": [
    "Lastly, recognizing that the icosahedral edge midpoints are located at \n",
    "\n",
    "$$\n",
    "\n",
    "\\cos\\alpha = \\frac1{2\\,\\sin(\\pi/5)} \\quad\\leftrightarrow\\quad \\cot\\alpha = \\phi \\,,\n",
    "\n",
    "\n",
    "$$\n",
    "\n",
    "we find that $\\tan(2\\alpha) = 2\\phi/(\\phi^2-1) = 2$ and so\n",
    "\n",
    "$$\n",
    "\n",
    "\\begin{align*}\n",
    "T(u,v) := T(u,v, 2) &= u^{30} +522\\left(u^{25}\\,v^5-u^5\\,v^{25}\\right) \\\\\n",
    "&- 10005\\left(u^{20}\\,v^{10} + u^{10}\\,v^{20}\\right) + v^{30} \\,.\n",
    "\\end{align*}\n",
    "\n",
    "$$"
   ]
  },
  {
   "cell_type": "code",
   "execution_count": null,
   "metadata": {},
   "outputs": [
    {
     "name": "stdout",
     "output_type": "stream",
     "text": [
      "2\n"
     ]
    },
    {
     "data": {
      "text/latex": [
       "$\\displaystyle u^{30} + 522 u^{25} v^{5} - 10005 u^{20} v^{10} - 10005 u^{10} v^{20} - 522 u^{5} v^{25} + v^{30}$"
      ],
      "text/plain": [
       "u**30 + 522*u**25*v**5 - 10005*u**20*v**10 - 10005*u**10*v**20 - 522*u**5*v**25 + v**30"
      ]
     },
     "metadata": {},
     "output_type": "display_data"
    }
   ],
   "source": [
    "# Check of the above:\n",
    "phi = symbols(\"phi\")\n",
    "print(simplify((2 * phi / (phi**2 - 1)).subs(phi, (1 + sqrt(5)) / 2)))\n",
    "\n",
    "simplify(result.subs(w, 2))"
   ]
  },
  {
   "cell_type": "code",
   "execution_count": null,
   "metadata": {},
   "outputs": [
    {
     "data": {
      "text/latex": [
       "$\\displaystyle \\left(u^{2} + v^{2}\\right) \\left(u^{4} + 2 u^{3} v - 6 u^{2} v^{2} - 2 u v^{3} + v^{4}\\right) \\left(u^{8} - u^{6} v^{2} + u^{4} v^{4} - u^{2} v^{6} + v^{8}\\right) \\left(u^{8} - 6 u^{7} v + 17 u^{6} v^{2} - 18 u^{5} v^{3} + 25 u^{4} v^{4} + 18 u^{3} v^{5} + 17 u^{2} v^{6} + 6 u v^{7} + v^{8}\\right) \\left(u^{8} + 4 u^{7} v + 17 u^{6} v^{2} + 22 u^{5} v^{3} + 5 u^{4} v^{4} - 22 u^{3} v^{5} + 17 u^{2} v^{6} - 4 u v^{7} + v^{8}\\right)$"
      ],
      "text/plain": [
       "(u**2 + v**2)*(u**4 + 2*u**3*v - 6*u**2*v**2 - 2*u*v**3 + v**4)*(u**8 - u**6*v**2 + u**4*v**4 - u**2*v**6 + v**8)*(u**8 - 6*u**7*v + 17*u**6*v**2 - 18*u**5*v**3 + 25*u**4*v**4 + 18*u**3*v**5 + 17*u**2*v**6 + 6*u*v**7 + v**8)*(u**8 + 4*u**7*v + 17*u**6*v**2 + 22*u**5*v**3 + 5*u**4*v**4 - 22*u**3*v**5 + 17*u**2*v**6 - 4*u*v**7 + v**8)"
      ]
     },
     "metadata": {},
     "output_type": "display_data"
    }
   ],
   "source": [
    "_.factor()"
   ]
  },
  {
   "cell_type": "code",
   "execution_count": null,
   "metadata": {},
   "outputs": [
    {
     "name": "stdout",
     "output_type": "stream",
     "text": [
      "[sin(alpha/2)/cos(alpha/2), -cos(alpha/2)/sin(alpha/2), (sin(alpha/2) + cos(alpha/2))/(-sin(alpha/2) + cos(alpha/2)), (sin(alpha/2) - cos(alpha/2))/(sin(alpha/2) + cos(alpha/2)), (sin(alpha/2) + I*cos(alpha/2))/(-I*sin(alpha/2) + cos(alpha/2)), (sin(alpha/2) - I*cos(alpha/2))/(I*sin(alpha/2) + cos(alpha/2))]\n"
     ]
    },
    {
     "data": {
      "text/latex": [
       "$\\displaystyle u^{6} + \\frac{4 u^{5} v}{\\tan{\\left(2 \\alpha \\right)}} - 5 u^{4} v^{2} - 5 u^{2} v^{4} - \\frac{4 u v^{5}}{\\tan{\\left(2 \\alpha \\right)}} + v^{6}$"
      ],
      "text/plain": [
       "u**6 + 4*u**5*v/tan(2*alpha) - 5*u**4*v**2 - 5*u**2*v**4 - 4*u*v**5/tan(2*alpha) + v**6"
      ]
     },
     "metadata": {},
     "output_type": "display_data"
    }
   ],
   "source": [
    "zps = [rotate(z, alpha) for z in zs]\n",
    "print(zps)\n",
    "tp = reduce_multiply([u - z * v for z in zps])\n",
    "tp = simplify(tp.expand())\n",
    "tp"
   ]
  },
  {
   "cell_type": "code",
   "execution_count": null,
   "metadata": {},
   "outputs": [
    {
     "data": {
      "text/latex": [
       "$\\displaystyle \\left(u^{2} + v^{2}\\right) \\left(u^{2} - 2 u v - v^{2}\\right) \\left(u^{2} + 2 u v - v^{2}\\right)$"
      ],
      "text/plain": [
       "(u**2 + v**2)*(u**2 - 2*u*v - v**2)*(u**2 + 2*u*v - v**2)"
      ]
     },
     "metadata": {},
     "output_type": "display_data"
    }
   ],
   "source": [
    "tp.subs(alpha, pi / 4).factor()"
   ]
  },
  {
   "cell_type": "code",
   "execution_count": null,
   "metadata": {},
   "outputs": [
    {
     "data": {
      "text/latex": [
       "$\\displaystyle c_{5} \\left(c_{5}^{2} ca^{3} + c_{5} ca^{3} - 2 c_{5} ca^{2} - c_{5} ca + ca^{3} - ca^{2} + 1\\right)$"
      ],
      "text/plain": [
       "c5*(c5**2*ca**3 + c5*ca**3 - 2*c5*ca**2 - c5*ca + ca**3 - ca**2 + 1)"
      ]
     },
     "metadata": {},
     "output_type": "display_data"
    }
   ],
   "source": [
    "ca, c5, sa, s5 = symbols(\"ca c5 sa s5\")\n",
    "(\n",
    "    -ca * c5**2\n",
    "    + c5\n",
    "    + ca**3 * c5**2\n",
    "    - c5 * ca**2\n",
    "    + ca**3 * c5\n",
    "    + ca**3 * c5**3\n",
    "    - 2 * ca**2 * c5**2\n",
    ").factor()"
   ]
  },
  {
   "cell_type": "code",
   "execution_count": null,
   "metadata": {},
   "outputs": [
    {
     "ename": "NameError",
     "evalue": "name 'N' is not defined",
     "output_type": "error",
     "traceback": [
      "\u001b[0;31m---------------------------------------------------------------------------\u001b[0m\n",
      "\u001b[0;31mNameError\u001b[0m                                 Traceback (most recent call last)\n",
      "Cell \u001b[0;32mIn[84], line 12\u001b[0m\n",
      "\u001b[1;32m      1\u001b[0m k \u001b[38;5;241m=\u001b[39m \u001b[38;5;241m3\u001b[39m\n",
      "\u001b[1;32m      2\u001b[0m xi \u001b[38;5;241m=\u001b[39m (\n",
      "\u001b[1;32m      3\u001b[0m     \u001b[38;5;241m2\u001b[39m\n",
      "\u001b[1;32m      4\u001b[0m     \u001b[38;5;241m*\u001b[39m cos(\u001b[38;5;241m2\u001b[39m \u001b[38;5;241m*\u001b[39m k \u001b[38;5;241m*\u001b[39m pi \u001b[38;5;241m/\u001b[39m \u001b[38;5;241m5\u001b[39m)\n",
      "\u001b[0;32m   (...)\u001b[0m\n",
      "\u001b[1;32m      7\u001b[0m     \u001b[38;5;241m/\u001b[39m (\u001b[38;5;241m1\u001b[39m \u001b[38;5;241m+\u001b[39m (ca \u001b[38;5;241m*\u001b[39m c5 \u001b[38;5;241m-\u001b[39m sqrt(\u001b[38;5;241m3\u001b[39m) \u001b[38;5;241m/\u001b[39m \u001b[38;5;241m2\u001b[39m) \u001b[38;5;241m*\u001b[39m\u001b[38;5;241m*\u001b[39m \u001b[38;5;241m2\u001b[39m \u001b[38;5;241m/\u001b[39m sa\u001b[38;5;241m*\u001b[39m\u001b[38;5;241m*\u001b[39m\u001b[38;5;241m2\u001b[39m)\n",
      "\u001b[1;32m      8\u001b[0m )\n",
      "\u001b[1;32m      9\u001b[0m eta \u001b[38;5;241m=\u001b[39m (\n",
      "\u001b[1;32m     10\u001b[0m     \u001b[38;5;241m2\u001b[39m\n",
      "\u001b[1;32m     11\u001b[0m     \u001b[38;5;241m*\u001b[39m sin(\u001b[38;5;241m2\u001b[39m \u001b[38;5;241m*\u001b[39m k \u001b[38;5;241m*\u001b[39m pi \u001b[38;5;241m/\u001b[39m \u001b[38;5;241m5\u001b[39m)\n",
      "\u001b[0;32m---> 12\u001b[0m     \u001b[38;5;241m*\u001b[39m (ca \u001b[38;5;241m*\u001b[39m c5 \u001b[38;5;241m-\u001b[39m \u001b[43mN\u001b[49m \u001b[38;5;241m/\u001b[39m \u001b[38;5;241m2\u001b[39m)\n",
      "\u001b[1;32m     13\u001b[0m     \u001b[38;5;241m/\u001b[39m sa\n",
      "\u001b[1;32m     14\u001b[0m     \u001b[38;5;241m/\u001b[39m (\u001b[38;5;241m1\u001b[39m \u001b[38;5;241m+\u001b[39m (ca \u001b[38;5;241m*\u001b[39m c5 \u001b[38;5;241m-\u001b[39m sqrt(\u001b[38;5;241m3\u001b[39m) \u001b[38;5;241m/\u001b[39m \u001b[38;5;241m2\u001b[39m) \u001b[38;5;241m*\u001b[39m\u001b[38;5;241m*\u001b[39m \u001b[38;5;241m2\u001b[39m \u001b[38;5;241m/\u001b[39m sa\u001b[38;5;241m*\u001b[39m\u001b[38;5;241m*\u001b[39m\u001b[38;5;241m2\u001b[39m)\n",
      "\u001b[1;32m     15\u001b[0m )\n",
      "\u001b[1;32m     16\u001b[0m zeta \u001b[38;5;241m=\u001b[39m \u001b[38;5;241m-\u001b[39m(\u001b[38;5;241m1\u001b[39m \u001b[38;5;241m-\u001b[39m (ca \u001b[38;5;241m*\u001b[39m c5 \u001b[38;5;241m-\u001b[39m sqrt(\u001b[38;5;241m3\u001b[39m) \u001b[38;5;241m/\u001b[39m \u001b[38;5;241m2\u001b[39m) \u001b[38;5;241m*\u001b[39m\u001b[38;5;241m*\u001b[39m \u001b[38;5;241m2\u001b[39m \u001b[38;5;241m/\u001b[39m sa\u001b[38;5;241m*\u001b[39m\u001b[38;5;241m*\u001b[39m\u001b[38;5;241m2\u001b[39m) \u001b[38;5;241m/\u001b[39m (\n",
      "\u001b[1;32m     17\u001b[0m     \u001b[38;5;241m1\u001b[39m \u001b[38;5;241m+\u001b[39m (ca \u001b[38;5;241m*\u001b[39m c5 \u001b[38;5;241m-\u001b[39m sqrt(\u001b[38;5;241m3\u001b[39m) \u001b[38;5;241m/\u001b[39m \u001b[38;5;241m2\u001b[39m) \u001b[38;5;241m*\u001b[39m\u001b[38;5;241m*\u001b[39m \u001b[38;5;241m2\u001b[39m \u001b[38;5;241m/\u001b[39m sa\u001b[38;5;241m*\u001b[39m\u001b[38;5;241m*\u001b[39m\u001b[38;5;241m2\u001b[39m\n",
      "\u001b[1;32m     18\u001b[0m )\n",
      "\u001b[1;32m     19\u001b[0m xi\n",
      "\n",
      "\u001b[0;31mNameError\u001b[0m: name 'N' is not defined"
     ]
    }
   ],
   "source": [
    "k = 3\n",
    "xi = (\n",
    "    2\n",
    "    * cos(2 * k * pi / 5)\n",
    "    * (ca * c5 - sqrt(3) / 2)\n",
    "    / sa\n",
    "    / (1 + (ca * c5 - sqrt(3) / 2) ** 2 / sa**2)\n",
    ")\n",
    "eta = (\n",
    "    2\n",
    "    * sin(2 * k * pi / 5)\n",
    "    * (ca * c5 - N / 2)\n",
    "    / sa\n",
    "    / (1 + (ca * c5 - sqrt(3) / 2) ** 2 / sa**2)\n",
    ")\n",
    "zeta = -(1 - (ca * c5 - sqrt(3) / 2) ** 2 / sa**2) / (\n",
    "    1 + (ca * c5 - sqrt(3) / 2) ** 2 / sa**2\n",
    ")\n",
    "xi"
   ]
  },
  {
   "cell_type": "code",
   "execution_count": null,
   "metadata": {},
   "outputs": [],
   "source": [
    "zeta"
   ]
  },
  {
   "cell_type": "code",
   "execution_count": null,
   "metadata": {},
   "outputs": [],
   "source": [
    "expr = 2 / sqrt(3) * (xi * sa + zeta * ca * c5)\n",
    "simplify(\n",
    "    expr.subs(ca, phi / sqrt(1 + phi**2))\n",
    "    .subs(sa, 1 / sqrt(1 + phi**2))\n",
    "    .subs(c5, cos(pi / 5))\n",
    "    .expand()\n",
    "    .subs(phi, (1 + sqrt(5)) / 2)\n",
    ")"
   ]
  },
  {
   "cell_type": "code",
   "execution_count": null,
   "metadata": {},
   "outputs": [],
   "source": [
    "expr2 = xi**2 + eta**2 + zeta**2\n",
    "expr2.subs(ca, phi / sqrt(1 + phi**2)).subs(sa, 1 / sqrt(1 + phi**2)).subs(\n",
    "    s5, sin(pi / 5)\n",
    ").subs(c5, cos(pi / 5)).subs(phi, (1 + sqrt(5)) / 2).evalf()"
   ]
  },
  {
   "cell_type": "code",
   "execution_count": null,
   "metadata": {},
   "outputs": [],
   "source": [
    "expr3 = 4 / 3 * (sa**2 + (ca * c5) ** 2)\n",
    "expr3.subs(ca, phi / sqrt(1 + phi**2)).subs(sa, 1 / sqrt(1 + phi**2)).subs(\n",
    "    s5, sin(pi / 5)\n",
    ").subs(c5, cos(pi / 5)).subs(phi, (1 + sqrt(5)) / 2).evalf()"
   ]
  },
  {
   "cell_type": "code",
   "execution_count": null,
   "metadata": {},
   "outputs": [],
   "source": [
    "ck, sk, cd, sd = symbols(\"ck sk cd sd\")\n",
    "expr3 = (ck * sd + sk * cd) * xi + (ck * cd - sk * sd) * zeta\n",
    "simplify(\n",
    "    expr3.subs(ca, phi / sqrt(1 + phi**2))\n",
    "    .subs(sa, 1 / sqrt(1 + phi**2))\n",
    "    .subs(ck, (1 + phi) / sqrt(3 * (2 + phi)))\n",
    "    .subs(c5, cos(pi / 5))\n",
    "    .subs(sk, 2 / sqrt(3 * (2 + phi)))\n",
    "    .expand()\n",
    "    .subs(sd, sqrt(1 - 1 / 9))\n",
    "    .subs(cd, -1 / 3)\n",
    "    .subs(phi, (1 + sqrt(5)) / 2)\n",
    ").evalf()"
   ]
  },
  {
   "cell_type": "code",
   "execution_count": null,
   "metadata": {},
   "outputs": [],
   "source": [
    "from sympy import acos\n",
    "\n",
    "\n",
    "acos(_).evalf()"
   ]
  },
  {
   "cell_type": "code",
   "execution_count": null,
   "metadata": {},
   "outputs": [],
   "source": [
    "(_ / pi).evalf()"
   ]
  },
  {
   "cell_type": "code",
   "execution_count": null,
   "metadata": {},
   "outputs": [],
   "source": [
    "simplify(11640 / 100000)"
   ]
  },
  {
   "cell_type": "code",
   "execution_count": null,
   "metadata": {},
   "outputs": [],
   "source": [
    "ks = [sp1, sp2, sp3, sp4]\n",
    "phi = reduce_multiply([u - p * z * v for z in ks])\n",
    "phi = simplify(phi.expand())\n",
    "phi"
   ]
  },
  {
   "cell_type": "code",
   "execution_count": null,
   "metadata": {},
   "outputs": [],
   "source": [
    "q = symbols(\"q\")"
   ]
  },
  {
   "cell_type": "code",
   "execution_count": null,
   "metadata": {},
   "outputs": [],
   "source": [
    "phase = -Rational(1, 2) + I * sqrt(3) * Rational(1, 2)\n",
    "mag = sqrt(2) * Rational(1, 2)\n",
    "\n",
    "ca2, sa2 = symbols(\"ca2 sa2\")\n",
    "# ca2, sa2 = cos(alpha / 2), sin(alpha / 2)\n",
    "\n",
    "\n",
    "def rotate(z, alpha, prephase=1):\n",
    "    if z is oo:\n",
    "        return -ca2 / sa2\n",
    "    return (ca2 * prephase * z + sa2) / (-sa2 * prephase * z + ca2)\n",
    "\n",
    "\n",
    "ks = [oo, mag, mag * phase, mag * conjugate(phase)]\n",
    "kps = [rotate(z, alpha, prephase=q) for z in ks]\n",
    "phip = reduce_multiply([u - p * z * v for z in kps])\n",
    "phip = phip.expand()\n",
    "phip.factor()"
   ]
  },
  {
   "cell_type": "code",
   "execution_count": null,
   "metadata": {},
   "outputs": [],
   "source": [
    "rotate(ks[0], 0)"
   ]
  },
  {
   "cell_type": "code",
   "execution_count": null,
   "metadata": {},
   "outputs": [],
   "source": [
    "poly = Poly(phip, u)\n",
    "coeffs = poly.all_coeffs()\n",
    "new_coeffs = []\n",
    "for coeff in coeffs:\n",
    "    new_coeffs.append(simplify(coeff.expand()))\n",
    "new_poly = Poly.from_list(new_coeffs, u).as_expr()\n",
    "new_poly"
   ]
  },
  {
   "cell_type": "code",
   "execution_count": null,
   "metadata": {},
   "outputs": [],
   "source": [
    "def reduce_multiply(any_list):\n",
    "    return reduce(lambda x, y: (x * y), any_list)\n",
    "\n",
    "\n",
    "factors = [new_poly.subs(p, e**k) for k in range(5)]\n",
    "print(\"here\")\n",
    "result = reduce_multiply(factors)\n",
    "\n",
    "print(\"here\")\n",
    "result = Poly(result, u)\n",
    "print(\"here\")\n",
    "\n",
    "# new_coeffs = []\n",
    "\n",
    "\n",
    "# for coeff in result.all_coeffs():\n",
    "#     print(\"here\")\n",
    "#     new_coeffs.append(e_simp(coeff, cleanup=False))\n",
    "\n",
    "\n",
    "# result = Poly.from_list(new_coeffs, u).as_expr()\n",
    "result"
   ]
  },
  {
   "cell_type": "code",
   "execution_count": null,
   "metadata": {},
   "outputs": [],
   "source": [
    "simplify(coeffs[-1].expand().factor())"
   ]
  },
  {
   "cell_type": "code",
   "execution_count": null,
   "metadata": {},
   "outputs": [],
   "source": [
    "simplify(coeffs[3].expand().factor())"
   ]
  },
  {
   "cell_type": "code",
   "execution_count": null,
   "metadata": {},
   "outputs": [],
   "source": [
    "simplify(coeffs[2].expand().factor())"
   ]
  },
  {
   "cell_type": "code",
   "execution_count": null,
   "metadata": {},
   "outputs": [],
   "source": [
    "simplify(\n",
    "    v4coeff\n",
    "    # .subs(q, 1 / sqrt(2) * (1 + I))\n",
    "    .subs(cos(alpha / 2), sqrt((1 + 1 / sqrt(3)) / 2))\n",
    "    .subs(sin(alpha / 2), sqrt((1 - 1 / sqrt(3)) / 2))\n",
    "    .expand()\n",
    "    .radsimp()\n",
    "    .factor()\n",
    ")"
   ]
  },
  {
   "cell_type": "code",
   "execution_count": null,
   "metadata": {},
   "outputs": [],
   "source": [
    "expr = sa / (sqrt(3) / 2 - ca * c5)\n",
    "phi = symbols(\"phi\")\n",
    "expr.subs(sa, 1 / sqrt(1 + phi**2)).subs(ca, phi / sqrt(1 + phi**2)).subs(\n",
    "    c5, phi / 2\n",
    ").subs(phi, (1 + sqrt(5)) / 2).evalf()"
   ]
  },
  {
   "cell_type": "code",
   "execution_count": null,
   "metadata": {},
   "outputs": [],
   "source": [
    "kappa"
   ]
  },
  {
   "cell_type": "code",
   "execution_count": null,
   "metadata": {},
   "outputs": [],
   "source": [
    "from sympy import atan\n",
    "\n",
    "kappa = symbols(\"kappa\")\n",
    "\n",
    "(1 / tan(kappa / 2)).subs(kappa, atan((2 / (1 + phi)))).subs(\n",
    "    phi, (1 + sqrt(5)) / 2\n",
    ").evalf()"
   ]
  }
 ],
 "metadata": {
  "language_info": {
   "name": "python"
  }
 },
 "nbformat": 4,
 "nbformat_minor": 2
}
