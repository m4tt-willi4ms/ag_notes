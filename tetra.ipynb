{
 "cells": [
  {
   "cell_type": "code",
   "execution_count": 25,
   "metadata": {},
   "outputs": [],
   "source": [
    "# Imports\n",
    "from functools import reduce\n",
    "from sympy import (\n",
    "    I,\n",
    "    symbols,\n",
    "    sqrt,\n",
    "    Rational,\n",
    "    conjugate,\n",
    "    simplify,\n",
    "    Poly,\n",
    "    Matrix,\n",
    "    expand,\n",
    "    diff,\n",
    "    exp,\n",
    "    cos,\n",
    "    sin,\n",
    "    oo,\n",
    "    pi,\n",
    ")"
   ]
  },
  {
   "cell_type": "markdown",
   "metadata": {},
   "source": [
    "# Notes\n",
    "\n",
    "## Preliminaries\n",
    "\n",
    "Rotation (in three dimensions) of the vector ${\\bf r}$ about the direction $\\hat{\\bf n}$ by an angle $\\theta$:\n",
    "\n",
    "$$\n",
    "{\\bf r}' = {\\bf r}\\,\\cos\\theta + ({\\bf r}\\cdot\\hat{\\bf n}) \\hat{\\bf n}\\, (1 - \\cos\\theta) - {\\bf r} \\times \\hat{\\bf n} \\, \\sin\\theta\n",
    "$$\n",
    "\n",
    "or, in components,\n",
    "\n",
    "$$\n",
    "\\begin{align*}\n",
    "r'^i &= \\left[{\\delta^i}_j\\,\\cos\\theta + n^in_j\\,(1-\\cos\\theta)-{\\epsilon^i}_{jk}\\,n^k\\,\\sin\\theta\\right] r^j \\\\\n",
    ":&= {\\cal O^i}_j\\,r^j \\,.\n",
    "\\end{align*}\n",
    "$$\n",
    "\n",
    "Introducing the variables \n",
    "\n",
    "$$\n",
    "a_i = n_i\\,\\sin\\left(\\theta/2\\right) \\,,\\quad d:= \\cos\\left(\\theta /2\\right) \\,,\n",
    "$$\n",
    "\n",
    "we see the rotation matrix ${{\\cal O}^i}_j$ can be rewritten as follows:\n",
    "\n",
    "$$\n",
    "{{\\cal O}^i}_j = \\left(2\\,d^2 -1\\right){\\delta^i}_j+ 2\\left( a^i\\,a_j - {\\epsilon^i}_{jk}\\,a^k\\,d\\right) \\,.\n",
    "$$\n",
    "(Recall that $\\cos\\theta = 2\\,\\cos^2\\left(\\theta/2\\right) -1 = 1-2\\,\\sin^2\\left(\\theta/2\\right)$ and that $\\sin\\theta = 2\\,\\sin\\left(\\theta/2\\right)\\,\\cos\\left(\\theta/2\\right)$.)\n",
    "\n",
    "The orthogonality of ${\\cal O}$ can be verified by computing ${\\cal O_k}^i\\,{\\cal O^k}_j$ using the expression above, which gives\n",
    "\n",
    "$$\n",
    "{({\\cal O}^T {\\cal O})^i}_j = {\\delta^i}_j + 4\\left(d^2 + {\\bf a}^2 -1\\right)\\left(d^2 \\,{\\delta^i}_j + \n",
    "a^ia_j\\right) = {\\delta^i}_j\n",
    "$$\n",
    "where the second equality follows from the definition of ${\\bf a}$ and $d$, along with the trig identity $\\sin^2\\left(\\theta/2\\right) + \\cos^2\\left(\\theta/2\\right) = 1$ which enforces the constraint\n",
    "\n",
    "$$\n",
    "{\\bf a}^2 + d^2 = 1 \\,.\n",
    "$$"
   ]
  },
  {
   "cell_type": "code",
   "execution_count": 26,
   "metadata": {},
   "outputs": [
    {
     "data": {
      "text/latex": [
       "$\\displaystyle \\left[\\begin{matrix}1 & 0 & 0\\\\0 & 1 & 0\\\\0 & 0 & 1\\end{matrix}\\right]$"
      ],
      "text/plain": [
       "Matrix([\n",
       "[1, 0, 0],\n",
       "[0, 1, 0],\n",
       "[0, 0, 1]])"
      ]
     },
     "execution_count": 26,
     "metadata": {},
     "output_type": "execute_result"
    }
   ],
   "source": [
    "# Check of the above:\n",
    "a1, b1, c1, d1 = symbols(\"a1 b1 c1 d1\")\n",
    "\n",
    "\n",
    "def o_mat(a, b, c, d):\n",
    "    return Matrix(\n",
    "        [\n",
    "            [2 * d**2 - 1 + 2 * a**2, 2 * (a * b - c * d), 2 * (a * c + b * d)],\n",
    "            [2 * (a * b + c * d), 2 * d**2 - 1 + 2 * b**2, 2 * (b * c - a * d)],\n",
    "            [2 * (a * c - b * d), 2 * (b * c + a * d), 2 * d**2 - 1 + 2 * c**2],\n",
    "        ]\n",
    "    )\n",
    "\n",
    "\n",
    "O1 = o_mat(a1, b1, c1, d1)\n",
    "expand((O1 * O1.transpose()).subs(d1, sqrt(1 - a1**2 - b1**2 - c1**2)))"
   ]
  },
  {
   "cell_type": "markdown",
   "metadata": {},
   "source": [
    "Two such rotations can be composed as follows:\n",
    "\n",
    "$$\n",
    "\n",
    "{\\cal O}_C := {\\cal O}_B \\cdot {\\cal O}_A\n",
    "\n",
    "$$\n",
    "\n",
    "where, if ${\\cal O}_A = {\\cal O}_A({\\bf a}_A, d_A)$ and ${\\cal O}_B = {\\cal\n",
    "O}_B({\\bf a}_B, d_B)$ then ${\\cal O}_C = {\\cal O}_C({\\bf a}_C, d_C)$ with\n",
    "\n",
    "$$\n",
    "\n",
    "\\begin{align*}\n",
    "a_{1C} &= a_{1A} d_B + a_{1B} d_A - a_{2A} a_{3B} + a_{2B} a_{3A} \\\\\n",
    "a_{2C} &= a_{2A} d_B + a_{2B} d_A - a_{3A} a_{1B} + a_{3B} a_{1A} \\\\\n",
    "a_{3C} &= a_{3A} d_B + a_{3B} d_A - a_{1A} a_{2B} + a_{1B} a_{2A} \\\\\n",
    "d_C &= -a_{1A} a_{1B} - a_{2A} a_{2B} - a_{3A} a_{3B} + d_A d_B \\,.\n",
    "\\end{align*}\n",
    "\n",
    "$$"
   ]
  },
  {
   "cell_type": "code",
   "execution_count": 27,
   "metadata": {},
   "outputs": [
    {
     "data": {
      "text/latex": [
       "$\\displaystyle \\left[\\begin{matrix}0 & 0 & 0\\\\0 & 0 & 0\\\\0 & 0 & 0\\end{matrix}\\right]$"
      ],
      "text/plain": [
       "Matrix([\n",
       "[0, 0, 0],\n",
       "[0, 0, 0],\n",
       "[0, 0, 0]])"
      ]
     },
     "execution_count": 27,
     "metadata": {},
     "output_type": "execute_result"
    }
   ],
   "source": [
    "# Check of the above:\n",
    "a2, b2, c2, d2 = symbols(\"a2 b2 c2 d2\")\n",
    "O2 = o_mat(a2, b2, c2, d2)\n",
    "\n",
    "expand(\n",
    "    (\n",
    "        O2 * O1\n",
    "        - o_mat(\n",
    "            a1 * d2 + a2 * d1 - b1 * c2 + b2 * c1,\n",
    "            b1 * d2 + b2 * d1 - c1 * a2 + c2 * a1,\n",
    "            c1 * d2 + c2 * d1 - a1 * b2 + a2 * b1,\n",
    "            -a1 * a2 - b1 * b2 - c1 * c2 + d1 * d2,\n",
    "        )\n",
    "    )\n",
    "    .subs(d1, sqrt(1 - a1**2 - b1**2 - c1**2))\n",
    "    .subs(d2, sqrt(1 - a2**2 - b2**2 - c2**2))\n",
    ")"
   ]
  },
  {
   "cell_type": "markdown",
   "metadata": {},
   "source": [
    "## Stereographic Projection\n",
    "\n",
    "In what follows, it's helpful to map the rotations on the sphere to the complex\n",
    "plane, by performing an equatorial spherical projection from the point where\n",
    "$\\hat{\\bf n} = (0, 0, 1)$ down onto the complex plane. Denoting a general point\n",
    "on the unit sphere as $\\hat{\\bf r} = (\\xi,\\eta,\\zeta)$ in the general case, and\n",
    "writing $z = x + iy$ with real and imaginary axes parallel to the $(\\xi \\eta)$\n",
    "plane, we find (using similar triangles) that\n",
    "\n",
    "$$\n",
    "z = x + i\\, y = \\frac{\\xi +i\\,\\eta}{1-\\zeta} \\,.\n",
    "$$\n",
    "\n",
    "Inverting, we find\n",
    "\n",
    "$$ \n",
    "\n",
    "\\xi = \\frac{z + \\bar{z}}r \\,,\\quad \\eta = \\frac{i(\\bar{z} - z)}r \\,,\\quad\n",
    "\\zeta = \\frac{z\\bar{z} -1}r \n",
    "\n",
    "$$\n",
    "\n",
    "where we define $r := 1 + z\\bar{z}$."
   ]
  },
  {
   "cell_type": "markdown",
   "metadata": {},
   "source": [
    "\n",
    "Rotations about the $\\zeta$-axis are particularly simple in this representation,\n",
    "as they correspond to multiplying $z$ by a pure phase:\n",
    "\n",
    "$$ \n",
    "\n",
    "z \\to z' = e^{i\\theta} \\, z \\quad\\leftrightarrow\\quad \\begin{array}{cc}\\xi' &=\n",
    "\\xi\\,\\cos\\theta\n",
    "- \\eta\\,\\sin\\theta\\\\\n",
    "\\eta' &= \\xi\\,\\sin\\theta + \\eta\\,\\cos\\theta\n",
    "\\end{array}\\,. \n",
    "\n",
    "$$\n",
    "\n",
    "If we wish to write an arbitrary rotation of a point on the sphere about some\n",
    "direction specified by $\\hat{\\bf n}$, $\\theta$ (or, equivalently, ${\\bf a}$,\n",
    "$d$), we can leverage the simplicity of the above by noting that the rotation\n",
    "leaves the antipodal points $z_1=0$, $z_2=\\infty$ fixed, and that a more general\n",
    "rotation about the direction $\\hat{\\bf n}$ should do the same for the points\n",
    "\n",
    "$$\n",
    "\n",
    "z_1 = \\frac{n_1+i\\,n_2}{1-n_3} \\,,\\quad z_2 = \\frac{-n_1-i\\,n_2}{1+n_3} \\,,\n",
    "\n",
    "$$\n",
    "\n",
    "which satisfy the antipodal relation $z_1\\,\\bar z_2 = -1$, which can be used to\n",
    "demonstrate the following other useful relations:\n",
    "\n",
    "$$\n",
    "\n",
    "\\tfrac{z_1 + z_2}{z_1 - z_2} = n_3 \\,,\\quad \\tfrac{2 z_1 z_2}{z_2 - z_1} = n_1 +\n",
    "i\\,n_2 \\,,\\quad \\frac2{z_1 - z_2} = n_1 -i\\,n_2\\,.\n",
    "\n",
    "$$"
   ]
  },
  {
   "cell_type": "code",
   "execution_count": 28,
   "metadata": {},
   "outputs": [],
   "source": [
    "n1, n2, n3 = symbols(\"n1 n2 n3\", real=True)\n",
    "z1 = (n1 + I * n2) / (1 - n3)\n",
    "z2 = (-n1 - I * n2) / (1 + n3)"
   ]
  },
  {
   "cell_type": "code",
   "execution_count": 29,
   "metadata": {},
   "outputs": [
    {
     "data": {
      "text/latex": [
       "$\\displaystyle -1$"
      ],
      "text/plain": [
       "-1"
      ]
     },
     "execution_count": 29,
     "metadata": {},
     "output_type": "execute_result"
    }
   ],
   "source": [
    "simplify((z1 * conjugate(z2)).subs(n3, sqrt(1 - n1**2 - n2**2)))"
   ]
  },
  {
   "cell_type": "code",
   "execution_count": 30,
   "metadata": {},
   "outputs": [
    {
     "data": {
      "text/latex": [
       "$\\displaystyle n_{3}$"
      ],
      "text/plain": [
       "n3"
      ]
     },
     "execution_count": 30,
     "metadata": {},
     "output_type": "execute_result"
    }
   ],
   "source": [
    "simplify((z1 + z2) / (z1 - z2))"
   ]
  },
  {
   "cell_type": "code",
   "execution_count": 31,
   "metadata": {},
   "outputs": [
    {
     "data": {
      "text/latex": [
       "$\\displaystyle n_{1} + i n_{2}$"
      ],
      "text/plain": [
       "n1 + I*n2"
      ]
     },
     "execution_count": 31,
     "metadata": {},
     "output_type": "execute_result"
    }
   ],
   "source": [
    "simplify((2 * z1 * z2) / (z2 - z1))"
   ]
  },
  {
   "cell_type": "code",
   "execution_count": 32,
   "metadata": {},
   "outputs": [
    {
     "data": {
      "text/latex": [
       "$\\displaystyle n_{1} - i n_{2}$"
      ],
      "text/plain": [
       "n1 - I*n2"
      ]
     },
     "execution_count": 32,
     "metadata": {},
     "output_type": "execute_result"
    }
   ],
   "source": [
    "simplify((2 / (z1 - z2)).subs(n3, sqrt(1 - n1**2 - n2**2)))"
   ]
  },
  {
   "cell_type": "markdown",
   "metadata": {},
   "source": [
    "As such, the rotation leaving such points fixed is\n",
    "\n",
    "$$\n",
    "\n",
    "\\frac{z'-z_2}{z'-z_1} = e^{i\\theta} \\,\\frac{z-z_2}{z-z_1} \\,.\n",
    "\n",
    "$$\n",
    "\n",
    "Solving for $z'$, the above general rotation can be expressed as\n",
    "\n",
    "$$\n",
    "\\begin{align*} \n",
    "\n",
    "z \\to z' &= \\frac{z\\left[(z_1 - z_2)\\cos(\\theta/2) + i\n",
    "(z_1+z_2)\\,\\sin(\\theta/2)\\right]-2i\\sin(\\theta/2)z_1 z_2}{2z\\,i\\sin(\\theta/2) +\n",
    "\\left[(z_1 - z_2)\\cos(\\theta/2)-i(z_1+z_2)\\sin(\\theta/2)\\right]} \\\\\n",
    "&= \\frac{(d+i\\,a_3)z - (a_2-i\\,a_1)}{(a_2+i\\,a_1)z + (d-i\\,a_3)}\n",
    "\n",
    "\\end{align*}\n",
    "\n",
    "$$\n",
    "\n",
    "where we make use of the notation introduced above which interrelates\n",
    "$\\{\\hat{\\bf n}, \\theta\\}$ with $\\{{\\bf a}, d\\}$. (The above can be readily\n",
    "checked by substituting $\\hat {\\bf r}' =(\\xi',\\eta',\\zeta') = {\\cal O} \\cdot\n",
    "\\hat{\\bf r}$ into the expression $z' = (\\xi' + i\\,\\eta')/(1-\\zeta')$.)"
   ]
  },
  {
   "cell_type": "markdown",
   "metadata": {},
   "source": [
    "## Fractionalized Coordinates\n",
    "\n",
    "Lastly, to re-interpret the above transformation in the complex plane as a\n",
    "homogeneous one, it is conventional to write $z$ in terms of its numerator and\n",
    "denominator in projective coordinates:\n",
    "\n",
    "$$\n",
    "\n",
    "z = \\frac uv \\,.\n",
    "\n",
    "$$\n",
    "\n",
    "In terms of $u$, $v$, the transformation above is given by\n",
    "\n",
    "$$\n",
    "\n",
    "\\begin{align*}\n",
    "u' &= (d+i\\,a_3)u - (a_2-i\\,a_1)v \\\\\n",
    "v' &= (a_2+i\\,a_1)u + (d-i\\,a_3) v \\,.\n",
    "\\end{align*}\n",
    "\n",
    "$$\n",
    "\n",
    "In this space, the rotations described above are a subgroup of $\\mathbb{GL}(2,\n",
    "\\mathbb{C})$ where the operator \n",
    "\n",
    "$$\n",
    "\n",
    "{\\cal O} = \\begin{pmatrix} A & B \\\\ C & D\\end{pmatrix} \\quad\\textrm{such that}\\quad\n",
    "\\begin{pmatrix}u' \\\\ v'\\end{pmatrix} = \\cal O \\begin{pmatrix}u \\\\ v\\end{pmatrix}\n",
    "\n",
    "$$\n",
    "\n",
    "satisfies ${\\rm det}\\, {\\cal O} = 1$, $D = A^*$, $B = -C^*$. The inverse of such\n",
    "a transformation is given by\n",
    "\n",
    "$$\n",
    "\n",
    "{\\cal O}^{-1} = \\begin{pmatrix} D & -B \\\\ -C & A\\end{pmatrix} \\,.\n",
    "\n",
    "$$"
   ]
  },
  {
   "cell_type": "markdown",
   "metadata": {},
   "source": [
    "## Tetrahedral Symmetry\n",
    "\n",
    "A tetrahedron is formed by joining alternating vertices as one traverses the\n",
    "edges of a cube. Taking these four vertices to be \n",
    "\n",
    "$$\n",
    "\n",
    "\\begin{align*}\n",
    "{\\bf V}_1 &= \\frac1{\\sqrt{3}}(1, 1, 1) \\\\\n",
    "{\\bf V}_2 &= \\frac1{\\sqrt{3}}(-1, -1, 1) \\\\\n",
    "{\\bf V}_3 &= \\frac1{\\sqrt{3}}(1, -1, -1) \\\\\n",
    "{\\bf V}_4 &= \\frac1{\\sqrt{3}}(-1, 1, -1) \\,,\n",
    "\\end{align*}\n",
    "$$\n",
    "\n",
    "(such that they each lie on the unit sphere) we find that the corresponding\n",
    "spherically-projected coordinates are\n",
    "\n",
    "$$\n",
    "\n",
    "k_1 = -k_2 = \\frac{1+i}{\\sqrt{3} -1} \\,,\\quad k_3 = -k_4 =\n",
    "\\frac{1-i}{\\sqrt{3}+1} \\,.\n",
    "\n",
    "$$\n",
    "\n",
    "(Note that an equivalent tetrahedron could be constructed using the points\n",
    "antipodal to the ones above; this is referred to as the \"diametral tetrahedron\".)"
   ]
  },
  {
   "cell_type": "markdown",
   "metadata": {},
   "source": [
    "The discrete rotational symmetries of the tetrahedron can be constructed by\n",
    "composing the two-fold rotation about the $z$ axis (which maps ${\\bf V}_1\n",
    "\\leftrightarrow{\\bf V}_2$, ${\\bf V}_3 \\leftrightarrow{\\bf V}_4$) with the\n",
    "three-fold rotation about the ${\\bf V}_1$ axis (which maps ${\\bf V}_2\n",
    "\\rightarrow {\\bf V}_3$, ${\\bf V}_3 \\rightarrow {\\bf V}_4$, ${\\bf V}_4\n",
    "\\rightarrow {\\bf V}_2$). On the complex plane, these correspond to\n",
    "\n",
    "$$\n",
    "\n",
    "\\begin{align*}\n",
    "I:\\quad z \\to z' &= -z \\\\\n",
    "II:\\quad z \\to z' &= \\frac{z+i}{z-i} \\,,\n",
    "\\end{align*}\n",
    "\n",
    "$$\n",
    "\n",
    "respectively."
   ]
  },
  {
   "cell_type": "code",
   "execution_count": 33,
   "metadata": {},
   "outputs": [
    {
     "data": {
      "text/plain": [
       "True"
      ]
     },
     "execution_count": 33,
     "metadata": {},
     "output_type": "execute_result"
    }
   ],
   "source": [
    "# Check of the above:\n",
    "sp1 = (1 + I) / (sqrt(3) - 1)\n",
    "sp2 = -(1 + I) / (sqrt(3) - 1)\n",
    "sp3 = (1 - I) / (sqrt(3) + 1)\n",
    "sp4 = (-1 + I) / (sqrt(3) + 1)\n",
    "\n",
    "# fmt: off\n",
    "((sp1 + I) / (sp1 - I)).equals(sp1) and \\\n",
    "((sp2 + I) / (sp2 - I)).equals(sp3) and \\\n",
    "((sp3 + I) / (sp3 - I)).equals(sp4) and \\\n",
    "((sp4 + I) / (sp4 - I)).equals(sp2)\n",
    "# fmt: on"
   ]
  },
  {
   "cell_type": "markdown",
   "metadata": {},
   "source": [
    "In terms of the homogeneous coordinates $u$ and $v$, these two transformations\n",
    "map directly to\n",
    "\n",
    "$$\n",
    "\n",
    "\\begin{align*}\n",
    "I:&\\quad \\begin{array}{ccc}\n",
    "u' &=& i\\,u \\\\\n",
    "v' &=& -i\\,v \n",
    "\\end{array} \\\\\n",
    "II:&\\quad \\begin{array}{ccc}\n",
    " u' &=& \\tfrac12(1+i)\\,u - \\tfrac12(1-i)\\,v \\\\\n",
    " v' &=& \\tfrac12 (1+i) u + \\tfrac12(1-i)\\,v \\,.\n",
    " \\end{array}\n",
    "\\end{align*}\n",
    "\n",
    "% \\begin{align*}\n",
    "% u' &= (d+i\\,a_3)u - (a_2-i\\,a_1)v \\\\\n",
    "% v' &= (a_2+i\\,a_1)u + (d-i\\,a_3) v \\,.\n",
    "% \\end{align*}\n",
    "$$"
   ]
  },
  {
   "cell_type": "markdown",
   "metadata": {},
   "source": [
    "# Polynomial Invariants\n",
    "\n",
    "Keeping in mind that all symmetry transformations of the tetrahedron merely\n",
    "exchange a number of vertices with one another, it's expected that a polynomial\n",
    "with roots at the locations of the vertices in the complex plane will be\n",
    "invariant under such transformations. To see this, consider the product\n",
    "\n",
    "$$\n",
    "\n",
    "\\begin{align*}\n",
    "\\Phi(u, v) &:= \\prod_{i=1}^4 \\left(u - k_i\\, v\\right) = (u^2-k_1^2)(v^2-k_3^2) \\\\\n",
    "&= u^4 - 2i\\sqrt{3}\\,u^2v^2 + v^4\n",
    "\\end{align*}\n",
    "\n",
    "$$\n",
    "\n",
    "and apply the transformation $(u, v) \\to (u', v')$ as before. In the general\n",
    "case, this gives \n",
    "\n",
    "$$\n",
    "\n",
    "\\begin{align*}\n",
    "\\Phi(u', v') &= \\prod_{i=1}^4 \\left(u' - k_i\\, v'\\right) \\\\\n",
    "&= \\prod_{i=1}^4 \\left(A - k_i\\, C\\right) \\prod_{i=1}^4 \\left(u - k_i'\\, v\\right) \\\\\n",
    "&= \\prod_{i=1}^4 \\left(A - k_i\\, C\\right) \\, \\Phi(u, v)\n",
    "\\end{align*}\n",
    "\n",
    "$$\n",
    "\n",
    "where we define\n",
    "\n",
    "$$\n",
    "\n",
    "k'_i := \\frac{k_i\\, D - B}{- k_i\\, C + A} \\quad\\leftrightarrow\\quad k_i =\n",
    "\\frac{k_i'\\,A+B}{k_i'\\,C+D} \\,.\n",
    "\n",
    "$$"
   ]
  },
  {
   "cell_type": "markdown",
   "metadata": {},
   "source": [
    "In the case of both transformations $I$ and $II$, the product $\\prod_{i=1}^4 \\left(u - k_i'\\, v\\right)$ is clearly invariant, because the vertices all transform into one another under any of the transformations. For transformation $I$, the product $\\prod_{i=1}^4 \\left(A - k_i\\, C\\right) = 1$ because $A=i$ and $C=0$. For transformation $II$, this product instead gives\n",
    "\n",
    "$$\n",
    "\n",
    "\\begin{align*}\n",
    "\\prod_{i=1}^4 \\left(A - k_i\\, C\\right) &= \\left[\\tfrac12 (1+i)\\right]^4\\prod_{i=1}^4 \\left(1 - k_i\\right) \\\\\n",
    "&= -\\tfrac14(1-k_1^2)(1-k_3^2) \\\\\n",
    "&=-\\tfrac14\\left[1-i(2+\\sqrt{3})\\right]\\left[1+i(2-\\sqrt{3})\\right] \\\\\n",
    "&=-\\frac12+i\\frac{\\sqrt{3}}2 = e^{2\\pi i/3} \\,.\n",
    "\\end{align*}\n",
    "\n",
    "$$\n",
    "\n",
    "The above guarantees that the function $\\Phi^3(u,v)$ is an absolute invariant under the symmetries of the tetrahedral group."
   ]
  },
  {
   "cell_type": "code",
   "execution_count": 34,
   "metadata": {},
   "outputs": [
    {
     "data": {
      "text/latex": [
       "$\\displaystyle - \\frac{1}{2} + \\frac{\\sqrt{3} i}{2}$"
      ],
      "text/plain": [
       "-1/2 + sqrt(3)*I/2"
      ]
     },
     "execution_count": 34,
     "metadata": {},
     "output_type": "execute_result"
    }
   ],
   "source": [
    "sp1 = (1 + I) / (sqrt(3) - 1)\n",
    "sp2 = (1 - I) / (sqrt(3) + 1)\n",
    "sp3 = (-1 + I) / (sqrt(3) + 1)\n",
    "sp4 = -(1 + I) / (sqrt(3) - 1)\n",
    "\n",
    "simplify(\n",
    "    (Rational(1, 2) * (1 + I)) ** 4 * (1 - sp1) * (1 - sp2) * (1 - sp3) * (1 - sp4)\n",
    ")"
   ]
  },
  {
   "cell_type": "markdown",
   "metadata": {},
   "source": [
    "The above can also be done for the edge midpoints, and face centers, of the tetrahedron.\n",
    "In the latter case, it's as simple as trading $k_i \\to -1/\\bar k_i$ in the above expression for $\\Phi$ (since the face centers are in line with the antipodes of the vertices). This yields\n",
    "\n",
    "$$\n",
    "\n",
    "\\begin{align*}\n",
    "\\Psi(u, v) &:= \\prod_{i=1}^4\\left(u + \\bar k_i^{-1}\\, v\\right) = \\prod_{i=1}^4\\left(u - \\bar k_i\\, v\\right) \\\\\n",
    "&= u^4 + 2i\\sqrt{3}\\,u^2v^2 + v^4 \\,.\n",
    "\\end{align*}\n",
    "\n",
    "$$\n",
    "\n",
    "(The second-last equality follows since $k_1k_4 = k_2k_3 =-1$.) As one might expect, under transformation $II$ the function $\\Psi(u,v)$ becomes\n",
    "\n",
    "$$\n",
    "\n",
    "\\Psi(u',v') = e^{-2\\pi i/3} \\, \\Psi(u,v) \\,.\n",
    "\n",
    "$$\n",
    "\n",
    "Therefore, the combinations $\\Phi \\Psi$ and $\\Psi^3$ are also absolute invariants."
   ]
  },
  {
   "cell_type": "code",
   "execution_count": 35,
   "metadata": {},
   "outputs": [
    {
     "name": "stdout",
     "output_type": "stream",
     "text": [
      "uv_prime=Matrix([\n",
      "[u*(1/2 + I/2) + v*(-1/2 + I/2)],\n",
      "[ u*(1/2 + I/2) + v*(1/2 - I/2)]])\n"
     ]
    },
    {
     "data": {
      "text/latex": [
       "$\\displaystyle u^{4} - 2 \\sqrt{3} i u^{2} v^{2} + v^{4}$"
      ],
      "text/plain": [
       "u**4 - 2*sqrt(3)*I*u**2*v**2 + v**4"
      ]
     },
     "execution_count": 35,
     "metadata": {},
     "output_type": "execute_result"
    }
   ],
   "source": [
    "orth = Rational(1, 2) * Matrix([[1 + I, -1 + I], [1 + I, 1 - I]])\n",
    "u, v = symbols(\"u v\")\n",
    "U, V = symbols(\"U V\")\n",
    "uv = Matrix([u, v])\n",
    "\n",
    "uv_prime = orth * uv\n",
    "print(f\"{uv_prime=}\")\n",
    "\n",
    "Phi = (u - sp1 * v) * (u - sp2 * v) * (u - sp3 * v) * (u - sp4 * v)\n",
    "\n",
    "# print(Phi.subs(u, uv_prime[0]))\n",
    "Phi_prime = Phi.subs([(u, U), (v, V)]).subs([(U, uv_prime[0]), (V, uv_prime[1])])\n",
    "(Phi_prime / exp(2 * pi * I / 3)).rewrite(cos).radsimp().expand()"
   ]
  },
  {
   "cell_type": "markdown",
   "metadata": {},
   "source": [
    "In contrast, the six midpoints are at $z=0$, $z=\\infty$, $z=\\pm 1$, and $z=\\pm i$. In this case, the invariant polynomial is given by\n",
    "\n",
    "$$\n",
    "\n",
    "t(u, v) = uv(u-v)(u+v)(u-iv)(u+iv) = uv(u^4-v^4) \\,.\n",
    "\n",
    "$$\n",
    "\n",
    "Under the transformation $II$ (with $A=\\tfrac12(1+i)=-B^*=C=D^*$), we see that \n",
    "\n",
    "$$\n",
    "\n",
    "\\begin{align*}\n",
    "t(u',v') &= \\left(A\\,u-A^*\\,v\\right)\\left(A\\,u+A^*\\,v\\right) \\\\\n",
    "&\\times\\left[\\left(A\\,u-A^*\\,v\\right)^2 - \\left(A\\,u+A^*\\,v\\right)^2\\right]\\left[\\left(A\\,u-A^*\\,v\\right)^2+\\left(A\\,u+A^*\\,v\\right)^2\\right] \\\\\n",
    "&=\\left(A^2\\,u^2 - A^{*2}\\,v^2\\right)\\left[4\\,AA^*\\,uv\\right]\\left[2\\left(A^2\\,u^2+A^{*2}\\,v^2\\right)\\right] \\\\\n",
    "&=\\frac i2\\left(u^2 + v^2\\right)\\left[-2\\,uv\\right]\\left[i\\left(u^2-v^2\\right)\\right] = t(u,v)\n",
    "\\end{align*}\n",
    "\n",
    "$$\n",
    "\n",
    "where, in the last line, we make use of $A^2 = i/2 = -A^{*2}$. Similarly, $t(u',v') = t(u,v)$ under transformation $I$ where $A=i=D^*$, $B=C=0$, we find\n",
    "\n",
    "$$\n",
    "\n",
    "\\begin{align*}\n",
    "t(u',v') &= AA^*\\,uv(A^2\\,u^2-A^{*2}\\,v^2)(A^2\\,u^2+A^{*2}\\,v^2) \\\\\n",
    "&= t(u,v) \\,.\n",
    "\\end{align*}\n",
    "\n",
    "$$\n",
    "\n",
    "Therefore, $t(u,v)$ is an absolute invariant as well."
   ]
  },
  {
   "cell_type": "markdown",
   "metadata": {},
   "source": [
    "By direct computation, one can evaluate the combination $\\Psi^3- \\Phi^3$. As it\n",
    "turns out, this expression has a particularly simple form:\n",
    "\n",
    "$$\n",
    "\n",
    "\\Psi^3(u, v) = \\Phi^3(u, v) + 12\\sqrt{3}\\,i\\,t^2(u, v) \\,.\n",
    "\n",
    "$$"
   ]
  },
  {
   "cell_type": "code",
   "execution_count": 36,
   "metadata": {},
   "outputs": [
    {
     "data": {
      "text/latex": [
       "$\\displaystyle 12 \\sqrt{3} i u^{2} v^{2} \\left(u - v\\right)^{2} \\left(u + v\\right)^{2} \\left(u^{2} + v^{2}\\right)^{2}$"
      ],
      "text/plain": [
       "12*sqrt(3)*I*u**2*v**2*(u - v)**2*(u + v)**2*(u**2 + v**2)**2"
      ]
     },
     "execution_count": 36,
     "metadata": {},
     "output_type": "execute_result"
    }
   ],
   "source": [
    "# Check of the above:\n",
    "Phi = (u - sp1 * v) * (u - sp2 * v) * (u - sp3 * v) * (u - sp4 * v)\n",
    "Psi = (\n",
    "    (u - conjugate(sp1) * v)\n",
    "    * (u - conjugate(sp2) * v)\n",
    "    * (u - conjugate(sp3) * v)\n",
    "    * (u - conjugate(sp4) * v)\n",
    ")\n",
    "simplify(Psi**3 - Phi**3).factor()"
   ]
  },
  {
   "cell_type": "code",
   "execution_count": 37,
   "metadata": {},
   "outputs": [
    {
     "data": {
      "text/latex": [
       "$\\displaystyle 0$"
      ],
      "text/plain": [
       "0"
      ]
     },
     "execution_count": 37,
     "metadata": {},
     "output_type": "execute_result"
    }
   ],
   "source": [
    "# Second check:\n",
    "t = u * v * (u - v) * (u + v) * (u**2 + v**2)\n",
    "simplify(Psi**3 - Phi**3 - 12 * sqrt(3) * I * t**2)"
   ]
  },
  {
   "cell_type": "markdown",
   "metadata": {},
   "source": [
    "## Octahedral Symmetry\n",
    "\n",
    "The six vertices of the octahedron can be taken as identical to the six edge\n",
    "midpoints of the tetrahedron. As such they have $t(u,v)$ as their polynomial\n",
    "invariant.\n",
    "\n",
    "The octahedral symmetry group is generated by transformations $I$ and $II$\n",
    "above, along with\n",
    "\n",
    "$$\n",
    "III: \\quad u'=e^{i\\pi/4}\\, u \\,,\\quad v' = e^{-i\\pi/4} \\,v \\,.\n",
    "$$\n",
    "\n",
    "Under transformation $III$ with $A=e^{i\\pi/4} = D^*$, $B=C=0$, we find  that\n",
    "\n",
    "$$\n",
    "\n",
    "\\begin{align*}\n",
    "t(u',v') &= AA^*\\,uv(A^2\\,u^2-A^{*2}\\,v^2)(A^2\\,u^2+A^{*2}\\,v^2) \\\\\n",
    "&= -t(u,v) \\,.\n",
    "\\end{align*}\n",
    "\n",
    "$$\n",
    "\n",
    "Therefore, only $t^2(u,v)$ is an absolute invariant under the octahedral\n",
    "symmetry group."
   ]
  },
  {
   "cell_type": "markdown",
   "metadata": {},
   "source": [
    "The 8  face centers of the octahedron are formed by combining the 8 tetrahedral\n",
    "roots $\\{k_i, \\bar{k}_i\\}$ found before. As such, the octahedral polynomial\n",
    "invariant for the face centers is given by\n",
    "\n",
    "$$\n",
    "\n",
    "W(u, v) := \\Phi(u,v)\\, \\Psi(u,v)  = u^8 + 14\\,u^4v^4+v^8\\,.\n",
    "\n",
    "$$"
   ]
  },
  {
   "cell_type": "code",
   "execution_count": 38,
   "metadata": {},
   "outputs": [
    {
     "data": {
      "text/latex": [
       "$\\displaystyle u^{8} + 14 u^{4} v^{4} + v^{8}$"
      ],
      "text/plain": [
       "u**8 + 14*u**4*v**4 + v**8"
      ]
     },
     "execution_count": 38,
     "metadata": {},
     "output_type": "execute_result"
    }
   ],
   "source": [
    "# Check of the above:\n",
    "W = simplify(Phi * Psi)\n",
    "W"
   ]
  },
  {
   "cell_type": "markdown",
   "metadata": {},
   "source": [
    "In order to work out the transformation properties of $W(u,v)$, it is useful to\n",
    "note that $t$ and $W$ are inter-related as follows:\n",
    "\n",
    "$$\n",
    "\n",
    "{\\rm Hess}[t] := \\det\\left[\\begin{matrix}\\frac{\\partial^2t}{\\partial u^2} & \\frac{\\partial^2t}{\\partial u\\partial v} \\\\[6pt] \\frac{\\partial^2t}{\\partial v \\partial u} & \\frac{\\partial^2t}{\\partial v^2}\\end{matrix}\\right] = -25\\,W(u,v)\\,.\n",
    "\n",
    "$$\n",
    "\n",
    "In other words, $W(u,v)$ is the *Hessian* of $t(u,v)$. As such, since $t \\to -t$\n",
    "under transformation $III$ (and since $W \\sim t^2$), $W(u,v)$ is clearly\n",
    "invariant under all three octahedral symmetry generators."
   ]
  },
  {
   "cell_type": "code",
   "execution_count": 39,
   "metadata": {},
   "outputs": [
    {
     "data": {
      "text/plain": [
       "True"
      ]
     },
     "execution_count": 39,
     "metadata": {},
     "output_type": "execute_result"
    }
   ],
   "source": [
    "# Check of the above:\n",
    "def hessian(f):\n",
    "    du2 = diff(diff(f, u), u)\n",
    "    dudv = diff(diff(f, u), v)\n",
    "    dv2 = diff(diff(f, v), v)\n",
    "    return du2 * dv2 - dudv**2\n",
    "\n",
    "\n",
    "hessian(t).equals(-25 * Phi * Psi)"
   ]
  },
  {
   "cell_type": "markdown",
   "metadata": {},
   "source": [
    "The edge midpoints of the octahedron form a polynomial invariant, $\\chi(u,v)$,\n",
    "which we will compute next.\n",
    "\n",
    "The edge midpoints can be labeled as follows:\n",
    "\n",
    "$$\n",
    "\n",
    "\\begin{alignat*}{3}\n",
    "{\\bf X}_1 &= \\tfrac1{\\sqrt{2}}\\left(1,1, 0\\right) \\qquad &&{\\bf X}_7 &&= \\tfrac1{\\sqrt{2}}\\left(0,-1, 1\\right)\\\\\n",
    "{\\bf X}_2 &= \\tfrac1{\\sqrt{2}}\\left(1,-1, 0\\right) \\qquad&&{\\bf X}_8 &&= \\tfrac1{\\sqrt{2}}\\left(0,-1, -1\\right)\\\\\n",
    "{\\bf X}_3 &= \\tfrac1{\\sqrt{2}}\\left(-1,1, 0\\right) \\qquad&&{\\bf X}_9 &&= \\tfrac1{\\sqrt{2}}\\left(1,0, 1\\right)\\\\\n",
    "{\\bf X}_4 &= \\tfrac1{\\sqrt{2}}\\left(-1,-1, 0\\right) \\qquad&&{\\bf X}_{10} &&= \\tfrac1{\\sqrt{2}}\\left(1,0, -1\\right)\\\\\n",
    "{\\bf X}_5 &= \\tfrac1{\\sqrt{2}}\\left(0,1, 1\\right) \\qquad&&{\\bf X}_{11} &&= \\tfrac1{\\sqrt{2}}\\left(-1,0, 1\\right)\\\\\n",
    "{\\bf X}_6 &= \\tfrac1{\\sqrt{2}}\\left(0,1, -1\\right) \\qquad&&{\\bf X}_{12} &&= \\tfrac1{\\sqrt{2}}\\left(-1,0, -1\\right)\\\\\n",
    "\n",
    "\\end{alignat*}\n",
    "\n",
    "$$"
   ]
  },
  {
   "cell_type": "markdown",
   "metadata": {},
   "source": [
    "The corresponding stereographically-projected points in the complex plane are\n",
    "given by \n",
    "\n",
    "$$\n",
    "\n",
    "\\begin{alignat*}{3}\n",
    "l_1 &= \\tfrac1{\\sqrt{2}}\\left(1+i\\right) \\qquad &&l_7 &&= i\\left(-1-\\sqrt{2}\\right)\\\\\n",
    "l_2 &= \\tfrac1{\\sqrt{2}}\\left(1-i\\right) \\qquad&&l_8 &&= i\\left(1-\\sqrt{2}\\right)\\\\\n",
    "l_3 &= \\tfrac1{\\sqrt{2}}\\left(-1+i\\right) \\qquad&&l_9 &&= 1+\\sqrt{2}\\\\\n",
    "l_4 &= \\tfrac1{\\sqrt{2}}\\left(-1-i\\right) \\qquad&&l_{10} &&= -1+\\sqrt{2}\\\\\n",
    "l_5 &= i\\left(1+\\sqrt{2}\\right) \\qquad&&l_{11} &&= -1-\\sqrt{2}\\\\\n",
    "l_6 &= i\\left(-1+\\sqrt{2}\\right) \\qquad&&l_{12} &&= 1-\\sqrt{2}\n",
    "\n",
    "\\end{alignat*}\n",
    "\n",
    "$$"
   ]
  },
  {
   "cell_type": "markdown",
   "metadata": {},
   "source": [
    "Given the above, we define\n",
    "\n",
    "$$\n",
    "\n",
    "\\chi(u,v) := \\prod_{i=1}^{12}\\left(u-l_i\\,v\\right) = u^{12} - 33 u^{8} v^{4} -\n",
    "33 u^{4} v^{8} + v^{12} \\,.\n",
    "\n",
    "$$"
   ]
  },
  {
   "cell_type": "code",
   "execution_count": 40,
   "metadata": {},
   "outputs": [
    {
     "data": {
      "text/latex": [
       "$\\displaystyle u^{12} - 33 u^{8} v^{4} - 33 u^{4} v^{8} + v^{12}$"
      ],
      "text/plain": [
       "u**12 - 33*u**8*v**4 - 33*u**4*v**8 + v**12"
      ]
     },
     "execution_count": 40,
     "metadata": {},
     "output_type": "execute_result"
    }
   ],
   "source": [
    "# Check of the above:\n",
    "def stereo(v1, v2, v3):\n",
    "    return (v1 + I * v2) / (1 - v3)\n",
    "\n",
    "\n",
    "ls = []\n",
    "\n",
    "ls.append(stereo(1 / sqrt(2), 1 / sqrt(2), 0))\n",
    "ls.append(stereo(1 / sqrt(2), -1 / sqrt(2), 0))\n",
    "ls.append(stereo(-1 / sqrt(2), 1 / sqrt(2), 0))\n",
    "ls.append(stereo(-1 / sqrt(2), -1 / sqrt(2), 0))\n",
    "ls.append(stereo(0, 1 / sqrt(2), 1 / sqrt(2)))\n",
    "ls.append(stereo(0, 1 / sqrt(2), -1 / sqrt(2)))\n",
    "ls.append(stereo(0, -1 / sqrt(2), 1 / sqrt(2)))\n",
    "ls.append(stereo(0, -1 / sqrt(2), -1 / sqrt(2)))\n",
    "ls.append(stereo(1 / sqrt(2), 0, 1 / sqrt(2)))\n",
    "ls.append(stereo(1 / sqrt(2), 0, -1 / sqrt(2)))\n",
    "ls.append(stereo(-1 / sqrt(2), 0, 1 / sqrt(2)))\n",
    "ls.append(stereo(-1 / sqrt(2), 0, -1 / sqrt(2)))\n",
    "\n",
    "chi = reduce(lambda x, y: x * y, [u - x * v for x in ls])\n",
    "simplify(chi)"
   ]
  },
  {
   "cell_type": "markdown",
   "metadata": {},
   "source": [
    "As it turns out, $\\chi(u,v)$ is also related to $t(u,v)$ and $W(u,v)$: $\\chi$ is\n",
    "proportional to the *Jacobian* of ${\\bf V}(u,v) := (t(u,v), W(u,v))$:\n",
    "\n",
    "$$\n",
    "\n",
    "{\\textrm Jac}[{\\bf V}](u,v) := \\det \\left[\\begin{matrix} \\frac{\\partial t}{\\partial u} & \\frac{\\partial t}{\\partial v} \\\\[6pt] \\frac{\\partial W}{\\partial u} & \\frac{\\partial W}{\\partial v} \\end{matrix}\\right] = -8\\,\\chi(u,v) \\,.\n",
    "\n",
    "$$"
   ]
  },
  {
   "cell_type": "code",
   "execution_count": 41,
   "metadata": {},
   "outputs": [
    {
     "data": {
      "text/plain": [
       "True"
      ]
     },
     "execution_count": 41,
     "metadata": {},
     "output_type": "execute_result"
    }
   ],
   "source": [
    "# Check of the above:\n",
    "def jacobian(f, g):\n",
    "    return diff(f, u) * diff(g, v) - diff(f, v) * diff(g, u)\n",
    "\n",
    "\n",
    "jacobian(t, W).equals(-8 * chi)"
   ]
  },
  {
   "cell_type": "markdown",
   "metadata": {},
   "source": [
    "Since $\\chi \\sim t$, and since $t\\to-t$ under transformation $III$, we deduce\n",
    "that $\\chi^2$ is an absolute invariant of the octahedral symmetry group. Lastly,\n",
    "by direct computation we can verify that the absolute invariants $\\chi^2$,\n",
    "$W^3$, and $t^4$ (all sharing the same order of homogeneity) are inter-related:\n",
    "\n",
    "$$\n",
    "\n",
    "\\chi^2 - W^3 + 108\\, t^4 = 0 \\,.\n",
    "\n",
    "$$"
   ]
  },
  {
   "cell_type": "code",
   "execution_count": 42,
   "metadata": {},
   "outputs": [
    {
     "data": {
      "text/latex": [
       "$\\displaystyle - 108 u^{4} v^{4} \\left(u - v\\right)^{4} \\left(u + v\\right)^{4} \\left(u^{2} + v^{2}\\right)^{4}$"
      ],
      "text/plain": [
       "-108*u**4*v**4*(u - v)**4*(u + v)**4*(u**2 + v**2)**4"
      ]
     },
     "execution_count": 42,
     "metadata": {},
     "output_type": "execute_result"
    }
   ],
   "source": [
    "# Check of the above:\n",
    "simplify(chi**2 - W**3).factor()"
   ]
  },
  {
   "cell_type": "code",
   "execution_count": 43,
   "metadata": {},
   "outputs": [
    {
     "data": {
      "text/plain": [
       "True"
      ]
     },
     "execution_count": 43,
     "metadata": {},
     "output_type": "execute_result"
    }
   ],
   "source": [
    "# Second check:\n",
    "(chi**2 - W**3).equals(-108 * t**4)"
   ]
  },
  {
   "cell_type": "markdown",
   "metadata": {},
   "source": [
    "## Icosahedral Symmetry\n",
    "\n"
   ]
  },
  {
   "cell_type": "markdown",
   "metadata": {},
   "source": [
    "The icosahedral group is defined as the group of rotations that map the\n",
    "icosahedron into itself. Placing two antipodal vertices along the $\\zeta$ axis\n",
    "at $(0,0,\\pm 1)$, and one next-nearest vertex at\n",
    "${\\bf\\hat n}_n = (-\\sin\\,2\\alpha,0,\\cos\\,2\\alpha)$, we find that there is a two-fold symmetry\n",
    "about the axis ${\\bf \\hat n}_2:=(-\\sin\\alpha,0,\\cos\\alpha)$, in addition to a\n",
    "five-fold symmetry about ${\\bf \\hat n}_5:=(0,0,1)$:\n",
    "\n",
    "$$\n",
    "\n",
    "\\begin{align*}\n",
    "IV:&\\quad {\\cal O}({\\bf\\hat n}_2, \\pi)\\\\\n",
    "V:&\\quad {\\cal O}({\\bf\\hat n}_5, 2\\pi/5)\n",
    "\\end{align*}\n",
    "\n",
    "$$\n",
    "\n",
    "It can be shown that the above symmetry generators can be combined to reproduce\n",
    "the 60-fold symmetries of the icosahedral group. In particular, the three-fold\n",
    "symmetry of one of the icosahedron faces nearest to the top vertex can be written as \n",
    "\n",
    "$$\n",
    "\n",
    "{\\cal O}_C({\\bf\\hat n}_3, 2\\pi/3) = {\\cal O}_B({\\bf\\hat n}_5, -2\\pi/5)\\,{\\cal O}_A({\\bf\\hat n}_2,\n",
    "\\pi) \\,,\n",
    "\n",
    "$$\n",
    "\n",
    "given an appropriate choice of ${\\bf\\hat n}_2$ (or $\\alpha$) and ${\\bf\\hat n_3}$."
   ]
  },
  {
   "cell_type": "markdown",
   "metadata": {},
   "source": [
    "To determine $\\alpha$, note that the $\\{{\\bf a}, d\\}$ parametrizations of the\n",
    "above transformations are\n",
    "\n",
    "$$\n",
    "\n",
    "\\begin{align*}\n",
    "a_{1A} = -\\sin\\alpha\\,,\\quad a_{3A} = \\cos\\alpha \\,,\\quad a_{2A} = d_A =0 \\\\ \n",
    "a_{1B} = a_{2B} = 0 \\,,\\quad a_{3B} = -\\sin(\\pi/5) \\,,\\quad d_B = \\cos(\\pi/5) \\,.\n",
    "\\end{align*}\n",
    "\n",
    "$$\n",
    "\n",
    "Recalling the composition property of the $d$ parameter, $d_C = -a_{1A} a_{1B} - a_{2A} a_{2B} - a_{3A} a_{3B} + d_A d_B$, we find that \n",
    "\n",
    "$$\n",
    "\n",
    "d_C = \\cos\\alpha\\,\\sin(\\pi/5) = \\cos(\\pi/3) = \\frac12\n",
    "\n",
    "$$\n",
    "\n",
    "for the composed transformation. Therfore, \n",
    "\n",
    "$$\n",
    "\n",
    "\\cos\\alpha = \\frac1{2\\,\\sin(\\pi/5)} \\,.\n",
    "\n",
    "$$"
   ]
  },
  {
   "cell_type": "markdown",
   "metadata": {},
   "source": [
    "Similarly,\n",
    "\n",
    "$$\n",
    "\n",
    "\\begin{align*}\n",
    "a_{1C} &= a_{1A} d_B + a_{1B} d_A - a_{2A} a_{3B} + a_{2B} a_{3A} = -\\sin\\alpha\\,\\cos(\\pi/5)\\\\\n",
    "a_{2C} &= a_{2A} d_B + a_{2B} d_A - a_{3A} a_{1B} + a_{3B} a_{1A} = \\sin\\alpha\\,\\sin(\\pi/5) \\\\\n",
    "a_{3C} &= a_{3A} d_B + a_{3B} d_A - a_{1A} a_{2B} + a_{1B} a_{2A} = \\cos\\alpha\\,\\cos(\\pi/5) \n",
    "\\end{align*}\n",
    "\n",
    "$$\n",
    "\n",
    "which together imply that \n",
    "\n",
    "$$\n",
    "\n",
    "{\\bf\\hat n}_3 = \\frac2{\\sqrt{3}}(-\\sin\\alpha\\,\\cos(\\pi/5), \\sin\\alpha\\,\\sin(\\pi/5), \\cos\\alpha\\,\\cos(\\pi/5)) \\,.\n",
    "\n",
    "$$\n",
    "\n",
    "(${\\bf\\hat n}_3$ is guaranteed to be unit-normalized whenever $\\alpha$ satisfies the condition above.)"
   ]
  },
  {
   "cell_type": "markdown",
   "metadata": {},
   "source": [
    "Moving to stereographically-projected coordinates, the vertex at ${\\bf\\hat n}_n$ is given by\n",
    "\n",
    "$$\n",
    "\n",
    "z_n := -\\frac{\\sin 2\\alpha}{(1-\\cos 2\\alpha)} = -\\cot\\alpha \\,.\n",
    "\n",
    "$$\n",
    "\n",
    "However, we will find that it is more convenient to instead write\n",
    "\n",
    "$$\n",
    "\n",
    "z_n = \\epsilon^2 + \\epsilon^3 \\,,\\quad{\\rm where}\\quad \\epsilon:=e^{2\\pi i /5} \\,,\n",
    "\n",
    "$$\n",
    "\n",
    "since the other four vertices related to $z_n$ under the five-fold symmetry\n",
    "transformation $V$ are given by\n",
    "\n",
    "$$\n",
    "\n",
    "z_k := \\epsilon^k\\,z_n \\,,\\quad k \\in \\{1, 2, 3, 4, 5\\} \\,.\n",
    "\n",
    "$$"
   ]
  },
  {
   "cell_type": "code",
   "execution_count": 116,
   "metadata": {},
   "outputs": [
    {
     "data": {
      "text/latex": [
       "$\\displaystyle 1.61803398874989$"
      ],
      "text/plain": [
       "1.61803398874989"
      ]
     },
     "execution_count": 116,
     "metadata": {},
     "output_type": "execute_result"
    }
   ],
   "source": [
    "(2 * cos(pi / 5)).evalf()\n"
   ]
  },
  {
   "cell_type": "code",
   "execution_count": 117,
   "metadata": {},
   "outputs": [
    {
     "data": {
      "text/latex": [
       "$\\displaystyle 1.61803398874989$"
      ],
      "text/plain": [
       "1.61803398874989"
      ]
     },
     "execution_count": 117,
     "metadata": {},
     "output_type": "execute_result"
    }
   ],
   "source": [
    "((1 + sqrt(5)) / 2).evalf()"
   ]
  },
  {
   "cell_type": "markdown",
   "metadata": {},
   "source": [
    "The equivalence of the two expressions above follows from the defining relation\n",
    "\n",
    "$$\n",
    "\n",
    "\\epsilon^5 = 1 \\quad\\implies\\quad \\epsilon + \\epsilon^2 + \\epsilon^3 + \\epsilon^4 + \\epsilon^5 = 0 \n",
    "\n",
    "$$\n",
    "\n",
    "which together imply that \n",
    "\n",
    "$$\n",
    "\n",
    "(\\epsilon^4 - \\epsilon)(\\epsilon^2 - \\epsilon^3) = \\epsilon + \\epsilon^4 - \\epsilon^2 - \\epsilon^3 = \\sqrt{5} \n",
    "\n",
    "$$\n",
    "\n",
    "(as can be checked by squaring the second equality above). Noting that $\\sin (\\pi/5) = (\\epsilon^2-\\epsilon^3)/2i$, the previous condition on $\\alpha$ becomes\n",
    "\n",
    "$$\n",
    "\n",
    "\\cos\\alpha = \\frac i{\\epsilon^2-\\epsilon^3} =\\frac i{\\sqrt{5}}(\\epsilon^4 - \\epsilon) \\quad\\implies\\quad \\sin\\alpha = \\frac i{\\sqrt{5}}(\\epsilon^3-\\epsilon^2)\n",
    "\n",
    "$$\n",
    "\n",
    "and so\n",
    "\n",
    "$$\n",
    "\n",
    "z_n = - \\cot\\alpha = \\frac{(\\epsilon - \\epsilon^4)}{(\\epsilon^3-\\epsilon^2)} \\times\\frac{(\\epsilon^2+\\epsilon^3)}{(\\epsilon^2+\\epsilon^3)} = \\epsilon^2+\\epsilon^3 \\,.\n",
    "\n",
    "$$"
   ]
  },
  {
   "cell_type": "markdown",
   "metadata": {},
   "source": [
    "Across from $z_n$ is an antipodal vertex $z_m:= -1/z_n$ given by\n",
    "\n",
    "$$\n",
    "\n",
    "z_m = -\\frac1{(\\epsilon^2+\\epsilon^3)} = \\frac{-1\\times(\\epsilon+\\epsilon^4)}{(\\epsilon^2+\\epsilon^3)(\\epsilon+\\epsilon^4)} = \\epsilon+\\epsilon^4 \\,.\n",
    "\n",
    "$$\n",
    "\n",
    "In addition to the vertices $z_0 = 0$, $z_\\infty = \\infty$ and the five $z_k$ (where $z_5 = z_n$), the remaining five are related to $z_m$ under the five-fold symmetry\n",
    "transformation $V$ as follows:\n",
    "\n",
    "$$\n",
    "\n",
    "z_k := \\epsilon^k\\,z_m \\,,\\quad k \\in \\{6, 7, 8, 9, 10\\} \n",
    "\n",
    "$$\n",
    "\n",
    "(where $z_{10} = z_m$, similarly to $z_n$)."
   ]
  },
  {
   "cell_type": "markdown",
   "metadata": {},
   "source": [
    "Relating $z_n$, $z_m$ back to to their explicit values, we see that \n",
    "\n",
    "$$\n",
    "\n",
    "z_n = - 2\\,\\cos\\pi/5 := -\\phi \\,,\\quad z_m = 2\\,\\cos 2\\pi/5 = \\phi^2- 2\n",
    "\n",
    "$$\n",
    "\n",
    "(where the last equality follows from the cosine half-angle formula). Recalling that $z_n$ and $z_m$ are antipodal, we see that $\\phi$ must satisfy\n",
    "\n",
    "$$\n",
    "\n",
    "z_n\\,z_m = -1 \\quad\\leftrightarrow\\quad (\\phi+1)(\\phi^2 - \\phi -1) =0 \\,.\n",
    "\n",
    "$$\n",
    "\n",
    "Therefore, $\\phi$ is the __golden ratio__: $\\phi = (1+\\sqrt{5})/2$ (since $\\phi$, by definition, is positive). Additionally, since the $\\epsilon$'s satisfy $\\sum_{k=1}^5\\epsilon^k = 0$, we find\n",
    "\n",
    "$$\n",
    "\n",
    "z_n + z_m + 1 =0 \\,,\n",
    "\n",
    "$$\n",
    "\n",
    "which is consistent with the above."
   ]
  },
  {
   "cell_type": "code",
   "execution_count": 119,
   "metadata": {},
   "outputs": [
    {
     "data": {
      "text/latex": [
       "$\\displaystyle \\left(u + 1\\right) \\left(u^{2} - u - 1\\right)$"
      ],
      "text/plain": [
       "(u + 1)*(u**2 - u - 1)"
      ]
     },
     "execution_count": 119,
     "metadata": {},
     "output_type": "execute_result"
    }
   ],
   "source": [
    "(u**3 - 2 * u - 1).factor()"
   ]
  },
  {
   "cell_type": "markdown",
   "metadata": {},
   "source": [
    "Lastly, the homogeneous transformation corresponding to the symmetry\n",
    "transformation $IV$ is given by\n",
    "\n",
    "$$\n",
    "\n",
    "\\begin{align*}\n",
    "u' = i\\,\\cos\\alpha \\, u - i\\,\\sin\\alpha\\,v &= \\frac1{\\sqrt{5}}\\left(\\epsilon - \\epsilon^4\\right) u +\\frac1{\\sqrt{5}}\\left(\\epsilon^3 - \\epsilon^2\\right) v \\\\\n",
    "v' = -i\\,\\sin\\alpha\\,u - i\\,\\cos\\alpha\\, v &= \\frac1{\\sqrt{5}}\\left(\\epsilon^3 - \\epsilon^2\\right) u -\\frac1{\\sqrt{5}}\\left(\\epsilon - \\epsilon^4\\right) v \\,,\n",
    "\\end{align*}\n",
    "\n",
    "$$\n",
    "\n",
    "whereas transformation $V$ corresponds to $u' = \\epsilon^{1/2}\\, u$, $v' = \\epsilon^{-1/2}\\, v$."
   ]
  },
  {
   "cell_type": "markdown",
   "metadata": {},
   "source": [
    "## Icosahedral Polynomial Invariants\n",
    "\n",
    "Multiplying together the homogeneous polynomials $(u-z_k\\,v)$ for\n",
    "$k\\in \\{0,1,\\ldots,10,\\infty\\}$, we find\n",
    "\n",
    "$$\n",
    "\n",
    "f(u,v) = \\prod_k\\left(u - z_k\\,v\\right) = uv\\left(u^{10}+11\\,u^5v^5-v^{10}\\right) \\,.\n",
    "\n",
    "$$"
   ]
  },
  {
   "cell_type": "code",
   "execution_count": 45,
   "metadata": {},
   "outputs": [
    {
     "data": {
      "text/latex": [
       "$\\displaystyle u v \\left(u - v \\left(e^{3} + e^{2}\\right)\\right) \\left(u - v \\left(e^{4} + e\\right)\\right) \\left(- e v \\left(e^{3} + e^{2}\\right) + u\\right) \\left(- e v \\left(e^{4} + e\\right) + u\\right) \\left(- e^{2} v \\left(e^{3} + e^{2}\\right) + u\\right) \\left(- e^{2} v \\left(e^{4} + e\\right) + u\\right) \\left(- e^{3} v \\left(e^{3} + e^{2}\\right) + u\\right) \\left(- e^{3} v \\left(e^{4} + e\\right) + u\\right) \\left(- e^{4} v \\left(e^{3} + e^{2}\\right) + u\\right) \\left(- e^{4} v \\left(e^{4} + e\\right) + u\\right)$"
      ],
      "text/plain": [
       "u*v*(u - v*(e**3 + e**2))*(u - v*(e**4 + e))*(-e*v*(e**3 + e**2) + u)*(-e*v*(e**4 + e) + u)*(-e**2*v*(e**3 + e**2) + u)*(-e**2*v*(e**4 + e) + u)*(-e**3*v*(e**3 + e**2) + u)*(-e**3*v*(e**4 + e) + u)*(-e**4*v*(e**3 + e**2) + u)*(-e**4*v*(e**4 + e) + u)"
      ]
     },
     "execution_count": 45,
     "metadata": {},
     "output_type": "execute_result"
    }
   ],
   "source": [
    "# Check of the above:\n",
    "from functools import reduce\n",
    "\n",
    "# e = exp(2 * pi * I / 5)\n",
    "e = symbols(\"e\")\n",
    "n = e**2 + e**3\n",
    "m = e + e**4\n",
    "\n",
    "iso_verts = []\n",
    "for i in range(5):\n",
    "    iso_verts.append(n * e**i)\n",
    "    iso_verts.append(m * e**i)\n",
    "\n",
    "f = u * v * reduce(lambda x, y: x * y, [u - x * v for x in iso_verts])\n",
    "f"
   ]
  },
  {
   "cell_type": "code",
   "execution_count": 46,
   "metadata": {},
   "outputs": [
    {
     "data": {
      "text/latex": [
       "$\\displaystyle u v \\left(u^{10} + 11 u^{5} v^{5} - v^{10}\\right)$"
      ],
      "text/plain": [
       "u*v*(u**10 + 11*u**5*v**5 - v**10)"
      ]
     },
     "execution_count": 46,
     "metadata": {},
     "output_type": "execute_result"
    }
   ],
   "source": [
    "def e_simp(expr, full=True):\n",
    "    result = Poly(expr, e)\n",
    "    e_coeffs = reversed(result.all_coeffs())\n",
    "    simp_coeffs = [0] * 5\n",
    "    # enforce e**5 = 1\n",
    "    for i, coeff in enumerate(e_coeffs):\n",
    "        simp_coeffs[i % 5] += coeff\n",
    "    # enforce e**4 = - e**3 - e**2 - e - 1\n",
    "    if full:\n",
    "        simp_coeffs = [simp_coeffs[i] - simp_coeffs[4] for i in range(4)]\n",
    "    return simplify(Poly.from_list(reversed(simp_coeffs), e).as_expr())\n",
    "\n",
    "\n",
    "e_simp(f)"
   ]
  },
  {
   "cell_type": "markdown",
   "metadata": {},
   "source": [
    "It should be straightforward to check that $f(u,v)$ is indeed a polynomial\n",
    "invariant under transformations $IV$, $V$:\n",
    "\n",
    "$$\n",
    "\n",
    "f(u',v') = f(u,v) \\,.\n",
    "\n",
    "$$"
   ]
  },
  {
   "cell_type": "code",
   "execution_count": 47,
   "metadata": {},
   "outputs": [
    {
     "name": "stdout",
     "output_type": "stream",
     "text": [
      "f_prime=u*v*(u**10 + 11*u**5*v**5 - v**10)\n"
     ]
    },
    {
     "data": {
      "text/plain": [
       "False"
      ]
     },
     "execution_count": 47,
     "metadata": {},
     "output_type": "execute_result"
    }
   ],
   "source": [
    "# Check of the above:\n",
    "orth = 1 / sqrt(5) * Matrix([[e - e**4, e**3 - e**2], [e**3 - e**2, e**4 - e]])\n",
    "u, v = symbols(\"u v\")\n",
    "U, V = symbols(\"U V\")\n",
    "uv = Matrix([u, v])\n",
    "\n",
    "uv_prime = orth * uv\n",
    "\n",
    "f_prime = f.subs([(u, U), (v, V)]).subs([(U, uv_prime[0]), (V, uv_prime[1])])\n",
    "f_prime = e_simp(f_prime)\n",
    "print(f\"{f_prime=}\")\n",
    "e_simp(f_prime).equals(f)"
   ]
  },
  {
   "cell_type": "markdown",
   "metadata": {},
   "source": [
    "Computing the Hessian of $f$, we find ${\\rm Hess}[f](u,v) = 121\\,H(u,v)$ where\n",
    "\n",
    "$$\n",
    "\n",
    "H(u,v) := -u^{20} - v^{20} + 228\\left(u^{15}\\,v^5-u^5\\,v^{15}\\right)-494\\,u^{10}\\,v^{10} \\,.\n",
    "\n",
    "$$"
   ]
  },
  {
   "cell_type": "code",
   "execution_count": null,
   "metadata": {},
   "outputs": [
    {
     "data": {
      "text/latex": [
       "$\\displaystyle \\frac{2 i e^{3} + e^{2} \\left(-1 + 2 i\\right) + e \\left(-2 + i\\right) - 1}{e \\left(e^{2} + e + 1\\right)}$"
      ],
      "text/plain": [
       "(2*I*e**3 + e**2*(-1 + 2*I) + e*(-2 + I) - 1)/(e*(e**2 + e + 1))"
      ]
     },
     "execution_count": 51,
     "metadata": {},
     "output_type": "execute_result"
    }
   ],
   "source": [
    "r = (e - e**4) * I + e**2 + e**3\n",
    "\n",
    "\n",
    "def rot3(z):\n",
    "    return ((e - e**3) * z - (1 - e**4)) / ((1 - e) * z + e**4 - e**2)\n",
    "\n",
    "\n",
    "simplify(simplify(rot3(r)).subs(e**5, 1).subs(e**4, -(e**3) - e**2 - e - 1))"
   ]
  },
  {
   "cell_type": "code",
   "execution_count": null,
   "metadata": {},
   "outputs": [
    {
     "data": {
      "text/latex": [
       "$\\displaystyle a^{5} u^{5} + b^{5} v^{5}$"
      ],
      "text/plain": [
       "a**5*u**5 + b**5*v**5"
      ]
     },
     "execution_count": 65,
     "metadata": {},
     "output_type": "execute_result"
    }
   ],
   "source": [
    "a, b = symbols(\"a b\")\n",
    "expr = reduce(lambda x, y: x * y, [e**k * a * u + b * v for k in range(5)])\n",
    "e_simp(expr)"
   ]
  },
  {
   "cell_type": "code",
   "execution_count": null,
   "metadata": {},
   "outputs": [
    {
     "data": {
      "text/latex": [
       "$\\displaystyle e^{3} \\left(- \\frac{105}{4} + \\frac{1625 i}{8}\\right) + e^{2} \\left(- \\frac{3885}{16} + \\frac{1625 i}{8}\\right) - \\frac{4305 e}{16} - \\frac{4305}{32} - \\frac{875 i}{16}$"
      ],
      "text/plain": [
       "e**3*(-105/4 + 1625*I/8) + e**2*(-3885/16 + 1625*I/8) - 4305*e/16 - 4305/32 - 875*I/16"
      ]
     },
     "execution_count": 58,
     "metadata": {},
     "output_type": "execute_result"
    }
   ],
   "source": [
    "r = ((e**2 - e**3) * I + (e**2 + e**3) / 2) * (e - e**4)\n",
    "e_simp(r**5)"
   ]
  },
  {
   "cell_type": "code",
   "execution_count": null,
   "metadata": {},
   "outputs": [
    {
     "data": {
      "text/latex": [
       "$\\displaystyle 15 e^{3} - 5 e^{2} + 10 e + 5$"
      ],
      "text/plain": [
       "15*e**3 - 5*e**2 + 10*e + 5"
      ]
     },
     "execution_count": 59,
     "metadata": {},
     "output_type": "execute_result"
    }
   ],
   "source": [
    "s = e**3 - e**2\n",
    "e_simp(s**5)"
   ]
  },
  {
   "cell_type": "code",
   "execution_count": null,
   "metadata": {},
   "outputs": [
    {
     "data": {
      "text/latex": [
       "$\\displaystyle a_{0} b_{0} + a_{1} b_{4} + a_{2} b_{3} + a_{3} b_{2} + a_{4} b_{1} + e^{4} \\left(a_{0} b_{4} + a_{1} b_{3} + a_{2} b_{2} + a_{3} b_{1} + a_{4} b_{0}\\right) + e^{3} \\left(a_{0} b_{3} + a_{1} b_{2} + a_{2} b_{1} + a_{3} b_{0} + a_{4} b_{4}\\right) + e^{2} \\left(a_{0} b_{2} + a_{1} b_{1} + a_{2} b_{0} + a_{3} b_{4} + a_{4} b_{3}\\right) + e \\left(a_{0} b_{1} + a_{1} b_{0} + a_{2} b_{4} + a_{3} b_{3} + a_{4} b_{2}\\right)$"
      ],
      "text/plain": [
       "a0*b0 + a1*b4 + a2*b3 + a3*b2 + a4*b1 + e**4*(a0*b4 + a1*b3 + a2*b2 + a3*b1 + a4*b0) + e**3*(a0*b3 + a1*b2 + a2*b1 + a3*b0 + a4*b4) + e**2*(a0*b2 + a1*b1 + a2*b0 + a3*b4 + a4*b3) + e*(a0*b1 + a1*b0 + a2*b4 + a3*b3 + a4*b2)"
      ]
     },
     "execution_count": 72,
     "metadata": {},
     "output_type": "execute_result"
    }
   ],
   "source": [
    "aes = symbols(\"a0 a1 a2 a3 a4\")\n",
    "bs = symbols(\"b0 b1 b2 b3 b4\")\n",
    "\n",
    "\n",
    "def list_mult(vals):\n",
    "    return reduce(lambda x, y: x * y, vals)\n",
    "\n",
    "\n",
    "e_simp(\n",
    "    reduce(lambda x, y: x + y, [aes[k] * e**k for k in range(5)])\n",
    "    * reduce(lambda x, y: x + y, [bs[k] * e**k for k in range(5)]),\n",
    "    full=False,\n",
    ")"
   ]
  },
  {
   "cell_type": "markdown",
   "metadata": {},
   "source": [
    "## The Rotated Octahedron"
   ]
  },
  {
   "cell_type": "code",
   "execution_count": 60,
   "metadata": {},
   "outputs": [
    {
     "data": {
      "text/latex": [
       "$\\displaystyle u^{5} v - u v^{5}$"
      ],
      "text/plain": [
       "u**5*v - u*v**5"
      ]
     },
     "execution_count": 60,
     "metadata": {},
     "output_type": "execute_result"
    }
   ],
   "source": [
    "alpha = symbols(\"alpha\")\n",
    "\n",
    "\n",
    "def reduce_multiply(list):\n",
    "    return reduce(lambda x, y: x * y, list)\n",
    "\n",
    "\n",
    "zs = [0, oo, 1, -1, I, -I]\n",
    "\n",
    "t = simplify(reduce_multiply([u - z * v if z is not oo else v for z in zs]))\n",
    "expand(t)"
   ]
  },
  {
   "cell_type": "code",
   "execution_count": 135,
   "metadata": {},
   "outputs": [
    {
     "name": "stdout",
     "output_type": "stream",
     "text": [
      "[exp(I*theta)*sin(alpha/2)/cos(alpha/2), -exp(I*theta)*cos(alpha/2)/sin(alpha/2), (sin(alpha/2) + cos(alpha/2))*exp(I*theta)/(-sin(alpha/2) + cos(alpha/2)), (sin(alpha/2) - cos(alpha/2))*exp(I*theta)/(sin(alpha/2) + cos(alpha/2)), (sin(alpha/2) + I*cos(alpha/2))*exp(I*theta)/(-I*sin(alpha/2) + cos(alpha/2)), (sin(alpha/2) - I*cos(alpha/2))*exp(I*theta)/(I*sin(alpha/2) + cos(alpha/2))]\n"
     ]
    },
    {
     "data": {
      "text/latex": [
       "$\\displaystyle u^{6} + \\frac{4 u^{5} v e^{i \\theta}}{\\tan{\\left(2 \\alpha \\right)}} - 5 u^{4} v^{2} e^{2 i \\theta} - 5 u^{2} v^{4} e^{4 i \\theta} - \\frac{4 u v^{5} e^{5 i \\theta}}{\\tan{\\left(2 \\alpha \\right)}} + v^{6} e^{6 i \\theta}$"
      ],
      "text/plain": [
       "u**6 + 4*u**5*v*exp(I*theta)/tan(2*alpha) - 5*u**4*v**2*exp(2*I*theta) - 5*u**2*v**4*exp(4*I*theta) - 4*u*v**5*exp(5*I*theta)/tan(2*alpha) + v**6*exp(6*I*theta)"
      ]
     },
     "execution_count": 135,
     "metadata": {},
     "output_type": "execute_result"
    }
   ],
   "source": [
    "def rotate(z, theta=0):\n",
    "    if z is oo:\n",
    "        first_rot = -cos(alpha / 2) / sin(alpha / 2)\n",
    "    else:\n",
    "        first_rot = (cos(alpha / 2) * z + sin(alpha / 2)) / (\n",
    "            -sin(alpha / 2) * z + cos(alpha / 2)\n",
    "        )\n",
    "    return exp(I * theta) * first_rot\n",
    "\n",
    "\n",
    "theta = symbols(\"theta\")\n",
    "\n",
    "zps = [rotate(z, theta=theta) for z in zs]\n",
    "print(zps)\n",
    "tp = reduce_multiply([u - z * v for z in zps])\n",
    "tp = simplify(tp.expand())\n",
    "tp\n",
    "# tppoly = Poly(tp.expand(), u)\n",
    "# for coeff in tppoly.all_coeffs():\n",
    "#     tmp = simplify(coeff.factor())\n",
    "#     print(tmp)\n",
    "#     print(tmp.subs(alpha, 0))\n"
   ]
  },
  {
   "cell_type": "code",
   "execution_count": 136,
   "metadata": {},
   "outputs": [
    {
     "data": {
      "text/latex": [
       "$\\displaystyle u^{6} - 5 u^{4} v^{2} e^{2 i \\theta} - 5 u^{2} v^{4} e^{4 i \\theta} + v^{6} e^{6 i \\theta} + \\frac{2 u^{5} v \\left(\\phi^{2} - 1\\right) e^{i \\theta}}{\\phi} - \\frac{2 u v^{5} \\left(\\phi^{2} - 1\\right) e^{5 i \\theta}}{\\phi}$"
      ],
      "text/plain": [
       "u**6 - 5*u**4*v**2*exp(2*I*theta) - 5*u**2*v**4*exp(4*I*theta) + v**6*exp(6*I*theta) + 2*u**5*v*(phi**2 - 1)*exp(I*theta)/phi - 2*u*v**5*(phi**2 - 1)*exp(5*I*theta)/phi"
      ]
     },
     "execution_count": 136,
     "metadata": {},
     "output_type": "execute_result"
    }
   ],
   "source": [
    "tp = tp.subs(tan(2*alpha), 2*phi/(phi**2-1))\n",
    "tp"
   ]
  },
  {
   "cell_type": "code",
   "execution_count": 126,
   "metadata": {},
   "outputs": [],
   "source": [
    "factors = []\n",
    "for val in [k * 2 * pi / 5 for k in range(5)]:\n",
    "    factors.append(tp.subs(theta, val))\n",
    "result = reduce_multiply(factors)\n"
   ]
  },
  {
   "cell_type": "code",
   "execution_count": 128,
   "metadata": {},
   "outputs": [
    {
     "data": {
      "text/latex": [
       "$\\displaystyle \\operatorname{Poly}{\\left( u^{30} + \\frac{32 \\phi^{10} v^{5} + 40 \\phi^{8} v^{5} + 10 \\phi^{6} v^{5} - 10 \\phi^{4} v^{5} - 40 \\phi^{2} v^{5} - 32 v^{5}}{\\phi^{5}} u^{25} + \\frac{- 320 \\phi^{8} v^{10} - 1680 \\phi^{6} v^{10} - 2725 \\phi^{4} v^{10} - 1680 \\phi^{2} v^{10} - 320 v^{10}}{\\phi^{4}} u^{20} + \\frac{- 320 \\phi^{8} v^{20} - 1680 \\phi^{6} v^{20} - 2725 \\phi^{4} v^{20} - 1680 \\phi^{2} v^{20} - 320 v^{20}}{\\phi^{4}} u^{10} + \\frac{- 32 \\phi^{10} v^{25} - 40 \\phi^{8} v^{25} - 10 \\phi^{6} v^{25} + 10 \\phi^{4} v^{25} + 40 \\phi^{2} v^{25} + 32 v^{25}}{\\phi^{5}} u^{5} + v^{30}, u, domain=\\mathbb{Z}\\left(v, \\phi\\right) \\right)}$"
      ],
      "text/plain": [
       "Poly(u**30 + (32*phi**10*v**5 + 40*phi**8*v**5 + 10*phi**6*v**5 - 10*phi**4*v**5 - 40*phi**2*v**5 - 32*v**5)/phi**5*u**25 + (-320*phi**8*v**10 - 1680*phi**6*v**10 - 2725*phi**4*v**10 - 1680*phi**2*v**10 - 320*v**10)/phi**4*u**20 + (-320*phi**8*v**20 - 1680*phi**6*v**20 - 2725*phi**4*v**20 - 1680*phi**2*v**20 - 320*v**20)/phi**4*u**10 + (-32*phi**10*v**25 - 40*phi**8*v**25 - 10*phi**6*v**25 + 10*phi**4*v**25 + 40*phi**2*v**25 + 32*v**25)/phi**5*u**5 + v**30, u, domain='ZZ(v,phi)')"
      ]
     },
     "execution_count": 128,
     "metadata": {},
     "output_type": "execute_result"
    }
   ],
   "source": [
    "result = Poly(result, u)\n",
    "new_coeffs = []\n",
    "for coeff in result.all_coeffs():\n",
    "    new_coeffs.append(simplify(coeff))\n",
    "\n",
    "result = Poly.from_list(new_coeffs, u)\n",
    "result\n"
   ]
  },
  {
   "cell_type": "code",
   "execution_count": 134,
   "metadata": {},
   "outputs": [
    {
     "data": {
      "text/latex": [
       "$\\displaystyle u^{30} + 522 u^{25} v^{5} - 10005 u^{20} v^{10} - 10005 u^{10} v^{20} - 522 u^{5} v^{25} + v^{30}$"
      ],
      "text/plain": [
       "u**30 + 522*u**25*v**5 - 10005*u**20*v**10 - 10005*u**10*v**20 - 522*u**5*v**25 + v**30"
      ]
     },
     "execution_count": 134,
     "metadata": {},
     "output_type": "execute_result"
    }
   ],
   "source": [
    "simplify(result.subs(phi,(1+sqrt(5))/2))"
   ]
  },
  {
   "cell_type": "code",
   "execution_count": 95,
   "metadata": {},
   "outputs": [
    {
     "name": "stdout",
     "output_type": "stream",
     "text": [
      "[exp(2*I*pi/5)*sin(alpha/2)/cos(alpha/2), -exp(2*I*pi/5)*cos(alpha/2)/sin(alpha/2), (sin(alpha/2) + cos(alpha/2))*exp(2*I*pi/5)/(-sin(alpha/2) + cos(alpha/2)), (sin(alpha/2) - cos(alpha/2))*exp(2*I*pi/5)/(sin(alpha/2) + cos(alpha/2)), (sin(alpha/2) + I*cos(alpha/2))*exp(2*I*pi/5)/(-I*sin(alpha/2) + cos(alpha/2)), (sin(alpha/2) - I*cos(alpha/2))*exp(2*I*pi/5)/(I*sin(alpha/2) + cos(alpha/2))]\n"
     ]
    },
    {
     "ename": "KeyboardInterrupt",
     "evalue": "",
     "output_type": "error",
     "traceback": [
      "\u001b[1;31m---------------------------------------------------------------------------\u001b[0m",
      "\u001b[1;31mKeyboardInterrupt\u001b[0m                         Traceback (most recent call last)",
      "Cell \u001b[1;32mIn[95], line 4\u001b[0m\n\u001b[0;32m      2\u001b[0m \u001b[38;5;28mprint\u001b[39m(zps)\n\u001b[0;32m      3\u001b[0m tp \u001b[38;5;241m=\u001b[39m reduce_multiply([u \u001b[38;5;241m-\u001b[39m z \u001b[38;5;241m*\u001b[39m v \u001b[38;5;28;01mfor\u001b[39;00m z \u001b[38;5;129;01min\u001b[39;00m zps])\n\u001b[1;32m----> 4\u001b[0m tp \u001b[38;5;241m=\u001b[39m \u001b[43msimplify\u001b[49m\u001b[43m(\u001b[49m\u001b[43mtp\u001b[49m\u001b[38;5;241;43m.\u001b[39;49m\u001b[43mexpand\u001b[49m\u001b[43m(\u001b[49m\u001b[43m)\u001b[49m\u001b[43m)\u001b[49m\n\u001b[0;32m      5\u001b[0m tp\n",
      "File \u001b[1;32mc:\\Users\\PROTO\\dev\\tmp\\.venv\\lib\\site-packages\\sympy\\simplify\\simplify.py:644\u001b[0m, in \u001b[0;36msimplify\u001b[1;34m(expr, ratio, measure, rational, inverse, doit, **kwargs)\u001b[0m\n\u001b[0;32m    642\u001b[0m expr \u001b[38;5;241m=\u001b[39m _bottom_up(expr, \u001b[38;5;28;01mlambda\u001b[39;00m w: \u001b[38;5;28mgetattr\u001b[39m(w, \u001b[38;5;124m'\u001b[39m\u001b[38;5;124mnormal\u001b[39m\u001b[38;5;124m'\u001b[39m, \u001b[38;5;28;01mlambda\u001b[39;00m: w)())\n\u001b[0;32m    643\u001b[0m expr \u001b[38;5;241m=\u001b[39m Mul(\u001b[38;5;241m*\u001b[39mpowsimp(expr)\u001b[38;5;241m.\u001b[39mas_content_primitive())\n\u001b[1;32m--> 644\u001b[0m _e \u001b[38;5;241m=\u001b[39m \u001b[43mcancel\u001b[49m\u001b[43m(\u001b[49m\u001b[43mexpr\u001b[49m\u001b[43m)\u001b[49m\n\u001b[0;32m    645\u001b[0m expr1 \u001b[38;5;241m=\u001b[39m shorter(_e, _mexpand(_e)\u001b[38;5;241m.\u001b[39mcancel())  \u001b[38;5;66;03m# issue 6829\u001b[39;00m\n\u001b[0;32m    646\u001b[0m expr2 \u001b[38;5;241m=\u001b[39m shorter(together(expr, deep\u001b[38;5;241m=\u001b[39m\u001b[38;5;28;01mTrue\u001b[39;00m), together(expr1, deep\u001b[38;5;241m=\u001b[39m\u001b[38;5;28;01mTrue\u001b[39;00m))\n",
      "File \u001b[1;32mc:\\Users\\PROTO\\dev\\tmp\\.venv\\lib\\site-packages\\sympy\\polys\\polytools.py:6859\u001b[0m, in \u001b[0;36mcancel\u001b[1;34m(f, _signsimp, *gens, **args)\u001b[0m\n\u001b[0;32m   6857\u001b[0m \u001b[38;5;28;01mif\u001b[39;00m f\u001b[38;5;241m.\u001b[39mhas(Piecewise):\n\u001b[0;32m   6858\u001b[0m     \u001b[38;5;28;01mraise\u001b[39;00m PolynomialError()\n\u001b[1;32m-> 6859\u001b[0m R, (F, G) \u001b[38;5;241m=\u001b[39m sring((p, q), \u001b[38;5;241m*\u001b[39mgens, \u001b[38;5;241m*\u001b[39m\u001b[38;5;241m*\u001b[39margs)\n\u001b[0;32m   6860\u001b[0m \u001b[38;5;28;01mif\u001b[39;00m \u001b[38;5;129;01mnot\u001b[39;00m R\u001b[38;5;241m.\u001b[39mngens:\n\u001b[0;32m   6861\u001b[0m     \u001b[38;5;28;01mif\u001b[39;00m \u001b[38;5;129;01mnot\u001b[39;00m \u001b[38;5;28misinstance\u001b[39m(f, (\u001b[38;5;28mtuple\u001b[39m, Tuple)):\n",
      "File \u001b[1;32mc:\\Users\\PROTO\\dev\\tmp\\.venv\\lib\\site-packages\\sympy\\polys\\rings.py:163\u001b[0m, in \u001b[0;36msring\u001b[1;34m(exprs, *symbols, **options)\u001b[0m\n\u001b[0;32m    160\u001b[0m opt \u001b[38;5;241m=\u001b[39m build_options(symbols, options)\n\u001b[0;32m    162\u001b[0m \u001b[38;5;66;03m# TODO: rewrite this so that it doesn't use expand() (see poly()).\u001b[39;00m\n\u001b[1;32m--> 163\u001b[0m reps, opt \u001b[38;5;241m=\u001b[39m \u001b[43m_parallel_dict_from_expr\u001b[49m\u001b[43m(\u001b[49m\u001b[43mexprs\u001b[49m\u001b[43m,\u001b[49m\u001b[43m \u001b[49m\u001b[43mopt\u001b[49m\u001b[43m)\u001b[49m\n\u001b[0;32m    165\u001b[0m \u001b[38;5;28;01mif\u001b[39;00m opt\u001b[38;5;241m.\u001b[39mdomain \u001b[38;5;129;01mis\u001b[39;00m \u001b[38;5;28;01mNone\u001b[39;00m:\n\u001b[0;32m    166\u001b[0m     coeffs \u001b[38;5;241m=\u001b[39m \u001b[38;5;28msum\u001b[39m([ \u001b[38;5;28mlist\u001b[39m(rep\u001b[38;5;241m.\u001b[39mvalues()) \u001b[38;5;28;01mfor\u001b[39;00m rep \u001b[38;5;129;01min\u001b[39;00m reps ], [])\n",
      "File \u001b[1;32mc:\\Users\\PROTO\\dev\\tmp\\.venv\\lib\\site-packages\\sympy\\polys\\polyutils.py:326\u001b[0m, in \u001b[0;36m_parallel_dict_from_expr\u001b[1;34m(exprs, opt)\u001b[0m\n\u001b[0;32m    324\u001b[0m \u001b[38;5;250m\u001b[39m\u001b[38;5;124;03m\"\"\"Transform expressions into a multinomial form. \"\"\"\u001b[39;00m\n\u001b[0;32m    325\u001b[0m \u001b[38;5;28;01mif\u001b[39;00m opt\u001b[38;5;241m.\u001b[39mexpand \u001b[38;5;129;01mis\u001b[39;00m \u001b[38;5;129;01mnot\u001b[39;00m \u001b[38;5;28;01mFalse\u001b[39;00m:\n\u001b[1;32m--> 326\u001b[0m     exprs \u001b[38;5;241m=\u001b[39m [ expr\u001b[38;5;241m.\u001b[39mexpand() \u001b[38;5;28;01mfor\u001b[39;00m expr \u001b[38;5;129;01min\u001b[39;00m exprs ]\n\u001b[0;32m    328\u001b[0m \u001b[38;5;28;01mif\u001b[39;00m \u001b[38;5;28many\u001b[39m(expr\u001b[38;5;241m.\u001b[39mis_commutative \u001b[38;5;129;01mis\u001b[39;00m \u001b[38;5;28;01mFalse\u001b[39;00m \u001b[38;5;28;01mfor\u001b[39;00m expr \u001b[38;5;129;01min\u001b[39;00m exprs):\n\u001b[0;32m    329\u001b[0m     \u001b[38;5;28;01mraise\u001b[39;00m PolynomialError(\u001b[38;5;124m'\u001b[39m\u001b[38;5;124mnon-commutative expressions are not supported\u001b[39m\u001b[38;5;124m'\u001b[39m)\n",
      "File \u001b[1;32mc:\\Users\\PROTO\\dev\\tmp\\.venv\\lib\\site-packages\\sympy\\polys\\polyutils.py:326\u001b[0m, in \u001b[0;36m<listcomp>\u001b[1;34m(.0)\u001b[0m\n\u001b[0;32m    324\u001b[0m \u001b[38;5;250m\u001b[39m\u001b[38;5;124;03m\"\"\"Transform expressions into a multinomial form. \"\"\"\u001b[39;00m\n\u001b[0;32m    325\u001b[0m \u001b[38;5;28;01mif\u001b[39;00m opt\u001b[38;5;241m.\u001b[39mexpand \u001b[38;5;129;01mis\u001b[39;00m \u001b[38;5;129;01mnot\u001b[39;00m \u001b[38;5;28;01mFalse\u001b[39;00m:\n\u001b[1;32m--> 326\u001b[0m     exprs \u001b[38;5;241m=\u001b[39m [ \u001b[43mexpr\u001b[49m\u001b[38;5;241;43m.\u001b[39;49m\u001b[43mexpand\u001b[49m\u001b[43m(\u001b[49m\u001b[43m)\u001b[49m \u001b[38;5;28;01mfor\u001b[39;00m expr \u001b[38;5;129;01min\u001b[39;00m exprs ]\n\u001b[0;32m    328\u001b[0m \u001b[38;5;28;01mif\u001b[39;00m \u001b[38;5;28many\u001b[39m(expr\u001b[38;5;241m.\u001b[39mis_commutative \u001b[38;5;129;01mis\u001b[39;00m \u001b[38;5;28;01mFalse\u001b[39;00m \u001b[38;5;28;01mfor\u001b[39;00m expr \u001b[38;5;129;01min\u001b[39;00m exprs):\n\u001b[0;32m    329\u001b[0m     \u001b[38;5;28;01mraise\u001b[39;00m PolynomialError(\u001b[38;5;124m'\u001b[39m\u001b[38;5;124mnon-commutative expressions are not supported\u001b[39m\u001b[38;5;124m'\u001b[39m)\n",
      "File \u001b[1;32mc:\\Users\\PROTO\\dev\\tmp\\.venv\\lib\\site-packages\\sympy\\core\\cache.py:72\u001b[0m, in \u001b[0;36m__cacheit.<locals>.func_wrapper.<locals>.wrapper\u001b[1;34m(*args, **kwargs)\u001b[0m\n\u001b[0;32m     69\u001b[0m \u001b[38;5;129m@wraps\u001b[39m(func)\n\u001b[0;32m     70\u001b[0m \u001b[38;5;28;01mdef\u001b[39;00m \u001b[38;5;21mwrapper\u001b[39m(\u001b[38;5;241m*\u001b[39margs, \u001b[38;5;241m*\u001b[39m\u001b[38;5;241m*\u001b[39mkwargs):\n\u001b[0;32m     71\u001b[0m     \u001b[38;5;28;01mtry\u001b[39;00m:\n\u001b[1;32m---> 72\u001b[0m         retval \u001b[38;5;241m=\u001b[39m cfunc(\u001b[38;5;241m*\u001b[39margs, \u001b[38;5;241m*\u001b[39m\u001b[38;5;241m*\u001b[39mkwargs)\n\u001b[0;32m     73\u001b[0m     \u001b[38;5;28;01mexcept\u001b[39;00m \u001b[38;5;167;01mTypeError\u001b[39;00m \u001b[38;5;28;01mas\u001b[39;00m e:\n\u001b[0;32m     74\u001b[0m         \u001b[38;5;28;01mif\u001b[39;00m \u001b[38;5;129;01mnot\u001b[39;00m e\u001b[38;5;241m.\u001b[39margs \u001b[38;5;129;01mor\u001b[39;00m \u001b[38;5;129;01mnot\u001b[39;00m e\u001b[38;5;241m.\u001b[39margs[\u001b[38;5;241m0\u001b[39m]\u001b[38;5;241m.\u001b[39mstartswith(\u001b[38;5;124m'\u001b[39m\u001b[38;5;124munhashable type:\u001b[39m\u001b[38;5;124m'\u001b[39m):\n",
      "File \u001b[1;32mc:\\Users\\PROTO\\dev\\tmp\\.venv\\lib\\site-packages\\sympy\\core\\expr.py:3682\u001b[0m, in \u001b[0;36mExpr.expand\u001b[1;34m(self, deep, modulus, power_base, power_exp, mul, log, multinomial, basic, **hints)\u001b[0m\n\u001b[0;32m   3680\u001b[0m     \u001b[38;5;28;01mif\u001b[39;00m use_hint:\n\u001b[0;32m   3681\u001b[0m         hint \u001b[38;5;241m=\u001b[39m \u001b[38;5;124m'\u001b[39m\u001b[38;5;124m_eval_expand_\u001b[39m\u001b[38;5;124m'\u001b[39m \u001b[38;5;241m+\u001b[39m hint\n\u001b[1;32m-> 3682\u001b[0m         expr, hit \u001b[38;5;241m=\u001b[39m Expr\u001b[38;5;241m.\u001b[39m_expand_hint(expr, hint, deep\u001b[38;5;241m=\u001b[39mdeep, \u001b[38;5;241m*\u001b[39m\u001b[38;5;241m*\u001b[39mhints)\n\u001b[0;32m   3684\u001b[0m \u001b[38;5;28;01mwhile\u001b[39;00m \u001b[38;5;28;01mTrue\u001b[39;00m:\n\u001b[0;32m   3685\u001b[0m     was \u001b[38;5;241m=\u001b[39m expr\n",
      "File \u001b[1;32mc:\\Users\\PROTO\\dev\\tmp\\.venv\\lib\\site-packages\\sympy\\core\\expr.py:3615\u001b[0m, in \u001b[0;36mExpr._expand_hint\u001b[1;34m(expr, hint, deep, **hints)\u001b[0m\n\u001b[0;32m   3613\u001b[0m sargs \u001b[38;5;241m=\u001b[39m []\n\u001b[0;32m   3614\u001b[0m \u001b[38;5;28;01mfor\u001b[39;00m arg \u001b[38;5;129;01min\u001b[39;00m expr\u001b[38;5;241m.\u001b[39margs:\n\u001b[1;32m-> 3615\u001b[0m     arg, arghit \u001b[38;5;241m=\u001b[39m Expr\u001b[38;5;241m.\u001b[39m_expand_hint(arg, hint, \u001b[38;5;241m*\u001b[39m\u001b[38;5;241m*\u001b[39mhints)\n\u001b[0;32m   3616\u001b[0m     hit \u001b[38;5;241m|\u001b[39m\u001b[38;5;241m=\u001b[39m arghit\n\u001b[0;32m   3617\u001b[0m     sargs\u001b[38;5;241m.\u001b[39mappend(arg)\n",
      "File \u001b[1;32mc:\\Users\\PROTO\\dev\\tmp\\.venv\\lib\\site-packages\\sympy\\core\\expr.py:3615\u001b[0m, in \u001b[0;36mExpr._expand_hint\u001b[1;34m(expr, hint, deep, **hints)\u001b[0m\n\u001b[0;32m   3613\u001b[0m sargs \u001b[38;5;241m=\u001b[39m []\n\u001b[0;32m   3614\u001b[0m \u001b[38;5;28;01mfor\u001b[39;00m arg \u001b[38;5;129;01min\u001b[39;00m expr\u001b[38;5;241m.\u001b[39margs:\n\u001b[1;32m-> 3615\u001b[0m     arg, arghit \u001b[38;5;241m=\u001b[39m Expr\u001b[38;5;241m.\u001b[39m_expand_hint(arg, hint, \u001b[38;5;241m*\u001b[39m\u001b[38;5;241m*\u001b[39mhints)\n\u001b[0;32m   3616\u001b[0m     hit \u001b[38;5;241m|\u001b[39m\u001b[38;5;241m=\u001b[39m arghit\n\u001b[0;32m   3617\u001b[0m     sargs\u001b[38;5;241m.\u001b[39mappend(arg)\n",
      "File \u001b[1;32mc:\\Users\\PROTO\\dev\\tmp\\.venv\\lib\\site-packages\\sympy\\core\\expr.py:3623\u001b[0m, in \u001b[0;36mExpr._expand_hint\u001b[1;34m(expr, hint, deep, **hints)\u001b[0m\n\u001b[0;32m   3620\u001b[0m         expr \u001b[38;5;241m=\u001b[39m expr\u001b[38;5;241m.\u001b[39mfunc(\u001b[38;5;241m*\u001b[39msargs)\n\u001b[0;32m   3622\u001b[0m \u001b[38;5;28;01mif\u001b[39;00m \u001b[38;5;28mhasattr\u001b[39m(expr, hint):\n\u001b[1;32m-> 3623\u001b[0m     newexpr \u001b[38;5;241m=\u001b[39m \u001b[38;5;28mgetattr\u001b[39m(expr, hint)(\u001b[38;5;241m*\u001b[39m\u001b[38;5;241m*\u001b[39mhints)\n\u001b[0;32m   3624\u001b[0m     \u001b[38;5;28;01mif\u001b[39;00m newexpr \u001b[38;5;241m!=\u001b[39m expr:\n\u001b[0;32m   3625\u001b[0m         \u001b[38;5;28;01mreturn\u001b[39;00m (newexpr, \u001b[38;5;28;01mTrue\u001b[39;00m)\n",
      "File \u001b[1;32mc:\\Users\\PROTO\\dev\\tmp\\.venv\\lib\\site-packages\\sympy\\core\\mul.py:947\u001b[0m, in \u001b[0;36mMul._eval_expand_mul\u001b[1;34m(self, **hints)\u001b[0m\n\u001b[0;32m    945\u001b[0m \u001b[38;5;28;01mif\u001b[39;00m sums:\n\u001b[0;32m    946\u001b[0m     deep \u001b[38;5;241m=\u001b[39m hints\u001b[38;5;241m.\u001b[39mget(\u001b[38;5;124m\"\u001b[39m\u001b[38;5;124mdeep\u001b[39m\u001b[38;5;124m\"\u001b[39m, \u001b[38;5;28;01mFalse\u001b[39;00m)\n\u001b[1;32m--> 947\u001b[0m     terms \u001b[38;5;241m=\u001b[39m \u001b[38;5;28;43mself\u001b[39;49m\u001b[38;5;241;43m.\u001b[39;49m\u001b[43mfunc\u001b[49m\u001b[38;5;241;43m.\u001b[39;49m\u001b[43m_expandsums\u001b[49m\u001b[43m(\u001b[49m\u001b[43msums\u001b[49m\u001b[43m)\u001b[49m\n\u001b[0;32m    948\u001b[0m     args \u001b[38;5;241m=\u001b[39m []\n\u001b[0;32m    949\u001b[0m     \u001b[38;5;28;01mfor\u001b[39;00m term \u001b[38;5;129;01min\u001b[39;00m terms:\n",
      "File \u001b[1;32mc:\\Users\\PROTO\\dev\\tmp\\.venv\\lib\\site-packages\\sympy\\core\\mul.py:910\u001b[0m, in \u001b[0;36mMul._expandsums\u001b[1;34m(sums)\u001b[0m\n\u001b[0;32m    908\u001b[0m terms \u001b[38;5;241m=\u001b[39m []\n\u001b[0;32m    909\u001b[0m left \u001b[38;5;241m=\u001b[39m Mul\u001b[38;5;241m.\u001b[39m_expandsums(sums[:L\u001b[38;5;241m/\u001b[39m\u001b[38;5;241m/\u001b[39m\u001b[38;5;241m2\u001b[39m])\n\u001b[1;32m--> 910\u001b[0m right \u001b[38;5;241m=\u001b[39m \u001b[43mMul\u001b[49m\u001b[38;5;241;43m.\u001b[39;49m\u001b[43m_expandsums\u001b[49m\u001b[43m(\u001b[49m\u001b[43msums\u001b[49m\u001b[43m[\u001b[49m\u001b[43mL\u001b[49m\u001b[38;5;241;43m/\u001b[39;49m\u001b[38;5;241;43m/\u001b[39;49m\u001b[38;5;241;43m2\u001b[39;49m\u001b[43m:\u001b[49m\u001b[43m]\u001b[49m\u001b[43m)\u001b[49m\n\u001b[0;32m    912\u001b[0m terms \u001b[38;5;241m=\u001b[39m [Mul(a, b) \u001b[38;5;28;01mfor\u001b[39;00m a \u001b[38;5;129;01min\u001b[39;00m left \u001b[38;5;28;01mfor\u001b[39;00m b \u001b[38;5;129;01min\u001b[39;00m right]\n\u001b[0;32m    913\u001b[0m added \u001b[38;5;241m=\u001b[39m Add(\u001b[38;5;241m*\u001b[39mterms)\n",
      "File \u001b[1;32mc:\\Users\\PROTO\\dev\\tmp\\.venv\\lib\\site-packages\\sympy\\core\\mul.py:912\u001b[0m, in \u001b[0;36mMul._expandsums\u001b[1;34m(sums)\u001b[0m\n\u001b[0;32m    909\u001b[0m left \u001b[38;5;241m=\u001b[39m Mul\u001b[38;5;241m.\u001b[39m_expandsums(sums[:L\u001b[38;5;241m/\u001b[39m\u001b[38;5;241m/\u001b[39m\u001b[38;5;241m2\u001b[39m])\n\u001b[0;32m    910\u001b[0m right \u001b[38;5;241m=\u001b[39m Mul\u001b[38;5;241m.\u001b[39m_expandsums(sums[L\u001b[38;5;241m/\u001b[39m\u001b[38;5;241m/\u001b[39m\u001b[38;5;241m2\u001b[39m:])\n\u001b[1;32m--> 912\u001b[0m terms \u001b[38;5;241m=\u001b[39m [Mul(a, b) \u001b[38;5;28;01mfor\u001b[39;00m a \u001b[38;5;129;01min\u001b[39;00m left \u001b[38;5;28;01mfor\u001b[39;00m b \u001b[38;5;129;01min\u001b[39;00m right]\n\u001b[0;32m    913\u001b[0m added \u001b[38;5;241m=\u001b[39m Add(\u001b[38;5;241m*\u001b[39mterms)\n\u001b[0;32m    914\u001b[0m \u001b[38;5;28;01mreturn\u001b[39;00m Add\u001b[38;5;241m.\u001b[39mmake_args(added)\n",
      "File \u001b[1;32mc:\\Users\\PROTO\\dev\\tmp\\.venv\\lib\\site-packages\\sympy\\core\\mul.py:912\u001b[0m, in \u001b[0;36m<listcomp>\u001b[1;34m(.0)\u001b[0m\n\u001b[0;32m    909\u001b[0m left \u001b[38;5;241m=\u001b[39m Mul\u001b[38;5;241m.\u001b[39m_expandsums(sums[:L\u001b[38;5;241m/\u001b[39m\u001b[38;5;241m/\u001b[39m\u001b[38;5;241m2\u001b[39m])\n\u001b[0;32m    910\u001b[0m right \u001b[38;5;241m=\u001b[39m Mul\u001b[38;5;241m.\u001b[39m_expandsums(sums[L\u001b[38;5;241m/\u001b[39m\u001b[38;5;241m/\u001b[39m\u001b[38;5;241m2\u001b[39m:])\n\u001b[1;32m--> 912\u001b[0m terms \u001b[38;5;241m=\u001b[39m [\u001b[43mMul\u001b[49m\u001b[43m(\u001b[49m\u001b[43ma\u001b[49m\u001b[43m,\u001b[49m\u001b[43m \u001b[49m\u001b[43mb\u001b[49m\u001b[43m)\u001b[49m \u001b[38;5;28;01mfor\u001b[39;00m a \u001b[38;5;129;01min\u001b[39;00m left \u001b[38;5;28;01mfor\u001b[39;00m b \u001b[38;5;129;01min\u001b[39;00m right]\n\u001b[0;32m    913\u001b[0m added \u001b[38;5;241m=\u001b[39m Add(\u001b[38;5;241m*\u001b[39mterms)\n\u001b[0;32m    914\u001b[0m \u001b[38;5;28;01mreturn\u001b[39;00m Add\u001b[38;5;241m.\u001b[39mmake_args(added)\n",
      "File \u001b[1;32mc:\\Users\\PROTO\\dev\\tmp\\.venv\\lib\\site-packages\\sympy\\core\\cache.py:72\u001b[0m, in \u001b[0;36m__cacheit.<locals>.func_wrapper.<locals>.wrapper\u001b[1;34m(*args, **kwargs)\u001b[0m\n\u001b[0;32m     69\u001b[0m \u001b[38;5;129m@wraps\u001b[39m(func)\n\u001b[0;32m     70\u001b[0m \u001b[38;5;28;01mdef\u001b[39;00m \u001b[38;5;21mwrapper\u001b[39m(\u001b[38;5;241m*\u001b[39margs, \u001b[38;5;241m*\u001b[39m\u001b[38;5;241m*\u001b[39mkwargs):\n\u001b[0;32m     71\u001b[0m     \u001b[38;5;28;01mtry\u001b[39;00m:\n\u001b[1;32m---> 72\u001b[0m         retval \u001b[38;5;241m=\u001b[39m cfunc(\u001b[38;5;241m*\u001b[39margs, \u001b[38;5;241m*\u001b[39m\u001b[38;5;241m*\u001b[39mkwargs)\n\u001b[0;32m     73\u001b[0m     \u001b[38;5;28;01mexcept\u001b[39;00m \u001b[38;5;167;01mTypeError\u001b[39;00m \u001b[38;5;28;01mas\u001b[39;00m e:\n\u001b[0;32m     74\u001b[0m         \u001b[38;5;28;01mif\u001b[39;00m \u001b[38;5;129;01mnot\u001b[39;00m e\u001b[38;5;241m.\u001b[39margs \u001b[38;5;129;01mor\u001b[39;00m \u001b[38;5;129;01mnot\u001b[39;00m e\u001b[38;5;241m.\u001b[39margs[\u001b[38;5;241m0\u001b[39m]\u001b[38;5;241m.\u001b[39mstartswith(\u001b[38;5;124m'\u001b[39m\u001b[38;5;124munhashable type:\u001b[39m\u001b[38;5;124m'\u001b[39m):\n",
      "File \u001b[1;32mc:\\Users\\PROTO\\dev\\tmp\\.venv\\lib\\site-packages\\sympy\\core\\operations.py:98\u001b[0m, in \u001b[0;36mAssocOp.__new__\u001b[1;34m(cls, evaluate, _sympify, *args)\u001b[0m\n\u001b[0;32m     95\u001b[0m \u001b[38;5;28;01mif\u001b[39;00m \u001b[38;5;28mlen\u001b[39m(args) \u001b[38;5;241m==\u001b[39m \u001b[38;5;241m1\u001b[39m:\n\u001b[0;32m     96\u001b[0m     \u001b[38;5;28;01mreturn\u001b[39;00m args[\u001b[38;5;241m0\u001b[39m]\n\u001b[1;32m---> 98\u001b[0m c_part, nc_part, order_symbols \u001b[38;5;241m=\u001b[39m \u001b[38;5;28;43mcls\u001b[39;49m\u001b[38;5;241;43m.\u001b[39;49m\u001b[43mflatten\u001b[49m\u001b[43m(\u001b[49m\u001b[43margs\u001b[49m\u001b[43m)\u001b[49m\n\u001b[0;32m     99\u001b[0m is_commutative \u001b[38;5;241m=\u001b[39m \u001b[38;5;129;01mnot\u001b[39;00m nc_part\n\u001b[0;32m    100\u001b[0m obj \u001b[38;5;241m=\u001b[39m \u001b[38;5;28mcls\u001b[39m\u001b[38;5;241m.\u001b[39m_from_args(c_part \u001b[38;5;241m+\u001b[39m nc_part, is_commutative)\n",
      "File \u001b[1;32mc:\\Users\\PROTO\\dev\\tmp\\.venv\\lib\\site-packages\\sympy\\core\\mul.py:656\u001b[0m, in \u001b[0;36mMul.flatten\u001b[1;34m(cls, seq)\u001b[0m\n\u001b[0;32m    653\u001b[0m c_part\u001b[38;5;241m.\u001b[39mextend([Pow(b, e) \u001b[38;5;28;01mfor\u001b[39;00m e, b \u001b[38;5;129;01min\u001b[39;00m pnew\u001b[38;5;241m.\u001b[39mitems()])\n\u001b[0;32m    655\u001b[0m \u001b[38;5;66;03m# oo, -oo\u001b[39;00m\n\u001b[1;32m--> 656\u001b[0m \u001b[38;5;28;01mif\u001b[39;00m \u001b[43mcoeff\u001b[49m\u001b[43m \u001b[49m\u001b[38;5;129;43;01min\u001b[39;49;00m\u001b[43m \u001b[49m\u001b[43m(\u001b[49m\u001b[43mS\u001b[49m\u001b[38;5;241;43m.\u001b[39;49m\u001b[43mInfinity\u001b[49m\u001b[43m,\u001b[49m\u001b[43m \u001b[49m\u001b[43mS\u001b[49m\u001b[38;5;241;43m.\u001b[39;49m\u001b[43mNegativeInfinity\u001b[49m\u001b[43m)\u001b[49m:\n\u001b[0;32m    657\u001b[0m     \u001b[38;5;28;01mdef\u001b[39;00m \u001b[38;5;21m_handle_for_oo\u001b[39m(c_part, coeff_sign):\n\u001b[0;32m    658\u001b[0m         new_c_part \u001b[38;5;241m=\u001b[39m []\n",
      "File \u001b[1;32mc:\\Users\\PROTO\\dev\\tmp\\.venv\\lib\\site-packages\\sympy\\core\\numbers.py:3425\u001b[0m, in \u001b[0;36mInfinity.__eq__\u001b[1;34m(self, other)\u001b[0m\n\u001b[0;32m   3424\u001b[0m \u001b[38;5;28;01mdef\u001b[39;00m \u001b[38;5;21m__eq__\u001b[39m(\u001b[38;5;28mself\u001b[39m, other):\n\u001b[1;32m-> 3425\u001b[0m     \u001b[38;5;28;01mreturn\u001b[39;00m other \u001b[38;5;129;01mis\u001b[39;00m S\u001b[38;5;241m.\u001b[39mInfinity \u001b[38;5;129;01mor\u001b[39;00m \u001b[43mother\u001b[49m\u001b[43m \u001b[49m\u001b[38;5;241;43m==\u001b[39;49m\u001b[43m \u001b[49m\u001b[38;5;28;43mfloat\u001b[39;49m\u001b[43m(\u001b[49m\u001b[38;5;124;43m'\u001b[39;49m\u001b[38;5;124;43minf\u001b[39;49m\u001b[38;5;124;43m'\u001b[39;49m\u001b[43m)\u001b[49m\n",
      "File \u001b[1;32mc:\\Users\\PROTO\\dev\\tmp\\.venv\\lib\\site-packages\\sympy\\core\\numbers.py:2243\u001b[0m, in \u001b[0;36mInteger.__eq__\u001b[1;34m(self, other)\u001b[0m\n\u001b[0;32m   2240\u001b[0m         \u001b[38;5;28;01mreturn\u001b[39;00m Rational\u001b[38;5;241m.\u001b[39m\u001b[38;5;21m__rmod__\u001b[39m(\u001b[38;5;28mself\u001b[39m, other)\n\u001b[0;32m   2241\u001b[0m     \u001b[38;5;28;01mreturn\u001b[39;00m Rational\u001b[38;5;241m.\u001b[39m\u001b[38;5;21m__rmod__\u001b[39m(\u001b[38;5;28mself\u001b[39m, other)\n\u001b[1;32m-> 2243\u001b[0m \u001b[38;5;28;01mdef\u001b[39;00m \u001b[38;5;21m__eq__\u001b[39m(\u001b[38;5;28mself\u001b[39m, other):\n\u001b[0;32m   2244\u001b[0m     \u001b[38;5;28;01mif\u001b[39;00m \u001b[38;5;28misinstance\u001b[39m(other, \u001b[38;5;28mint\u001b[39m):\n\u001b[0;32m   2245\u001b[0m         \u001b[38;5;28;01mreturn\u001b[39;00m (\u001b[38;5;28mself\u001b[39m\u001b[38;5;241m.\u001b[39mp \u001b[38;5;241m==\u001b[39m other)\n",
      "\u001b[1;31mKeyboardInterrupt\u001b[0m: "
     ]
    }
   ],
   "source": [
    "zps = [rotate(z, n=1) for z in zs]\n",
    "print(zps)\n",
    "tp = reduce_multiply([u - z * v for z in zps])\n",
    "tp = simplify(tp.expand())\n",
    "tp\n"
   ]
  },
  {
   "cell_type": "code",
   "execution_count": 93,
   "metadata": {},
   "outputs": [
    {
     "data": {
      "text/latex": [
       "$\\displaystyle \\left(u^{2} + v^{2}\\right) \\left(u^{2} - 2 u v - v^{2}\\right) \\left(u^{2} + 2 u v - v^{2}\\right)$"
      ],
      "text/plain": [
       "(u**2 + v**2)*(u**2 - 2*u*v - v**2)*(u**2 + 2*u*v - v**2)"
      ]
     },
     "execution_count": 93,
     "metadata": {},
     "output_type": "execute_result"
    }
   ],
   "source": [
    "tp.subs(alpha, pi / 4).factor()"
   ]
  },
  {
   "cell_type": "code",
   "execution_count": 86,
   "metadata": {},
   "outputs": [
    {
     "name": "stdout",
     "output_type": "stream",
     "text": [
      "zoo\n"
     ]
    }
   ],
   "source": [
    "from sympy import tan\n",
    "\n",
    "\n",
    "print((4 / tan(2 * alpha)).subs(alpha, 0))\n"
   ]
  },
  {
   "cell_type": "code",
   "execution_count": 79,
   "metadata": {},
   "outputs": [
    {
     "data": {
      "text/latex": [
       "$\\displaystyle - 5 v^{4}$"
      ],
      "text/plain": [
       "-5*v**4"
      ]
     },
     "execution_count": 79,
     "metadata": {},
     "output_type": "execute_result"
    }
   ],
   "source": [
    "tppoly.all_coeffs()[4].factor().subs(alpha, 0)"
   ]
  },
  {
   "cell_type": "code",
   "execution_count": null,
   "metadata": {},
   "outputs": [
    {
     "data": {
      "text/latex": [
       "$\\displaystyle \\left(u - \\frac{v \\left(\\sin{\\left(\\frac{\\alpha}{2} \\right)} + i \\cos{\\left(\\frac{\\alpha}{2} \\right)}\\right)}{- i \\sin{\\left(\\frac{\\alpha}{2} \\right)} + \\cos{\\left(\\frac{\\alpha}{2} \\right)}}\\right) \\left(u - \\frac{v \\left(\\sin{\\left(\\frac{\\alpha}{2} \\right)} - i \\cos{\\left(\\frac{\\alpha}{2} \\right)}\\right)}{i \\sin{\\left(\\frac{\\alpha}{2} \\right)} + \\cos{\\left(\\frac{\\alpha}{2} \\right)}}\\right) \\left(u - \\frac{v \\left(\\sin{\\left(\\frac{\\alpha}{2} \\right)} + \\infty \\cos{\\left(\\frac{\\alpha}{2} \\right)}\\right)}{- \\infty \\sin{\\left(\\frac{\\alpha}{2} \\right)} + \\cos{\\left(\\frac{\\alpha}{2} \\right)}}\\right) \\left(u - \\frac{v \\left(\\sin{\\left(\\frac{\\alpha}{2} \\right)} + \\cos{\\left(\\frac{\\alpha}{2} \\right)}\\right)}{- \\sin{\\left(\\frac{\\alpha}{2} \\right)} + \\cos{\\left(\\frac{\\alpha}{2} \\right)}}\\right) \\left(u - \\frac{v \\left(\\sin{\\left(\\frac{\\alpha}{2} \\right)} - \\cos{\\left(\\frac{\\alpha}{2} \\right)}\\right)}{\\sin{\\left(\\frac{\\alpha}{2} \\right)} + \\cos{\\left(\\frac{\\alpha}{2} \\right)}}\\right) \\left(u - \\frac{v \\sin{\\left(\\frac{\\alpha}{2} \\right)}}{\\cos{\\left(\\frac{\\alpha}{2} \\right)}}\\right)$"
      ],
      "text/plain": [
       "(u - v*(sin(alpha/2) + I*cos(alpha/2))/(-I*sin(alpha/2) + cos(alpha/2)))*(u - v*(sin(alpha/2) - I*cos(alpha/2))/(I*sin(alpha/2) + cos(alpha/2)))*(u - v*(sin(alpha/2) + oo*cos(alpha/2))/(-oo*sin(alpha/2) + cos(alpha/2)))*(u - v*(sin(alpha/2) + cos(alpha/2))/(-sin(alpha/2) + cos(alpha/2)))*(u - v*(sin(alpha/2) - cos(alpha/2))/(sin(alpha/2) + cos(alpha/2)))*(u - v*sin(alpha/2)/cos(alpha/2))"
      ]
     },
     "execution_count": 89,
     "metadata": {},
     "output_type": "execute_result"
    }
   ],
   "source": [
    "reduce_multiply([u - z * v if z is not oo else v for z in zps])"
   ]
  }
 ],
 "metadata": {
  "kernelspec": {
   "display_name": ".venv",
   "language": "python",
   "name": "python3"
  },
  "language_info": {
   "codemirror_mode": {
    "name": "ipython",
    "version": 3
   },
   "file_extension": ".py",
   "mimetype": "text/x-python",
   "name": "python",
   "nbconvert_exporter": "python",
   "pygments_lexer": "ipython3",
   "version": "3.9.13"
  }
 },
 "nbformat": 4,
 "nbformat_minor": 2
}
