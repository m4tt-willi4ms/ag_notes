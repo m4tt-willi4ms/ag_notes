{
 "cells": [
  {
   "cell_type": "code",
   "execution_count": 101,
   "metadata": {},
   "outputs": [],
   "source": [
    "from functools import reduce\n",
    "from sympy import (\n",
    "    I,\n",
    "    symbols,\n",
    "    sqrt,\n",
    "    Rational,\n",
    "    conjugate,\n",
    "    simplify,\n",
    "    Poly,\n",
    ")\n"
   ]
  },
  {
   "cell_type": "markdown",
   "metadata": {},
   "source": [
    "# Notes\n",
    "\n",
    "## Preliminaries\n",
    "\n",
    "Rotation (in three dimensions) of the vector ${\\bf r}$ about the direction $\\hat{\\bf n}$ by an angle $\\theta$:\n",
    "\n",
    "$$\n",
    "{\\bf r}' = {\\bf r}\\,\\cos\\theta + ({\\bf r}\\cdot\\hat{\\bf n}) \\hat{\\bf n}\\, (1 - \\cos\\theta) - {\\bf r} \\times \\hat{\\bf n} \\, \\sin\\theta\n",
    "$$\n",
    "\n",
    "or, in components,\n",
    "\n",
    "$$\n",
    "\\begin{align*}\n",
    "r'^i &= \\left[{\\delta^i}_j\\,\\cos\\theta + n^in_j\\,(1-\\cos\\theta)-{\\epsilon^i}_{jk}\\,n^k\\,\\sin\\theta\\right] r^j \\\\\n",
    ":&= {\\cal O^i}_j\\,r^j \\,.\n",
    "\\end{align*}\n",
    "$$\n",
    "\n",
    "Introducing the variables \n",
    "\n",
    "$$\n",
    "a_i = n_i\\,\\sin\\left(\\theta/2\\right) \\,,\\quad d:= \\cos\\left(\\theta /2\\right) \\,,\n",
    "$$\n",
    "\n",
    "we see the rotation matrix ${{\\cal O}^i}_j$ can be rewritten as follows:\n",
    "\n",
    "$$\n",
    "{{\\cal O}^i}_j = \\left(2\\,d^2 -1\\right){\\delta^i}_j+ 2\\left( a^i\\,a_j - {\\epsilon^i}_{jk}\\,a^k\\,d\\right) \\,.\n",
    "$$\n",
    "(Recall that $\\cos\\theta = 2\\,\\cos^2\\left(\\theta/2\\right) -1 = 1-2\\,\\sin^2\\left(\\theta/2\\right)$ and that $\\sin\\theta = 2\\,\\sin\\left(\\theta/2\\right)\\,\\cos\\left(\\theta/2\\right)$.)\n",
    "\n",
    "The orthogonality of ${\\cal O}$ can be verified by computing ${\\cal O_k}^i\\,{\\cal O^k}_j$ using the expression above, which gives\n",
    "\n",
    "$$\n",
    "{({\\cal O}^T {\\cal O})^i}_j = {\\delta^i}_j + 4\\left(d^2 + {\\bf a}^2 -1\\right)\\left(d^2 \\,{\\delta^i}_j + \n",
    "a^ia_j\\right) = {\\delta^i}_j\n",
    "$$\n",
    "where the second equality follows from the definition of ${\\bf a}$ and $d$, along with the trig identity $\\sin^2\\left(\\theta/2\\right) + \\cos^2\\left(\\theta/2\\right) = 1$ which enforces the constraint\n",
    "\n",
    "$$\n",
    "{\\bf a}^2 + d^2 = 1 \\,.\n",
    "$$"
   ]
  },
  {
   "cell_type": "markdown",
   "metadata": {},
   "source": [
    "## Stereographic Projection\n",
    "\n",
    "In what follows, it's helpful to map the rotations on the sphere to the complex\n",
    "plane, by performing an equatorial spherical projection from the point where\n",
    "$\\hat{\\bf n} = (0, 0, 1)$ down onto the complex plane. Denoting a general point\n",
    "on the unit sphere as $\\hat{\\bf r} = (\\xi,\\eta,\\zeta)$ in the general case, and\n",
    "writing $z = x + iy$ with real and imaginary axes parallel to the $(\\xi \\eta)$\n",
    "plane, we find (using similar triangles) that\n",
    "\n",
    "$$\n",
    "z = x + i\\, y = \\frac{\\xi +i\\,\\eta}{1-\\zeta} \\,.\n",
    "$$\n",
    "\n",
    "Inverting, we find\n",
    "\n",
    "$$ \n",
    "\n",
    "\\xi = \\frac{z + \\bar{z}}r \\,,\\quad \\eta = \\frac{i(\\bar{z} - z)}r \\,,\\quad\n",
    "\\zeta = \\frac{z\\bar{z} -1}r \n",
    "\n",
    "$$\n",
    "\n",
    "where we define $r := 1 + z\\bar{z}$."
   ]
  },
  {
   "cell_type": "markdown",
   "metadata": {},
   "source": [
    "\n",
    "Rotations about the $\\zeta$-axis are particularly simple in this representation,\n",
    "as they correspond to multiplying $z$ by a pure phase:\n",
    "\n",
    "$$ \n",
    "\n",
    "z \\to z' = e^{i\\theta} \\, z \\quad\\leftrightarrow\\quad \\begin{array}{cc}\\xi' &=\n",
    "\\xi\\,\\cos\\theta\n",
    "- \\eta\\,\\sin\\theta\\\\\n",
    "\\eta' &= \\xi\\,\\sin\\theta + \\eta\\,\\cos\\theta\n",
    "\\end{array}\\,. \n",
    "\n",
    "$$\n",
    "\n",
    "If we wish to write an arbitrary rotation of a point on the sphere about some\n",
    "direction specified by $\\hat{\\bf n}$, $\\theta$ (or, equivalently, ${\\bf a}$,\n",
    "$d$), we can leverage the simplicity of the above by noting that the rotation\n",
    "leaves the antipodal points $z_1=0$, $z_2=\\infty$ fixed, and that a more general\n",
    "rotation about the direction $\\hat{\\bf n}$ should do the same for the points\n",
    "\n",
    "$$\n",
    "\n",
    "z_1 = \\frac{n_1+i\\,n_2}{1-n_3} \\,,\\quad z_2 = \\frac{-n_1-i\\,n_2}{1+n_3} \\,,\n",
    "\n",
    "$$\n",
    "\n",
    "which satisfy the antipodal relation $z_1\\,\\bar z_2 = -1$, which can be used to\n",
    "demonstrate the following other useful relations:\n",
    "\n",
    "$$\n",
    "\n",
    "\\tfrac{z_1 + z_2}{z_1 - z_2} = n_3 \\,,\\quad \\tfrac{2 z_1 z_2}{z_2 - z_1} = n_1 +\n",
    "i\\,n_2 \\,,\\quad \\frac2{z_1 - z_2} = n_1 -i\\,n_2\\,.\n",
    "\n",
    "$$"
   ]
  },
  {
   "cell_type": "code",
   "execution_count": 2,
   "metadata": {},
   "outputs": [],
   "source": [
    "n1, n2, n3 = symbols(\"n1 n2 n3\", real=True)\n",
    "z1 = (n1 + I * n2) / (1 - n3)\n",
    "z2 = (-n1 - I * n2) / (1 + n3)"
   ]
  },
  {
   "cell_type": "code",
   "execution_count": 3,
   "metadata": {},
   "outputs": [
    {
     "data": {
      "text/latex": [
       "$\\displaystyle -1$"
      ],
      "text/plain": [
       "-1"
      ]
     },
     "execution_count": 3,
     "metadata": {},
     "output_type": "execute_result"
    }
   ],
   "source": [
    "simplify((z1 * conjugate(z2)).subs(n3, sqrt(1 - n1**2 - n2**2)))"
   ]
  },
  {
   "cell_type": "code",
   "execution_count": 4,
   "metadata": {},
   "outputs": [
    {
     "data": {
      "text/latex": [
       "$\\displaystyle n_{3}$"
      ],
      "text/plain": [
       "n3"
      ]
     },
     "execution_count": 4,
     "metadata": {},
     "output_type": "execute_result"
    }
   ],
   "source": [
    "simplify((z1 + z2) / (z1 - z2))"
   ]
  },
  {
   "cell_type": "code",
   "execution_count": 5,
   "metadata": {},
   "outputs": [
    {
     "data": {
      "text/latex": [
       "$\\displaystyle n_{1} + i n_{2}$"
      ],
      "text/plain": [
       "n1 + I*n2"
      ]
     },
     "execution_count": 5,
     "metadata": {},
     "output_type": "execute_result"
    }
   ],
   "source": [
    "simplify((2 * z1 * z2) / (z2 - z1))"
   ]
  },
  {
   "cell_type": "code",
   "execution_count": 6,
   "metadata": {},
   "outputs": [
    {
     "data": {
      "text/latex": [
       "$\\displaystyle n_{1} - i n_{2}$"
      ],
      "text/plain": [
       "n1 - I*n2"
      ]
     },
     "execution_count": 6,
     "metadata": {},
     "output_type": "execute_result"
    }
   ],
   "source": [
    "simplify((2 / (z1 - z2)).subs(n3, sqrt(1 - n1**2 - n2**2)))"
   ]
  },
  {
   "cell_type": "markdown",
   "metadata": {},
   "source": [
    "As such, the rotation leaving such points fixed is\n",
    "\n",
    "$$\n",
    "\n",
    "\\frac{z'-z_2}{z'-z_1} = e^{i\\theta} \\,\\frac{z-z_2}{z-z_1} \\,.\n",
    "\n",
    "$$\n",
    "\n",
    "Solving for $z'$, the above general rotation can be expressed as\n",
    "\n",
    "$$\n",
    "\\begin{align*} \n",
    "\n",
    "z \\to z' &= \\frac{z\\left[(z_1 - z_2)\\cos(\\theta/2) + i\n",
    "(z_1+z_2)\\,\\sin(\\theta/2)\\right]-2i\\sin(\\theta/2)z_1 z_2}{2z\\,i\\sin(\\theta/2) +\n",
    "\\left[(z_1 - z_2)\\cos(\\theta/2)-i(z_1+z_2)\\sin(\\theta/2)\\right]} \\\\\n",
    "&= \\frac{(d+i\\,a_3)z - (a_2-i\\,a_1)}{(a_2+i\\,a_1)z + (d-i\\,a_3)}\n",
    "\n",
    "\\end{align*}\n",
    "\n",
    "$$\n",
    "\n",
    "where we make use of the notation introduced above which interrelates\n",
    "$\\{\\hat{\\bf n}, \\theta\\}$ with $\\{{\\bf a}, d\\}$. (The above can be readily\n",
    "checked by substituting $\\hat {\\bf r}' =(\\xi',\\eta',\\zeta') = {\\cal O} \\cdot\n",
    "\\hat{\\bf r}$ into the expression $z' = (\\xi' + i\\,\\eta')/(1-\\zeta')$.)"
   ]
  },
  {
   "cell_type": "markdown",
   "metadata": {},
   "source": [
    "## Fractionalized Coordinates\n",
    "\n",
    "Lastly, to re-interpret the above transformation in the complex plane as a\n",
    "homogeneous one, it is conventional to write $z$ in terms of its numerator and\n",
    "denominator in projective coordinates:\n",
    "\n",
    "$$\n",
    "\n",
    "z = \\frac uv \\,.\n",
    "\n",
    "$$\n",
    "\n",
    "In terms of $u$, $v$, the transformation above is given by\n",
    "\n",
    "$$\n",
    "\n",
    "\\begin{align*}\n",
    "u' &= (d+i\\,a_3)u - (a_2-i\\,a_1)v \\\\\n",
    "v' &= (a_2+i\\,a_1)u + (d-i\\,a_3) v \\,.\n",
    "\\end{align*}\n",
    "\n",
    "$$\n",
    "\n",
    "In this space, the rotations described above are a subgroup of $\\mathbb{GL}(2,\n",
    "\\mathbb{C})$ where the operator \n",
    "\n",
    "$$\n",
    "\n",
    "{\\cal O} = \\begin{pmatrix} A & B \\\\ C & D\\end{pmatrix} \\quad\\textrm{such that}\\quad\n",
    "\\begin{pmatrix}u' \\\\ v'\\end{pmatrix} = \\cal O \\begin{pmatrix}u \\\\ v\\end{pmatrix}\n",
    "\n",
    "$$\n",
    "\n",
    "satisfies ${\\rm det}\\, {\\cal O} = 1$, $D = A^*$, $B = -C^*$. The inverse of such\n",
    "a transformation is given by\n",
    "\n",
    "$$\n",
    "\n",
    "{\\cal O}^{-1} = \\begin{pmatrix} D & -B \\\\ -C & A\\end{pmatrix} \\,.\n",
    "\n",
    "$$"
   ]
  },
  {
   "cell_type": "markdown",
   "metadata": {},
   "source": [
    "## Tetrahedral Symmetry\n",
    "\n",
    "A tetrahedron is formed by joining alternating vertices as one traverses the\n",
    "edges of a cube. Taking these four vertices to be \n",
    "\n",
    "$$\n",
    "\n",
    "\\begin{align*}\n",
    "{\\bf V}_1 &= \\frac1{\\sqrt{3}}(1, 1, 1) \\\\\n",
    "{\\bf V}_2 &= \\frac1{\\sqrt{3}}(-1, -1, 1) \\\\\n",
    "{\\bf V}_3 &= \\frac1{\\sqrt{3}}(1, -1, -1) \\\\\n",
    "{\\bf V}_4 &= \\frac1{\\sqrt{3}}(-1, 1, -1) \\,,\n",
    "\\end{align*}\n",
    "$$\n",
    "\n",
    "(such that they each lie on the unit sphere) we find that the corresponding\n",
    "spherically-projected coordinates are\n",
    "\n",
    "$$\n",
    "\n",
    "k_1 = -k_2 = \\frac{1+i}{\\sqrt{3} -1} \\,,\\quad k_3 = -k_4 =\n",
    "\\frac{1-i}{\\sqrt{3}+1} \\,.\n",
    "\n",
    "$$\n",
    "\n",
    "(Note that an equivalent tetrahedron could be constructed using the points\n",
    "antipodal to the ones above; this is referred to as the \"diametral tetrahedron\".)"
   ]
  },
  {
   "cell_type": "markdown",
   "metadata": {},
   "source": [
    "The discrete rotational symmetries of the tetrahedron can be constructed by\n",
    "composing the two-fold rotation about the $z$ axis (which maps ${\\bf V}_1\n",
    "\\leftrightarrow{\\bf V}_2$, ${\\bf V}_3 \\leftrightarrow{\\bf V}_4$) with the\n",
    "three-fold rotation about the ${\\bf V}_1$ axis (which maps ${\\bf V}_2\n",
    "\\rightarrow {\\bf V}_3$, ${\\bf V}_3 \\rightarrow {\\bf V}_4$, ${\\bf V}_4\n",
    "\\rightarrow {\\bf V}_2$). On the complex plane, these correspond to\n",
    "\n",
    "$$\n",
    "\n",
    "\\begin{align*}\n",
    "I:\\quad z \\to z' &= -z \\\\\n",
    "II:\\quad z \\to z' &= \\frac{z+i}{z-i} \\,,\n",
    "\\end{align*}\n",
    "\n",
    "$$\n",
    "\n",
    "respectively."
   ]
  },
  {
   "cell_type": "code",
   "execution_count": 7,
   "metadata": {},
   "outputs": [
    {
     "name": "stdout",
     "output_type": "stream",
     "text": [
      "0\n",
      "0\n",
      "----------\n",
      "0\n",
      "0\n",
      "0\n",
      "0\n"
     ]
    }
   ],
   "source": [
    "sp1 = (1 + I) / (sqrt(3) - 1)\n",
    "sp2 = -(1 + I) / (sqrt(3) - 1)\n",
    "sp3 = (1 - I) / (sqrt(3) + 1)\n",
    "sp4 = (-1 + I) / (sqrt(3) + 1)\n",
    "\n",
    "print((-sp1 - sp2).radsimp().simplify())\n",
    "print((-sp3 - sp4).radsimp().simplify())\n",
    "print(\"-\" * 10)\n",
    "print(((sp1 + I) / (sp1 - I) - sp1).radsimp().simplify())\n",
    "print(((sp2 + I) / (sp2 - I) - sp3).radsimp().simplify())\n",
    "print(((sp3 + I) / (sp3 - I) - sp4).radsimp().simplify())\n",
    "print(((sp4 + I) / (sp4 - I) - sp2).radsimp().simplify())"
   ]
  },
  {
   "cell_type": "markdown",
   "metadata": {},
   "source": [
    "In terms of the homogeneous coordinates $u$ and $v$, these two transformations\n",
    "map directly to\n",
    "\n",
    "$$\n",
    "\n",
    "\\begin{align*}\n",
    "I:&\\quad \\begin{array}{ccc}\n",
    "u' &=& i\\,u \\\\\n",
    "v' &=& -i\\,v \n",
    "\\end{array} \\\\\n",
    "II:&\\quad \\begin{array}{ccc}\n",
    " u' &=& \\tfrac12(1+i)\\,u - \\tfrac12(1-i)\\,v \\\\\n",
    " v' &=& \\tfrac12 (1+i) u + \\tfrac12(1-i)\\,v \\,.\n",
    " \\end{array}\n",
    "\\end{align*}\n",
    "\n",
    "% \\begin{align*}\n",
    "% u' &= (d+i\\,a_3)u - (a_2-i\\,a_1)v \\\\\n",
    "% v' &= (a_2+i\\,a_1)u + (d-i\\,a_3) v \\,.\n",
    "% \\end{align*}\n",
    "$$"
   ]
  },
  {
   "cell_type": "markdown",
   "metadata": {},
   "source": [
    "# Polynomial Invariants\n",
    "\n",
    "Keeping in mind that all symmetry transformations of the tetrahedron merely\n",
    "exchange a number of vertices with one another, it's expected that a polynomial\n",
    "with roots at the locations of the vertices in the complex plane will be\n",
    "invariant under such transformations. To see this, consider the product\n",
    "\n",
    "$$\n",
    "\n",
    "\\begin{align*}\n",
    "\\Phi(u, v) &:= \\prod_{i=1}^4 \\left(u - k_i\\, v\\right) = (u^2-k_1^2)(v^2-k_3^2) \\\\\n",
    "&= u^4 - 2i\\sqrt{3}\\,u^2v^2 + v^4\n",
    "\\end{align*}\n",
    "\n",
    "$$\n",
    "\n",
    "and apply the transformation $(u, v) \\to (u', v')$ as before. In the general\n",
    "case, this gives \n",
    "\n",
    "$$\n",
    "\n",
    "\\begin{align*}\n",
    "\\Phi(u', v') &= \\prod_{i=1}^4 \\left(u' - k_i\\, v'\\right) \\\\\n",
    "&= \\prod_{i=1}^4 \\left(A - k_i\\, C\\right) \\prod_{i=1}^4 \\left(u - k_i'\\, v\\right) \\\\\n",
    "&= \\prod_{i=1}^4 \\left(A - k_i\\, C\\right) \\, \\Phi(u, v)\n",
    "\\end{align*}\n",
    "\n",
    "$$\n",
    "\n",
    "where we define\n",
    "\n",
    "$$\n",
    "\n",
    "k'_i := \\frac{k_i\\, D - B}{- k_i\\, C + A} \\quad\\leftrightarrow\\quad k_i =\n",
    "\\frac{k_i'\\,A+B}{k_i'\\,C+D} \\,.\n",
    "\n",
    "$$"
   ]
  },
  {
   "cell_type": "markdown",
   "metadata": {},
   "source": [
    "In the case of both transformations $I$ and $II$, the product $\\prod_{i=1}^4 \\left(u - k_i'\\, v\\right)$ is clearly invariant, because the vertices all transform into one another under any of the transformations. For transformation $I$, the product $\\prod_{i=1}^4 \\left(A - k_i\\, C\\right) = 1$ because $A=i$ and $C=0$. For transformation $II$, this product instead gives\n",
    "\n",
    "$$\n",
    "\n",
    "\\begin{align*}\n",
    "\\prod_{i=1}^4 \\left(A - k_i\\, C\\right) &= \\left[\\tfrac12 (1+i)\\right]^4\\prod_{i=1}^4 \\left(1 - k_i\\right) \\\\\n",
    "&= -\\tfrac14(1-k_1^2)(1-k_3^2) \\\\\n",
    "&=-\\tfrac14\\left[1-i(2+\\sqrt{3})\\right]\\left[1+i(2-\\sqrt{3})\\right] \\\\\n",
    "&=-\\frac12+i\\frac{\\sqrt{3}}2 = e^{2\\pi i/3} \\,.\n",
    "\\end{align*}\n",
    "\n",
    "$$\n",
    "\n",
    "The above guarantees that the function $\\Phi^3(u,v)$ is an absolute invariant under the symmetries of the tetrahedral group."
   ]
  },
  {
   "cell_type": "code",
   "execution_count": 8,
   "metadata": {},
   "outputs": [
    {
     "data": {
      "text/latex": [
       "$\\displaystyle - \\frac{1}{2} + \\frac{\\sqrt{3} i}{2}$"
      ],
      "text/plain": [
       "-1/2 + sqrt(3)*I/2"
      ]
     },
     "execution_count": 8,
     "metadata": {},
     "output_type": "execute_result"
    }
   ],
   "source": [
    "sp1 = (1 + I) / (sqrt(3) - 1)\n",
    "sp2 = (1 - I) / (sqrt(3) + 1)\n",
    "sp3 = (-1 + I) / (sqrt(3) + 1)\n",
    "sp4 = -(1 + I) / (sqrt(3) - 1)\n",
    "\n",
    "simplify(\n",
    "    (Rational(1, 2) * (1 + I)) ** 4 * (1 - sp1) * (1 - sp2) * (1 - sp3) * (1 - sp4)\n",
    ")"
   ]
  },
  {
   "cell_type": "markdown",
   "metadata": {},
   "source": [
    "The above can also be done for the edge midpoints, and face centers, of the tetrahedron.\n",
    "In the latter case, it's as simple as trading $k_i \\to -1/\\bar k_i$ in the above expression for $\\Phi$ (since the face centers are in line with the antipodes of the vertices). This yields\n",
    "\n",
    "$$\n",
    "\n",
    "\\begin{align*}\n",
    "\\Psi(u, v) &:= \\prod_{i=1}^4\\left(u + \\bar k_i^{-1}\\, v\\right) = \\prod_{i=1}^4\\left(u - \\bar k_i\\, v\\right) \\\\\n",
    "&= u^4 + 2i\\sqrt{3}\\,u^2v^2 + v^4 \\,.\n",
    "\\end{align*}\n",
    "\n",
    "$$\n",
    "\n",
    "(The second-last equality follows since $k_1k_4 = k_2k_3 =-1$.) As one might expect, under transformation $II$ the function $\\Psi(u,v)$ becomes\n",
    "\n",
    "$$\n",
    "\n",
    "\\Psi(u',v') = e^{-2\\pi i/3} \\, \\Psi(u,v) \\,.\n",
    "\n",
    "$$\n",
    "\n",
    "Therefore, the combinations $\\Phi \\Psi$ and $\\Psi^3$ are also absolute invariants."
   ]
  },
  {
   "cell_type": "markdown",
   "metadata": {},
   "source": [
    "In contrast, the six midpoints are at $z=0$, $z=\\infty$, $z=\\pm 1$, and $z=\\pm i$. In this case, the invariant polynomial is given by\n",
    "\n",
    "$$\n",
    "\n",
    "t(u, v) = uv(u-v)(u+v)(u-iv)(u+iv) = uv(u^4-v^4) \\,.\n",
    "\n",
    "$$\n",
    "\n",
    "Under the transformation $II$ (with $A=\\tfrac12(1+i)=-B^*=C=D^*$), we see that \n",
    "\n",
    "$$\n",
    "\n",
    "\\begin{align*}\n",
    "t(u',v') &= \\left(A\\,u-A^*\\,v\\right)\\left(A\\,u+A^*\\,v\\right) \\\\\n",
    "&\\times\\left[\\left(A\\,u-A^*\\,v\\right)^2 - \\left(A\\,u+A^*\\,v\\right)^2\\right]\\left[\\left(A\\,u-A^*\\,v\\right)^2+\\left(A\\,u+A^*\\,v\\right)^2\\right] \\\\\n",
    "&=\\left(A^2\\,u^2 - A^{*2}\\,v^2\\right)\\left[4\\,AA^*\\,uv\\right]\\left[2\\left(A^2\\,u^2+A^{*2}\\,v^2\\right)\\right] \\\\\n",
    "&=\\frac i2\\left(u^2 + v^2\\right)\\left[-2\\,uv\\right]\\left[i\\left(u^2-v^2\\right)\\right] = t(u,v)\n",
    "\\end{align*}\n",
    "\n",
    "$$\n",
    "\n",
    "where, in the last line, we make use of $A^2 = i/2 = -A^{*2}$. Similarly, $t(u',v') = t(u,v)$ under transformation $I$ where $A=i=D^*$, $B=C=0$, we find\n",
    "\n",
    "$$\n",
    "\n",
    "\\begin{align*}\n",
    "t(u',v') &= AA^*\\,uv(A^2\\,u^2-A^{*2}\\,v^2)(A^2\\,u^2+A^{*2}\\,v^2) \\\\\n",
    "&= t(u,v) \\,.\n",
    "\\end{align*}\n",
    "\n",
    "$$\n",
    "\n",
    "Therefore, $t(u,v)$ is an absolute invariant as well."
   ]
  },
  {
   "cell_type": "markdown",
   "metadata": {},
   "source": [
    "By direct computation, one can evaluate the combination $\\Psi^3- \\Phi^3$. As it\n",
    "turns out, this expression has a particularly simple form:\n",
    "\n",
    "$$\n",
    "\n",
    "\\Psi^3(u, v) = \\Phi^3(u, v) + 12\\sqrt{3}\\,i\\,t^2(u, v) \\,.\n",
    "\n",
    "$$"
   ]
  },
  {
   "cell_type": "code",
   "execution_count": 9,
   "metadata": {},
   "outputs": [
    {
     "name": "stdout",
     "output_type": "stream",
     "text": [
      "uv_prime=Matrix([\n",
      "[u*(1/2 + I/2) + v*(-1/2 + I/2)],\n",
      "[ u*(1/2 + I/2) + v*(1/2 - I/2)]])\n",
      "u**4 - 2*sqrt(3)*I*u**2*v**2 + v**4\n",
      "u**4 - 2*sqrt(3)*I*u**2*v**2 + v**4\n",
      "u**12 - 6*sqrt(3)*I*u**10*v**2 - 33*u**8*v**4 + 12*sqrt(3)*I*u**6*v**6 - 33*u**4*v**8 - 6*sqrt(3)*I*u**2*v**10 + v**12\n",
      "u**12 - 6*sqrt(3)*I*u**10*v**2 - 33*u**8*v**4 + 12*sqrt(3)*I*u**6*v**6 - 33*u**4*v**8 - 6*sqrt(3)*I*u**2*v**10 + v**12\n",
      "u**4 + 2*sqrt(3)*I*u**2*v**2 + v**4\n",
      "u**4 + 2*sqrt(3)*I*u**2*v**2 + v**4\n",
      "u**12 + 6*sqrt(3)*I*u**10*v**2 - 33*u**8*v**4 - 12*sqrt(3)*I*u**6*v**6 - 33*u**4*v**8 + 6*sqrt(3)*I*u**2*v**10 + v**12\n",
      "u**12 + 6*sqrt(3)*I*u**10*v**2 - 33*u**8*v**4 - 12*sqrt(3)*I*u**6*v**6 - 33*u**4*v**8 + 6*sqrt(3)*I*u**2*v**10 + v**12\n"
     ]
    },
    {
     "data": {
      "text/latex": [
       "$\\displaystyle 12 \\sqrt{3} i u^{2} v^{2} \\left(u - v\\right)^{2} \\left(u + v\\right)^{2} \\left(u^{2} + v^{2}\\right)^{2}$"
      ],
      "text/plain": [
       "12*sqrt(3)*I*u**2*v**2*(u - v)**2*(u + v)**2*(u**2 + v**2)**2"
      ]
     },
     "execution_count": 9,
     "metadata": {},
     "output_type": "execute_result"
    }
   ],
   "source": [
    "from tetra import Phi, Psi\n",
    "\n",
    "simplify(Psi**3 - Phi**3).factor()"
   ]
  },
  {
   "cell_type": "code",
   "execution_count": 10,
   "metadata": {},
   "outputs": [
    {
     "data": {
      "text/latex": [
       "$\\displaystyle 0$"
      ],
      "text/plain": [
       "0"
      ]
     },
     "execution_count": 10,
     "metadata": {},
     "output_type": "execute_result"
    }
   ],
   "source": [
    "u, v = symbols(\"u v\")\n",
    "t = u * v * (u - v) * (u + v) * (u**2 + v**2)\n",
    "simplify(Psi**3 - Phi**3 - 12 * sqrt(3) * I * t**2)"
   ]
  },
  {
   "cell_type": "markdown",
   "metadata": {},
   "source": [
    "## Octahedral Symmetry\n",
    "\n",
    "The six vertices of the octahedron can be taken as identical to the six edge\n",
    "midpoints of the tetrahedron. As such they have $t(u,v)$ as their polynomial\n",
    "invariant.\n",
    "\n",
    "The octahedral symmetry group is generated by transformations $I$ and $II$\n",
    "above, along with\n",
    "\n",
    "$$\n",
    "III: \\quad u'=e^{i\\pi/4}\\, u \\,,\\quad v' = e^{-i\\pi/4} \\,v \\,.\n",
    "$$\n",
    "\n",
    "Under transformation $III$ with $A=e^{i\\pi/4} = D^*$, $B=C=0$, we find  that\n",
    "\n",
    "$$\n",
    "\n",
    "\\begin{align*}\n",
    "t(u',v') &= AA^*\\,uv(A^2\\,u^2-A^{*2}\\,v^2)(A^2\\,u^2+A^{*2}\\,v^2) \\\\\n",
    "&= -t(u,v) \\,.\n",
    "\\end{align*}\n",
    "\n",
    "$$\n",
    "\n",
    "Therefore, only $t^2(u,v)$ is an absolute invariant under the octahedral\n",
    "symmetry group."
   ]
  },
  {
   "cell_type": "markdown",
   "metadata": {},
   "source": [
    "The 8  face centers of the octahedron are formed by combining the 8 tetrahedral\n",
    "roots $\\{k_i, \\bar{k}_i\\}$ found before. As such, the octahedral polynomial\n",
    "invariant for the face centers is given by\n",
    "\n",
    "$$\n",
    "\n",
    "W(u, v) := \\Phi(u,v)\\, \\Psi(u,v)  = u^8 + 14\\,u^4v^4+v^8\\,.\n",
    "\n",
    "$$"
   ]
  },
  {
   "cell_type": "code",
   "execution_count": 11,
   "metadata": {},
   "outputs": [
    {
     "data": {
      "text/latex": [
       "$\\displaystyle u^{8} + 14 u^{4} v^{4} + v^{8}$"
      ],
      "text/plain": [
       "u**8 + 14*u**4*v**4 + v**8"
      ]
     },
     "execution_count": 11,
     "metadata": {},
     "output_type": "execute_result"
    }
   ],
   "source": [
    "W = simplify(Phi * Psi)\n",
    "W"
   ]
  },
  {
   "cell_type": "markdown",
   "metadata": {},
   "source": [
    "In order to work out the transformation properties of $W(u,v)$, it is useful to\n",
    "note that $t$ and $W$ are inter-related as follows:\n",
    "\n",
    "$$\n",
    "\n",
    "\\det\\left[\\begin{matrix}\\frac{\\partial^2t}{\\partial u^2} & \\frac{\\partial^2t}{\\partial u\\partial v} \\\\[6pt] \\frac{\\partial^2t}{\\partial v \\partial u} & \\frac{\\partial^2t}{\\partial v^2}\\end{matrix}\\right] = -25\\,W(u,v)\\,.\n",
    "\n",
    "$$\n",
    "\n",
    "In other words, $W(u,v)$ is the *Hessian* of $t(u,v)$. As such, since $t \\to -t$\n",
    "under transformation $III$ (and since $W \\sim t^2$), $W(u,v)$ is clearly\n",
    "invariant under all three octahedral symmetry generators."
   ]
  },
  {
   "cell_type": "code",
   "execution_count": 12,
   "metadata": {},
   "outputs": [
    {
     "data": {
      "text/latex": [
       "$\\displaystyle 0$"
      ],
      "text/plain": [
       "0"
      ]
     },
     "execution_count": 12,
     "metadata": {},
     "output_type": "execute_result"
    }
   ],
   "source": [
    "from sympy import diff\n",
    "\n",
    "du2 = diff(diff(t, u), u)\n",
    "dudv = diff(diff(t, u), v)\n",
    "dv2 = diff(diff(t, v), v)\n",
    "\n",
    "simplify(du2 * dv2 - dudv**2 + 25 * Phi * Psi)"
   ]
  },
  {
   "cell_type": "markdown",
   "metadata": {},
   "source": [
    "The edge midpoints of the octahedron form a polynomial invariant, $\\chi(u,v)$,\n",
    "which we will compute next.\n",
    "\n",
    "The edge midpoints can be labeled as follows:\n",
    "\n",
    "$$\n",
    "\n",
    "\\begin{alignat*}{3}\n",
    "{\\bf X}_1 &= \\tfrac1{\\sqrt{2}}\\left(1,1, 0\\right) \\qquad &&{\\bf X}_7 &&= \\tfrac1{\\sqrt{2}}\\left(0,-1, 1\\right)\\\\\n",
    "{\\bf X}_2 &= \\tfrac1{\\sqrt{2}}\\left(1,-1, 0\\right) \\qquad&&{\\bf X}_8 &&= \\tfrac1{\\sqrt{2}}\\left(0,-1, -1\\right)\\\\\n",
    "{\\bf X}_3 &= \\tfrac1{\\sqrt{2}}\\left(-1,1, 0\\right) \\qquad&&{\\bf X}_9 &&= \\tfrac1{\\sqrt{2}}\\left(1,0, 1\\right)\\\\\n",
    "{\\bf X}_4 &= \\tfrac1{\\sqrt{2}}\\left(-1,-1, 0\\right) \\qquad&&{\\bf X}_{10} &&= \\tfrac1{\\sqrt{2}}\\left(1,0, -1\\right)\\\\\n",
    "{\\bf X}_5 &= \\tfrac1{\\sqrt{2}}\\left(0,1, 1\\right) \\qquad&&{\\bf X}_{11} &&= \\tfrac1{\\sqrt{2}}\\left(-1,0, 1\\right)\\\\\n",
    "{\\bf X}_6 &= \\tfrac1{\\sqrt{2}}\\left(0,1, -1\\right) \\qquad&&{\\bf X}_{12} &&= \\tfrac1{\\sqrt{2}}\\left(-1,0, -1\\right)\\\\\n",
    "\n",
    "\\end{alignat*}\n",
    "\n",
    "$$"
   ]
  },
  {
   "cell_type": "code",
   "execution_count": 13,
   "metadata": {},
   "outputs": [
    {
     "name": "stdout",
     "output_type": "stream",
     "text": [
      "ls[0] = sqrt(2)*(1 + I)/2\n",
      "ls[1] = sqrt(2)*(1 - I)/2\n",
      "ls[2] = sqrt(2)*(-1 + I)/2\n",
      "ls[3] = sqrt(2)*(-1 - I)/2\n",
      "ls[4] = I + sqrt(2)*I\n",
      "ls[5] = -I + sqrt(2)*I\n",
      "ls[6] = -sqrt(2)*I - I\n",
      "ls[7] = -sqrt(2)*I + I\n",
      "ls[8] = 1 + sqrt(2)\n",
      "ls[9] = -1 + sqrt(2)\n",
      "ls[10] = -sqrt(2) - 1\n",
      "ls[11] = 1 - sqrt(2)\n"
     ]
    }
   ],
   "source": [
    "def stereo(v1, v2, v3):\n",
    "    return (v1 + I * v2) / (1 - v3)\n",
    "\n",
    "\n",
    "ls = []\n",
    "\n",
    "ls.append(stereo(1 / sqrt(2), 1 / sqrt(2), 0))\n",
    "ls.append(stereo(1 / sqrt(2), -1 / sqrt(2), 0))\n",
    "ls.append(stereo(-1 / sqrt(2), 1 / sqrt(2), 0))\n",
    "ls.append(stereo(-1 / sqrt(2), -1 / sqrt(2), 0))\n",
    "ls.append(stereo(0, 1 / sqrt(2), 1 / sqrt(2)))\n",
    "ls.append(stereo(0, 1 / sqrt(2), -1 / sqrt(2)))\n",
    "ls.append(stereo(0, -1 / sqrt(2), 1 / sqrt(2)))\n",
    "ls.append(stereo(0, -1 / sqrt(2), -1 / sqrt(2)))\n",
    "ls.append(stereo(1 / sqrt(2), 0, 1 / sqrt(2)))\n",
    "ls.append(stereo(1 / sqrt(2), 0, -1 / sqrt(2)))\n",
    "ls.append(stereo(-1 / sqrt(2), 0, 1 / sqrt(2)))\n",
    "ls.append(stereo(-1 / sqrt(2), 0, -1 / sqrt(2)))\n",
    "\n",
    "for x, l in enumerate(ls):\n",
    "    print(f\"ls[{x}]\" + \" = \" + str(l.simplify()))"
   ]
  },
  {
   "cell_type": "markdown",
   "metadata": {},
   "source": [
    "The corresponding stereographically-projected points in the complex plane are\n",
    "given by \n",
    "\n",
    "$$\n",
    "\n",
    "\\begin{alignat*}{3}\n",
    "l_1 &= \\tfrac1{\\sqrt{2}}\\left(1+i\\right) \\qquad &&l_7 &&= i\\left(-1-\\sqrt{2}\\right)\\\\\n",
    "l_2 &= \\tfrac1{\\sqrt{2}}\\left(1-i\\right) \\qquad&&l_8 &&= i\\left(1-\\sqrt{2}\\right)\\\\\n",
    "l_3 &= \\tfrac1{\\sqrt{2}}\\left(-1+i\\right) \\qquad&&l_9 &&= 1+\\sqrt{2}\\\\\n",
    "l_4 &= \\tfrac1{\\sqrt{2}}\\left(-1-i\\right) \\qquad&&l_{10} &&= -1+\\sqrt{2}\\\\\n",
    "l_5 &= i\\left(1+\\sqrt{2}\\right) \\qquad&&l_{11} &&= -1-\\sqrt{2}\\\\\n",
    "l_6 &= i\\left(-1+\\sqrt{2}\\right) \\qquad&&l_{12} &&= 1-\\sqrt{2}\n",
    "\n",
    "\\end{alignat*}\n",
    "\n",
    "$$"
   ]
  },
  {
   "cell_type": "markdown",
   "metadata": {},
   "source": [
    "Given the above, we define\n",
    "\n",
    "$$\n",
    "\n",
    "\\chi(u,v) := \\prod_{i=1}^{12}\\left(u-l_i\\,v\\right) = u^{12} - 33 u^{8} v^{4} -\n",
    "33 u^{4} v^{8} + v^{12} \\,.\n",
    "\n",
    "$$"
   ]
  },
  {
   "cell_type": "code",
   "execution_count": 14,
   "metadata": {},
   "outputs": [
    {
     "data": {
      "text/latex": [
       "$\\displaystyle u^{12} - 33 u^{8} v^{4} - 33 u^{4} v^{8} + v^{12}$"
      ],
      "text/plain": [
       "u**12 - 33*u**8*v**4 - 33*u**4*v**8 + v**12"
      ]
     },
     "execution_count": 14,
     "metadata": {},
     "output_type": "execute_result"
    }
   ],
   "source": [
    "chi = reduce(lambda x, y: x * y, [u - x * v for x in ls])\n",
    "\n",
    "simplify(chi)"
   ]
  },
  {
   "cell_type": "markdown",
   "metadata": {},
   "source": [
    "As it turns out, $\\chi(u,v)$ is also related to $t(u,v)$ and $W(u,v)$: $\\chi$ is\n",
    "proportional to the *Jacobian* of ${\\bf V}(u,v) := (t(u,v), W(u,v))$:\n",
    "\n",
    "$$\n",
    "\n",
    "{\\textrm Jac}[{\\bf V}](u,v) := \\det \\left[\\begin{matrix} \\frac{\\partial t}{\\partial u} & \\frac{\\partial t}{\\partial v} \\\\[6pt] \\frac{\\partial W}{\\partial u} & \\frac{\\partial W}{\\partial v} \\end{matrix}\\right] = -8\\,\\chi(u,v) \\,.\n",
    "\n",
    "$$"
   ]
  },
  {
   "cell_type": "code",
   "execution_count": 15,
   "metadata": {},
   "outputs": [
    {
     "data": {
      "text/latex": [
       "$\\displaystyle 0$"
      ],
      "text/plain": [
       "0"
      ]
     },
     "execution_count": 15,
     "metadata": {},
     "output_type": "execute_result"
    }
   ],
   "source": [
    "Jac = diff(t, u) * diff(W, v) - diff(t, v) * diff(W, u)\n",
    "simplify(Jac + 8 * chi)"
   ]
  },
  {
   "cell_type": "markdown",
   "metadata": {},
   "source": [
    "Since $\\chi \\sim t$, and since $t\\to-t$ under transformation $III$, we deduce\n",
    "that $\\chi^2$ is an absolute invariant of the octahedral symmetry group. Lastly,\n",
    "by direct computation we can verify that the absolute invariants $\\chi^2$,\n",
    "$W^3$, and $t^4$ (all sharing the same order of homogeneity) are inter-related:\n",
    "\n",
    "$$\n",
    "\n",
    "\\chi^2 - W^3 + 108\\, t^4 = 0 \\,.\n",
    "\n",
    "$$"
   ]
  },
  {
   "cell_type": "code",
   "execution_count": 16,
   "metadata": {},
   "outputs": [
    {
     "data": {
      "text/latex": [
       "$\\displaystyle - 108 u^{4} v^{4} \\left(u - v\\right)^{4} \\left(u + v\\right)^{4} \\left(u^{2} + v^{2}\\right)^{4}$"
      ],
      "text/plain": [
       "-108*u**4*v**4*(u - v)**4*(u + v)**4*(u**2 + v**2)**4"
      ]
     },
     "execution_count": 16,
     "metadata": {},
     "output_type": "execute_result"
    }
   ],
   "source": [
    "simplify(chi**2 - W**3).factor()"
   ]
  },
  {
   "cell_type": "code",
   "execution_count": 17,
   "metadata": {},
   "outputs": [
    {
     "data": {
      "text/latex": [
       "$\\displaystyle 0$"
      ],
      "text/plain": [
       "0"
      ]
     },
     "execution_count": 17,
     "metadata": {},
     "output_type": "execute_result"
    }
   ],
   "source": [
    "simplify(chi**2 - W**3 + 108 * t**4)"
   ]
  },
  {
   "cell_type": "markdown",
   "metadata": {},
   "source": [
    "## Icosahedral Symmetry\n",
    "\n"
   ]
  },
  {
   "cell_type": "markdown",
   "metadata": {},
   "source": []
  },
  {
   "cell_type": "code",
   "execution_count": 97,
   "metadata": {},
   "outputs": [
    {
     "data": {
      "text/latex": [
       "$\\displaystyle u v \\left(u^{10} + 11 u^{5} v^{5} - v^{10}\\right)$"
      ],
      "text/plain": [
       "u*v*(u**10 + 11*u**5*v**5 - v**10)"
      ]
     },
     "execution_count": 97,
     "metadata": {},
     "output_type": "execute_result"
    }
   ],
   "source": [
    "from functools import reduce\n",
    "\n",
    "# e = exp(2 * pi * I / 5)\n",
    "e = symbols(\"e\")\n",
    "n = e**2 + e**3\n",
    "m = e + e**4\n",
    "\n",
    "iso_verts = []\n",
    "for i in range(5):\n",
    "    iso_verts.append(n * e**i)\n",
    "    iso_verts.append(m * e**i)\n",
    "\n",
    "f = u * v * reduce(lambda x, y: x * y, [u - x * v for x in iso_verts])\n",
    "\n",
    "\n",
    "def e_simp(expr):\n",
    "    result = Poly(expr, e)\n",
    "    e_coeffs = reversed(result.all_coeffs())\n",
    "    simp_coeffs = [0] * 5\n",
    "    # enforce e**5 = 1\n",
    "    for i, coeff in enumerate(e_coeffs):\n",
    "        simp_coeffs[i % 5] += coeff\n",
    "    # enforce e**4 = - e**3 - e**2 - e - 1\n",
    "    simp_coeffs = [simp_coeffs[i] - simp_coeffs[4] for i in range(4)]\n",
    "    return Poly.from_list(reversed(simp_coeffs), e).as_expr()\n",
    "\n",
    "\n",
    "f = e_simp(f)\n",
    "simplify(f.expand())\n"
   ]
  }
 ],
 "metadata": {
  "kernelspec": {
   "display_name": ".venv",
   "language": "python",
   "name": "python3"
  },
  "language_info": {
   "codemirror_mode": {
    "name": "ipython",
    "version": 3
   },
   "file_extension": ".py",
   "mimetype": "text/x-python",
   "name": "python",
   "nbconvert_exporter": "python",
   "pygments_lexer": "ipython3",
   "version": "3.9.13"
  }
 },
 "nbformat": 4,
 "nbformat_minor": 2
}
