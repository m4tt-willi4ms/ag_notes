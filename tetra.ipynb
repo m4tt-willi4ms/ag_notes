{
 "cells": [
  {
   "cell_type": "code",
   "execution_count": 3,
   "metadata": {},
   "outputs": [],
   "source": [
    "from sympy import I, cos, pi, symbols, sqrt, Rational, Matrix, exp, conjugate"
   ]
  },
  {
   "cell_type": "markdown",
   "metadata": {},
   "source": [
    "# Notes\n",
    "\n",
    "## Tetrahedral Symmetry\n",
    "\n",
    "Rotation (in three dimensions) of the vector ${\\bf r}$ about the direction $\\hat{\\bf n}$ by an angle $\\theta$:\n",
    "\n",
    "$$\n",
    "{\\bf r}' = {\\bf r}\\,\\cos\\theta + ({\\bf r}\\cdot\\hat{\\bf n}) \\hat{\\bf n}\\, (1 - \\cos\\theta) + \\hat{\\bf n} \\times {\\bf r} \\, \\sin\\theta\n",
    "$$\n",
    "\n",
    "or, in components,\n",
    "\n",
    "$$\n",
    "\\begin{align*}\n",
    "r'^i &= \\left[{\\delta^i}_j\\,\\cos\\theta + n^in_j\\,(1-\\cos\\theta)-{\\epsilon^i}_{jk}\\,n^k\\,\\sin\\theta\\right] r^k \\\\\n",
    ":&= {\\cal O^i}_j\\,r^j \\,.\n",
    "\\end{align*}\n",
    "$$\n",
    "\n",
    "Introducing the variables \n",
    "\n",
    "$$\n",
    "a_i = n_i\\,\\sin\\left(\\theta/2\\right) \\,,\\quad d:= \\cos\\left(\\theta /2\\right) \\,,\n",
    "$$\n",
    "\n",
    "we see the rotation matrix ${{\\cal O}^i}_j$ can be rewritten as follows:\n",
    "\n",
    "$$\n",
    "{{\\cal O}^i}_j = \\left(2\\,d^2 -1\\right){\\delta^i}_j+ 2\\left( a^i\\,a_j - {\\epsilon^i}_{jk}\\,a^k\\,d\\right) \\,.\n",
    "$$\n",
    "(Recall that $\\cos\\theta = 2\\,\\cos^2\\left(\\theta/2\\right) -1$ and that $\\sin\\theta = 2\\,\\sin\\left(\\theta/2\\right)\\,\\cos\\left(\\theta/2\\right)$.)\n",
    "\n",
    "The orthogonality of ${\\cal O}$ can be verified by computing ${\\cal O_k}^i\\,{\\cal O^k}_j$ using the expression above, which gives\n",
    "\n",
    "$$\n",
    "{({\\cal O}^T {\\cal O})^i}_j = {\\delta^i}_j + 4\\left(d^2 + {\\bf a}^2 -1\\right)\\left(d^2 \\,{\\delta^i}_j + \n",
    "a^ia_j\\right) = {\\delta^i}_j\n",
    "$$\n",
    "where the second equality follows from the definition of ${\\bf a}$ and $d$, along with the trig identity $\\sin^2\\left(\\theta/2\\right) + \\cos^2\\left(\\theta/2\\right) = 1$ which enforces the constraint\n",
    "\n",
    "$$\n",
    "{\\bf a}^2 + d^2 = 1 \\,.\n",
    "$$"
   ]
  },
  {
   "cell_type": "code",
   "execution_count": 17,
   "metadata": {},
   "outputs": [
    {
     "name": "stdout",
     "output_type": "stream",
     "text": [
      "KroneckerDelta(i, j) + 2*a[1, 0]*a[2, 0]\n"
     ]
    }
   ],
   "source": [
    "from sympy import Eijk, MatrixSymbol\n",
    "from sympy import KroneckerDelta as delta\n",
    "i, j, k, l = symbols(\"i j k l\")\n",
    "a1, a2, a3 = symbols(\"a b c\")\n",
    "a = MatrixSymbol(\"a\", 3, 1)\n",
    "\n",
    "# a = Matrix([a1, a2, a3])\n",
    "O = delta(i, j) + 2*a.T[1] * a[2] #- 2 * reduce(add, [Eijk(i,j, x) * a[x] for x in range(3)])\n",
    "print(O)"
   ]
  },
  {
   "cell_type": "code",
   "execution_count": 4,
   "metadata": {},
   "outputs": [
    {
     "name": "stdout",
     "output_type": "stream",
     "text": [
      "uv_prime=Matrix([\n",
      "[u*(1/2 + I/2) + v*(-1/2 + I/2)],\n",
      "[ u*(1/2 + I/2) + v*(1/2 - I/2)]])\n"
     ]
    }
   ],
   "source": [
    "u, v = symbols(\"u v\")\n",
    "U, V = symbols(\"U V\")\n",
    "\n",
    "\n",
    "sp1 = (1 + I) / (sqrt(3) - 1)\n",
    "sp2 = (1 - I) / (sqrt(3) + 1)\n",
    "sp3 = (-1 + I) / (sqrt(3) + 1)\n",
    "sp4 = -(1 + I) / (sqrt(3) - 1)\n",
    "\n",
    "orth = Rational(1, 2) * Matrix([[1 + I, -1 + I], [1 + I, 1 - I]])\n",
    "uv = Matrix([u, v])\n",
    "\n",
    "uv_prime = orth * uv\n",
    "print(f\"{uv_prime=}\")"
   ]
  }
 ],
 "metadata": {
  "kernelspec": {
   "display_name": ".venv",
   "language": "python",
   "name": "python3"
  },
  "language_info": {
   "codemirror_mode": {
    "name": "ipython",
    "version": 3
   },
   "file_extension": ".py",
   "mimetype": "text/x-python",
   "name": "python",
   "nbconvert_exporter": "python",
   "pygments_lexer": "ipython3",
   "version": "3.9.13"
  }
 },
 "nbformat": 4,
 "nbformat_minor": 2
}
