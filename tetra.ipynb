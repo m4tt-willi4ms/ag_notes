{
 "cells": [
  {
   "cell_type": "code",
   "execution_count": 41,
   "metadata": {},
   "outputs": [],
   "source": [
    "from sympy import I, cos, pi, symbols, sqrt, Rational, Matrix, exp, conjugate, simplify"
   ]
  },
  {
   "cell_type": "markdown",
   "metadata": {},
   "source": [
    "# Notes\n",
    "\n",
    "## Tetrahedral Symmetry\n",
    "\n",
    "Rotation (in three dimensions) of the vector ${\\bf r}$ about the direction $\\hat{\\bf n}$ by an angle $\\theta$:\n",
    "\n",
    "$$\n",
    "{\\bf r}' = {\\bf r}\\,\\cos\\theta + ({\\bf r}\\cdot\\hat{\\bf n}) \\hat{\\bf n}\\, (1 - \\cos\\theta) - {\\bf r} \\times \\hat{\\bf n} \\, \\sin\\theta\n",
    "$$\n",
    "\n",
    "or, in components,\n",
    "\n",
    "$$\n",
    "\\begin{align*}\n",
    "r'^i &= \\left[{\\delta^i}_j\\,\\cos\\theta + n^in_j\\,(1-\\cos\\theta)-{\\epsilon^i}_{jk}\\,n^k\\,\\sin\\theta\\right] r^j \\\\\n",
    ":&= {\\cal O^i}_j\\,r^j \\,.\n",
    "\\end{align*}\n",
    "$$\n",
    "\n",
    "Introducing the variables \n",
    "\n",
    "$$\n",
    "a_i = n_i\\,\\sin\\left(\\theta/2\\right) \\,,\\quad d:= \\cos\\left(\\theta /2\\right) \\,,\n",
    "$$\n",
    "\n",
    "we see the rotation matrix ${{\\cal O}^i}_j$ can be rewritten as follows:\n",
    "\n",
    "$$\n",
    "{{\\cal O}^i}_j = \\left(2\\,d^2 -1\\right){\\delta^i}_j+ 2\\left( a^i\\,a_j - {\\epsilon^i}_{jk}\\,a^k\\,d\\right) \\,.\n",
    "$$\n",
    "(Recall that $\\cos\\theta = 2\\,\\cos^2\\left(\\theta/2\\right) -1 = 1-2\\,\\sin^2\\left(\\theta/2\\right)$ and that $\\sin\\theta = 2\\,\\sin\\left(\\theta/2\\right)\\,\\cos\\left(\\theta/2\\right)$.)\n",
    "\n",
    "The orthogonality of ${\\cal O}$ can be verified by computing ${\\cal O_k}^i\\,{\\cal O^k}_j$ using the expression above, which gives\n",
    "\n",
    "$$\n",
    "{({\\cal O}^T {\\cal O})^i}_j = {\\delta^i}_j + 4\\left(d^2 + {\\bf a}^2 -1\\right)\\left(d^2 \\,{\\delta^i}_j + \n",
    "a^ia_j\\right) = {\\delta^i}_j\n",
    "$$\n",
    "where the second equality follows from the definition of ${\\bf a}$ and $d$, along with the trig identity $\\sin^2\\left(\\theta/2\\right) + \\cos^2\\left(\\theta/2\\right) = 1$ which enforces the constraint\n",
    "\n",
    "$$\n",
    "{\\bf a}^2 + d^2 = 1 \\,.\n",
    "$$"
   ]
  },
  {
   "cell_type": "markdown",
   "metadata": {},
   "source": [
    "## Stereographic Projection\n",
    "\n",
    "In what follows, it's helpful to map the rotations on the sphere to the complex\n",
    "plane, by performing an equatorial spherical projection from the point where\n",
    "$\\hat{\\bf n} = (0, 0, 1)$ down onto the complex plane. Denoting a general point\n",
    "on the unit sphere as $\\hat{\\bf r} = (\\xi,\\eta,\\zeta)$ in the general case, and\n",
    "writing $z = x + iy$ with real and imaginary axes parallel to the $(\\xi \\eta)$\n",
    "plane, we find (using similar triangles) that\n",
    "\n",
    "$$\n",
    "z = x + i\\, y = \\frac{\\xi +i\\,\\eta}{1-\\zeta} \\,.\n",
    "$$\n",
    "\n",
    "Inverting, we find\n",
    "\n",
    "$$ \n",
    "\n",
    "\\xi = \\frac{z + \\bar{z}}r \\,,\\quad \\eta = \\frac{i(\\bar{z} - z)}r \\,,\\quad\n",
    "\\zeta = \\frac{z\\bar{z} -1}r \n",
    "\n",
    "$$\n",
    "\n",
    "where we define $r := 1 + z\\bar{z}$."
   ]
  },
  {
   "cell_type": "markdown",
   "metadata": {},
   "source": [
    "\n",
    "Rotations about the $\\zeta$-axis are particularly simple in this representation,\n",
    "as they correspond to multiplying $z$ by a pure phase:\n",
    "\n",
    "$$ \n",
    "\n",
    "z \\to z' = e^{i\\theta} \\, z \\quad\\leftrightarrow\\quad \\begin{array}{cc}\\xi' &=\n",
    "\\xi\\,\\cos\\theta\n",
    "- \\eta\\,\\sin\\theta\\\\\n",
    "\\eta' &= \\xi\\,\\sin\\theta + \\eta\\,\\cos\\theta\n",
    "\\end{array}\\,. \n",
    "\n",
    "$$\n",
    "\n",
    "If we wish to write an arbitrary rotation of a point on the sphere about some\n",
    "direction specified by $\\hat{\\bf n}$, $\\theta$ (or, equivalently, ${\\bf a}$,\n",
    "$d$), we can leverage the simplicity of the above by noting that the rotation\n",
    "leave the antipodal points $z_1=0$, $z_2=\\infty$ fixed, and that a more general\n",
    "rotation about the direction $\\hat{\\bf n}$ should do the same for the points\n",
    "\n",
    "$$\n",
    "\n",
    "z_1 = \\frac{n_1+i\\,n_2}{1-n_3} \\,,\\quad z_2 = \\frac{-n_1-i\\,n_2}{1+n_3} \\,,\n",
    "\n",
    "$$\n",
    "\n",
    "which satisfy the antipodal relation $z_1\\,\\bar z_2 = -1$, as well as the useful\n",
    "relations\n",
    "\n",
    "$$\n",
    "\n",
    "\\frac{z_1 + z_2}{z_1 - z_2} = n_3 \\,,\\quad \\frac{2 z_1 z_2}{z_2 - z_1} = n_1 +\n",
    "i\\,n_2 \\,,\\quad \\frac2{z_1 - z_2} = n_1 -i\\,n_2\\,.\n",
    "\n",
    "$$"
   ]
  },
  {
   "cell_type": "code",
   "execution_count": 37,
   "metadata": {},
   "outputs": [],
   "source": [
    "n1, n2, n3 = symbols('n1 n2 n3', real=True)\n",
    "z1 = (n1 + I* n2) / (1 - n3)\n",
    "z2 = (-n1 - I * n2) / (1 + n3)"
   ]
  },
  {
   "cell_type": "code",
   "execution_count": 44,
   "metadata": {},
   "outputs": [
    {
     "data": {
      "text/latex": [
       "$\\displaystyle -1$"
      ],
      "text/plain": [
       "-1"
      ]
     },
     "execution_count": 44,
     "metadata": {},
     "output_type": "execute_result"
    }
   ],
   "source": [
    "simplify((z1*conjugate(z2)).subs(n3, sqrt(1 - n1**2 - n2**2)))"
   ]
  },
  {
   "cell_type": "code",
   "execution_count": 34,
   "metadata": {},
   "outputs": [
    {
     "data": {
      "text/latex": [
       "$\\displaystyle n_{3}$"
      ],
      "text/plain": [
       "n3"
      ]
     },
     "execution_count": 34,
     "metadata": {},
     "output_type": "execute_result"
    }
   ],
   "source": [
    "simplify((z1+z2) / (z1-z2))"
   ]
  },
  {
   "cell_type": "code",
   "execution_count": 35,
   "metadata": {},
   "outputs": [
    {
     "data": {
      "text/latex": [
       "$\\displaystyle n_{1} + i n_{2}$"
      ],
      "text/plain": [
       "n1 + I*n2"
      ]
     },
     "execution_count": 35,
     "metadata": {},
     "output_type": "execute_result"
    }
   ],
   "source": [
    "simplify((2*z1*z2) / (z2-z1))"
   ]
  },
  {
   "cell_type": "code",
   "execution_count": 47,
   "metadata": {},
   "outputs": [
    {
     "data": {
      "text/latex": [
       "$\\displaystyle n_{1} - i n_{2}$"
      ],
      "text/plain": [
       "n1 - I*n2"
      ]
     },
     "execution_count": 47,
     "metadata": {},
     "output_type": "execute_result"
    }
   ],
   "source": [
    "simplify((2/(z1-z2)).subs(n3, sqrt(1 - n1**2 - n2**2)))"
   ]
  },
  {
   "cell_type": "markdown",
   "metadata": {},
   "source": [
    "As such, the rotation leaving such points fixed is\n",
    "\n",
    "$$\n",
    "\n",
    "\\frac{z'-z_2}{z'-z_1} = e^{i\\theta} \\,\\frac{z-z_2}{z-z_1} \\,.\n",
    "\n",
    "$$\n",
    "\n",
    "Solving for $z'$, the above general rotation can be expressed as\n",
    "\n",
    "$$\n",
    "\\begin{align*} \n",
    "\n",
    "z \\to z' &= \\frac{z\\left[(z_1 - z_2)\\cos(\\theta/2) + i\n",
    "(z_1+z_2)\\,\\sin(\\theta/2)\\right]-2i\\sin(\\theta/2)z_1 z_2}{2z\\,i\\sin(\\theta/2) +\n",
    "\\left[(z_1 - z_2)\\cos(\\theta/2)-i(z_1+z_2)\\sin(\\theta/2)\\right]} \\\\\n",
    "&= \\frac{(d+i\\,a_3)z - (a_2-i\\,a_1)}{(a_2+i\\,a_1)z + (d-i\\,a_3)}\n",
    "\n",
    "\\end{align*}\n",
    "\n",
    "$$\n",
    "\n",
    "where we make use of the notation introduced above which interrelates\n",
    "$\\{\\hat{\\bf n}, \\theta\\}$ with $\\{{\\bf a}, d\\}$. (The above can be readily\n",
    "checked by substituting $\\hat {\\bf r}' =(\\xi',\\eta',\\zeta') = {\\cal O} \\cdot\n",
    "\\hat{\\bf r}$ into the expression $z' = (\\xi' + i\\,\\eta')/(1-\\zeta')$.)"
   ]
  },
  {
   "cell_type": "markdown",
   "metadata": {},
   "source": []
  },
  {
   "cell_type": "code",
   "execution_count": 17,
   "metadata": {},
   "outputs": [
    {
     "name": "stdout",
     "output_type": "stream",
     "text": [
      "KroneckerDelta(i, j) + 2*a[1, 0]*a[2, 0]\n"
     ]
    }
   ],
   "source": [
    "from sympy import Eijk, MatrixSymbol\n",
    "from sympy import KroneckerDelta as delta\n",
    "i, j, k, l = symbols(\"i j k l\")\n",
    "a1, a2, a3 = symbols(\"a b c\")\n",
    "a = MatrixSymbol(\"a\", 3, 1)\n",
    "\n",
    "# a = Matrix([a1, a2, a3])\n",
    "O = delta(i, j) + 2*a.T[1] * a[2] #- 2 * reduce(add, [Eijk(i,j, x) * a[x] for x in range(3)])\n",
    "print(O)"
   ]
  },
  {
   "cell_type": "code",
   "execution_count": 4,
   "metadata": {},
   "outputs": [
    {
     "name": "stdout",
     "output_type": "stream",
     "text": [
      "uv_prime=Matrix([\n",
      "[u*(1/2 + I/2) + v*(-1/2 + I/2)],\n",
      "[ u*(1/2 + I/2) + v*(1/2 - I/2)]])\n"
     ]
    }
   ],
   "source": [
    "u, v = symbols(\"u v\")\n",
    "U, V = symbols(\"U V\")\n",
    "\n",
    "\n",
    "sp1 = (1 + I) / (sqrt(3) - 1)\n",
    "sp2 = (1 - I) / (sqrt(3) + 1)\n",
    "sp3 = (-1 + I) / (sqrt(3) + 1)\n",
    "sp4 = -(1 + I) / (sqrt(3) - 1)\n",
    "\n",
    "orth = Rational(1, 2) * Matrix([[1 + I, -1 + I], [1 + I, 1 - I]])\n",
    "uv = Matrix([u, v])\n",
    "\n",
    "uv_prime = orth * uv\n",
    "print(f\"{uv_prime=}\")"
   ]
  }
 ],
 "metadata": {
  "kernelspec": {
   "display_name": ".venv",
   "language": "python",
   "name": "python3"
  },
  "language_info": {
   "codemirror_mode": {
    "name": "ipython",
    "version": 3
   },
   "file_extension": ".py",
   "mimetype": "text/x-python",
   "name": "python",
   "nbconvert_exporter": "python",
   "pygments_lexer": "ipython3",
   "version": "3.9.13"
  }
 },
 "nbformat": 4,
 "nbformat_minor": 2
}
