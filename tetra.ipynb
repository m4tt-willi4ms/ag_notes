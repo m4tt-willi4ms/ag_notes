{
 "cells": [
  {
   "cell_type": "markdown",
   "metadata": {},
   "source": [
    "## Tetrahedral Symmetry\n",
    "\n",
    "A tetrahedron is formed by joining alternating vertices as one traverses the\n",
    "edges of a cube. Taking these four vertices to be \n",
    "\n",
    "$$\n",
    "\n",
    "\\begin{align*}\n",
    "{\\bf V}_1 &= \\frac1{\\sqrt{3}}(1, 1, 1) \\\\\n",
    "{\\bf V}_2 &= \\frac1{\\sqrt{3}}(-1, -1, 1) \\\\\n",
    "{\\bf V}_3 &= \\frac1{\\sqrt{3}}(1, -1, -1) \\\\\n",
    "{\\bf V}_4 &= \\frac1{\\sqrt{3}}(-1, 1, -1) \\,,\n",
    "\\end{align*}\n",
    "$$\n",
    "\n",
    "(such that they each lie on the unit sphere) we find that the corresponding\n",
    "spherically-projected coordinates are\n",
    "\n",
    "$$\n",
    "\n",
    "k_1 = -k_2 = \\frac{1+i}{\\sqrt{3} -1} \\,,\\quad k_3 = -k_4 =\n",
    "\\frac{1-i}{\\sqrt{3}+1} \\,.\n",
    "\n",
    "$$\n",
    "\n",
    "(Note that an equivalent tetrahedron could be constructed using the points\n",
    "antipodal to the ones above; this is referred to as the \"diametral tetrahedron\".)"
   ]
  },
  {
   "cell_type": "markdown",
   "metadata": {},
   "source": [
    "The discrete rotational symmetries of the tetrahedron can be constructed by\n",
    "composing the two-fold rotation about the $z$ axis (which maps ${\\bf V}_1\n",
    "\\leftrightarrow{\\bf V}_2$, ${\\bf V}_3 \\leftrightarrow{\\bf V}_4$) with the\n",
    "three-fold rotation about the ${\\bf V}_1$ axis (which maps ${\\bf V}_2\n",
    "\\rightarrow {\\bf V}_3$, ${\\bf V}_3 \\rightarrow {\\bf V}_4$, ${\\bf V}_4\n",
    "\\rightarrow {\\bf V}_2$). On the complex plane, these correspond to\n",
    "\n",
    "$$\n",
    "\n",
    "\\begin{align*}\n",
    "I:\\quad z \\to z' &= -z \\\\\n",
    "II:\\quad z \\to z' &= \\frac{z+i}{z-i} \\,,\n",
    "\\end{align*}\n",
    "\n",
    "$$\n",
    "\n",
    "respectively."
   ]
  },
  {
   "cell_type": "code",
   "execution_count": 51,
   "metadata": {},
   "outputs": [
    {
     "data": {
      "text/plain": [
       "True"
      ]
     },
     "execution_count": 51,
     "metadata": {},
     "output_type": "execute_result"
    }
   ],
   "source": [
    "# Check of the above:\n",
    "sp1 = (1 + I) / (sqrt(3) - 1)\n",
    "sp2 = -(1 + I) / (sqrt(3) - 1)\n",
    "sp3 = (1 - I) / (sqrt(3) + 1)\n",
    "sp4 = (-1 + I) / (sqrt(3) + 1)\n",
    "\n",
    "# fmt: off\n",
    "((sp1 + I) / (sp1 - I)).equals(sp1) and \\\n",
    "((sp2 + I) / (sp2 - I)).equals(sp3) and \\\n",
    "((sp3 + I) / (sp3 - I)).equals(sp4) and \\\n",
    "((sp4 + I) / (sp4 - I)).equals(sp2)\n",
    "# fmt: on"
   ]
  },
  {
   "cell_type": "markdown",
   "metadata": {},
   "source": [
    "In terms of the homogeneous coordinates $u$ and $v$, these two transformations\n",
    "map directly to\n",
    "\n",
    "$$\n",
    "\n",
    "\\begin{align*}\n",
    "I:&\\quad \\begin{array}{ccc}\n",
    "u' &=& i\\,u \\\\\n",
    "v' &=& -i\\,v \n",
    "\\end{array} \\\\\n",
    "II:&\\quad \\begin{array}{ccc}\n",
    " u' &=& \\tfrac12(1+i)\\,u - \\tfrac12(1-i)\\,v \\\\\n",
    " v' &=& \\tfrac12 (1+i) u + \\tfrac12(1-i)\\,v \\,.\n",
    " \\end{array}\n",
    "\\end{align*}\n",
    "\n",
    "% \\begin{align*}\n",
    "% u' &= (d+i\\,a_3)u - (a_2-i\\,a_1)v \\\\\n",
    "% v' &= (a_2+i\\,a_1)u + (d-i\\,a_3) v \\,.\n",
    "% \\end{align*}\n",
    "$$"
   ]
  },
  {
   "cell_type": "markdown",
   "metadata": {},
   "source": [
    "# Polynomial Invariants\n",
    "\n",
    "Keeping in mind that all symmetry transformations of the tetrahedron merely\n",
    "exchange a number of vertices with one another, it's expected that a polynomial\n",
    "with roots at the locations of the vertices in the complex plane will be\n",
    "invariant under such transformations. To see this, consider the product\n",
    "\n",
    "$$\n",
    "\n",
    "\\begin{align*}\n",
    "\\Phi(u, v) &:= \\prod_{i=1}^4 \\left(u - k_i\\, v\\right) = (u^2-k_1^2)(v^2-k_3^2) \\\\\n",
    "&= u^4 - 2i\\sqrt{3}\\,u^2v^2 + v^4\n",
    "\\end{align*}\n",
    "\n",
    "$$\n",
    "\n",
    "and apply the transformation $(u, v) \\to (u', v')$ as before. In the general\n",
    "case, this gives \n",
    "\n",
    "$$\n",
    "\n",
    "\\begin{align*}\n",
    "\\Phi(u', v') &= \\prod_{i=1}^4 \\left(u' - k_i\\, v'\\right) \\\\\n",
    "&= \\prod_{i=1}^4 \\left(A - k_i\\, C\\right) \\prod_{i=1}^4 \\left(u - k_i'\\, v\\right) \\\\\n",
    "&= \\prod_{i=1}^4 \\left(A - k_i\\, C\\right) \\, \\Phi(u, v)\n",
    "\\end{align*}\n",
    "\n",
    "$$\n",
    "\n",
    "where we define\n",
    "\n",
    "$$\n",
    "\n",
    "k'_i := \\frac{k_i\\, D - B}{- k_i\\, C + A} \\quad\\leftrightarrow\\quad k_i =\n",
    "\\frac{k_i'\\,A+B}{k_i'\\,C+D} \\,.\n",
    "\n",
    "$$"
   ]
  },
  {
   "cell_type": "markdown",
   "metadata": {},
   "source": [
    "In the case of both transformations $I$ and $II$, the product $\\prod_{i=1}^4 \\left(u - k_i'\\, v\\right)$ is clearly invariant, because the vertices all transform into one another under any of the transformations. For transformation $I$, the product $\\prod_{i=1}^4 \\left(A - k_i\\, C\\right) = 1$ because $A=i$ and $C=0$. For transformation $II$, this product instead gives\n",
    "\n",
    "$$\n",
    "\n",
    "\\begin{align*}\n",
    "\\prod_{i=1}^4 \\left(A - k_i\\, C\\right) &= \\left[\\tfrac12 (1+i)\\right]^4\\prod_{i=1}^4 \\left(1 - k_i\\right) \\\\\n",
    "&= -\\tfrac14(1-k_1^2)(1-k_3^2) \\\\\n",
    "&=-\\tfrac14\\left[1-i(2+\\sqrt{3})\\right]\\left[1+i(2-\\sqrt{3})\\right] \\\\\n",
    "&=-\\frac12+i\\frac{\\sqrt{3}}2 = e^{2\\pi i/3} \\,.\n",
    "\\end{align*}\n",
    "\n",
    "$$\n",
    "\n",
    "The above guarantees that the function $\\Phi^3(u,v)$ is an absolute invariant under the symmetries of the tetrahedral group."
   ]
  },
  {
   "cell_type": "code",
   "execution_count": 52,
   "metadata": {},
   "outputs": [
    {
     "data": {
      "text/latex": [
       "$\\displaystyle - \\frac{1}{2} + \\frac{\\sqrt{3} i}{2}$"
      ],
      "text/plain": [
       "-1/2 + sqrt(3)*I/2"
      ]
     },
     "execution_count": 52,
     "metadata": {},
     "output_type": "execute_result"
    }
   ],
   "source": [
    "simplify(\n",
    "    (Rational(1, 2) * (1 + I)) ** 4 * (1 - sp1) * (1 - sp2) * (1 - sp3) * (1 - sp4)\n",
    ")"
   ]
  },
  {
   "cell_type": "markdown",
   "metadata": {},
   "source": [
    "The above can also be done for the edge midpoints, and face centers, of the tetrahedron.\n",
    "In the latter case, it's as simple as trading $k_i \\to -1/\\bar k_i$ in the above expression for $\\Phi$ (since the face centers are in line with the antipodes of the vertices). This yields\n",
    "\n",
    "$$\n",
    "\n",
    "\\begin{align*}\n",
    "\\Psi(u, v) &:= \\prod_{i=1}^4\\left(u + \\bar k_i^{-1}\\, v\\right) = \\prod_{i=1}^4\\left(u - \\bar k_i\\, v\\right) \\\\\n",
    "&= u^4 + 2i\\sqrt{3}\\,u^2v^2 + v^4 \\,.\n",
    "\\end{align*}\n",
    "\n",
    "$$\n",
    "\n",
    "(The second-last equality follows since $k_1k_4 = k_2k_3 =-1$.) As one might expect, under transformation $II$ the function $\\Psi(u,v)$ becomes\n",
    "\n",
    "$$\n",
    "\n",
    "\\Psi(u',v') = e^{-2\\pi i/3} \\, \\Psi(u,v) \\,.\n",
    "\n",
    "$$\n",
    "\n",
    "Therefore, the combinations $\\Phi \\Psi$ and $\\Psi^3$ are also absolute invariants."
   ]
  },
  {
   "cell_type": "code",
   "execution_count": 53,
   "metadata": {},
   "outputs": [
    {
     "name": "stdout",
     "output_type": "stream",
     "text": [
      "uv_prime=Matrix([\n",
      "[u*(1/2 + I/2) + v*(-1/2 + I/2)],\n",
      "[ u*(1/2 + I/2) + v*(1/2 - I/2)]])\n"
     ]
    },
    {
     "data": {
      "text/latex": [
       "$\\displaystyle u^{4} - 2 \\sqrt{3} i u^{2} v^{2} + v^{4}$"
      ],
      "text/plain": [
       "u**4 - 2*sqrt(3)*I*u**2*v**2 + v**4"
      ]
     },
     "execution_count": 53,
     "metadata": {},
     "output_type": "execute_result"
    }
   ],
   "source": [
    "orth = Rational(1, 2) * Matrix([[1 + I, -1 + I], [1 + I, 1 - I]])\n",
    "u, v = symbols(\"u v\")\n",
    "U, V = symbols(\"U V\")\n",
    "uv = Matrix([u, v])\n",
    "\n",
    "uv_prime = orth * uv\n",
    "print(f\"{uv_prime=}\")\n",
    "\n",
    "Phi = (u - sp1 * v) * (u - sp2 * v) * (u - sp3 * v) * (u - sp4 * v)\n",
    "\n",
    "# print(Phi.subs(u, uv_prime[0]))\n",
    "Phi_prime = Phi.subs([(u, U), (v, V)]).subs([(U, uv_prime[0]), (V, uv_prime[1])])\n",
    "(Phi_prime / exp(2 * pi * I / 3)).rewrite(cos).radsimp().expand()"
   ]
  },
  {
   "cell_type": "markdown",
   "metadata": {},
   "source": [
    "In contrast, the six midpoints are at $z=0$, $z=\\infty$, $z=\\pm 1$, and $z=\\pm i$. In this case, the invariant polynomial is given by\n",
    "\n",
    "$$\n",
    "\n",
    "t(u, v) = uv(u-v)(u+v)(u-iv)(u+iv) = uv(u^4-v^4) \\,.\n",
    "\n",
    "$$\n",
    "\n",
    "Under the transformation $II$ (with $A=\\tfrac12(1+i)=-B^*=C=D^*$), we see that \n",
    "\n",
    "$$\n",
    "\n",
    "\\begin{align*}\n",
    "t(u',v') &= \\left(A\\,u-A^*\\,v\\right)\\left(A\\,u+A^*\\,v\\right) \\\\\n",
    "&\\times\\left[\\left(A\\,u-A^*\\,v\\right)^2 - \\left(A\\,u+A^*\\,v\\right)^2\\right]\\left[\\left(A\\,u-A^*\\,v\\right)^2+\\left(A\\,u+A^*\\,v\\right)^2\\right] \\\\\n",
    "&=\\left(A^2\\,u^2 - A^{*2}\\,v^2\\right)\\left[4\\,AA^*\\,uv\\right]\\left[2\\left(A^2\\,u^2+A^{*2}\\,v^2\\right)\\right] \\\\\n",
    "&=\\frac i2\\left(u^2 + v^2\\right)\\left[-2\\,uv\\right]\\left[i\\left(u^2-v^2\\right)\\right] = t(u,v)\n",
    "\\end{align*}\n",
    "\n",
    "$$\n",
    "\n",
    "where, in the last line, we make use of $A^2 = i/2 = -A^{*2}$. Similarly, $t(u',v') = t(u,v)$ under transformation $I$ where $A=i=D^*$, $B=C=0$, we find\n",
    "\n",
    "$$\n",
    "\n",
    "\\begin{align*}\n",
    "t(u',v') &= AA^*\\,uv(A^2\\,u^2-A^{*2}\\,v^2)(A^2\\,u^2+A^{*2}\\,v^2) \\\\\n",
    "&= t(u,v) \\,.\n",
    "\\end{align*}\n",
    "\n",
    "$$\n",
    "\n",
    "Therefore, $t(u,v)$ is an absolute invariant as well."
   ]
  },
  {
   "cell_type": "markdown",
   "metadata": {},
   "source": [
    "By direct computation, one can evaluate the combination $\\Psi^3- \\Phi^3$. As it\n",
    "turns out, this expression has a particularly simple form:\n",
    "\n",
    "$$\n",
    "\n",
    "\\Psi^3(u, v) = \\Phi^3(u, v) + 12\\sqrt{3}\\,i\\,t^2(u, v) \\,.\n",
    "\n",
    "$$"
   ]
  },
  {
   "cell_type": "code",
   "execution_count": 54,
   "metadata": {},
   "outputs": [
    {
     "data": {
      "text/latex": [
       "$\\displaystyle 12 \\sqrt{3} i u^{2} v^{2} \\left(u - v\\right)^{2} \\left(u + v\\right)^{2} \\left(u^{2} + v^{2}\\right)^{2}$"
      ],
      "text/plain": [
       "12*sqrt(3)*I*u**2*v**2*(u - v)**2*(u + v)**2*(u**2 + v**2)**2"
      ]
     },
     "execution_count": 54,
     "metadata": {},
     "output_type": "execute_result"
    }
   ],
   "source": [
    "# Check of the above:\n",
    "Phi = (u - sp1 * v) * (u - sp2 * v) * (u - sp3 * v) * (u - sp4 * v)\n",
    "Psi = (\n",
    "    (u - conjugate(sp1) * v)\n",
    "    * (u - conjugate(sp2) * v)\n",
    "    * (u - conjugate(sp3) * v)\n",
    "    * (u - conjugate(sp4) * v)\n",
    ")\n",
    "simplify(Psi**3 - Phi**3).factor()"
   ]
  },
  {
   "cell_type": "code",
   "execution_count": 55,
   "metadata": {},
   "outputs": [
    {
     "data": {
      "text/plain": [
       "True"
      ]
     },
     "execution_count": 55,
     "metadata": {},
     "output_type": "execute_result"
    }
   ],
   "source": [
    "# Second check:\n",
    "t = u * v * (u - v) * (u + v) * (u**2 + v**2)\n",
    "(Psi**3 - Phi**3).equals(12 * sqrt(3) * I * t**2)"
   ]
  },
  {
   "cell_type": "markdown",
   "metadata": {},
   "source": [
    "## Octahedral Symmetry\n",
    "\n",
    "The six vertices of the octahedron can be taken as identical to the six edge\n",
    "midpoints of the tetrahedron. As such they have $t(u,v)$ as their polynomial\n",
    "invariant.\n",
    "\n",
    "The octahedral symmetry group is generated by transformations $I$ and $II$\n",
    "above, along with\n",
    "\n",
    "$$\n",
    "III: \\quad u'=e^{i\\pi/4}\\, u \\,,\\quad v' = e^{-i\\pi/4} \\,v \\,.\n",
    "$$\n",
    "\n",
    "Under transformation $III$ with $A=e^{i\\pi/4} = D^*$, $B=C=0$, we find  that\n",
    "\n",
    "$$\n",
    "\n",
    "\\begin{align*}\n",
    "t(u',v') &= AA^*\\,uv(A^2\\,u^2-A^{*2}\\,v^2)(A^2\\,u^2+A^{*2}\\,v^2) \\\\\n",
    "&= -t(u,v) \\,.\n",
    "\\end{align*}\n",
    "\n",
    "$$\n",
    "\n",
    "Therefore, only $t^2(u,v)$ is an absolute invariant under the octahedral\n",
    "symmetry group."
   ]
  },
  {
   "cell_type": "markdown",
   "metadata": {},
   "source": [
    "The 8  face centers of the octahedron are formed by combining the 8 tetrahedral\n",
    "roots $\\{k_i, \\bar{k}_i\\}$ found before. As such, the octahedral polynomial\n",
    "invariant for the face centers is given by\n",
    "\n",
    "$$\n",
    "\n",
    "W(u, v) := \\Phi(u,v)\\, \\Psi(u,v)  = u^8 + 14\\,u^4v^4+v^8\\,.\n",
    "\n",
    "$$"
   ]
  },
  {
   "cell_type": "code",
   "execution_count": 56,
   "metadata": {},
   "outputs": [
    {
     "data": {
      "text/latex": [
       "$\\displaystyle u^{8} + 14 u^{4} v^{4} + v^{8}$"
      ],
      "text/plain": [
       "u**8 + 14*u**4*v**4 + v**8"
      ]
     },
     "execution_count": 56,
     "metadata": {},
     "output_type": "execute_result"
    }
   ],
   "source": [
    "# Check of the above:\n",
    "W = simplify(Phi * Psi)\n",
    "W"
   ]
  },
  {
   "cell_type": "markdown",
   "metadata": {},
   "source": [
    "In order to work out the transformation properties of $W(u,v)$, it is useful to\n",
    "note that $t$ and $W$ are inter-related as follows:\n",
    "\n",
    "$$\n",
    "\n",
    "{\\rm Hess}[t] := \\det\\left[\\begin{matrix}\\frac{\\partial^2t}{\\partial u^2} & \\frac{\\partial^2t}{\\partial u\\partial v} \\\\[6pt] \\frac{\\partial^2t}{\\partial v \\partial u} & \\frac{\\partial^2t}{\\partial v^2}\\end{matrix}\\right] = -25\\,W(u,v)\\,.\n",
    "\n",
    "$$\n",
    "\n",
    "In other words, $W(u,v)$ is the *Hessian* of $t(u,v)$. As such, since $t \\to -t$\n",
    "under transformation $III$ (and since $W \\sim t^2$), $W(u,v)$ is clearly\n",
    "invariant under all three octahedral symmetry generators."
   ]
  },
  {
   "cell_type": "code",
   "execution_count": 57,
   "metadata": {},
   "outputs": [
    {
     "data": {
      "text/plain": [
       "True"
      ]
     },
     "execution_count": 57,
     "metadata": {},
     "output_type": "execute_result"
    }
   ],
   "source": [
    "# Check of the above:\n",
    "def hessian(f):\n",
    "    du2 = diff(diff(f, u), u)\n",
    "    dudv = diff(diff(f, u), v)\n",
    "    dv2 = diff(diff(f, v), v)\n",
    "    return du2 * dv2 - dudv**2\n",
    "\n",
    "\n",
    "hessian(t).equals(-25 * Phi * Psi)"
   ]
  },
  {
   "cell_type": "markdown",
   "metadata": {},
   "source": [
    "The edge midpoints of the octahedron form a polynomial invariant, $\\chi(u,v)$,\n",
    "which we will compute next.\n",
    "\n",
    "The edge midpoints can be labeled as follows:\n",
    "\n",
    "$$\n",
    "\n",
    "\\begin{alignat*}{3}\n",
    "{\\bf X}_1 &= \\tfrac1{\\sqrt{2}}\\left(1,1, 0\\right) \\qquad &&{\\bf X}_7 &&= \\tfrac1{\\sqrt{2}}\\left(0,-1, 1\\right)\\\\\n",
    "{\\bf X}_2 &= \\tfrac1{\\sqrt{2}}\\left(1,-1, 0\\right) \\qquad&&{\\bf X}_8 &&= \\tfrac1{\\sqrt{2}}\\left(0,-1, -1\\right)\\\\\n",
    "{\\bf X}_3 &= \\tfrac1{\\sqrt{2}}\\left(-1,1, 0\\right) \\qquad&&{\\bf X}_9 &&= \\tfrac1{\\sqrt{2}}\\left(1,0, 1\\right)\\\\\n",
    "{\\bf X}_4 &= \\tfrac1{\\sqrt{2}}\\left(-1,-1, 0\\right) \\qquad&&{\\bf X}_{10} &&= \\tfrac1{\\sqrt{2}}\\left(1,0, -1\\right)\\\\\n",
    "{\\bf X}_5 &= \\tfrac1{\\sqrt{2}}\\left(0,1, 1\\right) \\qquad&&{\\bf X}_{11} &&= \\tfrac1{\\sqrt{2}}\\left(-1,0, 1\\right)\\\\\n",
    "{\\bf X}_6 &= \\tfrac1{\\sqrt{2}}\\left(0,1, -1\\right) \\qquad&&{\\bf X}_{12} &&= \\tfrac1{\\sqrt{2}}\\left(-1,0, -1\\right)\\\\\n",
    "\n",
    "\\end{alignat*}\n",
    "\n",
    "$$"
   ]
  },
  {
   "cell_type": "markdown",
   "metadata": {},
   "source": [
    "The corresponding stereographically-projected points in the complex plane are\n",
    "given by \n",
    "\n",
    "$$\n",
    "\n",
    "\\begin{alignat*}{3}\n",
    "l_1 &= \\tfrac1{\\sqrt{2}}\\left(1+i\\right) \\qquad &&l_7 &&= i\\left(-1-\\sqrt{2}\\right)\\\\\n",
    "l_2 &= \\tfrac1{\\sqrt{2}}\\left(1-i\\right) \\qquad&&l_8 &&= i\\left(1-\\sqrt{2}\\right)\\\\\n",
    "l_3 &= \\tfrac1{\\sqrt{2}}\\left(-1+i\\right) \\qquad&&l_9 &&= 1+\\sqrt{2}\\\\\n",
    "l_4 &= \\tfrac1{\\sqrt{2}}\\left(-1-i\\right) \\qquad&&l_{10} &&= -1+\\sqrt{2}\\\\\n",
    "l_5 &= i\\left(1+\\sqrt{2}\\right) \\qquad&&l_{11} &&= -1-\\sqrt{2}\\\\\n",
    "l_6 &= i\\left(-1+\\sqrt{2}\\right) \\qquad&&l_{12} &&= 1-\\sqrt{2}\n",
    "\n",
    "\\end{alignat*}\n",
    "\n",
    "$$"
   ]
  },
  {
   "cell_type": "markdown",
   "metadata": {},
   "source": [
    "Given the above, we define\n",
    "\n",
    "$$\n",
    "\n",
    "\\chi(u,v) := \\prod_{i=1}^{12}\\left(u-l_i\\,v\\right) = u^{12} - 33 u^{8} v^{4} -\n",
    "33 u^{4} v^{8} + v^{12} \\,.\n",
    "\n",
    "$$"
   ]
  },
  {
   "cell_type": "code",
   "execution_count": 58,
   "metadata": {},
   "outputs": [
    {
     "data": {
      "text/latex": [
       "$\\displaystyle u^{12} - 33 u^{8} v^{4} - 33 u^{4} v^{8} + v^{12}$"
      ],
      "text/plain": [
       "u**12 - 33*u**8*v**4 - 33*u**4*v**8 + v**12"
      ]
     },
     "execution_count": 58,
     "metadata": {},
     "output_type": "execute_result"
    }
   ],
   "source": [
    "# Check of the above:\n",
    "def stereo(v1, v2, v3):\n",
    "    return (v1 + I * v2) / (1 - v3)\n",
    "\n",
    "\n",
    "ls = []\n",
    "\n",
    "ls.append(stereo(1 / sqrt(2), 1 / sqrt(2), 0))\n",
    "ls.append(stereo(1 / sqrt(2), -1 / sqrt(2), 0))\n",
    "ls.append(stereo(-1 / sqrt(2), 1 / sqrt(2), 0))\n",
    "ls.append(stereo(-1 / sqrt(2), -1 / sqrt(2), 0))\n",
    "ls.append(stereo(0, 1 / sqrt(2), 1 / sqrt(2)))\n",
    "ls.append(stereo(0, 1 / sqrt(2), -1 / sqrt(2)))\n",
    "ls.append(stereo(0, -1 / sqrt(2), 1 / sqrt(2)))\n",
    "ls.append(stereo(0, -1 / sqrt(2), -1 / sqrt(2)))\n",
    "ls.append(stereo(1 / sqrt(2), 0, 1 / sqrt(2)))\n",
    "ls.append(stereo(1 / sqrt(2), 0, -1 / sqrt(2)))\n",
    "ls.append(stereo(-1 / sqrt(2), 0, 1 / sqrt(2)))\n",
    "ls.append(stereo(-1 / sqrt(2), 0, -1 / sqrt(2)))\n",
    "\n",
    "chi = reduce(lambda x, y: x * y, [u - x * v for x in ls])\n",
    "simplify(chi)"
   ]
  },
  {
   "cell_type": "markdown",
   "metadata": {},
   "source": [
    "As it turns out, $\\chi(u,v)$ is also related to $t(u,v)$ and $W(u,v)$: $\\chi$ is\n",
    "proportional to the *Jacobian* of ${\\bf V}(u,v) := (t(u,v), W(u,v))$:\n",
    "\n",
    "$$\n",
    "\n",
    "{\\textrm Jac}[{\\bf V}](u,v) := \\det \\left[\\begin{matrix} \\frac{\\partial t}{\\partial u} & \\frac{\\partial t}{\\partial v} \\\\[6pt] \\frac{\\partial W}{\\partial u} & \\frac{\\partial W}{\\partial v} \\end{matrix}\\right] = -8\\,\\chi(u,v) \\,.\n",
    "\n",
    "$$"
   ]
  },
  {
   "cell_type": "code",
   "execution_count": 59,
   "metadata": {},
   "outputs": [
    {
     "data": {
      "text/plain": [
       "True"
      ]
     },
     "execution_count": 59,
     "metadata": {},
     "output_type": "execute_result"
    }
   ],
   "source": [
    "# Check of the above:\n",
    "def jacobian(f, g):\n",
    "    return diff(f, u) * diff(g, v) - diff(f, v) * diff(g, u)\n",
    "\n",
    "\n",
    "jacobian(t, W).equals(-8 * chi)"
   ]
  },
  {
   "cell_type": "markdown",
   "metadata": {},
   "source": [
    "Since $\\chi \\sim t$, and since $t\\to-t$ under transformation $III$, we deduce\n",
    "that $\\chi^2$ is an absolute invariant of the octahedral symmetry group. Lastly,\n",
    "by direct computation we can verify that the absolute invariants $\\chi^2$,\n",
    "$W^3$, and $t^4$ (all sharing the same order of homogeneity) are inter-related:\n",
    "\n",
    "$$\n",
    "\n",
    "\\chi^2 - W^3 + 108\\, t^4 = 0 \\,.\n",
    "\n",
    "$$"
   ]
  },
  {
   "cell_type": "code",
   "execution_count": 60,
   "metadata": {},
   "outputs": [
    {
     "data": {
      "text/latex": [
       "$\\displaystyle - 108 u^{4} v^{4} \\left(u - v\\right)^{4} \\left(u + v\\right)^{4} \\left(u^{2} + v^{2}\\right)^{4}$"
      ],
      "text/plain": [
       "-108*u**4*v**4*(u - v)**4*(u + v)**4*(u**2 + v**2)**4"
      ]
     },
     "execution_count": 60,
     "metadata": {},
     "output_type": "execute_result"
    }
   ],
   "source": [
    "# Check of the above:\n",
    "simplify(chi**2 - W**3).factor()"
   ]
  },
  {
   "cell_type": "code",
   "execution_count": 61,
   "metadata": {},
   "outputs": [
    {
     "data": {
      "text/plain": [
       "True"
      ]
     },
     "execution_count": 61,
     "metadata": {},
     "output_type": "execute_result"
    }
   ],
   "source": [
    "# Second check:\n",
    "(chi**2 - W**3).equals(-108 * t**4)"
   ]
  },
  {
   "cell_type": "markdown",
   "metadata": {},
   "source": [
    "## Dodecahedron\n",
    "\n"
   ]
  },
  {
   "cell_type": "code",
   "execution_count": null,
   "metadata": {},
   "outputs": [],
   "source": [
    "phi, N = symbols(\"phi N\")"
   ]
  },
  {
   "cell_type": "code",
   "execution_count": null,
   "metadata": {},
   "outputs": [
    {
     "data": {
      "text/plain": [
       "True"
      ]
     },
     "execution_count": 217,
     "metadata": {},
     "output_type": "execute_result"
    }
   ],
   "source": [
    "from itertools import combinations\n",
    "\n",
    "\n",
    "def angle_check(vs):\n",
    "    vals = []\n",
    "    for v1, v2 in combinations(vs, 2):\n",
    "        v1 = Matrix(v1)\n",
    "        v2 = Matrix(v2)\n",
    "        vals.append(v1.dot(v2).subs(phi, (1 + sqrt(5)) / 2).equals(-(N**2)))\n",
    "    return all(vals)\n",
    "\n",
    "\n",
    "def make_polynom(vs):\n",
    "    return reduce_multiply([u - stereo(*z) * v for z in vs])\n",
    "\n",
    "\n",
    "v1 = (N, N, N)\n",
    "v2 = (-N, -N, N)\n",
    "v3 = (N, -N, -N)\n",
    "v4 = (-N, N, -N)\n",
    "\n",
    "angle_check([v1, v2, v3, v4])"
   ]
  },
  {
   "cell_type": "code",
   "execution_count": null,
   "metadata": {},
   "outputs": [
    {
     "data": {
      "text/latex": [
       "$\\displaystyle u^{4} - 2 \\sqrt{3} i u^{2} v^{2} + v^{4}$"
      ],
      "text/plain": [
       "u**4 - 2*sqrt(3)*I*u**2*v**2 + v**4"
      ]
     },
     "execution_count": 221,
     "metadata": {},
     "output_type": "execute_result"
    }
   ],
   "source": [
    "simplify(make_polynom([v1, v2, v3, v4]).subs(N, 1 / sqrt(3)))"
   ]
  },
  {
   "cell_type": "markdown",
   "metadata": {},
   "source": []
  },
  {
   "cell_type": "code",
   "execution_count": null,
   "metadata": {},
   "outputs": [
    {
     "data": {
      "text/plain": [
       "True"
      ]
     },
     "execution_count": 222,
     "metadata": {},
     "output_type": "execute_result"
    }
   ],
   "source": [
    "v1 = (-N, -N, -N)\n",
    "v2 = (-N / phi, 0, N * phi)\n",
    "v3 = (0, N * phi, -N / phi)\n",
    "v4 = (N * phi, -N / phi, 0)\n",
    "angle_check([v1, v2, v3, v4])"
   ]
  },
  {
   "cell_type": "code",
   "execution_count": null,
   "metadata": {},
   "outputs": [],
   "source": [
    "result = simplify(\n",
    "    make_polynom([v1, v2, v3, v4])\n",
    "    # .subs(N, 1 / sqrt(3))\n",
    "    # .subs(phi, (1 + sqrt(5)) / 2)\n",
    "    .expand()\n",
    ")\n",
    "\n",
    "result = Poly(result, u)"
   ]
  },
  {
   "cell_type": "code",
   "execution_count": null,
   "metadata": {},
   "outputs": [],
   "source": [
    "from sympy import fraction\n",
    "\n",
    "\n",
    "def phi_simp(expr):\n",
    "    e1, e2 = fraction(expr.factor())\n",
    "    print(e1, e2)\n",
    "    e1 = Poly(e1, phi)\n",
    "    while len(e1.all_coeffs()) > 2:\n",
    "        orig_coeffs = e1.all_coeffs()\n",
    "        new_coeffs = e1.all_coeffs()[1:]\n",
    "        new_coeffs[0] += orig_coeffs[0]\n",
    "        new_coeffs[1] += orig_coeffs[0]\n",
    "        e1 = Poly.from_list(new_coeffs, phi)\n",
    "    e2 = Poly(e2, phi)\n",
    "    while len(e2.all_coeffs()) > 2:\n",
    "        orig_coeffs = e2.all_coeffs()\n",
    "        new_coeffs = e2.all_coeffs()[1:]\n",
    "        new_coeffs[0] += orig_coeffs[0]\n",
    "        new_coeffs[1] += orig_coeffs[0]\n",
    "        e2 = Poly.from_list(new_coeffs, phi)\n",
    "    final_val = e1.as_expr() / e2.as_expr()\n",
    "    return final_val.factor()"
   ]
  },
  {
   "cell_type": "code",
   "execution_count": null,
   "metadata": {},
   "outputs": [
    {
     "name": "stdout",
     "output_type": "stream",
     "text": [
      "phi**4 + 1 phi**2\n"
     ]
    },
    {
     "data": {
      "text/latex": [
       "$\\displaystyle 3$"
      ],
      "text/plain": [
       "3"
      ]
     },
     "execution_count": 281,
     "metadata": {},
     "output_type": "execute_result"
    }
   ],
   "source": [
    "phi_simp(phi**2 + 1 / phi**2)"
   ]
  },
  {
   "cell_type": "code",
   "execution_count": null,
   "metadata": {},
   "outputs": [
    {
     "name": "stdout",
     "output_type": "stream",
     "text": [
      "1 1\n",
      "-N*v*(N**3*phi**3 - I*N**3*phi + N**2*phi**4*(1 + I) + N**2*phi**3 + N**2*phi**2*(-2 - 2*I) - I*N**2*phi + N**2*(1 + I) + N*phi**4*(1 + I) + N*phi**3*(-2 - 2*I) + N*phi**2*(-1 - I) + N*phi*(2 + 2*I) + N*(1 + I) + phi**3*(-1 - I) + phi**2*(1 + I) + phi*(1 + I)) phi*(N + 1)*(N + phi)*(N*phi - 1)\n",
      "I*N**2*v**2*(N**2*phi**6 - N**2*phi**4 + N**2*phi**2 - N**2 + N*phi**6 - 3*N*phi**5 - I*N*phi**4 + 3*N*phi**3 - I*N*phi**2 - 3*N*phi - N - phi**5 + 2*phi**4 + phi**3 - 2*phi**2 - phi) phi**2*(N + 1)*(N + phi)*(N*phi - 1)\n",
      "-N**3*v**3*(N*phi**6*(1 - I) - N*phi**4 - I*N*phi**2 + N*(-1 + I) + phi**5*(-1 + I) + I*phi**4 + phi**3*(1 - I) + phi**2 + phi*(-1 + I)) phi**2*(N + 1)*(N + phi)*(N*phi - 1)\n",
      "N**4*v**4*(1 - I)*(phi**2 - I) (N + 1)*(N + phi)*(N*phi - 1)\n"
     ]
    }
   ],
   "source": [
    "new_coeffs = []\n",
    "for coeff in result.all_coeffs():\n",
    "    new_coeffs.append((phi_simp(coeff)).factor())  # .subs(N, 1 / sqrt(3))))"
   ]
  },
  {
   "cell_type": "code",
   "execution_count": null,
   "metadata": {},
   "outputs": [
    {
     "data": {
      "text/plain": [
       "[1,\n",
       " -N**3*v*(N*phi*(2 - I) + N + 3*phi + 2 + I)/((N + 1)*(phi + 1)*(N**2 + N - 1)),\n",
       " I*N**3*v**2*(6*N*phi + 3*N + phi*(-4 - 4*I) - 2 - 3*I)/((N + 1)*(2*phi + 1)*(N**2 + N - 1)),\n",
       " -N**3*v**3*(N*phi*(5 - 9*I) + N*(2 - 5*I) + phi*(-3 + 7*I) - 1 + 4*I)/((N + 1)*(2*phi + 1)*(N**2 + N - 1)),\n",
       " N**4*v**4*(1 - I)*(phi + 1 - I)/(phi*(N + 1)*(N**2 + N - 1))]"
      ]
     },
     "execution_count": 283,
     "metadata": {},
     "output_type": "execute_result"
    }
   ],
   "source": [
    "new_coeffs"
   ]
  },
  {
   "cell_type": "code",
   "execution_count": null,
   "metadata": {},
   "outputs": [
    {
     "data": {
      "text/latex": [
       "$\\displaystyle - \\frac{N^{3} v \\left(N \\phi \\left(2 - i\\right) + N + 3 \\phi + 2 + i\\right)}{\\left(N + 1\\right) \\left(\\phi + 1\\right) \\left(N^{2} + N - 1\\right)}$"
      ],
      "text/plain": [
       "-N**3*v*(N*phi*(2 - I) + N + 3*phi + 2 + I)/((N + 1)*(phi + 1)*(N**2 + N - 1))"
      ]
     },
     "execution_count": 273,
     "metadata": {},
     "output_type": "execute_result"
    }
   ],
   "source": [
    "(new_coeffs[1].radsimp()).factor()"
   ]
  },
  {
   "cell_type": "code",
   "execution_count": null,
   "metadata": {},
   "outputs": [
    {
     "data": {
      "text/latex": [
       "$\\displaystyle \\frac{i N^{3} v^{2} \\cdot \\left(3 N - 2 - \\sqrt{5} i\\right)}{\\left(N + 1\\right) \\left(N^{2} + N - 1\\right)}$"
      ],
      "text/plain": [
       "I*N**3*v**2*(3*N - 2 - sqrt(5)*I)/((N + 1)*(N**2 + N - 1))"
      ]
     },
     "execution_count": 267,
     "metadata": {},
     "output_type": "execute_result"
    }
   ],
   "source": [
    "(new_coeffs[2].subs(phi, (1 + sqrt(5)) / 2).radsimp()).factor()"
   ]
  },
  {
   "cell_type": "code",
   "execution_count": null,
   "metadata": {},
   "outputs": [
    {
     "data": {
      "text/latex": [
       "$\\displaystyle \\frac{N^{3} v^{3} \\cdot \\left(\\frac{1}{2} + \\frac{i}{2}\\right) \\left(\\sqrt{5} N + 7 i N - \\sqrt{5} - 5 i\\right)}{\\left(N + 1\\right) \\left(N^{2} + N - 1\\right)}$"
      ],
      "text/plain": [
       "N**3*v**3*(1/2 + I/2)*(sqrt(5)*N + 7*I*N - sqrt(5) - 5*I)/((N + 1)*(N**2 + N - 1))"
      ]
     },
     "execution_count": 269,
     "metadata": {},
     "output_type": "execute_result"
    }
   ],
   "source": [
    "(new_coeffs[3].subs(phi, (1 + sqrt(5)) / 2).radsimp()).factor()"
   ]
  },
  {
   "cell_type": "code",
   "execution_count": null,
   "metadata": {},
   "outputs": [
    {
     "data": {
      "text/latex": [
       "$\\displaystyle \\frac{v^{4} \\left(-3 - \\sqrt{3} + \\sqrt{15} i + 3 \\sqrt{5} i\\right)}{6}$"
      ],
      "text/plain": [
       "v**4*(-3 - sqrt(3) + sqrt(15)*I + 3*sqrt(5)*I)/6"
      ]
     },
     "execution_count": 263,
     "metadata": {},
     "output_type": "execute_result"
    }
   ],
   "source": [
    "simplify(new_coeffs[4].subs(phi, (1 + sqrt(5)) / 2).radsimp())"
   ]
  },
  {
   "cell_type": "code",
   "execution_count": null,
   "metadata": {},
   "outputs": [
    {
     "data": {
      "text/plain": [
       "True"
      ]
     },
     "execution_count": 18,
     "metadata": {},
     "output_type": "execute_result"
    }
   ],
   "source": [
    "v1 = (-N, N, N)\n",
    "v2 = (0, -N * phi, N / phi)\n",
    "v3 = (N * phi, N / phi, 0)\n",
    "v4 = (-N / phi, 0, -N * phi)\n",
    "angle_check([v1, v2, v3, v4])"
   ]
  },
  {
   "cell_type": "code",
   "execution_count": null,
   "metadata": {},
   "outputs": [
    {
     "data": {
      "text/plain": [
       "True"
      ]
     },
     "execution_count": 24,
     "metadata": {},
     "output_type": "execute_result"
    }
   ],
   "source": [
    "v1 = (N, -N, N)\n",
    "v2 = (N / phi, 0, -N * phi)\n",
    "v3 = (0, N * phi, N / phi)\n",
    "v4 = (-N * phi, -N / phi, 0)\n",
    "angle_check([v1, v2, v3, v4])"
   ]
  },
  {
   "cell_type": "code",
   "execution_count": null,
   "metadata": {},
   "outputs": [
    {
     "data": {
      "text/plain": [
       "True"
      ]
     },
     "execution_count": 25,
     "metadata": {},
     "output_type": "execute_result"
    }
   ],
   "source": [
    "v1 = (N, N, -N)\n",
    "v2 = (N / phi, 0, N * phi)\n",
    "v3 = (-N * phi, N / phi, 0)\n",
    "v4 = (0, -N * phi, -N / phi)\n",
    "angle_check([v1, v2, v3, v4])"
   ]
  },
  {
   "cell_type": "code",
   "execution_count": null,
   "metadata": {},
   "outputs": [
    {
     "ename": "NameError",
     "evalue": "name 'stereo' is not defined",
     "output_type": "error",
     "traceback": [
      "\u001b[1;31m---------------------------------------------------------------------------\u001b[0m",
      "\u001b[1;31mNameError\u001b[0m                                 Traceback (most recent call last)",
      "Cell \u001b[1;32mIn[26], line 4\u001b[0m\n\u001b[0;32m      1\u001b[0m vertices \u001b[38;5;241m=\u001b[39m []\n\u001b[0;32m      3\u001b[0m N \u001b[38;5;241m=\u001b[39m \u001b[38;5;241m1\u001b[39m\n\u001b[1;32m----> 4\u001b[0m vertices\u001b[38;5;241m.\u001b[39mappend(\u001b[43mstereo\u001b[49m(N, N, N))\n\u001b[0;32m      5\u001b[0m vertices\u001b[38;5;241m.\u001b[39mappend(stereo(\u001b[38;5;241m-\u001b[39mN, \u001b[38;5;241m-\u001b[39mN, N))\n\u001b[0;32m      6\u001b[0m vertices\u001b[38;5;241m.\u001b[39mappend(stereo(N, \u001b[38;5;241m-\u001b[39mN, \u001b[38;5;241m-\u001b[39mN))\n",
      "\u001b[1;31mNameError\u001b[0m: name 'stereo' is not defined"
     ]
    }
   ],
   "source": [
    "vertices = []\n",
    "\n",
    "N = 1\n",
    "vertices.append(stereo(N, N, N))\n",
    "vertices.append(stereo(-N, -N, N))\n",
    "vertices.append(stereo(N, -N, -N))\n",
    "vertices.append(stereo(-N, N, -N))\n",
    "\n",
    "vertices.append(stereo(-N, -N, -N))\n",
    "vertices.append(stereo(-N / phi, 0, N * phi))\n",
    "vertices.append(stereo(0, N * phi, -N / phi))\n",
    "vertices.append(stereo(N * phi, -N / phi, 0))\n",
    "\n",
    "vertices.append(stereo(-N, N, N))\n",
    "vertices.append(stereo(0, -N * phi, N / phi))\n",
    "vertices.append(stereo(N * phi, N / phi, 0))\n",
    "vertices.append(stereo(-N / phi, 0, -N * phi))\n",
    "\n",
    "vertices.append(stereo(N, -N, N))\n",
    "vertices.append(stereo(N / phi, 0, -N * phi))\n",
    "vertices.append(stereo(0, N * phi, N / phi))\n",
    "vertices.append(stereo(-N * phi, -N / phi, 0))\n",
    "\n",
    "vertices.append(stereo(N, N, -N))\n",
    "vertices.append(stereo(N / phi, 0, N * phi))\n",
    "vertices.append(stereo(-N * phi, N / phi, 0))\n",
    "vertices.append(stereo(0, -N * phi, -N / phi))\n",
    "\n",
    "H = reduce_multiply([u - z * v for z in vertices])\n",
    "H"
   ]
  },
  {
   "cell_type": "code",
   "execution_count": null,
   "metadata": {},
   "outputs": [],
   "source": [
    "(28.323 / sqrt(3)).evalf()"
   ]
  },
  {
   "cell_type": "code",
   "execution_count": null,
   "metadata": {},
   "outputs": [],
   "source": [
    "H = Poly(H, u)"
   ]
  },
  {
   "cell_type": "code",
   "execution_count": null,
   "metadata": {},
   "outputs": [],
   "source": [
    "H = Poly(H, u)\n",
    "\n",
    "new_coeffs = []\n",
    "for coeff in H.all_coeffs():\n",
    "    new = simplify(coeff)\n",
    "    print(new)\n",
    "    new_coeffs.append(new)"
   ]
  },
  {
   "cell_type": "code",
   "execution_count": null,
   "metadata": {},
   "outputs": [
    {
     "data": {
      "text/latex": [
       "$\\displaystyle \\frac{\\left(- \\frac{\\phi_{2}}{N + \\phi} - \\frac{1 - i}{N + 1}\\right) \\left(\\frac{1 + i}{N + 1} - \\frac{-1 + i}{N - 1}\\right)}{\\left(- \\frac{\\phi_{2}}{N + \\phi} - \\frac{-1 + i}{N - 1}\\right) \\left(- \\frac{1 - i}{N + 1} + \\frac{1 + i}{N + 1}\\right)}$"
      ],
      "text/plain": [
       "(-phi2/(N + phi) - (1 - I)/(N + 1))*((1 + I)/(N + 1) - (-1 + I)/(N - 1))/((-phi2/(N + phi) - (-1 + I)/(N - 1))*(-(1 - I)/(N + 1) + (1 + I)/(N + 1)))"
      ]
     },
     "execution_count": 376,
     "metadata": {},
     "output_type": "execute_result"
    }
   ],
   "source": [
    "from sympy import Symbol, I\n",
    "\n",
    "phi = Symbol(\"phi\", real=True)\n",
    "phi2 = Symbol(\"phi2\", real=True)\n",
    "N = Symbol(\"N\", real=True)\n",
    "\n",
    "z1 = (-1 + I) / (N - 1)\n",
    "z1A = (1 - I) / (N + 1)\n",
    "zp4 = (-1 * phi2) / (N + phi)\n",
    "z4 = (1 + I) / (N + 1)\n",
    "expr = (zp4 - z1A) / (zp4 - z1) * (z4 - z1) / (z4 - z1A)\n",
    "expr"
   ]
  },
  {
   "cell_type": "code",
   "execution_count": null,
   "metadata": {},
   "outputs": [
    {
     "data": {
      "text/latex": [
       "$\\displaystyle \\frac{- i N^{2} \\phi_{2} - N^{2} \\cdot \\left(1 + i\\right) - N \\phi \\left(1 + i\\right) - N \\phi_{2} \\cdot \\left(1 + i\\right) + N \\left(-1 + i\\right) + \\phi \\left(-1 + i\\right) - \\phi_{2}}{N^{2} \\phi_{2} + N^{2} \\left(-1 + i\\right) + N \\phi \\left(-1 + i\\right) + N \\left(-1 + i\\right) + \\phi \\left(-1 + i\\right) - \\phi_{2}}$"
      ],
      "text/plain": [
       "(-I*N**2*phi2 - N**2*(1 + I) - N*phi*(1 + I) - N*phi2*(1 + I) + N*(-1 + I) + phi*(-1 + I) - phi2)/(N**2*phi2 + N**2*(-1 + I) + N*phi*(-1 + I) + N*(-1 + I) + phi*(-1 + I) - phi2)"
      ]
     },
     "execution_count": 377,
     "metadata": {},
     "output_type": "execute_result"
    }
   ],
   "source": [
    "r, c = expr.as_real_imag()\n",
    "# expr = simplify(c / r)\n",
    "# expr = phi_simp(expr)\n",
    "simplify(expr.factor().expand())"
   ]
  },
  {
   "cell_type": "code",
   "execution_count": null,
   "metadata": {},
   "outputs": [
    {
     "name": "stdout",
     "output_type": "stream",
     "text": [
      "here\n"
     ]
    },
    {
     "data": {
      "text/latex": [
       "$\\displaystyle \\sqrt{15}$"
      ],
      "text/plain": [
       "sqrt(15)"
      ]
     },
     "execution_count": 378,
     "metadata": {},
     "output_type": "execute_result"
    }
   ],
   "source": [
    "val = simplify(c / r)\n",
    "print(\"here\")\n",
    "radsimp(val.subs(phi2, 1 / phi).subs(phi, (1 + sqrt(5)) / 2).subs(N, sqrt(3))).expand()"
   ]
  },
  {
   "cell_type": "code",
   "execution_count": null,
   "metadata": {},
   "outputs": [
    {
     "data": {
      "text/latex": [
       "$\\displaystyle \\frac{1}{4}$"
      ],
      "text/plain": [
       "1/4"
      ]
     },
     "execution_count": 379,
     "metadata": {},
     "output_type": "execute_result"
    }
   ],
   "source": [
    "radsimp(\n",
    "    simplify(r)\n",
    "    .subs(phi2, 1 / phi)\n",
    "    .subs(phi, (1 + sqrt(5)) / 2)\n",
    "    .subs(N, sqrt(3))\n",
    "    .factor()\n",
    ")"
   ]
  },
  {
   "cell_type": "code",
   "execution_count": null,
   "metadata": {},
   "outputs": [
    {
     "data": {
      "text/latex": [
       "$\\displaystyle \\frac{\\sqrt{15}}{4}$"
      ],
      "text/plain": [
       "sqrt(15)/4"
      ]
     },
     "execution_count": 380,
     "metadata": {},
     "output_type": "execute_result"
    }
   ],
   "source": [
    "radsimp(\n",
    "    simplify(c)\n",
    "    .subs(phi2, 1 / phi)\n",
    "    .subs(phi, (1 + sqrt(5)) / 2)\n",
    "    .subs(N, sqrt(3))\n",
    "    .factor()\n",
    ")"
   ]
  },
  {
   "cell_type": "code",
   "execution_count": null,
   "metadata": {},
   "outputs": [
    {
     "data": {
      "text/latex": [
       "$\\displaystyle \\frac{N^{2} \\phi_{2} \\cdot \\left(1 - i\\right) + 2 i N^{2} + 2 i N \\phi - 2 N \\phi_{2} - 2 N - 2 \\phi + \\phi_{2} \\left(-3 + i\\right)}{N^{3} \\phi_{2} + N^{3} \\left(-1 + i\\right) + N^{2} \\phi \\left(-1 + i\\right) + i N^{2} \\phi_{2} + 2 i N^{2} + 2 i N \\phi - N \\phi_{2} + N \\left(1 - 3 i\\right) + \\phi \\left(1 - 3 i\\right) - i \\phi_{2}}$"
      ],
      "text/plain": [
       "(N**2*phi2*(1 - I) + 2*I*N**2 + 2*I*N*phi - 2*N*phi2 - 2*N - 2*phi + phi2*(-3 + I))/(N**3*phi2 + N**3*(-1 + I) + N**2*phi*(-1 + I) + I*N**2*phi2 + 2*I*N**2 + 2*I*N*phi - N*phi2 + N*(1 - 3*I) + phi*(1 - 3*I) - I*phi2)"
      ]
     },
     "execution_count": 391,
     "metadata": {},
     "output_type": "execute_result"
    }
   ],
   "source": [
    "# z2p = -I*phi/(sqrt(3)-1/phi)\n",
    "z2 = (1 - I) / (N - 1)\n",
    "A = expr * (z2 - z1A) / (z2 - z1)\n",
    "result = simplify((z1A - A * z1) / (1 - A))\n",
    "r, c = result.as_real_imag()\n",
    "simplify(result.expand())"
   ]
  },
  {
   "cell_type": "code",
   "execution_count": null,
   "metadata": {},
   "outputs": [
    {
     "name": "stdout",
     "output_type": "stream",
     "text": [
      "-N**4*phi2**2 + 2*N**4*phi2 - 2*N**4 + 2*N**3*phi*phi2 - 4*N**3*phi - 2*N**3*phi2**2 + 2*N**3*phi2 - 2*N**2*phi**2 + 2*N**2*phi*phi2 + 2*N**2*phi2**2 + 10*N**2*phi2 + 6*N**2 + 10*N*phi*phi2 + 12*N*phi + 6*N*phi2**2 + 10*N*phi2 + 6*phi**2 + 10*phi*phi2 + 3*phi2**2 N**4*phi2**2 - 2*N**4*phi2 + 2*N**4 - 2*N**3*phi*phi2 + 4*N**3*phi - 2*N**3*phi2**2 - 2*N**3*phi2 + 8*N**3 + 2*N**2*phi**2 - 2*N**2*phi*phi2 + 16*N**2*phi - 6*N**2*phi2**2 + 6*N**2*phi2 + 2*N**2 + 8*N*phi**2 + 6*N*phi*phi2 + 4*N*phi - 2*N*phi2**2 + 6*N*phi2 + 2*phi**2 + 6*phi*phi2 + phi2**2\n",
      "[6*phi**2 + 10*phi*phi2 + 3*phi2**2, 0]\n",
      "[6*phi**2 + 10*phi*phi2 + 3*phi2**2, 10*phi*phi2 + 12*phi + 6*phi2**2 + 10*phi2]\n",
      "[16*phi*phi2 + 9*phi2**2 + 30*phi2 + 18, 10*phi*phi2 + 12*phi + 6*phi2**2 + 10*phi2]\n",
      "[16*phi*phi2 + 9*phi2**2 + 30*phi2 + 18, 16*phi*phi2 + 16*phi2]\n",
      "[16*phi*phi2 + 48*phi2, 16*phi*phi2 + 16*phi2]\n",
      "Poly((16*phi*phi2 + 16*phi2)*N + 16*phi*phi2 + 48*phi2, N, domain='ZZ[phi,phi2]')\n",
      "[2*phi**2 + 6*phi*phi2 + phi2**2, 0]\n",
      "[2*phi**2 + 6*phi*phi2 + phi2**2, 8*phi**2 + 6*phi*phi2 + 4*phi - 2*phi2**2 + 6*phi2]\n",
      "[8*phi**2 + 48*phi - 17*phi2**2 + 18*phi2 + 6, 8*phi**2 + 6*phi*phi2 + 4*phi - 2*phi2**2 + 6*phi2]\n",
      "[8*phi**2 + 48*phi - 17*phi2**2 + 18*phi2 + 6, 8*phi**2 + 16*phi - 8*phi2**2 + 24]\n",
      "[8*phi**2 + 48*phi - 8*phi2**2 + 24, 8*phi**2 + 16*phi - 8*phi2**2 + 24]\n",
      "Poly((8*phi**2 + 16*phi - 8*phi2**2 + 24)*N + 8*phi**2 + 48*phi - 8*phi2**2 + 24, N, domain='ZZ[phi,phi2]')\n"
     ]
    },
    {
     "data": {
      "text/latex": [
       "$\\displaystyle \\frac{2 \\phi_{2} \\left(N \\left(\\phi + 1\\right) + \\phi + 3\\right)}{N \\left(\\phi^{2} + 2 \\phi - \\phi_{2}^{2} + 3\\right) + \\phi^{2} + 6 \\phi - \\phi_{2}^{2} + 3}$"
      ],
      "text/plain": [
       "2*phi2*(N*(phi + 1) + phi + 3)/(N*(phi**2 + 2*phi - phi2**2 + 3) + phi**2 + 6*phi - phi2**2 + 3)"
      ]
     },
     "execution_count": 392,
     "metadata": {},
     "output_type": "execute_result"
    }
   ],
   "source": [
    "simplify(n_simp((c / r).factor()))"
   ]
  },
  {
   "cell_type": "code",
   "execution_count": null,
   "metadata": {},
   "outputs": [
    {
     "name": "stdout",
     "output_type": "stream",
     "text": [
      "2*phi2*(N*phi + N + phi + 3) N*phi**2 + 2*N*phi - N*phi2**2 + 3*N + phi**2 + 6*phi - phi2**2 + 3\n"
     ]
    },
    {
     "data": {
      "text/latex": [
       "$\\displaystyle \\frac{2 \\phi_{2} \\left(N \\phi + N + \\phi + 3\\right)}{3 N \\phi - N \\phi_{2}^{2} + 4 N + 7 \\phi - \\phi_{2}^{2} + 4}$"
      ],
      "text/plain": [
       "2*phi2*(N*phi + N + phi + 3)/(3*N*phi - N*phi2**2 + 4*N + 7*phi - phi2**2 + 4)"
      ]
     },
     "execution_count": 393,
     "metadata": {},
     "output_type": "execute_result"
    }
   ],
   "source": [
    "simplify(phi_simp(_))"
   ]
  },
  {
   "cell_type": "code",
   "execution_count": null,
   "metadata": {},
   "outputs": [
    {
     "data": {
      "text/latex": [
       "$\\displaystyle \\frac{\\sqrt{3} + \\sqrt{15}}{6}$"
      ],
      "text/plain": [
       "(sqrt(3) + sqrt(15))/6"
      ]
     },
     "execution_count": 394,
     "metadata": {},
     "output_type": "execute_result"
    }
   ],
   "source": [
    "radsimp(\n",
    "    r.subs(phi2, 1 / phi).subs(phi, (1 + sqrt(5)) / 2).subs(N, sqrt(3))\n",
    ").expand().factor()"
   ]
  },
  {
   "cell_type": "code",
   "execution_count": null,
   "metadata": {},
   "outputs": [
    {
     "data": {
      "text/latex": [
       "$\\displaystyle - \\frac{\\sqrt{3}}{6} + \\frac{\\sqrt{15}}{6}$"
      ],
      "text/plain": [
       "-sqrt(3)/6 + sqrt(15)/6"
      ]
     },
     "execution_count": 395,
     "metadata": {},
     "output_type": "execute_result"
    }
   ],
   "source": [
    "radsimp(c.subs(phi2, 1 / phi).subs(phi, (1 + sqrt(5)) / 2).subs(N, sqrt(3))).expand()"
   ]
  },
  {
   "cell_type": "code",
   "execution_count": null,
   "metadata": {},
   "outputs": [
    {
     "data": {
      "text/latex": [
       "$\\displaystyle - \\frac{\\sqrt{15}}{2} - \\frac{3}{2} + \\frac{\\sqrt{3}}{2} + \\frac{\\sqrt{5}}{2}$"
      ],
      "text/plain": [
       "-sqrt(15)/2 - 3/2 + sqrt(3)/2 + sqrt(5)/2"
      ]
     },
     "execution_count": 389,
     "metadata": {},
     "output_type": "execute_result"
    }
   ],
   "source": [
    "radsimp(\n",
    "    (-phi / (N - 1 / phi))\n",
    "    .subs(phi2, 1 / phi)\n",
    "    .subs(phi, (1 + sqrt(5)) / 2)\n",
    "    .subs(N, sqrt(3))\n",
    ").expand()"
   ]
  },
  {
   "cell_type": "code",
   "execution_count": null,
   "metadata": {},
   "outputs": [
    {
     "data": {
      "text/latex": [
       "$\\displaystyle \\frac{3}{2} - \\frac{\\sqrt{5}}{2}$"
      ],
      "text/plain": [
       "3/2 - sqrt(5)/2"
      ]
     },
     "execution_count": 360,
     "metadata": {},
     "output_type": "execute_result"
    }
   ],
   "source": [
    "val = c / r\n",
    "radsimp(val.subs(phi2, 1 / phi).subs(phi, (1 + sqrt(5)) / 2).subs(N, sqrt(3))).expand()"
   ]
  },
  {
   "cell_type": "code",
   "execution_count": null,
   "metadata": {},
   "outputs": [],
   "source": [
    "def n_simp(expr):\n",
    "    num, denom = fraction(expr)\n",
    "    print(num, denom)\n",
    "    num = Poly(num, N)\n",
    "    denom = Poly(denom.expand(), N)\n",
    "    new_coeffs = [0, 0]\n",
    "    for i, coeff in enumerate(reversed(num.all_coeffs())):\n",
    "        if i % 2 == 0:\n",
    "            new_coeffs[0] += 3 ** (i // 2) * coeff\n",
    "        else:\n",
    "            new_coeffs[1] += 3 ** ((i - 1) // 2) * coeff\n",
    "        print(new_coeffs)\n",
    "    num = Poly.from_list(reversed(new_coeffs), N)\n",
    "    print(num)\n",
    "    new_coeffs = [0, 0]\n",
    "    for i, coeff in enumerate(reversed(denom.all_coeffs())):\n",
    "        if i % 2 == 0:\n",
    "            new_coeffs[0] += 3 ** (i // 2) * coeff\n",
    "        else:\n",
    "            new_coeffs[1] += 3 ** ((i - 1) // 2) * coeff\n",
    "        print(new_coeffs)\n",
    "    denom = Poly.from_list(reversed(new_coeffs), N)\n",
    "    print(denom)\n",
    "    return (num / denom).as_expr()"
   ]
  },
  {
   "cell_type": "code",
   "execution_count": null,
   "metadata": {},
   "outputs": [
    {
     "name": "stdout",
     "output_type": "stream",
     "text": [
      "(N**2*phi2 + 2*N**2 + 2*N*phi - phi2)*(N**3*phi2 + N**3 + N**2*phi - N*phi2 - N - phi)/((N**3*phi2 + N**3 + N**2*phi - N*phi2 - N - phi)**2 + (-N**3 - N**2*phi - N**2*phi2 + 2*N**2 + 2*N*phi + 3*N + 3*phi + phi2)**2) + (-N**2*phi2 - 2*N*phi2 + 2*N + 2*phi + 3*phi2)*(N**3 + N**2*phi + N**2*phi2 - 2*N**2 - 2*N*phi - 3*N - 3*phi - phi2)/((N**3*phi2 + N**3 + N**2*phi - N*phi2 - N - phi)**2 + (-N**3 - N**2*phi - N**2*phi2 + 2*N**2 + 2*N*phi + 3*N + 3*phi + phi2)**2) -(N**2*phi2 + 2*N**2 + 2*N*phi - phi2)*(N**3 + N**2*phi + N**2*phi2 - 2*N**2 - 2*N*phi - 3*N - 3*phi - phi2)/((N**3*phi2 + N**3 + N**2*phi - N*phi2 - N - phi)**2 + (-N**3 - N**2*phi - N**2*phi2 + 2*N**2 + 2*N*phi + 3*N + 3*phi + phi2)**2) + (-N**2*phi2 - 2*N*phi2 + 2*N + 2*phi + 3*phi2)*(N**3*phi2 + N**3 + N**2*phi - N*phi2 - N - phi)/((N**3*phi2 + N**3 + N**2*phi - N*phi2 - N - phi)**2 + (-N**3 - N**2*phi - N**2*phi2 + 2*N**2 + 2*N*phi + 3*N + 3*phi + phi2)**2)\n"
     ]
    },
    {
     "ename": "PolynomialError",
     "evalue": "1/(N**6*phi2**2 + 2*N**6*phi2 + 2*N**6 + 2*N**5*phi*phi2 + 4*N**5*phi + 2*N**5*phi2 - 4*N**5 + 2*N**4*phi**2 + 2*N**4*phi*phi2 - 8*N**4*phi - N**4*phi2**2 - 8*N**4*phi2 - 4*N**4 - 4*N**3*phi**2 - 8*N**3*phi*phi2 - 8*N**3*phi - 8*N**3*phi2 + 12*N**3 - 4*N**2*phi**2 - 8*N**2*phi*phi2 + 24*N**2*phi - N**2*phi2**2 + 6*N**2*phi2 + 10*N**2 + 12*N*phi**2 + 6*N*phi*phi2 + 20*N*phi + 6*N*phi2 + 10*phi**2 + 6*phi*phi2 + phi2**2) contains an element of the set of generators.",
     "output_type": "error",
     "traceback": [
      "\u001b[1;31m---------------------------------------------------------------------------\u001b[0m",
      "\u001b[1;31mKeyError\u001b[0m                                  Traceback (most recent call last)",
      "File \u001b[1;32mc:\\Users\\mwkte\\dev\\ag_notes\\.venv\\Lib\\site-packages\\sympy\\polys\\polyutils.py:211\u001b[0m, in \u001b[0;36m_parallel_dict_from_expr_if_gens\u001b[1;34m(exprs, opt)\u001b[0m\n\u001b[0;32m    209\u001b[0m         base, exp \u001b[38;5;241m=\u001b[39m decompose_power_rat(factor)\n\u001b[1;32m--> 211\u001b[0m     monom[\u001b[43mindices\u001b[49m\u001b[43m[\u001b[49m\u001b[43mbase\u001b[49m\u001b[43m]\u001b[49m] \u001b[38;5;241m=\u001b[39m exp\n\u001b[0;32m    212\u001b[0m \u001b[38;5;28;01mexcept\u001b[39;00m \u001b[38;5;167;01mKeyError\u001b[39;00m:\n",
      "\u001b[1;31mKeyError\u001b[0m: 1/(N**6*phi2**2 + 2*N**6*phi2 + 2*N**6 + 2*N**5*phi*phi2 + 4*N**5*phi + 2*N**5*phi2 - 4*N**5 + 2*N**4*phi**2 + 2*N**4*phi*phi2 - 8*N**4*phi - N**4*phi2**2 - 8*N**4*phi2 - 4*N**4 - 4*N**3*phi**2 - 8*N**3*phi*phi2 - 8*N**3*phi - 8*N**3*phi2 + 12*N**3 - 4*N**2*phi**2 - 8*N**2*phi*phi2 + 24*N**2*phi - N**2*phi2**2 + 6*N**2*phi2 + 10*N**2 + 12*N*phi**2 + 6*N*phi*phi2 + 20*N*phi + 6*N*phi2 + 10*phi**2 + 6*phi*phi2 + phi2**2)",
      "\nDuring handling of the above exception, another exception occurred:\n",
      "\u001b[1;31mPolynomialError\u001b[0m                           Traceback (most recent call last)",
      "Cell \u001b[1;32mIn[344], line 1\u001b[0m\n\u001b[1;32m----> 1\u001b[0m phi_simp(\u001b[43mn_simp\u001b[49m\u001b[43m(\u001b[49m\u001b[43mval\u001b[49m\u001b[43m)\u001b[49m)\n",
      "Cell \u001b[1;32mIn[343], line 4\u001b[0m, in \u001b[0;36mn_simp\u001b[1;34m(expr)\u001b[0m\n\u001b[0;32m      2\u001b[0m num, denom \u001b[38;5;241m=\u001b[39m fraction(expr)\n\u001b[0;32m      3\u001b[0m \u001b[38;5;28mprint\u001b[39m(num, denom)\n\u001b[1;32m----> 4\u001b[0m num \u001b[38;5;241m=\u001b[39m \u001b[43mPoly\u001b[49m\u001b[43m(\u001b[49m\u001b[43mnum\u001b[49m\u001b[43m,\u001b[49m\u001b[43m \u001b[49m\u001b[43mN\u001b[49m\u001b[43m)\u001b[49m\n\u001b[0;32m      5\u001b[0m denom \u001b[38;5;241m=\u001b[39m Poly(denom\u001b[38;5;241m.\u001b[39mexpand(), N)\n\u001b[0;32m      6\u001b[0m new_coeffs \u001b[38;5;241m=\u001b[39m [\u001b[38;5;241m0\u001b[39m, \u001b[38;5;241m0\u001b[39m]\n",
      "File \u001b[1;32mc:\\Users\\mwkte\\dev\\ag_notes\\.venv\\Lib\\site-packages\\sympy\\polys\\polytools.py:182\u001b[0m, in \u001b[0;36mPoly.__new__\u001b[1;34m(cls, rep, *gens, **args)\u001b[0m\n\u001b[0;32m    180\u001b[0m     \u001b[38;5;28;01mreturn\u001b[39;00m \u001b[38;5;28mcls\u001b[39m\u001b[38;5;241m.\u001b[39m_from_poly(rep, opt)\n\u001b[0;32m    181\u001b[0m \u001b[38;5;28;01melse\u001b[39;00m:\n\u001b[1;32m--> 182\u001b[0m     \u001b[38;5;28;01mreturn\u001b[39;00m \u001b[38;5;28;43mcls\u001b[39;49m\u001b[38;5;241;43m.\u001b[39;49m\u001b[43m_from_expr\u001b[49m\u001b[43m(\u001b[49m\u001b[43mrep\u001b[49m\u001b[43m,\u001b[49m\u001b[43m \u001b[49m\u001b[43mopt\u001b[49m\u001b[43m)\u001b[49m\n",
      "File \u001b[1;32mc:\\Users\\mwkte\\dev\\ag_notes\\.venv\\Lib\\site-packages\\sympy\\polys\\polytools.py:311\u001b[0m, in \u001b[0;36mPoly._from_expr\u001b[1;34m(cls, rep, opt)\u001b[0m\n\u001b[0;32m    308\u001b[0m \u001b[38;5;129m@classmethod\u001b[39m\n\u001b[0;32m    309\u001b[0m \u001b[38;5;28;01mdef\u001b[39;00m \u001b[38;5;21m_from_expr\u001b[39m(\u001b[38;5;28mcls\u001b[39m, rep, opt):\n\u001b[0;32m    310\u001b[0m \u001b[38;5;250m    \u001b[39m\u001b[38;5;124;03m\"\"\"Construct a polynomial from an expression. \"\"\"\u001b[39;00m\n\u001b[1;32m--> 311\u001b[0m     rep, opt \u001b[38;5;241m=\u001b[39m \u001b[43m_dict_from_expr\u001b[49m\u001b[43m(\u001b[49m\u001b[43mrep\u001b[49m\u001b[43m,\u001b[49m\u001b[43m \u001b[49m\u001b[43mopt\u001b[49m\u001b[43m)\u001b[49m\n\u001b[0;32m    312\u001b[0m     \u001b[38;5;28;01mreturn\u001b[39;00m \u001b[38;5;28mcls\u001b[39m\u001b[38;5;241m.\u001b[39m_from_dict(rep, opt)\n",
      "File \u001b[1;32mc:\\Users\\mwkte\\dev\\ag_notes\\.venv\\Lib\\site-packages\\sympy\\polys\\polyutils.py:368\u001b[0m, in \u001b[0;36m_dict_from_expr\u001b[1;34m(expr, opt)\u001b[0m\n\u001b[0;32m    365\u001b[0m         expr \u001b[38;5;241m=\u001b[39m expand_mul(expr)\n\u001b[0;32m    367\u001b[0m \u001b[38;5;28;01mif\u001b[39;00m opt\u001b[38;5;241m.\u001b[39mgens:\n\u001b[1;32m--> 368\u001b[0m     rep, gens \u001b[38;5;241m=\u001b[39m \u001b[43m_dict_from_expr_if_gens\u001b[49m\u001b[43m(\u001b[49m\u001b[43mexpr\u001b[49m\u001b[43m,\u001b[49m\u001b[43m \u001b[49m\u001b[43mopt\u001b[49m\u001b[43m)\u001b[49m\n\u001b[0;32m    369\u001b[0m \u001b[38;5;28;01melse\u001b[39;00m:\n\u001b[0;32m    370\u001b[0m     rep, gens \u001b[38;5;241m=\u001b[39m _dict_from_expr_no_gens(expr, opt)\n",
      "File \u001b[1;32mc:\\Users\\mwkte\\dev\\ag_notes\\.venv\\Lib\\site-packages\\sympy\\polys\\polyutils.py:307\u001b[0m, in \u001b[0;36m_dict_from_expr_if_gens\u001b[1;34m(expr, opt)\u001b[0m\n\u001b[0;32m    305\u001b[0m \u001b[38;5;28;01mdef\u001b[39;00m \u001b[38;5;21m_dict_from_expr_if_gens\u001b[39m(expr, opt):\n\u001b[0;32m    306\u001b[0m \u001b[38;5;250m    \u001b[39m\u001b[38;5;124;03m\"\"\"Transform an expression into a multinomial form given generators. \"\"\"\u001b[39;00m\n\u001b[1;32m--> 307\u001b[0m     (poly,), gens \u001b[38;5;241m=\u001b[39m \u001b[43m_parallel_dict_from_expr_if_gens\u001b[49m\u001b[43m(\u001b[49m\u001b[43m(\u001b[49m\u001b[43mexpr\u001b[49m\u001b[43m,\u001b[49m\u001b[43m)\u001b[49m\u001b[43m,\u001b[49m\u001b[43m \u001b[49m\u001b[43mopt\u001b[49m\u001b[43m)\u001b[49m\n\u001b[0;32m    308\u001b[0m     \u001b[38;5;28;01mreturn\u001b[39;00m poly, gens\n",
      "File \u001b[1;32mc:\\Users\\mwkte\\dev\\ag_notes\\.venv\\Lib\\site-packages\\sympy\\polys\\polyutils.py:216\u001b[0m, in \u001b[0;36m_parallel_dict_from_expr_if_gens\u001b[1;34m(exprs, opt)\u001b[0m\n\u001b[0;32m    214\u001b[0m                 coeff\u001b[38;5;241m.\u001b[39mappend(factor)\n\u001b[0;32m    215\u001b[0m             \u001b[38;5;28;01melse\u001b[39;00m:\n\u001b[1;32m--> 216\u001b[0m                 \u001b[38;5;28;01mraise\u001b[39;00m PolynomialError(\u001b[38;5;124m\"\u001b[39m\u001b[38;5;132;01m%s\u001b[39;00m\u001b[38;5;124m contains an element of \u001b[39m\u001b[38;5;124m\"\u001b[39m\n\u001b[0;32m    217\u001b[0m                                       \u001b[38;5;124m\"\u001b[39m\u001b[38;5;124mthe set of generators.\u001b[39m\u001b[38;5;124m\"\u001b[39m \u001b[38;5;241m%\u001b[39m factor)\n\u001b[0;32m    219\u001b[0m monom \u001b[38;5;241m=\u001b[39m \u001b[38;5;28mtuple\u001b[39m(monom)\n\u001b[0;32m    221\u001b[0m \u001b[38;5;28;01mif\u001b[39;00m monom \u001b[38;5;129;01min\u001b[39;00m poly:\n",
      "\u001b[1;31mPolynomialError\u001b[0m: 1/(N**6*phi2**2 + 2*N**6*phi2 + 2*N**6 + 2*N**5*phi*phi2 + 4*N**5*phi + 2*N**5*phi2 - 4*N**5 + 2*N**4*phi**2 + 2*N**4*phi*phi2 - 8*N**4*phi - N**4*phi2**2 - 8*N**4*phi2 - 4*N**4 - 4*N**3*phi**2 - 8*N**3*phi*phi2 - 8*N**3*phi - 8*N**3*phi2 + 12*N**3 - 4*N**2*phi**2 - 8*N**2*phi*phi2 + 24*N**2*phi - N**2*phi2**2 + 6*N**2*phi2 + 10*N**2 + 12*N*phi**2 + 6*N*phi*phi2 + 20*N*phi + 6*N*phi2 + 10*phi**2 + 6*phi*phi2 + phi2**2) contains an element of the set of generators."
     ]
    }
   ],
   "source": [
    "phi_simp(n_simp(val))"
   ]
  },
  {
   "cell_type": "code",
   "execution_count": null,
   "metadata": {},
   "outputs": [
    {
     "data": {
      "text/latex": [
       "$\\displaystyle \\frac{- N^{4} \\phi_{2}^{2} - 2 N^{4} \\phi_{2} - 2 N^{4} - 2 N^{3} \\phi \\phi_{2} - 4 N^{3} \\phi - 2 N^{3} \\phi_{2}^{2} + 2 N^{3} \\phi_{2} + 8 N^{3} - 2 N^{2} \\phi^{2} + 2 N^{2} \\phi \\phi_{2} + 16 N^{2} \\phi + 6 N^{2} \\phi_{2}^{2} + 6 N^{2} \\phi_{2} - 2 N^{2} + 8 N \\phi^{2} + 6 N \\phi \\phi_{2} - 4 N \\phi - 2 N \\phi_{2}^{2} - 6 N \\phi_{2} - 2 \\phi^{2} - 6 \\phi \\phi_{2} - \\phi_{2}^{2}}{N^{5} \\phi_{2}^{2} + 2 N^{5} \\phi_{2} + 2 N^{5} + 2 N^{4} \\phi \\phi_{2} + 4 N^{4} \\phi - N^{4} \\phi_{2}^{2} - 6 N^{4} + 2 N^{3} \\phi^{2} - 12 N^{3} \\phi - 8 N^{3} \\phi_{2} + 2 N^{3} - 6 N^{2} \\phi^{2} - 8 N^{2} \\phi \\phi_{2} + 4 N^{2} \\phi + 10 N^{2} + 2 N \\phi^{2} + 20 N \\phi - N \\phi_{2}^{2} + 6 N \\phi_{2} + 10 \\phi^{2} + 6 \\phi \\phi_{2} + \\phi_{2}^{2}}$"
      ],
      "text/plain": [
       "(-N**4*phi2**2 - 2*N**4*phi2 - 2*N**4 - 2*N**3*phi*phi2 - 4*N**3*phi - 2*N**3*phi2**2 + 2*N**3*phi2 + 8*N**3 - 2*N**2*phi**2 + 2*N**2*phi*phi2 + 16*N**2*phi + 6*N**2*phi2**2 + 6*N**2*phi2 - 2*N**2 + 8*N*phi**2 + 6*N*phi*phi2 - 4*N*phi - 2*N*phi2**2 - 6*N*phi2 - 2*phi**2 - 6*phi*phi2 - phi2**2)/(N**5*phi2**2 + 2*N**5*phi2 + 2*N**5 + 2*N**4*phi*phi2 + 4*N**4*phi - N**4*phi2**2 - 6*N**4 + 2*N**3*phi**2 - 12*N**3*phi - 8*N**3*phi2 + 2*N**3 - 6*N**2*phi**2 - 8*N**2*phi*phi2 + 4*N**2*phi + 10*N**2 + 2*N*phi**2 + 20*N*phi - N*phi2**2 + 6*N*phi2 + 10*phi**2 + 6*phi*phi2 + phi2**2)"
      ]
     },
     "execution_count": 345,
     "metadata": {},
     "output_type": "execute_result"
    }
   ],
   "source": [
    "simplify(r.expand())"
   ]
  },
  {
   "cell_type": "code",
   "execution_count": null,
   "metadata": {},
   "outputs": [
    {
     "name": "stdout",
     "output_type": "stream",
     "text": [
      "(N**2*phi2 + 2*N**2 + 2*N*phi - phi2)*(-N**3 - N**2*phi - N**2*phi2 + 2*N**2 + 2*N*phi + 3*N + 3*phi + phi2) + (-N**2*phi2 - 2*N*phi2 + 2*N + 2*phi + 3*phi2)*(N**3*phi2 + N**3 + N**2*phi - N*phi2 - N - phi) (N**3*phi2 + N**3 + N**2*phi - N*phi2 - N - phi)**2 + (-N**3 - N**2*phi - N**2*phi2 + 2*N**2 + 2*N*phi + 3*N + 3*phi + phi2)**2\n",
      "[-2*phi**2 - 6*phi*phi2 - phi2**2, 0]\n",
      "[-2*phi**2 - 6*phi*phi2 - phi2**2, 6*phi**2 - 4*phi - 3*phi2**2 - 6*phi2]\n",
      "[16*phi**2 + 18*phi*phi2 + 36*phi + 11*phi2**2 - 6, 6*phi**2 - 4*phi - 3*phi2**2 - 6*phi2]\n",
      "[16*phi**2 + 18*phi*phi2 + 36*phi + 11*phi2**2 - 6, 32*phi + 9*phi2**2 + 18*phi2 + 18]\n",
      "[16*phi**2 - 16*phi2**2 + 48, 32*phi + 9*phi2**2 + 18*phi2 + 18]\n",
      "[16*phi**2 - 16*phi2**2 + 48, 32*phi]\n",
      "Poly(32*phi*N + 16*phi**2 - 16*phi2**2 + 48, N, domain='ZZ[phi,phi2]')\n",
      "[10*phi**2 + 6*phi*phi2 + phi2**2, 0]\n",
      "[10*phi**2 + 6*phi*phi2 + phi2**2, 12*phi**2 + 6*phi*phi2 + 20*phi + 6*phi2]\n",
      "[-2*phi**2 - 18*phi*phi2 + 72*phi - 2*phi2**2 + 18*phi2 + 30, 12*phi**2 + 6*phi*phi2 + 20*phi + 6*phi2]\n",
      "[-2*phi**2 - 18*phi*phi2 + 72*phi - 2*phi2**2 + 18*phi2 + 30, -18*phi*phi2 - 4*phi - 18*phi2 + 36]\n",
      "[16*phi**2 - 11*phi2**2 - 54*phi2 - 6, -18*phi*phi2 - 4*phi - 18*phi2 + 36]\n",
      "[16*phi**2 - 11*phi2**2 - 54*phi2 - 6, 32*phi]\n",
      "[16*phi**2 + 16*phi2**2 + 48, 32*phi]\n",
      "Poly(32*phi*N + 16*phi**2 + 16*phi2**2 + 48, N, domain='ZZ[phi,phi2]')\n"
     ]
    },
    {
     "data": {
      "text/latex": [
       "$\\displaystyle \\frac{2 N \\phi + \\phi^{2} - \\phi_{2}^{2} + 3}{2 N \\phi + \\phi^{2} + \\phi_{2}^{2} + 3}$"
      ],
      "text/plain": [
       "(2*N*phi + phi**2 - phi2**2 + 3)/(2*N*phi + phi**2 + phi2**2 + 3)"
      ]
     },
     "execution_count": 346,
     "metadata": {},
     "output_type": "execute_result"
    }
   ],
   "source": [
    "R = simplify(n_simp(simplify(r)))\n",
    "R"
   ]
  },
  {
   "cell_type": "code",
   "execution_count": null,
   "metadata": {},
   "outputs": [
    {
     "name": "stdout",
     "output_type": "stream",
     "text": [
      "(N**2*phi2 + 2*N**2 + 2*N*phi - phi2)*(N**3*phi2 + N**3 + N**2*phi - N*phi2 - N - phi) - (-N**2*phi2 - 2*N*phi2 + 2*N + 2*phi + 3*phi2)*(-N**3 - N**2*phi - N**2*phi2 + 2*N**2 + 2*N*phi + 3*N + 3*phi + phi2) (N**3*phi2 + N**3 + N**2*phi - N*phi2 - N - phi)**2 + (-N**3 - N**2*phi - N**2*phi2 + 2*N**2 + 2*N*phi + 3*N + 3*phi + phi2)**2\n",
      "[-6*phi**2 - 10*phi*phi2 - 3*phi2**2, 0]\n",
      "[-6*phi**2 - 10*phi*phi2 - 3*phi2**2, -6*phi**2 - 12*phi + 3*phi2**2 - 10*phi2]\n",
      "[14*phi*phi2 - 36*phi + 9*phi2**2 - 18, -6*phi**2 - 12*phi + 3*phi2**2 - 10*phi2]\n",
      "[14*phi*phi2 - 36*phi + 9*phi2**2 - 18, -9*phi2**2 + 14*phi2 - 18]\n",
      "[32*phi*phi2, -9*phi2**2 + 14*phi2 - 18]\n",
      "[32*phi*phi2, 32*phi2]\n",
      "Poly(32*phi2*N + 32*phi*phi2, N, domain='ZZ[phi,phi2]')\n",
      "[10*phi**2 + 6*phi*phi2 + phi2**2, 0]\n",
      "[10*phi**2 + 6*phi*phi2 + phi2**2, 12*phi**2 + 6*phi*phi2 + 20*phi + 6*phi2]\n",
      "[-2*phi**2 - 18*phi*phi2 + 72*phi - 2*phi2**2 + 18*phi2 + 30, 12*phi**2 + 6*phi*phi2 + 20*phi + 6*phi2]\n",
      "[-2*phi**2 - 18*phi*phi2 + 72*phi - 2*phi2**2 + 18*phi2 + 30, -18*phi*phi2 - 4*phi - 18*phi2 + 36]\n",
      "[16*phi**2 - 11*phi2**2 - 54*phi2 - 6, -18*phi*phi2 - 4*phi - 18*phi2 + 36]\n",
      "[16*phi**2 - 11*phi2**2 - 54*phi2 - 6, 32*phi]\n",
      "[16*phi**2 + 16*phi2**2 + 48, 32*phi]\n",
      "Poly(32*phi*N + 16*phi**2 + 16*phi2**2 + 48, N, domain='ZZ[phi,phi2]')\n"
     ]
    },
    {
     "data": {
      "text/latex": [
       "$\\displaystyle \\frac{2 \\phi_{2} \\left(N + \\phi\\right)}{2 N \\phi + \\phi^{2} + \\phi_{2}^{2} + 3}$"
      ],
      "text/plain": [
       "2*phi2*(N + phi)/(2*N*phi + phi**2 + phi2**2 + 3)"
      ]
     },
     "execution_count": 347,
     "metadata": {},
     "output_type": "execute_result"
    }
   ],
   "source": [
    "Im = simplify(n_simp(simplify(c)))\n",
    "Im"
   ]
  },
  {
   "cell_type": "code",
   "execution_count": null,
   "metadata": {},
   "outputs": [
    {
     "data": {
      "text/latex": [
       "$\\displaystyle \\frac{- \\sqrt{3} + \\sqrt{15}}{6}$"
      ],
      "text/plain": [
       "(-sqrt(3) + sqrt(15))/6"
      ]
     },
     "execution_count": 349,
     "metadata": {},
     "output_type": "execute_result"
    }
   ],
   "source": [
    "from sympy import radsimp\n",
    "\n",
    "\n",
    "expr = Im.subs(phi2, 1 / phi).subs(phi, (1 + sqrt(5)) / 2).subs(N, sqrt(3))\n",
    "radsimp(expr)"
   ]
  },
  {
   "cell_type": "code",
   "execution_count": null,
   "metadata": {},
   "outputs": [
    {
     "data": {
      "text/latex": [
       "$\\displaystyle \\frac{\\sqrt{3}}{6} + \\frac{\\sqrt{15}}{6}$"
      ],
      "text/plain": [
       "sqrt(3)/6 + sqrt(15)/6"
      ]
     },
     "execution_count": 351,
     "metadata": {},
     "output_type": "execute_result"
    }
   ],
   "source": [
    "expr = R.subs(phi2, 1 / phi).subs(phi, (1 + sqrt(5)) / 2).subs(N, sqrt(3))\n",
    "radsimp(expr).expand()"
   ]
  },
  {
   "cell_type": "code",
   "execution_count": null,
   "metadata": {},
   "outputs": [
    {
     "name": "stdout",
     "output_type": "stream",
     "text": [
      "2*N*phi**3 + phi**4 + 3*phi**2 - 1 2*N*phi**3 + phi**4 + 3*phi**2 + 1\n",
      "[phi**4 + 3*phi**2 - 1, 0]\n",
      "[phi**4 + 3*phi**2 - 1, 2*phi**3]\n",
      "Poly(2*phi**3*N + phi**4 + 3*phi**2 - 1, N, domain='ZZ[phi]')\n",
      "[phi**4 + 3*phi**2 + 1, 0]\n",
      "[phi**4 + 3*phi**2 + 1, 2*phi**3]\n",
      "Poly(2*phi**3*N + phi**4 + 3*phi**2 + 1, N, domain='ZZ[phi]')\n",
      "2*N*phi**3 + phi**4 + 3*phi**2 - 1 2*N*phi**3 + phi**4 + 3*phi**2 + 1\n"
     ]
    },
    {
     "data": {
      "text/latex": [
       "$\\displaystyle \\frac{2 N \\phi + N + 3 \\phi + 2}{2 N \\phi + N + 3 \\phi + 3}$"
      ],
      "text/plain": [
       "(2*N*phi + N + 3*phi + 2)/(2*N*phi + N + 3*phi + 3)"
      ]
     },
     "execution_count": 335,
     "metadata": {},
     "output_type": "execute_result"
    }
   ],
   "source": [
    "phi_simp(n_simp(R))"
   ]
  },
  {
   "cell_type": "code",
   "execution_count": null,
   "metadata": {},
   "outputs": [
    {
     "name": "stdout",
     "output_type": "stream",
     "text": [
      "2*phi*(N + phi) 2*N*phi**3 + phi**4 + 3*phi**2 + 1\n",
      "[2*phi**2, 0]\n",
      "[2*phi**2, 2*phi]\n",
      "Poly(2*phi*N + 2*phi**2, N, domain='ZZ[phi]')\n",
      "[phi**4 + 3*phi**2 + 1, 0]\n",
      "[phi**4 + 3*phi**2 + 1, 2*phi**3]\n",
      "Poly(2*phi**3*N + phi**4 + 3*phi**2 + 1, N, domain='ZZ[phi]')\n",
      "2*phi*(N + phi) 2*N*phi**3 + phi**4 + 3*phi**2 + 1\n"
     ]
    },
    {
     "data": {
      "text/latex": [
       "$\\displaystyle \\frac{N \\phi + \\phi + 1}{2 N \\phi + N + 3 \\phi + 3}$"
      ],
      "text/plain": [
       "(N*phi + phi + 1)/(2*N*phi + N + 3*phi + 3)"
      ]
     },
     "execution_count": 336,
     "metadata": {},
     "output_type": "execute_result"
    }
   ],
   "source": [
    "phi_simp(n_simp(Im))"
   ]
  },
  {
   "cell_type": "code",
   "execution_count": null,
   "metadata": {},
   "outputs": [
    {
     "name": "stdout",
     "output_type": "stream",
     "text": [
      "2*phi*(N + phi)*(2*N*phi**3 + phi**4 + 3*phi**2 - 1) (2*N*phi**3 + phi**4 + 3*phi**2 + 1)**2\n",
      "[2*phi**6 + 6*phi**4 - 2*phi**2, 0]\n",
      "[2*phi**6 + 6*phi**4 - 2*phi**2, 6*phi**5 + 6*phi**3 - 2*phi]\n",
      "[2*phi**6 + 18*phi**4 - 2*phi**2, 6*phi**5 + 6*phi**3 - 2*phi]\n",
      "Poly((6*phi**5 + 6*phi**3 - 2*phi)*N + 2*phi**6 + 18*phi**4 - 2*phi**2, N, domain='ZZ[phi]')\n",
      "[phi**8 + 6*phi**6 + 11*phi**4 + 6*phi**2 + 1, 0]\n",
      "[phi**8 + 6*phi**6 + 11*phi**4 + 6*phi**2 + 1, 4*phi**7 + 12*phi**5 + 4*phi**3]\n",
      "[phi**8 + 18*phi**6 + 11*phi**4 + 6*phi**2 + 1, 4*phi**7 + 12*phi**5 + 4*phi**3]\n",
      "Poly((4*phi**7 + 12*phi**5 + 4*phi**3)*N + phi**8 + 18*phi**6 + 11*phi**4 + 6*phi**2 + 1, N, domain='ZZ[phi]')\n",
      "2*phi*(3*N*phi**4 + 3*N*phi**2 - N + phi**5 + 9*phi**3 - phi) 4*N*phi**7 + 12*N*phi**5 + 4*N*phi**3 + phi**8 + 18*phi**6 + 11*phi**4 + 6*phi**2 + 1\n"
     ]
    },
    {
     "data": {
      "text/latex": [
       "$\\displaystyle \\frac{1}{3}$"
      ],
      "text/plain": [
       "1/3"
      ]
     },
     "execution_count": 334,
     "metadata": {},
     "output_type": "execute_result"
    }
   ],
   "source": [
    "phi_simp(n_simp(R * Im))"
   ]
  },
  {
   "cell_type": "code",
   "execution_count": null,
   "metadata": {},
   "outputs": [
    {
     "data": {
      "text/latex": [
       "$\\displaystyle 0.333333333333333$"
      ],
      "text/plain": [
       "0.333333333333333"
      ]
     },
     "execution_count": 329,
     "metadata": {},
     "output_type": "execute_result"
    }
   ],
   "source": [
    "(R * Im).subs(phi, (1 + sqrt(5)) / 2).subs(N, sqrt(3)).evalf()"
   ]
  },
  {
   "cell_type": "code",
   "execution_count": null,
   "metadata": {},
   "outputs": [
    {
     "data": {
      "text/latex": [
       "$\\displaystyle 3.26470820613219$"
      ],
      "text/plain": [
       "3.26470820613219"
      ]
     },
     "execution_count": 220,
     "metadata": {},
     "output_type": "execute_result"
    }
   ],
   "source": [
    "(phi**2 * (phi + 1) ** 2).subs(phi, (1 + sqrt(5)) / 2 / sqrt(3)).evalf()"
   ]
  },
  {
   "cell_type": "code",
   "execution_count": null,
   "metadata": {},
   "outputs": [
    {
     "data": {
      "text/latex": [
       "$\\displaystyle 0.934172358962716$"
      ],
      "text/plain": [
       "0.934172358962716"
      ]
     },
     "execution_count": 217,
     "metadata": {},
     "output_type": "execute_result"
    }
   ],
   "source": [
    "_.subs(N, sqrt(3)).subs(phi, (1 + sqrt(5)) / 2 / sqrt(3)).evalf()"
   ]
  },
  {
   "cell_type": "code",
   "execution_count": null,
   "metadata": {},
   "outputs": [
    {
     "data": {
      "text/latex": [
       "$\\displaystyle \\frac{N^{4} + 10 N^{3} + 6 \\sqrt{5} N^{3} + 66 \\sqrt{5} N^{2} + 148 N^{2} + 66 N + 30 \\sqrt{5} N - 246 \\sqrt{5} - 549}{\\left(N + 1\\right) \\left(N^{4} + 10 N^{3} + 6 \\sqrt{5} N^{3} + 66 \\sqrt{5} N^{2} + 152 N^{2} - 686 N - 306 \\sqrt{5} N + 378 \\sqrt{5} + 847\\right)}$"
      ],
      "text/plain": [
       "(N**4 + 10*N**3 + 6*sqrt(5)*N**3 + 66*sqrt(5)*N**2 + 148*N**2 + 66*N + 30*sqrt(5)*N - 246*sqrt(5) - 549)/((N + 1)*(N**4 + 10*N**3 + 6*sqrt(5)*N**3 + 66*sqrt(5)*N**2 + 152*N**2 - 686*N - 306*sqrt(5)*N + 378*sqrt(5) + 847))"
      ]
     },
     "execution_count": 207,
     "metadata": {},
     "output_type": "execute_result"
    }
   ],
   "source": [
    "c.subs(phi, (1 + sqrt(5)) / 2).factor()"
   ]
  },
  {
   "cell_type": "code",
   "execution_count": null,
   "metadata": {},
   "outputs": [
    {
     "data": {
      "text/latex": [
       "$\\displaystyle 0.35682208977309$"
      ],
      "text/plain": [
       "0.356822089773090"
      ]
     },
     "execution_count": 188,
     "metadata": {},
     "output_type": "execute_result"
    }
   ],
   "source": [
    "c.subs(phi, (1 + sqrt(5)) / 2).subs(N, sqrt(3)).evalf()"
   ]
  },
  {
   "cell_type": "code",
   "execution_count": null,
   "metadata": {},
   "outputs": [
    {
     "data": {
      "text/latex": [
       "$\\displaystyle 0.934172358962716$"
      ],
      "text/plain": [
       "0.934172358962716"
      ]
     },
     "execution_count": 82,
     "metadata": {},
     "output_type": "execute_result"
    }
   ],
   "source": [
    "(phi / sqrt(3)).subs(phi, (1 + sqrt(5)) / 2).evalf()"
   ]
  },
  {
   "cell_type": "code",
   "execution_count": null,
   "metadata": {},
   "outputs": [
    {
     "data": {
      "text/latex": [
       "$\\displaystyle 0.35682208977309$"
      ],
      "text/plain": [
       "0.356822089773090"
      ]
     },
     "execution_count": 189,
     "metadata": {},
     "output_type": "execute_result"
    }
   ],
   "source": [
    "(1 / phi / sqrt(3)).subs(phi, (1 + sqrt(5)) / 2).evalf()"
   ]
  },
  {
   "cell_type": "code",
   "execution_count": null,
   "metadata": {},
   "outputs": [
    {
     "data": {
      "text/latex": [
       "$\\displaystyle 1.0$"
      ],
      "text/plain": [
       "1.00000000000000"
      ]
     },
     "execution_count": 60,
     "metadata": {},
     "output_type": "execute_result"
    }
   ],
   "source": [
    "simplify(r**2 + c**2).subs(phi, (1 + sqrt(5)) / 2).evalf()"
   ]
  }
 ],
 "metadata": {
  "kernelspec": {
   "display_name": ".venv",
   "language": "python",
   "name": "python3"
  },
  "language_info": {
   "codemirror_mode": {
    "name": "ipython",
    "version": 3
   },
   "file_extension": ".py",
   "mimetype": "text/x-python",
   "name": "python",
   "nbconvert_exporter": "python",
   "pygments_lexer": "ipython3",
   "version": "3.11.6"
  }
 },
 "nbformat": 4,
 "nbformat_minor": 2
}
