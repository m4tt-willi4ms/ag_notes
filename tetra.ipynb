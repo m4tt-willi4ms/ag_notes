{
 "cells": [
  {
   "cell_type": "code",
   "execution_count": 2,
   "metadata": {},
   "outputs": [],
   "source": [
    "# Imports\n",
    "from functools import reduce\n",
    "from sympy import (\n",
    "    I,\n",
    "    symbols,\n",
    "    sqrt,\n",
    "    Rational,\n",
    "    conjugate,\n",
    "    simplify,\n",
    "    Poly,\n",
    "    Matrix,\n",
    "    expand,\n",
    "    diff,\n",
    "    exp,\n",
    "    cos,\n",
    "    tan,\n",
    "    sin,\n",
    "    oo,\n",
    "    pi,\n",
    ")"
   ]
  },
  {
   "cell_type": "markdown",
   "metadata": {},
   "source": [
    "# Notes\n",
    "\n",
    "## Preliminaries\n",
    "\n",
    "Rotation (in three dimensions) of the vector ${\\bf r}$ about the direction $\\hat{\\bf n}$ by an angle $\\theta$:\n",
    "\n",
    "$$\n",
    "{\\bf r}' = {\\bf r}\\,\\cos\\theta + ({\\bf r}\\cdot\\hat{\\bf n}) \\hat{\\bf n}\\, (1 - \\cos\\theta) - {\\bf r} \\times \\hat{\\bf n} \\, \\sin\\theta\n",
    "$$\n",
    "\n",
    "or, in components,\n",
    "\n",
    "$$\n",
    "\\begin{align*}\n",
    "r'^i &= \\left[{\\delta^i}_j\\,\\cos\\theta + n^in_j\\,(1-\\cos\\theta)-{\\epsilon^i}_{jk}\\,n^k\\,\\sin\\theta\\right] r^j \\\\\n",
    ":&= {\\cal O^i}_j\\,r^j \\,.\n",
    "\\end{align*}\n",
    "$$\n",
    "\n",
    "Introducing the variables \n",
    "\n",
    "$$\n",
    "a_i = n_i\\,\\sin\\left(\\theta/2\\right) \\,,\\quad d:= \\cos\\left(\\theta /2\\right) \\,,\n",
    "$$\n",
    "\n",
    "we see the rotation matrix ${{\\cal O}^i}_j$ can be rewritten as follows:\n",
    "\n",
    "$$\n",
    "{{\\cal O}^i}_j = \\left(2\\,d^2 -1\\right){\\delta^i}_j+ 2\\left( a^i\\,a_j - {\\epsilon^i}_{jk}\\,a^k\\,d\\right) \\,.\n",
    "$$\n",
    "(Recall that $\\cos\\theta = 2\\,\\cos^2\\left(\\theta/2\\right) -1 = 1-2\\,\\sin^2\\left(\\theta/2\\right)$ and that $\\sin\\theta = 2\\,\\sin\\left(\\theta/2\\right)\\,\\cos\\left(\\theta/2\\right)$.)\n",
    "\n",
    "The orthogonality of ${\\cal O}$ can be verified by computing ${\\cal O_k}^i\\,{\\cal O^k}_j$ using the expression above, which gives\n",
    "\n",
    "$$\n",
    "{({\\cal O}^T {\\cal O})^i}_j = {\\delta^i}_j + 4\\left(d^2 + {\\bf a}^2 -1\\right)\\left(d^2 \\,{\\delta^i}_j + \n",
    "a^ia_j\\right) = {\\delta^i}_j\n",
    "$$\n",
    "where the second equality follows from the definition of ${\\bf a}$ and $d$, along with the trig identity $\\sin^2\\left(\\theta/2\\right) + \\cos^2\\left(\\theta/2\\right) = 1$ which enforces the constraint\n",
    "\n",
    "$$\n",
    "{\\bf a}^2 + d^2 = 1 \\,.\n",
    "$$"
   ]
  },
  {
   "cell_type": "code",
   "execution_count": 3,
   "metadata": {},
   "outputs": [
    {
     "data": {
      "text/latex": [
       "$\\displaystyle \\left[\\begin{matrix}1 & 0 & 0\\\\0 & 1 & 0\\\\0 & 0 & 1\\end{matrix}\\right]$"
      ],
      "text/plain": [
       "Matrix([\n",
       "[1, 0, 0],\n",
       "[0, 1, 0],\n",
       "[0, 0, 1]])"
      ]
     },
     "execution_count": 3,
     "metadata": {},
     "output_type": "execute_result"
    }
   ],
   "source": [
    "# Check of the above:\n",
    "a1, b1, c1, d1 = symbols(\"a1 b1 c1 d1\")\n",
    "\n",
    "\n",
    "def o_mat(a, b, c, d):\n",
    "    return Matrix(\n",
    "        [\n",
    "            [2 * d**2 - 1 + 2 * a**2, 2 * (a * b - c * d), 2 * (a * c + b * d)],\n",
    "            [2 * (a * b + c * d), 2 * d**2 - 1 + 2 * b**2, 2 * (b * c - a * d)],\n",
    "            [2 * (a * c - b * d), 2 * (b * c + a * d), 2 * d**2 - 1 + 2 * c**2],\n",
    "        ]\n",
    "    )\n",
    "\n",
    "\n",
    "O1 = o_mat(a1, b1, c1, d1)\n",
    "expand((O1 * O1.transpose()).subs(d1, sqrt(1 - a1**2 - b1**2 - c1**2)))"
   ]
  },
  {
   "cell_type": "markdown",
   "metadata": {},
   "source": [
    "Two such rotations can be composed as follows:\n",
    "\n",
    "$$\n",
    "\n",
    "{\\cal O}_C := {\\cal O}_B \\cdot {\\cal O}_A\n",
    "\n",
    "$$\n",
    "\n",
    "where, if ${\\cal O}_A = {\\cal O}_A({\\bf a}_A, d_A)$ and ${\\cal O}_B = {\\cal\n",
    "O}_B({\\bf a}_B, d_B)$ then ${\\cal O}_C = {\\cal O}_C({\\bf a}_C, d_C)$ with\n",
    "\n",
    "$$\n",
    "\n",
    "\\begin{align*}\n",
    "a_{1C} &= a_{1A} d_B + a_{1B} d_A - a_{2A} a_{3B} + a_{2B} a_{3A} \\\\\n",
    "a_{2C} &= a_{2A} d_B + a_{2B} d_A - a_{3A} a_{1B} + a_{3B} a_{1A} \\\\\n",
    "a_{3C} &= a_{3A} d_B + a_{3B} d_A - a_{1A} a_{2B} + a_{1B} a_{2A} \\\\\n",
    "d_C &= -a_{1A} a_{1B} - a_{2A} a_{2B} - a_{3A} a_{3B} + d_A d_B \\,.\n",
    "\\end{align*}\n",
    "\n",
    "$$"
   ]
  },
  {
   "cell_type": "code",
   "execution_count": 4,
   "metadata": {},
   "outputs": [
    {
     "data": {
      "text/latex": [
       "$\\displaystyle \\left[\\begin{matrix}0 & 0 & 0\\\\0 & 0 & 0\\\\0 & 0 & 0\\end{matrix}\\right]$"
      ],
      "text/plain": [
       "Matrix([\n",
       "[0, 0, 0],\n",
       "[0, 0, 0],\n",
       "[0, 0, 0]])"
      ]
     },
     "execution_count": 4,
     "metadata": {},
     "output_type": "execute_result"
    }
   ],
   "source": [
    "# Check of the above:\n",
    "a2, b2, c2, d2 = symbols(\"a2 b2 c2 d2\")\n",
    "O2 = o_mat(a2, b2, c2, d2)\n",
    "\n",
    "expand(\n",
    "    (\n",
    "        O2 * O1\n",
    "        - o_mat(\n",
    "            a1 * d2 + a2 * d1 - b1 * c2 + b2 * c1,\n",
    "            b1 * d2 + b2 * d1 - c1 * a2 + c2 * a1,\n",
    "            c1 * d2 + c2 * d1 - a1 * b2 + a2 * b1,\n",
    "            -a1 * a2 - b1 * b2 - c1 * c2 + d1 * d2,\n",
    "        )\n",
    "    )\n",
    "    .subs(d1, sqrt(1 - a1**2 - b1**2 - c1**2))\n",
    "    .subs(d2, sqrt(1 - a2**2 - b2**2 - c2**2))\n",
    ")"
   ]
  },
  {
   "cell_type": "markdown",
   "metadata": {},
   "source": [
    "## Stereographic Projection\n",
    "\n",
    "In what follows, it's helpful to map the rotations on the sphere to the complex\n",
    "plane, by performing an equatorial spherical projection from the point where\n",
    "$\\hat{\\bf n} = (0, 0, 1)$ down onto the complex plane. Denoting a general point\n",
    "on the unit sphere as $\\hat{\\bf r} = (\\xi,\\eta,\\zeta)$ in the general case, and\n",
    "writing $z = x + iy$ with real and imaginary axes parallel to the $(\\xi \\eta)$\n",
    "plane, we find (using similar triangles) that\n",
    "\n",
    "$$\n",
    "z = x + i\\, y = \\frac{\\xi +i\\,\\eta}{1-\\zeta} \\,.\n",
    "$$\n",
    "\n",
    "Inverting, we find\n",
    "\n",
    "$$ \n",
    "\n",
    "\\xi = \\frac{z + \\bar{z}}r \\,,\\quad \\eta = \\frac{i(\\bar{z} - z)}r \\,,\\quad\n",
    "\\zeta = \\frac{z\\bar{z} -1}r \n",
    "\n",
    "$$\n",
    "\n",
    "where we define $r := 1 + z\\bar{z}$."
   ]
  },
  {
   "cell_type": "markdown",
   "metadata": {},
   "source": [
    "\n",
    "Rotations about the $\\zeta$-axis are particularly simple in this representation,\n",
    "as they correspond to multiplying $z$ by a pure phase:\n",
    "\n",
    "$$ \n",
    "\n",
    "z \\to z' = e^{i\\theta} \\, z \\quad\\leftrightarrow\\quad \\begin{array}{cc}\\xi' &=\n",
    "\\xi\\,\\cos\\theta\n",
    "- \\eta\\,\\sin\\theta\\\\\n",
    "\\eta' &= \\xi\\,\\sin\\theta + \\eta\\,\\cos\\theta\n",
    "\\end{array}\\,. \n",
    "\n",
    "$$\n",
    "\n",
    "If we wish to write an arbitrary rotation of a point on the sphere about some\n",
    "direction specified by $\\hat{\\bf n}$, $\\theta$ (or, equivalently, ${\\bf a}$,\n",
    "$d$), we can leverage the simplicity of the above by noting that the rotation\n",
    "leaves the antipodal points $z_1=0$, $z_2=\\infty$ fixed, and that a more general\n",
    "rotation about the direction $\\hat{\\bf n}$ should do the same for the points\n",
    "\n",
    "$$\n",
    "\n",
    "z_1 = \\frac{n_1+i\\,n_2}{1-n_3} \\,,\\quad z_2 = \\frac{-n_1-i\\,n_2}{1+n_3} \\,,\n",
    "\n",
    "$$\n",
    "\n",
    "which satisfy the antipodal relation $z_1\\,\\bar z_2 = -1$, as well as the\n",
    "following other useful relations:\n",
    "\n",
    "$$\n",
    "\n",
    "\\tfrac{z_1 + z_2}{z_1 - z_2} = n_3 \\,,\\quad \\tfrac{2 z_1 z_2}{z_2 - z_1} = n_1 +\n",
    "i\\,n_2 \\,,\\quad \\frac2{z_1 - z_2} = n_1 -i\\,n_2\\,.\n",
    "\n",
    "$$"
   ]
  },
  {
   "cell_type": "code",
   "execution_count": 5,
   "metadata": {},
   "outputs": [],
   "source": [
    "n1, n2, n3 = symbols(\"n1 n2 n3\", real=True)\n",
    "z1 = (n1 + I * n2) / (1 - n3)\n",
    "z2 = (-n1 - I * n2) / (1 + n3)"
   ]
  },
  {
   "cell_type": "code",
   "execution_count": 6,
   "metadata": {},
   "outputs": [
    {
     "data": {
      "text/latex": [
       "$\\displaystyle -1$"
      ],
      "text/plain": [
       "-1"
      ]
     },
     "execution_count": 6,
     "metadata": {},
     "output_type": "execute_result"
    }
   ],
   "source": [
    "simplify((z1 * conjugate(z2)).subs(n3, sqrt(1 - n1**2 - n2**2)))"
   ]
  },
  {
   "cell_type": "code",
   "execution_count": 7,
   "metadata": {},
   "outputs": [
    {
     "data": {
      "text/latex": [
       "$\\displaystyle n_{3}$"
      ],
      "text/plain": [
       "n3"
      ]
     },
     "execution_count": 7,
     "metadata": {},
     "output_type": "execute_result"
    }
   ],
   "source": [
    "simplify((z1 + z2) / (z1 - z2))"
   ]
  },
  {
   "cell_type": "code",
   "execution_count": 8,
   "metadata": {},
   "outputs": [
    {
     "data": {
      "text/latex": [
       "$\\displaystyle n_{1} + i n_{2}$"
      ],
      "text/plain": [
       "n1 + I*n2"
      ]
     },
     "execution_count": 8,
     "metadata": {},
     "output_type": "execute_result"
    }
   ],
   "source": [
    "simplify((2 * z1 * z2) / (z2 - z1))"
   ]
  },
  {
   "cell_type": "code",
   "execution_count": 9,
   "metadata": {},
   "outputs": [
    {
     "data": {
      "text/latex": [
       "$\\displaystyle n_{1} - i n_{2}$"
      ],
      "text/plain": [
       "n1 - I*n2"
      ]
     },
     "execution_count": 9,
     "metadata": {},
     "output_type": "execute_result"
    }
   ],
   "source": [
    "simplify((2 / (z1 - z2)).subs(n3, sqrt(1 - n1**2 - n2**2)))"
   ]
  },
  {
   "cell_type": "markdown",
   "metadata": {},
   "source": [
    "As such, the rotation leaving such points fixed is\n",
    "\n",
    "$$\n",
    "\n",
    "\\frac{z'-z_2}{z'-z_1} = e^{i\\theta} \\,\\frac{z-z_2}{z-z_1} \\,.\n",
    "\n",
    "$$\n",
    "\n",
    "Solving for $z'$, the above general rotation can be expressed as\n",
    "\n",
    "$$\n",
    "\\begin{align*} \n",
    "\n",
    "z \\to z' &= \\frac{z\\left[(z_1 - z_2)\\cos(\\theta/2) + i\n",
    "(z_1+z_2)\\,\\sin(\\theta/2)\\right]-2i\\sin(\\theta/2)z_1 z_2}{2z\\,i\\sin(\\theta/2) +\n",
    "\\left[(z_1 - z_2)\\cos(\\theta/2)-i(z_1+z_2)\\sin(\\theta/2)\\right]} \\\\\n",
    "&= \\frac{(d+i\\,a_3)z - (a_2-i\\,a_1)}{(a_2+i\\,a_1)z + (d-i\\,a_3)}\n",
    "\n",
    "\\end{align*}\n",
    "\n",
    "$$\n",
    "\n",
    "where we make use of the notation introduced above which interrelates\n",
    "$\\{\\hat{\\bf n}, \\theta\\}$ with $\\{{\\bf a}, d\\}$. (The above can be readily\n",
    "checked by substituting $\\hat {\\bf r}' =(\\xi',\\eta',\\zeta') = {\\cal O} \\cdot\n",
    "\\hat{\\bf r}$ into the expression $z' = (\\xi' + i\\,\\eta')/(1-\\zeta')$.)"
   ]
  },
  {
   "cell_type": "markdown",
   "metadata": {},
   "source": [
    "## Fractionalized Coordinates\n",
    "\n",
    "Lastly, to re-interpret the above transformation in the complex plane as a\n",
    "homogeneous one, it is conventional to write $z$ in terms of its numerator and\n",
    "denominator in projective coordinates:\n",
    "\n",
    "$$\n",
    "\n",
    "z = \\frac uv \\,.\n",
    "\n",
    "$$\n",
    "\n",
    "In terms of $u$, $v$, the transformation above is given by\n",
    "\n",
    "$$\n",
    "\n",
    "\\begin{align*}\n",
    "u' &= (d+i\\,a_3)u - (a_2-i\\,a_1)v \\\\\n",
    "v' &= (a_2+i\\,a_1)u + (d-i\\,a_3) v \\,.\n",
    "\\end{align*}\n",
    "\n",
    "$$\n",
    "\n",
    "In this space, the rotations described above are a subgroup of $\\mathbb{GL}(2,\n",
    "\\mathbb{C})$ where the operator \n",
    "\n",
    "$$\n",
    "\n",
    "{\\cal O} = \\begin{pmatrix} A & B \\\\ C & D\\end{pmatrix} \\quad\\textrm{such that}\\quad\n",
    "\\begin{pmatrix}u' \\\\ v'\\end{pmatrix} = \\cal O \\begin{pmatrix}u \\\\ v\\end{pmatrix}\n",
    "\n",
    "$$\n",
    "\n",
    "satisfies ${\\rm det}\\, {\\cal O} = 1$, $D = A^*$, $B = -C^*$. The inverse of such\n",
    "a transformation is given by\n",
    "\n",
    "$$\n",
    "\n",
    "{\\cal O}^{-1} = \\begin{pmatrix} D & -B \\\\ -C & A\\end{pmatrix} \\,.\n",
    "\n",
    "$$"
   ]
  },
  {
   "cell_type": "markdown",
   "metadata": {},
   "source": [
    "## Tetrahedral Symmetry\n",
    "\n",
    "A tetrahedron is formed by joining alternating vertices as one traverses the\n",
    "edges of a cube. Taking these four vertices to be \n",
    "\n",
    "$$\n",
    "\n",
    "\\begin{align*}\n",
    "{\\bf V}_1 &= \\frac1{\\sqrt{3}}(1, 1, 1) \\\\\n",
    "{\\bf V}_2 &= \\frac1{\\sqrt{3}}(-1, -1, 1) \\\\\n",
    "{\\bf V}_3 &= \\frac1{\\sqrt{3}}(1, -1, -1) \\\\\n",
    "{\\bf V}_4 &= \\frac1{\\sqrt{3}}(-1, 1, -1) \\,,\n",
    "\\end{align*}\n",
    "$$\n",
    "\n",
    "(such that they each lie on the unit sphere) we find that the corresponding\n",
    "spherically-projected coordinates are\n",
    "\n",
    "$$\n",
    "\n",
    "k_1 = -k_2 = \\frac{1+i}{\\sqrt{3} -1} \\,,\\quad k_3 = -k_4 =\n",
    "\\frac{1-i}{\\sqrt{3}+1} \\,.\n",
    "\n",
    "$$\n",
    "\n",
    "(Note that an equivalent tetrahedron could be constructed using the points\n",
    "antipodal to the ones above; this is referred to as the \"diametral tetrahedron\".)"
   ]
  },
  {
   "cell_type": "markdown",
   "metadata": {},
   "source": [
    "The discrete rotational symmetries of the tetrahedron can be constructed by\n",
    "composing the two-fold rotation about the $z$ axis (which maps ${\\bf V}_1\n",
    "\\leftrightarrow{\\bf V}_2$, ${\\bf V}_3 \\leftrightarrow{\\bf V}_4$) with the\n",
    "three-fold rotation about the ${\\bf V}_1$ axis (which maps ${\\bf V}_2\n",
    "\\rightarrow {\\bf V}_3$, ${\\bf V}_3 \\rightarrow {\\bf V}_4$, ${\\bf V}_4\n",
    "\\rightarrow {\\bf V}_2$). On the complex plane, these correspond to\n",
    "\n",
    "$$\n",
    "\n",
    "\\begin{align*}\n",
    "I:\\quad z \\to z' &= -z \\\\\n",
    "II:\\quad z \\to z' &= \\frac{z+i}{z-i} \\,,\n",
    "\\end{align*}\n",
    "\n",
    "$$\n",
    "\n",
    "respectively."
   ]
  },
  {
   "cell_type": "code",
   "execution_count": 10,
   "metadata": {},
   "outputs": [
    {
     "data": {
      "text/plain": [
       "True"
      ]
     },
     "execution_count": 10,
     "metadata": {},
     "output_type": "execute_result"
    }
   ],
   "source": [
    "# Check of the above:\n",
    "sp1 = (1 + I) / (sqrt(3) - 1)\n",
    "sp2 = -(1 + I) / (sqrt(3) - 1)\n",
    "sp3 = (1 - I) / (sqrt(3) + 1)\n",
    "sp4 = (-1 + I) / (sqrt(3) + 1)\n",
    "\n",
    "# fmt: off\n",
    "((sp1 + I) / (sp1 - I)).equals(sp1) and \\\n",
    "((sp2 + I) / (sp2 - I)).equals(sp3) and \\\n",
    "((sp3 + I) / (sp3 - I)).equals(sp4) and \\\n",
    "((sp4 + I) / (sp4 - I)).equals(sp2)\n",
    "# fmt: on"
   ]
  },
  {
   "cell_type": "markdown",
   "metadata": {},
   "source": [
    "In terms of the homogeneous coordinates $u$ and $v$, these two transformations\n",
    "map directly to\n",
    "\n",
    "$$\n",
    "\n",
    "\\begin{align*}\n",
    "I:&\\quad \\begin{array}{ccc}\n",
    "u' &=& i\\,u \\\\\n",
    "v' &=& -i\\,v \n",
    "\\end{array} \\\\\n",
    "II:&\\quad \\begin{array}{ccc}\n",
    " u' &=& \\tfrac12(1+i)\\,u - \\tfrac12(1-i)\\,v \\\\\n",
    " v' &=& \\tfrac12 (1+i) u + \\tfrac12(1-i)\\,v \\,.\n",
    " \\end{array}\n",
    "\\end{align*}\n",
    "\n",
    "% \\begin{align*}\n",
    "% u' &= (d+i\\,a_3)u - (a_2-i\\,a_1)v \\\\\n",
    "% v' &= (a_2+i\\,a_1)u + (d-i\\,a_3) v \\,.\n",
    "% \\end{align*}\n",
    "$$"
   ]
  },
  {
   "cell_type": "markdown",
   "metadata": {},
   "source": [
    "# Polynomial Invariants\n",
    "\n",
    "Keeping in mind that all symmetry transformations of the tetrahedron merely\n",
    "exchange a number of vertices with one another, it's expected that a polynomial\n",
    "with roots at the locations of the vertices in the complex plane will be\n",
    "invariant under such transformations. To see this, consider the product\n",
    "\n",
    "$$\n",
    "\n",
    "\\begin{align*}\n",
    "\\Phi(u, v) &:= \\prod_{i=1}^4 \\left(u - k_i\\, v\\right) = (u^2-k_1^2)(v^2-k_3^2) \\\\\n",
    "&= u^4 - 2i\\sqrt{3}\\,u^2v^2 + v^4\n",
    "\\end{align*}\n",
    "\n",
    "$$\n",
    "\n",
    "and apply the transformation $(u, v) \\to (u', v')$ as before. In the general\n",
    "case, this gives \n",
    "\n",
    "$$\n",
    "\n",
    "\\begin{align*}\n",
    "\\Phi(u', v') &= \\prod_{i=1}^4 \\left(u' - k_i\\, v'\\right) \\\\\n",
    "&= \\prod_{i=1}^4 \\left(A - k_i\\, C\\right) \\prod_{i=1}^4 \\left(u - k_i'\\, v\\right) \\\\\n",
    "&= \\prod_{i=1}^4 \\left(A - k_i\\, C\\right) \\, \\Phi(u, v)\n",
    "\\end{align*}\n",
    "\n",
    "$$\n",
    "\n",
    "where we define\n",
    "\n",
    "$$\n",
    "\n",
    "k'_i := \\frac{k_i\\, D - B}{- k_i\\, C + A} \\quad\\leftrightarrow\\quad k_i =\n",
    "\\frac{k_i'\\,A+B}{k_i'\\,C+D} \\,.\n",
    "\n",
    "$$"
   ]
  },
  {
   "cell_type": "markdown",
   "metadata": {},
   "source": [
    "In the case of both transformations $I$ and $II$, the product $\\prod_{i=1}^4 \\left(u - k_i'\\, v\\right)$ is clearly invariant, because the vertices all transform into one another under any of the transformations. For transformation $I$, the product $\\prod_{i=1}^4 \\left(A - k_i\\, C\\right) = 1$ because $A=i$ and $C=0$. For transformation $II$, this product instead gives\n",
    "\n",
    "$$\n",
    "\n",
    "\\begin{align*}\n",
    "\\prod_{i=1}^4 \\left(A - k_i\\, C\\right) &= \\left[\\tfrac12 (1+i)\\right]^4\\prod_{i=1}^4 \\left(1 - k_i\\right) \\\\\n",
    "&= -\\tfrac14(1-k_1^2)(1-k_3^2) \\\\\n",
    "&=-\\tfrac14\\left[1-i(2+\\sqrt{3})\\right]\\left[1+i(2-\\sqrt{3})\\right] \\\\\n",
    "&=-\\frac12+i\\frac{\\sqrt{3}}2 = e^{2\\pi i/3} \\,.\n",
    "\\end{align*}\n",
    "\n",
    "$$\n",
    "\n",
    "The above guarantees that the function $\\Phi^3(u,v)$ is an absolute invariant under the symmetries of the tetrahedral group."
   ]
  },
  {
   "cell_type": "code",
   "execution_count": 11,
   "metadata": {},
   "outputs": [
    {
     "data": {
      "text/latex": [
       "$\\displaystyle - \\frac{1}{2} + \\frac{\\sqrt{3} i}{2}$"
      ],
      "text/plain": [
       "-1/2 + sqrt(3)*I/2"
      ]
     },
     "execution_count": 11,
     "metadata": {},
     "output_type": "execute_result"
    }
   ],
   "source": [
    "simplify(\n",
    "    (Rational(1, 2) * (1 + I)) ** 4 * (1 - sp1) * (1 - sp2) * (1 - sp3) * (1 - sp4)\n",
    ")"
   ]
  },
  {
   "cell_type": "markdown",
   "metadata": {},
   "source": [
    "The above can also be done for the edge midpoints, and face centers, of the tetrahedron.\n",
    "In the latter case, it's as simple as trading $k_i \\to -1/\\bar k_i$ in the above expression for $\\Phi$ (since the face centers are in line with the antipodes of the vertices). This yields\n",
    "\n",
    "$$\n",
    "\n",
    "\\begin{align*}\n",
    "\\Psi(u, v) &:= \\prod_{i=1}^4\\left(u + \\bar k_i^{-1}\\, v\\right) = \\prod_{i=1}^4\\left(u - \\bar k_i\\, v\\right) \\\\\n",
    "&= u^4 + 2i\\sqrt{3}\\,u^2v^2 + v^4 \\,.\n",
    "\\end{align*}\n",
    "\n",
    "$$\n",
    "\n",
    "(The second-last equality follows since $k_1k_4 = k_2k_3 =-1$.) As one might expect, under transformation $II$ the function $\\Psi(u,v)$ becomes\n",
    "\n",
    "$$\n",
    "\n",
    "\\Psi(u',v') = e^{-2\\pi i/3} \\, \\Psi(u,v) \\,.\n",
    "\n",
    "$$\n",
    "\n",
    "Therefore, the combinations $\\Phi \\Psi$ and $\\Psi^3$ are also absolute invariants."
   ]
  },
  {
   "cell_type": "code",
   "execution_count": 12,
   "metadata": {},
   "outputs": [
    {
     "name": "stdout",
     "output_type": "stream",
     "text": [
      "uv_prime=Matrix([\n",
      "[u*(1/2 + I/2) + v*(-1/2 + I/2)],\n",
      "[ u*(1/2 + I/2) + v*(1/2 - I/2)]])\n"
     ]
    },
    {
     "data": {
      "text/latex": [
       "$\\displaystyle u^{4} - 2 \\sqrt{3} i u^{2} v^{2} + v^{4}$"
      ],
      "text/plain": [
       "u**4 - 2*sqrt(3)*I*u**2*v**2 + v**4"
      ]
     },
     "execution_count": 12,
     "metadata": {},
     "output_type": "execute_result"
    }
   ],
   "source": [
    "orth = Rational(1, 2) * Matrix([[1 + I, -1 + I], [1 + I, 1 - I]])\n",
    "u, v = symbols(\"u v\")\n",
    "U, V = symbols(\"U V\")\n",
    "uv = Matrix([u, v])\n",
    "\n",
    "uv_prime = orth * uv\n",
    "print(f\"{uv_prime=}\")\n",
    "\n",
    "Phi = (u - sp1 * v) * (u - sp2 * v) * (u - sp3 * v) * (u - sp4 * v)\n",
    "\n",
    "# print(Phi.subs(u, uv_prime[0]))\n",
    "Phi_prime = Phi.subs([(u, U), (v, V)]).subs([(U, uv_prime[0]), (V, uv_prime[1])])\n",
    "(Phi_prime / exp(2 * pi * I / 3)).rewrite(cos).radsimp().expand()"
   ]
  },
  {
   "cell_type": "markdown",
   "metadata": {},
   "source": [
    "In contrast, the six midpoints are at $z=0$, $z=\\infty$, $z=\\pm 1$, and $z=\\pm i$. In this case, the invariant polynomial is given by\n",
    "\n",
    "$$\n",
    "\n",
    "t(u, v) = uv(u-v)(u+v)(u-iv)(u+iv) = uv(u^4-v^4) \\,.\n",
    "\n",
    "$$\n",
    "\n",
    "Under the transformation $II$ (with $A=\\tfrac12(1+i)=-B^*=C=D^*$), we see that \n",
    "\n",
    "$$\n",
    "\n",
    "\\begin{align*}\n",
    "t(u',v') &= \\left(A\\,u-A^*\\,v\\right)\\left(A\\,u+A^*\\,v\\right) \\\\\n",
    "&\\times\\left[\\left(A\\,u-A^*\\,v\\right)^2 - \\left(A\\,u+A^*\\,v\\right)^2\\right]\\left[\\left(A\\,u-A^*\\,v\\right)^2+\\left(A\\,u+A^*\\,v\\right)^2\\right] \\\\\n",
    "&=\\left(A^2\\,u^2 - A^{*2}\\,v^2\\right)\\left[4\\,AA^*\\,uv\\right]\\left[2\\left(A^2\\,u^2+A^{*2}\\,v^2\\right)\\right] \\\\\n",
    "&=\\frac i2\\left(u^2 + v^2\\right)\\left[-2\\,uv\\right]\\left[i\\left(u^2-v^2\\right)\\right] = t(u,v)\n",
    "\\end{align*}\n",
    "\n",
    "$$\n",
    "\n",
    "where, in the last line, we make use of $A^2 = i/2 = -A^{*2}$. Similarly, $t(u',v') = t(u,v)$ under transformation $I$ where $A=i=D^*$, $B=C=0$, we find\n",
    "\n",
    "$$\n",
    "\n",
    "\\begin{align*}\n",
    "t(u',v') &= AA^*\\,uv(A^2\\,u^2-A^{*2}\\,v^2)(A^2\\,u^2+A^{*2}\\,v^2) \\\\\n",
    "&= t(u,v) \\,.\n",
    "\\end{align*}\n",
    "\n",
    "$$\n",
    "\n",
    "Therefore, $t(u,v)$ is an absolute invariant as well."
   ]
  },
  {
   "cell_type": "markdown",
   "metadata": {},
   "source": [
    "By direct computation, one can evaluate the combination $\\Psi^3- \\Phi^3$. As it\n",
    "turns out, this expression has a particularly simple form:\n",
    "\n",
    "$$\n",
    "\n",
    "\\Psi^3(u, v) = \\Phi^3(u, v) + 12\\sqrt{3}\\,i\\,t^2(u, v) \\,.\n",
    "\n",
    "$$"
   ]
  },
  {
   "cell_type": "code",
   "execution_count": 13,
   "metadata": {},
   "outputs": [
    {
     "data": {
      "text/latex": [
       "$\\displaystyle 12 \\sqrt{3} i u^{2} v^{2} \\left(u - v\\right)^{2} \\left(u + v\\right)^{2} \\left(u^{2} + v^{2}\\right)^{2}$"
      ],
      "text/plain": [
       "12*sqrt(3)*I*u**2*v**2*(u - v)**2*(u + v)**2*(u**2 + v**2)**2"
      ]
     },
     "execution_count": 13,
     "metadata": {},
     "output_type": "execute_result"
    }
   ],
   "source": [
    "# Check of the above:\n",
    "Phi = (u - sp1 * v) * (u - sp2 * v) * (u - sp3 * v) * (u - sp4 * v)\n",
    "Psi = (\n",
    "    (u - conjugate(sp1) * v)\n",
    "    * (u - conjugate(sp2) * v)\n",
    "    * (u - conjugate(sp3) * v)\n",
    "    * (u - conjugate(sp4) * v)\n",
    ")\n",
    "simplify(Psi**3 - Phi**3).factor()"
   ]
  },
  {
   "cell_type": "code",
   "execution_count": 14,
   "metadata": {},
   "outputs": [
    {
     "data": {
      "text/plain": [
       "True"
      ]
     },
     "execution_count": 14,
     "metadata": {},
     "output_type": "execute_result"
    }
   ],
   "source": [
    "# Second check:\n",
    "t = u * v * (u - v) * (u + v) * (u**2 + v**2)\n",
    "(Psi**3 - Phi**3).equals(12 * sqrt(3) * I * t**2)"
   ]
  },
  {
   "cell_type": "markdown",
   "metadata": {},
   "source": [
    "## Octahedral Symmetry\n",
    "\n",
    "The six vertices of the octahedron can be taken as identical to the six edge\n",
    "midpoints of the tetrahedron. As such they have $t(u,v)$ as their polynomial\n",
    "invariant.\n",
    "\n",
    "The octahedral symmetry group is generated by transformations $I$ and $II$\n",
    "above, along with\n",
    "\n",
    "$$\n",
    "III: \\quad u'=e^{i\\pi/4}\\, u \\,,\\quad v' = e^{-i\\pi/4} \\,v \\,.\n",
    "$$\n",
    "\n",
    "Under transformation $III$ with $A=e^{i\\pi/4} = D^*$, $B=C=0$, we find  that\n",
    "\n",
    "$$\n",
    "\n",
    "\\begin{align*}\n",
    "t(u',v') &= AA^*\\,uv(A^2\\,u^2-A^{*2}\\,v^2)(A^2\\,u^2+A^{*2}\\,v^2) \\\\\n",
    "&= -t(u,v) \\,.\n",
    "\\end{align*}\n",
    "\n",
    "$$\n",
    "\n",
    "Therefore, only $t^2(u,v)$ is an absolute invariant under the octahedral\n",
    "symmetry group."
   ]
  },
  {
   "cell_type": "markdown",
   "metadata": {},
   "source": [
    "The 8  face centers of the octahedron are formed by combining the 8 tetrahedral\n",
    "roots $\\{k_i, \\bar{k}_i\\}$ found before. As such, the octahedral polynomial\n",
    "invariant for the face centers is given by\n",
    "\n",
    "$$\n",
    "\n",
    "W(u, v) := \\Phi(u,v)\\, \\Psi(u,v)  = u^8 + 14\\,u^4v^4+v^8\\,.\n",
    "\n",
    "$$"
   ]
  },
  {
   "cell_type": "code",
   "execution_count": 15,
   "metadata": {},
   "outputs": [
    {
     "data": {
      "text/latex": [
       "$\\displaystyle u^{8} + 14 u^{4} v^{4} + v^{8}$"
      ],
      "text/plain": [
       "u**8 + 14*u**4*v**4 + v**8"
      ]
     },
     "execution_count": 15,
     "metadata": {},
     "output_type": "execute_result"
    }
   ],
   "source": [
    "# Check of the above:\n",
    "W = simplify(Phi * Psi)\n",
    "W"
   ]
  },
  {
   "cell_type": "markdown",
   "metadata": {},
   "source": [
    "In order to work out the transformation properties of $W(u,v)$, it is useful to\n",
    "note that $t$ and $W$ are inter-related as follows:\n",
    "\n",
    "$$\n",
    "\n",
    "{\\rm Hess}[t] := \\det\\left[\\begin{matrix}\\frac{\\partial^2t}{\\partial u^2} & \\frac{\\partial^2t}{\\partial u\\partial v} \\\\[6pt] \\frac{\\partial^2t}{\\partial v \\partial u} & \\frac{\\partial^2t}{\\partial v^2}\\end{matrix}\\right] = -25\\,W(u,v)\\,.\n",
    "\n",
    "$$\n",
    "\n",
    "In other words, $W(u,v)$ is the *Hessian* of $t(u,v)$. As such, since $t \\to -t$\n",
    "under transformation $III$ (and since $W \\sim t^2$), $W(u,v)$ is clearly\n",
    "invariant under all three octahedral symmetry generators."
   ]
  },
  {
   "cell_type": "code",
   "execution_count": 16,
   "metadata": {},
   "outputs": [
    {
     "data": {
      "text/plain": [
       "True"
      ]
     },
     "execution_count": 16,
     "metadata": {},
     "output_type": "execute_result"
    }
   ],
   "source": [
    "# Check of the above:\n",
    "def hessian(f):\n",
    "    du2 = diff(diff(f, u), u)\n",
    "    dudv = diff(diff(f, u), v)\n",
    "    dv2 = diff(diff(f, v), v)\n",
    "    return du2 * dv2 - dudv**2\n",
    "\n",
    "\n",
    "hessian(t).equals(-25 * Phi * Psi)"
   ]
  },
  {
   "cell_type": "markdown",
   "metadata": {},
   "source": [
    "The edge midpoints of the octahedron form a polynomial invariant, $\\chi(u,v)$,\n",
    "which we will compute next.\n",
    "\n",
    "The edge midpoints can be labeled as follows:\n",
    "\n",
    "$$\n",
    "\n",
    "\\begin{alignat*}{3}\n",
    "{\\bf X}_1 &= \\tfrac1{\\sqrt{2}}\\left(1,1, 0\\right) \\qquad &&{\\bf X}_7 &&= \\tfrac1{\\sqrt{2}}\\left(0,-1, 1\\right)\\\\\n",
    "{\\bf X}_2 &= \\tfrac1{\\sqrt{2}}\\left(1,-1, 0\\right) \\qquad&&{\\bf X}_8 &&= \\tfrac1{\\sqrt{2}}\\left(0,-1, -1\\right)\\\\\n",
    "{\\bf X}_3 &= \\tfrac1{\\sqrt{2}}\\left(-1,1, 0\\right) \\qquad&&{\\bf X}_9 &&= \\tfrac1{\\sqrt{2}}\\left(1,0, 1\\right)\\\\\n",
    "{\\bf X}_4 &= \\tfrac1{\\sqrt{2}}\\left(-1,-1, 0\\right) \\qquad&&{\\bf X}_{10} &&= \\tfrac1{\\sqrt{2}}\\left(1,0, -1\\right)\\\\\n",
    "{\\bf X}_5 &= \\tfrac1{\\sqrt{2}}\\left(0,1, 1\\right) \\qquad&&{\\bf X}_{11} &&= \\tfrac1{\\sqrt{2}}\\left(-1,0, 1\\right)\\\\\n",
    "{\\bf X}_6 &= \\tfrac1{\\sqrt{2}}\\left(0,1, -1\\right) \\qquad&&{\\bf X}_{12} &&= \\tfrac1{\\sqrt{2}}\\left(-1,0, -1\\right)\\\\\n",
    "\n",
    "\\end{alignat*}\n",
    "\n",
    "$$"
   ]
  },
  {
   "cell_type": "markdown",
   "metadata": {},
   "source": [
    "The corresponding stereographically-projected points in the complex plane are\n",
    "given by \n",
    "\n",
    "$$\n",
    "\n",
    "\\begin{alignat*}{3}\n",
    "l_1 &= \\tfrac1{\\sqrt{2}}\\left(1+i\\right) \\qquad &&l_7 &&= i\\left(-1-\\sqrt{2}\\right)\\\\\n",
    "l_2 &= \\tfrac1{\\sqrt{2}}\\left(1-i\\right) \\qquad&&l_8 &&= i\\left(1-\\sqrt{2}\\right)\\\\\n",
    "l_3 &= \\tfrac1{\\sqrt{2}}\\left(-1+i\\right) \\qquad&&l_9 &&= 1+\\sqrt{2}\\\\\n",
    "l_4 &= \\tfrac1{\\sqrt{2}}\\left(-1-i\\right) \\qquad&&l_{10} &&= -1+\\sqrt{2}\\\\\n",
    "l_5 &= i\\left(1+\\sqrt{2}\\right) \\qquad&&l_{11} &&= -1-\\sqrt{2}\\\\\n",
    "l_6 &= i\\left(-1+\\sqrt{2}\\right) \\qquad&&l_{12} &&= 1-\\sqrt{2}\n",
    "\n",
    "\\end{alignat*}\n",
    "\n",
    "$$"
   ]
  },
  {
   "cell_type": "markdown",
   "metadata": {},
   "source": [
    "Given the above, we define\n",
    "\n",
    "$$\n",
    "\n",
    "\\chi(u,v) := \\prod_{i=1}^{12}\\left(u-l_i\\,v\\right) = u^{12} - 33 u^{8} v^{4} -\n",
    "33 u^{4} v^{8} + v^{12} \\,.\n",
    "\n",
    "$$"
   ]
  },
  {
   "cell_type": "code",
   "execution_count": 17,
   "metadata": {},
   "outputs": [
    {
     "data": {
      "text/latex": [
       "$\\displaystyle u^{12} - 33 u^{8} v^{4} - 33 u^{4} v^{8} + v^{12}$"
      ],
      "text/plain": [
       "u**12 - 33*u**8*v**4 - 33*u**4*v**8 + v**12"
      ]
     },
     "execution_count": 17,
     "metadata": {},
     "output_type": "execute_result"
    }
   ],
   "source": [
    "# Check of the above:\n",
    "def stereo(v1, v2, v3):\n",
    "    return (v1 + I * v2) / (1 - v3)\n",
    "\n",
    "\n",
    "ls = []\n",
    "\n",
    "ls.append(stereo(1 / sqrt(2), 1 / sqrt(2), 0))\n",
    "ls.append(stereo(1 / sqrt(2), -1 / sqrt(2), 0))\n",
    "ls.append(stereo(-1 / sqrt(2), 1 / sqrt(2), 0))\n",
    "ls.append(stereo(-1 / sqrt(2), -1 / sqrt(2), 0))\n",
    "ls.append(stereo(0, 1 / sqrt(2), 1 / sqrt(2)))\n",
    "ls.append(stereo(0, 1 / sqrt(2), -1 / sqrt(2)))\n",
    "ls.append(stereo(0, -1 / sqrt(2), 1 / sqrt(2)))\n",
    "ls.append(stereo(0, -1 / sqrt(2), -1 / sqrt(2)))\n",
    "ls.append(stereo(1 / sqrt(2), 0, 1 / sqrt(2)))\n",
    "ls.append(stereo(1 / sqrt(2), 0, -1 / sqrt(2)))\n",
    "ls.append(stereo(-1 / sqrt(2), 0, 1 / sqrt(2)))\n",
    "ls.append(stereo(-1 / sqrt(2), 0, -1 / sqrt(2)))\n",
    "\n",
    "chi = reduce(lambda x, y: x * y, [u - x * v for x in ls])\n",
    "simplify(chi)"
   ]
  },
  {
   "cell_type": "markdown",
   "metadata": {},
   "source": [
    "As it turns out, $\\chi(u,v)$ is also related to $t(u,v)$ and $W(u,v)$: $\\chi$ is\n",
    "proportional to the *Jacobian* of ${\\bf V}(u,v) := (t(u,v), W(u,v))$:\n",
    "\n",
    "$$\n",
    "\n",
    "{\\textrm Jac}[{\\bf V}](u,v) := \\det \\left[\\begin{matrix} \\frac{\\partial t}{\\partial u} & \\frac{\\partial t}{\\partial v} \\\\[6pt] \\frac{\\partial W}{\\partial u} & \\frac{\\partial W}{\\partial v} \\end{matrix}\\right] = -8\\,\\chi(u,v) \\,.\n",
    "\n",
    "$$"
   ]
  },
  {
   "cell_type": "code",
   "execution_count": 18,
   "metadata": {},
   "outputs": [
    {
     "data": {
      "text/plain": [
       "True"
      ]
     },
     "execution_count": 18,
     "metadata": {},
     "output_type": "execute_result"
    }
   ],
   "source": [
    "# Check of the above:\n",
    "def jacobian(f, g):\n",
    "    return diff(f, u) * diff(g, v) - diff(f, v) * diff(g, u)\n",
    "\n",
    "\n",
    "jacobian(t, W).equals(-8 * chi)"
   ]
  },
  {
   "cell_type": "markdown",
   "metadata": {},
   "source": [
    "Since $\\chi \\sim t$, and since $t\\to-t$ under transformation $III$, we deduce\n",
    "that $\\chi^2$ is an absolute invariant of the octahedral symmetry group. Lastly,\n",
    "by direct computation we can verify that the absolute invariants $\\chi^2$,\n",
    "$W^3$, and $t^4$ (all sharing the same order of homogeneity) are inter-related:\n",
    "\n",
    "$$\n",
    "\n",
    "\\chi^2 - W^3 + 108\\, t^4 = 0 \\,.\n",
    "\n",
    "$$"
   ]
  },
  {
   "cell_type": "code",
   "execution_count": 19,
   "metadata": {},
   "outputs": [
    {
     "data": {
      "text/latex": [
       "$\\displaystyle - 108 u^{4} v^{4} \\left(u - v\\right)^{4} \\left(u + v\\right)^{4} \\left(u^{2} + v^{2}\\right)^{4}$"
      ],
      "text/plain": [
       "-108*u**4*v**4*(u - v)**4*(u + v)**4*(u**2 + v**2)**4"
      ]
     },
     "execution_count": 19,
     "metadata": {},
     "output_type": "execute_result"
    }
   ],
   "source": [
    "# Check of the above:\n",
    "simplify(chi**2 - W**3).factor()"
   ]
  },
  {
   "cell_type": "code",
   "execution_count": 20,
   "metadata": {},
   "outputs": [
    {
     "data": {
      "text/plain": [
       "True"
      ]
     },
     "execution_count": 20,
     "metadata": {},
     "output_type": "execute_result"
    }
   ],
   "source": [
    "# Second check:\n",
    "(chi**2 - W**3).equals(-108 * t**4)"
   ]
  },
  {
   "cell_type": "markdown",
   "metadata": {},
   "source": [
    "## Icosahedral Symmetry\n",
    "\n"
   ]
  },
  {
   "cell_type": "markdown",
   "metadata": {},
   "source": [
    "The icosahedral group is defined as the group of rotations that map the\n",
    "icosahedron into itself. Placing two antipodal vertices along the $\\zeta$ axis\n",
    "at $(0,0,\\pm 1)$, and one next-nearest vertex at\n",
    "${\\bf\\hat n}_n = (-\\sin\\,2\\alpha,0,\\cos\\,2\\alpha)$, we find that there is a two-fold symmetry\n",
    "about the axis ${\\bf \\hat n}_2:=(-\\sin\\alpha,0,\\cos\\alpha)$, in addition to a\n",
    "five-fold symmetry about ${\\bf \\hat n}_5:=(0,0,1)$:\n",
    "\n",
    "$$\n",
    "\n",
    "\\begin{align*}\n",
    "IV:&\\quad {\\cal O}({\\bf\\hat n}_2, \\pi)\\\\\n",
    "V:&\\quad {\\cal O}({\\bf\\hat n}_5, 2\\pi/5)\n",
    "\\end{align*}\n",
    "\n",
    "$$\n",
    "\n",
    "It can be shown that the above symmetry generators can be combined to reproduce\n",
    "the 60-fold symmetries of the icosahedral group. In particular, the three-fold\n",
    "symmetry of one of the icosahedron faces nearest to the top vertex can be written as \n",
    "\n",
    "$$\n",
    "\n",
    "{\\cal O}_C({\\bf\\hat n}_3, 2\\pi/3) = {\\cal O}_B({\\bf\\hat n}_5, -2\\pi/5)\\,{\\cal O}_A({\\bf\\hat n}_2,\n",
    "\\pi) \\,,\n",
    "\n",
    "$$\n",
    "\n",
    "given an appropriate choice of ${\\bf\\hat n}_2$ (or $\\alpha$) and ${\\bf\\hat n_3}$."
   ]
  },
  {
   "cell_type": "markdown",
   "metadata": {},
   "source": [
    "To determine $\\alpha$, note that the $\\{{\\bf a}, d\\}$ parametrizations of the\n",
    "above transformations are\n",
    "\n",
    "$$\n",
    "\n",
    "\\begin{align*}\n",
    "a_{1A} = -\\sin\\alpha\\,,\\quad a_{3A} = \\cos\\alpha \\,,\\quad a_{2A} = d_A =0 \\\\ \n",
    "a_{1B} = a_{2B} = 0 \\,,\\quad a_{3B} = -\\sin(\\pi/5) \\,,\\quad d_B = \\cos(\\pi/5) \\,.\n",
    "\\end{align*}\n",
    "\n",
    "$$\n",
    "\n",
    "Recalling the composition property of the $d$ parameter, $d_C = -a_{1A} a_{1B} - a_{2A} a_{2B} - a_{3A} a_{3B} + d_A d_B$, we find that \n",
    "\n",
    "$$\n",
    "\n",
    "d_C = \\cos\\alpha\\,\\sin(\\pi/5) = \\cos(\\pi/3) = \\frac12\n",
    "\n",
    "$$\n",
    "\n",
    "for the composed transformation. Therfore, \n",
    "\n",
    "$$\n",
    "\n",
    "\\cos\\alpha = \\frac1{2\\,\\sin(\\pi/5)} \\,.\n",
    "\n",
    "$$"
   ]
  },
  {
   "cell_type": "markdown",
   "metadata": {},
   "source": [
    "Similarly,\n",
    "\n",
    "$$\n",
    "\n",
    "\\begin{align*}\n",
    "a_{1C} &= a_{1A} d_B + a_{1B} d_A - a_{2A} a_{3B} + a_{2B} a_{3A} = -\\sin\\alpha\\,\\cos(\\pi/5)\\\\\n",
    "a_{2C} &= a_{2A} d_B + a_{2B} d_A - a_{3A} a_{1B} + a_{3B} a_{1A} = \\sin\\alpha\\,\\sin(\\pi/5) \\\\\n",
    "a_{3C} &= a_{3A} d_B + a_{3B} d_A - a_{1A} a_{2B} + a_{1B} a_{2A} = \\cos\\alpha\\,\\cos(\\pi/5) \n",
    "\\end{align*}\n",
    "\n",
    "$$\n",
    "\n",
    "which together imply that \n",
    "\n",
    "$$\n",
    "\n",
    "{\\bf\\hat n}_3 = \\frac2{\\sqrt{3}}(-\\sin\\alpha\\,\\cos(\\pi/5), \\sin\\alpha\\,\\sin(\\pi/5), \\cos\\alpha\\,\\cos(\\pi/5)) \\,.\n",
    "\n",
    "$$\n",
    "\n",
    "(${\\bf\\hat n}_3$ is guaranteed to be unit-normalized whenever $\\alpha$ satisfies the condition above.)"
   ]
  },
  {
   "cell_type": "markdown",
   "metadata": {},
   "source": [
    "Moving to stereographically-projected coordinates, the vertex at ${\\bf\\hat n}_n$ is given by\n",
    "\n",
    "$$\n",
    "\n",
    "z_n := -\\frac{\\sin 2\\alpha}{(1-\\cos 2\\alpha)} = -\\cot\\alpha \\,.\n",
    "\n",
    "$$\n",
    "\n",
    "However, we will find that it is more convenient to instead write\n",
    "\n",
    "$$\n",
    "\n",
    "z_n = \\epsilon^2 + \\epsilon^3 \\,,\\quad{\\rm where}\\quad \\epsilon:=e^{2\\pi i /5} \\,,\n",
    "\n",
    "$$\n",
    "\n",
    "since the other four vertices related to $z_n$ under the five-fold symmetry\n",
    "transformation $V$ are given by\n",
    "\n",
    "$$\n",
    "\n",
    "z_k := \\epsilon^k\\,z_n \\,,\\quad k \\in \\{1, 2, 3, 4, 5\\} \\,.\n",
    "\n",
    "$$"
   ]
  },
  {
   "cell_type": "code",
   "execution_count": 21,
   "metadata": {},
   "outputs": [
    {
     "data": {
      "text/latex": [
       "$\\displaystyle 1.61803398874989$"
      ],
      "text/plain": [
       "1.61803398874989"
      ]
     },
     "execution_count": 21,
     "metadata": {},
     "output_type": "execute_result"
    }
   ],
   "source": [
    "(2 * cos(pi / 5)).evalf()"
   ]
  },
  {
   "cell_type": "code",
   "execution_count": 22,
   "metadata": {},
   "outputs": [
    {
     "data": {
      "text/latex": [
       "$\\displaystyle 1.61803398874989$"
      ],
      "text/plain": [
       "1.61803398874989"
      ]
     },
     "execution_count": 22,
     "metadata": {},
     "output_type": "execute_result"
    }
   ],
   "source": [
    "((1 + sqrt(5)) / 2).evalf()"
   ]
  },
  {
   "cell_type": "markdown",
   "metadata": {},
   "source": [
    "The equivalence of the two expressions above follows from the defining relation\n",
    "\n",
    "$$\n",
    "\n",
    "\\epsilon^5 = 1 \\quad\\implies\\quad \\epsilon + \\epsilon^2 + \\epsilon^3 + \\epsilon^4 + \\epsilon^5 = 0 \n",
    "\n",
    "$$\n",
    "\n",
    "which together imply that \n",
    "\n",
    "$$\n",
    "\n",
    "(\\epsilon^4 - \\epsilon)(\\epsilon^2 - \\epsilon^3) = \\epsilon + \\epsilon^4 - \\epsilon^2 - \\epsilon^3 = \\sqrt{5} \n",
    "\n",
    "$$\n",
    "\n",
    "(as can be checked by squaring the second equality above). Noting that $\\sin (\\pi/5) = (\\epsilon^2-\\epsilon^3)/2i$, the previous condition on $\\alpha$ becomes\n",
    "\n",
    "$$\n",
    "\n",
    "\\cos\\alpha = \\frac i{\\epsilon^2-\\epsilon^3} =\\frac i{\\sqrt{5}}(\\epsilon^4 - \\epsilon) \\quad\\implies\\quad \\sin\\alpha = \\frac i{\\sqrt{5}}(\\epsilon^3-\\epsilon^2)\n",
    "\n",
    "$$\n",
    "\n",
    "and so\n",
    "\n",
    "$$\n",
    "\n",
    "z_n = - \\cot\\alpha = \\frac{(\\epsilon - \\epsilon^4)}{(\\epsilon^3-\\epsilon^2)} \\times\\frac{(\\epsilon^2+\\epsilon^3)}{(\\epsilon^2+\\epsilon^3)} = \\epsilon^2+\\epsilon^3 \\,.\n",
    "\n",
    "$$"
   ]
  },
  {
   "cell_type": "markdown",
   "metadata": {},
   "source": [
    "Across from $z_n$ is an antipodal vertex $z_m:= -1/z_n$ given by\n",
    "\n",
    "$$\n",
    "\n",
    "z_m = -\\frac1{(\\epsilon^2+\\epsilon^3)} = \\frac{-1\\times(\\epsilon+\\epsilon^4)}{(\\epsilon^2+\\epsilon^3)(\\epsilon+\\epsilon^4)} = \\epsilon+\\epsilon^4 \\,.\n",
    "\n",
    "$$\n",
    "\n",
    "In addition to the vertices $z_0 = 0$, $z_\\infty = \\infty$ and the five $z_k$ (where $z_5 = z_n$), the remaining five are related to $z_m$ under the five-fold symmetry\n",
    "transformation $V$ as follows:\n",
    "\n",
    "$$\n",
    "\n",
    "z_k := \\epsilon^k\\,z_m \\,,\\quad k \\in \\{6, 7, 8, 9, 10\\} \n",
    "\n",
    "$$\n",
    "\n",
    "(where $z_{10} = z_m$, similarly to $z_n$)."
   ]
  },
  {
   "cell_type": "markdown",
   "metadata": {},
   "source": [
    "Relating $z_n$, $z_m$ back to to their explicit values, we see that \n",
    "\n",
    "$$\n",
    "\n",
    "z_n = - 2\\,\\cos\\pi/5 := -\\phi \\,,\\quad z_m = 2\\,\\cos 2\\pi/5 = \\phi^2- 2\n",
    "\n",
    "$$\n",
    "\n",
    "(where the last equality follows from the cosine half-angle formula). Recalling that $z_n$ and $z_m$ are antipodal, we see that $\\phi$ must satisfy\n",
    "\n",
    "$$\n",
    "\n",
    "z_n\\,z_m = -1 \\quad\\leftrightarrow\\quad (\\phi+1)(\\phi^2 - \\phi -1) =0 \\,.\n",
    "\n",
    "$$\n",
    "\n",
    "Therefore, $\\phi$ is the __golden ratio__: $\\phi = (1+\\sqrt{5})/2$ (since $\\phi$, by definition, is positive). Additionally, since the $\\epsilon$'s satisfy $\\sum_{k=1}^5\\epsilon^k = 0$, we find\n",
    "\n",
    "$$\n",
    "\n",
    "z_n + z_m + 1 =0 \\,,\\quad z_n^2+z_n-1=0\\,,\\quad z_m^2+z_m-1=0\\,,\n",
    "\n",
    "$$\n",
    "\n",
    "which is consistent with the above."
   ]
  },
  {
   "cell_type": "code",
   "execution_count": 23,
   "metadata": {},
   "outputs": [
    {
     "data": {
      "text/latex": [
       "$\\displaystyle \\left(u + 1\\right) \\left(u^{2} - u - 1\\right)$"
      ],
      "text/plain": [
       "(u + 1)*(u**2 - u - 1)"
      ]
     },
     "execution_count": 23,
     "metadata": {},
     "output_type": "execute_result"
    }
   ],
   "source": [
    "(u**3 - 2 * u - 1).factor()"
   ]
  },
  {
   "cell_type": "markdown",
   "metadata": {},
   "source": [
    "Lastly, the homogeneous transformation corresponding to the symmetry\n",
    "transformation $IV$ is given by\n",
    "\n",
    "$$\n",
    "\n",
    "\\begin{align*}\n",
    "u' = i\\,\\cos\\alpha \\, u - i\\,\\sin\\alpha\\,v &= \\frac1{\\sqrt{5}}\\left(\\epsilon - \\epsilon^4\\right) u +\\frac1{\\sqrt{5}}\\left(\\epsilon^3 - \\epsilon^2\\right) v \\\\\n",
    "v' = -i\\,\\sin\\alpha\\,u - i\\,\\cos\\alpha\\, v &= \\frac1{\\sqrt{5}}\\left(\\epsilon^3 - \\epsilon^2\\right) u -\\frac1{\\sqrt{5}}\\left(\\epsilon - \\epsilon^4\\right) v \\,,\n",
    "\\end{align*}\n",
    "\n",
    "$$\n",
    "\n",
    "whereas transformation $V$ corresponds to $u' = \\epsilon^{1/2}\\, u$, $v' = \\epsilon^{-1/2}\\, v$."
   ]
  },
  {
   "cell_type": "markdown",
   "metadata": {},
   "source": [
    "## Icosahedral Polynomial Invariants\n",
    "\n",
    "Multiplying together the homogeneous polynomials $(u-z_k\\,v)$ for\n",
    "$k\\in \\{0,1,\\ldots,10,\\infty\\}$, we find\n",
    "\n",
    "$$\n",
    "\n",
    "f(u,v) = \\prod_k\\left(u - z_k\\,v\\right) = uv\\left(u^{10}+11\\,u^5v^5-v^{10}\\right) \\,.\n",
    "\n",
    "$$"
   ]
  },
  {
   "cell_type": "code",
   "execution_count": 24,
   "metadata": {},
   "outputs": [
    {
     "data": {
      "text/latex": [
       "$\\displaystyle u v \\left(u - v \\left(e^{3} + e^{2}\\right)\\right) \\left(u - v \\left(e^{4} + e\\right)\\right) \\left(- e v \\left(e^{3} + e^{2}\\right) + u\\right) \\left(- e v \\left(e^{4} + e\\right) + u\\right) \\left(- e^{2} v \\left(e^{3} + e^{2}\\right) + u\\right) \\left(- e^{2} v \\left(e^{4} + e\\right) + u\\right) \\left(- e^{3} v \\left(e^{3} + e^{2}\\right) + u\\right) \\left(- e^{3} v \\left(e^{4} + e\\right) + u\\right) \\left(- e^{4} v \\left(e^{3} + e^{2}\\right) + u\\right) \\left(- e^{4} v \\left(e^{4} + e\\right) + u\\right)$"
      ],
      "text/plain": [
       "u*v*(u - v*(e**3 + e**2))*(u - v*(e**4 + e))*(-e*v*(e**3 + e**2) + u)*(-e*v*(e**4 + e) + u)*(-e**2*v*(e**3 + e**2) + u)*(-e**2*v*(e**4 + e) + u)*(-e**3*v*(e**3 + e**2) + u)*(-e**3*v*(e**4 + e) + u)*(-e**4*v*(e**3 + e**2) + u)*(-e**4*v*(e**4 + e) + u)"
      ]
     },
     "execution_count": 24,
     "metadata": {},
     "output_type": "execute_result"
    }
   ],
   "source": [
    "# Check of the above:\n",
    "from functools import reduce\n",
    "\n",
    "# e = exp(2 * pi * I / 5)\n",
    "e = symbols(\"e\")\n",
    "n = e**2 + e**3\n",
    "m = e + e**4\n",
    "\n",
    "iso_verts = []\n",
    "for i in range(5):\n",
    "    iso_verts.append(n * e**i)\n",
    "    iso_verts.append(m * e**i)\n",
    "\n",
    "f = u * v * reduce(lambda x, y: x * y, [u - x * v for x in iso_verts])\n",
    "f"
   ]
  },
  {
   "cell_type": "code",
   "execution_count": 187,
   "metadata": {},
   "outputs": [
    {
     "name": "stdout",
     "output_type": "stream",
     "text": [
      "done\n"
     ]
    },
    {
     "data": {
      "text/latex": [
       "$\\displaystyle u v \\left(u^{10} + 11 u^{5} v^{5} - v^{10}\\right)$"
      ],
      "text/plain": [
       "u*v*(u**10 + 11*u**5*v**5 - v**10)"
      ]
     },
     "execution_count": 187,
     "metadata": {},
     "output_type": "execute_result"
    }
   ],
   "source": [
    "def e_simp(expr, full=True, cleanup=True):\n",
    "    result = Poly(expr, e)\n",
    "    e_coeffs = reversed(result.all_coeffs())\n",
    "    simp_coeffs = [0] * 5\n",
    "    # enforce e**5 = 1\n",
    "    for i, coeff in enumerate(e_coeffs):\n",
    "        simp_coeffs[i % 5] += coeff\n",
    "    print(\"done\")\n",
    "    # enforce e**4 = - e**3 - e**2 - e - 1\n",
    "    if full:\n",
    "        simp_coeffs = [simp_coeffs[i] - simp_coeffs[4] for i in range(4)]\n",
    "    if cleanup:\n",
    "        return simplify(Poly.from_list(reversed(simp_coeffs), e).as_expr())\n",
    "    return Poly.from_list(reversed(simp_coeffs), e).as_expr()\n",
    "\n",
    "\n",
    "f = e_simp(f)\n",
    "f"
   ]
  },
  {
   "cell_type": "markdown",
   "metadata": {},
   "source": [
    "It should be straightforward to check that $f(u,v)$ is indeed a polynomial\n",
    "invariant under transformations $IV$, $V$:\n",
    "\n",
    "$$\n",
    "\n",
    "f(u',v') = f(u,v) \\,.\n",
    "\n",
    "$$"
   ]
  },
  {
   "cell_type": "code",
   "execution_count": 26,
   "metadata": {},
   "outputs": [
    {
     "name": "stdout",
     "output_type": "stream",
     "text": [
      "f_prime=u*v*(u**10 + 11*u**5*v**5 - v**10)\n"
     ]
    },
    {
     "data": {
      "text/plain": [
       "True"
      ]
     },
     "execution_count": 26,
     "metadata": {},
     "output_type": "execute_result"
    }
   ],
   "source": [
    "# Check of the above:\n",
    "orth = 1 / sqrt(5) * Matrix([[e - e**4, e**3 - e**2], [e**3 - e**2, e**4 - e]])\n",
    "u, v = symbols(\"u v\")\n",
    "U, V = symbols(\"U V\")\n",
    "uv = Matrix([u, v])\n",
    "\n",
    "uv_prime = orth * uv\n",
    "\n",
    "f_prime = f.subs([(u, U), (v, V)]).subs([(U, uv_prime[0]), (V, uv_prime[1])])\n",
    "f_prime = e_simp(f_prime)\n",
    "print(f\"{f_prime=}\")\n",
    "e_simp(f_prime).equals(f)"
   ]
  },
  {
   "cell_type": "markdown",
   "metadata": {},
   "source": [
    "Computing the Hessian of $f$, we find ${\\rm Hess}[f](u,v) = 121\\,H(u,v)$ where\n",
    "\n",
    "$$\n",
    "\n",
    "H(u,v) := -u^{20} - v^{20} + 228\\left(u^{15}\\,v^5-u^5\\,v^{15}\\right)-494\\,u^{10}\\,v^{10} \\,.\n",
    "\n",
    "$$"
   ]
  },
  {
   "cell_type": "code",
   "execution_count": 27,
   "metadata": {},
   "outputs": [
    {
     "data": {
      "text/latex": [
       "$\\displaystyle \\frac{2 i e^{3} + e^{2} \\left(-1 + 2 i\\right) + e \\left(-2 + i\\right) - 1}{e \\left(e^{2} + e + 1\\right)}$"
      ],
      "text/plain": [
       "(2*I*e**3 + e**2*(-1 + 2*I) + e*(-2 + I) - 1)/(e*(e**2 + e + 1))"
      ]
     },
     "execution_count": 27,
     "metadata": {},
     "output_type": "execute_result"
    }
   ],
   "source": [
    "r = (e - e**4) * I + e**2 + e**3\n",
    "\n",
    "\n",
    "def rot3(z):\n",
    "    return ((e - e**3) * z - (1 - e**4)) / ((1 - e) * z + e**4 - e**2)\n",
    "\n",
    "\n",
    "simplify(simplify(rot3(r)).subs(e**5, 1).subs(e**4, -(e**3) - e**2 - e - 1))"
   ]
  },
  {
   "cell_type": "code",
   "execution_count": 28,
   "metadata": {},
   "outputs": [
    {
     "data": {
      "text/latex": [
       "$\\displaystyle a^{5} u^{5} + b^{5} v^{5}$"
      ],
      "text/plain": [
       "a**5*u**5 + b**5*v**5"
      ]
     },
     "execution_count": 28,
     "metadata": {},
     "output_type": "execute_result"
    }
   ],
   "source": [
    "a, b = symbols(\"a b\")\n",
    "expr = reduce(lambda x, y: x * y, [e**k * a * u + b * v for k in range(5)])\n",
    "e_simp(expr)"
   ]
  },
  {
   "cell_type": "code",
   "execution_count": 29,
   "metadata": {},
   "outputs": [
    {
     "data": {
      "text/latex": [
       "$\\displaystyle - \\frac{5 e^{3} \\cdot \\left(42 - 325 i\\right)}{8} - \\frac{5 e^{2} \\cdot \\left(777 - 650 i\\right)}{16} - \\frac{4305 e}{16} - \\frac{4305}{32} - \\frac{875 i}{16}$"
      ],
      "text/plain": [
       "-5*e**3*(42 - 325*I)/8 - 5*e**2*(777 - 650*I)/16 - 4305*e/16 - 4305/32 - 875*I/16"
      ]
     },
     "execution_count": 29,
     "metadata": {},
     "output_type": "execute_result"
    }
   ],
   "source": [
    "r = ((e**2 - e**3) * I + (e**2 + e**3) / 2) * (e - e**4)\n",
    "e_simp(r**5)"
   ]
  },
  {
   "cell_type": "code",
   "execution_count": 30,
   "metadata": {},
   "outputs": [
    {
     "data": {
      "text/latex": [
       "$\\displaystyle 15 e^{3} - 5 e^{2} + 10 e + 5$"
      ],
      "text/plain": [
       "15*e**3 - 5*e**2 + 10*e + 5"
      ]
     },
     "execution_count": 30,
     "metadata": {},
     "output_type": "execute_result"
    }
   ],
   "source": [
    "s = e**3 - e**2\n",
    "e_simp(s**5)"
   ]
  },
  {
   "cell_type": "code",
   "execution_count": 31,
   "metadata": {},
   "outputs": [
    {
     "data": {
      "text/latex": [
       "$\\displaystyle a_{0} b_{0} + a_{1} b_{4} + a_{2} b_{3} + a_{3} b_{2} + a_{4} b_{1} + e^{4} \\left(a_{0} b_{4} + a_{1} b_{3} + a_{2} b_{2} + a_{3} b_{1} + a_{4} b_{0}\\right) + e^{3} \\left(a_{0} b_{3} + a_{1} b_{2} + a_{2} b_{1} + a_{3} b_{0} + a_{4} b_{4}\\right) + e^{2} \\left(a_{0} b_{2} + a_{1} b_{1} + a_{2} b_{0} + a_{3} b_{4} + a_{4} b_{3}\\right) + e \\left(a_{0} b_{1} + a_{1} b_{0} + a_{2} b_{4} + a_{3} b_{3} + a_{4} b_{2}\\right)$"
      ],
      "text/plain": [
       "a0*b0 + a1*b4 + a2*b3 + a3*b2 + a4*b1 + e**4*(a0*b4 + a1*b3 + a2*b2 + a3*b1 + a4*b0) + e**3*(a0*b3 + a1*b2 + a2*b1 + a3*b0 + a4*b4) + e**2*(a0*b2 + a1*b1 + a2*b0 + a3*b4 + a4*b3) + e*(a0*b1 + a1*b0 + a2*b4 + a3*b3 + a4*b2)"
      ]
     },
     "execution_count": 31,
     "metadata": {},
     "output_type": "execute_result"
    }
   ],
   "source": [
    "aes = symbols(\"a0 a1 a2 a3 a4\")\n",
    "bs = symbols(\"b0 b1 b2 b3 b4\")\n",
    "\n",
    "\n",
    "def list_mult(vals):\n",
    "    return reduce(lambda x, y: x * y, vals)\n",
    "\n",
    "\n",
    "e_simp(\n",
    "    reduce(lambda x, y: x + y, [aes[k] * e**k for k in range(5)])\n",
    "    * reduce(lambda x, y: x + y, [bs[k] * e**k for k in range(5)]),\n",
    "    full=False,\n",
    ")"
   ]
  },
  {
   "cell_type": "markdown",
   "metadata": {},
   "source": [
    "## The Rotated Octahedron\n",
    "\n",
    "Earlier, we demonstrated the that function $t(u,v) = u^5\\,v-u\\,v^5$ was an\n",
    "absolute invariant under tetrahedral symmetry, and that its square was an\n",
    "absolute invariant under octahedral symmetry. We now wish to consider how this\n",
    "particular product of roots changes under a rotation of the octahedron about its\n",
    "centre. \n",
    "\n",
    "To this end, consider the rotated points $z'_k$, related to $z_k \\in \\{0,\n",
    "\\infty, \\pm 1,\\pm i\\}$ by\n",
    "\n",
    "$$\n",
    "\n",
    "z'_k(\\alpha, \\theta) = e^{i\\,\\theta}\\left[\\frac{\\cos(\\alpha/2)\\,z_k+\\sin(\\alpha/2)}{-\\sin(\\alpha/2)\\,z_k + \\cos(\\alpha/2)}\\right]\\,.\n",
    "\n",
    "$$\n",
    "\n",
    "(The rotation above corresponds to a rotation about the $\\eta$ axis by an angle $\\alpha$, followed by a rotation about the $\\zeta$ axis by an angle $\\theta$.) Computing the product $t'(u,v) := \\prod_{k}(u-z_k'\\,v)$ we find\n",
    "\n",
    "$$\n",
    "\n",
    "\\begin{align*}\n",
    "t'(u,v, \\tan(2\\alpha), e^{i\\theta}) &= u^6 + \\frac{4\\,u^5\\,v\\,e^{i\\theta}}{\\tan(2\\alpha)}-5\\,u^4\\,v^2\\,e^{2\\,i\\theta} \\\\\n",
    "&-\n",
    "5\\,u^2\\,v^4\\,e^{4\\,i\\theta} - \\frac{4\\,u\\,v^5\\,e^{5\\,i\\theta}}{\\tan(2\\alpha)} + v^6\\,e^{6\\,i\\theta} \\,.\n",
    "\\end{align*}\n",
    "\n",
    "$$\n",
    "\n",
    "Note that the original expression for $t(u,v)$ arises only in the singular limit\n",
    "$\\alpha\\to 0$."
   ]
  },
  {
   "cell_type": "code",
   "execution_count": 80,
   "metadata": {},
   "outputs": [
    {
     "data": {
      "text/latex": [
       "$\\displaystyle p^{6} v^{6} - \\frac{4 p^{5} u v^{5}}{\\tan{\\left(2 \\alpha \\right)}} - 5 p^{4} u^{2} v^{4} - 5 p^{2} u^{4} v^{2} + \\frac{4 p u^{5} v}{\\tan{\\left(2 \\alpha \\right)}} + u^{6}$"
      ],
      "text/plain": [
       "p**6*v**6 - 4*p**5*u*v**5/tan(2*alpha) - 5*p**4*u**2*v**4 - 5*p**2*u**4*v**2 + 4*p*u**5*v/tan(2*alpha) + u**6"
      ]
     },
     "execution_count": 80,
     "metadata": {},
     "output_type": "execute_result"
    }
   ],
   "source": [
    "# Check of the above:\n",
    "def reduce_multiply(any_list):\n",
    "    return reduce(lambda x, y: x * y, any_list)\n",
    "\n",
    "\n",
    "zs = [0, oo, 1, -1, I, -I]\n",
    "\n",
    "\n",
    "def rotate(z, alpha, prephase=1):\n",
    "    if z is oo:\n",
    "        return -cos(alpha / 2) / sin(alpha / 2)\n",
    "    return (cos(alpha / 2) * prephase * z + sin(alpha / 2)) / (\n",
    "        -sin(alpha / 2) * prephase * z + cos(alpha / 2)\n",
    "    )\n",
    "\n",
    "\n",
    "alpha, p, w = symbols(\"alpha p w\")\n",
    "\n",
    "\n",
    "zps = [rotate(z, alpha) for z in zs]\n",
    "\n",
    "\n",
    "tp = reduce_multiply([u - p * z * v for z in zps])\n",
    "tp = simplify(tp.expand())\n",
    "tp"
   ]
  },
  {
   "cell_type": "code",
   "execution_count": 33,
   "metadata": {},
   "outputs": [
    {
     "data": {
      "text/latex": [
       "$\\displaystyle p^{6} v^{6} - \\frac{4 p^{5} u v^{5}}{w} - 5 p^{4} u^{2} v^{4} - 5 p^{2} u^{4} v^{2} + \\frac{4 p u^{5} v}{w} + u^{6}$"
      ],
      "text/plain": [
       "p**6*v**6 - 4*p**5*u*v**5/w - 5*p**4*u**2*v**4 - 5*p**2*u**4*v**2 + 4*p*u**5*v/w + u**6"
      ]
     },
     "execution_count": 33,
     "metadata": {},
     "output_type": "execute_result"
    }
   ],
   "source": [
    "tp = tp.subs(tan(2 * alpha), w)\n",
    "tp"
   ]
  },
  {
   "cell_type": "code",
   "execution_count": 34,
   "metadata": {},
   "outputs": [
    {
     "data": {
      "text/latex": [
       "$\\displaystyle \\left(u^{2} + v^{2}\\right) \\left(u^{4} + 2 u^{3} v - 6 u^{2} v^{2} - 2 u v^{3} + v^{4}\\right)$"
      ],
      "text/plain": [
       "(u**2 + v**2)*(u**4 + 2*u**3*v - 6*u**2*v**2 - 2*u*v**3 + v**4)"
      ]
     },
     "execution_count": 34,
     "metadata": {},
     "output_type": "execute_result"
    }
   ],
   "source": [
    "tp.subs(w, 2).subs(p, 1).factor()"
   ]
  },
  {
   "cell_type": "code",
   "execution_count": 35,
   "metadata": {},
   "outputs": [
    {
     "data": {
      "text/latex": [
       "$\\displaystyle u^{4} + 2 u^{3} v - 6 u^{2} v^{2} - 2 u v^{3} + v^{4}$"
      ],
      "text/plain": [
       "u**4 + 2*u**3*v - 6*u**2*v**2 - 2*u*v**3 + v**4"
      ]
     },
     "execution_count": 35,
     "metadata": {},
     "output_type": "execute_result"
    }
   ],
   "source": [
    "e_simp(\n",
    "    (\n",
    "        (u**2 - 2 * (e**2 + e**3) * u * v - v**2)\n",
    "        * (u**2 - 2 * (e + e**4) * u * v - v**2)\n",
    "    ).expand()\n",
    ")"
   ]
  },
  {
   "cell_type": "markdown",
   "metadata": {},
   "source": [
    "### TODO: add note explaining particular case where $\\tan(2\\alpha)=2$\n",
    "\n",
    "In this case,\n",
    "\n",
    "$$\n",
    "\n",
    "t'(u,v,2,0) = (u^2+v^2)(u^2-2z_m\\,uv-v^2)(u^2-2z_n\\,uv-v^2)\n",
    "\n",
    "$$\n"
   ]
  },
  {
   "cell_type": "markdown",
   "metadata": {},
   "source": [
    "## Icosahedral Edge Midpoints\n",
    "\n",
    "If we now consider the product of 5 such functions, representing the 30 edge\n",
    "midpoints of the icosahedron, with each inscribed octahedron rotated by $e^{2\\pi\n",
    "i/5}$ relative to one another, we find (introducing $w$ as a stand-in for $\\tan(2\\alpha)$)\n",
    "\n",
    "$$\n",
    "\n",
    "\\begin{align*}\n",
    "T(u,v,w) &:= \\prod_{k=0}^4 t'(u,v,w, e^{2\\pi i k/5}) \\\\\n",
    "&= u^{30} + \\left(\\frac{ 580\\, w^4 + 1600 \\, w^2 + 1024 }{w^5}\\right)\\left(u^{25}\\,v^5-u^5\\,v^{25}\\right) \\\\\n",
    "&- \\left(\\frac{ 6725 \\,w^4 +11840 \\,w^2 + 5120 }{w^4}\\right)\\left(u^{20}\\,v^{10} + u^{10}\\,v^{20}\\right)  + v^{30} \\,.\n",
    "\n",
    "\\end{align*}\n",
    "\n",
    "$$"
   ]
  },
  {
   "cell_type": "code",
   "execution_count": 36,
   "metadata": {},
   "outputs": [
    {
     "data": {
      "text/latex": [
       "$\\displaystyle u^{30} + \\frac{u^{25} \\cdot \\left(580 v^{5} w^{4} + 1600 v^{5} w^{2} + 1024 v^{5}\\right)}{w^{5}} + \\frac{u^{20} \\left(- 6725 v^{10} w^{4} - 11840 v^{10} w^{2} - 5120 v^{10}\\right)}{w^{4}} + \\frac{u^{10} \\left(- 6725 v^{20} w^{4} - 11840 v^{20} w^{2} - 5120 v^{20}\\right)}{w^{4}} + \\frac{u^{5} \\left(- 580 v^{25} w^{4} - 1600 v^{25} w^{2} - 1024 v^{25}\\right)}{w^{5}} + v^{30}$"
      ],
      "text/plain": [
       "u**30 + u**25*(580*v**5*w**4 + 1600*v**5*w**2 + 1024*v**5)/w**5 + u**20*(-6725*v**10*w**4 - 11840*v**10*w**2 - 5120*v**10)/w**4 + u**10*(-6725*v**20*w**4 - 11840*v**20*w**2 - 5120*v**20)/w**4 + u**5*(-580*v**25*w**4 - 1600*v**25*w**2 - 1024*v**25)/w**5 + v**30"
      ]
     },
     "execution_count": 36,
     "metadata": {},
     "output_type": "execute_result"
    }
   ],
   "source": [
    "# Check of the above:\n",
    "factors = [tp.subs(p, e**k) for k in range(5)]\n",
    "result = reduce_multiply(factors)\n",
    "\n",
    "result = Poly(result, u)\n",
    "\n",
    "\n",
    "new_coeffs = []\n",
    "\n",
    "\n",
    "for coeff in result.all_coeffs():\n",
    "    new_coeffs.append(e_simp(coeff))\n",
    "\n",
    "\n",
    "result = Poly.from_list(new_coeffs, u).as_expr()\n",
    "result"
   ]
  },
  {
   "cell_type": "markdown",
   "metadata": {},
   "source": [
    "Lastly, recognizing that the icosahedral edge midpoints are located at \n",
    "\n",
    "$$\n",
    "\n",
    "\\cos\\alpha = \\frac1{2\\,\\sin(\\pi/5)} \\quad\\leftrightarrow\\quad \\cot\\alpha = \\phi \\,,\n",
    "\n",
    "\n",
    "$$\n",
    "\n",
    "we find that $\\tan(2\\alpha) = 2\\phi/(\\phi^2-1) = 2$ and so\n",
    "\n",
    "$$\n",
    "\n",
    "\\begin{align*}\n",
    "T(u,v) := T(u,v, 2) &= u^{30} +522\\left(u^{25}\\,v^5-u^5\\,v^{25}\\right) \\\\\n",
    "&- 10005\\left(u^{20}\\,v^{10} + u^{10}\\,v^{20}\\right) + v^{30} \\,.\n",
    "\\end{align*}\n",
    "\n",
    "$$"
   ]
  },
  {
   "cell_type": "code",
   "execution_count": 37,
   "metadata": {},
   "outputs": [
    {
     "name": "stdout",
     "output_type": "stream",
     "text": [
      "2\n"
     ]
    },
    {
     "data": {
      "text/latex": [
       "$\\displaystyle u^{30} + 522 u^{25} v^{5} - 10005 u^{20} v^{10} - 10005 u^{10} v^{20} - 522 u^{5} v^{25} + v^{30}$"
      ],
      "text/plain": [
       "u**30 + 522*u**25*v**5 - 10005*u**20*v**10 - 10005*u**10*v**20 - 522*u**5*v**25 + v**30"
      ]
     },
     "execution_count": 37,
     "metadata": {},
     "output_type": "execute_result"
    }
   ],
   "source": [
    "# Check of the above:\n",
    "phi = symbols(\"phi\")\n",
    "print(simplify((2 * phi / (phi**2 - 1)).subs(phi, (1 + sqrt(5)) / 2)))\n",
    "\n",
    "simplify(result.subs(w, 2))"
   ]
  },
  {
   "cell_type": "code",
   "execution_count": 38,
   "metadata": {},
   "outputs": [
    {
     "data": {
      "text/latex": [
       "$\\displaystyle \\left(u^{2} + v^{2}\\right) \\left(u^{4} + 2 u^{3} v - 6 u^{2} v^{2} - 2 u v^{3} + v^{4}\\right) \\left(u^{8} - u^{6} v^{2} + u^{4} v^{4} - u^{2} v^{6} + v^{8}\\right) \\left(u^{8} - 6 u^{7} v + 17 u^{6} v^{2} - 18 u^{5} v^{3} + 25 u^{4} v^{4} + 18 u^{3} v^{5} + 17 u^{2} v^{6} + 6 u v^{7} + v^{8}\\right) \\left(u^{8} + 4 u^{7} v + 17 u^{6} v^{2} + 22 u^{5} v^{3} + 5 u^{4} v^{4} - 22 u^{3} v^{5} + 17 u^{2} v^{6} - 4 u v^{7} + v^{8}\\right)$"
      ],
      "text/plain": [
       "(u**2 + v**2)*(u**4 + 2*u**3*v - 6*u**2*v**2 - 2*u*v**3 + v**4)*(u**8 - u**6*v**2 + u**4*v**4 - u**2*v**6 + v**8)*(u**8 - 6*u**7*v + 17*u**6*v**2 - 18*u**5*v**3 + 25*u**4*v**4 + 18*u**3*v**5 + 17*u**2*v**6 + 6*u*v**7 + v**8)*(u**8 + 4*u**7*v + 17*u**6*v**2 + 22*u**5*v**3 + 5*u**4*v**4 - 22*u**3*v**5 + 17*u**2*v**6 - 4*u*v**7 + v**8)"
      ]
     },
     "execution_count": 38,
     "metadata": {},
     "output_type": "execute_result"
    }
   ],
   "source": [
    "_.factor()"
   ]
  },
  {
   "cell_type": "code",
   "execution_count": 39,
   "metadata": {},
   "outputs": [
    {
     "name": "stdout",
     "output_type": "stream",
     "text": [
      "[sin(alpha/2)/cos(alpha/2), -cos(alpha/2)/sin(alpha/2), (sin(alpha/2) + cos(alpha/2))/(-sin(alpha/2) + cos(alpha/2)), (sin(alpha/2) - cos(alpha/2))/(sin(alpha/2) + cos(alpha/2)), (sin(alpha/2) + I*cos(alpha/2))/(-I*sin(alpha/2) + cos(alpha/2)), (sin(alpha/2) - I*cos(alpha/2))/(I*sin(alpha/2) + cos(alpha/2))]\n"
     ]
    },
    {
     "data": {
      "text/latex": [
       "$\\displaystyle u^{6} + \\frac{4 u^{5} v}{\\tan{\\left(2 \\alpha \\right)}} - 5 u^{4} v^{2} - 5 u^{2} v^{4} - \\frac{4 u v^{5}}{\\tan{\\left(2 \\alpha \\right)}} + v^{6}$"
      ],
      "text/plain": [
       "u**6 + 4*u**5*v/tan(2*alpha) - 5*u**4*v**2 - 5*u**2*v**4 - 4*u*v**5/tan(2*alpha) + v**6"
      ]
     },
     "execution_count": 39,
     "metadata": {},
     "output_type": "execute_result"
    }
   ],
   "source": [
    "zps = [rotate(z, alpha) for z in zs]\n",
    "print(zps)\n",
    "tp = reduce_multiply([u - z * v for z in zps])\n",
    "tp = simplify(tp.expand())\n",
    "tp"
   ]
  },
  {
   "cell_type": "code",
   "execution_count": 40,
   "metadata": {},
   "outputs": [
    {
     "data": {
      "text/latex": [
       "$\\displaystyle \\left(u^{2} + v^{2}\\right) \\left(u^{2} - 2 u v - v^{2}\\right) \\left(u^{2} + 2 u v - v^{2}\\right)$"
      ],
      "text/plain": [
       "(u**2 + v**2)*(u**2 - 2*u*v - v**2)*(u**2 + 2*u*v - v**2)"
      ]
     },
     "execution_count": 40,
     "metadata": {},
     "output_type": "execute_result"
    }
   ],
   "source": [
    "tp.subs(alpha, pi / 4).factor()"
   ]
  },
  {
   "cell_type": "code",
   "execution_count": 42,
   "metadata": {},
   "outputs": [
    {
     "data": {
      "text/latex": [
       "$\\displaystyle c_{5} \\left(c_{5}^{2} ca^{3} + c_{5} ca^{3} - 2 c_{5} ca^{2} - c_{5} ca + ca^{3} - ca^{2} + 1\\right)$"
      ],
      "text/plain": [
       "c5*(c5**2*ca**3 + c5*ca**3 - 2*c5*ca**2 - c5*ca + ca**3 - ca**2 + 1)"
      ]
     },
     "execution_count": 42,
     "metadata": {},
     "output_type": "execute_result"
    }
   ],
   "source": [
    "ca, c5, sa, s5 = symbols(\"ca c5 sa s5\")\n",
    "(\n",
    "    -ca * c5**2\n",
    "    + c5\n",
    "    + ca**3 * c5**2\n",
    "    - c5 * ca**2\n",
    "    + ca**3 * c5\n",
    "    + ca**3 * c5**3\n",
    "    - 2 * ca**2 * c5**2\n",
    ").factor()"
   ]
  },
  {
   "cell_type": "code",
   "execution_count": 43,
   "metadata": {},
   "outputs": [
    {
     "data": {
      "text/latex": [
       "$\\displaystyle \\frac{\\left(- \\frac{\\sqrt{5}}{2} - \\frac{1}{2}\\right) \\left(c_{5} ca - \\frac{\\sqrt{3}}{2}\\right)}{sa \\left(1 + \\frac{\\left(c_{5} ca - \\frac{\\sqrt{3}}{2}\\right)^{2}}{sa^{2}}\\right)}$"
      ],
      "text/plain": [
       "(-sqrt(5)/2 - 1/2)*(c5*ca - sqrt(3)/2)/(sa*(1 + (c5*ca - sqrt(3)/2)**2/sa**2))"
      ]
     },
     "execution_count": 43,
     "metadata": {},
     "output_type": "execute_result"
    }
   ],
   "source": [
    "k = 3\n",
    "xi = (\n",
    "    2\n",
    "    * cos(2 * k * pi / 5)\n",
    "    * (ca * c5 - sqrt(3) / 2)\n",
    "    / sa\n",
    "    / (1 + (ca * c5 - sqrt(3) / 2) ** 2 / sa**2)\n",
    ")\n",
    "eta = (\n",
    "    2\n",
    "    * sin(2 * k * pi / 5)\n",
    "    * (ca * c5 - sqrt(3) / 2)\n",
    "    / sa\n",
    "    / (1 + (ca * c5 - sqrt(3) / 2) ** 2 / sa**2)\n",
    ")\n",
    "zeta = -(1 - (ca * c5 - sqrt(3) / 2) ** 2 / sa**2) / (\n",
    "    1 + (ca * c5 - sqrt(3) / 2) ** 2 / sa**2\n",
    ")\n",
    "xi"
   ]
  },
  {
   "cell_type": "code",
   "execution_count": 44,
   "metadata": {},
   "outputs": [
    {
     "data": {
      "text/latex": [
       "$\\displaystyle \\frac{-1 + \\frac{\\left(c_{5} ca - \\frac{\\sqrt{3}}{2}\\right)^{2}}{sa^{2}}}{1 + \\frac{\\left(c_{5} ca - \\frac{\\sqrt{3}}{2}\\right)^{2}}{sa^{2}}}$"
      ],
      "text/plain": [
       "(-1 + (c5*ca - sqrt(3)/2)**2/sa**2)/(1 + (c5*ca - sqrt(3)/2)**2/sa**2)"
      ]
     },
     "execution_count": 44,
     "metadata": {},
     "output_type": "execute_result"
    }
   ],
   "source": [
    "zeta"
   ]
  },
  {
   "cell_type": "code",
   "execution_count": 45,
   "metadata": {},
   "outputs": [
    {
     "data": {
      "text/latex": [
       "$\\displaystyle - \\frac{1}{3}$"
      ],
      "text/plain": [
       "-1/3"
      ]
     },
     "execution_count": 45,
     "metadata": {},
     "output_type": "execute_result"
    }
   ],
   "source": [
    "expr = 2 / sqrt(3) * (xi * sa + zeta * ca * c5)\n",
    "simplify(\n",
    "    expr.subs(ca, phi / sqrt(1 + phi**2))\n",
    "    .subs(sa, 1 / sqrt(1 + phi**2))\n",
    "    .subs(c5, cos(pi / 5))\n",
    "    .expand()\n",
    "    .subs(phi, (1 + sqrt(5)) / 2)\n",
    ")"
   ]
  },
  {
   "cell_type": "code",
   "execution_count": 47,
   "metadata": {},
   "outputs": [
    {
     "data": {
      "text/latex": [
       "$\\displaystyle 1.0$"
      ],
      "text/plain": [
       "1.00000000000000"
      ]
     },
     "execution_count": 47,
     "metadata": {},
     "output_type": "execute_result"
    }
   ],
   "source": [
    "expr2 = xi**2 + eta**2 + zeta**2\n",
    "expr2.subs(ca, phi / sqrt(1 + phi**2)).subs(sa, 1 / sqrt(1 + phi**2)).subs(\n",
    "    s5, sin(pi / 5)\n",
    ").subs(c5, cos(pi / 5)).subs(phi, (1 + sqrt(5)) / 2).evalf()"
   ]
  },
  {
   "cell_type": "code",
   "execution_count": 48,
   "metadata": {},
   "outputs": [
    {
     "data": {
      "text/latex": [
       "$\\displaystyle 1.0$"
      ],
      "text/plain": [
       "1.00000000000000"
      ]
     },
     "execution_count": 48,
     "metadata": {},
     "output_type": "execute_result"
    }
   ],
   "source": [
    "expr3 = 4 / 3 * (sa**2 + (ca * c5) ** 2)\n",
    "expr3.subs(ca, phi / sqrt(1 + phi**2)).subs(sa, 1 / sqrt(1 + phi**2)).subs(\n",
    "    s5, sin(pi / 5)\n",
    ").subs(c5, cos(pi / 5)).subs(phi, (1 + sqrt(5)) / 2).evalf()"
   ]
  },
  {
   "cell_type": "code",
   "execution_count": 49,
   "metadata": {},
   "outputs": [
    {
     "data": {
      "text/latex": [
       "$\\displaystyle 0.933879816365261$"
      ],
      "text/plain": [
       "0.933879816365261"
      ]
     },
     "execution_count": 49,
     "metadata": {},
     "output_type": "execute_result"
    }
   ],
   "source": [
    "ck, sk, cd, sd = symbols(\"ck sk cd sd\")\n",
    "expr3 = (ck * sd + sk * cd) * xi + (ck * cd - sk * sd) * zeta\n",
    "simplify(\n",
    "    expr3.subs(ca, phi / sqrt(1 + phi**2))\n",
    "    .subs(sa, 1 / sqrt(1 + phi**2))\n",
    "    .subs(ck, (1 + phi) / sqrt(3 * (2 + phi)))\n",
    "    .subs(c5, cos(pi / 5))\n",
    "    .subs(sk, 2 / sqrt(3 * (2 + phi)))\n",
    "    .expand()\n",
    "    .subs(sd, sqrt(1 - 1 / 9))\n",
    "    .subs(cd, -1 / 3)\n",
    "    .subs(phi, (1 + sqrt(5)) / 2)\n",
    ").evalf()"
   ]
  },
  {
   "cell_type": "code",
   "execution_count": 50,
   "metadata": {},
   "outputs": [
    {
     "data": {
      "text/latex": [
       "$\\displaystyle 0.365682805840377$"
      ],
      "text/plain": [
       "0.365682805840377"
      ]
     },
     "execution_count": 50,
     "metadata": {},
     "output_type": "execute_result"
    }
   ],
   "source": [
    "from sympy import acos\n",
    "\n",
    "\n",
    "acos(_).evalf()"
   ]
  },
  {
   "cell_type": "code",
   "execution_count": 51,
   "metadata": {},
   "outputs": [
    {
     "data": {
      "text/latex": [
       "$\\displaystyle 0.11640045230642$"
      ],
      "text/plain": [
       "0.116400452306420"
      ]
     },
     "execution_count": 51,
     "metadata": {},
     "output_type": "execute_result"
    }
   ],
   "source": [
    "(_ / pi).evalf()"
   ]
  },
  {
   "cell_type": "code",
   "execution_count": 52,
   "metadata": {},
   "outputs": [
    {
     "data": {
      "text/latex": [
       "$\\displaystyle 0.1164$"
      ],
      "text/plain": [
       "0.116400000000000"
      ]
     },
     "execution_count": 52,
     "metadata": {},
     "output_type": "execute_result"
    }
   ],
   "source": [
    "simplify(11640 / 100000)"
   ]
  },
  {
   "cell_type": "code",
   "execution_count": 53,
   "metadata": {},
   "outputs": [
    {
     "data": {
      "text/latex": [
       "$\\displaystyle p^{4} v^{4} - 2 \\sqrt{3} i p^{2} u^{2} v^{2} + u^{4}$"
      ],
      "text/plain": [
       "p**4*v**4 - 2*sqrt(3)*I*p**2*u**2*v**2 + u**4"
      ]
     },
     "execution_count": 53,
     "metadata": {},
     "output_type": "execute_result"
    }
   ],
   "source": [
    "ks = [sp1, sp2, sp3, sp4]\n",
    "phi = reduce_multiply([u - p * z * v for z in ks])\n",
    "phi = simplify(phi.expand())\n",
    "phi"
   ]
  },
  {
   "cell_type": "code",
   "execution_count": 81,
   "metadata": {},
   "outputs": [],
   "source": [
    "q = symbols(\"q\")"
   ]
  },
  {
   "cell_type": "code",
   "execution_count": 190,
   "metadata": {},
   "outputs": [
    {
     "name": "stdout",
     "output_type": "stream",
     "text": [
      "done\n",
      "done\n",
      "done\n"
     ]
    },
    {
     "ename": "KeyboardInterrupt",
     "evalue": "",
     "output_type": "error",
     "traceback": [
      "\u001b[1;31m---------------------------------------------------------------------------\u001b[0m",
      "\u001b[1;31mKeyboardInterrupt\u001b[0m                         Traceback (most recent call last)",
      "Cell \u001b[1;32mIn[190], line 18\u001b[0m\n\u001b[0;32m     16\u001b[0m phip \u001b[38;5;241m=\u001b[39m reduce_multiply([u \u001b[38;5;241m-\u001b[39m p \u001b[38;5;241m*\u001b[39m z \u001b[38;5;241m*\u001b[39m v \u001b[38;5;28;01mfor\u001b[39;00m z \u001b[38;5;129;01min\u001b[39;00m kps])\n\u001b[0;32m     17\u001b[0m phip \u001b[38;5;241m=\u001b[39m phip\u001b[38;5;241m.\u001b[39mexpand()\n\u001b[1;32m---> 18\u001b[0m \u001b[43mphip\u001b[49m\u001b[38;5;241;43m.\u001b[39;49m\u001b[43mfactor\u001b[49m\u001b[43m(\u001b[49m\u001b[43m)\u001b[49m\n",
      "File \u001b[1;32mc:\\Users\\mwkte\\dev\\ag_notes\\.venv\\Lib\\site-packages\\sympy\\core\\expr.py:3786\u001b[0m, in \u001b[0;36mExpr.factor\u001b[1;34m(self, *gens, **args)\u001b[0m\n\u001b[0;32m   3784\u001b[0m \u001b[38;5;250m\u001b[39m\u001b[38;5;124;03m\"\"\"See the factor() function in sympy.polys.polytools\"\"\"\u001b[39;00m\n\u001b[0;32m   3785\u001b[0m \u001b[38;5;28;01mfrom\u001b[39;00m \u001b[38;5;21;01msympy\u001b[39;00m\u001b[38;5;21;01m.\u001b[39;00m\u001b[38;5;21;01mpolys\u001b[39;00m\u001b[38;5;21;01m.\u001b[39;00m\u001b[38;5;21;01mpolytools\u001b[39;00m \u001b[38;5;28;01mimport\u001b[39;00m factor\n\u001b[1;32m-> 3786\u001b[0m \u001b[38;5;28;01mreturn\u001b[39;00m \u001b[43mfactor\u001b[49m\u001b[43m(\u001b[49m\u001b[38;5;28;43mself\u001b[39;49m\u001b[43m,\u001b[49m\u001b[43m \u001b[49m\u001b[38;5;241;43m*\u001b[39;49m\u001b[43mgens\u001b[49m\u001b[43m,\u001b[49m\u001b[43m \u001b[49m\u001b[38;5;241;43m*\u001b[39;49m\u001b[38;5;241;43m*\u001b[39;49m\u001b[43margs\u001b[49m\u001b[43m)\u001b[49m\n",
      "File \u001b[1;32mc:\\Users\\mwkte\\dev\\ag_notes\\.venv\\Lib\\site-packages\\sympy\\polys\\polytools.py:6542\u001b[0m, in \u001b[0;36mfactor\u001b[1;34m(f, deep, *gens, **args)\u001b[0m\n\u001b[0;32m   6539\u001b[0m     \u001b[38;5;28;01mreturn\u001b[39;00m f\u001b[38;5;241m.\u001b[39mxreplace(partials)\n\u001b[0;32m   6541\u001b[0m \u001b[38;5;28;01mtry\u001b[39;00m:\n\u001b[1;32m-> 6542\u001b[0m     \u001b[38;5;28;01mreturn\u001b[39;00m \u001b[43m_generic_factor\u001b[49m\u001b[43m(\u001b[49m\u001b[43mf\u001b[49m\u001b[43m,\u001b[49m\u001b[43m \u001b[49m\u001b[43mgens\u001b[49m\u001b[43m,\u001b[49m\u001b[43m \u001b[49m\u001b[43margs\u001b[49m\u001b[43m,\u001b[49m\u001b[43m \u001b[49m\u001b[43mmethod\u001b[49m\u001b[38;5;241;43m=\u001b[39;49m\u001b[38;5;124;43m'\u001b[39;49m\u001b[38;5;124;43mfactor\u001b[39;49m\u001b[38;5;124;43m'\u001b[39;49m\u001b[43m)\u001b[49m\n\u001b[0;32m   6543\u001b[0m \u001b[38;5;28;01mexcept\u001b[39;00m PolynomialError \u001b[38;5;28;01mas\u001b[39;00m msg:\n\u001b[0;32m   6544\u001b[0m     \u001b[38;5;28;01mif\u001b[39;00m \u001b[38;5;129;01mnot\u001b[39;00m f\u001b[38;5;241m.\u001b[39mis_commutative:\n",
      "File \u001b[1;32mc:\\Users\\mwkte\\dev\\ag_notes\\.venv\\Lib\\site-packages\\sympy\\polys\\polytools.py:6223\u001b[0m, in \u001b[0;36m_generic_factor\u001b[1;34m(expr, gens, args, method)\u001b[0m\n\u001b[0;32m   6221\u001b[0m opt \u001b[38;5;241m=\u001b[39m options\u001b[38;5;241m.\u001b[39mbuild_options(gens, args)\n\u001b[0;32m   6222\u001b[0m opt[\u001b[38;5;124m'\u001b[39m\u001b[38;5;124mfraction\u001b[39m\u001b[38;5;124m'\u001b[39m] \u001b[38;5;241m=\u001b[39m fraction\n\u001b[1;32m-> 6223\u001b[0m \u001b[38;5;28;01mreturn\u001b[39;00m \u001b[43m_symbolic_factor\u001b[49m\u001b[43m(\u001b[49m\u001b[43msympify\u001b[49m\u001b[43m(\u001b[49m\u001b[43mexpr\u001b[49m\u001b[43m)\u001b[49m\u001b[43m,\u001b[49m\u001b[43m \u001b[49m\u001b[43mopt\u001b[49m\u001b[43m,\u001b[49m\u001b[43m \u001b[49m\u001b[43mmethod\u001b[49m\u001b[43m)\u001b[49m\n",
      "File \u001b[1;32mc:\\Users\\mwkte\\dev\\ag_notes\\.venv\\Lib\\site-packages\\sympy\\polys\\polytools.py:6163\u001b[0m, in \u001b[0;36m_symbolic_factor\u001b[1;34m(expr, opt, method)\u001b[0m\n\u001b[0;32m   6161\u001b[0m     \u001b[38;5;28;01mif\u001b[39;00m \u001b[38;5;28mhasattr\u001b[39m(expr,\u001b[38;5;124m'\u001b[39m\u001b[38;5;124m_eval_factor\u001b[39m\u001b[38;5;124m'\u001b[39m):\n\u001b[0;32m   6162\u001b[0m         \u001b[38;5;28;01mreturn\u001b[39;00m expr\u001b[38;5;241m.\u001b[39m_eval_factor()\n\u001b[1;32m-> 6163\u001b[0m     coeff, factors \u001b[38;5;241m=\u001b[39m \u001b[43m_symbolic_factor_list\u001b[49m\u001b[43m(\u001b[49m\u001b[43mtogether\u001b[49m\u001b[43m(\u001b[49m\u001b[43mexpr\u001b[49m\u001b[43m,\u001b[49m\u001b[43m \u001b[49m\u001b[43mfraction\u001b[49m\u001b[38;5;241;43m=\u001b[39;49m\u001b[43mopt\u001b[49m\u001b[43m[\u001b[49m\u001b[38;5;124;43m'\u001b[39;49m\u001b[38;5;124;43mfraction\u001b[39;49m\u001b[38;5;124;43m'\u001b[39;49m\u001b[43m]\u001b[49m\u001b[43m)\u001b[49m\u001b[43m,\u001b[49m\u001b[43m \u001b[49m\u001b[43mopt\u001b[49m\u001b[43m,\u001b[49m\u001b[43m \u001b[49m\u001b[43mmethod\u001b[49m\u001b[43m)\u001b[49m\n\u001b[0;32m   6164\u001b[0m     \u001b[38;5;28;01mreturn\u001b[39;00m _keep_coeff(coeff, _factors_product(factors))\n\u001b[0;32m   6165\u001b[0m \u001b[38;5;28;01melif\u001b[39;00m \u001b[38;5;28mhasattr\u001b[39m(expr, \u001b[38;5;124m'\u001b[39m\u001b[38;5;124margs\u001b[39m\u001b[38;5;124m'\u001b[39m):\n",
      "File \u001b[1;32mc:\\Users\\mwkte\\dev\\ag_notes\\.venv\\Lib\\site-packages\\sympy\\polys\\polytools.py:6128\u001b[0m, in \u001b[0;36m_symbolic_factor_list\u001b[1;34m(expr, opt, method)\u001b[0m\n\u001b[0;32m   6125\u001b[0m \u001b[38;5;28;01melse\u001b[39;00m:\n\u001b[0;32m   6126\u001b[0m     func \u001b[38;5;241m=\u001b[39m \u001b[38;5;28mgetattr\u001b[39m(poly, method \u001b[38;5;241m+\u001b[39m \u001b[38;5;124m'\u001b[39m\u001b[38;5;124m_list\u001b[39m\u001b[38;5;124m'\u001b[39m)\n\u001b[1;32m-> 6128\u001b[0m     _coeff, _factors \u001b[38;5;241m=\u001b[39m \u001b[43mfunc\u001b[49m\u001b[43m(\u001b[49m\u001b[43m)\u001b[49m\n\u001b[0;32m   6129\u001b[0m     \u001b[38;5;28;01mif\u001b[39;00m _coeff \u001b[38;5;129;01mis\u001b[39;00m \u001b[38;5;129;01mnot\u001b[39;00m S\u001b[38;5;241m.\u001b[39mOne:\n\u001b[0;32m   6130\u001b[0m         \u001b[38;5;28;01mif\u001b[39;00m exp\u001b[38;5;241m.\u001b[39mis_Integer:\n",
      "File \u001b[1;32mc:\\Users\\mwkte\\dev\\ag_notes\\.venv\\Lib\\site-packages\\sympy\\polys\\polytools.py:3350\u001b[0m, in \u001b[0;36mPoly.factor_list\u001b[1;34m(f)\u001b[0m\n\u001b[0;32m   3348\u001b[0m \u001b[38;5;28;01mif\u001b[39;00m \u001b[38;5;28mhasattr\u001b[39m(f\u001b[38;5;241m.\u001b[39mrep, \u001b[38;5;124m'\u001b[39m\u001b[38;5;124mfactor_list\u001b[39m\u001b[38;5;124m'\u001b[39m):\n\u001b[0;32m   3349\u001b[0m     \u001b[38;5;28;01mtry\u001b[39;00m:\n\u001b[1;32m-> 3350\u001b[0m         coeff, factors \u001b[38;5;241m=\u001b[39m \u001b[43mf\u001b[49m\u001b[38;5;241;43m.\u001b[39;49m\u001b[43mrep\u001b[49m\u001b[38;5;241;43m.\u001b[39;49m\u001b[43mfactor_list\u001b[49m\u001b[43m(\u001b[49m\u001b[43m)\u001b[49m\n\u001b[0;32m   3351\u001b[0m     \u001b[38;5;28;01mexcept\u001b[39;00m DomainError:\n\u001b[0;32m   3352\u001b[0m         \u001b[38;5;28;01mreturn\u001b[39;00m S\u001b[38;5;241m.\u001b[39mOne, [(f, \u001b[38;5;241m1\u001b[39m)]\n",
      "File \u001b[1;32mc:\\Users\\mwkte\\dev\\ag_notes\\.venv\\Lib\\site-packages\\sympy\\polys\\polyclasses.py:823\u001b[0m, in \u001b[0;36mDMP.factor_list\u001b[1;34m(f)\u001b[0m\n\u001b[0;32m    821\u001b[0m \u001b[38;5;28;01mdef\u001b[39;00m \u001b[38;5;21mfactor_list\u001b[39m(f):\n\u001b[0;32m    822\u001b[0m \u001b[38;5;250m    \u001b[39m\u001b[38;5;124;03m\"\"\"Returns a list of irreducible factors of ``f``. \"\"\"\u001b[39;00m\n\u001b[1;32m--> 823\u001b[0m     coeff, factors \u001b[38;5;241m=\u001b[39m \u001b[43mdmp_factor_list\u001b[49m\u001b[43m(\u001b[49m\u001b[43mf\u001b[49m\u001b[38;5;241;43m.\u001b[39;49m\u001b[43mrep\u001b[49m\u001b[43m,\u001b[49m\u001b[43m \u001b[49m\u001b[43mf\u001b[49m\u001b[38;5;241;43m.\u001b[39;49m\u001b[43mlev\u001b[49m\u001b[43m,\u001b[49m\u001b[43m \u001b[49m\u001b[43mf\u001b[49m\u001b[38;5;241;43m.\u001b[39;49m\u001b[43mdom\u001b[49m\u001b[43m)\u001b[49m\n\u001b[0;32m    824\u001b[0m     \u001b[38;5;28;01mreturn\u001b[39;00m coeff, [ (f\u001b[38;5;241m.\u001b[39mper(g), k) \u001b[38;5;28;01mfor\u001b[39;00m g, k \u001b[38;5;129;01min\u001b[39;00m factors ]\n",
      "File \u001b[1;32mc:\\Users\\mwkte\\dev\\ag_notes\\.venv\\Lib\\site-packages\\sympy\\polys\\factortools.py:1423\u001b[0m, in \u001b[0;36mdmp_factor_list\u001b[1;34m(f, u, K0)\u001b[0m\n\u001b[0;32m   1421\u001b[0m \u001b[38;5;28;01mif\u001b[39;00m K\u001b[38;5;241m.\u001b[39mis_ZZ:\n\u001b[0;32m   1422\u001b[0m     levels, f, v \u001b[38;5;241m=\u001b[39m dmp_exclude(f, u, K)\n\u001b[1;32m-> 1423\u001b[0m     coeff, factors \u001b[38;5;241m=\u001b[39m \u001b[43mdmp_zz_factor\u001b[49m\u001b[43m(\u001b[49m\u001b[43mf\u001b[49m\u001b[43m,\u001b[49m\u001b[43m \u001b[49m\u001b[43mv\u001b[49m\u001b[43m,\u001b[49m\u001b[43m \u001b[49m\u001b[43mK\u001b[49m\u001b[43m)\u001b[49m\n\u001b[0;32m   1425\u001b[0m     \u001b[38;5;28;01mfor\u001b[39;00m i, (f, k) \u001b[38;5;129;01min\u001b[39;00m \u001b[38;5;28menumerate\u001b[39m(factors):\n\u001b[0;32m   1426\u001b[0m         factors[i] \u001b[38;5;241m=\u001b[39m (dmp_include(f, levels, v, K), k)\n",
      "File \u001b[1;32mc:\\Users\\mwkte\\dev\\ag_notes\\.venv\\Lib\\site-packages\\sympy\\polys\\factortools.py:1160\u001b[0m, in \u001b[0;36mdmp_zz_factor\u001b[1;34m(f, u, K)\u001b[0m\n\u001b[0;32m   1158\u001b[0m \u001b[38;5;28;01mif\u001b[39;00m dmp_degree(g, u) \u001b[38;5;241m>\u001b[39m \u001b[38;5;241m0\u001b[39m:\n\u001b[0;32m   1159\u001b[0m     g \u001b[38;5;241m=\u001b[39m dmp_sqf_part(g, u, K)\n\u001b[1;32m-> 1160\u001b[0m     H \u001b[38;5;241m=\u001b[39m \u001b[43mdmp_zz_wang\u001b[49m\u001b[43m(\u001b[49m\u001b[43mg\u001b[49m\u001b[43m,\u001b[49m\u001b[43m \u001b[49m\u001b[43mu\u001b[49m\u001b[43m,\u001b[49m\u001b[43m \u001b[49m\u001b[43mK\u001b[49m\u001b[43m)\u001b[49m\n\u001b[0;32m   1161\u001b[0m     factors \u001b[38;5;241m=\u001b[39m dmp_trial_division(f, H, u, K)\n\u001b[0;32m   1163\u001b[0m \u001b[38;5;28;01mfor\u001b[39;00m g, k \u001b[38;5;129;01min\u001b[39;00m dmp_zz_factor(G, u \u001b[38;5;241m-\u001b[39m \u001b[38;5;241m1\u001b[39m, K)[\u001b[38;5;241m1\u001b[39m]:\n",
      "File \u001b[1;32mc:\\Users\\mwkte\\dev\\ag_notes\\.venv\\Lib\\site-packages\\sympy\\polys\\factortools.py:1083\u001b[0m, in \u001b[0;36mdmp_zz_wang\u001b[1;34m(f, u, K, mod, seed)\u001b[0m\n\u001b[0;32m   1081\u001b[0m \u001b[38;5;28;01mtry\u001b[39;00m:\n\u001b[0;32m   1082\u001b[0m     f, H, LC \u001b[38;5;241m=\u001b[39m dmp_zz_wang_lead_coeffs(f, T, cs, E, H, A, u, K)\n\u001b[1;32m-> 1083\u001b[0m     factors \u001b[38;5;241m=\u001b[39m \u001b[43mdmp_zz_wang_hensel_lifting\u001b[49m\u001b[43m(\u001b[49m\u001b[43mf\u001b[49m\u001b[43m,\u001b[49m\u001b[43m \u001b[49m\u001b[43mH\u001b[49m\u001b[43m,\u001b[49m\u001b[43m \u001b[49m\u001b[43mLC\u001b[49m\u001b[43m,\u001b[49m\u001b[43m \u001b[49m\u001b[43mA\u001b[49m\u001b[43m,\u001b[49m\u001b[43m \u001b[49m\u001b[43mp\u001b[49m\u001b[43m,\u001b[49m\u001b[43m \u001b[49m\u001b[43mu\u001b[49m\u001b[43m,\u001b[49m\u001b[43m \u001b[49m\u001b[43mK\u001b[49m\u001b[43m)\u001b[49m\n\u001b[0;32m   1084\u001b[0m \u001b[38;5;28;01mexcept\u001b[39;00m ExtraneousFactors:  \u001b[38;5;66;03m# pragma: no cover\u001b[39;00m\n\u001b[0;32m   1085\u001b[0m     \u001b[38;5;28;01mif\u001b[39;00m query(\u001b[38;5;124m'\u001b[39m\u001b[38;5;124mEEZ_RESTART_IF_NEEDED\u001b[39m\u001b[38;5;124m'\u001b[39m):\n",
      "File \u001b[1;32mc:\\Users\\mwkte\\dev\\ag_notes\\.venv\\Lib\\site-packages\\sympy\\polys\\factortools.py:947\u001b[0m, in \u001b[0;36mdmp_zz_wang_hensel_lifting\u001b[1;34m(f, H, LC, A, p, u, K)\u001b[0m\n\u001b[0;32m    945\u001b[0m \u001b[38;5;28;01mif\u001b[39;00m \u001b[38;5;129;01mnot\u001b[39;00m dmp_zero_p(C, w \u001b[38;5;241m-\u001b[39m \u001b[38;5;241m1\u001b[39m):\n\u001b[0;32m    946\u001b[0m     C \u001b[38;5;241m=\u001b[39m dmp_quo_ground(C, K\u001b[38;5;241m.\u001b[39mfactorial(k \u001b[38;5;241m+\u001b[39m \u001b[38;5;241m1\u001b[39m), w \u001b[38;5;241m-\u001b[39m \u001b[38;5;241m1\u001b[39m, K)\n\u001b[1;32m--> 947\u001b[0m     T \u001b[38;5;241m=\u001b[39m \u001b[43mdmp_zz_diophantine\u001b[49m\u001b[43m(\u001b[49m\u001b[43mG\u001b[49m\u001b[43m,\u001b[49m\u001b[43m \u001b[49m\u001b[43mC\u001b[49m\u001b[43m,\u001b[49m\u001b[43m \u001b[49m\u001b[43mI\u001b[49m\u001b[43m,\u001b[49m\u001b[43m \u001b[49m\u001b[43md\u001b[49m\u001b[43m,\u001b[49m\u001b[43m \u001b[49m\u001b[43mp\u001b[49m\u001b[43m,\u001b[49m\u001b[43m \u001b[49m\u001b[43mw\u001b[49m\u001b[43m \u001b[49m\u001b[38;5;241;43m-\u001b[39;49m\u001b[43m \u001b[49m\u001b[38;5;241;43m1\u001b[39;49m\u001b[43m,\u001b[49m\u001b[43m \u001b[49m\u001b[43mK\u001b[49m\u001b[43m)\u001b[49m\n\u001b[0;32m    949\u001b[0m     \u001b[38;5;28;01mfor\u001b[39;00m i, (h, t) \u001b[38;5;129;01min\u001b[39;00m \u001b[38;5;28menumerate\u001b[39m(\u001b[38;5;28mzip\u001b[39m(H, T)):\n\u001b[0;32m    950\u001b[0m         h \u001b[38;5;241m=\u001b[39m dmp_add_mul(h, dmp_raise(t, \u001b[38;5;241m1\u001b[39m, w \u001b[38;5;241m-\u001b[39m \u001b[38;5;241m1\u001b[39m, K), M, w, K)\n",
      "File \u001b[1;32mc:\\Users\\mwkte\\dev\\ag_notes\\.venv\\Lib\\site-packages\\sympy\\polys\\factortools.py:892\u001b[0m, in \u001b[0;36mdmp_zz_diophantine\u001b[1;34m(F, c, A, d, p, u, K)\u001b[0m\n\u001b[0;32m    890\u001b[0m \u001b[38;5;28;01mif\u001b[39;00m \u001b[38;5;129;01mnot\u001b[39;00m dmp_zero_p(C, v):\n\u001b[0;32m    891\u001b[0m     C \u001b[38;5;241m=\u001b[39m dmp_quo_ground(C, K\u001b[38;5;241m.\u001b[39mfactorial(k \u001b[38;5;241m+\u001b[39m \u001b[38;5;241m1\u001b[39m), v, K)\n\u001b[1;32m--> 892\u001b[0m     T \u001b[38;5;241m=\u001b[39m \u001b[43mdmp_zz_diophantine\u001b[49m\u001b[43m(\u001b[49m\u001b[43mG\u001b[49m\u001b[43m,\u001b[49m\u001b[43m \u001b[49m\u001b[43mC\u001b[49m\u001b[43m,\u001b[49m\u001b[43m \u001b[49m\u001b[43mA\u001b[49m\u001b[43m,\u001b[49m\u001b[43m \u001b[49m\u001b[43md\u001b[49m\u001b[43m,\u001b[49m\u001b[43m \u001b[49m\u001b[43mp\u001b[49m\u001b[43m,\u001b[49m\u001b[43m \u001b[49m\u001b[43mv\u001b[49m\u001b[43m,\u001b[49m\u001b[43m \u001b[49m\u001b[43mK\u001b[49m\u001b[43m)\u001b[49m\n\u001b[0;32m    894\u001b[0m     \u001b[38;5;28;01mfor\u001b[39;00m i, t \u001b[38;5;129;01min\u001b[39;00m \u001b[38;5;28menumerate\u001b[39m(T):\n\u001b[0;32m    895\u001b[0m         T[i] \u001b[38;5;241m=\u001b[39m dmp_mul(dmp_raise(t, \u001b[38;5;241m1\u001b[39m, v, K), M, u, K)\n",
      "File \u001b[1;32mc:\\Users\\mwkte\\dev\\ag_notes\\.venv\\Lib\\site-packages\\sympy\\polys\\factortools.py:865\u001b[0m, in \u001b[0;36mdmp_zz_diophantine\u001b[1;34m(F, c, A, d, p, u, K)\u001b[0m\n\u001b[0;32m    862\u001b[0m B, G \u001b[38;5;241m=\u001b[39m [], []\n\u001b[0;32m    864\u001b[0m \u001b[38;5;28;01mfor\u001b[39;00m f \u001b[38;5;129;01min\u001b[39;00m F:\n\u001b[1;32m--> 865\u001b[0m     B\u001b[38;5;241m.\u001b[39mappend(\u001b[43mdmp_quo\u001b[49m\u001b[43m(\u001b[49m\u001b[43me\u001b[49m\u001b[43m,\u001b[49m\u001b[43m \u001b[49m\u001b[43mf\u001b[49m\u001b[43m,\u001b[49m\u001b[43m \u001b[49m\u001b[43mu\u001b[49m\u001b[43m,\u001b[49m\u001b[43m \u001b[49m\u001b[43mK\u001b[49m\u001b[43m)\u001b[49m)\n\u001b[0;32m    866\u001b[0m     G\u001b[38;5;241m.\u001b[39mappend(dmp_eval_in(f, a, n, u, K))\n\u001b[0;32m    868\u001b[0m C \u001b[38;5;241m=\u001b[39m dmp_eval_in(c, a, n, u, K)\n",
      "File \u001b[1;32mc:\\Users\\mwkte\\dev\\ag_notes\\.venv\\Lib\\site-packages\\sympy\\polys\\densearith.py:1671\u001b[0m, in \u001b[0;36mdmp_quo\u001b[1;34m(f, g, u, K)\u001b[0m\n\u001b[0;32m   1653\u001b[0m \u001b[38;5;28;01mdef\u001b[39;00m \u001b[38;5;21mdmp_quo\u001b[39m(f, g, u, K):\n\u001b[0;32m   1654\u001b[0m \u001b[38;5;250m    \u001b[39m\u001b[38;5;124;03m\"\"\"\u001b[39;00m\n\u001b[0;32m   1655\u001b[0m \u001b[38;5;124;03m    Returns exact polynomial quotient in ``K[X]``.\u001b[39;00m\n\u001b[0;32m   1656\u001b[0m \n\u001b[1;32m   (...)\u001b[0m\n\u001b[0;32m   1669\u001b[0m \n\u001b[0;32m   1670\u001b[0m \u001b[38;5;124;03m    \"\"\"\u001b[39;00m\n\u001b[1;32m-> 1671\u001b[0m     \u001b[38;5;28;01mreturn\u001b[39;00m \u001b[43mdmp_div\u001b[49m\u001b[43m(\u001b[49m\u001b[43mf\u001b[49m\u001b[43m,\u001b[49m\u001b[43m \u001b[49m\u001b[43mg\u001b[49m\u001b[43m,\u001b[49m\u001b[43m \u001b[49m\u001b[43mu\u001b[49m\u001b[43m,\u001b[49m\u001b[43m \u001b[49m\u001b[43mK\u001b[49m\u001b[43m)\u001b[49m[\u001b[38;5;241m0\u001b[39m]\n",
      "File \u001b[1;32mc:\\Users\\mwkte\\dev\\ag_notes\\.venv\\Lib\\site-packages\\sympy\\polys\\densearith.py:1629\u001b[0m, in \u001b[0;36mdmp_div\u001b[1;34m(f, g, u, K)\u001b[0m\n\u001b[0;32m   1627\u001b[0m     \u001b[38;5;28;01mreturn\u001b[39;00m dmp_ff_div(f, g, u, K)\n\u001b[0;32m   1628\u001b[0m \u001b[38;5;28;01melse\u001b[39;00m:\n\u001b[1;32m-> 1629\u001b[0m     \u001b[38;5;28;01mreturn\u001b[39;00m \u001b[43mdmp_rr_div\u001b[49m\u001b[43m(\u001b[49m\u001b[43mf\u001b[49m\u001b[43m,\u001b[49m\u001b[43m \u001b[49m\u001b[43mg\u001b[49m\u001b[43m,\u001b[49m\u001b[43m \u001b[49m\u001b[43mu\u001b[49m\u001b[43m,\u001b[49m\u001b[43m \u001b[49m\u001b[43mK\u001b[49m\u001b[43m)\u001b[49m\n",
      "File \u001b[1;32mc:\\Users\\mwkte\\dev\\ag_notes\\.venv\\Lib\\site-packages\\sympy\\polys\\densearith.py:1397\u001b[0m, in \u001b[0;36mdmp_rr_div\u001b[1;34m(f, g, u, K)\u001b[0m\n\u001b[0;32m   1394\u001b[0m j \u001b[38;5;241m=\u001b[39m dr \u001b[38;5;241m-\u001b[39m dg\n\u001b[0;32m   1396\u001b[0m q \u001b[38;5;241m=\u001b[39m dmp_add_term(q, c, j, u, K)\n\u001b[1;32m-> 1397\u001b[0m h \u001b[38;5;241m=\u001b[39m \u001b[43mdmp_mul_term\u001b[49m\u001b[43m(\u001b[49m\u001b[43mg\u001b[49m\u001b[43m,\u001b[49m\u001b[43m \u001b[49m\u001b[43mc\u001b[49m\u001b[43m,\u001b[49m\u001b[43m \u001b[49m\u001b[43mj\u001b[49m\u001b[43m,\u001b[49m\u001b[43m \u001b[49m\u001b[43mu\u001b[49m\u001b[43m,\u001b[49m\u001b[43m \u001b[49m\u001b[43mK\u001b[49m\u001b[43m)\u001b[49m\n\u001b[0;32m   1398\u001b[0m r \u001b[38;5;241m=\u001b[39m dmp_sub(r, h, u, K)\n\u001b[0;32m   1400\u001b[0m _dr, dr \u001b[38;5;241m=\u001b[39m dr, dmp_degree(r, u)\n",
      "File \u001b[1;32mc:\\Users\\mwkte\\dev\\ag_notes\\.venv\\Lib\\site-packages\\sympy\\polys\\densearith.py:184\u001b[0m, in \u001b[0;36mdmp_mul_term\u001b[1;34m(f, c, i, u, K)\u001b[0m\n\u001b[0;32m    182\u001b[0m     \u001b[38;5;28;01mreturn\u001b[39;00m dmp_zero(u)\n\u001b[0;32m    183\u001b[0m \u001b[38;5;28;01melse\u001b[39;00m:\n\u001b[1;32m--> 184\u001b[0m     \u001b[38;5;28;01mreturn\u001b[39;00m [ \u001b[43mdmp_mul\u001b[49m\u001b[43m(\u001b[49m\u001b[43mcf\u001b[49m\u001b[43m,\u001b[49m\u001b[43m \u001b[49m\u001b[43mc\u001b[49m\u001b[43m,\u001b[49m\u001b[43m \u001b[49m\u001b[43mv\u001b[49m\u001b[43m,\u001b[49m\u001b[43m \u001b[49m\u001b[43mK\u001b[49m\u001b[43m)\u001b[49m \u001b[38;5;28;01mfor\u001b[39;00m cf \u001b[38;5;129;01min\u001b[39;00m f ] \u001b[38;5;241m+\u001b[39m dmp_zeros(i, v, K)\n",
      "File \u001b[1;32mc:\\Users\\mwkte\\dev\\ag_notes\\.venv\\Lib\\site-packages\\sympy\\polys\\densearith.py:828\u001b[0m, in \u001b[0;36mdmp_mul\u001b[1;34m(f, g, u, K)\u001b[0m\n\u001b[0;32m    825\u001b[0m     coeff \u001b[38;5;241m=\u001b[39m dmp_zero(v)\n\u001b[0;32m    827\u001b[0m     \u001b[38;5;28;01mfor\u001b[39;00m j \u001b[38;5;129;01min\u001b[39;00m \u001b[38;5;28mrange\u001b[39m(\u001b[38;5;28mmax\u001b[39m(\u001b[38;5;241m0\u001b[39m, i \u001b[38;5;241m-\u001b[39m dg), \u001b[38;5;28mmin\u001b[39m(df, i) \u001b[38;5;241m+\u001b[39m \u001b[38;5;241m1\u001b[39m):\n\u001b[1;32m--> 828\u001b[0m         coeff \u001b[38;5;241m=\u001b[39m dmp_add(coeff, \u001b[43mdmp_mul\u001b[49m\u001b[43m(\u001b[49m\u001b[43mf\u001b[49m\u001b[43m[\u001b[49m\u001b[43mj\u001b[49m\u001b[43m]\u001b[49m\u001b[43m,\u001b[49m\u001b[43m \u001b[49m\u001b[43mg\u001b[49m\u001b[43m[\u001b[49m\u001b[43mi\u001b[49m\u001b[43m \u001b[49m\u001b[38;5;241;43m-\u001b[39;49m\u001b[43m \u001b[49m\u001b[43mj\u001b[49m\u001b[43m]\u001b[49m\u001b[43m,\u001b[49m\u001b[43m \u001b[49m\u001b[43mv\u001b[49m\u001b[43m,\u001b[49m\u001b[43m \u001b[49m\u001b[43mK\u001b[49m\u001b[43m)\u001b[49m, v, K)\n\u001b[0;32m    830\u001b[0m     h\u001b[38;5;241m.\u001b[39mappend(coeff)\n\u001b[0;32m    832\u001b[0m \u001b[38;5;28;01mreturn\u001b[39;00m dmp_strip(h, u)\n",
      "File \u001b[1;32mc:\\Users\\mwkte\\dev\\ag_notes\\.venv\\Lib\\site-packages\\sympy\\polys\\densearith.py:819\u001b[0m, in \u001b[0;36mdmp_mul\u001b[1;34m(f, g, u, K)\u001b[0m\n\u001b[0;32m    815\u001b[0m     \u001b[38;5;28;01mreturn\u001b[39;00m f\n\u001b[0;32m    817\u001b[0m dg \u001b[38;5;241m=\u001b[39m dmp_degree(g, u)\n\u001b[1;32m--> 819\u001b[0m \u001b[38;5;28;01mif\u001b[39;00m \u001b[43mdg\u001b[49m\u001b[43m \u001b[49m\u001b[38;5;241;43m<\u001b[39;49m\u001b[43m \u001b[49m\u001b[38;5;241;43m0\u001b[39;49m:\n\u001b[0;32m    820\u001b[0m     \u001b[38;5;28;01mreturn\u001b[39;00m g\n\u001b[0;32m    822\u001b[0m h, v \u001b[38;5;241m=\u001b[39m [], u \u001b[38;5;241m-\u001b[39m \u001b[38;5;241m1\u001b[39m\n",
      "File \u001b[1;32mc:\\Users\\mwkte\\dev\\ag_notes\\.venv\\Lib\\site-packages\\sympy\\core\\decorators.py:231\u001b[0m, in \u001b[0;36m_SympifyWrapper.make_wrapped.<locals>._func\u001b[1;34m(self, other)\u001b[0m\n\u001b[0;32m    229\u001b[0m \u001b[38;5;28;01mif\u001b[39;00m \u001b[38;5;129;01mnot\u001b[39;00m \u001b[38;5;28mhasattr\u001b[39m(other, \u001b[38;5;124m'\u001b[39m\u001b[38;5;124m_op_priority\u001b[39m\u001b[38;5;124m'\u001b[39m):\n\u001b[0;32m    230\u001b[0m     \u001b[38;5;28;01mtry\u001b[39;00m:\n\u001b[1;32m--> 231\u001b[0m         other \u001b[38;5;241m=\u001b[39m \u001b[43msympify\u001b[49m\u001b[43m(\u001b[49m\u001b[43mother\u001b[49m\u001b[43m,\u001b[49m\u001b[43m \u001b[49m\u001b[43mstrict\u001b[49m\u001b[38;5;241;43m=\u001b[39;49m\u001b[38;5;28;43;01mTrue\u001b[39;49;00m\u001b[43m)\u001b[49m\n\u001b[0;32m    232\u001b[0m     \u001b[38;5;28;01mexcept\u001b[39;00m SympifyError:\n\u001b[0;32m    233\u001b[0m         \u001b[38;5;28;01mreturn\u001b[39;00m retval\n",
      "File \u001b[1;32mc:\\Users\\mwkte\\dev\\ag_notes\\.venv\\Lib\\site-packages\\sympy\\core\\sympify.py:381\u001b[0m, in \u001b[0;36msympify\u001b[1;34m(a, locals, convert_xor, strict, rational, evaluate)\u001b[0m\n\u001b[0;32m    378\u001b[0m conv \u001b[38;5;241m=\u001b[39m _external_converter\u001b[38;5;241m.\u001b[39mget(superclass)\n\u001b[0;32m    379\u001b[0m \u001b[38;5;28;01mif\u001b[39;00m conv \u001b[38;5;129;01mis\u001b[39;00m \u001b[38;5;28;01mNone\u001b[39;00m:\n\u001b[0;32m    380\u001b[0m     \u001b[38;5;66;03m#if none exists, check for SymPy defined converters\u001b[39;00m\n\u001b[1;32m--> 381\u001b[0m     conv \u001b[38;5;241m=\u001b[39m \u001b[43m_sympy_converter\u001b[49m\u001b[38;5;241;43m.\u001b[39;49m\u001b[43mget\u001b[49m\u001b[43m(\u001b[49m\u001b[43msuperclass\u001b[49m\u001b[43m)\u001b[49m\n\u001b[0;32m    382\u001b[0m \u001b[38;5;28;01mif\u001b[39;00m conv \u001b[38;5;129;01mis\u001b[39;00m \u001b[38;5;129;01mnot\u001b[39;00m \u001b[38;5;28;01mNone\u001b[39;00m:\n\u001b[0;32m    383\u001b[0m     \u001b[38;5;28;01mreturn\u001b[39;00m conv(a)\n",
      "\u001b[1;31mKeyboardInterrupt\u001b[0m: "
     ]
    }
   ],
   "source": [
    "phase = -Rational(1, 2) + I * sqrt(3) * Rational(1, 2)\n",
    "mag = sqrt(2) * Rational(1, 2)\n",
    "\n",
    "ca2, sa2 = symbols(\"ca2 sa2\")\n",
    "# ca2, sa2 = cos(alpha / 2), sin(alpha / 2)\n",
    "\n",
    "\n",
    "def rotate(z, alpha, prephase=1):\n",
    "    if z is oo:\n",
    "        return -ca2 / sa2\n",
    "    return (ca2 * prephase * z + sa2) / (-sa2 * prephase * z + ca2)\n",
    "\n",
    "\n",
    "ks = [oo, mag, mag * phase, mag * conjugate(phase)]\n",
    "kps = [rotate(z, alpha, prephase=q) for z in ks]\n",
    "phip = reduce_multiply([u - p * z * v for z in kps])\n",
    "phip = phip.expand()\n",
    "phip.factor()"
   ]
  },
  {
   "cell_type": "code",
   "execution_count": null,
   "metadata": {},
   "outputs": [
    {
     "data": {
      "text/latex": [
       "$\\displaystyle - \\frac{ca_{2}}{sa_{2}}$"
      ],
      "text/plain": [
       "-ca2/sa2"
      ]
     },
     "execution_count": 156,
     "metadata": {},
     "output_type": "execute_result"
    }
   ],
   "source": [
    "rotate(ks[0], 0)"
   ]
  },
  {
   "cell_type": "code",
   "execution_count": 191,
   "metadata": {},
   "outputs": [
    {
     "data": {
      "text/latex": [
       "$\\displaystyle \\frac{ca_{2} p^{4} v^{4} \\left(\\sqrt{2} ca_{2}^{3} q^{3} + 4 sa_{2}^{3}\\right)}{sa_{2} \\left(- 4 ca_{2}^{3} + \\sqrt{2} q^{3} sa_{2}^{3}\\right)} + \\frac{6 ca_{2} p^{2} u^{2} v^{2} \\cdot \\left(16 ca_{2}^{8} + 8 \\sqrt{2} ca_{2}^{7} q^{3} sa_{2} - 16 ca_{2}^{6} sa_{2}^{2} - 8 \\sqrt{2} ca_{2}^{5} q^{3} sa_{2}^{3} - 8 ca_{2}^{4} q^{6} sa_{2}^{4} + 8 \\sqrt{2} ca_{2}^{3} q^{3} sa_{2}^{5} + 2 ca_{2}^{2} q^{6} sa_{2}^{6} + \\sqrt{2} ca_{2} q^{9} sa_{2}^{7} - 2 q^{6} sa_{2}^{8}\\right)}{- 32 ca_{2}^{9} + 24 \\sqrt{2} ca_{2}^{6} q^{3} sa_{2}^{3} - 12 ca_{2}^{3} q^{6} sa_{2}^{6} + \\sqrt{2} q^{9} sa_{2}^{9}} + \\frac{4 ca_{2} p u^{3} v \\left(- ca_{2}^{3} + 3 ca_{2} sa_{2}^{2} + \\sqrt{2} q^{3} sa_{2}^{3}\\right)}{sa_{2} \\left(- 4 ca_{2}^{3} + \\sqrt{2} q^{3} sa_{2}^{3}\\right)} + \\frac{4 p^{3} u v^{3} \\cdot \\left(8 \\sqrt{2} ca_{2}^{9} q^{3} - 24 ca_{2}^{8} sa_{2} - 8 ca_{2}^{6} q^{6} sa_{2}^{3} + 8 ca_{2}^{6} sa_{2}^{3} + 12 \\sqrt{2} ca_{2}^{5} q^{3} sa_{2}^{4} + \\sqrt{2} ca_{2}^{3} q^{9} sa_{2}^{6} - 4 \\sqrt{2} ca_{2}^{3} q^{3} sa_{2}^{6} - 3 ca_{2}^{2} q^{6} sa_{2}^{7} + q^{6} sa_{2}^{9}\\right)}{- 32 ca_{2}^{9} + 24 \\sqrt{2} ca_{2}^{6} q^{3} sa_{2}^{3} - 12 ca_{2}^{3} q^{6} sa_{2}^{6} + \\sqrt{2} q^{9} sa_{2}^{9}} + u^{4}$"
      ],
      "text/plain": [
       "ca2*p**4*v**4*(sqrt(2)*ca2**3*q**3 + 4*sa2**3)/(sa2*(-4*ca2**3 + sqrt(2)*q**3*sa2**3)) + 6*ca2*p**2*u**2*v**2*(16*ca2**8 + 8*sqrt(2)*ca2**7*q**3*sa2 - 16*ca2**6*sa2**2 - 8*sqrt(2)*ca2**5*q**3*sa2**3 - 8*ca2**4*q**6*sa2**4 + 8*sqrt(2)*ca2**3*q**3*sa2**5 + 2*ca2**2*q**6*sa2**6 + sqrt(2)*ca2*q**9*sa2**7 - 2*q**6*sa2**8)/(-32*ca2**9 + 24*sqrt(2)*ca2**6*q**3*sa2**3 - 12*ca2**3*q**6*sa2**6 + sqrt(2)*q**9*sa2**9) + 4*ca2*p*u**3*v*(-ca2**3 + 3*ca2*sa2**2 + sqrt(2)*q**3*sa2**3)/(sa2*(-4*ca2**3 + sqrt(2)*q**3*sa2**3)) + 4*p**3*u*v**3*(8*sqrt(2)*ca2**9*q**3 - 24*ca2**8*sa2 - 8*ca2**6*q**6*sa2**3 + 8*ca2**6*sa2**3 + 12*sqrt(2)*ca2**5*q**3*sa2**4 + sqrt(2)*ca2**3*q**9*sa2**6 - 4*sqrt(2)*ca2**3*q**3*sa2**6 - 3*ca2**2*q**6*sa2**7 + q**6*sa2**9)/(-32*ca2**9 + 24*sqrt(2)*ca2**6*q**3*sa2**3 - 12*ca2**3*q**6*sa2**6 + sqrt(2)*q**9*sa2**9) + u**4"
      ]
     },
     "execution_count": 191,
     "metadata": {},
     "output_type": "execute_result"
    }
   ],
   "source": [
    "poly = Poly(phip, u)\n",
    "coeffs = poly.all_coeffs()\n",
    "new_coeffs = []\n",
    "for coeff in coeffs:\n",
    "    new_coeffs.append(simplify(coeff.expand()))\n",
    "new_poly = Poly.from_list(new_coeffs, u).as_expr()\n",
    "new_poly"
   ]
  },
  {
   "cell_type": "code",
   "execution_count": 193,
   "metadata": {},
   "outputs": [
    {
     "name": "stdout",
     "output_type": "stream",
     "text": [
      "here\n"
     ]
    },
    {
     "ename": "KeyboardInterrupt",
     "evalue": "",
     "output_type": "error",
     "traceback": [
      "\u001b[1;31m---------------------------------------------------------------------------\u001b[0m",
      "\u001b[1;31mKeyboardInterrupt\u001b[0m                         Traceback (most recent call last)",
      "Cell \u001b[1;32mIn[193], line 7\u001b[0m\n\u001b[0;32m      5\u001b[0m factors \u001b[38;5;241m=\u001b[39m [new_poly\u001b[38;5;241m.\u001b[39msubs(p, e\u001b[38;5;241m*\u001b[39m\u001b[38;5;241m*\u001b[39mk) \u001b[38;5;28;01mfor\u001b[39;00m k \u001b[38;5;129;01min\u001b[39;00m \u001b[38;5;28mrange\u001b[39m(\u001b[38;5;241m5\u001b[39m)]\n\u001b[0;32m      6\u001b[0m \u001b[38;5;28mprint\u001b[39m(\u001b[38;5;124m\"\u001b[39m\u001b[38;5;124mhere\u001b[39m\u001b[38;5;124m\"\u001b[39m)\n\u001b[1;32m----> 7\u001b[0m result \u001b[38;5;241m=\u001b[39m \u001b[43mreduce_multiply\u001b[49m\u001b[43m(\u001b[49m\u001b[43mfactors\u001b[49m\u001b[43m)\u001b[49m\n\u001b[0;32m      9\u001b[0m \u001b[38;5;28mprint\u001b[39m(\u001b[38;5;124m\"\u001b[39m\u001b[38;5;124mhere\u001b[39m\u001b[38;5;124m\"\u001b[39m)\n\u001b[0;32m     10\u001b[0m result \u001b[38;5;241m=\u001b[39m Poly(result, u)\n",
      "Cell \u001b[1;32mIn[193], line 2\u001b[0m, in \u001b[0;36mreduce_multiply\u001b[1;34m(any_list)\u001b[0m\n\u001b[0;32m      1\u001b[0m \u001b[38;5;28;01mdef\u001b[39;00m \u001b[38;5;21mreduce_multiply\u001b[39m(any_list):\n\u001b[1;32m----> 2\u001b[0m     \u001b[38;5;28;01mreturn\u001b[39;00m \u001b[43mreduce\u001b[49m\u001b[43m(\u001b[49m\u001b[38;5;28;43;01mlambda\u001b[39;49;00m\u001b[43m \u001b[49m\u001b[43mx\u001b[49m\u001b[43m,\u001b[49m\u001b[43m \u001b[49m\u001b[43my\u001b[49m\u001b[43m:\u001b[49m\u001b[43m \u001b[49m\u001b[43m(\u001b[49m\u001b[43mx\u001b[49m\u001b[43m \u001b[49m\u001b[38;5;241;43m*\u001b[39;49m\u001b[43m \u001b[49m\u001b[43my\u001b[49m\u001b[43m)\u001b[49m\u001b[38;5;241;43m.\u001b[39;49m\u001b[43mexpand\u001b[49m\u001b[43m(\u001b[49m\u001b[43m)\u001b[49m\u001b[43m,\u001b[49m\u001b[43m \u001b[49m\u001b[43many_list\u001b[49m\u001b[43m)\u001b[49m\n",
      "Cell \u001b[1;32mIn[193], line 2\u001b[0m, in \u001b[0;36mreduce_multiply.<locals>.<lambda>\u001b[1;34m(x, y)\u001b[0m\n\u001b[0;32m      1\u001b[0m \u001b[38;5;28;01mdef\u001b[39;00m \u001b[38;5;21mreduce_multiply\u001b[39m(any_list):\n\u001b[1;32m----> 2\u001b[0m     \u001b[38;5;28;01mreturn\u001b[39;00m reduce(\u001b[38;5;28;01mlambda\u001b[39;00m x, y: \u001b[43m(\u001b[49m\u001b[43mx\u001b[49m\u001b[43m \u001b[49m\u001b[38;5;241;43m*\u001b[39;49m\u001b[43m \u001b[49m\u001b[43my\u001b[49m\u001b[43m)\u001b[49m\u001b[38;5;241;43m.\u001b[39;49m\u001b[43mexpand\u001b[49m\u001b[43m(\u001b[49m\u001b[43m)\u001b[49m, any_list)\n",
      "File \u001b[1;32mc:\\Users\\mwkte\\dev\\ag_notes\\.venv\\Lib\\site-packages\\sympy\\core\\cache.py:72\u001b[0m, in \u001b[0;36m__cacheit.<locals>.func_wrapper.<locals>.wrapper\u001b[1;34m(*args, **kwargs)\u001b[0m\n\u001b[0;32m     69\u001b[0m \u001b[38;5;129m@wraps\u001b[39m(func)\n\u001b[0;32m     70\u001b[0m \u001b[38;5;28;01mdef\u001b[39;00m \u001b[38;5;21mwrapper\u001b[39m(\u001b[38;5;241m*\u001b[39margs, \u001b[38;5;241m*\u001b[39m\u001b[38;5;241m*\u001b[39mkwargs):\n\u001b[0;32m     71\u001b[0m     \u001b[38;5;28;01mtry\u001b[39;00m:\n\u001b[1;32m---> 72\u001b[0m         retval \u001b[38;5;241m=\u001b[39m \u001b[43mcfunc\u001b[49m\u001b[43m(\u001b[49m\u001b[38;5;241;43m*\u001b[39;49m\u001b[43margs\u001b[49m\u001b[43m,\u001b[49m\u001b[43m \u001b[49m\u001b[38;5;241;43m*\u001b[39;49m\u001b[38;5;241;43m*\u001b[39;49m\u001b[43mkwargs\u001b[49m\u001b[43m)\u001b[49m\n\u001b[0;32m     73\u001b[0m     \u001b[38;5;28;01mexcept\u001b[39;00m \u001b[38;5;167;01mTypeError\u001b[39;00m \u001b[38;5;28;01mas\u001b[39;00m e:\n\u001b[0;32m     74\u001b[0m         \u001b[38;5;28;01mif\u001b[39;00m \u001b[38;5;129;01mnot\u001b[39;00m e\u001b[38;5;241m.\u001b[39margs \u001b[38;5;129;01mor\u001b[39;00m \u001b[38;5;129;01mnot\u001b[39;00m e\u001b[38;5;241m.\u001b[39margs[\u001b[38;5;241m0\u001b[39m]\u001b[38;5;241m.\u001b[39mstartswith(\u001b[38;5;124m'\u001b[39m\u001b[38;5;124munhashable type:\u001b[39m\u001b[38;5;124m'\u001b[39m):\n",
      "File \u001b[1;32mc:\\Users\\mwkte\\dev\\ag_notes\\.venv\\Lib\\site-packages\\sympy\\core\\expr.py:3682\u001b[0m, in \u001b[0;36mExpr.expand\u001b[1;34m(self, deep, modulus, power_base, power_exp, mul, log, multinomial, basic, **hints)\u001b[0m\n\u001b[0;32m   3680\u001b[0m     \u001b[38;5;28;01mif\u001b[39;00m use_hint:\n\u001b[0;32m   3681\u001b[0m         hint \u001b[38;5;241m=\u001b[39m \u001b[38;5;124m'\u001b[39m\u001b[38;5;124m_eval_expand_\u001b[39m\u001b[38;5;124m'\u001b[39m \u001b[38;5;241m+\u001b[39m hint\n\u001b[1;32m-> 3682\u001b[0m         expr, hit \u001b[38;5;241m=\u001b[39m \u001b[43mExpr\u001b[49m\u001b[38;5;241;43m.\u001b[39;49m\u001b[43m_expand_hint\u001b[49m\u001b[43m(\u001b[49m\u001b[43mexpr\u001b[49m\u001b[43m,\u001b[49m\u001b[43m \u001b[49m\u001b[43mhint\u001b[49m\u001b[43m,\u001b[49m\u001b[43m \u001b[49m\u001b[43mdeep\u001b[49m\u001b[38;5;241;43m=\u001b[39;49m\u001b[43mdeep\u001b[49m\u001b[43m,\u001b[49m\u001b[43m \u001b[49m\u001b[38;5;241;43m*\u001b[39;49m\u001b[38;5;241;43m*\u001b[39;49m\u001b[43mhints\u001b[49m\u001b[43m)\u001b[49m\n\u001b[0;32m   3684\u001b[0m \u001b[38;5;28;01mwhile\u001b[39;00m \u001b[38;5;28;01mTrue\u001b[39;00m:\n\u001b[0;32m   3685\u001b[0m     was \u001b[38;5;241m=\u001b[39m expr\n",
      "File \u001b[1;32mc:\\Users\\mwkte\\dev\\ag_notes\\.venv\\Lib\\site-packages\\sympy\\core\\expr.py:3615\u001b[0m, in \u001b[0;36mExpr._expand_hint\u001b[1;34m(expr, hint, deep, **hints)\u001b[0m\n\u001b[0;32m   3613\u001b[0m sargs \u001b[38;5;241m=\u001b[39m []\n\u001b[0;32m   3614\u001b[0m \u001b[38;5;28;01mfor\u001b[39;00m arg \u001b[38;5;129;01min\u001b[39;00m expr\u001b[38;5;241m.\u001b[39margs:\n\u001b[1;32m-> 3615\u001b[0m     arg, arghit \u001b[38;5;241m=\u001b[39m \u001b[43mExpr\u001b[49m\u001b[38;5;241;43m.\u001b[39;49m\u001b[43m_expand_hint\u001b[49m\u001b[43m(\u001b[49m\u001b[43marg\u001b[49m\u001b[43m,\u001b[49m\u001b[43m \u001b[49m\u001b[43mhint\u001b[49m\u001b[43m,\u001b[49m\u001b[43m \u001b[49m\u001b[38;5;241;43m*\u001b[39;49m\u001b[38;5;241;43m*\u001b[39;49m\u001b[43mhints\u001b[49m\u001b[43m)\u001b[49m\n\u001b[0;32m   3616\u001b[0m     hit \u001b[38;5;241m|\u001b[39m\u001b[38;5;241m=\u001b[39m arghit\n\u001b[0;32m   3617\u001b[0m     sargs\u001b[38;5;241m.\u001b[39mappend(arg)\n",
      "File \u001b[1;32mc:\\Users\\mwkte\\dev\\ag_notes\\.venv\\Lib\\site-packages\\sympy\\core\\expr.py:3615\u001b[0m, in \u001b[0;36mExpr._expand_hint\u001b[1;34m(expr, hint, deep, **hints)\u001b[0m\n\u001b[0;32m   3613\u001b[0m sargs \u001b[38;5;241m=\u001b[39m []\n\u001b[0;32m   3614\u001b[0m \u001b[38;5;28;01mfor\u001b[39;00m arg \u001b[38;5;129;01min\u001b[39;00m expr\u001b[38;5;241m.\u001b[39margs:\n\u001b[1;32m-> 3615\u001b[0m     arg, arghit \u001b[38;5;241m=\u001b[39m \u001b[43mExpr\u001b[49m\u001b[38;5;241;43m.\u001b[39;49m\u001b[43m_expand_hint\u001b[49m\u001b[43m(\u001b[49m\u001b[43marg\u001b[49m\u001b[43m,\u001b[49m\u001b[43m \u001b[49m\u001b[43mhint\u001b[49m\u001b[43m,\u001b[49m\u001b[43m \u001b[49m\u001b[38;5;241;43m*\u001b[39;49m\u001b[38;5;241;43m*\u001b[39;49m\u001b[43mhints\u001b[49m\u001b[43m)\u001b[49m\n\u001b[0;32m   3616\u001b[0m     hit \u001b[38;5;241m|\u001b[39m\u001b[38;5;241m=\u001b[39m arghit\n\u001b[0;32m   3617\u001b[0m     sargs\u001b[38;5;241m.\u001b[39mappend(arg)\n",
      "    \u001b[1;31m[... skipping similar frames: Expr._expand_hint at line 3615 (2 times)]\u001b[0m\n",
      "File \u001b[1;32mc:\\Users\\mwkte\\dev\\ag_notes\\.venv\\Lib\\site-packages\\sympy\\core\\expr.py:3615\u001b[0m, in \u001b[0;36mExpr._expand_hint\u001b[1;34m(expr, hint, deep, **hints)\u001b[0m\n\u001b[0;32m   3613\u001b[0m sargs \u001b[38;5;241m=\u001b[39m []\n\u001b[0;32m   3614\u001b[0m \u001b[38;5;28;01mfor\u001b[39;00m arg \u001b[38;5;129;01min\u001b[39;00m expr\u001b[38;5;241m.\u001b[39margs:\n\u001b[1;32m-> 3615\u001b[0m     arg, arghit \u001b[38;5;241m=\u001b[39m \u001b[43mExpr\u001b[49m\u001b[38;5;241;43m.\u001b[39;49m\u001b[43m_expand_hint\u001b[49m\u001b[43m(\u001b[49m\u001b[43marg\u001b[49m\u001b[43m,\u001b[49m\u001b[43m \u001b[49m\u001b[43mhint\u001b[49m\u001b[43m,\u001b[49m\u001b[43m \u001b[49m\u001b[38;5;241;43m*\u001b[39;49m\u001b[38;5;241;43m*\u001b[39;49m\u001b[43mhints\u001b[49m\u001b[43m)\u001b[49m\n\u001b[0;32m   3616\u001b[0m     hit \u001b[38;5;241m|\u001b[39m\u001b[38;5;241m=\u001b[39m arghit\n\u001b[0;32m   3617\u001b[0m     sargs\u001b[38;5;241m.\u001b[39mappend(arg)\n",
      "File \u001b[1;32mc:\\Users\\mwkte\\dev\\ag_notes\\.venv\\Lib\\site-packages\\sympy\\core\\expr.py:3623\u001b[0m, in \u001b[0;36mExpr._expand_hint\u001b[1;34m(expr, hint, deep, **hints)\u001b[0m\n\u001b[0;32m   3620\u001b[0m         expr \u001b[38;5;241m=\u001b[39m expr\u001b[38;5;241m.\u001b[39mfunc(\u001b[38;5;241m*\u001b[39msargs)\n\u001b[0;32m   3622\u001b[0m \u001b[38;5;28;01mif\u001b[39;00m \u001b[38;5;28mhasattr\u001b[39m(expr, hint):\n\u001b[1;32m-> 3623\u001b[0m     newexpr \u001b[38;5;241m=\u001b[39m \u001b[38;5;28;43mgetattr\u001b[39;49m\u001b[43m(\u001b[49m\u001b[43mexpr\u001b[49m\u001b[43m,\u001b[49m\u001b[43m \u001b[49m\u001b[43mhint\u001b[49m\u001b[43m)\u001b[49m\u001b[43m(\u001b[49m\u001b[38;5;241;43m*\u001b[39;49m\u001b[38;5;241;43m*\u001b[39;49m\u001b[43mhints\u001b[49m\u001b[43m)\u001b[49m\n\u001b[0;32m   3624\u001b[0m     \u001b[38;5;28;01mif\u001b[39;00m newexpr \u001b[38;5;241m!=\u001b[39m expr:\n\u001b[0;32m   3625\u001b[0m         \u001b[38;5;28;01mreturn\u001b[39;00m (newexpr, \u001b[38;5;28;01mTrue\u001b[39;00m)\n",
      "File \u001b[1;32mc:\\Users\\mwkte\\dev\\ag_notes\\.venv\\Lib\\site-packages\\sympy\\core\\power.py:1051\u001b[0m, in \u001b[0;36mPow._eval_expand_power_base\u001b[1;34m(self, **hints)\u001b[0m\n\u001b[0;32m   1047\u001b[0m                 \u001b[38;5;28;01mreturn\u001b[39;00m Mul(\u001b[38;5;241m*\u001b[39m[\u001b[38;5;28mself\u001b[39m\u001b[38;5;241m.\u001b[39mfunc(b, x) \u001b[38;5;28;01mfor\u001b[39;00m x \u001b[38;5;129;01min\u001b[39;00m c]\n\u001b[0;32m   1048\u001b[0m                     )\u001b[38;5;241m*\u001b[39mb\u001b[38;5;241m*\u001b[39m\u001b[38;5;241m*\u001b[39mAdd\u001b[38;5;241m.\u001b[39m_from_args(nc)\n\u001b[0;32m   1049\u001b[0m     \u001b[38;5;28;01mreturn\u001b[39;00m \u001b[38;5;28mself\u001b[39m\n\u001b[1;32m-> 1051\u001b[0m \u001b[38;5;28;01mdef\u001b[39;00m \u001b[38;5;21m_eval_expand_power_base\u001b[39m(\u001b[38;5;28mself\u001b[39m, \u001b[38;5;241m*\u001b[39m\u001b[38;5;241m*\u001b[39mhints):\n\u001b[0;32m   1052\u001b[0m \u001b[38;5;250m    \u001b[39m\u001b[38;5;124;03m\"\"\"(a*b)**n -> a**n * b**n\"\"\"\u001b[39;00m\n\u001b[0;32m   1053\u001b[0m     force \u001b[38;5;241m=\u001b[39m hints\u001b[38;5;241m.\u001b[39mget(\u001b[38;5;124m'\u001b[39m\u001b[38;5;124mforce\u001b[39m\u001b[38;5;124m'\u001b[39m, \u001b[38;5;28;01mFalse\u001b[39;00m)\n",
      "\u001b[1;31mKeyboardInterrupt\u001b[0m: "
     ]
    }
   ],
   "source": [
    "def reduce_multiply(any_list):\n",
    "    return reduce(lambda x, y: (x * y).expand(), any_list)\n",
    "\n",
    "\n",
    "factors = [new_poly.subs(p, e**k) for k in range(5)]\n",
    "print(\"here\")\n",
    "result = reduce_multiply(factors)\n",
    "\n",
    "print(\"here\")\n",
    "result = Poly(result, u)\n",
    "print(\"here\")\n",
    "\n",
    "# new_coeffs = []\n",
    "\n",
    "\n",
    "# for coeff in result.all_coeffs():\n",
    "#     print(\"here\")\n",
    "#     new_coeffs.append(e_simp(coeff, cleanup=False))\n",
    "\n",
    "\n",
    "# result = Poly.from_list(new_coeffs, u).as_expr()\n",
    "result"
   ]
  },
  {
   "cell_type": "code",
   "execution_count": 158,
   "metadata": {},
   "outputs": [
    {
     "data": {
      "text/latex": [
       "$\\displaystyle - \\frac{ca_{2} p^{4} v^{4} \\left(\\sqrt{2} ca_{2}^{3} + 4 sa_{2}^{3}\\right)}{sa_{2} \\cdot \\left(4 ca_{2}^{3} - \\sqrt{2} sa_{2}^{3}\\right)}$"
      ],
      "text/plain": [
       "-ca2*p**4*v**4*(sqrt(2)*ca2**3 + 4*sa2**3)/(sa2*(4*ca2**3 - sqrt(2)*sa2**3))"
      ]
     },
     "execution_count": 158,
     "metadata": {},
     "output_type": "execute_result"
    }
   ],
   "source": [
    "simplify(coeffs[-1].expand().factor())"
   ]
  },
  {
   "cell_type": "code",
   "execution_count": 165,
   "metadata": {},
   "outputs": [
    {
     "data": {
      "text/latex": [
       "$\\displaystyle \\frac{4 p^{3} v^{3} \\left(- 8 \\sqrt{2} ca_{2}^{9} + 24 ca_{2}^{8} sa_{2} - 12 \\sqrt{2} ca_{2}^{5} sa_{2}^{4} + 3 \\sqrt{2} ca_{2}^{3} sa_{2}^{6} + 3 ca_{2}^{2} sa_{2}^{7} - sa_{2}^{9}\\right)}{32 ca_{2}^{9} - 24 \\sqrt{2} ca_{2}^{6} sa_{2}^{3} + 12 ca_{2}^{3} sa_{2}^{6} - \\sqrt{2} sa_{2}^{9}}$"
      ],
      "text/plain": [
       "4*p**3*v**3*(-8*sqrt(2)*ca2**9 + 24*ca2**8*sa2 - 12*sqrt(2)*ca2**5*sa2**4 + 3*sqrt(2)*ca2**3*sa2**6 + 3*ca2**2*sa2**7 - sa2**9)/(32*ca2**9 - 24*sqrt(2)*ca2**6*sa2**3 + 12*ca2**3*sa2**6 - sqrt(2)*sa2**9)"
      ]
     },
     "execution_count": 165,
     "metadata": {},
     "output_type": "execute_result"
    }
   ],
   "source": [
    "simplify(coeffs[3].expand().factor())"
   ]
  },
  {
   "cell_type": "code",
   "execution_count": 164,
   "metadata": {},
   "outputs": [
    {
     "data": {
      "text/latex": [
       "$\\displaystyle \\frac{6 ca_{2} p^{2} v^{2} \\left(- 16 ca_{2}^{8} - 8 \\sqrt{2} ca_{2}^{7} sa_{2} + 16 ca_{2}^{6} sa_{2}^{2} + 8 \\sqrt{2} ca_{2}^{5} sa_{2}^{3} + 8 ca_{2}^{4} sa_{2}^{4} - 8 \\sqrt{2} ca_{2}^{3} sa_{2}^{5} - 2 ca_{2}^{2} sa_{2}^{6} - \\sqrt{2} ca_{2} sa_{2}^{7} + 2 sa_{2}^{8}\\right)}{32 ca_{2}^{9} - 24 \\sqrt{2} ca_{2}^{6} sa_{2}^{3} + 12 ca_{2}^{3} sa_{2}^{6} - \\sqrt{2} sa_{2}^{9}}$"
      ],
      "text/plain": [
       "6*ca2*p**2*v**2*(-16*ca2**8 - 8*sqrt(2)*ca2**7*sa2 + 16*ca2**6*sa2**2 + 8*sqrt(2)*ca2**5*sa2**3 + 8*ca2**4*sa2**4 - 8*sqrt(2)*ca2**3*sa2**5 - 2*ca2**2*sa2**6 - sqrt(2)*ca2*sa2**7 + 2*sa2**8)/(32*ca2**9 - 24*sqrt(2)*ca2**6*sa2**3 + 12*ca2**3*sa2**6 - sqrt(2)*sa2**9)"
      ]
     },
     "execution_count": 164,
     "metadata": {},
     "output_type": "execute_result"
    }
   ],
   "source": [
    "simplify(coeffs[2].expand().factor())"
   ]
  },
  {
   "cell_type": "code",
   "execution_count": 104,
   "metadata": {},
   "outputs": [
    {
     "data": {
      "text/latex": [
       "$\\displaystyle \\frac{p^{4} v^{4} \\cdot \\left(\\frac{7 \\sqrt{6 - 2 \\sqrt{3}}}{3} + \\frac{7 \\sqrt{18 - 6 \\sqrt{3}}}{3} + \\frac{40 \\sqrt{\\sqrt{3} + 3}}{3}\\right)}{- 12 \\sqrt{\\sqrt{3} + 3} - 4 \\sqrt{3} \\sqrt{\\sqrt{3} + 3} - \\sqrt{6} \\sqrt{3 - \\sqrt{3}} + 3 \\sqrt{2} \\sqrt{3 - \\sqrt{3}}}$"
      ],
      "text/plain": [
       "p**4*v**4*(7*sqrt(6 - 2*sqrt(3))/3 + 7*sqrt(18 - 6*sqrt(3))/3 + 40*sqrt(sqrt(3) + 3)/3)/(-12*sqrt(sqrt(3) + 3) - 4*sqrt(3)*sqrt(sqrt(3) + 3) - sqrt(6)*sqrt(3 - sqrt(3)) + 3*sqrt(2)*sqrt(3 - sqrt(3)))"
      ]
     },
     "execution_count": 104,
     "metadata": {},
     "output_type": "execute_result"
    }
   ],
   "source": [
    "simplify(\n",
    "    v4coeff\n",
    "    # .subs(q, 1 / sqrt(2) * (1 + I))\n",
    "    .subs(cos(alpha / 2), sqrt((1 + 1 / sqrt(3)) / 2))\n",
    "    .subs(sin(alpha / 2), sqrt((1 - 1 / sqrt(3)) / 2))\n",
    "    .expand()\n",
    "    .radsimp()\n",
    "    .factor()\n",
    ")"
   ]
  },
  {
   "cell_type": "code",
   "execution_count": 200,
   "metadata": {},
   "outputs": [
    {
     "data": {
      "text/latex": [
       "$\\displaystyle 2.95629520146761$"
      ],
      "text/plain": [
       "2.95629520146761"
      ]
     },
     "execution_count": 200,
     "metadata": {},
     "output_type": "execute_result"
    }
   ],
   "source": [
    "expr = sa / (sqrt(3) / 2 - ca * c5)\n",
    "phi = symbols(\"phi\")\n",
    "expr.subs(sa, 1 / sqrt(1 + phi**2)).subs(ca, phi / sqrt(1 + phi**2)).subs(\n",
    "    c5, phi / 2\n",
    ").subs(phi, (1 + sqrt(5)) / 2).evalf()"
   ]
  },
  {
   "cell_type": "code",
   "execution_count": 212,
   "metadata": {},
   "outputs": [
    {
     "data": {
      "text/latex": [
       "$\\displaystyle \\kappa$"
      ],
      "text/plain": [
       "kappa"
      ]
     },
     "execution_count": 212,
     "metadata": {},
     "output_type": "execute_result"
    }
   ],
   "source": [
    "kappa"
   ]
  },
  {
   "cell_type": "code",
   "execution_count": 211,
   "metadata": {},
   "outputs": [
    {
     "data": {
      "text/latex": [
       "$\\displaystyle 2.95629520146761$"
      ],
      "text/plain": [
       "2.95629520146761"
      ]
     },
     "execution_count": 211,
     "metadata": {},
     "output_type": "execute_result"
    }
   ],
   "source": [
    "from sympy import atan\n",
    "\n",
    "kappa = symbols(\"kappa\")\n",
    "\n",
    "(1 / tan(kappa / 2)).subs(kappa, atan((2 / (1 + phi)))).subs(\n",
    "    phi, (1 + sqrt(5)) / 2\n",
    ").evalf()"
   ]
  }
 ],
 "metadata": {
  "kernelspec": {
   "display_name": ".venv",
   "language": "python",
   "name": "python3"
  },
  "language_info": {
   "codemirror_mode": {
    "name": "ipython",
    "version": 3
   },
   "file_extension": ".py",
   "mimetype": "text/x-python",
   "name": "python",
   "nbconvert_exporter": "python",
   "pygments_lexer": "ipython3",
   "version": "3.12.3"
  }
 },
 "nbformat": 4,
 "nbformat_minor": 2
}
