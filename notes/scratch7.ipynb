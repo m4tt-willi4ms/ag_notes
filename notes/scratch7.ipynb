{
 "cells": [
  {
   "cell_type": "code",
   "execution_count": 1,
   "id": "4106cf2b",
   "metadata": {},
   "outputs": [
    {
     "data": {
      "text/latex": [
       "$\\displaystyle - u^{30} - 522 u^{25} v^{5} + 10005 u^{20} v^{10} + 10005 u^{10} v^{20} + 522 u^{5} v^{25} - v^{30} + x^{5} + x^{3} \\left(- 10 u^{11} v - 110 u^{6} v^{6} + 10 u v^{11}\\right) + x \\left(45 u^{22} v^{2} + 990 u^{17} v^{7} + 5355 u^{12} v^{12} - 990 u^{7} v^{17} + 45 u^{2} v^{22}\\right)$"
      ],
      "text/plain": [
       "-u**30 - 522*u**25*v**5 + 10005*u**20*v**10 + 10005*u**10*v**20 + 522*u**5*v**25 - v**30 + x**5 + x**3*(-10*u**11*v - 110*u**6*v**6 + 10*u*v**11) + x*(45*u**22*v**2 + 990*u**17*v**7 + 5355*u**12*v**12 - 990*u**7*v**17 + 45*u**2*v**22)"
      ]
     },
     "execution_count": 1,
     "metadata": {},
     "output_type": "execute_result"
    }
   ],
   "source": [
    "from sympy import Poly, symbols\n",
    "from utils import e_simp, reduce_multiply\n",
    "\n",
    "e, x = symbols(\"e x\")\n",
    "u, v = symbols(\"u v\")\n",
    "f = symbols(\"f\")\n",
    "\n",
    "\n",
    "def On(u, v, e, n=1):\n",
    "    z_n = e**2 + e**3\n",
    "    z_m = e + e**4\n",
    "    expr = (\n",
    "        (u**2 + v**2)\n",
    "        * (u**2 - 2 * z_n * u * v - v**2)\n",
    "        * (u**2 - 2 * z_m * u * v - v**2)\n",
    "    )\n",
    "    return e ** (15 - 3 * n) * expr.subs(v, e**n * v)\n",
    "\n",
    "\n",
    "expr = e_simp(reduce_multiply([x - On(u, v, e, n=k) for k in range(5)]), e)\n",
    "p = Poly(expr, x)\n",
    "p.as_expr()"
   ]
  }
 ],
 "metadata": {
  "kernelspec": {
   "display_name": "ag_notes",
   "language": "python",
   "name": "python3"
  },
  "language_info": {
   "codemirror_mode": {
    "name": "ipython",
    "version": 3
   },
   "file_extension": ".py",
   "mimetype": "text/x-python",
   "name": "python",
   "nbconvert_exporter": "python",
   "pygments_lexer": "ipython3",
   "version": "3.13.3"
  }
 },
 "nbformat": 4,
 "nbformat_minor": 5
}
