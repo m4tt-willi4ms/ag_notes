{
 "cells": [
  {
   "cell_type": "code",
   "execution_count": 1,
   "metadata": {},
   "outputs": [],
   "source": [
    "from sympy import I, symbols"
   ]
  },
  {
   "cell_type": "code",
   "execution_count": 2,
   "metadata": {},
   "outputs": [],
   "source": [
    "e, k = symbols(\"e k\")"
   ]
  },
  {
   "cell_type": "code",
   "execution_count": null,
   "metadata": {},
   "outputs": [],
   "source": [
    "w1 = I * k * (e**3 - e**2)\n",
    "w1"
   ]
  },
  {
   "cell_type": "code",
   "execution_count": 4,
   "metadata": {},
   "outputs": [],
   "source": [
    "w6 = (I * k * (e**4 - e) - 1) / (-I * k * (e**3 - e**2) + e**2 + e**3)"
   ]
  },
  {
   "cell_type": "code",
   "execution_count": null,
   "metadata": {},
   "outputs": [],
   "source": [
    "k, z_n = symbols(\"k z_n\")\n",
    "\n",
    "expr = ((1 + (k - 1) * z_n) / 2) ** 5\n",
    "expr = z_simp(k_simp(expr, k, z_n), z_n)\n",
    "expr"
   ]
  },
  {
   "cell_type": "code",
   "execution_count": null,
   "metadata": {},
   "outputs": [],
   "source": [
    "k, z_n = symbols(\"k z_n\")\n",
    "\n",
    "expr2 = ((1 + (-k - 1) * z_n) / 2) ** 5\n",
    "expr2 = z_simp(k_simp(expr2, k, z_n), z_n)\n",
    "expr2"
   ]
  },
  {
   "cell_type": "code",
   "execution_count": null,
   "metadata": {},
   "outputs": [],
   "source": [
    "x = simplify(expr + expr2)\n",
    "x"
   ]
  },
  {
   "cell_type": "code",
   "execution_count": null,
   "metadata": {},
   "outputs": [],
   "source": [
    "k, z_n = symbols(\"k z_n\")\n",
    "\n",
    "expr = ((2 + k + z_n) / 2) ** 5\n",
    "expr = z_simp(k_simp(expr, k, z_n), z_n)\n",
    "expr"
   ]
  },
  {
   "cell_type": "code",
   "execution_count": null,
   "metadata": {},
   "outputs": [],
   "source": [
    "k, z_n = symbols(\"k z_n\")\n",
    "\n",
    "expr2 = ((2 - k + z_n) / 2) ** 5\n",
    "expr2 = z_simp(k_simp(expr2, k, z_n), z_n)\n",
    "expr2"
   ]
  },
  {
   "cell_type": "code",
   "execution_count": null,
   "metadata": {},
   "outputs": [],
   "source": [
    "y = simplify(expr + expr2)\n",
    "y"
   ]
  },
  {
   "cell_type": "code",
   "execution_count": null,
   "metadata": {},
   "outputs": [],
   "source": [
    "z_simp(k_simp(k**2 - (z_n + 2) ** 2, k, z_n), z_n)"
   ]
  },
  {
   "cell_type": "code",
   "execution_count": null,
   "metadata": {},
   "outputs": [],
   "source": [
    "X, Y, u, v = symbols(\"X Y u v\")\n",
    "((u**10 - X * u**5 * v**5 - v**10) * (u**10 - Y * u**5 * v**5 - v**10)).expand()"
   ]
  },
  {
   "cell_type": "code",
   "execution_count": null,
   "metadata": {},
   "outputs": [],
   "source": [
    "z_simp(_.subs(X, x).subs(Y, y), z_n).expand()"
   ]
  }
 ],
 "metadata": {
  "kernelspec": {
   "display_name": ".venv",
   "language": "python",
   "name": "python3"
  },
  "language_info": {
   "codemirror_mode": {
    "name": "ipython",
    "version": 3
   },
   "file_extension": ".py",
   "mimetype": "text/x-python",
   "name": "python",
   "nbconvert_exporter": "python",
   "pygments_lexer": "ipython3",
   "version": "3.11.6"
  }
 },
 "nbformat": 4,
 "nbformat_minor": 2
}
