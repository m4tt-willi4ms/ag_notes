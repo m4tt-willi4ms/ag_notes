{
 "cells": [
  {
   "cell_type": "markdown",
   "metadata": {},
   "source": [
    "## Tetrahedral Symmetry\n",
    "\n",
    "A tetrahedron is formed by joining alternating vertices as one traverses the\n",
    "edges of a cube. Taking these four vertices to be \n",
    "\n",
    "$$\n",
    "\n",
    "\\begin{align*}\n",
    "{\\bf V}_1 &= \\frac1{\\sqrt{3}}(1, 1, 1) \\\\\n",
    "{\\bf V}_2 &= \\frac1{\\sqrt{3}}(-1, -1, 1) \\\\\n",
    "{\\bf V}_3 &= \\frac1{\\sqrt{3}}(1, -1, -1) \\\\\n",
    "{\\bf V}_4 &= \\frac1{\\sqrt{3}}(-1, 1, -1) \\,,\n",
    "\\end{align*}\n",
    "$$\n",
    "\n",
    "(such that they each lie on the unit sphere) we find that the corresponding\n",
    "spherically-projected coordinates are\n",
    "\n",
    "$$\n",
    "\n",
    "k_1 = -k_2 = \\frac{1+i}{\\sqrt{3} -1} \\,,\\quad k_3 = -k_4 =\n",
    "\\frac{1-i}{\\sqrt{3}+1} \\,.\n",
    "\n",
    "$$\n",
    "\n",
    "(Note that an equivalent tetrahedron could be constructed using the points\n",
    "antipodal to the ones above; this is referred to as the \"diametral tetrahedron\".)"
   ]
  },
  {
   "cell_type": "markdown",
   "metadata": {},
   "source": [
    "The discrete rotational symmetries of the tetrahedron can be constructed by\n",
    "composing the two-fold rotation about the $z$ axis (which maps ${\\bf V}_1\n",
    "\\leftrightarrow{\\bf V}_2$, ${\\bf V}_3 \\leftrightarrow{\\bf V}_4$) with the\n",
    "three-fold rotation about the ${\\bf V}_1$ axis (which maps ${\\bf V}_2\n",
    "\\rightarrow {\\bf V}_3$, ${\\bf V}_3 \\rightarrow {\\bf V}_4$, ${\\bf V}_4\n",
    "\\rightarrow {\\bf V}_2$). On the complex plane, these correspond to\n",
    "\n",
    "$$\n",
    "\n",
    "\\begin{align*}\n",
    "I:\\quad z \\to z' &= -z \\\\\n",
    "II:\\quad z \\to z' &= \\frac{z+i}{z-i} \\,,\n",
    "\\end{align*}\n",
    "\n",
    "$$\n",
    "\n",
    "respectively."
   ]
  },
  {
   "cell_type": "code",
   "execution_count": 1,
   "metadata": {},
   "outputs": [],
   "source": [
    "from sympy import I, Matrix, Rational, conjugate, cos, exp, pi, simplify, sqrt, symbols"
   ]
  },
  {
   "cell_type": "code",
   "execution_count": 2,
   "metadata": {},
   "outputs": [
    {
     "data": {
      "text/plain": [
       "True"
      ]
     },
     "execution_count": 2,
     "metadata": {},
     "output_type": "execute_result"
    }
   ],
   "source": [
    "# Check of the above:\n",
    "sp1 = (1 + I) / (sqrt(3) - 1)\n",
    "sp2 = -(1 + I) / (sqrt(3) - 1)\n",
    "sp3 = (1 - I) / (sqrt(3) + 1)\n",
    "sp4 = (-1 + I) / (sqrt(3) + 1)\n",
    "\n",
    "# fmt: off\n",
    "((sp1 + I) / (sp1 - I)).equals(sp1) and \\\n",
    "((sp2 + I) / (sp2 - I)).equals(sp3) and \\\n",
    "((sp3 + I) / (sp3 - I)).equals(sp4) and \\\n",
    "((sp4 + I) / (sp4 - I)).equals(sp2)\n",
    "# fmt: on"
   ]
  },
  {
   "cell_type": "markdown",
   "metadata": {},
   "source": [
    "In terms of the homogeneous coordinates $u$ and $v$, these two transformations\n",
    "map directly to\n",
    "\n",
    "$$\n",
    "\n",
    "\\begin{aligned}\n",
    "I:&\\quad \\begin{array}{ccc}\n",
    "u' &=& i\\,u \\\\\n",
    "v' &=& -i\\,v \n",
    "\\end{array} \\\\\n",
    "II:&\\quad \\begin{array}{ccc}\n",
    " u' &=& \\tfrac12(1+i)\\,u - \\tfrac12(1-i)\\,v \\\\\n",
    " v' &=& \\tfrac12 (1+i) u + \\tfrac12(1-i)\\,v \\,.\n",
    " \\end{array}\n",
    "\\end{aligned}\n",
    "\n",
    "% \\begin{align*}\n",
    "% u' &= (d+i\\,a_3)u - (a_2-i\\,a_1)v \\\\\n",
    "% v' &= (a_2+i\\,a_1)u + (d-i\\,a_3) v \\,.\n",
    "% \\end{align*}\n",
    "$$"
   ]
  },
  {
   "cell_type": "markdown",
   "metadata": {},
   "source": [
    "### Polynomial Invariants\n",
    "\n",
    "Keeping in mind that all symmetry transformations of the tetrahedron merely\n",
    "exchange a number of vertices with one another, it's expected that a polynomial\n",
    "with roots at the locations of the vertices in the complex plane will be\n",
    "invariant under such transformations. To see this, consider the product\n",
    "\n",
    "$$\n",
    "\n",
    "\\begin{align*}\n",
    "\\Phi(u, v) &:= \\prod_{i=1}^4 \\left(u - k_i\\, v\\right) = (u^2-k_1^2)(v^2-k_3^2) \\\\\n",
    "&= u^4 - 2i\\sqrt{3}\\,u^2v^2 + v^4\n",
    "\\end{align*}\n",
    "\n",
    "$$\n",
    "\n",
    "and apply the transformation $(u, v) \\to (u', v')$ as before. In the general\n",
    "case, this gives \n",
    "\n",
    "$$\n",
    "\n",
    "\\begin{align*}\n",
    "\\Phi(u', v') &= \\prod_{i=1}^4 \\left(u' - k_i\\, v'\\right) \\\\\n",
    "&= \\prod_{i=1}^4 \\left(A - k_i\\, C\\right) \\prod_{i=1}^4 \\left(u - k_i'\\, v\\right) \\\\\n",
    "&= \\prod_{i=1}^4 \\left(A - k_i\\, C\\right) \\, \\Phi(u, v)\n",
    "\\end{align*}\n",
    "\n",
    "$$\n",
    "\n",
    "where we define\n",
    "\n",
    "$$\n",
    "\n",
    "k'_i := \\frac{k_i\\, D - B}{- k_i\\, C + A} \\quad\\leftrightarrow\\quad k_i =\n",
    "\\frac{k_i'\\,A+B}{k_i'\\,C+D} \\,.\n",
    "\n",
    "$$"
   ]
  },
  {
   "cell_type": "markdown",
   "metadata": {},
   "source": [
    "In the case of both transformations $I$ and $II$, the product $\\prod_{i=1}^4 \\left(u - k_i'\\, v\\right)$ is clearly invariant, because the vertices all transform into one another under any of the transformations. For transformation $I$, the product $\\prod_{i=1}^4 \\left(A - k_i\\, C\\right) = 1$ because $A=i$ and $C=0$. For transformation $II$, this product instead gives\n",
    "\n",
    "$$\n",
    "\n",
    "\\begin{align*}\n",
    "\\prod_{i=1}^4 \\left(A - k_i\\, C\\right) &= \\left[\\tfrac12 (1+i)\\right]^4\\prod_{i=1}^4 \\left(1 - k_i\\right) \\\\\n",
    "&= -\\tfrac14(1-k_1^2)(1-k_3^2) \\\\\n",
    "&=-\\tfrac14\\left[1-i(2+\\sqrt{3})\\right]\\left[1+i(2-\\sqrt{3})\\right] \\\\\n",
    "&=-\\frac12+i\\frac{\\sqrt{3}}2 = e^{2\\pi i/3} \\,.\n",
    "\\end{align*}\n",
    "\n",
    "$$\n",
    "\n",
    "The above guarantees that the function $\\Phi^3(u,v)$ is an absolute invariant under the symmetries of the tetrahedral group."
   ]
  },
  {
   "cell_type": "code",
   "execution_count": 3,
   "metadata": {},
   "outputs": [
    {
     "data": {
      "text/latex": [
       "$\\displaystyle - \\frac{1}{2} + \\frac{\\sqrt{3} i}{2}$"
      ],
      "text/plain": [
       "-1/2 + sqrt(3)*I/2"
      ]
     },
     "execution_count": 3,
     "metadata": {},
     "output_type": "execute_result"
    }
   ],
   "source": [
    "# Check of the above\n",
    "simplify(\n",
    "    (Rational(1, 2) * (1 + I)) ** 4 * (1 - sp1) * (1 - sp2) * (1 - sp3) * (1 - sp4)\n",
    ")"
   ]
  },
  {
   "cell_type": "markdown",
   "metadata": {},
   "source": [
    "The above can also be done for the edge midpoints, and face centers, of the tetrahedron.\n",
    "In the latter case, it's as simple as trading $k_i \\to -1/\\bar k_i$ in the above expression for $\\Phi$ (since the face centers are in line with the antipodes of the vertices). This yields\n",
    "\n",
    "$$\n",
    "\n",
    "\\begin{align*}\n",
    "\\Psi(u, v) &:= \\prod_{i=1}^4\\left(u + \\bar k_i^{-1}\\, v\\right) = \\prod_{i=1}^4\\left(u - \\bar k_i\\, v\\right) \\\\\n",
    "&= u^4 + 2i\\sqrt{3}\\,u^2v^2 + v^4 \\,.\n",
    "\\end{align*}\n",
    "\n",
    "$$\n",
    "\n",
    "(The second-last equality follows since $k_1k_4 = k_2k_3 =-1$.) As one might expect, under transformation $II$ the function $\\Psi(u,v)$ becomes\n",
    "\n",
    "$$\n",
    "\n",
    "\\Psi(u',v') = e^{-2\\pi i/3} \\, \\Psi(u,v) \\,.\n",
    "\n",
    "$$\n",
    "\n",
    "Therefore, the combinations $\\Phi \\Psi$ and $\\Psi^3$ are also absolute invariants."
   ]
  },
  {
   "cell_type": "code",
   "execution_count": 4,
   "metadata": {},
   "outputs": [
    {
     "name": "stdout",
     "output_type": "stream",
     "text": [
      "uv_prime=Matrix([\n",
      "[u*(1/2 + I/2) + v*(-1/2 + I/2)],\n",
      "[ u*(1/2 + I/2) + v*(1/2 - I/2)]])\n"
     ]
    },
    {
     "data": {
      "text/latex": [
       "$\\displaystyle u^{4} - 2 \\sqrt{3} i u^{2} v^{2} + v^{4}$"
      ],
      "text/plain": [
       "u**4 - 2*sqrt(3)*I*u**2*v**2 + v**4"
      ]
     },
     "execution_count": 4,
     "metadata": {},
     "output_type": "execute_result"
    }
   ],
   "source": [
    "orth = Rational(1, 2) * Matrix([[1 + I, -1 + I], [1 + I, 1 - I]])\n",
    "u, v = symbols(\"u v\")\n",
    "U, V = symbols(\"U V\")\n",
    "uv = Matrix([u, v])\n",
    "\n",
    "uv_prime = orth * uv\n",
    "print(f\"{uv_prime=}\")\n",
    "\n",
    "Phi = (u - sp1 * v) * (u - sp2 * v) * (u - sp3 * v) * (u - sp4 * v)\n",
    "\n",
    "# print(Phi.subs(u, uv_prime[0]))\n",
    "Phi_prime = Phi.subs([(u, U), (v, V)]).subs([(U, uv_prime[0]), (V, uv_prime[1])])\n",
    "(Phi_prime / exp(2 * pi * I / 3)).rewrite(cos).radsimp().expand()"
   ]
  },
  {
   "cell_type": "markdown",
   "metadata": {},
   "source": [
    "In contrast, the six midpoints are at $z=0$, $z=\\infty$, $z=\\pm 1$, and $z=\\pm i$. In this case, the invariant polynomial is given by\n",
    "\n",
    "$$\n",
    "\n",
    "t(u, v) = uv(u-v)(u+v)(u-iv)(u+iv) = uv(u^4-v^4) \\,.\n",
    "\n",
    "$$\n",
    "\n",
    "Under the transformation $II$ (with $A=\\tfrac12(1+i)=-B^*=C=D^*$), we see that \n",
    "\n",
    "$$\n",
    "\n",
    "\\begin{align*}\n",
    "t(u',v') &= \\left(A\\,u-A^*\\,v\\right)\\left(A\\,u+A^*\\,v\\right) \\\\\n",
    "&\\times\\left[\\left(A\\,u-A^*\\,v\\right)^2 - \\left(A\\,u+A^*\\,v\\right)^2\\right]\\left[\\left(A\\,u-A^*\\,v\\right)^2+\\left(A\\,u+A^*\\,v\\right)^2\\right] \\\\\n",
    "&=\\left(A^2\\,u^2 - A^{*2}\\,v^2\\right)\\left[4\\,AA^*\\,uv\\right]\\left[2\\left(A^2\\,u^2+A^{*2}\\,v^2\\right)\\right] \\\\\n",
    "&=\\frac i2\\left(u^2 + v^2\\right)\\left[-2\\,uv\\right]\\left[i\\left(u^2-v^2\\right)\\right] = t(u,v)\n",
    "\\end{align*}\n",
    "\n",
    "$$\n",
    "\n",
    "where, in the last line, we make use of $A^2 = i/2 = -A^{*2}$. Similarly, $t(u',v') = t(u,v)$ under transformation $I$ where $A=i=D^*$, $B=C=0$, we find\n",
    "\n",
    "$$\n",
    "\n",
    "\\begin{align*}\n",
    "t(u',v') &= AA^*\\,uv(A^2\\,u^2-A^{*2}\\,v^2)(A^2\\,u^2+A^{*2}\\,v^2) \\\\\n",
    "&= t(u,v) \\,.\n",
    "\\end{align*}\n",
    "\n",
    "$$\n",
    "\n",
    "Therefore, $t(u,v)$ is an absolute invariant as well."
   ]
  },
  {
   "cell_type": "markdown",
   "metadata": {},
   "source": [
    "By direct computation, one can evaluate the combination $\\Psi^3- \\Phi^3$. As it\n",
    "turns out, this expression has a particularly simple form:\n",
    "\n",
    "$$\n",
    "\n",
    "\\Psi^3(u, v) = \\Phi^3(u, v) + 12\\sqrt{3}\\,i\\,t^2(u, v) \\,.\n",
    "\n",
    "$$"
   ]
  },
  {
   "cell_type": "code",
   "execution_count": 5,
   "metadata": {},
   "outputs": [
    {
     "data": {
      "text/latex": [
       "$\\displaystyle 12 \\sqrt{3} i u^{2} v^{2} \\left(u - v\\right)^{2} \\left(u + v\\right)^{2} \\left(u^{2} + v^{2}\\right)^{2}$"
      ],
      "text/plain": [
       "12*sqrt(3)*I*u**2*v**2*(u - v)**2*(u + v)**2*(u**2 + v**2)**2"
      ]
     },
     "execution_count": 5,
     "metadata": {},
     "output_type": "execute_result"
    }
   ],
   "source": [
    "# Check of the above:\n",
    "Phi = (u - sp1 * v) * (u - sp2 * v) * (u - sp3 * v) * (u - sp4 * v)\n",
    "Psi = (\n",
    "    (u - conjugate(sp1) * v)\n",
    "    * (u - conjugate(sp2) * v)\n",
    "    * (u - conjugate(sp3) * v)\n",
    "    * (u - conjugate(sp4) * v)\n",
    ")\n",
    "simplify(Psi**3 - Phi**3).factor()"
   ]
  },
  {
   "cell_type": "code",
   "execution_count": 6,
   "metadata": {},
   "outputs": [
    {
     "data": {
      "text/plain": [
       "True"
      ]
     },
     "execution_count": 6,
     "metadata": {},
     "output_type": "execute_result"
    }
   ],
   "source": [
    "# Second check:\n",
    "t = u * v * (u - v) * (u + v) * (u**2 + v**2)\n",
    "(Psi**3 - Phi**3).equals(12 * sqrt(3) * I * t**2)"
   ]
  }
 ],
 "metadata": {
  "kernelspec": {
   "display_name": ".venv",
   "language": "python",
   "name": "python3"
  },
  "language_info": {
   "codemirror_mode": {
    "name": "ipython",
    "version": 3
   },
   "file_extension": ".py",
   "mimetype": "text/x-python",
   "name": "python",
   "nbconvert_exporter": "python",
   "pygments_lexer": "ipython3",
   "version": "3.11.6"
  }
 },
 "nbformat": 4,
 "nbformat_minor": 2
}
