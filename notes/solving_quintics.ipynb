{
 "cells": [
  {
   "cell_type": "markdown",
   "id": "c5e05bf8",
   "metadata": {},
   "source": [
    "# Solving Quintics\n",
    "\n",
    "In this section, we explain how to exploit the icosahedral symmetry discussed before to solve an arbitrary polynomial of order five (also known as a quintic polynomial).\n",
    "\n",
    "We begin by returning to a result derived earlier: in the Section on [icosahedral symmetry](icosa), we showed that the the icosahedral face centres can be grouped into five octohedra:\n",
    "\n",
    "$$\n",
    "\n",
    "T(u,v) = \\prod_{k=1}^5 \\epsilon^{15-3k} \\,t_I(u,v\\,\\epsilon^k) = u^{30} +522\\left(u^{25}\\,v^5-u^5\\,v^{25}\\right) - 10005\\left(u^{20}\\,v^{10} + u^{10}\\,v^{20}\\right) + v^{30} \\,.\n",
    "\n",
    "\n",
    "$$\n",
    "\n",
    "where\n",
    "\n",
    "$$\n",
    "\n",
    "t_I(u,v) := (u^2+v^2)(u^2-2z_n\\,uv-v^2)(u^2-2z_m\\,uv-v^2) \\,.\n",
    "\n",
    "$$"
   ]
  },
  {
   "cell_type": "code",
   "execution_count": null,
   "id": "7ed25c12",
   "metadata": {},
   "outputs": [
    {
     "data": {
      "text/latex": [
       "$\\displaystyle u^{30} + 522 u^{25} v^{5} - 10005 u^{20} v^{10} - 10005 u^{10} v^{20} - 522 u^{5} v^{25} + v^{30}$"
      ],
      "text/plain": [
       "u**30 + 522*u**25*v**5 - 10005*u**20*v**10 - 10005*u**10*v**20 - 522*u**5*v**25 + v**30"
      ]
     },
     "execution_count": 7,
     "metadata": {},
     "output_type": "execute_result"
    }
   ],
   "source": [
    "# Check of the above\n",
    "from utils import e_simp, reduce_multiply\n",
    "from sympy import symbols, expand\n",
    "\n",
    "u, v, e = symbols(\"u v e\")\n",
    "n = e**2 + e**3\n",
    "m = e + e**4\n",
    "\n",
    "\n",
    "def tI(u, v):\n",
    "    return (u**2 + v**2) * (u**2 - 2 * n * u * v - v**2) * (u**2 - 2 * m * u * v - v**2)\n",
    "\n",
    "\n",
    "e_simp(\n",
    "    expand(reduce_multiply([e ** (15 - 3 * k) * tI(u, v * e**k) for k in range(5)])), e\n",
    ")"
   ]
  },
  {
   "cell_type": "markdown",
   "id": "681255c5",
   "metadata": {},
   "source": [
    "What we intend to do next is to demonstrate the existence of a map from points\n",
    "$z$ on the complex plane (away from the edge midpoints) to a particular set of\n",
    "roots of a Brioschi quintic, whose Brioschi parameter can also be computed from\n",
    "$z$.\n",
    "\n",
    "To do this, we begin by considering the polynomial $P(X)$ given by\n",
    "\n",
    "$$\n",
    "\n",
    " P(X) = \\prod_{k=1}^5 \\left(X - \\epsilon^{15-3k} \\,t_I(u,v\\,\\epsilon^k)\\right) \\,.\n",
    "\n",
    "$$\n",
    "\n",
    "Expanding, we find that\n",
    "\n",
    "$$\n",
    "\n",
    "P(X) = X^5 - 10\\,f(u,v)\\,X^3+45\\,f(u,v)^2\\,X - T(u,v)\n",
    "\n",
    "$$\n",
    "\n",
    "where $f(u,v) = uv\\left(u^{10}+11\\,u^5v^5-v^{10}\\right)$, as in the previous\n",
    "[Section](icosa)."
   ]
  },
  {
   "cell_type": "code",
   "execution_count": null,
   "id": "3997cd30",
   "metadata": {},
   "outputs": [
    {
     "data": {
      "text/latex": [
       "$\\displaystyle X^{5} + X^{3} \\left(- 10 u^{11} v - 110 u^{6} v^{6} + 10 u v^{11}\\right) + X \\left(45 u^{22} v^{2} + 990 u^{17} v^{7} + 5355 u^{12} v^{12} - 990 u^{7} v^{17} + 45 u^{2} v^{22}\\right) - u^{30} - 522 u^{25} v^{5} + 10005 u^{20} v^{10} + 10005 u^{10} v^{20} + 522 u^{5} v^{25} - v^{30}$"
      ],
      "text/plain": [
       "X**5 + X**3*(-10*u**11*v - 110*u**6*v**6 + 10*u*v**11) + X*(45*u**22*v**2 + 990*u**17*v**7 + 5355*u**12*v**12 - 990*u**7*v**17 + 45*u**2*v**22) - u**30 - 522*u**25*v**5 + 10005*u**20*v**10 + 10005*u**10*v**20 + 522*u**5*v**25 - v**30"
      ]
     },
     "execution_count": 10,
     "metadata": {},
     "output_type": "execute_result"
    }
   ],
   "source": [
    "# Check of the above:\n",
    "X = symbols(\"X\")\n",
    "e_simp(\n",
    "    reduce_multiply([X - e ** (15 - 3 * k) * tI(u, v * e**k) for k in range(5)]), e\n",
    ").collect(X)"
   ]
  },
  {
   "cell_type": "code",
   "execution_count": null,
   "id": "772a45ae",
   "metadata": {},
   "outputs": [
    {
     "data": {
      "text/latex": [
       "$\\displaystyle 45 u^{22} v^{2} + 990 u^{17} v^{7} + 5355 u^{12} v^{12} - 990 u^{7} v^{17} + 45 u^{2} v^{22}$"
      ],
      "text/plain": [
       "45*u**22*v**2 + 990*u**17*v**7 + 5355*u**12*v**12 - 990*u**7*v**17 + 45*u**2*v**22"
      ]
     },
     "execution_count": 14,
     "metadata": {},
     "output_type": "execute_result"
    }
   ],
   "source": [
    "f = u * v * (u**10 + 11 * u**5 * v**5 - v**10)\n",
    "(45 * f**2).expand()"
   ]
  },
  {
   "cell_type": "markdown",
   "id": "7c91ceb3",
   "metadata": {},
   "source": [
    "Therefore, if we define the homogeneous coordinates\n",
    "\n",
    "$$\n",
    "\n",
    "x_k(u,v) := -\\frac{f^2(u,v)}{T(u,v)}\\,\\epsilon^{15-3k}\\,t_I(u,v\\,\\epsilon^k) \\,,\n",
    "\n",
    "$$\n",
    "\n",
    "then the polynomial can be readily factored as follows:\n",
    "\n",
    "$$\n",
    "\n",
    "P_B(X,z) = \\prod_{k=1}^5 \\left(X- x_k(z,1)\\right) \\,.\n",
    "\n",
    "$$\n",
    "\n",
    "Also, since the $x_k(u,v)$ are of degree zero in $u$ and $v$, they are\n",
    "well-defined complex functions of $z := u/v$ everywhere except for at the edge\n",
    "midpoints.\n",
    "\n",
    "The polynomial $P_B(X)$ is indeed a Brioschi quintic with Brioschi parameter\n",
    "\n",
    "$$\n",
    "\n",
    "B(z) = -\\frac{f^5(z,1)}{T^2(z,1)}\n",
    "\n",
    "$$\n",
    "\n",
    "such that\n",
    "\n",
    "$$\n",
    "\n",
    "P_B(X,z) = X^5 +10\\,B(z)\\, X^3 + 45\\,B^2(z)\\,X + B^2(z)\n",
    "\n",
    "$$"
   ]
  },
  {
   "cell_type": "markdown",
   "id": "cfe3b1a4",
   "metadata": {},
   "source": []
  },
  {
   "cell_type": "code",
   "execution_count": null,
   "id": "a5079b90",
   "metadata": {},
   "outputs": [],
   "source": []
  },
  {
   "cell_type": "code",
   "execution_count": null,
   "id": "64258452",
   "metadata": {},
   "outputs": [],
   "source": []
  },
  {
   "cell_type": "code",
   "execution_count": null,
   "id": "c6eac966",
   "metadata": {},
   "outputs": [],
   "source": []
  },
  {
   "cell_type": "code",
   "execution_count": null,
   "id": "e3b8ff77",
   "metadata": {},
   "outputs": [],
   "source": []
  }
 ],
 "metadata": {
  "kernelspec": {
   "display_name": "ag_notes",
   "language": "python",
   "name": "python3"
  },
  "language_info": {
   "codemirror_mode": {
    "name": "ipython",
    "version": 3
   },
   "file_extension": ".py",
   "mimetype": "text/x-python",
   "name": "python",
   "nbconvert_exporter": "python",
   "pygments_lexer": "ipython3",
   "version": "3.13.3"
  }
 },
 "nbformat": 4,
 "nbformat_minor": 5
}
