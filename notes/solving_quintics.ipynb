{
 "cells": [
  {
   "cell_type": "markdown",
   "id": "c5e05bf8",
   "metadata": {},
   "source": [
    "# Solving Quintics\n",
    "\n",
    "In this section, we explain how to exploit the icosahedral symmetry discussed before to solve an arbitrary polynomial of order five (also known as a quintic polynomial).\n",
    "\n",
    "We begin by returning to a result derived earlier: in the [Section on Icosahedral Symmetry](icosa), we showed that the the icosahedral face centres can be grouped into five octohedra:\n",
    "\n",
    "$$\n",
    "\n",
    "T(u,v) = \\prod_{k=1}^5 t_I(u,v, \\epsilon^k) = u^{30} +522\\left(u^{25}\\,v^5-u^5\\,v^{25}\\right) - 10005\\left(u^{20}\\,v^{10} + u^{10}\\,v^{20}\\right) + v^{30} \\,.\n",
    "\n",
    "\n",
    "$$\n",
    "\n",
    "where\n",
    "\n",
    "$$\n",
    "\n",
    "t_I(u,v, e^{i\\theta}) := u^6 + 2\\,u^5\\,v\\,e^{i\\theta}-5\\,u^4\\,v^2\\,e^{2\\,i\\theta} \n",
    "- 5\\,u^2\\,v^4\\,e^{4\\,i\\theta} - 2\\,u\\,v^5\\,e^{5\\,i\\theta} + v^6\\,e^{6\\,i\\theta}\n",
    "\n",
    "$$\n",
    "\n",
    "is the polynomial invariant for a single octahedron tilted by polar angles $(\\alpha, \\theta)$ &mdash; once we have set $\\tan 2\\alpha = 2$ for an edge centre &mdash; and $\\epsilon := \\exp\\left(2\\pi i /5\\right)$."
   ]
  },
  {
   "cell_type": "code",
   "execution_count": 3,
   "id": "7ed25c12",
   "metadata": {},
   "outputs": [
    {
     "data": {
      "text/latex": [
       "$\\displaystyle u^{30} + 522 u^{25} v^{5} - 10005 u^{20} v^{10} - 10005 u^{10} v^{20} - 522 u^{5} v^{25} + v^{30}$"
      ],
      "text/plain": [
       "u**30 + 522*u**25*v**5 - 10005*u**20*v**10 - 10005*u**10*v**20 - 522*u**5*v**25 + v**30"
      ]
     },
     "execution_count": 3,
     "metadata": {},
     "output_type": "execute_result"
    }
   ],
   "source": [
    "# Check of the above\n",
    "from utils import e_simp, reduce_multiply\n",
    "from sympy import symbols, expand\n",
    "\n",
    "u, v, e = symbols(\"u v e\")\n",
    "\n",
    "\n",
    "def tI(u, v, p):\n",
    "    return (\n",
    "        u**6\n",
    "        + 2 * u**5 * v * p\n",
    "        - 5 * u**4 * v**2 * p**2\n",
    "        - 5 * u**2 * v**4 * p**4\n",
    "        - 2 * u * v**5 * p**5\n",
    "        + v**6 * p**6\n",
    "    )\n",
    "\n",
    "\n",
    "e_simp(expand(reduce_multiply([tI(u, v, e**k) for k in range(5)])), e)"
   ]
  },
  {
   "cell_type": "markdown",
   "id": "cfe3b1a4",
   "metadata": {},
   "source": []
  },
  {
   "cell_type": "code",
   "execution_count": null,
   "id": "a5079b90",
   "metadata": {},
   "outputs": [],
   "source": []
  },
  {
   "cell_type": "code",
   "execution_count": null,
   "id": "64258452",
   "metadata": {},
   "outputs": [],
   "source": []
  },
  {
   "cell_type": "code",
   "execution_count": null,
   "id": "c6eac966",
   "metadata": {},
   "outputs": [],
   "source": []
  },
  {
   "cell_type": "code",
   "execution_count": null,
   "id": "e3b8ff77",
   "metadata": {},
   "outputs": [],
   "source": []
  }
 ],
 "metadata": {
  "kernelspec": {
   "display_name": "ag_notes",
   "language": "python",
   "name": "python3"
  },
  "language_info": {
   "codemirror_mode": {
    "name": "ipython",
    "version": 3
   },
   "file_extension": ".py",
   "mimetype": "text/x-python",
   "name": "python",
   "nbconvert_exporter": "python",
   "pygments_lexer": "ipython3",
   "version": "3.13.3"
  }
 },
 "nbformat": 4,
 "nbformat_minor": 5
}
