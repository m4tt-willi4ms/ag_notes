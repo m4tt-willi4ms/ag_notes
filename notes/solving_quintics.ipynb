{
 "cells": [
  {
   "cell_type": "markdown",
   "id": "c5e05bf8",
   "metadata": {},
   "source": [
    "# Solving Quintics\n",
    "\n",
    "In this section, we explain how to exploit the icosahedral symmetry discussed before to solve an arbitrary polynomial of order five (also known as a quintic polynomial).\n",
    "\n",
    "We begin by returning to a result derived earlier: in the Section on [icosahedral symmetry](icosa_fc), we showed that the the icosahedral face centres can be grouped into five octohedra:\n",
    "\n",
    "$$\n",
    "\\begin{aligned}\n",
    "T(u,v) &= \\prod_{k=1}^5 t_I(u\\,\\epsilon^{-k/2},v\\,\\epsilon^{k/2}) = \\prod_{k=1}^5 \\epsilon^{15-3k} \\,t_I(u,v\\,\\epsilon^k) \\\\\n",
    "&= u^{30} +522\\left(u^{25}\\,v^5-u^5\\,v^{25}\\right) - 10005\\left(u^{20}\\,v^{10} + u^{10}\\,v^{20}\\right) + v^{30} \\,.\n",
    "\\end{aligned}\n",
    "\n",
    "\n",
    "$$\n",
    "\n",
    "where\n",
    "\n",
    "$$\n",
    "\n",
    "t_I(u,v) := (u^2+v^2)(u^2-2z_n\\,uv-v^2)(u^2-2z_m\\,uv-v^2) \\,.\n",
    "\n",
    "$$"
   ]
  },
  {
   "cell_type": "code",
   "execution_count": 1,
   "id": "7ed25c12",
   "metadata": {},
   "outputs": [
    {
     "data": {
      "text/plain": [
       "True"
      ]
     },
     "execution_count": 1,
     "metadata": {},
     "output_type": "execute_result"
    }
   ],
   "source": [
    "# Check of the above:\n",
    "from utils import e_simp, reduce_multiply\n",
    "from sympy import symbols, expand, simplify\n",
    "\n",
    "u, v, e = symbols(\"u v e\")\n",
    "z_n = e**2 + e**3\n",
    "z_m = e + e**4\n",
    "\n",
    "\n",
    "def tI(u, v):\n",
    "    return (\n",
    "        (u**2 + v**2)\n",
    "        * (u**2 - 2 * z_n * u * v - v**2)\n",
    "        * (u**2 - 2 * z_m * u * v - v**2)\n",
    "    )\n",
    "\n",
    "\n",
    "def T(u, v):\n",
    "    return (\n",
    "        u**30\n",
    "        + 522 * (u**25 * v**5 - u**5 * v**25)\n",
    "        - 10005 * (u**20 * v**10 + u**10 * v**20)\n",
    "        + v**30\n",
    "    )\n",
    "\n",
    "\n",
    "T_eval = e_simp(\n",
    "    expand(reduce_multiply([e ** (15 - 3 * k) * tI(u, v * e**k) for k in range(5)])), e\n",
    ")\n",
    "T_eval.equals(T(u, v))"
   ]
  },
  {
   "cell_type": "markdown",
   "id": "681255c5",
   "metadata": {},
   "source": [
    "What we intend to do next is to demonstrate the existence of a map from points\n",
    "$z$ on the complex plane (away from the edge midpoints) to a particular set of\n",
    "roots of a Brioschi quintic, whose Brioschi parameter can also be computed from\n",
    "$z$.\n",
    "\n",
    "To do this, we begin by considering the polynomial $P(X)$ given by\n",
    "\n",
    "$$\n",
    "\n",
    " P(X) = \\prod_{k=1}^5 \\left(X - \\epsilon^{15-3k} \\,t_I(u,v\\,\\epsilon^k)\\right) \\,.\n",
    "\n",
    "$$\n",
    "\n",
    "Expanding, we find that\n",
    "\n",
    "$$\n",
    "\n",
    "P(X) = X^5 - 10\\,f(u,v)\\,X^3+45\\,f(u,v)^2\\,X - T(u,v)\n",
    "\n",
    "$$\n",
    "\n",
    "where $f(u,v) = uv\\left(u^{10}+11\\,u^5v^5-v^{10}\\right)$, as in the previous\n",
    "[Section](icosa)."
   ]
  },
  {
   "cell_type": "code",
   "execution_count": 2,
   "id": "3997cd30",
   "metadata": {},
   "outputs": [
    {
     "ename": "KeyboardInterrupt",
     "evalue": "",
     "output_type": "error",
     "traceback": [
      "\u001b[0;31m---------------------------------------------------------------------------\u001b[0m",
      "\u001b[0;31mKeyboardInterrupt\u001b[0m                         Traceback (most recent call last)",
      "Cell \u001b[0;32mIn[2], line 3\u001b[0m\n\u001b[1;32m      1\u001b[0m \u001b[38;5;66;03m# Check of the above:\u001b[39;00m\n\u001b[1;32m      2\u001b[0m X \u001b[38;5;241m=\u001b[39m symbols(\u001b[38;5;124m\"\u001b[39m\u001b[38;5;124mX\u001b[39m\u001b[38;5;124m\"\u001b[39m)\n\u001b[0;32m----> 3\u001b[0m result \u001b[38;5;241m=\u001b[39m \u001b[43me_simp\u001b[49m\u001b[43m(\u001b[49m\n\u001b[1;32m      4\u001b[0m \u001b[43m    \u001b[49m\u001b[43mreduce_multiply\u001b[49m\u001b[43m(\u001b[49m\u001b[43m[\u001b[49m\u001b[43mX\u001b[49m\u001b[43m \u001b[49m\u001b[38;5;241;43m-\u001b[39;49m\u001b[43m \u001b[49m\u001b[43me\u001b[49m\u001b[43m \u001b[49m\u001b[38;5;241;43m*\u001b[39;49m\u001b[38;5;241;43m*\u001b[39;49m\u001b[43m \u001b[49m\u001b[43m(\u001b[49m\u001b[38;5;241;43m15\u001b[39;49m\u001b[43m \u001b[49m\u001b[38;5;241;43m-\u001b[39;49m\u001b[43m \u001b[49m\u001b[38;5;241;43m3\u001b[39;49m\u001b[43m \u001b[49m\u001b[38;5;241;43m*\u001b[39;49m\u001b[43m \u001b[49m\u001b[43mk\u001b[49m\u001b[43m)\u001b[49m\u001b[43m \u001b[49m\u001b[38;5;241;43m*\u001b[39;49m\u001b[43m \u001b[49m\u001b[43mtI\u001b[49m\u001b[43m(\u001b[49m\u001b[43mu\u001b[49m\u001b[43m,\u001b[49m\u001b[43m \u001b[49m\u001b[43mv\u001b[49m\u001b[43m \u001b[49m\u001b[38;5;241;43m*\u001b[39;49m\u001b[43m \u001b[49m\u001b[43me\u001b[49m\u001b[38;5;241;43m*\u001b[39;49m\u001b[38;5;241;43m*\u001b[39;49m\u001b[43mk\u001b[49m\u001b[43m)\u001b[49m\u001b[43m \u001b[49m\u001b[38;5;28;43;01mfor\u001b[39;49;00m\u001b[43m \u001b[49m\u001b[43mk\u001b[49m\u001b[43m \u001b[49m\u001b[38;5;129;43;01min\u001b[39;49;00m\u001b[43m \u001b[49m\u001b[38;5;28;43mrange\u001b[39;49m\u001b[43m(\u001b[49m\u001b[38;5;241;43m5\u001b[39;49m\u001b[43m)\u001b[49m\u001b[43m]\u001b[49m\u001b[43m)\u001b[49m\u001b[43m,\u001b[49m\u001b[43m \u001b[49m\u001b[43me\u001b[49m\n\u001b[1;32m      5\u001b[0m \u001b[43m)\u001b[49m\u001b[38;5;241m.\u001b[39mcollect(X)\n\u001b[1;32m      6\u001b[0m result\n",
      "File \u001b[0;32m~/Documents/coding/ag_notes/notes/utils.py:61\u001b[0m, in \u001b[0;36me_simp\u001b[0;34m(expr, e, full, cleanup)\u001b[0m\n\u001b[1;32m     60\u001b[0m \u001b[38;5;28;01mdef\u001b[39;00m\u001b[38;5;250m \u001b[39m\u001b[38;5;21me_simp\u001b[39m(expr, e, full\u001b[38;5;241m=\u001b[39m\u001b[38;5;28;01mTrue\u001b[39;00m, cleanup\u001b[38;5;241m=\u001b[39m\u001b[38;5;28;01mTrue\u001b[39;00m):\n\u001b[0;32m---> 61\u001b[0m     result \u001b[38;5;241m=\u001b[39m \u001b[43mPoly\u001b[49m\u001b[43m(\u001b[49m\u001b[43mexpr\u001b[49m\u001b[43m,\u001b[49m\u001b[43m \u001b[49m\u001b[43me\u001b[49m\u001b[43m)\u001b[49m\n\u001b[1;32m     62\u001b[0m     e_coeffs \u001b[38;5;241m=\u001b[39m \u001b[38;5;28mreversed\u001b[39m(result\u001b[38;5;241m.\u001b[39mall_coeffs())\n\u001b[1;32m     63\u001b[0m     simp_coeffs \u001b[38;5;241m=\u001b[39m [\u001b[38;5;241m0\u001b[39m] \u001b[38;5;241m*\u001b[39m \u001b[38;5;241m5\u001b[39m\n",
      "File \u001b[0;32m~/Documents/coding/ag_notes/.venv/lib/python3.13/site-packages/sympy/polys/polytools.py:186\u001b[0m, in \u001b[0;36mPoly.__new__\u001b[0;34m(cls, rep, *gens, **args)\u001b[0m\n\u001b[1;32m    184\u001b[0m     \u001b[38;5;28;01mreturn\u001b[39;00m \u001b[38;5;28mcls\u001b[39m\u001b[38;5;241m.\u001b[39m_from_poly(rep, opt)\n\u001b[1;32m    185\u001b[0m \u001b[38;5;28;01melse\u001b[39;00m:\n\u001b[0;32m--> 186\u001b[0m     \u001b[38;5;28;01mreturn\u001b[39;00m \u001b[38;5;28;43mcls\u001b[39;49m\u001b[38;5;241;43m.\u001b[39;49m\u001b[43m_from_expr\u001b[49m\u001b[43m(\u001b[49m\u001b[43mrep\u001b[49m\u001b[43m,\u001b[49m\u001b[43m \u001b[49m\u001b[43mopt\u001b[49m\u001b[43m)\u001b[49m\n",
      "File \u001b[0;32m~/Documents/coding/ag_notes/.venv/lib/python3.13/site-packages/sympy/polys/polytools.py:315\u001b[0m, in \u001b[0;36mPoly._from_expr\u001b[0;34m(cls, rep, opt)\u001b[0m\n\u001b[1;32m    312\u001b[0m \u001b[38;5;129m@classmethod\u001b[39m\n\u001b[1;32m    313\u001b[0m \u001b[38;5;28;01mdef\u001b[39;00m\u001b[38;5;250m \u001b[39m\u001b[38;5;21m_from_expr\u001b[39m(\u001b[38;5;28mcls\u001b[39m, rep, opt):\n\u001b[1;32m    314\u001b[0m \u001b[38;5;250m    \u001b[39m\u001b[38;5;124;03m\"\"\"Construct a polynomial from an expression. \"\"\"\u001b[39;00m\n\u001b[0;32m--> 315\u001b[0m     rep, opt \u001b[38;5;241m=\u001b[39m \u001b[43m_dict_from_expr\u001b[49m\u001b[43m(\u001b[49m\u001b[43mrep\u001b[49m\u001b[43m,\u001b[49m\u001b[43m \u001b[49m\u001b[43mopt\u001b[49m\u001b[43m)\u001b[49m\n\u001b[1;32m    316\u001b[0m     \u001b[38;5;28;01mreturn\u001b[39;00m \u001b[38;5;28mcls\u001b[39m\u001b[38;5;241m.\u001b[39m_from_dict(rep, opt)\n",
      "File \u001b[0;32m~/Documents/coding/ag_notes/.venv/lib/python3.13/site-packages/sympy/polys/polyutils.py:375\u001b[0m, in \u001b[0;36m_dict_from_expr\u001b[0;34m(expr, opt)\u001b[0m\n\u001b[1;32m    373\u001b[0m \u001b[38;5;28;01mif\u001b[39;00m \u001b[38;5;129;01mnot\u001b[39;00m \u001b[38;5;28misinstance\u001b[39m(expr, (Expr, Eq)):\n\u001b[1;32m    374\u001b[0m     \u001b[38;5;28;01mraise\u001b[39;00m PolynomialError(\u001b[38;5;124m'\u001b[39m\u001b[38;5;124mexpression must be of type Expr\u001b[39m\u001b[38;5;124m'\u001b[39m)\n\u001b[0;32m--> 375\u001b[0m expr \u001b[38;5;241m=\u001b[39m \u001b[43mexpr\u001b[49m\u001b[38;5;241;43m.\u001b[39;49m\u001b[43mexpand\u001b[49m\u001b[43m(\u001b[49m\u001b[43m)\u001b[49m\n\u001b[1;32m    376\u001b[0m \u001b[38;5;66;03m# TODO: Integrate this into expand() itself\u001b[39;00m\n\u001b[1;32m    377\u001b[0m \u001b[38;5;28;01mwhile\u001b[39;00m \u001b[38;5;28many\u001b[39m(_is_expandable_pow(i) \u001b[38;5;129;01mor\u001b[39;00m i\u001b[38;5;241m.\u001b[39mis_Mul \u001b[38;5;129;01mand\u001b[39;00m\n\u001b[1;32m    378\u001b[0m     \u001b[38;5;28many\u001b[39m(_is_expandable_pow(j) \u001b[38;5;28;01mfor\u001b[39;00m j \u001b[38;5;129;01min\u001b[39;00m i\u001b[38;5;241m.\u001b[39margs) \u001b[38;5;28;01mfor\u001b[39;00m i \u001b[38;5;129;01min\u001b[39;00m\n\u001b[1;32m    379\u001b[0m         Add\u001b[38;5;241m.\u001b[39mmake_args(expr)):\n",
      "File \u001b[0;32m~/Documents/coding/ag_notes/.venv/lib/python3.13/site-packages/sympy/core/cache.py:72\u001b[0m, in \u001b[0;36m__cacheit.<locals>.func_wrapper.<locals>.wrapper\u001b[0;34m(*args, **kwargs)\u001b[0m\n\u001b[1;32m     69\u001b[0m \u001b[38;5;129m@wraps\u001b[39m(func)\n\u001b[1;32m     70\u001b[0m \u001b[38;5;28;01mdef\u001b[39;00m\u001b[38;5;250m \u001b[39m\u001b[38;5;21mwrapper\u001b[39m(\u001b[38;5;241m*\u001b[39margs, \u001b[38;5;241m*\u001b[39m\u001b[38;5;241m*\u001b[39mkwargs):\n\u001b[1;32m     71\u001b[0m     \u001b[38;5;28;01mtry\u001b[39;00m:\n\u001b[0;32m---> 72\u001b[0m         retval \u001b[38;5;241m=\u001b[39m \u001b[43mcfunc\u001b[49m\u001b[43m(\u001b[49m\u001b[38;5;241;43m*\u001b[39;49m\u001b[43margs\u001b[49m\u001b[43m,\u001b[49m\u001b[43m \u001b[49m\u001b[38;5;241;43m*\u001b[39;49m\u001b[38;5;241;43m*\u001b[39;49m\u001b[43mkwargs\u001b[49m\u001b[43m)\u001b[49m\n\u001b[1;32m     73\u001b[0m     \u001b[38;5;28;01mexcept\u001b[39;00m \u001b[38;5;167;01mTypeError\u001b[39;00m \u001b[38;5;28;01mas\u001b[39;00m e:\n\u001b[1;32m     74\u001b[0m         \u001b[38;5;28;01mif\u001b[39;00m \u001b[38;5;129;01mnot\u001b[39;00m e\u001b[38;5;241m.\u001b[39margs \u001b[38;5;129;01mor\u001b[39;00m \u001b[38;5;129;01mnot\u001b[39;00m e\u001b[38;5;241m.\u001b[39margs[\u001b[38;5;241m0\u001b[39m]\u001b[38;5;241m.\u001b[39mstartswith(\u001b[38;5;124m'\u001b[39m\u001b[38;5;124munhashable type:\u001b[39m\u001b[38;5;124m'\u001b[39m):\n",
      "File \u001b[0;32m~/Documents/coding/ag_notes/.venv/lib/python3.13/site-packages/sympy/core/expr.py:3673\u001b[0m, in \u001b[0;36mExpr.expand\u001b[0;34m(self, deep, modulus, power_base, power_exp, mul, log, multinomial, basic, **hints)\u001b[0m\n\u001b[1;32m   3671\u001b[0m     \u001b[38;5;28;01mif\u001b[39;00m use_hint:\n\u001b[1;32m   3672\u001b[0m         hint \u001b[38;5;241m=\u001b[39m \u001b[38;5;124m'\u001b[39m\u001b[38;5;124m_eval_expand_\u001b[39m\u001b[38;5;124m'\u001b[39m \u001b[38;5;241m+\u001b[39m hint\n\u001b[0;32m-> 3673\u001b[0m         expr, hit \u001b[38;5;241m=\u001b[39m \u001b[43mExpr\u001b[49m\u001b[38;5;241;43m.\u001b[39;49m\u001b[43m_expand_hint\u001b[49m\u001b[43m(\u001b[49m\u001b[43mexpr\u001b[49m\u001b[43m,\u001b[49m\u001b[43m \u001b[49m\u001b[43mhint\u001b[49m\u001b[43m,\u001b[49m\u001b[43m \u001b[49m\u001b[43mdeep\u001b[49m\u001b[38;5;241;43m=\u001b[39;49m\u001b[43mdeep\u001b[49m\u001b[43m,\u001b[49m\u001b[43m \u001b[49m\u001b[38;5;241;43m*\u001b[39;49m\u001b[38;5;241;43m*\u001b[39;49m\u001b[43mhints\u001b[49m\u001b[43m)\u001b[49m\n\u001b[1;32m   3675\u001b[0m \u001b[38;5;28;01mwhile\u001b[39;00m \u001b[38;5;28;01mTrue\u001b[39;00m:\n\u001b[1;32m   3676\u001b[0m     was \u001b[38;5;241m=\u001b[39m expr\n",
      "File \u001b[0;32m~/Documents/coding/ag_notes/.venv/lib/python3.13/site-packages/sympy/core/expr.py:3612\u001b[0m, in \u001b[0;36mExpr._expand_hint\u001b[0;34m(expr, hint, deep, **hints)\u001b[0m\n\u001b[1;32m   3609\u001b[0m         expr \u001b[38;5;241m=\u001b[39m expr\u001b[38;5;241m.\u001b[39mfunc(\u001b[38;5;241m*\u001b[39msargs)\n\u001b[1;32m   3611\u001b[0m \u001b[38;5;28;01mif\u001b[39;00m \u001b[38;5;28mhasattr\u001b[39m(expr, hint):\n\u001b[0;32m-> 3612\u001b[0m     newexpr \u001b[38;5;241m=\u001b[39m \u001b[38;5;28;43mgetattr\u001b[39;49m\u001b[43m(\u001b[49m\u001b[43mexpr\u001b[49m\u001b[43m,\u001b[49m\u001b[43m \u001b[49m\u001b[43mhint\u001b[49m\u001b[43m)\u001b[49m\u001b[43m(\u001b[49m\u001b[38;5;241;43m*\u001b[39;49m\u001b[38;5;241;43m*\u001b[39;49m\u001b[43mhints\u001b[49m\u001b[43m)\u001b[49m\n\u001b[1;32m   3613\u001b[0m     \u001b[38;5;28;01mif\u001b[39;00m newexpr \u001b[38;5;241m!=\u001b[39m expr:\n\u001b[1;32m   3614\u001b[0m         \u001b[38;5;28;01mreturn\u001b[39;00m (newexpr, \u001b[38;5;28;01mTrue\u001b[39;00m)\n",
      "File \u001b[0;32m~/Documents/coding/ag_notes/.venv/lib/python3.13/site-packages/sympy/core/mul.py:948\u001b[0m, in \u001b[0;36mMul._eval_expand_mul\u001b[0;34m(self, **hints)\u001b[0m\n\u001b[1;32m    946\u001b[0m \u001b[38;5;28;01mif\u001b[39;00m sums:\n\u001b[1;32m    947\u001b[0m     deep \u001b[38;5;241m=\u001b[39m hints\u001b[38;5;241m.\u001b[39mget(\u001b[38;5;124m\"\u001b[39m\u001b[38;5;124mdeep\u001b[39m\u001b[38;5;124m\"\u001b[39m, \u001b[38;5;28;01mFalse\u001b[39;00m)\n\u001b[0;32m--> 948\u001b[0m     terms \u001b[38;5;241m=\u001b[39m \u001b[38;5;28;43mself\u001b[39;49m\u001b[38;5;241;43m.\u001b[39;49m\u001b[43mfunc\u001b[49m\u001b[38;5;241;43m.\u001b[39;49m\u001b[43m_expandsums\u001b[49m\u001b[43m(\u001b[49m\u001b[43msums\u001b[49m\u001b[43m)\u001b[49m\n\u001b[1;32m    949\u001b[0m     args \u001b[38;5;241m=\u001b[39m []\n\u001b[1;32m    950\u001b[0m     \u001b[38;5;28;01mfor\u001b[39;00m term \u001b[38;5;129;01min\u001b[39;00m terms:\n",
      "File \u001b[0;32m~/Documents/coding/ag_notes/.venv/lib/python3.13/site-packages/sympy/core/mul.py:912\u001b[0m, in \u001b[0;36mMul._expandsums\u001b[0;34m(sums)\u001b[0m\n\u001b[1;32m    909\u001b[0m left \u001b[38;5;241m=\u001b[39m Mul\u001b[38;5;241m.\u001b[39m_expandsums(sums[:L\u001b[38;5;241m/\u001b[39m\u001b[38;5;241m/\u001b[39m\u001b[38;5;241m2\u001b[39m])\n\u001b[1;32m    910\u001b[0m right \u001b[38;5;241m=\u001b[39m Mul\u001b[38;5;241m.\u001b[39m_expandsums(sums[L\u001b[38;5;241m/\u001b[39m\u001b[38;5;241m/\u001b[39m\u001b[38;5;241m2\u001b[39m:])\n\u001b[0;32m--> 912\u001b[0m terms \u001b[38;5;241m=\u001b[39m [\u001b[43mMul\u001b[49m\u001b[43m(\u001b[49m\u001b[43ma\u001b[49m\u001b[43m,\u001b[49m\u001b[43m \u001b[49m\u001b[43mb\u001b[49m\u001b[43m)\u001b[49m \u001b[38;5;28;01mfor\u001b[39;00m a \u001b[38;5;129;01min\u001b[39;00m left \u001b[38;5;28;01mfor\u001b[39;00m b \u001b[38;5;129;01min\u001b[39;00m right]\n\u001b[1;32m    913\u001b[0m added \u001b[38;5;241m=\u001b[39m Add(\u001b[38;5;241m*\u001b[39mterms)\n\u001b[1;32m    914\u001b[0m \u001b[38;5;28;01mreturn\u001b[39;00m Add\u001b[38;5;241m.\u001b[39mmake_args(added)\n",
      "File \u001b[0;32m~/Documents/coding/ag_notes/.venv/lib/python3.13/site-packages/sympy/core/cache.py:72\u001b[0m, in \u001b[0;36m__cacheit.<locals>.func_wrapper.<locals>.wrapper\u001b[0;34m(*args, **kwargs)\u001b[0m\n\u001b[1;32m     69\u001b[0m \u001b[38;5;129m@wraps\u001b[39m(func)\n\u001b[1;32m     70\u001b[0m \u001b[38;5;28;01mdef\u001b[39;00m\u001b[38;5;250m \u001b[39m\u001b[38;5;21mwrapper\u001b[39m(\u001b[38;5;241m*\u001b[39margs, \u001b[38;5;241m*\u001b[39m\u001b[38;5;241m*\u001b[39mkwargs):\n\u001b[1;32m     71\u001b[0m     \u001b[38;5;28;01mtry\u001b[39;00m:\n\u001b[0;32m---> 72\u001b[0m         retval \u001b[38;5;241m=\u001b[39m \u001b[43mcfunc\u001b[49m\u001b[43m(\u001b[49m\u001b[38;5;241;43m*\u001b[39;49m\u001b[43margs\u001b[49m\u001b[43m,\u001b[49m\u001b[43m \u001b[49m\u001b[38;5;241;43m*\u001b[39;49m\u001b[38;5;241;43m*\u001b[39;49m\u001b[43mkwargs\u001b[49m\u001b[43m)\u001b[49m\n\u001b[1;32m     73\u001b[0m     \u001b[38;5;28;01mexcept\u001b[39;00m \u001b[38;5;167;01mTypeError\u001b[39;00m \u001b[38;5;28;01mas\u001b[39;00m e:\n\u001b[1;32m     74\u001b[0m         \u001b[38;5;28;01mif\u001b[39;00m \u001b[38;5;129;01mnot\u001b[39;00m e\u001b[38;5;241m.\u001b[39margs \u001b[38;5;129;01mor\u001b[39;00m \u001b[38;5;129;01mnot\u001b[39;00m e\u001b[38;5;241m.\u001b[39margs[\u001b[38;5;241m0\u001b[39m]\u001b[38;5;241m.\u001b[39mstartswith(\u001b[38;5;124m'\u001b[39m\u001b[38;5;124munhashable type:\u001b[39m\u001b[38;5;124m'\u001b[39m):\n",
      "File \u001b[0;32m~/Documents/coding/ag_notes/.venv/lib/python3.13/site-packages/sympy/core/operations.py:98\u001b[0m, in \u001b[0;36mAssocOp.__new__\u001b[0;34m(cls, evaluate, _sympify, *args)\u001b[0m\n\u001b[1;32m     95\u001b[0m \u001b[38;5;28;01mif\u001b[39;00m \u001b[38;5;28mlen\u001b[39m(args) \u001b[38;5;241m==\u001b[39m \u001b[38;5;241m1\u001b[39m:\n\u001b[1;32m     96\u001b[0m     \u001b[38;5;28;01mreturn\u001b[39;00m args[\u001b[38;5;241m0\u001b[39m]\n\u001b[0;32m---> 98\u001b[0m c_part, nc_part, order_symbols \u001b[38;5;241m=\u001b[39m \u001b[38;5;28;43mcls\u001b[39;49m\u001b[38;5;241;43m.\u001b[39;49m\u001b[43mflatten\u001b[49m\u001b[43m(\u001b[49m\u001b[43margs\u001b[49m\u001b[43m)\u001b[49m\n\u001b[1;32m     99\u001b[0m is_commutative \u001b[38;5;241m=\u001b[39m \u001b[38;5;129;01mnot\u001b[39;00m nc_part\n\u001b[1;32m    100\u001b[0m obj \u001b[38;5;241m=\u001b[39m \u001b[38;5;28mcls\u001b[39m\u001b[38;5;241m.\u001b[39m_from_args(c_part \u001b[38;5;241m+\u001b[39m nc_part, is_commutative)\n",
      "File \u001b[0;32m~/Documents/coding/ag_notes/.venv/lib/python3.13/site-packages/sympy/core/mul.py:704\u001b[0m, in \u001b[0;36mMul.flatten\u001b[0;34m(cls, seq)\u001b[0m\n\u001b[1;32m    701\u001b[0m c_part \u001b[38;5;241m=\u001b[39m _new\n\u001b[1;32m    703\u001b[0m \u001b[38;5;66;03m# order commutative part canonically\u001b[39;00m\n\u001b[0;32m--> 704\u001b[0m \u001b[43m_mulsort\u001b[49m\u001b[43m(\u001b[49m\u001b[43mc_part\u001b[49m\u001b[43m)\u001b[49m\n\u001b[1;32m    706\u001b[0m \u001b[38;5;66;03m# current code expects coeff to be always in slot-0\u001b[39;00m\n\u001b[1;32m    707\u001b[0m \u001b[38;5;28;01mif\u001b[39;00m coeff \u001b[38;5;129;01mis\u001b[39;00m \u001b[38;5;129;01mnot\u001b[39;00m S\u001b[38;5;241m.\u001b[39mOne:\n",
      "File \u001b[0;32m~/Documents/coding/ag_notes/.venv/lib/python3.13/site-packages/sympy/core/mul.py:34\u001b[0m, in \u001b[0;36m_mulsort\u001b[0;34m(args)\u001b[0m\n\u001b[1;32m     32\u001b[0m \u001b[38;5;28;01mdef\u001b[39;00m\u001b[38;5;250m \u001b[39m\u001b[38;5;21m_mulsort\u001b[39m(args):\n\u001b[1;32m     33\u001b[0m     \u001b[38;5;66;03m# in-place sorting of args\u001b[39;00m\n\u001b[0;32m---> 34\u001b[0m     \u001b[43margs\u001b[49m\u001b[38;5;241;43m.\u001b[39;49m\u001b[43msort\u001b[49m\u001b[43m(\u001b[49m\u001b[43mkey\u001b[49m\u001b[38;5;241;43m=\u001b[39;49m\u001b[43m_args_sortkey\u001b[49m\u001b[43m)\u001b[49m\n",
      "File \u001b[0;32m~/Documents/coding/ag_notes/.venv/lib/python3.13/site-packages/sympy/core/basic.py:341\u001b[0m, in \u001b[0;36mBasic.compare\u001b[0;34m(self, other)\u001b[0m\n\u001b[1;32m    339\u001b[0m n1 \u001b[38;5;241m=\u001b[39m \u001b[38;5;28mself\u001b[39m\u001b[38;5;241m.\u001b[39m\u001b[38;5;18m__class__\u001b[39m\n\u001b[1;32m    340\u001b[0m n2 \u001b[38;5;241m=\u001b[39m other\u001b[38;5;241m.\u001b[39m\u001b[38;5;18m__class__\u001b[39m\n\u001b[0;32m--> 341\u001b[0m c \u001b[38;5;241m=\u001b[39m \u001b[43m_cmp_name\u001b[49m\u001b[43m(\u001b[49m\u001b[43mn1\u001b[49m\u001b[43m,\u001b[49m\u001b[43m \u001b[49m\u001b[43mn2\u001b[49m\u001b[43m)\u001b[49m\n\u001b[1;32m    342\u001b[0m \u001b[38;5;28;01mif\u001b[39;00m c:\n\u001b[1;32m    343\u001b[0m     \u001b[38;5;28;01mreturn\u001b[39;00m c\n",
      "File \u001b[0;32m~/Documents/coding/ag_notes/.venv/lib/python3.13/site-packages/sympy/core/basic.py:80\u001b[0m, in \u001b[0;36m_cmp_name\u001b[0;34m(x, y)\u001b[0m\n\u001b[1;32m     36\u001b[0m \u001b[38;5;66;03m# Key for sorting commutative args in canonical order\u001b[39;00m\n\u001b[1;32m     37\u001b[0m \u001b[38;5;66;03m# by name. This is used for canonical ordering of the\u001b[39;00m\n\u001b[1;32m     38\u001b[0m \u001b[38;5;66;03m# args for Add and Mul *if* the names of both classes\u001b[39;00m\n\u001b[1;32m     39\u001b[0m \u001b[38;5;66;03m# being compared appear here. Some things in this list\u001b[39;00m\n\u001b[1;32m     40\u001b[0m \u001b[38;5;66;03m# are not spelled the same as their name so they do not,\u001b[39;00m\n\u001b[1;32m     41\u001b[0m \u001b[38;5;66;03m# in effect, appear here. See Basic.compare.\u001b[39;00m\n\u001b[1;32m     42\u001b[0m ordering_of_classes \u001b[38;5;241m=\u001b[39m [\n\u001b[1;32m     43\u001b[0m     \u001b[38;5;66;03m# singleton numbers\u001b[39;00m\n\u001b[1;32m     44\u001b[0m     \u001b[38;5;124m'\u001b[39m\u001b[38;5;124mZero\u001b[39m\u001b[38;5;124m'\u001b[39m, \u001b[38;5;124m'\u001b[39m\u001b[38;5;124mOne\u001b[39m\u001b[38;5;124m'\u001b[39m, \u001b[38;5;124m'\u001b[39m\u001b[38;5;124mHalf\u001b[39m\u001b[38;5;124m'\u001b[39m, \u001b[38;5;124m'\u001b[39m\u001b[38;5;124mInfinity\u001b[39m\u001b[38;5;124m'\u001b[39m, \u001b[38;5;124m'\u001b[39m\u001b[38;5;124mNaN\u001b[39m\u001b[38;5;124m'\u001b[39m, \u001b[38;5;124m'\u001b[39m\u001b[38;5;124mNegativeOne\u001b[39m\u001b[38;5;124m'\u001b[39m, \u001b[38;5;124m'\u001b[39m\u001b[38;5;124mNegativeInfinity\u001b[39m\u001b[38;5;124m'\u001b[39m,\n\u001b[0;32m   (...)\u001b[0m\n\u001b[1;32m     77\u001b[0m     \u001b[38;5;124m'\u001b[39m\u001b[38;5;124mGreaterThan\u001b[39m\u001b[38;5;124m'\u001b[39m, \u001b[38;5;124m'\u001b[39m\u001b[38;5;124mLessThan\u001b[39m\u001b[38;5;124m'\u001b[39m,\n\u001b[1;32m     78\u001b[0m ]\n\u001b[0;32m---> 80\u001b[0m \u001b[38;5;28;01mdef\u001b[39;00m\u001b[38;5;250m \u001b[39m\u001b[38;5;21m_cmp_name\u001b[39m(x: \u001b[38;5;28mtype\u001b[39m, y: \u001b[38;5;28mtype\u001b[39m) \u001b[38;5;241m-\u001b[39m\u001b[38;5;241m>\u001b[39m \u001b[38;5;28mint\u001b[39m:\n\u001b[1;32m     81\u001b[0m \u001b[38;5;250m    \u001b[39m\u001b[38;5;124;03m\"\"\"return -1, 0, 1 if the name of x is before that of y.\u001b[39;00m\n\u001b[1;32m     82\u001b[0m \u001b[38;5;124;03m    A string comparison is done if either name does not appear\u001b[39;00m\n\u001b[1;32m     83\u001b[0m \u001b[38;5;124;03m    in `ordering_of_classes`. This is the helper for\u001b[39;00m\n\u001b[0;32m   (...)\u001b[0m\n\u001b[1;32m    101\u001b[0m \n\u001b[1;32m    102\u001b[0m \u001b[38;5;124;03m    \"\"\"\u001b[39;00m\n\u001b[1;32m    103\u001b[0m     \u001b[38;5;66;03m# If the other object is not a Basic subclass, then we are not equal to it.\u001b[39;00m\n",
      "\u001b[0;31mKeyboardInterrupt\u001b[0m: "
     ]
    }
   ],
   "source": [
    "# Check of the above:\n",
    "X = symbols(\"X\")\n",
    "result = e_simp(\n",
    "    reduce_multiply([X - e ** (15 - 3 * k) * tI(u, v * e**k) for k in range(5)]), e\n",
    ").collect(X)\n",
    "result"
   ]
  },
  {
   "cell_type": "code",
   "execution_count": null,
   "id": "772a45ae",
   "metadata": {},
   "outputs": [
    {
     "data": {
      "text/plain": [
       "True"
      ]
     },
     "execution_count": 13,
     "metadata": {},
     "output_type": "execute_result"
    }
   ],
   "source": [
    "# Check the term linear in X is 45*f(u,v)^2, specifically\n",
    "def f(u, v):\n",
    "    return u * v * (u**10 + 11 * u**5 * v**5 - v**10)\n",
    "\n",
    "\n",
    "result.coeff(X).equals(45 * f(u, v) ** 2)"
   ]
  },
  {
   "cell_type": "code",
   "execution_count": null,
   "id": "1aa0f4be",
   "metadata": {},
   "outputs": [
    {
     "data": {
      "text/plain": [
       "True"
      ]
     },
     "execution_count": 4,
     "metadata": {},
     "output_type": "execute_result"
    }
   ],
   "source": [
    "# Check the whole polynomial\n",
    "result.equals(X**5 - 10 * f * X**3 + 45 * f**2 * X - T)"
   ]
  },
  {
   "cell_type": "markdown",
   "id": "7c91ceb3",
   "metadata": {},
   "source": [
    "Therefore, if we define the homogeneous coordinates\n",
    "\n",
    "$$\n",
    "\n",
    "x_k(u,v) := -\\frac{f^2(u,v)}{T(u,v)}\\,\\epsilon^{15-3k}\\,t_I(u,v\\,\\epsilon^k) \\,,\n",
    "\n",
    "$$\n",
    "\n",
    "(which are degree-zero complex functions in $u$ and $v$, defined everywhere\n",
    "except for at the edge midpoints) then a second polynomial can be readily\n",
    "constructed as follows:\n",
    "\n",
    "$$\n",
    "\n",
    "P_B(X,z) = \\prod_{k=1}^5 \\left(X- x_k(z,1)\\right) \\,.\n",
    "\n",
    "$$\n",
    "\n",
    "The polynomial $P_B(X)$ is indeed a Brioschi quintic with Brioschi parameter\n",
    "\n",
    "$$\n",
    "\n",
    "B(z) = -\\frac{f^5(z,1)}{T^2(z,1)}\n",
    "\n",
    "$$\n",
    "\n",
    "such that\n",
    "\n",
    "$$\n",
    "\n",
    "P_B(X,z) = X^5 +10\\,B(z)\\, X^3 + 45\\,B^2(z)\\,X + B^2(z)\n",
    "\n",
    "$$"
   ]
  },
  {
   "cell_type": "markdown",
   "id": "cfe3b1a4",
   "metadata": {},
   "source": [
    "## Tschirnhaus Transformation and Principal Quintics\n",
    "\n",
    "In this section, we aim to demonstrate that solving a single quadratic equation\n",
    "allows us to trade any general quintic of the form\n",
    "\n",
    "$$\n",
    "\n",
    "P(x) = x^5+ p_1 \\,x^4 + p_2 \\, x^3 + p_3 \\, x^2+p_4 \\, x + p_5 = 0\n",
    "\n",
    "$$\n",
    "\n",
    "for a principal quintic with $a_1 = a_2 = 0$.\n",
    "\n",
    "To this end, let's define a transformation \n",
    "\n",
    "$$\n",
    "\n",
    "y = x^2 + A\\,x + B\n",
    "\n",
    "$$\n",
    "\n",
    "and show how to solve for $(A,B,C)$ such that the polynomial equation $Q(y)=0$\n",
    "with coefficients $q_i$ with $q_1 = q_2 = 0$.\n",
    "\n",
    "The polynomial $Q(y)$ after this transformation is given by the __Resolvent__,\n",
    "$\\mathrm{Res}[P(x), y-x^2-Ax-B](y)$:\n",
    "\n",
    "$$\n",
    "\\begin{aligned}\n",
    "Q(y) &= y^{5} + y^{4} \\left(A p_{1} - 5 B - p_{1}^{2} + 2 p_{2}\\right) \\\\\n",
    "&+ y^{3} \\left(A^{2} p_{2} - 4 A B p_{1} - A p_{1} p_{2} + 3 A p_{3} + 10 B^{2} + 4 B p_{1}^{2} - 8 B p_{2} - 2 p_{1} p_{3} + p_{2}^{2} + 2 p_{4}\\right) + \\ldots\n",
    "\\end{aligned}\n",
    "$$"
   ]
  },
  {
   "cell_type": "code",
   "execution_count": null,
   "id": "a0f1366f",
   "metadata": {},
   "outputs": [
    {
     "data": {
      "text/latex": [
       "$\\displaystyle p_{1} x^{4} + p_{2} x^{3} + p_{3} x^{2} + p_{4} x + p_{5} + x^{5} = 0$"
      ],
      "text/plain": [
       "Eq(p1*x**4 + p2*x**3 + p3*x**2 + p4*x + p5 + x**5, 0)"
      ]
     },
     "execution_count": 5,
     "metadata": {},
     "output_type": "execute_result"
    }
   ],
   "source": [
    "# Check of the above:\n",
    "from sympy import resultant, solve, Eq, Poly, Add\n",
    "\n",
    "x, p1, p2, p3, p4, p5 = symbols(\"x p1 p2 p3 p4 p5\")\n",
    "expr = x**5 + p1 * x**4 + p2 * x**3 + p3 * x**2 + p4 * x + p5\n",
    "Eq(expr, 0)"
   ]
  },
  {
   "cell_type": "code",
   "execution_count": null,
   "id": "2374dc8b",
   "metadata": {},
   "outputs": [
    {
     "data": {
      "text/latex": [
       "$\\displaystyle y^{5} + y^{4} \\left(A p_{1} - 5 B - p_{1}^{2} + 2 p_{2}\\right) + y^{3} \\left(A^{2} p_{2} - 4 A B p_{1} - A p_{1} p_{2} + 3 A p_{3} + 10 B^{2} + 4 B p_{1}^{2} - 8 B p_{2} - 2 p_{1} p_{3} + p_{2}^{2} + 2 p_{4}\\right) + y^{2} \\left(A^{3} p_{3} - 3 A^{2} B p_{2} - A^{2} p_{1} p_{3} + 4 A^{2} p_{4} + 6 A B^{2} p_{1} + 3 A B p_{1} p_{2} - 9 A B p_{3} - 3 A p_{1} p_{4} + A p_{2} p_{3} + 5 A p_{5} - 10 B^{3} - 6 B^{2} p_{1}^{2} + 12 B^{2} p_{2} + 6 B p_{1} p_{3} - 3 B p_{2}^{2} - 6 B p_{4} - 2 p_{1} p_{5} + 2 p_{2} p_{4} - p_{3}^{2}\\right) + y \\left(A^{4} p_{4} - 2 A^{3} B p_{3} - A^{3} p_{1} p_{4} + 5 A^{3} p_{5} + 3 A^{2} B^{2} p_{2} + 2 A^{2} B p_{1} p_{3} - 8 A^{2} B p_{4} - 4 A^{2} p_{1} p_{5} + A^{2} p_{2} p_{4} - 4 A B^{3} p_{1} - 3 A B^{2} p_{1} p_{2} + 9 A B^{2} p_{3} + 6 A B p_{1} p_{4} - 2 A B p_{2} p_{3} - 10 A B p_{5} + 3 A p_{2} p_{5} - A p_{3} p_{4} + 5 B^{4} + 4 B^{3} p_{1}^{2} - 8 B^{3} p_{2} - 6 B^{2} p_{1} p_{3} + 3 B^{2} p_{2}^{2} + 6 B^{2} p_{4} + 4 B p_{1} p_{5} - 4 B p_{2} p_{4} + 2 B p_{3}^{2} - 2 p_{3} p_{5} + p_{4}^{2}\\right) - \\left(- A^{5} p_{5} + A^{4} B p_{4} + A^{4} p_{1} p_{5} - A^{3} B^{2} p_{3} - A^{3} B p_{1} p_{4} + 5 A^{3} B p_{5} - A^{3} p_{2} p_{5} + A^{2} B^{3} p_{2} + A^{2} B^{2} p_{1} p_{3} - 4 A^{2} B^{2} p_{4} - 4 A^{2} B p_{1} p_{5} + A^{2} B p_{2} p_{4} + A^{2} p_{3} p_{5} - A B^{4} p_{1} - A B^{3} p_{1} p_{2} + 3 A B^{3} p_{3} + 3 A B^{2} p_{1} p_{4} - A B^{2} p_{2} p_{3} - 5 A B^{2} p_{5} + 3 A B p_{2} p_{5} - A B p_{3} p_{4} - A p_{4} p_{5} + B^{5} + B^{4} p_{1}^{2} - 2 B^{4} p_{2} - 2 B^{3} p_{1} p_{3} + B^{3} p_{2}^{2} + 2 B^{3} p_{4} + 2 B^{2} p_{1} p_{5} - 2 B^{2} p_{2} p_{4} + B^{2} p_{3}^{2} - 2 B p_{3} p_{5} + B p_{4}^{2} + p_{5}^{2}\\right)$"
      ],
      "text/plain": [
       "y**5 + y**4*(A*p1 - 5*B - p1**2 + 2*p2) + y**3*(A**2*p2 - 4*A*B*p1 - A*p1*p2 + 3*A*p3 + 10*B**2 + 4*B*p1**2 - 8*B*p2 - 2*p1*p3 + p2**2 + 2*p4) + y**2*(A**3*p3 - 3*A**2*B*p2 - A**2*p1*p3 + 4*A**2*p4 + 6*A*B**2*p1 + 3*A*B*p1*p2 - 9*A*B*p3 - 3*A*p1*p4 + A*p2*p3 + 5*A*p5 - 10*B**3 - 6*B**2*p1**2 + 12*B**2*p2 + 6*B*p1*p3 - 3*B*p2**2 - 6*B*p4 - 2*p1*p5 + 2*p2*p4 - p3**2) + y*(A**4*p4 - 2*A**3*B*p3 - A**3*p1*p4 + 5*A**3*p5 + 3*A**2*B**2*p2 + 2*A**2*B*p1*p3 - 8*A**2*B*p4 - 4*A**2*p1*p5 + A**2*p2*p4 - 4*A*B**3*p1 - 3*A*B**2*p1*p2 + 9*A*B**2*p3 + 6*A*B*p1*p4 - 2*A*B*p2*p3 - 10*A*B*p5 + 3*A*p2*p5 - A*p3*p4 + 5*B**4 + 4*B**3*p1**2 - 8*B**3*p2 - 6*B**2*p1*p3 + 3*B**2*p2**2 + 6*B**2*p4 + 4*B*p1*p5 - 4*B*p2*p4 + 2*B*p3**2 - 2*p3*p5 + p4**2) + (A**5*p5 - A**4*B*p4 - A**4*p1*p5 + A**3*B**2*p3 + A**3*B*p1*p4 - 5*A**3*B*p5 + A**3*p2*p5 - A**2*B**3*p2 - A**2*B**2*p1*p3 + 4*A**2*B**2*p4 + 4*A**2*B*p1*p5 - A**2*B*p2*p4 - A**2*p3*p5 + A*B**4*p1 + A*B**3*p1*p2 - 3*A*B**3*p3 - 3*A*B**2*p1*p4 + A*B**2*p2*p3 + 5*A*B**2*p5 - 3*A*B*p2*p5 + A*B*p3*p4 + A*p4*p5 - B**5 - B**4*p1**2 + 2*B**4*p2 + 2*B**3*p1*p3 - B**3*p2**2 - 2*B**3*p4 - 2*B**2*p1*p5 + 2*B**2*p2*p4 - B**2*p3**2 + 2*B*p3*p5 - B*p4**2 - p5**2)"
      ]
     },
     "execution_count": 6,
     "metadata": {},
     "output_type": "execute_result"
    }
   ],
   "source": [
    "y, A, B = symbols(\"y A B\")\n",
    "\n",
    "expr2 = Poly(resultant(expr, y - x**2 - A * x - B, x), y).terms()\n",
    "expr2 = Add(*[b * y ** a[0] for a, b in expr2], evaluate=False)\n",
    "expr2"
   ]
  },
  {
   "cell_type": "markdown",
   "id": "405a123a",
   "metadata": {},
   "source": [
    "Solving for the coefficients $A$ and $B$, we find\n",
    "\n",
    "$$\n",
    "\n",
    "\\begin{aligned}\n",
    "A &= \\frac{5 B + p_{1}^{2} - 2 p_{2}}{p_{1}} \\\\\n",
    "B &=\\frac{p_{1}^{2} p_{2} + 3 p_{1} p_{3} - 4 p_{2}^{2} \\pm p_{1} \\sqrt{\\frac{8 p_{1}^{3} p_{3} - 3 p_{1}^{2} p_{2}^{2} + 16 p_{1}^{2} p_{4} - 38 p_{1} p_{2} p_{3} + 12 p_{2}^{3} - 40 p_{2} p_{4} + 45 p_{3}^{2}}5} }{2\\left(2 p_{1}^{2} - 5 p_{2}\\right)} \\,.\n",
    "\\end{aligned}\n",
    "$$"
   ]
  },
  {
   "cell_type": "code",
   "execution_count": null,
   "id": "b9eaa168",
   "metadata": {},
   "outputs": [
    {
     "data": {
      "text/latex": [
       "$\\displaystyle A = \\frac{5 B + p_{1}^{2} - 2 p_{2}}{p_{1}}$"
      ],
      "text/plain": [
       "Eq(A, (5*B + p1**2 - 2*p2)/p1)"
      ]
     },
     "execution_count": 7,
     "metadata": {},
     "output_type": "execute_result"
    }
   ],
   "source": [
    "# Check of the above:\n",
    "y4_coeff = expr2.coeff(y**4)\n",
    "A_val = solve(y4_coeff, A)[0]\n",
    "Eq(A, A_val)"
   ]
  },
  {
   "cell_type": "code",
   "execution_count": null,
   "id": "2952b60a",
   "metadata": {},
   "outputs": [
    {
     "data": {
      "text/latex": [
       "$\\displaystyle \\frac{\\frac{p_{1}^{2} p_{2}}{2} + \\frac{3 p_{1} p_{3}}{2} - \\frac{p_{1} \\sqrt{40 p_{1}^{3} p_{3} - 15 p_{1}^{2} p_{2}^{2} + 80 p_{1}^{2} p_{4} - 190 p_{1} p_{2} p_{3} + 60 p_{2}^{3} - 200 p_{2} p_{4} + 225 p_{3}^{2}}}{10} - 2 p_{2}^{2}}{2 p_{1}^{2} - 5 p_{2}}$"
      ],
      "text/plain": [
       "(p1**2*p2/2 + 3*p1*p3/2 - p1*sqrt(40*p1**3*p3 - 15*p1**2*p2**2 + 80*p1**2*p4 - 190*p1*p2*p3 + 60*p2**3 - 200*p2*p4 + 225*p3**2)/10 - 2*p2**2)/(2*p1**2 - 5*p2)"
      ]
     },
     "execution_count": 8,
     "metadata": {},
     "output_type": "execute_result"
    }
   ],
   "source": [
    "B_vals = solve(expr2.coeff(y**3).subs(A, A_val), B)\n",
    "B_vals[0]"
   ]
  },
  {
   "cell_type": "code",
   "execution_count": null,
   "id": "9ba288d5",
   "metadata": {},
   "outputs": [
    {
     "data": {
      "text/latex": [
       "$\\displaystyle \\frac{\\frac{p_{1}^{2} p_{2}}{2} + \\frac{3 p_{1} p_{3}}{2} + \\frac{p_{1} \\sqrt{40 p_{1}^{3} p_{3} - 15 p_{1}^{2} p_{2}^{2} + 80 p_{1}^{2} p_{4} - 190 p_{1} p_{2} p_{3} + 60 p_{2}^{3} - 200 p_{2} p_{4} + 225 p_{3}^{2}}}{10} - 2 p_{2}^{2}}{2 p_{1}^{2} - 5 p_{2}}$"
      ],
      "text/plain": [
       "(p1**2*p2/2 + 3*p1*p3/2 + p1*sqrt(40*p1**3*p3 - 15*p1**2*p2**2 + 80*p1**2*p4 - 190*p1*p2*p3 + 60*p2**3 - 200*p2*p4 + 225*p3**2)/10 - 2*p2**2)/(2*p1**2 - 5*p2)"
      ]
     },
     "execution_count": 9,
     "metadata": {},
     "output_type": "execute_result"
    }
   ],
   "source": [
    "B_vals[1]"
   ]
  },
  {
   "cell_type": "markdown",
   "id": "5177055f",
   "metadata": {},
   "source": [
    "Therefore, at the expense of a single square root, we can trade any general\n",
    "quintic for a principal quintic of the form\n",
    "\n",
    "$$\n",
    "\n",
    "Q(y) = y^5 + 5\\alpha\\, y^2 + 5\\beta\\, y + \\gamma = 0 \n",
    "\n",
    "$$\n",
    "\n",
    "for some $\\alpha$, $\\beta$, $\\gamma$ computable in terms of the original $p_i$.\n",
    "(The factors of 5 are included for later convenience.)"
   ]
  },
  {
   "cell_type": "markdown",
   "id": "2ecff03f",
   "metadata": {},
   "source": [
    "## From Brioschi and Principal Quintics to the Icosahedral Equation\n",
    "\n"
   ]
  },
  {
   "cell_type": "code",
   "execution_count": null,
   "id": "b5fb0bb8",
   "metadata": {},
   "outputs": [
    {
     "data": {
      "text/latex": [
       "$\\displaystyle - \\frac{1}{1728 z^{5}} + \\frac{1511}{1728} - \\frac{703127 z^{5}}{1728} + O\\left(z^{6}\\right)$"
      ],
      "text/plain": [
       "-1/(1728*z**5) + 1511/1728 - 703127*z**5/1728 + O(z**6)"
      ]
     },
     "execution_count": 24,
     "metadata": {},
     "output_type": "execute_result"
    }
   ],
   "source": [
    "from sympy import series\n",
    "\n",
    "z = symbols(\"z\")\n",
    "\n",
    "series(T(z, 1) ** 3 / (1728 * f(z, 1) ** 5), z)"
   ]
  },
  {
   "cell_type": "code",
   "execution_count": null,
   "id": "1da8f24e",
   "metadata": {},
   "outputs": [
    {
     "data": {
      "text/latex": [
       "$\\displaystyle 5 \\left(8 p_{1}^{3} p_{3} - 3 p_{1}^{2} p_{2}^{2} + 16 p_{1}^{2} p_{4} - 38 p_{1} p_{2} p_{3} + 12 p_{2}^{3} - 40 p_{2} p_{4} + 45 p_{3}^{2}\\right)$"
      ],
      "text/plain": [
       "5*(8*p1**3*p3 - 3*p1**2*p2**2 + 16*p1**2*p4 - 38*p1*p2*p3 + 12*p2**3 - 40*p2*p4 + 45*p3**2)"
      ]
     },
     "execution_count": 191,
     "metadata": {},
     "output_type": "execute_result"
    }
   ],
   "source": [
    "(\n",
    "    40 * p1**3 * p3\n",
    "    - 15 * p1**2 * p2**2\n",
    "    + 80 * p1**2 * p4\n",
    "    - 190 * p1 * p2 * p3\n",
    "    + 60 * p2**3\n",
    "    - 200 * p2 * p4\n",
    "    + 225 * p3**2\n",
    ").factor()"
   ]
  },
  {
   "cell_type": "code",
   "execution_count": null,
   "id": "99a681b9",
   "metadata": {},
   "outputs": [
    {
     "name": "stdout",
     "output_type": "stream",
     "text": [
      "5 \\left(8 p_{1}^{3} p_{3} - 3 p_{1}^{2} p_{2}^{2} + 16 p_{1}^{2} p_{4} - 38 p_{1} p_{2} p_{3} + 12 p_{2}^{3} - 40 p_{2} p_{4} + 45 p_{3}^{2}\\right)\n"
     ]
    }
   ],
   "source": [
    "print(latex(_))"
   ]
  },
  {
   "cell_type": "code",
   "execution_count": null,
   "id": "249ae72c",
   "metadata": {},
   "outputs": [
    {
     "data": {
      "text/latex": [
       "$\\displaystyle - \\frac{4 p_{1}^{10}}{3125} + \\frac{8 p_{1}^{8} p_{2}}{625} - \\frac{2 p_{1}^{7} p_{3}}{125} - \\frac{27 p_{1}^{6} p_{2}^{2}}{625} + \\frac{2 p_{1}^{6} p_{4}}{125} + \\frac{12 p_{1}^{5} p_{2} p_{3}}{125} - \\frac{2 p_{1}^{5} p_{5}}{25} + \\frac{34 p_{1}^{4} p_{2}^{3}}{625} - \\frac{2 p_{1}^{4} p_{2} p_{4}}{125} - \\frac{p_{1}^{4} p_{3}^{2}}{25} - \\frac{24 p_{1}^{3} p_{2}^{2} p_{3}}{125} + \\frac{8 p_{1}^{3} p_{2} p_{5}}{25} - \\frac{4 p_{1}^{2} p_{2}^{4}}{625} - \\frac{16 p_{1}^{2} p_{2}^{2} p_{4}}{125} + \\frac{4 p_{1}^{2} p_{2} p_{3}^{2}}{25} - \\frac{2 p_{1}^{2} p_{3} p_{5}}{5} + \\frac{p_{1}^{2} p_{4}^{2}}{5} + \\frac{16 p_{1} p_{2}^{3} p_{3}}{125} - \\frac{8 p_{1} p_{2}^{2} p_{5}}{25} - \\frac{72 p_{2}^{5}}{3125} + \\frac{24 p_{2}^{3} p_{4}}{125} - \\frac{4 p_{2}^{2} p_{3}^{2}}{25} + \\frac{4 p_{2} p_{3} p_{5}}{5} - \\frac{2 p_{2} p_{4}^{2}}{5} - p_{5}^{2} + y^{5} + y^{3} \\left(- \\frac{2 p_{1}^{4}}{5} + \\frac{8 p_{1}^{2} p_{2}}{5} - 2 p_{1} p_{3} - \\frac{3 p_{2}^{2}}{5} + 2 p_{4}\\right) + y^{2} \\left(- \\frac{4 p_{1}^{6}}{25} + \\frac{24 p_{1}^{4} p_{2}}{25} - \\frac{6 p_{1}^{3} p_{3}}{5} - \\frac{33 p_{1}^{2} p_{2}^{2}}{25} + \\frac{6 p_{1}^{2} p_{4}}{5} + \\frac{12 p_{1} p_{2} p_{3}}{5} - 2 p_{1} p_{5} + \\frac{2 p_{2}^{3}}{25} - \\frac{2 p_{2} p_{4}}{5} - p_{3}^{2}\\right) + y \\left(- \\frac{3 p_{1}^{8}}{125} + \\frac{24 p_{1}^{6} p_{2}}{125} - \\frac{6 p_{1}^{5} p_{3}}{25} - \\frac{57 p_{1}^{4} p_{2}^{2}}{125} + \\frac{6 p_{1}^{4} p_{4}}{25} + \\frac{24 p_{1}^{3} p_{2} p_{3}}{25} - \\frac{4 p_{1}^{3} p_{5}}{5} + \\frac{36 p_{1}^{2} p_{2}^{3}}{125} - \\frac{4 p_{1}^{2} p_{2} p_{4}}{25} - \\frac{2 p_{1}^{2} p_{3}^{2}}{5} - \\frac{24 p_{1} p_{2}^{2} p_{3}}{25} + \\frac{8 p_{1} p_{2} p_{5}}{5} + \\frac{12 p_{2}^{4}}{125} - \\frac{16 p_{2}^{2} p_{4}}{25} + \\frac{4 p_{2} p_{3}^{2}}{5} - 2 p_{3} p_{5} + p_{4}^{2}\\right)$"
      ],
      "text/plain": [
       "-4*p_1**10/3125 + 8*p_1**8*p_2/625 - 2*p_1**7*p_3/125 - 27*p_1**6*p_2**2/625 + 2*p_1**6*p_4/125 + 12*p_1**5*p_2*p_3/125 - 2*p_1**5*p_5/25 + 34*p_1**4*p_2**3/625 - 2*p_1**4*p_2*p_4/125 - p_1**4*p_3**2/25 - 24*p_1**3*p_2**2*p_3/125 + 8*p_1**3*p_2*p_5/25 - 4*p_1**2*p_2**4/625 - 16*p_1**2*p_2**2*p_4/125 + 4*p_1**2*p_2*p_3**2/25 - 2*p_1**2*p_3*p_5/5 + p_1**2*p_4**2/5 + 16*p_1*p_2**3*p_3/125 - 8*p_1*p_2**2*p_5/25 - 72*p_2**5/3125 + 24*p_2**3*p_4/125 - 4*p_2**2*p_3**2/25 + 4*p_2*p_3*p_5/5 - 2*p_2*p_4**2/5 - p_5**2 + y**5 + y**3*(-2*p_1**4/5 + 8*p_1**2*p_2/5 - 2*p_1*p_3 - 3*p_2**2/5 + 2*p_4) + y**2*(-4*p_1**6/25 + 24*p_1**4*p_2/25 - 6*p_1**3*p_3/5 - 33*p_1**2*p_2**2/25 + 6*p_1**2*p_4/5 + 12*p_1*p_2*p_3/5 - 2*p_1*p_5 + 2*p_2**3/25 - 2*p_2*p_4/5 - p_3**2) + y*(-3*p_1**8/125 + 24*p_1**6*p_2/125 - 6*p_1**5*p_3/25 - 57*p_1**4*p_2**2/125 + 6*p_1**4*p_4/25 + 24*p_1**3*p_2*p_3/25 - 4*p_1**3*p_5/5 + 36*p_1**2*p_2**3/125 - 4*p_1**2*p_2*p_4/25 - 2*p_1**2*p_3**2/5 - 24*p_1*p_2**2*p_3/25 + 8*p_1*p_2*p_5/5 + 12*p_2**4/125 - 16*p_2**2*p_4/25 + 4*p_2*p_3**2/5 - 2*p_3*p_5 + p_4**2)"
      ]
     },
     "execution_count": 136,
     "metadata": {},
     "output_type": "execute_result"
    }
   ],
   "source": [
    "y, A, B, C = symbols(\"y A B C\")\n",
    "\n",
    "odd_poly = Poly.from_list(odd_coeffs, x**2)\n",
    "even_poly = Poly.from_list(even_coeffs, x**2)\n",
    "(x**2 * odd_poly.as_expr() ** 2 - even_poly.as_expr() ** 2).expand().subs(\n",
    "    x**2, y - B * x - C\n",
    ").expand().collect(y).subs(C, -(p1**2 - 2 * p2) / 5 - B * x).expand().collect(y)"
   ]
  },
  {
   "cell_type": "code",
   "execution_count": null,
   "id": "145d30ab",
   "metadata": {},
   "outputs": [
    {
     "data": {
      "text/latex": [
       "$\\displaystyle \\operatorname{Poly}{\\left( p_{1} x^{4} + p_{3} x^{2} + p_{5}, x^{2}, domain=\\mathbb{Z}\\left[p_{1}, p_{3}, p_{5}\\right] \\right)}$"
      ],
      "text/plain": [
       "Poly(p_1*(x**2)**2 + p_3*(x**2) + p_5, x**2, domain='ZZ[p_1,p_3,p_5]')"
      ]
     },
     "execution_count": 128,
     "metadata": {},
     "output_type": "execute_result"
    }
   ],
   "source": [
    "even_poly"
   ]
  },
  {
   "cell_type": "code",
   "execution_count": null,
   "id": "ca04e998",
   "metadata": {},
   "outputs": [
    {
     "data": {
      "text/latex": [
       "$\\displaystyle \\operatorname{Poly}{\\left( x^{4} + p_{2} x^{2} + p_{4}, x^{2}, domain=\\mathbb{Z}\\left[p_{2}, p_{4}\\right] \\right)}$"
      ],
      "text/plain": [
       "Poly((x**2)**2 + p_2*(x**2) + p_4, x**2, domain='ZZ[p_2,p_4]')"
      ]
     },
     "execution_count": 127,
     "metadata": {},
     "output_type": "execute_result"
    }
   ],
   "source": [
    "odd_poly"
   ]
  },
  {
   "cell_type": "code",
   "execution_count": null,
   "id": "c2bc83cd",
   "metadata": {},
   "outputs": [
    {
     "data": {
      "text/latex": [
       "$\\displaystyle 0$"
      ],
      "text/plain": [
       "0"
      ]
     },
     "execution_count": 5,
     "metadata": {},
     "output_type": "execute_result"
    }
   ],
   "source": [
    "def tIk(k, u, v, e):\n",
    "    return e ** (15 - k * 3) * tI(u, v * e**k)\n",
    "\n",
    "\n",
    "e_simp(sum([tIk(k, u, v, e) for k in range(5)]), e)"
   ]
  },
  {
   "cell_type": "code",
   "execution_count": null,
   "id": "a4a34bec",
   "metadata": {},
   "outputs": [
    {
     "data": {
      "text/latex": [
       "$\\displaystyle u^{8} - u^{7} v + 7 u^{6} v^{2} + 7 u^{5} v^{3} - 7 u^{3} v^{5} + 7 u^{2} v^{6} + u v^{7} + v^{8}$"
      ],
      "text/plain": [
       "u**8 - u**7*v + 7*u**6*v**2 + 7*u**5*v**3 - 7*u**3*v**5 + 7*u**2*v**6 + u*v**7 + v**8"
      ]
     },
     "execution_count": 29,
     "metadata": {},
     "output_type": "execute_result"
    }
   ],
   "source": [
    "from utils import hessian\n",
    "\n",
    "W = e_simp(hessian(tI(u, v), u, v) / (-400), e)\n",
    "W"
   ]
  },
  {
   "cell_type": "code",
   "execution_count": null,
   "id": "f12fb758",
   "metadata": {},
   "outputs": [
    {
     "data": {
      "text/latex": [
       "$\\displaystyle 0$"
      ],
      "text/plain": [
       "0"
      ]
     },
     "execution_count": 7,
     "metadata": {},
     "output_type": "execute_result"
    }
   ],
   "source": [
    "def Wk(k, u, v, e):\n",
    "    W = (\n",
    "        u**8\n",
    "        - u**7 * v\n",
    "        + 7 * u**6 * v**2\n",
    "        + 7 * u**5 * v**3\n",
    "        - 7 * u**3 * v**5\n",
    "        + 7 * u**2 * v**6\n",
    "        + u * v**7\n",
    "        + v**8\n",
    "    )\n",
    "    return e_simp(e ** (20 - k * 4) * W.subs(v, v * e**k), e)\n",
    "\n",
    "\n",
    "e_simp(sum([Wk(k, u, v, e) for k in range(5)]), e)"
   ]
  },
  {
   "cell_type": "code",
   "execution_count": null,
   "id": "6e431026",
   "metadata": {},
   "outputs": [
    {
     "data": {
      "text/latex": [
       "$\\displaystyle e^{3} v \\left(u^{7} + 7 u^{5} v^{2} - 7 u^{2} v^{5} + v^{7}\\right) + e^{2} u^{2} \\left(u^{6} + u^{5} v - 7 u v^{5} - 7 v^{6}\\right) + e u v \\left(u^{6} + 7 u^{5} v - 7 u v^{5} + v^{6}\\right) + u^{7} v - 7 u^{2} v^{6}$"
      ],
      "text/plain": [
       "e**3*v*(u**7 + 7*u**5*v**2 - 7*u**2*v**5 + v**7) + e**2*u**2*(u**6 + u**5*v - 7*u*v**5 - 7*v**6) + e*u*v*(u**6 + 7*u**5*v - 7*u*v**5 + v**6) + u**7*v - 7*u**2*v**6"
      ]
     },
     "execution_count": 8,
     "metadata": {},
     "output_type": "execute_result"
    }
   ],
   "source": [
    "Wk(2, u, v, e)"
   ]
  },
  {
   "cell_type": "code",
   "execution_count": null,
   "id": "3894eb28",
   "metadata": {},
   "outputs": [
    {
     "data": {
      "text/latex": [
       "$\\displaystyle 0$"
      ],
      "text/plain": [
       "0"
      ]
     },
     "execution_count": 9,
     "metadata": {},
     "output_type": "execute_result"
    }
   ],
   "source": [
    "e_simp(sum([Wk(k, u, v, e) ** 2 for k in range(5)]), e)"
   ]
  },
  {
   "cell_type": "code",
   "execution_count": null,
   "id": "6e4da96e",
   "metadata": {},
   "outputs": [
    {
     "data": {
      "text/latex": [
       "$\\displaystyle 0$"
      ],
      "text/plain": [
       "0"
      ]
     },
     "execution_count": 10,
     "metadata": {},
     "output_type": "execute_result"
    }
   ],
   "source": [
    "e_simp(sum([Wk(k, u, v, e) * tIk(k, u, v, e) for k in range(5)]), e)"
   ]
  },
  {
   "cell_type": "code",
   "execution_count": null,
   "id": "7766c242",
   "metadata": {},
   "outputs": [
    {
     "data": {
      "text/latex": [
       "$\\displaystyle 0$"
      ],
      "text/plain": [
       "0"
      ]
     },
     "execution_count": 11,
     "metadata": {},
     "output_type": "execute_result"
    }
   ],
   "source": [
    "e_simp(sum([Wk(k, u, v, e) ** 2 * tIk(k, u, v, e) for k in range(5)]), e)"
   ]
  },
  {
   "cell_type": "code",
   "execution_count": null,
   "id": "63c74b36",
   "metadata": {},
   "outputs": [
    {
     "data": {
      "text/latex": [
       "$\\displaystyle 0$"
      ],
      "text/plain": [
       "0"
      ]
     },
     "execution_count": 12,
     "metadata": {},
     "output_type": "execute_result"
    }
   ],
   "source": [
    "e_simp(sum([Wk(k, u, v, e) ** 2 * tIk(k, u, v, e) ** 2 for k in range(5)]), e)"
   ]
  },
  {
   "cell_type": "code",
   "execution_count": null,
   "id": "1583bb7a",
   "metadata": {},
   "outputs": [
    {
     "data": {
      "text/latex": [
       "$\\displaystyle 120$"
      ],
      "text/plain": [
       "120"
      ]
     },
     "execution_count": 13,
     "metadata": {},
     "output_type": "execute_result"
    }
   ],
   "source": [
    "def tiWj(i, j, u, v, e):\n",
    "    return e_simp(\n",
    "        sum([tIk(k, u, v, e) ** i * Wk(k, u, v, e) ** j for k in range(5)]), e\n",
    "    )\n",
    "\n",
    "\n",
    "def f(u, v):\n",
    "    return u * v * (u**10 + 11 * u**5 * v**5 - v**10)\n",
    "\n",
    "\n",
    "simplify(tiWj(0, 3, u, v, e) / f(u, v) ** 2)"
   ]
  },
  {
   "cell_type": "code",
   "execution_count": null,
   "id": "a5079b90",
   "metadata": {},
   "outputs": [
    {
     "data": {
      "text/latex": [
       "$\\displaystyle j$"
      ],
      "text/plain": [
       "j"
      ]
     },
     "execution_count": 14,
     "metadata": {},
     "output_type": "execute_result"
    }
   ],
   "source": [
    "j = symbols(\"j\")\n",
    "g2 = -3 * j / (1728 - j)\n",
    "g3 = j / (1728 - j)\n",
    "simplify(1728 * g2**3 / (g2**3 - 27 * g3**2))"
   ]
  },
  {
   "cell_type": "code",
   "execution_count": null,
   "id": "812aa295",
   "metadata": {},
   "outputs": [
    {
     "data": {
      "text/latex": [
       "$\\displaystyle u^{8} - u^{7} v + 7 u^{6} v^{2} + 7 u^{5} v^{3} - 7 u^{3} v^{5} + 7 u^{2} v^{6} + u v^{7} + v^{8}$"
      ],
      "text/plain": [
       "u**8 - u**7*v + 7*u**6*v**2 + 7*u**5*v**3 - 7*u**3*v**5 + 7*u**2*v**6 + u*v**7 + v**8"
      ]
     },
     "execution_count": 35,
     "metadata": {},
     "output_type": "execute_result"
    }
   ],
   "source": [
    "W"
   ]
  },
  {
   "cell_type": "code",
   "execution_count": null,
   "id": "ee1e8a89",
   "metadata": {},
   "outputs": [
    {
     "data": {
      "text/latex": [
       "$\\displaystyle Y^{5} + Y^{2} \\left(- 40 \\sigma^{3} u^{22} v^{2} - 880 \\sigma^{3} u^{17} v^{7} - 4760 \\sigma^{3} u^{12} v^{12} + 880 \\sigma^{3} u^{7} v^{17} - 40 \\sigma^{3} u^{2} v^{22} - 5 \\sigma^{2} \\tau u^{30} - 2610 \\sigma^{2} \\tau u^{25} v^{5} + 50025 \\sigma^{2} \\tau u^{20} v^{10} + 50025 \\sigma^{2} \\tau u^{10} v^{20} + 2610 \\sigma^{2} \\tau u^{5} v^{25} - 5 \\sigma^{2} \\tau v^{30} - 360 \\sigma \\tau^{2} u^{33} v^{3} - 11880 \\sigma \\tau^{2} u^{28} v^{8} - 129600 \\sigma \\tau^{2} u^{23} v^{13} - 455400 \\sigma \\tau^{2} u^{18} v^{18} + 129600 \\sigma \\tau^{2} u^{13} v^{23} - 11880 \\sigma \\tau^{2} u^{8} v^{28} + 360 \\sigma \\tau^{2} u^{3} v^{33} - 5 \\tau^{3} u^{41} v - 2665 \\tau^{3} u^{36} v^{6} + 21320 \\tau^{3} u^{31} v^{11} + 552885 \\tau^{3} u^{26} v^{16} + 552885 \\tau^{3} u^{16} v^{26} - 21320 \\tau^{3} u^{11} v^{31} - 2665 \\tau^{3} u^{6} v^{36} + 5 \\tau^{3} u v^{41}\\right) + Y \\left(5 \\sigma^{4} u^{31} v - 1085 \\sigma^{4} u^{26} v^{6} - 10075 \\sigma^{4} u^{21} v^{11} + 29450 \\sigma^{4} u^{16} v^{16} + 10075 \\sigma^{4} u^{11} v^{21} - 1085 \\sigma^{4} u^{6} v^{26} - 5 \\sigma^{4} u v^{31} - 90 \\sigma^{2} \\tau^{2} u^{42} v^{2} + 18540 \\sigma^{2} \\tau^{2} u^{37} v^{7} + 396270 \\sigma^{2} \\tau^{2} u^{32} v^{12} + 1445220 \\sigma^{2} \\tau^{2} u^{27} v^{17} - 6193800 \\sigma^{2} \\tau^{2} u^{22} v^{22} - 1445220 \\sigma^{2} \\tau^{2} u^{17} v^{27} + 396270 \\sigma^{2} \\tau^{2} u^{12} v^{32} - 18540 \\sigma^{2} \\tau^{2} u^{7} v^{37} - 90 \\sigma^{2} \\tau^{2} u^{2} v^{42} - 5 \\sigma \\tau^{3} u^{50} - 1470 \\sigma \\tau^{3} u^{45} v^{5} + 642635 \\sigma \\tau^{3} u^{40} v^{10} - 12696180 \\sigma \\tau^{3} u^{35} v^{15} + 24167290 \\sigma \\tau^{3} u^{30} v^{20} + 24167290 \\sigma \\tau^{3} u^{20} v^{30} + 12696180 \\sigma \\tau^{3} u^{15} v^{35} + 642635 \\sigma \\tau^{3} u^{10} v^{40} + 1470 \\sigma \\tau^{3} u^{5} v^{45} - 5 \\sigma \\tau^{3} v^{50} - 135 \\tau^{4} u^{53} v^{3} + 26325 \\tau^{4} u^{48} v^{8} + 900450 \\tau^{4} u^{43} v^{13} + 8678475 \\tau^{4} u^{38} v^{18} + 13961025 \\tau^{4} u^{33} v^{23} - 106533360 \\tau^{4} u^{28} v^{28} - 13961025 \\tau^{4} u^{23} v^{33} + 8678475 \\tau^{4} u^{18} v^{38} - 900450 \\tau^{4} u^{13} v^{43} + 26325 \\tau^{4} u^{8} v^{48} + 135 \\tau^{4} u^{3} v^{53}\\right) - \\sigma^{5} u^{40} + 456 \\sigma^{5} u^{35} v^{5} - 52972 \\sigma^{5} u^{30} v^{10} + 224808 \\sigma^{5} u^{25} v^{15} - 140070 \\sigma^{5} u^{20} v^{20} - 224808 \\sigma^{5} u^{15} v^{25} - 52972 \\sigma^{5} u^{10} v^{30} - 456 \\sigma^{5} u^{5} v^{35} - \\sigma^{5} v^{40} + 10 \\sigma^{3} \\tau^{2} u^{51} v - 4450 \\sigma^{3} \\tau^{2} u^{46} v^{6} + 479550 \\sigma^{3} \\tau^{2} u^{41} v^{11} + 3583400 \\sigma^{3} \\tau^{2} u^{36} v^{16} - 23857900 \\sigma^{3} \\tau^{2} u^{31} v^{21} + 19903860 \\sigma^{3} \\tau^{2} u^{26} v^{26} + 23857900 \\sigma^{3} \\tau^{2} u^{21} v^{31} + 3583400 \\sigma^{3} \\tau^{2} u^{16} v^{36} - 479550 \\sigma^{3} \\tau^{2} u^{11} v^{41} - 4450 \\sigma^{3} \\tau^{2} u^{6} v^{46} - 10 \\sigma^{3} \\tau^{2} u v^{51} - 45 \\sigma \\tau^{4} u^{62} v^{2} + 19530 \\sigma \\tau^{4} u^{57} v^{7} - 1937655 \\sigma \\tau^{4} u^{52} v^{12} - 39883050 \\sigma \\tau^{4} u^{47} v^{17} - 67859775 \\sigma \\tau^{4} u^{42} v^{22} + 1107523980 \\sigma \\tau^{4} u^{37} v^{27} - 1199962170 \\sigma \\tau^{4} u^{32} v^{32} - 1107523980 \\sigma \\tau^{4} u^{27} v^{37} - 67859775 \\sigma \\tau^{4} u^{22} v^{42} + 39883050 \\sigma \\tau^{4} u^{17} v^{47} - 1937655 \\sigma \\tau^{4} u^{12} v^{52} - 19530 \\sigma \\tau^{4} u^{7} v^{57} - 45 \\sigma \\tau^{4} u^{2} v^{62} - \\tau^{5} u^{70} - 66 \\tau^{5} u^{65} v^{5} + 195065 \\tau^{5} u^{60} v^{10} - 31988856 \\tau^{5} u^{55} v^{15} + 647204571 \\tau^{5} u^{50} v^{20} - 2327107146 \\tau^{5} u^{45} v^{25} + 1813744429 \\tau^{5} u^{40} v^{30} + 1813744429 \\tau^{5} u^{30} v^{40} + 2327107146 \\tau^{5} u^{25} v^{45} + 647204571 \\tau^{5} u^{20} v^{50} + 31988856 \\tau^{5} u^{15} v^{55} + 195065 \\tau^{5} u^{10} v^{60} + 66 \\tau^{5} u^{5} v^{65} - \\tau^{5} v^{70}$"
      ],
      "text/plain": [
       "Y**5 + Y**2*(-40*sigma**3*u**22*v**2 - 880*sigma**3*u**17*v**7 - 4760*sigma**3*u**12*v**12 + 880*sigma**3*u**7*v**17 - 40*sigma**3*u**2*v**22 - 5*sigma**2*tau*u**30 - 2610*sigma**2*tau*u**25*v**5 + 50025*sigma**2*tau*u**20*v**10 + 50025*sigma**2*tau*u**10*v**20 + 2610*sigma**2*tau*u**5*v**25 - 5*sigma**2*tau*v**30 - 360*sigma*tau**2*u**33*v**3 - 11880*sigma*tau**2*u**28*v**8 - 129600*sigma*tau**2*u**23*v**13 - 455400*sigma*tau**2*u**18*v**18 + 129600*sigma*tau**2*u**13*v**23 - 11880*sigma*tau**2*u**8*v**28 + 360*sigma*tau**2*u**3*v**33 - 5*tau**3*u**41*v - 2665*tau**3*u**36*v**6 + 21320*tau**3*u**31*v**11 + 552885*tau**3*u**26*v**16 + 552885*tau**3*u**16*v**26 - 21320*tau**3*u**11*v**31 - 2665*tau**3*u**6*v**36 + 5*tau**3*u*v**41) + Y*(5*sigma**4*u**31*v - 1085*sigma**4*u**26*v**6 - 10075*sigma**4*u**21*v**11 + 29450*sigma**4*u**16*v**16 + 10075*sigma**4*u**11*v**21 - 1085*sigma**4*u**6*v**26 - 5*sigma**4*u*v**31 - 90*sigma**2*tau**2*u**42*v**2 + 18540*sigma**2*tau**2*u**37*v**7 + 396270*sigma**2*tau**2*u**32*v**12 + 1445220*sigma**2*tau**2*u**27*v**17 - 6193800*sigma**2*tau**2*u**22*v**22 - 1445220*sigma**2*tau**2*u**17*v**27 + 396270*sigma**2*tau**2*u**12*v**32 - 18540*sigma**2*tau**2*u**7*v**37 - 90*sigma**2*tau**2*u**2*v**42 - 5*sigma*tau**3*u**50 - 1470*sigma*tau**3*u**45*v**5 + 642635*sigma*tau**3*u**40*v**10 - 12696180*sigma*tau**3*u**35*v**15 + 24167290*sigma*tau**3*u**30*v**20 + 24167290*sigma*tau**3*u**20*v**30 + 12696180*sigma*tau**3*u**15*v**35 + 642635*sigma*tau**3*u**10*v**40 + 1470*sigma*tau**3*u**5*v**45 - 5*sigma*tau**3*v**50 - 135*tau**4*u**53*v**3 + 26325*tau**4*u**48*v**8 + 900450*tau**4*u**43*v**13 + 8678475*tau**4*u**38*v**18 + 13961025*tau**4*u**33*v**23 - 106533360*tau**4*u**28*v**28 - 13961025*tau**4*u**23*v**33 + 8678475*tau**4*u**18*v**38 - 900450*tau**4*u**13*v**43 + 26325*tau**4*u**8*v**48 + 135*tau**4*u**3*v**53) - sigma**5*u**40 + 456*sigma**5*u**35*v**5 - 52972*sigma**5*u**30*v**10 + 224808*sigma**5*u**25*v**15 - 140070*sigma**5*u**20*v**20 - 224808*sigma**5*u**15*v**25 - 52972*sigma**5*u**10*v**30 - 456*sigma**5*u**5*v**35 - sigma**5*v**40 + 10*sigma**3*tau**2*u**51*v - 4450*sigma**3*tau**2*u**46*v**6 + 479550*sigma**3*tau**2*u**41*v**11 + 3583400*sigma**3*tau**2*u**36*v**16 - 23857900*sigma**3*tau**2*u**31*v**21 + 19903860*sigma**3*tau**2*u**26*v**26 + 23857900*sigma**3*tau**2*u**21*v**31 + 3583400*sigma**3*tau**2*u**16*v**36 - 479550*sigma**3*tau**2*u**11*v**41 - 4450*sigma**3*tau**2*u**6*v**46 - 10*sigma**3*tau**2*u*v**51 - 45*sigma*tau**4*u**62*v**2 + 19530*sigma*tau**4*u**57*v**7 - 1937655*sigma*tau**4*u**52*v**12 - 39883050*sigma*tau**4*u**47*v**17 - 67859775*sigma*tau**4*u**42*v**22 + 1107523980*sigma*tau**4*u**37*v**27 - 1199962170*sigma*tau**4*u**32*v**32 - 1107523980*sigma*tau**4*u**27*v**37 - 67859775*sigma*tau**4*u**22*v**42 + 39883050*sigma*tau**4*u**17*v**47 - 1937655*sigma*tau**4*u**12*v**52 - 19530*sigma*tau**4*u**7*v**57 - 45*sigma*tau**4*u**2*v**62 - tau**5*u**70 - 66*tau**5*u**65*v**5 + 195065*tau**5*u**60*v**10 - 31988856*tau**5*u**55*v**15 + 647204571*tau**5*u**50*v**20 - 2327107146*tau**5*u**45*v**25 + 1813744429*tau**5*u**40*v**30 + 1813744429*tau**5*u**30*v**40 + 2327107146*tau**5*u**25*v**45 + 647204571*tau**5*u**20*v**50 + 31988856*tau**5*u**15*v**55 + 195065*tau**5*u**10*v**60 + 66*tau**5*u**5*v**65 - tau**5*v**70"
      ]
     },
     "execution_count": 97,
     "metadata": {},
     "output_type": "execute_result"
    }
   ],
   "source": [
    "sigma, tau, Y = symbols(\"sigma tau Y\")\n",
    "\n",
    "\n",
    "def Yk(k, sigma, tau, u, v, e):\n",
    "    tk_val = tIk(k, u, v, e)\n",
    "    W_val = Wk(k, u, v, e)\n",
    "    return e_simp(sigma * W_val + tau * tk_val * W_val, e)\n",
    "\n",
    "\n",
    "Y_poly = (\n",
    "    e_simp(reduce_multiply([Y - Yk(k, sigma, tau, u, v, e) for k in range(5)]), e)\n",
    "    .expand()\n",
    "    .collect(Y)\n",
    ")\n",
    "Y_poly"
   ]
  },
  {
   "cell_type": "code",
   "execution_count": null,
   "id": "465c0f3d",
   "metadata": {},
   "outputs": [
    {
     "data": {
      "text/latex": [
       "$\\displaystyle u^{22} v^{2} + 22 u^{17} v^{7} + 119 u^{12} v^{12} - 22 u^{7} v^{17} + u^{2} v^{22}$"
      ],
      "text/plain": [
       "u**22*v**2 + 22*u**17*v**7 + 119*u**12*v**12 - 22*u**7*v**17 + u**2*v**22"
      ]
     },
     "execution_count": 104,
     "metadata": {},
     "output_type": "execute_result"
    }
   ],
   "source": [
    "(f(u, v) ** 2).expand()"
   ]
  },
  {
   "cell_type": "code",
   "execution_count": null,
   "id": "46927382",
   "metadata": {},
   "outputs": [
    {
     "data": {
      "text/latex": [
       "$\\displaystyle - 40 u^{22} v^{2} - 880 u^{17} v^{7} - 4760 u^{12} v^{12} + 880 u^{7} v^{17} - 40 u^{2} v^{22}$"
      ],
      "text/plain": [
       "-40*u**22*v**2 - 880*u**17*v**7 - 4760*u**12*v**12 + 880*u**7*v**17 - 40*u**2*v**22"
      ]
     },
     "execution_count": 107,
     "metadata": {},
     "output_type": "execute_result"
    }
   ],
   "source": [
    "Y2sigma3 = Y_poly.coeff(Y**2).coeff(sigma**3)\n",
    "Y2sigma3"
   ]
  },
  {
   "cell_type": "code",
   "execution_count": null,
   "id": "e9158a46",
   "metadata": {},
   "outputs": [
    {
     "data": {
      "text/plain": [
       "True"
      ]
     },
     "execution_count": 108,
     "metadata": {},
     "output_type": "execute_result"
    }
   ],
   "source": [
    "Y2sigma3.equals(-40 * f(u, v) ** 2)"
   ]
  },
  {
   "cell_type": "code",
   "execution_count": null,
   "id": "0c5c5648",
   "metadata": {},
   "outputs": [
    {
     "data": {
      "text/latex": [
       "$\\displaystyle - 5 u^{30} - 2610 u^{25} v^{5} + 50025 u^{20} v^{10} + 50025 u^{10} v^{20} + 2610 u^{5} v^{25} - 5 v^{30}$"
      ],
      "text/plain": [
       "-5*u**30 - 2610*u**25*v**5 + 50025*u**20*v**10 + 50025*u**10*v**20 + 2610*u**5*v**25 - 5*v**30"
      ]
     },
     "execution_count": 110,
     "metadata": {},
     "output_type": "execute_result"
    }
   ],
   "source": [
    "Y2sigma2tau = Y_poly.coeff(Y**2).coeff(sigma**2 * tau)\n",
    "Y2sigma2tau"
   ]
  },
  {
   "cell_type": "code",
   "execution_count": null,
   "id": "c3c31241",
   "metadata": {},
   "outputs": [],
   "source": [
    "Y2sigma2tau.equals(-5*)"
   ]
  },
  {
   "cell_type": "code",
   "execution_count": null,
   "id": "f35f4e92",
   "metadata": {},
   "outputs": [
    {
     "data": {
      "text/plain": [
       "[Y - e**15*sigma*(u**2 + v**2)*(u**2 - u*v*(2*e**3 + 2*e**2) - v**2)*(u**2 - u*v*(2*e**4 + 2*e) - v**2) - e**15*tau*(u**2 + v**2)*(u**2 - u*v*(2*e**3 + 2*e**2) - v**2)*(u**2 - u*v*(2*e**4 + 2*e) - v**2)*(u**8 - u**7*v + 7*u**6*v**2 + 7*u**5*v**3 - 7*u**3*v**5 + 7*u**2*v**6 + u*v**7 + v**8),\n",
       " Y - e**12*sigma*(e**2*v**2 + u**2)*(-e**2*v**2 - e*u*v*(2*e**3 + 2*e**2) + u**2)*(-e**2*v**2 - e*u*v*(2*e**4 + 2*e) + u**2) - e**12*tau*(e**2*v**2 + u**2)*(-e**2*v**2 - e*u*v*(2*e**3 + 2*e**2) + u**2)*(-e**2*v**2 - e*u*v*(2*e**4 + 2*e) + u**2)*(e**3*v**2*(7*u**6 - 7*u**5*v + u*v**5 - v**6) - e**2*v*(u**7 + 7*u**5*v**2 - 7*u**2*v**5 + v**7) - e*(-u**8 + 7*u**5*v**3 + 7*u**3*v**5 + v**8) - 7*u**5*v**3 - v**8),\n",
       " Y - e**9*sigma*(e**4*v**2 + u**2)*(-e**4*v**2 - e**2*u*v*(2*e**3 + 2*e**2) + u**2)*(-e**4*v**2 - e**2*u*v*(2*e**4 + 2*e) + u**2) - e**9*tau*(e**4*v**2 + u**2)*(-e**4*v**2 - e**2*u*v*(2*e**3 + 2*e**2) + u**2)*(-e**4*v**2 - e**2*u*v*(2*e**4 + 2*e) + u**2)*(e**3*v*(u**7 + 7*u**5*v**2 - 7*u**2*v**5 + v**7) + e**2*u**2*(u**6 + u**5*v - 7*u*v**5 - 7*v**6) + e*u*v*(u**6 + 7*u**5*v - 7*u*v**5 + v**6) + u**7*v - 7*u**2*v**6),\n",
       " Y - e**6*sigma*(e**6*v**2 + u**2)*(-e**6*v**2 - e**3*u*v*(2*e**3 + 2*e**2) + u**2)*(-e**6*v**2 - e**3*u*v*(2*e**4 + 2*e) + u**2) - e**6*tau*(e**6*v**2 + u**2)*(-e**6*v**2 - e**3*u*v*(2*e**3 + 2*e**2) + u**2)*(-e**6*v**2 - e**3*u*v*(2*e**4 + 2*e) + u**2)*(-e**3*u*(-u**7 + 7*u**5*v**2 + 7*u**2*v**5 + v**7) - e**2*v**2*(7*u**6 - 7*u**5*v + u*v**5 - v**6) - e*u*v*(u**6 + 7*u**5*v - 7*u*v**5 + v**6) - 7*u**6*v**2 - u*v**7),\n",
       " Y - e**3*sigma*(e**8*v**2 + u**2)*(-e**8*v**2 - e**4*u*v*(2*e**3 + 2*e**2) + u**2)*(-e**8*v**2 - e**4*u*v*(2*e**4 + 2*e) + u**2) - e**3*tau*(e**8*v**2 + u**2)*(-e**8*v**2 - e**4*u*v*(2*e**3 + 2*e**2) + u**2)*(-e**8*v**2 - e**4*u*v*(2*e**4 + 2*e) + u**2)*(e**3*u**2*(-u**6 - u**5*v + 7*u*v**5 + 7*v**6) + e**2*u*(-u**7 + 7*u**5*v**2 + 7*u**2*v**5 + v**7) + e*(-u**8 + 7*u**5*v**3 + 7*u**3*v**5 + v**8) - u**8 + 7*u**3*v**5)]"
      ]
     },
     "execution_count": 90,
     "metadata": {},
     "output_type": "execute_result"
    }
   ],
   "source": [
    "[Y - Yk(k, sigma, tau, u, v, e) for k in range(5)]"
   ]
  },
  {
   "cell_type": "code",
   "execution_count": null,
   "id": "09a41103",
   "metadata": {},
   "outputs": [],
   "source": []
  },
  {
   "cell_type": "code",
   "execution_count": null,
   "id": "7ed7388b",
   "metadata": {},
   "outputs": [
    {
     "data": {
      "text/latex": [
       "$\\displaystyle u^{24} + 8 u^{23} v + 4 u^{22} v^{2} - 88 u^{21} v^{3} - 94 u^{20} v^{4} + 312 u^{19} v^{5} + 116 u^{18} v^{6} + 88 u^{17} v^{7} + 879 u^{16} v^{8} - 2608 u^{15} v^{9} + 904 u^{14} v^{10} - 2288 u^{13} v^{11} + 476 u^{12} v^{12} + 2288 u^{11} v^{13} + 904 u^{10} v^{14} + 2608 u^{9} v^{15} + 879 u^{8} v^{16} - 88 u^{7} v^{17} + 116 u^{6} v^{18} - 312 u^{5} v^{19} - 94 u^{4} v^{20} + 88 u^{3} v^{21} + 4 u^{2} v^{22} - 8 u v^{23} + v^{24}$"
      ],
      "text/plain": [
       "u**24 + 8*u**23*v + 4*u**22*v**2 - 88*u**21*v**3 - 94*u**20*v**4 + 312*u**19*v**5 + 116*u**18*v**6 + 88*u**17*v**7 + 879*u**16*v**8 - 2608*u**15*v**9 + 904*u**14*v**10 - 2288*u**13*v**11 + 476*u**12*v**12 + 2288*u**11*v**13 + 904*u**10*v**14 + 2608*u**9*v**15 + 879*u**8*v**16 - 88*u**7*v**17 + 116*u**6*v**18 - 312*u**5*v**19 - 94*u**4*v**20 + 88*u**3*v**21 + 4*u**2*v**22 - 8*u*v**23 + v**24"
      ]
     },
     "execution_count": 39,
     "metadata": {},
     "output_type": "execute_result"
    }
   ],
   "source": [
    "tI4 = e_simp(tI(u, v) ** 4, e)\n",
    "tI4"
   ]
  },
  {
   "cell_type": "code",
   "execution_count": null,
   "id": "0145ed7d",
   "metadata": {},
   "outputs": [
    {
     "data": {
      "text/plain": [
       "284.0"
      ]
     },
     "execution_count": 52,
     "metadata": {},
     "output_type": "execute_result"
    }
   ],
   "source": [
    "6248 / 22"
   ]
  },
  {
   "cell_type": "code",
   "execution_count": null,
   "id": "0a4b9858",
   "metadata": {},
   "outputs": [
    {
     "data": {
      "text/plain": [
       "256"
      ]
     },
     "execution_count": 65,
     "metadata": {},
     "output_type": "execute_result"
    }
   ],
   "source": [
    "121 + 135"
   ]
  },
  {
   "cell_type": "code",
   "execution_count": null,
   "id": "00639297",
   "metadata": {},
   "outputs": [
    {
     "data": {
      "text/plain": [
       "256"
      ]
     },
     "execution_count": 81,
     "metadata": {},
     "output_type": "execute_result"
    }
   ],
   "source": [
    "135 + 121"
   ]
  },
  {
   "cell_type": "code",
   "execution_count": null,
   "id": "4cc576a5",
   "metadata": {},
   "outputs": [
    {
     "data": {
      "text/latex": [
       "$\\displaystyle - \\frac{256}{121}$"
      ],
      "text/plain": [
       "-256/121"
      ]
     },
     "execution_count": 80,
     "metadata": {},
     "output_type": "execute_result"
    }
   ],
   "source": [
    "-1 - Rational(135, 121)"
   ]
  },
  {
   "cell_type": "code",
   "execution_count": null,
   "id": "6d5b7615",
   "metadata": {},
   "outputs": [
    {
     "data": {
      "text/latex": [
       "$\\displaystyle 0$"
      ],
      "text/plain": [
       "0"
      ]
     },
     "execution_count": 78,
     "metadata": {},
     "output_type": "execute_result"
    }
   ],
   "source": [
    "from sympy import Rational\n",
    "\n",
    "\n",
    "a, b = symbols(\"a b\")\n",
    "\n",
    "(a * W**3 + b * tI4 + chi**2).expand().subs(a, -1 - b).subs(\n",
    "    b, Rational(135, 121)\n",
    ").collect(u)"
   ]
  },
  {
   "cell_type": "code",
   "execution_count": null,
   "id": "e61ff1c0",
   "metadata": {},
   "outputs": [
    {
     "data": {
      "text/plain": [
       "[135/121]"
      ]
     },
     "execution_count": 75,
     "metadata": {},
     "output_type": "execute_result"
    }
   ],
   "source": [
    "from sympy import solve\n",
    "\n",
    "\n",
    "solve(8 * b * v - 3 * v * (-b - 1) - 168 * v / 11, b)"
   ]
  },
  {
   "cell_type": "code",
   "execution_count": null,
   "id": "eb044335",
   "metadata": {},
   "outputs": [
    {
     "data": {
      "text/latex": [
       "$\\displaystyle 121 u^{24} - 1848 u^{23} v + 5604 u^{22} v^{2} + 6248 u^{21} v^{3} + 44946 u^{20} v^{4} - 4488 u^{19} v^{5} + 50644 u^{18} v^{6} + 123288 u^{17} v^{7} + 224631 u^{16} v^{8} + 261712 u^{15} v^{9} - 411576 u^{14} v^{10} + 486288 u^{13} v^{11} + 666876 u^{12} v^{12} - 486288 u^{11} v^{13} - 411576 u^{10} v^{14} - 261712 u^{9} v^{15} + 224631 u^{8} v^{16} - 123288 u^{7} v^{17} + 50644 u^{6} v^{18} + 4488 u^{5} v^{19} + 44946 u^{4} v^{20} - 6248 u^{3} v^{21} + 5604 u^{2} v^{22} + 1848 u v^{23} + 121 v^{24}$"
      ],
      "text/plain": [
       "121*u**24 - 1848*u**23*v + 5604*u**22*v**2 + 6248*u**21*v**3 + 44946*u**20*v**4 - 4488*u**19*v**5 + 50644*u**18*v**6 + 123288*u**17*v**7 + 224631*u**16*v**8 + 261712*u**15*v**9 - 411576*u**14*v**10 + 486288*u**13*v**11 + 666876*u**12*v**12 - 486288*u**11*v**13 - 411576*u**10*v**14 - 261712*u**9*v**15 + 224631*u**8*v**16 - 123288*u**7*v**17 + 50644*u**6*v**18 + 4488*u**5*v**19 + 44946*u**4*v**20 - 6248*u**3*v**21 + 5604*u**2*v**22 + 1848*u*v**23 + 121*v**24"
      ]
     },
     "execution_count": 47,
     "metadata": {},
     "output_type": "execute_result"
    }
   ],
   "source": [
    "(chi**2).expand()"
   ]
  },
  {
   "cell_type": "code",
   "execution_count": null,
   "id": "fa400994",
   "metadata": {},
   "outputs": [],
   "source": [
    "tI4a"
   ]
  },
  {
   "cell_type": "code",
   "execution_count": null,
   "id": "64258452",
   "metadata": {},
   "outputs": [
    {
     "data": {
      "text/latex": [
       "$\\displaystyle u^{12} - \\frac{84 u^{11} v}{11} - 6 u^{10} v^{2} - 20 u^{9} v^{3} + 15 u^{8} v^{4} - 24 u^{7} v^{5} - 84 u^{6} v^{6} + 24 u^{5} v^{7} + 15 u^{4} v^{8} + 20 u^{3} v^{9} - 6 u^{2} v^{10} + \\frac{84 u v^{11}}{11} + v^{12}$"
      ],
      "text/plain": [
       "u**12 - 84*u**11*v/11 - 6*u**10*v**2 - 20*u**9*v**3 + 15*u**8*v**4 - 24*u**7*v**5 - 84*u**6*v**6 + 24*u**5*v**7 + 15*u**4*v**8 + 20*u**3*v**9 - 6*u**2*v**10 + 84*u*v**11/11 + v**12"
      ]
     },
     "execution_count": 67,
     "metadata": {},
     "output_type": "execute_result"
    }
   ],
   "source": [
    "from utils import jacobian\n",
    "\n",
    "chi = e_simp(jacobian(tI(u, v), W, u, v), e) / (-22)\n",
    "chi"
   ]
  },
  {
   "cell_type": "code",
   "execution_count": null,
   "id": "2c32b561",
   "metadata": {},
   "outputs": [
    {
     "data": {
      "text/latex": [
       "$\\displaystyle - 352 e^{14} u^{8} v^{4} - 704 e^{14} u^{6} v^{6} - 352 e^{14} u^{4} v^{8} - 704 e^{13} u^{8} v^{4} - 1408 e^{13} u^{6} v^{6} - 704 e^{13} u^{4} v^{8} - 352 e^{12} u^{8} v^{4} - 704 e^{12} u^{6} v^{6} - 352 e^{12} u^{4} v^{8} + 352 e^{11} u^{9} v^{3} - 704 e^{11} u^{8} v^{4} + 352 e^{11} u^{7} v^{5} - 1408 e^{11} u^{6} v^{6} - 352 e^{11} u^{5} v^{7} - 704 e^{11} u^{4} v^{8} - 352 e^{11} u^{3} v^{9} + 704 e^{10} u^{9} v^{3} - 1408 e^{10} u^{8} v^{4} + 704 e^{10} u^{7} v^{5} - 2816 e^{10} u^{6} v^{6} - 704 e^{10} u^{5} v^{7} - 1408 e^{10} u^{4} v^{8} - 704 e^{10} u^{3} v^{9} + 704 e^{9} u^{9} v^{3} - 704 e^{9} u^{8} v^{4} + 704 e^{9} u^{7} v^{5} - 1408 e^{9} u^{6} v^{6} - 704 e^{9} u^{5} v^{7} - 704 e^{9} u^{4} v^{8} - 704 e^{9} u^{3} v^{9} - 88 e^{8} u^{10} v^{2} + 1056 e^{8} u^{9} v^{3} - 352 e^{8} u^{8} v^{4} + 1056 e^{8} u^{7} v^{5} - 528 e^{8} u^{6} v^{6} - 1056 e^{8} u^{5} v^{7} - 352 e^{8} u^{4} v^{8} - 1056 e^{8} u^{3} v^{9} - 88 e^{8} u^{2} v^{10} - 352 e^{7} u^{10} v^{2} + 1056 e^{7} u^{9} v^{3} - 704 e^{7} u^{8} v^{4} + 1056 e^{7} u^{7} v^{5} - 704 e^{7} u^{6} v^{6} - 1056 e^{7} u^{5} v^{7} - 704 e^{7} u^{4} v^{8} - 1056 e^{7} u^{3} v^{9} - 352 e^{7} u^{2} v^{10} - 440 e^{6} u^{10} v^{2} + 704 e^{6} u^{9} v^{3} - 352 e^{6} u^{8} v^{4} + 704 e^{6} u^{7} v^{5} + 176 e^{6} u^{6} v^{6} - 704 e^{6} u^{5} v^{7} - 352 e^{6} u^{4} v^{8} - 704 e^{6} u^{3} v^{9} - 440 e^{6} u^{2} v^{10} - 352 e^{5} u^{10} v^{2} + 704 e^{5} u^{9} v^{3} + 704 e^{5} u^{7} v^{5} + 704 e^{5} u^{6} v^{6} - 704 e^{5} u^{5} v^{7} - 704 e^{5} u^{3} v^{9} - 352 e^{5} u^{2} v^{10} + 88 e^{4} u^{11} v - 440 e^{4} u^{10} v^{2} + 264 e^{4} u^{9} v^{3} + 176 e^{4} u^{7} v^{5} + 880 e^{4} u^{6} v^{6} - 176 e^{4} u^{5} v^{7} - 264 e^{4} u^{3} v^{9} - 440 e^{4} u^{2} v^{10} - 88 e^{4} u v^{11} + 88 e^{3} u^{11} v - 352 e^{3} u^{10} v^{2} - 88 e^{3} u^{9} v^{3} - 176 e^{3} u^{7} v^{5} + 704 e^{3} u^{6} v^{6} + 176 e^{3} u^{5} v^{7} + 88 e^{3} u^{3} v^{9} - 352 e^{3} u^{2} v^{10} - 88 e^{3} u v^{11} + 88 e^{2} u^{11} v - 88 e^{2} u^{10} v^{2} - 88 e^{2} u^{9} v^{3} - 176 e^{2} u^{7} v^{5} + 176 e^{2} u^{6} v^{6} + 176 e^{2} u^{5} v^{7} + 88 e^{2} u^{3} v^{9} - 88 e^{2} u^{2} v^{10} - 88 e^{2} u v^{11} + 88 e u^{11} v - 88 e u^{9} v^{3} - 176 e u^{7} v^{5} + 176 e u^{5} v^{7} + 88 e u^{3} v^{9} - 88 e u v^{11} - 22 u^{12} + 44 u^{10} v^{2} + 22 u^{8} v^{4} - 88 u^{6} v^{6} + 22 u^{4} v^{8} + 44 u^{2} v^{10} - 22 v^{12}$"
      ],
      "text/plain": [
       "-352*e**14*u**8*v**4 - 704*e**14*u**6*v**6 - 352*e**14*u**4*v**8 - 704*e**13*u**8*v**4 - 1408*e**13*u**6*v**6 - 704*e**13*u**4*v**8 - 352*e**12*u**8*v**4 - 704*e**12*u**6*v**6 - 352*e**12*u**4*v**8 + 352*e**11*u**9*v**3 - 704*e**11*u**8*v**4 + 352*e**11*u**7*v**5 - 1408*e**11*u**6*v**6 - 352*e**11*u**5*v**7 - 704*e**11*u**4*v**8 - 352*e**11*u**3*v**9 + 704*e**10*u**9*v**3 - 1408*e**10*u**8*v**4 + 704*e**10*u**7*v**5 - 2816*e**10*u**6*v**6 - 704*e**10*u**5*v**7 - 1408*e**10*u**4*v**8 - 704*e**10*u**3*v**9 + 704*e**9*u**9*v**3 - 704*e**9*u**8*v**4 + 704*e**9*u**7*v**5 - 1408*e**9*u**6*v**6 - 704*e**9*u**5*v**7 - 704*e**9*u**4*v**8 - 704*e**9*u**3*v**9 - 88*e**8*u**10*v**2 + 1056*e**8*u**9*v**3 - 352*e**8*u**8*v**4 + 1056*e**8*u**7*v**5 - 528*e**8*u**6*v**6 - 1056*e**8*u**5*v**7 - 352*e**8*u**4*v**8 - 1056*e**8*u**3*v**9 - 88*e**8*u**2*v**10 - 352*e**7*u**10*v**2 + 1056*e**7*u**9*v**3 - 704*e**7*u**8*v**4 + 1056*e**7*u**7*v**5 - 704*e**7*u**6*v**6 - 1056*e**7*u**5*v**7 - 704*e**7*u**4*v**8 - 1056*e**7*u**3*v**9 - 352*e**7*u**2*v**10 - 440*e**6*u**10*v**2 + 704*e**6*u**9*v**3 - 352*e**6*u**8*v**4 + 704*e**6*u**7*v**5 + 176*e**6*u**6*v**6 - 704*e**6*u**5*v**7 - 352*e**6*u**4*v**8 - 704*e**6*u**3*v**9 - 440*e**6*u**2*v**10 - 352*e**5*u**10*v**2 + 704*e**5*u**9*v**3 + 704*e**5*u**7*v**5 + 704*e**5*u**6*v**6 - 704*e**5*u**5*v**7 - 704*e**5*u**3*v**9 - 352*e**5*u**2*v**10 + 88*e**4*u**11*v - 440*e**4*u**10*v**2 + 264*e**4*u**9*v**3 + 176*e**4*u**7*v**5 + 880*e**4*u**6*v**6 - 176*e**4*u**5*v**7 - 264*e**4*u**3*v**9 - 440*e**4*u**2*v**10 - 88*e**4*u*v**11 + 88*e**3*u**11*v - 352*e**3*u**10*v**2 - 88*e**3*u**9*v**3 - 176*e**3*u**7*v**5 + 704*e**3*u**6*v**6 + 176*e**3*u**5*v**7 + 88*e**3*u**3*v**9 - 352*e**3*u**2*v**10 - 88*e**3*u*v**11 + 88*e**2*u**11*v - 88*e**2*u**10*v**2 - 88*e**2*u**9*v**3 - 176*e**2*u**7*v**5 + 176*e**2*u**6*v**6 + 176*e**2*u**5*v**7 + 88*e**2*u**3*v**9 - 88*e**2*u**2*v**10 - 88*e**2*u*v**11 + 88*e*u**11*v - 88*e*u**9*v**3 - 176*e*u**7*v**5 + 176*e*u**5*v**7 + 88*e*u**3*v**9 - 88*e*u*v**11 - 22*u**12 + 44*u**10*v**2 + 22*u**8*v**4 - 88*u**6*v**6 + 22*u**4*v**8 + 44*u**2*v**10 - 22*v**12"
      ]
     },
     "execution_count": 27,
     "metadata": {},
     "output_type": "execute_result"
    }
   ],
   "source": [
    "(-22 * tI(u, v) ** 2).expand()"
   ]
  },
  {
   "cell_type": "code",
   "execution_count": null,
   "id": "c6eac966",
   "metadata": {},
   "outputs": [
    {
     "data": {
      "text/latex": [
       "$\\displaystyle 108 a^{5} c - 27 a^{4} b^{2} + 2250 a^{2} b c^{2} - 1600 a b^{3} c + 256 b^{5} + 3125 c^{4}$"
      ],
      "text/plain": [
       "108*a**5*c - 27*a**4*b**2 + 2250*a**2*b*c**2 - 1600*a*b**3*c + 256*b**5 + 3125*c**4"
      ]
     },
     "execution_count": 3,
     "metadata": {},
     "output_type": "execute_result"
    }
   ],
   "source": [
    "from sympy import discriminant, symbols\n",
    "\n",
    "Y, a, b, c = symbols(\"Y a b c\")\n",
    "\n",
    "Y_poly = Y**5 + 5 * a * Y**2 + 5 * b * Y + c\n",
    "\n",
    "discriminant(Y_poly, Y)"
   ]
  },
  {
   "cell_type": "code",
   "execution_count": null,
   "id": "e3b8ff77",
   "metadata": {},
   "outputs": [],
   "source": []
  }
 ],
 "metadata": {
  "kernelspec": {
   "display_name": "ag_notes",
   "language": "python",
   "name": "python3"
  },
  "language_info": {
   "codemirror_mode": {
    "name": "ipython",
    "version": 3
   },
   "file_extension": ".py",
   "mimetype": "text/x-python",
   "name": "python",
   "nbconvert_exporter": "python",
   "pygments_lexer": "ipython3",
   "version": "3.13.3"
  }
 },
 "nbformat": 4,
 "nbformat_minor": 5
}
