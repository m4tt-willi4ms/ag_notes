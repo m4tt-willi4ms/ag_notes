{
 "cells": [
  {
   "cell_type": "code",
   "execution_count": 1,
   "metadata": {},
   "outputs": [],
   "source": [
    "from sympy import Poly, simplify, symbols"
   ]
  },
  {
   "cell_type": "code",
   "execution_count": 2,
   "metadata": {},
   "outputs": [],
   "source": [
    "A, B, C, D, E, F, G, H, I, J, K, L = symbols(\"A B C D E F G H I J K L\")"
   ]
  },
  {
   "cell_type": "code",
   "execution_count": null,
   "metadata": {},
   "outputs": [],
   "source": [
    "from sympy import solve\n",
    "\n",
    "solve([G * K + H * L - C - D, 2 * C + D - (K + L) * G - K * H], [G, H])"
   ]
  },
  {
   "cell_type": "code",
   "execution_count": 4,
   "metadata": {},
   "outputs": [],
   "source": [
    "Gsol = _[G]\n",
    "Hsol = _[H]"
   ]
  },
  {
   "cell_type": "code",
   "execution_count": null,
   "metadata": {},
   "outputs": [],
   "source": [
    "simplify(Gsol.subs(K, 2 * A * B + A**2).subs(L, A**2 + B**2)).factor()"
   ]
  },
  {
   "cell_type": "code",
   "execution_count": null,
   "metadata": {},
   "outputs": [],
   "source": [
    "_.subs(A, 3).subs(B, 2).subs(C, 33).subs(D, 21)"
   ]
  },
  {
   "cell_type": "code",
   "execution_count": null,
   "metadata": {},
   "outputs": [],
   "source": [
    "simplify(Hsol.subs(K, 2 * A * B + A**2).subs(L, A**2 + B**2).expand()).factor()"
   ]
  },
  {
   "cell_type": "code",
   "execution_count": null,
   "metadata": {},
   "outputs": [],
   "source": [
    "_.subs(A, 3).subs(B, 2).subs(C, 33).subs(D, 21)"
   ]
  },
  {
   "cell_type": "code",
   "execution_count": 9,
   "metadata": {},
   "outputs": [],
   "source": [
    "# Imports\n",
    "from functools import reduce\n",
    "\n",
    "from sympy import simplify, symbols\n",
    "from utils import phi_simp"
   ]
  },
  {
   "cell_type": "code",
   "execution_count": null,
   "metadata": {},
   "outputs": [],
   "source": [
    "phi = symbols(\"phi\")\n",
    "phi_simp((C * phi**4 + D * phi**3 + E * phi**2 + F * phi + G) ** 2, phi).factor()"
   ]
  },
  {
   "cell_type": "code",
   "execution_count": null,
   "metadata": {},
   "outputs": [],
   "source": [
    "expr = _.subs(C, 0).subs(D, 0)\n",
    "expr"
   ]
  },
  {
   "cell_type": "code",
   "execution_count": null,
   "metadata": {},
   "outputs": [],
   "source": [
    "expr = Poly(expr, phi)\n",
    "expr.all_coeffs()"
   ]
  },
  {
   "cell_type": "code",
   "execution_count": null,
   "metadata": {},
   "outputs": [],
   "source": [
    "expr2 = expr.coeff(phi)\n",
    "expr2"
   ]
  },
  {
   "cell_type": "code",
   "execution_count": null,
   "metadata": {},
   "outputs": [],
   "source": [
    "simplify(expr2 * phi - expr)"
   ]
  },
  {
   "cell_type": "code",
   "execution_count": null,
   "metadata": {},
   "outputs": [],
   "source": [
    "expr.coefficients(phi)"
   ]
  },
  {
   "cell_type": "code",
   "execution_count": null,
   "metadata": {},
   "outputs": [],
   "source": [
    "from utils import e_simp\n",
    "\n",
    "# Second check:\n",
    "f, u, v, e = symbols(\"f u v e\")\n",
    "\n",
    "\n",
    "def antipodal_pair(m):\n",
    "    z = e**2 + e**3\n",
    "    return u**2 + e**m * (1 + (1 - f**2) * z) / f * u * v - e ** (2 * m) * v**2\n",
    "\n",
    "\n",
    "func = reduce(lambda x, y: x * y, [antipodal_pair(m) for m in range(5)])\n",
    "func2 = e_simp(func, e).expand()\n",
    "func2"
   ]
  },
  {
   "cell_type": "code",
   "execution_count": null,
   "metadata": {},
   "outputs": [],
   "source": [
    "f5 = symbols(\"f5\")\n",
    "\n",
    "func2 = func2.subs(f**5, f5)\n",
    "func2"
   ]
  },
  {
   "cell_type": "code",
   "execution_count": null,
   "metadata": {},
   "outputs": [],
   "source": [
    "func2 = Poly(func2, u)\n",
    "coeff = func2.coeffs()[1]\n",
    "simplify(coeff)"
   ]
  },
  {
   "cell_type": "code",
   "execution_count": null,
   "metadata": {},
   "outputs": [],
   "source": [
    "from icosahedron import T\n",
    "from sympy import div"
   ]
  },
  {
   "cell_type": "code",
   "execution_count": null,
   "metadata": {},
   "outputs": [],
   "source": [
    "result = div(T, func2)\n",
    "remainder = e_simp(result[1], e).expand().factor()\n",
    "\n",
    "remainder = Poly(remainder, u)\n",
    "# remainder.all_coeffs()\n",
    "remainder.all_coeffs()[-1].factor()"
   ]
  }
 ],
 "metadata": {
  "kernelspec": {
   "display_name": ".venv",
   "language": "python",
   "name": "python3"
  },
  "language_info": {
   "codemirror_mode": {
    "name": "ipython",
    "version": 3
   },
   "file_extension": ".py",
   "mimetype": "text/x-python",
   "name": "python",
   "nbconvert_exporter": "python",
   "pygments_lexer": "ipython3",
   "version": "3.11.6"
  }
 },
 "nbformat": 4,
 "nbformat_minor": 2
}
