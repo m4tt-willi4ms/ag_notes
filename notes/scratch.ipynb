{
 "cells": [
  {
   "cell_type": "code",
   "execution_count": null,
   "metadata": {},
   "outputs": [],
   "source": [
    "from sympy import (\n",
    "    I,\n",
    "    Poly,\n",
    "    conjugate,\n",
    "    cos,\n",
    "    expand_trig,\n",
    "    oo,\n",
    "    simplify,\n",
    "    sin,\n",
    "    sqrt,\n",
    "    symbols,\n",
    "    trigsimp,\n",
    ")"
   ]
  },
  {
   "cell_type": "code",
   "execution_count": null,
   "metadata": {},
   "outputs": [],
   "source": [
    "u, v = symbols(\"u v\")"
   ]
  },
  {
   "cell_type": "code",
   "execution_count": null,
   "metadata": {},
   "outputs": [],
   "source": [
    "phase = -1 / 2 + I * sqrt(3) / 2\n",
    "t = (\n",
    "    v\n",
    "    * (u - v / sqrt(2))\n",
    "    * (u - v / sqrt(2) * phase)\n",
    "    * (u - v / sqrt(2) * conjugate(phase))\n",
    ")\n",
    "simplify(t.expand())"
   ]
  },
  {
   "cell_type": "code",
   "execution_count": null,
   "metadata": {},
   "outputs": [],
   "source": [
    "phase = -1 / 2 + I * sqrt(3) / 2\n",
    "t = (\n",
    "    u\n",
    "    * (u - v * sqrt(2))\n",
    "    * (u - v * sqrt(2) * phase)\n",
    "    * (u - v * sqrt(2) * conjugate(phase))\n",
    ")\n",
    "simplify(t.expand())"
   ]
  },
  {
   "cell_type": "code",
   "execution_count": 115,
   "metadata": {},
   "outputs": [
    {
     "data": {
      "text/latex": [
       "$\\displaystyle \\frac{p^{4} ta_{2}^{4} v^{4}}{- 2 \\sqrt{2} ta_{2}^{3} + 1} + \\frac{2 \\sqrt{2} p^{4} ta_{2} v^{4}}{- 2 \\sqrt{2} ta_{2}^{3} + 1} - \\frac{p^{3} ta_{2}^{3} u v^{3}}{- ta_{2}^{2} + \\sqrt{3} i ta_{2}^{2} - \\frac{\\sqrt{2} ta_{2}}{2} - \\frac{\\sqrt{6} i ta_{2}}{2} + 1} - \\frac{p^{3} ta_{2}^{3} u v^{3}}{- ta_{2}^{2} - \\sqrt{3} i ta_{2}^{2} - \\frac{\\sqrt{2} ta_{2}}{2} + \\frac{\\sqrt{6} i ta_{2}}{2} + 1} - \\frac{p^{3} ta_{2}^{3} u v^{3}}{2 ta_{2}^{2} + \\sqrt{2} ta_{2} + 1} - \\frac{p^{3} ta_{2}^{3} u v^{3}}{- 2 \\sqrt{2} ta_{2}^{3} + 1} - \\frac{\\sqrt{2} p^{3} ta_{2}^{2} u v^{3}}{- 2 ta_{2}^{2} + 2 \\sqrt{3} i ta_{2}^{2} - \\sqrt{2} ta_{2} - \\sqrt{6} i ta_{2} + 2} - \\frac{\\sqrt{6} i p^{3} ta_{2}^{2} u v^{3}}{- 2 ta_{2}^{2} + 2 \\sqrt{3} i ta_{2}^{2} - \\sqrt{2} ta_{2} - \\sqrt{6} i ta_{2} + 2} - \\frac{\\sqrt{2} p^{3} ta_{2}^{2} u v^{3}}{- 2 ta_{2}^{2} - 2 \\sqrt{3} i ta_{2}^{2} - \\sqrt{2} ta_{2} + \\sqrt{6} i ta_{2} + 2} + \\frac{\\sqrt{6} i p^{3} ta_{2}^{2} u v^{3}}{- 2 ta_{2}^{2} - 2 \\sqrt{3} i ta_{2}^{2} - \\sqrt{2} ta_{2} + \\sqrt{6} i ta_{2} + 2} + \\frac{\\sqrt{2} p^{3} ta_{2}^{2} u v^{3}}{2 ta_{2}^{2} + \\sqrt{2} ta_{2} + 1} + \\frac{p^{3} ta_{2} u v^{3}}{- ta_{2}^{2} + \\sqrt{3} i ta_{2}^{2} - \\frac{\\sqrt{2} ta_{2}}{2} - \\frac{\\sqrt{6} i ta_{2}}{2} + 1} - \\frac{\\sqrt{3} i p^{3} ta_{2} u v^{3}}{- ta_{2}^{2} + \\sqrt{3} i ta_{2}^{2} - \\frac{\\sqrt{2} ta_{2}}{2} - \\frac{\\sqrt{6} i ta_{2}}{2} + 1} + \\frac{p^{3} ta_{2} u v^{3}}{- ta_{2}^{2} - \\sqrt{3} i ta_{2}^{2} - \\frac{\\sqrt{2} ta_{2}}{2} + \\frac{\\sqrt{6} i ta_{2}}{2} + 1} + \\frac{\\sqrt{3} i p^{3} ta_{2} u v^{3}}{- ta_{2}^{2} - \\sqrt{3} i ta_{2}^{2} - \\frac{\\sqrt{2} ta_{2}}{2} + \\frac{\\sqrt{6} i ta_{2}}{2} + 1} - \\frac{2 p^{3} ta_{2} u v^{3}}{2 ta_{2}^{2} + \\sqrt{2} ta_{2} + 1} - \\frac{2 \\sqrt{2} p^{3} u v^{3}}{- 2 \\sqrt{2} ta_{2}^{3} + 1} + \\frac{p^{2} ta_{2}^{2} u^{2} v^{2}}{- ta_{2}^{2} + \\sqrt{3} i ta_{2}^{2} - \\frac{\\sqrt{2} ta_{2}}{2} - \\frac{\\sqrt{6} i ta_{2}}{2} + 1} + \\frac{p^{2} ta_{2}^{2} u^{2} v^{2}}{- ta_{2}^{2} - \\sqrt{3} i ta_{2}^{2} - \\frac{\\sqrt{2} ta_{2}}{2} + \\frac{\\sqrt{6} i ta_{2}}{2} + 1} + \\frac{p^{2} ta_{2}^{2} u^{2} v^{2}}{\\frac{\\sqrt{2} ta_{2}}{2} + \\frac{\\sqrt{6} i ta_{2}}{2} + 1} + \\frac{p^{2} ta_{2}^{2} u^{2} v^{2}}{\\frac{\\sqrt{2} ta_{2}}{2} - \\frac{\\sqrt{6} i ta_{2}}{2} + 1} + \\frac{p^{2} ta_{2}^{2} u^{2} v^{2}}{2 ta_{2}^{2} + \\sqrt{2} ta_{2} + 1} + \\frac{p^{2} ta_{2}^{2} u^{2} v^{2}}{- \\sqrt{2} ta_{2} + 1} + \\frac{\\sqrt{2} p^{2} ta_{2} u^{2} v^{2}}{- 2 ta_{2}^{2} + 2 \\sqrt{3} i ta_{2}^{2} - \\sqrt{2} ta_{2} - \\sqrt{6} i ta_{2} + 2} + \\frac{\\sqrt{6} i p^{2} ta_{2} u^{2} v^{2}}{- 2 ta_{2}^{2} + 2 \\sqrt{3} i ta_{2}^{2} - \\sqrt{2} ta_{2} - \\sqrt{6} i ta_{2} + 2} + \\frac{\\sqrt{2} p^{2} ta_{2} u^{2} v^{2}}{- 2 ta_{2}^{2} - 2 \\sqrt{3} i ta_{2}^{2} - \\sqrt{2} ta_{2} + \\sqrt{6} i ta_{2} + 2} - \\frac{\\sqrt{6} i p^{2} ta_{2} u^{2} v^{2}}{- 2 ta_{2}^{2} - 2 \\sqrt{3} i ta_{2}^{2} - \\sqrt{2} ta_{2} + \\sqrt{6} i ta_{2} + 2} - \\frac{\\sqrt{2} p^{2} ta_{2} u^{2} v^{2}}{\\sqrt{2} ta_{2} + \\sqrt{6} i ta_{2} + 2} - \\frac{\\sqrt{6} i p^{2} ta_{2} u^{2} v^{2}}{\\sqrt{2} ta_{2} + \\sqrt{6} i ta_{2} + 2} - \\frac{\\sqrt{2} p^{2} ta_{2} u^{2} v^{2}}{\\sqrt{2} ta_{2} - \\sqrt{6} i ta_{2} + 2} + \\frac{\\sqrt{6} i p^{2} ta_{2} u^{2} v^{2}}{\\sqrt{2} ta_{2} - \\sqrt{6} i ta_{2} + 2} - \\frac{\\sqrt{2} p^{2} ta_{2} u^{2} v^{2}}{2 ta_{2}^{2} + \\sqrt{2} ta_{2} + 1} + \\frac{\\sqrt{2} p^{2} ta_{2} u^{2} v^{2}}{- \\sqrt{2} ta_{2} + 1} - \\frac{p^{2} u^{2} v^{2}}{- ta_{2}^{2} + \\sqrt{3} i ta_{2}^{2} - \\frac{\\sqrt{2} ta_{2}}{2} - \\frac{\\sqrt{6} i ta_{2}}{2} + 1} + \\frac{\\sqrt{3} i p^{2} u^{2} v^{2}}{- ta_{2}^{2} + \\sqrt{3} i ta_{2}^{2} - \\frac{\\sqrt{2} ta_{2}}{2} - \\frac{\\sqrt{6} i ta_{2}}{2} + 1} - \\frac{p^{2} u^{2} v^{2}}{- ta_{2}^{2} - \\sqrt{3} i ta_{2}^{2} - \\frac{\\sqrt{2} ta_{2}}{2} + \\frac{\\sqrt{6} i ta_{2}}{2} + 1} - \\frac{\\sqrt{3} i p^{2} u^{2} v^{2}}{- ta_{2}^{2} - \\sqrt{3} i ta_{2}^{2} - \\frac{\\sqrt{2} ta_{2}}{2} + \\frac{\\sqrt{6} i ta_{2}}{2} + 1} + \\frac{2 p^{2} u^{2} v^{2}}{2 ta_{2}^{2} + \\sqrt{2} ta_{2} + 1} - p ta_{2} u^{3} v - \\frac{p ta_{2} u^{3} v}{\\frac{\\sqrt{2} ta_{2}}{2} + \\frac{\\sqrt{6} i ta_{2}}{2} + 1} - \\frac{p ta_{2} u^{3} v}{\\frac{\\sqrt{2} ta_{2}}{2} - \\frac{\\sqrt{6} i ta_{2}}{2} + 1} - \\frac{p ta_{2} u^{3} v}{- \\sqrt{2} ta_{2} + 1} + \\frac{\\sqrt{2} p u^{3} v}{\\sqrt{2} ta_{2} + \\sqrt{6} i ta_{2} + 2} + \\frac{\\sqrt{6} i p u^{3} v}{\\sqrt{2} ta_{2} + \\sqrt{6} i ta_{2} + 2} + \\frac{\\sqrt{2} p u^{3} v}{\\sqrt{2} ta_{2} - \\sqrt{6} i ta_{2} + 2} - \\frac{\\sqrt{6} i p u^{3} v}{\\sqrt{2} ta_{2} - \\sqrt{6} i ta_{2} + 2} - \\frac{\\sqrt{2} p u^{3} v}{- \\sqrt{2} ta_{2} + 1} + u^{4}$"
      ],
      "text/plain": [
       "p**4*ta2**4*v**4/(-2*sqrt(2)*ta2**3 + 1) + 2*sqrt(2)*p**4*ta2*v**4/(-2*sqrt(2)*ta2**3 + 1) - p**3*ta2**3*u*v**3/(-ta2**2 + sqrt(3)*I*ta2**2 - sqrt(2)*ta2/2 - sqrt(6)*I*ta2/2 + 1) - p**3*ta2**3*u*v**3/(-ta2**2 - sqrt(3)*I*ta2**2 - sqrt(2)*ta2/2 + sqrt(6)*I*ta2/2 + 1) - p**3*ta2**3*u*v**3/(2*ta2**2 + sqrt(2)*ta2 + 1) - p**3*ta2**3*u*v**3/(-2*sqrt(2)*ta2**3 + 1) - sqrt(2)*p**3*ta2**2*u*v**3/(-2*ta2**2 + 2*sqrt(3)*I*ta2**2 - sqrt(2)*ta2 - sqrt(6)*I*ta2 + 2) - sqrt(6)*I*p**3*ta2**2*u*v**3/(-2*ta2**2 + 2*sqrt(3)*I*ta2**2 - sqrt(2)*ta2 - sqrt(6)*I*ta2 + 2) - sqrt(2)*p**3*ta2**2*u*v**3/(-2*ta2**2 - 2*sqrt(3)*I*ta2**2 - sqrt(2)*ta2 + sqrt(6)*I*ta2 + 2) + sqrt(6)*I*p**3*ta2**2*u*v**3/(-2*ta2**2 - 2*sqrt(3)*I*ta2**2 - sqrt(2)*ta2 + sqrt(6)*I*ta2 + 2) + sqrt(2)*p**3*ta2**2*u*v**3/(2*ta2**2 + sqrt(2)*ta2 + 1) + p**3*ta2*u*v**3/(-ta2**2 + sqrt(3)*I*ta2**2 - sqrt(2)*ta2/2 - sqrt(6)*I*ta2/2 + 1) - sqrt(3)*I*p**3*ta2*u*v**3/(-ta2**2 + sqrt(3)*I*ta2**2 - sqrt(2)*ta2/2 - sqrt(6)*I*ta2/2 + 1) + p**3*ta2*u*v**3/(-ta2**2 - sqrt(3)*I*ta2**2 - sqrt(2)*ta2/2 + sqrt(6)*I*ta2/2 + 1) + sqrt(3)*I*p**3*ta2*u*v**3/(-ta2**2 - sqrt(3)*I*ta2**2 - sqrt(2)*ta2/2 + sqrt(6)*I*ta2/2 + 1) - 2*p**3*ta2*u*v**3/(2*ta2**2 + sqrt(2)*ta2 + 1) - 2*sqrt(2)*p**3*u*v**3/(-2*sqrt(2)*ta2**3 + 1) + p**2*ta2**2*u**2*v**2/(-ta2**2 + sqrt(3)*I*ta2**2 - sqrt(2)*ta2/2 - sqrt(6)*I*ta2/2 + 1) + p**2*ta2**2*u**2*v**2/(-ta2**2 - sqrt(3)*I*ta2**2 - sqrt(2)*ta2/2 + sqrt(6)*I*ta2/2 + 1) + p**2*ta2**2*u**2*v**2/(sqrt(2)*ta2/2 + sqrt(6)*I*ta2/2 + 1) + p**2*ta2**2*u**2*v**2/(sqrt(2)*ta2/2 - sqrt(6)*I*ta2/2 + 1) + p**2*ta2**2*u**2*v**2/(2*ta2**2 + sqrt(2)*ta2 + 1) + p**2*ta2**2*u**2*v**2/(-sqrt(2)*ta2 + 1) + sqrt(2)*p**2*ta2*u**2*v**2/(-2*ta2**2 + 2*sqrt(3)*I*ta2**2 - sqrt(2)*ta2 - sqrt(6)*I*ta2 + 2) + sqrt(6)*I*p**2*ta2*u**2*v**2/(-2*ta2**2 + 2*sqrt(3)*I*ta2**2 - sqrt(2)*ta2 - sqrt(6)*I*ta2 + 2) + sqrt(2)*p**2*ta2*u**2*v**2/(-2*ta2**2 - 2*sqrt(3)*I*ta2**2 - sqrt(2)*ta2 + sqrt(6)*I*ta2 + 2) - sqrt(6)*I*p**2*ta2*u**2*v**2/(-2*ta2**2 - 2*sqrt(3)*I*ta2**2 - sqrt(2)*ta2 + sqrt(6)*I*ta2 + 2) - sqrt(2)*p**2*ta2*u**2*v**2/(sqrt(2)*ta2 + sqrt(6)*I*ta2 + 2) - sqrt(6)*I*p**2*ta2*u**2*v**2/(sqrt(2)*ta2 + sqrt(6)*I*ta2 + 2) - sqrt(2)*p**2*ta2*u**2*v**2/(sqrt(2)*ta2 - sqrt(6)*I*ta2 + 2) + sqrt(6)*I*p**2*ta2*u**2*v**2/(sqrt(2)*ta2 - sqrt(6)*I*ta2 + 2) - sqrt(2)*p**2*ta2*u**2*v**2/(2*ta2**2 + sqrt(2)*ta2 + 1) + sqrt(2)*p**2*ta2*u**2*v**2/(-sqrt(2)*ta2 + 1) - p**2*u**2*v**2/(-ta2**2 + sqrt(3)*I*ta2**2 - sqrt(2)*ta2/2 - sqrt(6)*I*ta2/2 + 1) + sqrt(3)*I*p**2*u**2*v**2/(-ta2**2 + sqrt(3)*I*ta2**2 - sqrt(2)*ta2/2 - sqrt(6)*I*ta2/2 + 1) - p**2*u**2*v**2/(-ta2**2 - sqrt(3)*I*ta2**2 - sqrt(2)*ta2/2 + sqrt(6)*I*ta2/2 + 1) - sqrt(3)*I*p**2*u**2*v**2/(-ta2**2 - sqrt(3)*I*ta2**2 - sqrt(2)*ta2/2 + sqrt(6)*I*ta2/2 + 1) + 2*p**2*u**2*v**2/(2*ta2**2 + sqrt(2)*ta2 + 1) - p*ta2*u**3*v - p*ta2*u**3*v/(sqrt(2)*ta2/2 + sqrt(6)*I*ta2/2 + 1) - p*ta2*u**3*v/(sqrt(2)*ta2/2 - sqrt(6)*I*ta2/2 + 1) - p*ta2*u**3*v/(-sqrt(2)*ta2 + 1) + sqrt(2)*p*u**3*v/(sqrt(2)*ta2 + sqrt(6)*I*ta2 + 2) + sqrt(6)*I*p*u**3*v/(sqrt(2)*ta2 + sqrt(6)*I*ta2 + 2) + sqrt(2)*p*u**3*v/(sqrt(2)*ta2 - sqrt(6)*I*ta2 + 2) - sqrt(6)*I*p*u**3*v/(sqrt(2)*ta2 - sqrt(6)*I*ta2 + 2) - sqrt(2)*p*u**3*v/(-sqrt(2)*ta2 + 1) + u**4"
      ]
     },
     "execution_count": 115,
     "metadata": {},
     "output_type": "execute_result"
    }
   ],
   "source": [
    "# Check of the above:\n",
    "from utils import reduce_multiply\n",
    "\n",
    "phase = (-1 + I * sqrt(3)) / 2\n",
    "norm = sqrt(2)\n",
    "zs = [0, norm, phase * norm, conjugate(phase) * norm]\n",
    "# zs = [0, 2, phase, conjugate(phase)]\n",
    "\n",
    "\n",
    "def rotate(z, alpha, prephase=1):\n",
    "    if z is oo:\n",
    "        return -cos(alpha / 2) / sin(alpha / 2)\n",
    "    return (cos(alpha / 2) * prephase * z + sin(alpha / 2)) / (\n",
    "        -sin(alpha / 2) * prephase * z + cos(alpha / 2)\n",
    "    )\n",
    "\n",
    "\n",
    "ca2, sa2 = symbols(\"ca2 sa2\")\n",
    "\n",
    "\n",
    "def rotate(z, alpha, prephase=1):\n",
    "    if z is oo:\n",
    "        return -ca2 / sa2\n",
    "    return (ca2 * prephase * z + sa2) / (-sa2 * prephase * z + ca2)\n",
    "\n",
    "\n",
    "ta2 = symbols(\"ta2\")\n",
    "\n",
    "\n",
    "def rotate(z, alpha, prephase=1):\n",
    "    if z is oo:\n",
    "        return -ca2 / sa2\n",
    "    return (prephase * z + ta2) / (-ta2 * prephase * z + 1)\n",
    "\n",
    "\n",
    "alpha, p, w = symbols(\"alpha p w\", real=True)\n",
    "\n",
    "\n",
    "zps = [rotate(z, alpha) for z in zs]\n",
    "\n",
    "\n",
    "tp = reduce_multiply([u - p * z * v for z in zps])\n",
    "tp = tp.expand()\n",
    "tp"
   ]
  },
  {
   "cell_type": "code",
   "execution_count": 116,
   "metadata": {},
   "outputs": [
    {
     "data": {
      "text/latex": [
       "$\\displaystyle - \\frac{p^{4} ta_{2} v^{4} \\left(ta_{2}^{3} + 2 \\sqrt{2}\\right)}{2 \\sqrt{2} ta_{2}^{3} - 1} - \\frac{2 p^{3} u v^{3} \\left(- 16 ta_{2}^{9} + 24 \\sqrt{2} ta_{2}^{8} - 24 ta_{2}^{5} + 6 ta_{2}^{3} + 3 \\sqrt{2} ta_{2}^{2} - \\sqrt{2}\\right)}{16 \\sqrt{2} ta_{2}^{9} - 24 ta_{2}^{6} + 6 \\sqrt{2} ta_{2}^{3} - 1} - \\frac{6 p^{2} ta_{2} u^{2} v^{2} \\cdot \\left(8 \\sqrt{2} ta_{2}^{8} + 8 ta_{2}^{7} - 8 \\sqrt{2} ta_{2}^{6} - 8 ta_{2}^{5} - 4 \\sqrt{2} ta_{2}^{4} + 8 ta_{2}^{3} + \\sqrt{2} ta_{2}^{2} + ta_{2} - \\sqrt{2}\\right)}{16 \\sqrt{2} ta_{2}^{9} - 24 ta_{2}^{6} + 6 \\sqrt{2} ta_{2}^{3} - 1} - \\frac{2 p ta_{2} u^{3} v \\left(\\sqrt{2} ta_{2}^{3} - 3 \\sqrt{2} ta_{2} - 2\\right)}{2 \\sqrt{2} ta_{2}^{3} - 1} + u^{4}$"
      ],
      "text/plain": [
       "-p**4*ta2*v**4*(ta2**3 + 2*sqrt(2))/(2*sqrt(2)*ta2**3 - 1) - 2*p**3*u*v**3*(-16*ta2**9 + 24*sqrt(2)*ta2**8 - 24*ta2**5 + 6*ta2**3 + 3*sqrt(2)*ta2**2 - sqrt(2))/(16*sqrt(2)*ta2**9 - 24*ta2**6 + 6*sqrt(2)*ta2**3 - 1) - 6*p**2*ta2*u**2*v**2*(8*sqrt(2)*ta2**8 + 8*ta2**7 - 8*sqrt(2)*ta2**6 - 8*ta2**5 - 4*sqrt(2)*ta2**4 + 8*ta2**3 + sqrt(2)*ta2**2 + ta2 - sqrt(2))/(16*sqrt(2)*ta2**9 - 24*ta2**6 + 6*sqrt(2)*ta2**3 - 1) - 2*p*ta2*u**3*v*(sqrt(2)*ta2**3 - 3*sqrt(2)*ta2 - 2)/(2*sqrt(2)*ta2**3 - 1) + u**4"
      ]
     },
     "execution_count": 116,
     "metadata": {},
     "output_type": "execute_result"
    }
   ],
   "source": [
    "result = Poly(tp, u)\n",
    "\n",
    "\n",
    "new_coeffs = []\n",
    "\n",
    "\n",
    "for coeff in result.all_coeffs():\n",
    "    new_coeffs.append(\n",
    "        simplify(coeff).factor()\n",
    "    )  # .subs(sa2**3, sa2*(1-ca2**2).subs(sa2**2, 1-ca2**2)))\n",
    "\n",
    "result = Poly.from_list(new_coeffs, u).as_expr()\n",
    "result"
   ]
  },
  {
   "cell_type": "code",
   "execution_count": 117,
   "metadata": {},
   "outputs": [
    {
     "data": {
      "text/latex": [
       "$\\displaystyle 1$"
      ],
      "text/plain": [
       "1"
      ]
     },
     "execution_count": 117,
     "metadata": {},
     "output_type": "execute_result"
    }
   ],
   "source": [
    "coeff = new_coeffs[0]\n",
    "coeff"
   ]
  },
  {
   "cell_type": "code",
   "execution_count": 121,
   "metadata": {},
   "outputs": [
    {
     "data": {
      "text/latex": [
       "$\\displaystyle \\frac{6 p^{2} ta_{2} v^{2} \\left(- 8 \\sqrt{2} ta_{2}^{8} - 8 ta_{2}^{7} + 8 \\sqrt{2} ta_{2}^{6} + 8 ta_{2}^{5} + 4 \\sqrt{2} ta_{2}^{4} - 8 ta_{2}^{3} - \\sqrt{2} ta_{2}^{2} - ta_{2} + \\sqrt{2}\\right)}{16 \\sqrt{2} ta_{2}^{9} - 24 ta_{2}^{6} + 6 \\sqrt{2} ta_{2}^{3} - 1}$"
      ],
      "text/plain": [
       "6*p**2*ta2*v**2*(-8*sqrt(2)*ta2**8 - 8*ta2**7 + 8*sqrt(2)*ta2**6 + 8*ta2**5 + 4*sqrt(2)*ta2**4 - 8*ta2**3 - sqrt(2)*ta2**2 - ta2 + sqrt(2))/(16*sqrt(2)*ta2**9 - 24*ta2**6 + 6*sqrt(2)*ta2**3 - 1)"
      ]
     },
     "execution_count": 121,
     "metadata": {},
     "output_type": "execute_result"
    }
   ],
   "source": [
    "coeff = new_coeffs[2]\n",
    "simplify(coeff)"
   ]
  },
  {
   "cell_type": "code",
   "execution_count": 124,
   "metadata": {},
   "outputs": [
    {
     "data": {
      "text/latex": [
       "$\\displaystyle - \\frac{p^{4} ta_{2} v^{4} \\left(ta_{2}^{3} + 2 \\sqrt{2}\\right)}{2 \\sqrt{2} ta_{2}^{3} - 1}$"
      ],
      "text/plain": [
       "-p**4*ta2*v**4*(ta2**3 + 2*sqrt(2))/(2*sqrt(2)*ta2**3 - 1)"
      ]
     },
     "execution_count": 124,
     "metadata": {},
     "output_type": "execute_result"
    }
   ],
   "source": [
    "coeff = new_coeffs[-1]\n",
    "coeff"
   ]
  },
  {
   "cell_type": "code",
   "execution_count": 126,
   "metadata": {},
   "outputs": [
    {
     "data": {
      "text/latex": [
       "$\\displaystyle - \\frac{p^{4} ta_{2} v^{4} \\left(ta_{2} \\left(- 4 \\phi + 2 \\sqrt{3 \\phi - 9} + 9\\right) - \\sqrt{2} \\cdot \\left(4 \\phi - 18\\right)\\right)}{2 \\phi + 2 \\sqrt{2} ta_{2} \\left(- 4 \\phi + 2 \\sqrt{3} \\sqrt{\\phi - 3} + 9\\right) - 9}$"
      ],
      "text/plain": [
       "-p**4*ta2*v**4*(ta2*(-4*phi + 2*sqrt(3*phi - 9) + 9) - sqrt(2)*(4*phi - 18))/(2*phi + 2*sqrt(2)*ta2*(-4*phi + 2*sqrt(3)*sqrt(phi - 3) + 9) - 9)"
      ]
     },
     "execution_count": 126,
     "metadata": {},
     "output_type": "execute_result"
    }
   ],
   "source": [
    "phi = symbols(\"phi\")\n",
    "result = _.subs(ta2**3, ta2 * (4 * phi - 9 - 2 * sqrt(3 * (phi - 3))) / (2 * phi - 9))\n",
    "simplify(result).radsimp()"
   ]
  },
  {
   "cell_type": "code",
   "execution_count": 132,
   "metadata": {},
   "outputs": [
    {
     "data": {
      "text/latex": [
       "$\\displaystyle 0.794654472291766$"
      ],
      "text/plain": [
       "0.794654472291766"
      ]
     },
     "execution_count": 132,
     "metadata": {},
     "output_type": "execute_result"
    }
   ],
   "source": [
    "expr1 = (phi**2 + 2 * phi + 1) / sqrt(1 + phi**2) / sqrt(phi**2 + (1 + 2 * phi) ** 2)\n",
    "expr1.subs(phi, (1 + sqrt(5)) / 2).evalf()"
   ]
  },
  {
   "cell_type": "code",
   "execution_count": 133,
   "metadata": {},
   "outputs": [
    {
     "data": {
      "text/latex": [
       "$\\displaystyle 0.794654472291766$"
      ],
      "text/plain": [
       "0.794654472291766"
      ]
     },
     "execution_count": 133,
     "metadata": {},
     "output_type": "execute_result"
    }
   ],
   "source": [
    "expr2 = phi / sqrt(3 * (3 - phi))\n",
    "expr2.subs(phi, (1 + sqrt(5)) / 2).evalf()"
   ]
  },
  {
   "cell_type": "code",
   "execution_count": 151,
   "metadata": {},
   "outputs": [
    {
     "data": {
      "text/latex": [
       "$\\displaystyle 0.794654472291766$"
      ],
      "text/plain": [
       "0.794654472291766"
      ]
     },
     "execution_count": 151,
     "metadata": {},
     "output_type": "execute_result"
    }
   ],
   "source": [
    "expr3 = (3 * phi + 2) / sqrt(33 * phi + 21)\n",
    "expr3.subs(phi, (1 + sqrt(5)) / 2).evalf()"
   ]
  },
  {
   "cell_type": "code",
   "execution_count": 148,
   "metadata": {},
   "outputs": [
    {
     "data": {
      "text/latex": [
       "$\\displaystyle \\frac{\\sqrt{30} \\sqrt{\\sqrt{5} + 5}}{60} + \\frac{\\sqrt{6} \\sqrt{\\sqrt{5} + 5}}{12}$"
      ],
      "text/plain": [
       "sqrt(30)*sqrt(sqrt(5) + 5)/60 + sqrt(6)*sqrt(sqrt(5) + 5)/12"
      ]
     },
     "execution_count": 148,
     "metadata": {},
     "output_type": "execute_result"
    }
   ],
   "source": [
    "from sympy import sqrtdenest\n",
    "\n",
    "sqrtdenest(simplify(expr1.subs(phi, (1 + sqrt(5)) / 2).expand().radsimp()))  # .factor()"
   ]
  },
  {
   "cell_type": "code",
   "execution_count": 149,
   "metadata": {},
   "outputs": [
    {
     "data": {
      "text/latex": [
       "$\\displaystyle \\frac{\\sqrt{6} \\sqrt{5 - \\sqrt{5}}}{12} + \\frac{\\sqrt{30} \\sqrt{5 - \\sqrt{5}}}{20}$"
      ],
      "text/plain": [
       "sqrt(6)*sqrt(5 - sqrt(5))/12 + sqrt(30)*sqrt(5 - sqrt(5))/20"
      ]
     },
     "execution_count": 149,
     "metadata": {},
     "output_type": "execute_result"
    }
   ],
   "source": [
    "sqrtdenest(\n",
    "    simplify(expr2.subs(phi, (1 + sqrt(5)) / 2).expand().radsimp())\n",
    ")  # 3.factor()"
   ]
  },
  {
   "cell_type": "code",
   "execution_count": 114,
   "metadata": {},
   "outputs": [
    {
     "data": {
      "text/latex": [
       "$\\displaystyle - \\frac{p^{4} v^{4} \\sin^{2}{\\left(\\alpha \\right)} \\cos{\\left(\\alpha \\right)}}{2 \\sqrt{2} \\sin{\\left(\\alpha \\right)} \\cos^{2}{\\left(\\alpha \\right)} - 2 \\sqrt{2} \\sin{\\left(\\alpha \\right)} + \\cos^{3}{\\left(\\alpha \\right)} + 3 \\cos^{2}{\\left(\\alpha \\right)} + 3 \\cos{\\left(\\alpha \\right)} + 1} + \\frac{p^{4} v^{4} \\sin^{2}{\\left(\\alpha \\right)}}{2 \\sqrt{2} \\sin{\\left(\\alpha \\right)} \\cos^{2}{\\left(\\alpha \\right)} - 2 \\sqrt{2} \\sin{\\left(\\alpha \\right)} + \\cos^{3}{\\left(\\alpha \\right)} + 3 \\cos^{2}{\\left(\\alpha \\right)} + 3 \\cos{\\left(\\alpha \\right)} + 1} + \\frac{2 \\sqrt{2} p^{4} v^{4} \\sin{\\left(\\alpha \\right)} \\cos^{2}{\\left(\\alpha \\right)}}{2 \\sqrt{2} \\sin{\\left(\\alpha \\right)} \\cos^{2}{\\left(\\alpha \\right)} - 2 \\sqrt{2} \\sin{\\left(\\alpha \\right)} + \\cos^{3}{\\left(\\alpha \\right)} + 3 \\cos^{2}{\\left(\\alpha \\right)} + 3 \\cos{\\left(\\alpha \\right)} + 1} + \\frac{4 \\sqrt{2} p^{4} v^{4} \\sin{\\left(\\alpha \\right)} \\cos{\\left(\\alpha \\right)}}{2 \\sqrt{2} \\sin{\\left(\\alpha \\right)} \\cos^{2}{\\left(\\alpha \\right)} - 2 \\sqrt{2} \\sin{\\left(\\alpha \\right)} + \\cos^{3}{\\left(\\alpha \\right)} + 3 \\cos^{2}{\\left(\\alpha \\right)} + 3 \\cos{\\left(\\alpha \\right)} + 1} + \\frac{2 \\sqrt{2} p^{4} v^{4} \\sin{\\left(\\alpha \\right)}}{2 \\sqrt{2} \\sin{\\left(\\alpha \\right)} \\cos^{2}{\\left(\\alpha \\right)} - 2 \\sqrt{2} \\sin{\\left(\\alpha \\right)} + \\cos^{3}{\\left(\\alpha \\right)} + 3 \\cos^{2}{\\left(\\alpha \\right)} + 3 \\cos{\\left(\\alpha \\right)} + 1}$"
      ],
      "text/plain": [
       "-p**4*v**4*sin(alpha)**2*cos(alpha)/(2*sqrt(2)*sin(alpha)*cos(alpha)**2 - 2*sqrt(2)*sin(alpha) + cos(alpha)**3 + 3*cos(alpha)**2 + 3*cos(alpha) + 1) + p**4*v**4*sin(alpha)**2/(2*sqrt(2)*sin(alpha)*cos(alpha)**2 - 2*sqrt(2)*sin(alpha) + cos(alpha)**3 + 3*cos(alpha)**2 + 3*cos(alpha) + 1) + 2*sqrt(2)*p**4*v**4*sin(alpha)*cos(alpha)**2/(2*sqrt(2)*sin(alpha)*cos(alpha)**2 - 2*sqrt(2)*sin(alpha) + cos(alpha)**3 + 3*cos(alpha)**2 + 3*cos(alpha) + 1) + 4*sqrt(2)*p**4*v**4*sin(alpha)*cos(alpha)/(2*sqrt(2)*sin(alpha)*cos(alpha)**2 - 2*sqrt(2)*sin(alpha) + cos(alpha)**3 + 3*cos(alpha)**2 + 3*cos(alpha) + 1) + 2*sqrt(2)*p**4*v**4*sin(alpha)/(2*sqrt(2)*sin(alpha)*cos(alpha)**2 - 2*sqrt(2)*sin(alpha) + cos(alpha)**3 + 3*cos(alpha)**2 + 3*cos(alpha) + 1)"
      ]
     },
     "execution_count": 114,
     "metadata": {},
     "output_type": "execute_result"
    }
   ],
   "source": [
    "coeff = new_coeffs[-1]\n",
    "coeff.subs(sa2**4, ((1 - cos(alpha)) / 2) ** 2).subs(\n",
    "    sa2**3, ((1 - cos(alpha)) / 2) * sa2\n",
    ").subs(sa2**2, ((1 - cos(alpha)) / 2)).subs(\n",
    "    sa2, sin(alpha) / 2 / ca2\n",
    ").factor().expand().subs(\n",
    "    ca2**4, ((1 + cos(alpha)) / 2) ** 2\n",
    ").subs(\n",
    "    ca2**2, ((1 + cos(alpha)) / 2)\n",
    ").factor().expand()"
   ]
  },
  {
   "cell_type": "code",
   "execution_count": null,
   "metadata": {},
   "outputs": [],
   "source": [
    "result.subs(sa2**4, ((1 - cos(alpha)) / 2) ** 2)"
   ]
  },
  {
   "cell_type": "code",
   "execution_count": null,
   "metadata": {},
   "outputs": [],
   "source": [
    "result2 = (\n",
    "    result.subs(sa2**4, ((1 - cos(alpha)) / 2) ** 2)\n",
    "    .subs(sa2**3, ((1 - cos(alpha)) / 2) * sa2)\n",
    "    .subs(sa2**2, ((1 - cos(alpha)) / 2))\n",
    "    .subs(sa2, sin(alpha) / 2 / ca2)\n",
    "    .factor()\n",
    "    .expand()\n",
    ")\n",
    "result2"
   ]
  },
  {
   "cell_type": "code",
   "execution_count": null,
   "metadata": {},
   "outputs": [],
   "source": [
    "result3 = (\n",
    "    result2.subs(ca2**4, ((1 + cos(alpha)) / 2) ** 2)\n",
    "    .subs(ca2**2, ((1 + cos(alpha)) / 2))\n",
    "    .factor()\n",
    "    .expand()\n",
    ")\n",
    "result3"
   ]
  },
  {
   "cell_type": "code",
   "execution_count": null,
   "metadata": {},
   "outputs": [],
   "source": [
    "result3 = Poly(result3, u)\n",
    "\n",
    "\n",
    "new_coeffs = []\n",
    "\n",
    "\n",
    "for coeff in result3.all_coeffs():\n",
    "    new_coeffs.append(\n",
    "        coeff.factor()\n",
    "    )  # .subs(sa2**3, sa2*(1-ca2**2).subs(sa2**2, 1-ca2**2)))\n",
    "\n",
    "result3 = Poly.from_list(new_coeffs, u).as_expr()\n",
    "result3"
   ]
  },
  {
   "cell_type": "code",
   "execution_count": null,
   "metadata": {},
   "outputs": [],
   "source": [
    "# Imports\n",
    "from sympy import I, Poly, conjugate, cos, simplify, sin, sqrt, symbols"
   ]
  },
  {
   "cell_type": "code",
   "execution_count": null,
   "metadata": {},
   "outputs": [],
   "source": [
    "trigsimp(\n",
    "    (8 * cos(alpha / 2) ** 3 * sin(alpha / 2) + sin(alpha / 2) ** 4)\n",
    "    / (cos(alpha / 2) ** 4 - 8 * cos(alpha / 2) * sin(alpha / 2) ** 3)\n",
    ")"
   ]
  },
  {
   "cell_type": "code",
   "execution_count": null,
   "metadata": {},
   "outputs": [],
   "source": [
    "simplify(\n",
    "    (4 * sin(alpha) * (1 + cos(alpha)) / 2 + ((1 - cos(alpha)) / 2) ** 2)\n",
    "    / ((((1 + cos(alpha)) / 2) ** 2) - 4 * sin(alpha) * ((1 - cos(alpha)) / 2) ** 2)\n",
    ")"
   ]
  },
  {
   "cell_type": "code",
   "execution_count": null,
   "metadata": {},
   "outputs": [],
   "source": [
    "from sympy import solve\n",
    "\n",
    "solve(_ - 1, alpha)"
   ]
  },
  {
   "cell_type": "code",
   "execution_count": null,
   "metadata": {},
   "outputs": [],
   "source": [
    "solve(alpha**4 + 8 * alpha**3 + 8 * alpha - 1, alpha)"
   ]
  },
  {
   "cell_type": "code",
   "execution_count": null,
   "metadata": {},
   "outputs": [],
   "source": [
    "[x.evalf() for x in _]"
   ]
  },
  {
   "cell_type": "code",
   "execution_count": null,
   "metadata": {},
   "outputs": [],
   "source": [
    "trigsimp(\n",
    "    -4 * cos(alpha / 2) ** 3 * sin(alpha / 2)\n",
    "    - 24 * cos(alpha / 2) ** 2 * sin(alpha / 2) ** 2\n",
    "    + 8 * sin(alpha / 2) ** 4\n",
    ")\n",
    "trigsimp(_)"
   ]
  },
  {
   "cell_type": "code",
   "execution_count": null,
   "metadata": {},
   "outputs": [],
   "source": [
    "trigsimp(cos(alpha / 2) ** 3 - 8 * sin(alpha / 2) ** 3)"
   ]
  },
  {
   "cell_type": "code",
   "execution_count": null,
   "metadata": {},
   "outputs": [],
   "source": [
    "result = Poly(result, u)\n",
    "\n",
    "\n",
    "new_coeffs = []\n",
    "\n",
    "\n",
    "for coeff in result.all_coeffs():\n",
    "    new_coeffs.append(expand_trig(coeff).factor())\n",
    "\n",
    "result = Poly.from_list(new_coeffs, u).as_expr()\n",
    "result"
   ]
  },
  {
   "cell_type": "code",
   "execution_count": null,
   "metadata": {},
   "outputs": [],
   "source": []
  }
 ],
 "metadata": {
  "kernelspec": {
   "display_name": ".venv",
   "language": "python",
   "name": "python3"
  },
  "language_info": {
   "codemirror_mode": {
    "name": "ipython",
    "version": 3
   },
   "file_extension": ".py",
   "mimetype": "text/x-python",
   "name": "python",
   "nbconvert_exporter": "python",
   "pygments_lexer": "ipython3",
   "version": "3.11.6"
  }
 },
 "nbformat": 4,
 "nbformat_minor": 2
}
