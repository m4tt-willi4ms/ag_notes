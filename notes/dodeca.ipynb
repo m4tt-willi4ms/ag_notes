{
 "cells": [
  {
   "cell_type": "markdown",
   "metadata": {},
   "source": [
    "# The Dodecahedron\n",
    "\n",
    "This section needn't be excessively long, because the dodecahedron is dual to the icosahedron upon exchanging edge midpoints and vertices. As such, the polynomial invariant for the vertices of a dodecahedron is\n",
    "\n",
    "$$\n",
    "\n",
    "H(u,v) =u^{20} - 228\\left(u^{15}v^5 - u^5v^{15}\\right)+494\\,u^{10}v^{10}+v^{20} \\,,\n",
    "\n",
    "$$\n",
    "\n",
    "as before. Similary, the polynomial invariants for the dodecahedron's 12 face centers and 30 edge midpoints are $f(u, v)$, $T(u,v)$, respectively."
   ]
  }
 ],
 "metadata": {
  "kernelspec": {
   "display_name": ".venv",
   "language": "python",
   "name": "python3"
  },
  "language_info": {
   "codemirror_mode": {
    "name": "ipython",
    "version": 3
   },
   "file_extension": ".py",
   "mimetype": "text/x-python",
   "name": "python",
   "nbconvert_exporter": "python",
   "pygments_lexer": "ipython3",
   "version": "3.11.6"
  }
 },
 "nbformat": 4,
 "nbformat_minor": 2
}
