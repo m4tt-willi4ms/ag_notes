{
 "cells": [
  {
   "cell_type": "code",
   "execution_count": 5,
   "metadata": {},
   "outputs": [],
   "source": [
    "from sympy import symbols"
   ]
  },
  {
   "cell_type": "code",
   "execution_count": 51,
   "metadata": {},
   "outputs": [],
   "source": [
    "X, A, B, C, Y, e, u, v = symbols(\"X A B C Y e u v\")\n",
    "J, K, L, M, N, O = symbols(\"J K L M N O\")"
   ]
  },
  {
   "cell_type": "code",
   "execution_count": null,
   "metadata": {},
   "outputs": [],
   "source": [
    "from sympy import Poly\n",
    "\n",
    "expr2 = X**5 + J * X**4 + K * X**3 + L * X**2 + M * X + N\n",
    "# expr2 = expr2.subs(X, X + u**6 - 2 * u * v**5)\n",
    "expr3 = Poly(expr2.subs(X, X - B), X).as_expr()\n",
    "expr3"
   ]
  },
  {
   "cell_type": "code",
   "execution_count": null,
   "metadata": {},
   "outputs": [],
   "source": [
    "def square_poly(expr, X):\n",
    "    pol = Poly(expr, X)\n",
    "    deg = pol.degree()\n",
    "    print(deg)\n",
    "    even_coeffs = []\n",
    "    odd_coeffs = []\n",
    "    coeffs = pol.all_coeffs()\n",
    "    if deg % 2 == 0:\n",
    "        even_coeffs = coeffs[::2]\n",
    "        odd_coeffs = coeffs[1:][::2]\n",
    "    else:\n",
    "        even_coeffs = coeffs[1:][::2]\n",
    "        odd_coeffs = coeffs[::2]\n",
    "    print(even_coeffs)\n",
    "    print(odd_coeffs)\n",
    "    Y, A = symbols(\"Y A\")\n",
    "    even_poly = Poly.from_list(even_coeffs, Y)\n",
    "    odd_poly = Poly.from_list(odd_coeffs, Y)\n",
    "    print(even_poly)\n",
    "    print(odd_poly)\n",
    "    new_poly = Poly(Y * (odd_poly.as_expr()) ** 2 - (even_poly.as_expr()) ** 2, Y)\n",
    "    return Poly(new_poly.as_expr().subs(Y, Y - A), Y).as_expr()\n",
    "\n",
    "\n",
    "result = square_poly(expr3, X)\n",
    "result"
   ]
  },
  {
   "cell_type": "code",
   "execution_count": null,
   "metadata": {},
   "outputs": [],
   "source": [
    "B2sol = solve(Poly(result, Y).all_coeffs()[1].subs(B**2, C), C)[0]"
   ]
  },
  {
   "cell_type": "code",
   "execution_count": null,
   "metadata": {},
   "outputs": [],
   "source": [
    "from sympy import solve\n",
    "\n",
    "Asol = solve(Poly(result, Y).all_coeffs()[1], A)[0]\n",
    "result2 = Poly(\n",
    "    result.subs(B**2, B2sol).subs(B**3, B * B2sol).subs(B**2, B2sol), Y\n",
    ").as_expr()\n",
    "result2"
   ]
  },
  {
   "cell_type": "code",
   "execution_count": null,
   "metadata": {},
   "outputs": [],
   "source": [
    "C"
   ]
  },
  {
   "cell_type": "code",
   "execution_count": null,
   "metadata": {},
   "outputs": [],
   "source": [
    "Poly(result2, Y).all_coeffs()[3].factor()"
   ]
  },
  {
   "cell_type": "code",
   "execution_count": null,
   "metadata": {},
   "outputs": [],
   "source": [
    "result.subs(\n",
    "    A,\n",
    ")"
   ]
  }
 ],
 "metadata": {
  "kernelspec": {
   "display_name": ".venv",
   "language": "python",
   "name": "python3"
  },
  "language_info": {
   "codemirror_mode": {
    "name": "ipython",
    "version": 3
   },
   "file_extension": ".py",
   "mimetype": "text/x-python",
   "name": "python",
   "nbconvert_exporter": "python",
   "pygments_lexer": "ipython3",
   "version": "3.11.6"
  }
 },
 "nbformat": 4,
 "nbformat_minor": 2
}
