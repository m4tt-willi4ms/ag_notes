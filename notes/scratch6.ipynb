{
 "cells": [
  {
   "cell_type": "code",
   "execution_count": 1,
   "metadata": {},
   "outputs": [],
   "source": [
    "from sympy import solve, symbols"
   ]
  },
  {
   "cell_type": "code",
   "execution_count": 2,
   "metadata": {},
   "outputs": [],
   "source": [
    "X, A, B, C, Y, e, u, v = symbols(\"X A B C Y e u v\")\n",
    "J, K, L, M, N, O = symbols(\"J K L M N O\")"
   ]
  },
  {
   "cell_type": "code",
   "execution_count": null,
   "metadata": {},
   "outputs": [
    {
     "data": {
      "text/latex": [
       "$\\displaystyle - B^{5} + B^{4} J - B^{3} K + B^{2} L - B M + N + X^{5} + X^{4} \\left(- 5 B + J\\right) + X^{3} \\left(10 B^{2} - 4 B J + K\\right) + X^{2} \\left(- 10 B^{3} + 6 B^{2} J - 3 B K + L\\right) + X \\left(5 B^{4} - 4 B^{3} J + 3 B^{2} K - 2 B L + M\\right)$"
      ],
      "text/plain": [
       "-B**5 + B**4*J - B**3*K + B**2*L - B*M + N + X**5 + X**4*(-5*B + J) + X**3*(10*B**2 - 4*B*J + K) + X**2*(-10*B**3 + 6*B**2*J - 3*B*K + L) + X*(5*B**4 - 4*B**3*J + 3*B**2*K - 2*B*L + M)"
      ]
     },
     "execution_count": 3,
     "metadata": {},
     "output_type": "execute_result"
    }
   ],
   "source": [
    "from sympy import Poly\n",
    "\n",
    "expr2 = X**5 + J * X**4 + K * X**3 + L * X**2 + M * X + N\n",
    "# expr2 = expr2.subs(X, X + u**6 - 2 * u * v**5)\n",
    "expr3 = Poly(expr2.subs(X, X - B), X).as_expr()\n",
    "expr3"
   ]
  },
  {
   "cell_type": "code",
   "execution_count": 4,
   "metadata": {},
   "outputs": [
    {
     "name": "stdout",
     "output_type": "stream",
     "text": [
      "5\n",
      "[-5*B + J, -10*B**3 + 6*B**2*J - 3*B*K + L, -B**5 + B**4*J - B**3*K + B**2*L - B*M + N]\n",
      "[1, 10*B**2 - 4*B*J + K, 5*B**4 - 4*B**3*J + 3*B**2*K - 2*B*L + M]\n",
      "Poly((-5*B + J)*Y**2 + (-10*B**3 + 6*B**2*J - 3*B*K + L)*Y - B**5 + B**4*J - B**3*K + B**2*L - B*M + N, Y, domain='ZZ[B,J,K,L,M,N]')\n",
      "Poly(Y**2 + (10*B**2 - 4*B*J + K)*Y + 5*B**4 - 4*B**3*J + 3*B**2*K - 2*B*L + M, Y, domain='ZZ[B,J,K,L,M]')\n"
     ]
    },
    {
     "data": {
      "text/latex": [
       "$\\displaystyle - A^{5} - 5 A^{4} B^{2} + 2 A^{4} B J - A^{4} J^{2} + 2 A^{4} K - 10 A^{3} B^{4} + 8 A^{3} B^{3} J - 4 A^{3} B^{2} J^{2} + 4 A^{3} B^{2} K + 2 A^{3} B J K - 6 A^{3} B L + 2 A^{3} J L - A^{3} K^{2} - 2 A^{3} M - 10 A^{2} B^{6} + 12 A^{2} B^{5} J - 6 A^{2} B^{4} J^{2} + 6 A^{2} B^{3} J K - 10 A^{2} B^{3} L + 2 A^{2} B^{2} J L - 3 A^{2} B^{2} K^{2} + 10 A^{2} B^{2} M - 6 A^{2} B J M + 2 A^{2} B K L + 10 A^{2} B N - 2 A^{2} J N + 2 A^{2} K M - A^{2} L^{2} - 5 A B^{8} + 8 A B^{7} J - 4 A B^{6} J^{2} - 4 A B^{6} K + 6 A B^{5} J K - 2 A B^{5} L - 2 A B^{4} J L - 3 A B^{4} K^{2} + 10 A B^{4} M - 4 A B^{3} J M + 4 A B^{3} K L - 20 A B^{3} N + 12 A B^{2} J N - 2 A B^{2} L^{2} - 6 A B K N + 2 A B L M + 2 A L N - A M^{2} - B^{10} + 2 B^{9} J - B^{8} J^{2} - 2 B^{8} K + 2 B^{7} J K + 2 B^{7} L - 2 B^{6} J L - B^{6} K^{2} - 2 B^{6} M + 2 B^{5} J M + 2 B^{5} K L + 2 B^{5} N - 2 B^{4} J N - 2 B^{4} K M - B^{4} L^{2} + 2 B^{3} K N + 2 B^{3} L M - 2 B^{2} L N - B^{2} M^{2} + 2 B M N - N^{2} + Y^{5} + Y^{4} \\left(- 5 A - 5 B^{2} + 2 B J - J^{2} + 2 K\\right) + Y^{3} \\left(10 A^{2} + 20 A B^{2} - 8 A B J + 4 A J^{2} - 8 A K + 10 B^{4} - 8 B^{3} J + 4 B^{2} J^{2} - 4 B^{2} K - 2 B J K + 6 B L - 2 J L + K^{2} + 2 M\\right) + Y^{2} \\left(- 10 A^{3} - 30 A^{2} B^{2} + 12 A^{2} B J - 6 A^{2} J^{2} + 12 A^{2} K - 30 A B^{4} + 24 A B^{3} J - 12 A B^{2} J^{2} + 12 A B^{2} K + 6 A B J K - 18 A B L + 6 A J L - 3 A K^{2} - 6 A M - 10 B^{6} + 12 B^{5} J - 6 B^{4} J^{2} + 6 B^{3} J K - 10 B^{3} L + 2 B^{2} J L - 3 B^{2} K^{2} + 10 B^{2} M - 6 B J M + 2 B K L + 10 B N - 2 J N + 2 K M - L^{2}\\right) + Y \\left(5 A^{4} + 20 A^{3} B^{2} - 8 A^{3} B J + 4 A^{3} J^{2} - 8 A^{3} K + 30 A^{2} B^{4} - 24 A^{2} B^{3} J + 12 A^{2} B^{2} J^{2} - 12 A^{2} B^{2} K - 6 A^{2} B J K + 18 A^{2} B L - 6 A^{2} J L + 3 A^{2} K^{2} + 6 A^{2} M + 20 A B^{6} - 24 A B^{5} J + 12 A B^{4} J^{2} - 12 A B^{3} J K + 20 A B^{3} L - 4 A B^{2} J L + 6 A B^{2} K^{2} - 20 A B^{2} M + 12 A B J M - 4 A B K L - 20 A B N + 4 A J N - 4 A K M + 2 A L^{2} + 5 B^{8} - 8 B^{7} J + 4 B^{6} J^{2} + 4 B^{6} K - 6 B^{5} J K + 2 B^{5} L + 2 B^{4} J L + 3 B^{4} K^{2} - 10 B^{4} M + 4 B^{3} J M - 4 B^{3} K L + 20 B^{3} N - 12 B^{2} J N + 2 B^{2} L^{2} + 6 B K N - 2 B L M - 2 L N + M^{2}\\right)$"
      ],
      "text/plain": [
       "-A**5 - 5*A**4*B**2 + 2*A**4*B*J - A**4*J**2 + 2*A**4*K - 10*A**3*B**4 + 8*A**3*B**3*J - 4*A**3*B**2*J**2 + 4*A**3*B**2*K + 2*A**3*B*J*K - 6*A**3*B*L + 2*A**3*J*L - A**3*K**2 - 2*A**3*M - 10*A**2*B**6 + 12*A**2*B**5*J - 6*A**2*B**4*J**2 + 6*A**2*B**3*J*K - 10*A**2*B**3*L + 2*A**2*B**2*J*L - 3*A**2*B**2*K**2 + 10*A**2*B**2*M - 6*A**2*B*J*M + 2*A**2*B*K*L + 10*A**2*B*N - 2*A**2*J*N + 2*A**2*K*M - A**2*L**2 - 5*A*B**8 + 8*A*B**7*J - 4*A*B**6*J**2 - 4*A*B**6*K + 6*A*B**5*J*K - 2*A*B**5*L - 2*A*B**4*J*L - 3*A*B**4*K**2 + 10*A*B**4*M - 4*A*B**3*J*M + 4*A*B**3*K*L - 20*A*B**3*N + 12*A*B**2*J*N - 2*A*B**2*L**2 - 6*A*B*K*N + 2*A*B*L*M + 2*A*L*N - A*M**2 - B**10 + 2*B**9*J - B**8*J**2 - 2*B**8*K + 2*B**7*J*K + 2*B**7*L - 2*B**6*J*L - B**6*K**2 - 2*B**6*M + 2*B**5*J*M + 2*B**5*K*L + 2*B**5*N - 2*B**4*J*N - 2*B**4*K*M - B**4*L**2 + 2*B**3*K*N + 2*B**3*L*M - 2*B**2*L*N - B**2*M**2 + 2*B*M*N - N**2 + Y**5 + Y**4*(-5*A - 5*B**2 + 2*B*J - J**2 + 2*K) + Y**3*(10*A**2 + 20*A*B**2 - 8*A*B*J + 4*A*J**2 - 8*A*K + 10*B**4 - 8*B**3*J + 4*B**2*J**2 - 4*B**2*K - 2*B*J*K + 6*B*L - 2*J*L + K**2 + 2*M) + Y**2*(-10*A**3 - 30*A**2*B**2 + 12*A**2*B*J - 6*A**2*J**2 + 12*A**2*K - 30*A*B**4 + 24*A*B**3*J - 12*A*B**2*J**2 + 12*A*B**2*K + 6*A*B*J*K - 18*A*B*L + 6*A*J*L - 3*A*K**2 - 6*A*M - 10*B**6 + 12*B**5*J - 6*B**4*J**2 + 6*B**3*J*K - 10*B**3*L + 2*B**2*J*L - 3*B**2*K**2 + 10*B**2*M - 6*B*J*M + 2*B*K*L + 10*B*N - 2*J*N + 2*K*M - L**2) + Y*(5*A**4 + 20*A**3*B**2 - 8*A**3*B*J + 4*A**3*J**2 - 8*A**3*K + 30*A**2*B**4 - 24*A**2*B**3*J + 12*A**2*B**2*J**2 - 12*A**2*B**2*K - 6*A**2*B*J*K + 18*A**2*B*L - 6*A**2*J*L + 3*A**2*K**2 + 6*A**2*M + 20*A*B**6 - 24*A*B**5*J + 12*A*B**4*J**2 - 12*A*B**3*J*K + 20*A*B**3*L - 4*A*B**2*J*L + 6*A*B**2*K**2 - 20*A*B**2*M + 12*A*B*J*M - 4*A*B*K*L - 20*A*B*N + 4*A*J*N - 4*A*K*M + 2*A*L**2 + 5*B**8 - 8*B**7*J + 4*B**6*J**2 + 4*B**6*K - 6*B**5*J*K + 2*B**5*L + 2*B**4*J*L + 3*B**4*K**2 - 10*B**4*M + 4*B**3*J*M - 4*B**3*K*L + 20*B**3*N - 12*B**2*J*N + 2*B**2*L**2 + 6*B*K*N - 2*B*L*M - 2*L*N + M**2)"
      ]
     },
     "execution_count": 4,
     "metadata": {},
     "output_type": "execute_result"
    }
   ],
   "source": [
    "def square_poly(expr, X):\n",
    "    pol = Poly(expr, X)\n",
    "    deg = pol.degree()\n",
    "    print(deg)\n",
    "    even_coeffs = []\n",
    "    odd_coeffs = []\n",
    "    coeffs = pol.all_coeffs()\n",
    "    if deg % 2 == 0:\n",
    "        even_coeffs = coeffs[::2]\n",
    "        odd_coeffs = coeffs[1:][::2]\n",
    "    else:\n",
    "        even_coeffs = coeffs[1:][::2]\n",
    "        odd_coeffs = coeffs[::2]\n",
    "    print(even_coeffs)\n",
    "    print(odd_coeffs)\n",
    "    Y, A = symbols(\"Y A\")\n",
    "    even_poly = Poly.from_list(even_coeffs, Y)\n",
    "    odd_poly = Poly.from_list(odd_coeffs, Y)\n",
    "    print(even_poly)\n",
    "    print(odd_poly)\n",
    "    new_poly = Poly(Y * (odd_poly.as_expr()) ** 2 - (even_poly.as_expr()) ** 2, Y)\n",
    "    return Poly(new_poly.as_expr().subs(Y, Y - A), Y).as_expr()\n",
    "\n",
    "\n",
    "result = square_poly(expr3, X)\n",
    "result"
   ]
  },
  {
   "cell_type": "code",
   "execution_count": 5,
   "metadata": {},
   "outputs": [],
   "source": [
    "B2sol = solve(Poly(result, Y).all_coeffs()[1].subs(B**2, C), C)[0]"
   ]
  },
  {
   "cell_type": "code",
   "execution_count": 6,
   "metadata": {},
   "outputs": [
    {
     "data": {
      "text/latex": [
       "$\\displaystyle - 6 A^{4} B J - 2 A^{3} B^{3} J + \\frac{16 A^{3} B^{2} J^{2}}{5} - \\frac{8 A^{3} B J^{3}}{5} - \\frac{4 A^{3} B J K}{5} + 4 A^{3} B L + 12 A^{2} B^{5} J + \\frac{12 A^{2} B^{4} J^{2}}{5} - \\frac{6 A^{2} B^{3} J^{3}}{5} + \\frac{12 A^{2} B^{3} J K}{5} + \\frac{12 A^{2} B^{2} J^{2} K}{5} - 4 A^{2} B^{2} J L - \\frac{6 A^{2} B J^{3} K}{5} + 2 A^{2} B J^{2} L + \\frac{12 A^{2} B J K^{2}}{5} - \\frac{42 A^{2} B J M}{5} - 6 A^{2} B K L + 30 A^{2} B N + \\frac{16 A^{2} J^{2} M}{5} - 16 A^{2} J N - \\frac{32 A^{2} K M}{5} + 8 A B^{7} J - \\frac{24 A B^{5} J^{3}}{25} + 6 A B^{5} J K - 2 A B^{5} L + \\frac{24 A B^{4} J^{4}}{25} - \\frac{48 A B^{4} J^{2} K}{25} - \\frac{6 A B^{3} J^{5}}{25} + \\frac{152 A B^{3} J^{3} K}{125} - \\frac{24 A B^{3} J K^{2}}{25} - \\frac{48 A B^{2} J^{4} K}{125} + \\frac{16 A B^{2} J^{3} L}{25} + \\frac{96 A B^{2} J^{2} K^{2}}{125} + \\frac{24 A B^{2} J^{2} M}{25} + \\frac{8 A B^{2} J K L}{5} - 8 A B^{2} J N + \\frac{24 A B J^{5} K}{125} - \\frac{16 A B J^{4} L}{25} - \\frac{96 A B J^{3} K^{2}}{125} - \\frac{44 A B J^{3} M}{25} + \\frac{12 A B J^{2} K L}{25} + \\frac{52 A B J^{2} N}{5} + \\frac{96 A B J K^{3}}{125} + \\frac{128 A B J K M}{25} + \\frac{8 A B K^{2} L}{5} - 16 A B K N - \\frac{4 A J^{6} K}{125} + \\frac{4 A J^{5} L}{25} + \\frac{24 A J^{4} K^{2}}{125} + \\frac{16 A J^{4} M}{25} - \\frac{16 A J^{3} K L}{25} - \\frac{16 A J^{3} N}{5} - \\frac{48 A J^{2} K^{3}}{125} - \\frac{84 A J^{2} K M}{25} + \\frac{16 A J K^{2} L}{25} + \\frac{32 A J K N}{5} + \\frac{32 A K^{4}}{125} + \\frac{104 A K^{2} M}{25} + 4 A L N + 2 B^{7} J K + 2 B^{7} L + \\frac{16 B^{6} J^{4}}{125} - \\frac{632 B^{5} J^{5}}{3125} + \\frac{48 B^{5} J^{3} K}{125} + 2 B^{5} J M + 2 B^{5} K L + 2 B^{5} N + \\frac{12 B^{4} J^{6}}{125} - \\frac{304 B^{4} J^{4} K}{625} + \\frac{48 B^{4} J^{2} K^{2}}{125} + \\frac{6 B^{3} J^{7}}{625} + \\frac{124 B^{3} J^{5} K}{625} - \\frac{16 B^{3} J^{4} L}{125} - \\frac{352 B^{3} J^{3} K^{2}}{625} - \\frac{16 B^{3} J^{3} M}{125} + \\frac{16 B^{3} J K^{3}}{125} - \\frac{16 B^{2} J^{8}}{625} + \\frac{24 B^{2} J^{5} L}{125} + \\frac{252 B^{2} J^{4} K^{2}}{625} + \\frac{24 B^{2} J^{4} M}{125} - \\frac{48 B^{2} J^{3} K L}{125} - \\frac{8 B^{2} J^{3} N}{25} - \\frac{376 B^{2} J^{2} K^{3}}{625} - \\frac{88 B^{2} J^{2} K M}{125} - \\frac{4 B^{2} J^{2} L^{2}}{25} + \\frac{4 B^{2} J K N}{5} + \\frac{4 B^{2} J L M}{5} + \\frac{6 B J^{9}}{625} - \\frac{16 B J^{7} K}{625} - \\frac{12 B J^{6} L}{125} - \\frac{78 B J^{5} K^{2}}{625} - \\frac{12 B J^{5} M}{125} + \\frac{48 B J^{4} K L}{125} + \\frac{8 B J^{4} N}{25} + \\frac{312 B J^{3} K^{3}}{625} + \\frac{88 B J^{3} K M}{125} + \\frac{4 B J^{3} L^{2}}{25} - \\frac{48 B J^{2} K^{2} L}{125} - \\frac{26 B J^{2} K N}{25} - \\frac{2 B J^{2} L M}{5} - \\frac{56 B J K^{4}}{125} - \\frac{128 B J K^{2} M}{125} - \\frac{8 B J K L^{2}}{25} - \\frac{4 B J L N}{5} - \\frac{2 B J M^{2}}{5} + \\frac{4 B K^{2} N}{5} + \\frac{4 B K L M}{5} + 2 B M N - \\frac{4 J^{10}}{3125} + \\frac{4 J^{8} K}{625} + \\frac{2 J^{7} L}{125} + \\frac{J^{6} K^{2}}{125} + \\frac{2 J^{6} M}{125} - \\frac{12 J^{5} K L}{125} - \\frac{2 J^{5} N}{25} - \\frac{62 J^{4} K^{3}}{625} - \\frac{22 J^{4} K M}{125} - \\frac{J^{4} L^{2}}{25} + \\frac{24 J^{3} K^{2} L}{125} + \\frac{8 J^{3} K N}{25} + \\frac{124 J^{2} K^{4}}{625} + \\frac{64 J^{2} K^{2} M}{125} + \\frac{4 J^{2} K L^{2}}{25} + \\frac{2 J^{2} L N}{5} + \\frac{J^{2} M^{2}}{5} - \\frac{16 J K^{3} L}{125} - \\frac{8 J K^{2} N}{25} - \\frac{392 K^{5}}{3125} - \\frac{56 K^{3} M}{125} - \\frac{4 K^{2} L^{2}}{25} - \\frac{4 K L N}{5} - \\frac{2 K M^{2}}{5} - N^{2} + Y^{5} + Y^{3} \\left(- 4 A K - \\frac{8 B^{2} J^{2}}{5} + \\frac{8 B J^{3}}{5} - \\frac{18 B J K}{5} + 6 B L - \\frac{2 J^{4}}{5} + \\frac{4 J^{2} K}{5} - 2 J L + K^{2} + 2 M\\right) + Y^{2} \\left(- 12 A^{2} B J + \\frac{48 A B^{2} J^{2}}{5} - \\frac{24 A B J^{3}}{5} + \\frac{72 A B J K}{5} - 8 A B L - \\frac{12 A J^{2} K}{5} + 4 A J L + \\frac{24 A K^{2}}{5} - 16 A M + 12 B^{5} J - \\frac{16 B^{3} J^{3}}{25} + \\frac{12 B^{2} J^{2} K}{25} - 4 B^{2} J L + \\frac{12 B J^{5}}{25} - \\frac{6 B J^{3} K}{5} + \\frac{14 B J^{2} L}{5} - \\frac{18 B J K^{2}}{25} - 2 B J M - 2 B K L + 10 B N - \\frac{4 J^{6}}{25} + \\frac{12 J^{4} K}{25} - \\frac{2 J^{3} L}{5} + \\frac{3 J^{2} K^{2}}{5} - 2 J^{2} M + \\frac{4 J K L}{5} - 2 J N - \\frac{46 K^{3}}{25} + 6 K M - L^{2}\\right) + Y \\left(16 A^{3} B J - \\frac{48 A^{2} B^{2} J^{2}}{5} + \\frac{24 A^{2} B J^{3}}{5} - \\frac{18 A^{2} B J K}{5} - 2 A^{2} B L + 16 A^{2} M - 24 A B^{5} J - \\frac{168 A B^{2} J^{2} K}{25} + 8 A B^{2} J L + \\frac{108 A B J^{3} K}{25} - \\frac{36 A B J^{2} L}{5} - \\frac{216 A B J K^{2}}{25} + 8 A B J M + 8 A B K L - 40 A B N - \\frac{12 A J^{4} K}{25} + \\frac{8 A J^{3} L}{5} + \\frac{48 A J^{2} K^{2}}{25} - \\frac{16 A J K L}{5} + 16 A J N - \\frac{48 A K^{3}}{25} - 4 A K M - 8 B^{7} J - 6 B^{5} J K + 2 B^{5} L + \\frac{16 B^{4} J^{4}}{125} + \\frac{96 B^{3} J^{3} K}{125} - \\frac{24 B^{2} J^{6}}{125} - \\frac{48 B^{2} J^{4} K}{125} + \\frac{8 B^{2} J^{3} L}{25} + \\frac{252 B^{2} J^{2} K^{2}}{125} - \\frac{8 B^{2} J K L}{5} + 8 B^{2} J N + \\frac{16 B J^{7}}{125} - \\frac{24 B J^{5} K}{125} - \\frac{8 B J^{4} L}{25} - \\frac{156 B J^{3} K^{2}}{125} + \\frac{4 B J^{3} M}{5} + \\frac{36 B J^{2} K L}{25} - \\frac{44 B J^{2} N}{5} + \\frac{56 B J K^{3}}{25} - \\frac{8 B J K M}{5} + \\frac{4 B J L^{2}}{5} - \\frac{8 B K^{2} L}{5} + 14 B K N - 2 B L M - \\frac{3 J^{8}}{125} + \\frac{12 J^{6} K}{125} + \\frac{2 J^{5} L}{25} + \\frac{3 J^{4} K^{2}}{25} - \\frac{2 J^{4} M}{5} - \\frac{8 J^{3} K L}{25} + \\frac{12 J^{3} N}{5} - \\frac{108 J^{2} K^{3}}{125} + \\frac{8 J^{2} K M}{5} - \\frac{2 J^{2} L^{2}}{5} + \\frac{8 J K^{2} L}{25} - \\frac{24 J K N}{5} + \\frac{108 K^{4}}{125} - \\frac{8 K^{2} M}{5} + \\frac{4 K L^{2}}{5} - 2 L N + M^{2}\\right)$"
      ],
      "text/plain": [
       "-6*A**4*B*J - 2*A**3*B**3*J + 16*A**3*B**2*J**2/5 - 8*A**3*B*J**3/5 - 4*A**3*B*J*K/5 + 4*A**3*B*L + 12*A**2*B**5*J + 12*A**2*B**4*J**2/5 - 6*A**2*B**3*J**3/5 + 12*A**2*B**3*J*K/5 + 12*A**2*B**2*J**2*K/5 - 4*A**2*B**2*J*L - 6*A**2*B*J**3*K/5 + 2*A**2*B*J**2*L + 12*A**2*B*J*K**2/5 - 42*A**2*B*J*M/5 - 6*A**2*B*K*L + 30*A**2*B*N + 16*A**2*J**2*M/5 - 16*A**2*J*N - 32*A**2*K*M/5 + 8*A*B**7*J - 24*A*B**5*J**3/25 + 6*A*B**5*J*K - 2*A*B**5*L + 24*A*B**4*J**4/25 - 48*A*B**4*J**2*K/25 - 6*A*B**3*J**5/25 + 152*A*B**3*J**3*K/125 - 24*A*B**3*J*K**2/25 - 48*A*B**2*J**4*K/125 + 16*A*B**2*J**3*L/25 + 96*A*B**2*J**2*K**2/125 + 24*A*B**2*J**2*M/25 + 8*A*B**2*J*K*L/5 - 8*A*B**2*J*N + 24*A*B*J**5*K/125 - 16*A*B*J**4*L/25 - 96*A*B*J**3*K**2/125 - 44*A*B*J**3*M/25 + 12*A*B*J**2*K*L/25 + 52*A*B*J**2*N/5 + 96*A*B*J*K**3/125 + 128*A*B*J*K*M/25 + 8*A*B*K**2*L/5 - 16*A*B*K*N - 4*A*J**6*K/125 + 4*A*J**5*L/25 + 24*A*J**4*K**2/125 + 16*A*J**4*M/25 - 16*A*J**3*K*L/25 - 16*A*J**3*N/5 - 48*A*J**2*K**3/125 - 84*A*J**2*K*M/25 + 16*A*J*K**2*L/25 + 32*A*J*K*N/5 + 32*A*K**4/125 + 104*A*K**2*M/25 + 4*A*L*N + 2*B**7*J*K + 2*B**7*L + 16*B**6*J**4/125 - 632*B**5*J**5/3125 + 48*B**5*J**3*K/125 + 2*B**5*J*M + 2*B**5*K*L + 2*B**5*N + 12*B**4*J**6/125 - 304*B**4*J**4*K/625 + 48*B**4*J**2*K**2/125 + 6*B**3*J**7/625 + 124*B**3*J**5*K/625 - 16*B**3*J**4*L/125 - 352*B**3*J**3*K**2/625 - 16*B**3*J**3*M/125 + 16*B**3*J*K**3/125 - 16*B**2*J**8/625 + 24*B**2*J**5*L/125 + 252*B**2*J**4*K**2/625 + 24*B**2*J**4*M/125 - 48*B**2*J**3*K*L/125 - 8*B**2*J**3*N/25 - 376*B**2*J**2*K**3/625 - 88*B**2*J**2*K*M/125 - 4*B**2*J**2*L**2/25 + 4*B**2*J*K*N/5 + 4*B**2*J*L*M/5 + 6*B*J**9/625 - 16*B*J**7*K/625 - 12*B*J**6*L/125 - 78*B*J**5*K**2/625 - 12*B*J**5*M/125 + 48*B*J**4*K*L/125 + 8*B*J**4*N/25 + 312*B*J**3*K**3/625 + 88*B*J**3*K*M/125 + 4*B*J**3*L**2/25 - 48*B*J**2*K**2*L/125 - 26*B*J**2*K*N/25 - 2*B*J**2*L*M/5 - 56*B*J*K**4/125 - 128*B*J*K**2*M/125 - 8*B*J*K*L**2/25 - 4*B*J*L*N/5 - 2*B*J*M**2/5 + 4*B*K**2*N/5 + 4*B*K*L*M/5 + 2*B*M*N - 4*J**10/3125 + 4*J**8*K/625 + 2*J**7*L/125 + J**6*K**2/125 + 2*J**6*M/125 - 12*J**5*K*L/125 - 2*J**5*N/25 - 62*J**4*K**3/625 - 22*J**4*K*M/125 - J**4*L**2/25 + 24*J**3*K**2*L/125 + 8*J**3*K*N/25 + 124*J**2*K**4/625 + 64*J**2*K**2*M/125 + 4*J**2*K*L**2/25 + 2*J**2*L*N/5 + J**2*M**2/5 - 16*J*K**3*L/125 - 8*J*K**2*N/25 - 392*K**5/3125 - 56*K**3*M/125 - 4*K**2*L**2/25 - 4*K*L*N/5 - 2*K*M**2/5 - N**2 + Y**5 + Y**3*(-4*A*K - 8*B**2*J**2/5 + 8*B*J**3/5 - 18*B*J*K/5 + 6*B*L - 2*J**4/5 + 4*J**2*K/5 - 2*J*L + K**2 + 2*M) + Y**2*(-12*A**2*B*J + 48*A*B**2*J**2/5 - 24*A*B*J**3/5 + 72*A*B*J*K/5 - 8*A*B*L - 12*A*J**2*K/5 + 4*A*J*L + 24*A*K**2/5 - 16*A*M + 12*B**5*J - 16*B**3*J**3/25 + 12*B**2*J**2*K/25 - 4*B**2*J*L + 12*B*J**5/25 - 6*B*J**3*K/5 + 14*B*J**2*L/5 - 18*B*J*K**2/25 - 2*B*J*M - 2*B*K*L + 10*B*N - 4*J**6/25 + 12*J**4*K/25 - 2*J**3*L/5 + 3*J**2*K**2/5 - 2*J**2*M + 4*J*K*L/5 - 2*J*N - 46*K**3/25 + 6*K*M - L**2) + Y*(16*A**3*B*J - 48*A**2*B**2*J**2/5 + 24*A**2*B*J**3/5 - 18*A**2*B*J*K/5 - 2*A**2*B*L + 16*A**2*M - 24*A*B**5*J - 168*A*B**2*J**2*K/25 + 8*A*B**2*J*L + 108*A*B*J**3*K/25 - 36*A*B*J**2*L/5 - 216*A*B*J*K**2/25 + 8*A*B*J*M + 8*A*B*K*L - 40*A*B*N - 12*A*J**4*K/25 + 8*A*J**3*L/5 + 48*A*J**2*K**2/25 - 16*A*J*K*L/5 + 16*A*J*N - 48*A*K**3/25 - 4*A*K*M - 8*B**7*J - 6*B**5*J*K + 2*B**5*L + 16*B**4*J**4/125 + 96*B**3*J**3*K/125 - 24*B**2*J**6/125 - 48*B**2*J**4*K/125 + 8*B**2*J**3*L/25 + 252*B**2*J**2*K**2/125 - 8*B**2*J*K*L/5 + 8*B**2*J*N + 16*B*J**7/125 - 24*B*J**5*K/125 - 8*B*J**4*L/25 - 156*B*J**3*K**2/125 + 4*B*J**3*M/5 + 36*B*J**2*K*L/25 - 44*B*J**2*N/5 + 56*B*J*K**3/25 - 8*B*J*K*M/5 + 4*B*J*L**2/5 - 8*B*K**2*L/5 + 14*B*K*N - 2*B*L*M - 3*J**8/125 + 12*J**6*K/125 + 2*J**5*L/25 + 3*J**4*K**2/25 - 2*J**4*M/5 - 8*J**3*K*L/25 + 12*J**3*N/5 - 108*J**2*K**3/125 + 8*J**2*K*M/5 - 2*J**2*L**2/5 + 8*J*K**2*L/25 - 24*J*K*N/5 + 108*K**4/125 - 8*K**2*M/5 + 4*K*L**2/5 - 2*L*N + M**2)"
      ]
     },
     "execution_count": 6,
     "metadata": {},
     "output_type": "execute_result"
    }
   ],
   "source": [
    "from sympy import solve\n",
    "\n",
    "Asol = solve(Poly(result, Y).all_coeffs()[1], A)[0]\n",
    "result2 = Poly(\n",
    "    result.subs(B**2, B2sol).subs(B**3, B * B2sol).subs(B**2, B2sol), Y\n",
    ").as_expr()\n",
    "result2"
   ]
  },
  {
   "cell_type": "code",
   "execution_count": 7,
   "metadata": {},
   "outputs": [
    {
     "data": {
      "text/latex": [
       "$\\displaystyle C$"
      ],
      "text/plain": [
       "C"
      ]
     },
     "execution_count": 7,
     "metadata": {},
     "output_type": "execute_result"
    }
   ],
   "source": [
    "C"
   ]
  },
  {
   "cell_type": "code",
   "execution_count": 8,
   "metadata": {},
   "outputs": [
    {
     "data": {
      "text/latex": [
       "$\\displaystyle - \\frac{300 A^{2} B J - 240 A B^{2} J^{2} + 120 A B J^{3} - 360 A B J K + 200 A B L + 60 A J^{2} K - 100 A J L - 120 A K^{2} + 400 A M - 300 B^{5} J + 16 B^{3} J^{3} - 12 B^{2} J^{2} K + 100 B^{2} J L - 12 B J^{5} + 30 B J^{3} K - 70 B J^{2} L + 18 B J K^{2} + 50 B J M + 50 B K L - 250 B N + 4 J^{6} - 12 J^{4} K + 10 J^{3} L - 15 J^{2} K^{2} + 50 J^{2} M - 20 J K L + 50 J N + 46 K^{3} - 150 K M + 25 L^{2}}{25}$"
      ],
      "text/plain": [
       "-(300*A**2*B*J - 240*A*B**2*J**2 + 120*A*B*J**3 - 360*A*B*J*K + 200*A*B*L + 60*A*J**2*K - 100*A*J*L - 120*A*K**2 + 400*A*M - 300*B**5*J + 16*B**3*J**3 - 12*B**2*J**2*K + 100*B**2*J*L - 12*B*J**5 + 30*B*J**3*K - 70*B*J**2*L + 18*B*J*K**2 + 50*B*J*M + 50*B*K*L - 250*B*N + 4*J**6 - 12*J**4*K + 10*J**3*L - 15*J**2*K**2 + 50*J**2*M - 20*J*K*L + 50*J*N + 46*K**3 - 150*K*M + 25*L**2)/25"
      ]
     },
     "execution_count": 8,
     "metadata": {},
     "output_type": "execute_result"
    }
   ],
   "source": [
    "Poly(result2, Y).all_coeffs()[3].factor()"
   ]
  },
  {
   "cell_type": "code",
   "execution_count": 9,
   "metadata": {},
   "outputs": [
    {
     "ename": "ValueError",
     "evalue": "\nWhen a single argument is passed to subs it should be a dictionary of\nold: new pairs or an iterable of (old, new) tuples.",
     "output_type": "error",
     "traceback": [
      "\u001b[0;31m---------------------------------------------------------------------------\u001b[0m",
      "\u001b[0;31mValueError\u001b[0m                                Traceback (most recent call last)",
      "Cell \u001b[0;32mIn[9], line 1\u001b[0m\n\u001b[0;32m----> 1\u001b[0m \u001b[43mresult\u001b[49m\u001b[38;5;241;43m.\u001b[39;49m\u001b[43msubs\u001b[49m\u001b[43m(\u001b[49m\n\u001b[1;32m      2\u001b[0m \u001b[43m    \u001b[49m\u001b[43mA\u001b[49m\u001b[43m,\u001b[49m\n\u001b[1;32m      3\u001b[0m \u001b[43m)\u001b[49m\n",
      "File \u001b[0;32m~/Documents/coding/ag_notes/.venv/lib/python3.13/site-packages/sympy/core/basic.py:1048\u001b[0m, in \u001b[0;36mBasic.subs\u001b[0;34m(self, *args, **kwargs)\u001b[0m\n\u001b[1;32m   1046\u001b[0m         sequence \u001b[38;5;241m=\u001b[39m sequence\u001b[38;5;241m.\u001b[39mitems()\n\u001b[1;32m   1047\u001b[0m     \u001b[38;5;28;01melif\u001b[39;00m \u001b[38;5;129;01mnot\u001b[39;00m iterable(sequence):\n\u001b[0;32m-> 1048\u001b[0m         \u001b[38;5;28;01mraise\u001b[39;00m \u001b[38;5;167;01mValueError\u001b[39;00m(filldedent(\u001b[38;5;124m\"\"\"\u001b[39m\n\u001b[1;32m   1049\u001b[0m \u001b[38;5;124m           When a single argument is passed to subs\u001b[39m\n\u001b[1;32m   1050\u001b[0m \u001b[38;5;124m           it should be a dictionary of old: new pairs or an iterable\u001b[39m\n\u001b[1;32m   1051\u001b[0m \u001b[38;5;124m           of (old, new) tuples.\u001b[39m\u001b[38;5;124m\"\"\"\u001b[39m))\n\u001b[1;32m   1052\u001b[0m \u001b[38;5;28;01melif\u001b[39;00m \u001b[38;5;28mlen\u001b[39m(args) \u001b[38;5;241m==\u001b[39m \u001b[38;5;241m2\u001b[39m:\n\u001b[1;32m   1053\u001b[0m     sequence \u001b[38;5;241m=\u001b[39m [args]\n",
      "\u001b[0;31mValueError\u001b[0m: \nWhen a single argument is passed to subs it should be a dictionary of\nold: new pairs or an iterable of (old, new) tuples."
     ]
    }
   ],
   "source": [
    "result.subs(\n",
    "    A,\n",
    ")"
   ]
  }
 ],
 "metadata": {
  "kernelspec": {
   "display_name": "ag_notes",
   "language": "python",
   "name": "python3"
  },
  "language_info": {
   "codemirror_mode": {
    "name": "ipython",
    "version": 3
   },
   "file_extension": ".py",
   "mimetype": "text/x-python",
   "name": "python",
   "nbconvert_exporter": "python",
   "pygments_lexer": "ipython3",
   "version": "3.13.3"
  }
 },
 "nbformat": 4,
 "nbformat_minor": 2
}
