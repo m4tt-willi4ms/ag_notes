{
 "cells": [
  {
   "cell_type": "markdown",
   "metadata": {},
   "source": [
    "(icosa)=\n",
    "# Icosahedral Symmetry"
   ]
  },
  {
   "cell_type": "markdown",
   "metadata": {},
   "source": [
    "The icosahedral group is defined as the group of rotations that map the\n",
    "icosahedron into itself. Placing two antipodal vertices along the $\\zeta$ axis\n",
    "at $(0,0,\\pm 1)$, and one next-nearest vertex at\n",
    "${\\bf\\hat n}_n = (-\\sin\\,2\\alpha,0,\\cos\\,2\\alpha)$, we find that there is a two-fold symmetry\n",
    "about the axis ${\\bf \\hat n}_2:=(-\\sin\\alpha,0,\\cos\\alpha)$, in addition to a\n",
    "five-fold symmetry about ${\\bf \\hat n}_5:=(0,0,1)$:\n",
    "\n",
    "$$\n",
    "\n",
    "\\begin{align*}\n",
    "IV:&\\quad {\\mathcal O}({\\bf\\hat n}_2, \\pi)\\\\\n",
    "V:&\\quad {\\mathcal O}({\\bf\\hat n}_5, 2\\pi/5)\n",
    "\\end{align*}\n",
    "\n",
    "$$\n",
    "\n",
    "It can be shown that the above symmetry generators can be combined to reproduce\n",
    "the 60-fold symmetries of the icosahedral group. In particular, the three-fold\n",
    "symmetry of one of the icosahedron faces nearest to the top vertex can be written as \n",
    "\n",
    "$$\n",
    "\n",
    "{\\mathcal O}_C({\\bf\\hat n}_3, 2\\pi/3) = {\\mathcal O}_B({\\bf\\hat n}_5, -2\\pi/5)\\,{\\mathcal O}_A({\\bf\\hat n}_2,\n",
    "\\pi) \\,,\n",
    "\n",
    "$$\n",
    "\n",
    "given an appropriate choice of ${\\bf\\hat n}_2$ (or $\\alpha$) and ${\\bf\\hat n_3}$."
   ]
  },
  {
   "cell_type": "markdown",
   "metadata": {},
   "source": [
    "To determine $\\alpha$, note that the $\\{{\\bf a}, d\\}$ parametrizations of the\n",
    "above transformations are\n",
    "\n",
    "$$\n",
    "\n",
    "\\begin{align*}\n",
    "a_{1A} = -\\sin\\alpha\\,,\\quad a_{3A} = \\cos\\alpha \\,,\\quad a_{2A} = d_A =0 \\\\ \n",
    "a_{1B} = a_{2B} = 0 \\,,\\quad a_{3B} = -\\sin(\\pi/5) \\,,\\quad d_B = \\cos(\\pi/5) \\,.\n",
    "\\end{align*}\n",
    "\n",
    "$$\n",
    "\n",
    "Recalling the composition property of the $d$ parameter, $d_C = -a_{1A} a_{1B} - a_{2A} a_{2B} - a_{3A} a_{3B} + d_A d_B$, we find that \n",
    "\n",
    "$$\n",
    "\n",
    "d_C = \\cos\\alpha\\,\\sin(\\pi/5) = \\cos(\\pi/3) = \\frac12\n",
    "\n",
    "$$\n",
    "\n",
    "for the composed transformation. Therfore, \n",
    "\n",
    "$$\n",
    "\n",
    "\\cos\\alpha = \\frac1{2\\,\\sin(\\pi/5)} \\,.\n",
    "\n",
    "$$"
   ]
  },
  {
   "cell_type": "markdown",
   "metadata": {},
   "source": [
    "Similarly,\n",
    "\n",
    "$$\n",
    "\n",
    "\\begin{align*}\n",
    "a_{1C} &= a_{1A} d_B + a_{1B} d_A - a_{2A} a_{3B} + a_{2B} a_{3A} = -\\sin\\alpha\\,\\cos(\\pi/5)\\\\\n",
    "a_{2C} &= a_{2A} d_B + a_{2B} d_A - a_{3A} a_{1B} + a_{3B} a_{1A} = \\sin\\alpha\\,\\sin(\\pi/5) \\\\\n",
    "a_{3C} &= a_{3A} d_B + a_{3B} d_A - a_{1A} a_{2B} + a_{1B} a_{2A} = \\cos\\alpha\\,\\cos(\\pi/5) \n",
    "\\end{align*}\n",
    "\n",
    "$$\n",
    "\n",
    "which together imply that \n",
    "\n",
    "$$\n",
    "\n",
    "{\\bf\\hat n}_3 = \\frac2{\\sqrt{3}}(-\\sin\\alpha\\,\\cos(\\pi/5), \\sin\\alpha\\,\\sin(\\pi/5), \\cos\\alpha\\,\\cos(\\pi/5)) \\,.\n",
    "\n",
    "$$\n",
    "\n",
    "(${\\bf\\hat n}_3$ is guaranteed to be unit-normalized whenever $\\alpha$ satisfies the condition above.)"
   ]
  },
  {
   "cell_type": "markdown",
   "metadata": {},
   "source": [
    "Moving to stereographically-projected coordinates, the vertex at ${\\bf\\hat n}_n$ is given by\n",
    "\n",
    "$$\n",
    "\n",
    "z_n := -\\frac{\\sin 2\\alpha}{(1-\\cos 2\\alpha)} = -\\cot\\alpha \\,.\n",
    "\n",
    "$$\n",
    "\n",
    "However, we will find that it is more convenient to instead write\n",
    "\n",
    "$$\n",
    "\n",
    "z_n = \\epsilon^2 + \\epsilon^3 \\,,\\quad{\\rm where}\\quad \\epsilon:=e^{2\\pi i /5} \\,,\n",
    "\n",
    "$$\n",
    "\n",
    "since the other four vertices related to $z_n$ under the five-fold symmetry\n",
    "transformation $V$ are given by\n",
    "\n",
    "$$\n",
    "\n",
    "z_k := \\epsilon^k\\,z_n \\,,\\quad k \\in \\{1, 2, 3, 4, 5\\} \\,.\n",
    "\n",
    "$$"
   ]
  },
  {
   "cell_type": "code",
   "execution_count": 1,
   "metadata": {},
   "outputs": [
    {
     "data": {
      "text/latex": [
       "$\\displaystyle 1.61803398874989$"
      ],
      "text/plain": [
       "1.61803398874989"
      ]
     },
     "execution_count": 1,
     "metadata": {},
     "output_type": "execute_result"
    }
   ],
   "source": [
    "from sympy import I, Matrix, N, Poly, Rational, conjugate, cos, diff, oo, pi, simplify, sin, sqrt, symbols, tan, Eq, solve, evalf, acos, csc  # fmt: skip\n",
    "\n",
    "u, v = symbols(\"u v\")\n",
    "(2 * cos(pi / 5)).evalf()"
   ]
  },
  {
   "cell_type": "code",
   "execution_count": 2,
   "metadata": {},
   "outputs": [
    {
     "data": {
      "text/latex": [
       "$\\displaystyle 1.61803398874989$"
      ],
      "text/plain": [
       "1.61803398874989"
      ]
     },
     "execution_count": 2,
     "metadata": {},
     "output_type": "execute_result"
    }
   ],
   "source": [
    "((1 + sqrt(5)) / 2).evalf()"
   ]
  },
  {
   "cell_type": "markdown",
   "metadata": {},
   "source": [
    "The equivalence of the two expressions above follows from the defining relation\n",
    "\n",
    "$$\n",
    "\n",
    "\\epsilon^5 = 1 \\quad\\implies\\quad \\epsilon + \\epsilon^2 + \\epsilon^3 + \\epsilon^4 + \\epsilon^5 = 0 \n",
    "\n",
    "$$\n",
    "\n",
    "which together imply that \n",
    "\n",
    "$$\n",
    "\n",
    "(\\epsilon^4 - \\epsilon)(\\epsilon^2 - \\epsilon^3) = \\epsilon + \\epsilon^4 - \\epsilon^2 - \\epsilon^3 = \\sqrt{5} \n",
    "\n",
    "$$\n",
    "\n",
    "(as can be checked by squaring the second equality above). Noting that $\\sin (\\pi/5) = (\\epsilon^2-\\epsilon^3)/2i$, the previous condition on $\\alpha$ becomes\n",
    "\n",
    "$$\n",
    "\n",
    "\\cos\\alpha = \\frac i{\\epsilon^2-\\epsilon^3} =\\frac i{\\sqrt{5}}(\\epsilon^4 - \\epsilon) \\quad\\implies\\quad \\sin\\alpha = \\frac i{\\sqrt{5}}(\\epsilon^3-\\epsilon^2)\n",
    "\n",
    "$$\n",
    "\n",
    "and so\n",
    "\n",
    "$$\n",
    "\n",
    "z_n = - \\cot\\alpha = \\frac{(\\epsilon - \\epsilon^4)}{(\\epsilon^3-\\epsilon^2)} \\times\\frac{(\\epsilon^2+\\epsilon^3)}{(\\epsilon^2+\\epsilon^3)} = \\epsilon^2+\\epsilon^3 \\,.\n",
    "\n",
    "$$"
   ]
  },
  {
   "cell_type": "markdown",
   "metadata": {},
   "source": [
    "Across from $z_n$ is an antipodal vertex $z_m:= -1/z_n$ given by\n",
    "\n",
    "$$\n",
    "\n",
    "z_m = -\\frac1{(\\epsilon^2+\\epsilon^3)} = \\frac{-1\\times(\\epsilon+\\epsilon^4)}{(\\epsilon^2+\\epsilon^3)(\\epsilon+\\epsilon^4)} = \\epsilon+\\epsilon^4 \\,.\n",
    "\n",
    "$$\n",
    "\n",
    "In addition to the vertices $z_0 = 0$, $z_\\infty = \\infty$ and the five $z_k$ (where $z_5 = z_n$), the remaining five are related to $z_m$ under the five-fold symmetry\n",
    "transformation $V$ as follows:\n",
    "\n",
    "$$\n",
    "\n",
    "z_k := \\epsilon^k\\,z_m \\,,\\quad k \\in \\{6, 7, 8, 9, 10\\} \n",
    "\n",
    "$$\n",
    "\n",
    "(where $z_{10} = z_m$, similarly to $z_n$)."
   ]
  },
  {
   "cell_type": "markdown",
   "metadata": {},
   "source": [
    "Relating $z_n$, $z_m$ back to to their explicit values, we see that \n",
    "\n",
    "$$\n",
    "\n",
    "z_n = - 2\\,\\cos\\pi/5 := -\\phi \\,,\\quad z_m = 2\\,\\cos 2\\pi/5 = \\phi^2- 2\n",
    "\n",
    "$$\n",
    "\n",
    "(where the last equality follows from the cosine half-angle formula). Recalling that $z_n$ and $z_m$ are antipodal, we see that $\\phi$ must satisfy\n",
    "\n",
    "$$\n",
    "\n",
    "z_n\\,z_m = -1 \\quad\\leftrightarrow\\quad (\\phi+1)(\\phi^2 - \\phi -1) =0 \\,.\n",
    "\n",
    "$$"
   ]
  },
  {
   "cell_type": "code",
   "execution_count": 3,
   "metadata": {},
   "outputs": [
    {
     "data": {
      "text/latex": [
       "$\\displaystyle z_{m} z_{n} + 1 = 0$"
      ],
      "text/plain": [
       "Eq(z_m*z_n + 1, 0)"
      ]
     },
     "execution_count": 3,
     "metadata": {},
     "output_type": "execute_result"
    }
   ],
   "source": [
    "# Check of the above\n",
    "z_n, z_m, phi = symbols(\"z_n z_m phi\")\n",
    "\n",
    "num = z_n * z_m + 1\n",
    "Eq(num, 0)"
   ]
  },
  {
   "cell_type": "code",
   "execution_count": 4,
   "metadata": {},
   "outputs": [
    {
     "data": {
      "text/plain": [
       "[-1, 1/2 - sqrt(5)/2, 1/2 + sqrt(5)/2]"
      ]
     },
     "execution_count": 4,
     "metadata": {},
     "output_type": "execute_result"
    }
   ],
   "source": [
    "solve(num.subs(z_n, -phi).subs(z_m, phi**2 - 2), phi)"
   ]
  },
  {
   "cell_type": "code",
   "execution_count": 5,
   "metadata": {},
   "outputs": [
    {
     "data": {
      "text/plain": [
       "[-1.00000000000000, -0.618033988749895, 1.61803398874989]"
      ]
     },
     "execution_count": 5,
     "metadata": {},
     "output_type": "execute_result"
    }
   ],
   "source": [
    "[x.evalf() for x in _]"
   ]
  },
  {
   "cell_type": "markdown",
   "metadata": {},
   "source": [
    "Therefore, $\\phi$ is the __golden ratio__: $\\phi = (1+\\sqrt{5})/2$ (since $\\phi$, by definition, is positive). Additionally, since the $\\epsilon$'s satisfy $\\sum_{k=1}^5\\epsilon^k = 0$, we find\n",
    "\n",
    "$$\n",
    "\n",
    "z_n + z_m + 1 =0 \\,,\\quad z_n^2+z_n-1=0\\,,\\quad z_m^2+z_m-1=0\\,,\n",
    "\n",
    "$$\n",
    "\n",
    "which is consistent with the above."
   ]
  },
  {
   "cell_type": "markdown",
   "metadata": {},
   "source": [
    "Lastly, the homogeneous transformation corresponding to the symmetry\n",
    "transformation $IV$ is given by\n",
    "\n",
    "$$\n",
    "\n",
    "\\begin{align*}\n",
    "u' = i\\,\\cos\\alpha \\, u - i\\,\\sin\\alpha\\,v &= \\frac1{\\sqrt{5}}\\left(\\epsilon - \\epsilon^4\\right) u +\\frac1{\\sqrt{5}}\\left(\\epsilon^3 - \\epsilon^2\\right) v \\\\\n",
    "v' = -i\\,\\sin\\alpha\\,u - i\\,\\cos\\alpha\\, v &= \\frac1{\\sqrt{5}}\\left(\\epsilon^3 - \\epsilon^2\\right) u -\\frac1{\\sqrt{5}}\\left(\\epsilon - \\epsilon^4\\right) v \\,,\n",
    "\\end{align*}\n",
    "\n",
    "$$\n",
    "\n",
    "whereas transformation $V$ corresponds to $u' = \\epsilon^{1/2}\\, u$, $v' = \\epsilon^{-1/2}\\, v$."
   ]
  },
  {
   "cell_type": "markdown",
   "metadata": {},
   "source": [
    "## Icosahedral Polynomial Invariants\n",
    "\n",
    "Multiplying together the homogeneous polynomials $(u-z_k\\,v)$ for\n",
    "$k\\in \\{0,1,\\ldots,10,\\infty\\}$, we find\n",
    "\n",
    "$$\n",
    "\n",
    "f(u,v) = \\prod_k\\left(u - z_k\\,v\\right) = uv\\left(u^{10}+11\\,u^5v^5-v^{10}\\right) \\,.\n",
    "\n",
    "$$"
   ]
  },
  {
   "cell_type": "code",
   "execution_count": 6,
   "metadata": {},
   "outputs": [
    {
     "data": {
      "text/latex": [
       "$\\displaystyle u v \\left(u - v \\left(e^{3} + e^{2}\\right)\\right) \\left(u - v \\left(e^{4} + e\\right)\\right) \\left(- e v \\left(e^{3} + e^{2}\\right) + u\\right) \\left(- e v \\left(e^{4} + e\\right) + u\\right) \\left(- e^{2} v \\left(e^{3} + e^{2}\\right) + u\\right) \\left(- e^{2} v \\left(e^{4} + e\\right) + u\\right) \\left(- e^{3} v \\left(e^{3} + e^{2}\\right) + u\\right) \\left(- e^{3} v \\left(e^{4} + e\\right) + u\\right) \\left(- e^{4} v \\left(e^{3} + e^{2}\\right) + u\\right) \\left(- e^{4} v \\left(e^{4} + e\\right) + u\\right)$"
      ],
      "text/plain": [
       "u*v*(u - v*(e**3 + e**2))*(u - v*(e**4 + e))*(-e*v*(e**3 + e**2) + u)*(-e*v*(e**4 + e) + u)*(-e**2*v*(e**3 + e**2) + u)*(-e**2*v*(e**4 + e) + u)*(-e**3*v*(e**3 + e**2) + u)*(-e**3*v*(e**4 + e) + u)*(-e**4*v*(e**3 + e**2) + u)*(-e**4*v*(e**4 + e) + u)"
      ]
     },
     "execution_count": 6,
     "metadata": {},
     "output_type": "execute_result"
    }
   ],
   "source": [
    "# Check of the above:\n",
    "from functools import reduce\n",
    "\n",
    "# e = exp(2 * pi * I / 5)\n",
    "e = symbols(\"e\")\n",
    "n = e**2 + e**3\n",
    "m = e + e**4\n",
    "\n",
    "iso_verts = []\n",
    "for i in range(5):\n",
    "    iso_verts.append(n * e**i)\n",
    "    iso_verts.append(m * e**i)\n",
    "\n",
    "f = u * v * reduce(lambda x, y: x * y, [u - x * v for x in iso_verts])\n",
    "f"
   ]
  },
  {
   "cell_type": "markdown",
   "metadata": {},
   "source": [
    "Given the complexity of this expression, it makes sense to introduce a function which will efficiently expand out any polynomial and $\\epsilon$ and enforce the conditions\n",
    "\n",
    "$$\n",
    "\n",
    "\\epsilon^5 = 1 \\,,\\qquad \\epsilon^4 = - \\epsilon^3 - \\epsilon^2 - \\epsilon - 1\n",
    "\n",
    "$$\n",
    "\n",
    "such that the maximum power of $\\epsilon$ appearing is 3. These considerations motivate the definition of the function `e_simp()` below:"
   ]
  },
  {
   "cell_type": "code",
   "execution_count": 7,
   "metadata": {},
   "outputs": [
    {
     "data": {
      "text/latex": [
       "$\\displaystyle u v \\left(u^{10} + 11 u^{5} v^{5} - v^{10}\\right)$"
      ],
      "text/plain": [
       "u*v*(u**10 + 11*u**5*v**5 - v**10)"
      ]
     },
     "execution_count": 7,
     "metadata": {},
     "output_type": "execute_result"
    }
   ],
   "source": [
    "def e_simp(expr, e, full=True, cleanup=True):\n",
    "    result = Poly(expr, e)\n",
    "    e_coeffs = reversed(result.all_coeffs())\n",
    "    simp_coeffs = [0] * 5\n",
    "    # enforce e**5 = 1\n",
    "    for i, coeff in enumerate(e_coeffs):\n",
    "        simp_coeffs[i % 5] += coeff\n",
    "    # enforce e**4 = - e**3 - e**2 - e - 1\n",
    "    if full:\n",
    "        simp_coeffs = [simp_coeffs[i] - simp_coeffs[4] for i in range(4)]\n",
    "    if cleanup:\n",
    "        return simplify(Poly.from_list(reversed(simp_coeffs), e).as_expr())\n",
    "    return Poly.from_list(reversed(simp_coeffs), e).as_expr()\n",
    "\n",
    "\n",
    "f = e_simp(f, e)\n",
    "f"
   ]
  },
  {
   "cell_type": "markdown",
   "metadata": {},
   "source": [
    "As a second check, it's worth pointing out that, for any real antipodal pair\n",
    "$(z_n, z_m)$ with $z_m=-1/z_n$, the following result holds:\n",
    "\n",
    "$$\n",
    "\n",
    "\\begin{aligned}\n",
    "P(u,v,z_n,z_m) :=\\prod_{k=1}^5\\left(u - \\epsilon^k\\,z_n\\,v\\right)\\left(u - \\epsilon^k\\,z_m\\,v\\right) &= \\prod_{k=1}^5\\left[u^2-\\epsilon^k\\left(z_n + z_m \\right)\\,uv-\\epsilon^{2k}\\,v^2\\right] \\\\\n",
    "&= u^{10} - \\left(z_n^5 + z_m^5\\right)u^5v^5 - v^{10} \\,.\n",
    "\\end{aligned}\n",
    "\n",
    "$$ (aqeq)"
   ]
  },
  {
   "cell_type": "code",
   "execution_count": 8,
   "metadata": {},
   "outputs": [
    {
     "data": {
      "text/latex": [
       "$\\displaystyle u^{10} - u^{5} v^{5} z_{m}^{5} - u^{5} v^{5} z_{n}^{5} + v^{10} z_{m}^{5} z_{n}^{5}$"
      ],
      "text/plain": [
       "u**10 - u**5*v**5*z_m**5 - u**5*v**5*z_n**5 + v**10*z_m**5*z_n**5"
      ]
     },
     "execution_count": 8,
     "metadata": {},
     "output_type": "execute_result"
    }
   ],
   "source": [
    "from utils import reduce_multiply\n",
    "\n",
    "\n",
    "e_simp(\n",
    "    reduce_multiply([(u - e**k * z_n * v) * (u - z_m * e**k * v) for k in range(5)]),\n",
    "    e,\n",
    "    cleanup=False,\n",
    ")"
   ]
  },
  {
   "cell_type": "code",
   "execution_count": 9,
   "metadata": {},
   "outputs": [
    {
     "data": {
      "text/latex": [
       "$\\displaystyle u^{10} - u^{5} v^{5} z_{n}^{5} + \\frac{u^{5} v^{5}}{z_{n}^{5}} - v^{10}$"
      ],
      "text/plain": [
       "u**10 - u**5*v**5*z_n**5 + u**5*v**5/z_n**5 - v**10"
      ]
     },
     "execution_count": 9,
     "metadata": {},
     "output_type": "execute_result"
    }
   ],
   "source": [
    "# Second check:\n",
    "z_n = symbols(\"z_n\")\n",
    "\n",
    "\n",
    "def antipodal_pair(m):\n",
    "    return u**2 - e**m * (z_n - 1 / z_n) * u * v - e ** (2 * m) * v**2\n",
    "\n",
    "\n",
    "f2 = reduce(lambda x, y: x * y, [antipodal_pair(m) for m in range(5)])\n",
    "e_simp(f2, e)"
   ]
  },
  {
   "cell_type": "markdown",
   "metadata": {},
   "source": [
    "This, combined with the product $(u-z_0\\,v)(u-z_\\infty\\,v) = uv$, demonstrates\n",
    "the expected formula for the polynomial invariant $f(u,v)$ associated with the\n",
    "icosahedral vertices, since\n",
    "\n",
    "$$\n",
    "\n",
    "\\begin{aligned}\n",
    "z_n^5 &= z_n\\left(1-z_n\\right)\\left(1-z_n\\right) \\\\\n",
    "&= z_n\\left[1-2\\,z_n+\\left(1-z_n\\right)\\right] = 2\\,z_n -3\\,\\left(1-z_n\\right) \\\\\n",
    "&= 5\\,z_n - 3 \n",
    "\\end{aligned}\n",
    "\n",
    "$$\n",
    "\n",
    "and so\n",
    "\n",
    "$$\n",
    "\n",
    "\\begin{aligned}\n",
    "\\frac1{z_n^5}-z_n^5 &= \\frac1{\\left(5\\,z_n - 3\\right)}\\times\\left(\\frac{5\\,z_m-3}{5\\,z_m-3}\\right) - \\left(5\\,z_n - 3\\right) \\\\\n",
    "&=\\frac{5\\,z_m-3}{-25 -15\\left(z_n+z_m\\right)+9} - \\left(5\\,z_n - 3\\right) \\\\\n",
    "&=-5\\left(z_n+z_m\\right)+6 \\\\ \n",
    "&= 11 \\,.\n",
    "\\end{aligned}\n",
    "$$\n",
    "\n",
    "(The above follows from repeated use of the defining relations $z_n^2 = 1-z_n$, $z_n\\,z_m = -1$\\, and $z_n+z_m=-1$.)"
   ]
  },
  {
   "cell_type": "code",
   "execution_count": 10,
   "metadata": {},
   "outputs": [
    {
     "data": {
      "text/plain": [
       "True"
      ]
     },
     "execution_count": 10,
     "metadata": {},
     "output_type": "execute_result"
    }
   ],
   "source": [
    "# Check of the above:\n",
    "e_simp(n**5, e).equals(5 * n - 3)"
   ]
  },
  {
   "cell_type": "code",
   "execution_count": 11,
   "metadata": {},
   "outputs": [
    {
     "data": {
      "text/latex": [
       "$\\displaystyle 11$"
      ],
      "text/plain": [
       "11"
      ]
     },
     "execution_count": 11,
     "metadata": {},
     "output_type": "execute_result"
    }
   ],
   "source": [
    "e_simp(-(m**5) - n**5, e)"
   ]
  },
  {
   "cell_type": "markdown",
   "metadata": {},
   "source": [
    "It should be straightforward to check that $f(u,v)$ is indeed a polynomial\n",
    "invariant under transformations $IV$, $V$:\n",
    "\n",
    "$$\n",
    "\n",
    "f(u',v') = f(u,v) \\,.\n",
    "\n",
    "$$"
   ]
  },
  {
   "cell_type": "code",
   "execution_count": 12,
   "metadata": {},
   "outputs": [
    {
     "data": {
      "text/plain": [
       "True"
      ]
     },
     "execution_count": 12,
     "metadata": {},
     "output_type": "execute_result"
    }
   ],
   "source": [
    "# Check of the above, under IV:\n",
    "orth1 = 1 / sqrt(5) * Matrix([[e - e**4, e**3 - e**2], [e**3 - e**2, e**4 - e]])\n",
    "u, v = symbols(\"u v\")\n",
    "U, V = symbols(\"U V\")\n",
    "uv = Matrix([u, v])\n",
    "\n",
    "uv_prime = orth1 * uv\n",
    "\n",
    "f_prime = f.subs([(u, U), (v, V)]).subs([(U, uv_prime[0]), (V, uv_prime[1])])\n",
    "e_simp(f_prime, e).equals(f)"
   ]
  },
  {
   "cell_type": "code",
   "execution_count": 13,
   "metadata": {},
   "outputs": [
    {
     "data": {
      "text/plain": [
       "True"
      ]
     },
     "execution_count": 13,
     "metadata": {},
     "output_type": "execute_result"
    }
   ],
   "source": [
    "# Check of the above, under V:\n",
    "orth2 = Matrix([[sqrt(e), 0], [0, 1 / sqrt(e)]])\n",
    "uv = Matrix([u, v])\n",
    "\n",
    "uv_prime = orth2 * uv\n",
    "f_prime = f.subs([(u, U), (v, V)]).subs([(U, uv_prime[0]), (V, uv_prime[1])])\n",
    "e_simp(e**5 * f_prime, e).equals(f)"
   ]
  },
  {
   "cell_type": "markdown",
   "metadata": {},
   "source": [
    "Computing the Hessian of $f$, we find ${\\rm Hess}[f](u,v) = -121\\,H(u,v)$ where\n",
    "\n",
    "$$\n",
    "\n",
    "H(u,v) := u^{20} + v^{20} - 228\\left(u^{15}\\,v^5-u^5\\,v^{15}\\right) + 494\\,u^{10}\\,v^{10} \\,.\n",
    "\n",
    "$$"
   ]
  },
  {
   "cell_type": "code",
   "execution_count": 14,
   "metadata": {},
   "outputs": [
    {
     "data": {
      "text/latex": [
       "$\\displaystyle u^{20} - 228 u^{15} v^{5} + 494 u^{10} v^{10} + 228 u^{5} v^{15} + v^{20}$"
      ],
      "text/plain": [
       "u**20 - 228*u**15*v**5 + 494*u**10*v**10 + 228*u**5*v**15 + v**20"
      ]
     },
     "execution_count": 14,
     "metadata": {},
     "output_type": "execute_result"
    }
   ],
   "source": [
    "# Check of the above:\n",
    "from utils import hessian\n",
    "\n",
    "H = simplify(hessian(f, u, v) / (-121))\n",
    "H"
   ]
  },
  {
   "cell_type": "markdown",
   "metadata": {},
   "source": [
    "We shall see later that this Hessian is precisely the polynomial invariant for the face centres of the icosahedron."
   ]
  },
  {
   "cell_type": "markdown",
   "metadata": {},
   "source": [
    "## The Rotated Octahedron\n",
    "\n",
    "Earlier, we demonstrated the that function $t(u,v) = u^5\\,v-u\\,v^5$ was an\n",
    "absolute invariant under tetrahedral symmetry, and that its square was an\n",
    "absolute invariant under octahedral symmetry. We now wish to consider how this\n",
    "particular product of roots changes under a rotation of the octahedron about its\n",
    "centre. \n",
    "\n",
    "To this end, consider the rotated points $z'_k$, related to $z_k \\in \\{0,\n",
    "\\infty, \\pm 1,\\pm i\\}$ by\n",
    "\n",
    "$$\n",
    "\n",
    "z'_k(\\alpha, \\theta) = e^{i\\,\\theta}\\left[\\frac{\\cos(\\alpha/2)\\,z_k+\\sin(\\alpha/2)}{-\\sin(\\alpha/2)\\,z_k + \\cos(\\alpha/2)}\\right]\\,.\n",
    "\n",
    "$$\n",
    "\n",
    "(The rotation above corresponds to a rotation about the $\\eta$ axis by an angle $\\alpha$, followed by a rotation about the $\\zeta$ axis by an angle $\\theta$.) Computing the product $t'(u,v) := \\prod_{k}(u-z_k'\\,v)$ we find\n",
    "\n",
    "$$\n",
    "\n",
    "\\begin{align*}\n",
    "t'(u,v, \\tan(2\\alpha), e^{i\\theta}) &= u^6 + \\frac{4\\,u^5\\,v\\,e^{i\\theta}}{\\tan(2\\alpha)}-5\\,u^4\\,v^2\\,e^{2\\,i\\theta} \\\\\n",
    "&-\n",
    "5\\,u^2\\,v^4\\,e^{4\\,i\\theta} - \\frac{4\\,u\\,v^5\\,e^{5\\,i\\theta}}{\\tan(2\\alpha)} + v^6\\,e^{6\\,i\\theta} \\,.\n",
    "\\end{align*}\n",
    "\n",
    "$$\n",
    "\n",
    "Note that the original expression for $t(u,v)$ arises only in the singular limit\n",
    "$\\alpha\\to 0$."
   ]
  },
  {
   "cell_type": "code",
   "execution_count": 15,
   "metadata": {},
   "outputs": [
    {
     "data": {
      "text/latex": [
       "$\\displaystyle p^{6} v^{6} - \\frac{4 p^{5} u v^{5}}{\\tan{\\left(2 \\alpha \\right)}} - 5 p^{4} u^{2} v^{4} - 5 p^{2} u^{4} v^{2} + \\frac{4 p u^{5} v}{\\tan{\\left(2 \\alpha \\right)}} + u^{6}$"
      ],
      "text/plain": [
       "p**6*v**6 - 4*p**5*u*v**5/tan(2*alpha) - 5*p**4*u**2*v**4 - 5*p**2*u**4*v**2 + 4*p*u**5*v/tan(2*alpha) + u**6"
      ]
     },
     "execution_count": 15,
     "metadata": {},
     "output_type": "execute_result"
    }
   ],
   "source": [
    "# Check of the above:\n",
    "def reduce_multiply(any_list):\n",
    "    return reduce(lambda x, y: x * y, any_list)\n",
    "\n",
    "\n",
    "zs = [0, oo, 1, -1, I, -I]\n",
    "\n",
    "\n",
    "def rotate(z, alpha, prephase=1):\n",
    "    if z is oo:\n",
    "        return -cos(alpha / 2) / sin(alpha / 2)\n",
    "    return (cos(alpha / 2) * prephase * z + sin(alpha / 2)) / (\n",
    "        -sin(alpha / 2) * prephase * z + cos(alpha / 2)\n",
    "    )\n",
    "\n",
    "\n",
    "alpha, p, w = symbols(\"alpha p w\")\n",
    "\n",
    "\n",
    "zps = [rotate(z, alpha) for z in zs]\n",
    "\n",
    "# p <--> exp(i*theta)\n",
    "tp = reduce_multiply([u - p * z * v for z in zps])\n",
    "tp = simplify(tp.expand())\n",
    "tp"
   ]
  },
  {
   "cell_type": "markdown",
   "metadata": {},
   "source": [
    "## Icosahedral Edge Midpoints\n",
    "\n",
    "If we now consider the product of 5 such functions, representing the 30 edge\n",
    "midpoints of the icosahedron, with each inscribed octahedron rotated by $e^{2\\pi\n",
    "i/5}$ relative to one another, we find (introducing $w$ as a stand-in for $\\tan(2\\alpha)$)\n",
    "\n",
    "$$\n",
    "\n",
    "\\begin{aligned}\n",
    "T(u,v,w) &:= \\prod_{k=1}^5 t'(u,v,w, e^{2\\pi i k/5}) \\\\\n",
    "&= u^{30} + \\left(\\frac{ 580\\, w^4 + 1600 \\, w^2 + 1024 }{w^5}\\right)\\left(u^{25}\\,v^5-u^5\\,v^{25}\\right) \\\\\n",
    "&- \\left(\\frac{ 6725 \\,w^4 +11840 \\,w^2 + 5120 }{w^4}\\right)\\left(u^{20}\\,v^{10} + u^{10}\\,v^{20}\\right)  + v^{30} \\,.\n",
    "\\end{aligned}\n",
    "\n",
    "$$"
   ]
  },
  {
   "cell_type": "code",
   "execution_count": 16,
   "metadata": {},
   "outputs": [
    {
     "data": {
      "text/latex": [
       "$\\displaystyle u^{30} + \\frac{u^{25} \\left(580 v^{5} \\tan^{4}{\\left(2 \\alpha \\right)} + 1600 v^{5} \\tan^{2}{\\left(2 \\alpha \\right)} + 1024 v^{5}\\right)}{\\tan^{5}{\\left(2 \\alpha \\right)}} + \\frac{u^{20} \\left(- 6725 v^{10} \\tan^{4}{\\left(2 \\alpha \\right)} - 11840 v^{10} \\tan^{2}{\\left(2 \\alpha \\right)} - 5120 v^{10}\\right)}{\\tan^{4}{\\left(2 \\alpha \\right)}} + \\frac{u^{10} \\left(- 6725 v^{20} \\tan^{4}{\\left(2 \\alpha \\right)} - 11840 v^{20} \\tan^{2}{\\left(2 \\alpha \\right)} - 5120 v^{20}\\right)}{\\tan^{4}{\\left(2 \\alpha \\right)}} + \\frac{u^{5} \\left(- 580 v^{25} \\tan^{4}{\\left(2 \\alpha \\right)} - 1600 v^{25} \\tan^{2}{\\left(2 \\alpha \\right)} - 1024 v^{25}\\right)}{\\tan^{5}{\\left(2 \\alpha \\right)}} + v^{30}$"
      ],
      "text/plain": [
       "u**30 + u**25*(580*v**5*tan(2*alpha)**4 + 1600*v**5*tan(2*alpha)**2 + 1024*v**5)/tan(2*alpha)**5 + u**20*(-6725*v**10*tan(2*alpha)**4 - 11840*v**10*tan(2*alpha)**2 - 5120*v**10)/tan(2*alpha)**4 + u**10*(-6725*v**20*tan(2*alpha)**4 - 11840*v**20*tan(2*alpha)**2 - 5120*v**20)/tan(2*alpha)**4 + u**5*(-580*v**25*tan(2*alpha)**4 - 1600*v**25*tan(2*alpha)**2 - 1024*v**25)/tan(2*alpha)**5 + v**30"
      ]
     },
     "execution_count": 16,
     "metadata": {},
     "output_type": "execute_result"
    }
   ],
   "source": [
    "# Check of the above:\n",
    "factors = [tp.subs(p, e**k) for k in range(5)]\n",
    "T_uvw = reduce_multiply(factors)\n",
    "\n",
    "T_uvw = Poly(T_uvw, u)\n",
    "\n",
    "\n",
    "new_coeffs = []\n",
    "\n",
    "\n",
    "for coeff in T_uvw.all_coeffs():\n",
    "    new_coeffs.append(e_simp(coeff, e))\n",
    "\n",
    "\n",
    "T_uvw = Poly.from_list(new_coeffs, u).as_expr()\n",
    "T_uvw"
   ]
  },
  {
   "cell_type": "markdown",
   "metadata": {},
   "source": [
    "Lastly, recognizing that the icosahedral edge midpoints are located at \n",
    "\n",
    "$$\n",
    "\n",
    "\\cos\\alpha = \\frac1{2\\,\\sin(\\pi/5)} \\quad\\leftrightarrow\\quad \\cot\\alpha = \\phi \\,,\n",
    "\n",
    "\n",
    "$$\n",
    "\n",
    "we find that $w:=\\tan(2\\alpha) = 2\\phi/(\\phi^2-1) = 2$ and so\n",
    "\n",
    "$$\n",
    "\n",
    "\\begin{align*}\n",
    "T(u,v) := T(u,v, 2) &= u^{30} +522\\left(u^{25}\\,v^5-u^5\\,v^{25}\\right) \\\\\n",
    "&- 10005\\left(u^{20}\\,v^{10} + u^{10}\\,v^{20}\\right) + v^{30} \\,.\n",
    "\\end{align*}\n",
    "\n",
    "$$"
   ]
  },
  {
   "cell_type": "code",
   "execution_count": 17,
   "metadata": {},
   "outputs": [
    {
     "data": {
      "text/latex": [
       "$\\displaystyle 2$"
      ],
      "text/plain": [
       "2"
      ]
     },
     "execution_count": 17,
     "metadata": {},
     "output_type": "execute_result"
    }
   ],
   "source": [
    "# Check of the above:\n",
    "phi = symbols(\"phi\")\n",
    "simplify((2 * phi / (phi**2 - 1)).subs(phi, (1 + sqrt(5)) / 2))"
   ]
  },
  {
   "cell_type": "code",
   "execution_count": 18,
   "metadata": {},
   "outputs": [
    {
     "data": {
      "text/latex": [
       "$\\displaystyle u^{30} + 522 u^{25} v^{5} - 10005 u^{20} v^{10} - 10005 u^{10} v^{20} - 522 u^{5} v^{25} + v^{30}$"
      ],
      "text/plain": [
       "u**30 + 522*u**25*v**5 - 10005*u**20*v**10 - 10005*u**10*v**20 - 522*u**5*v**25 + v**30"
      ]
     },
     "execution_count": 18,
     "metadata": {},
     "output_type": "execute_result"
    }
   ],
   "source": [
    "T = simplify(T_uvw.subs(tan(2 * alpha), 2))\n",
    "T"
   ]
  },
  {
   "cell_type": "markdown",
   "metadata": {},
   "source": [
    "We also note in passing that $T(u,v)$ can also be expressed as\n",
    "\n",
    "$$\n",
    "\n",
    "T(u,v) = \\prod_{k=1}^5 t_I(u\\,\\epsilon^{-k/2},v\\,\\epsilon^{k/2}) = \\prod_{k=1}^5 \\epsilon^{15-3k} \\,t_I(u,v\\,\\epsilon^k)\n",
    "\n",
    "$$\n",
    "\n",
    "where\n",
    "\n",
    "$$\n",
    "\n",
    "t_I(u,v) := (u^2+v^2)(u^2-2z_n\\,uv-v^2)(u^2-2z_m\\,uv-v^2) \\,.\n",
    "\n",
    "$$\n",
    "\n",
    "The factor $\\epsilon^{15-3k}$ is engineered such that only non-negative integer powers of\n",
    "$\\epsilon$ appear in the resulting expression, which allows more straightforward\n",
    "simplification. (Recall that $\\epsilon^5=\\epsilon^{15} = 1$.)"
   ]
  },
  {
   "cell_type": "code",
   "execution_count": 19,
   "metadata": {},
   "outputs": [
    {
     "data": {
      "text/latex": [
       "$\\displaystyle u^{30} + 522 u^{25} v^{5} - 10005 u^{20} v^{10} - 10005 u^{10} v^{20} - 522 u^{5} v^{25} + v^{30}$"
      ],
      "text/plain": [
       "u**30 + 522*u**25*v**5 - 10005*u**20*v**10 - 10005*u**10*v**20 - 522*u**5*v**25 + v**30"
      ]
     },
     "execution_count": 19,
     "metadata": {},
     "output_type": "execute_result"
    }
   ],
   "source": [
    "# Check of the above:\n",
    "tI = (u**2 + v**2) * (u**2 - 2 * n * u * v - v**2) * (u**2 - 2 * m * u * v - v**2)\n",
    "e_simp(\n",
    "    reduce(\n",
    "        lambda x, y: x * y,\n",
    "        [e ** (15 - 3 * k) * tI.subs(v, v * e**k).expand() for k in range(5)],\n",
    "    ),\n",
    "    e,\n",
    ")"
   ]
  },
  {
   "cell_type": "markdown",
   "metadata": {},
   "source": [
    "(icosa_fc)=\n",
    "## Icosahedral Face Centres\n",
    "\n",
    "The icosahedral face centres nearest to the vertex ${\\bf n}_5 = (0,0,+1)$ are given by\n",
    "\n",
    "$$\n",
    "\n",
    "w_i = \\epsilon^{i-1}\\,w_1 \\,,\\qquad i\\in\\{1,2,3,4,5\\}\n",
    "\n",
    "$$\n",
    "\n",
    "where we choose $w_1$ to be the ($6\\pi/5$)-rotated stereographic projection of ${\\bf n}_3$:\n",
    "\n",
    "$$\n",
    "\n",
    "w_1 = \\epsilon^3\\left(\\frac{-\\sin\\alpha\\,e^{-i\\pi/5}}{\\sqrt{3}/2 - \\cos\\alpha\\,\\cos\\pi/5}\\right) = \\frac{2\\,\\sin\\alpha}{\\sqrt{3} + z_n\\,\\cos\\alpha}\\,.\n",
    "\n",
    "$$\n",
    "\n",
    "(The choice of rotating by $6\\pi/5$ is made such that $w_1$ is postive and real.)"
   ]
  },
  {
   "cell_type": "code",
   "execution_count": 20,
   "metadata": {},
   "outputs": [
    {
     "data": {
      "text/latex": [
       "$\\displaystyle 2.95629520146761$"
      ],
      "text/plain": [
       "2.95629520146761"
      ]
     },
     "execution_count": 20,
     "metadata": {},
     "output_type": "execute_result"
    }
   ],
   "source": [
    "# Check of the above:\n",
    "alpha = acos(1 / 2 / sin(pi / 5))\n",
    "w_1 = 2 * sin(alpha) / (sqrt(3) + z_n * cos(alpha))\n",
    "w1_val = w_1.subs(z_n, -(1 + sqrt(5)) / 2).evalf()\n",
    "w1_val"
   ]
  },
  {
   "cell_type": "markdown",
   "metadata": {},
   "source": [
    "Defining $k:=\\sqrt{3} / \\cos\\alpha$, and noting that\n",
    "\n",
    "$$\n",
    "\n",
    "\\begin{aligned}\n",
    "\\frac1{\\cos^2\\alpha} = \\frac2{1+\\cos2\\alpha} &= \\frac{2\\sqrt{5}}{1+\\sqrt{5}} = \\frac1{\\phi}(2\\,\\phi-1) = 3+z_n \\\\\n",
    "\\implies k^2 &= 3(3+z_n) \\,,\n",
    "\\end{aligned}\n",
    "\n",
    "$$\n",
    "\n",
    "we find that we can simplify the expression for $w_1$ as follows:\n",
    "\n",
    "$$\n",
    "\n",
    "\\begin{aligned}\n",
    "w_1 &= \\frac{2\\,\\tan\\alpha}{(k+z_n)} \\times \\frac{(k-z_n)}{(k-z_n)} = \\frac{2\\left(-1/z_n\\right)(k-z_n)}{k^2-z_n^2}\\\\\n",
    "&=\\frac{-2(k-z_n)}{z_n\\left[3(3+z_n)-z_n^2\\right]} = \\frac{z_n-k}{2(1+z_n)}\n",
    "\\end{aligned}\n",
    "\n",
    "$$\n",
    "\n",
    "where, in deriving the last equality, we make liberal use of the identity $z_n^2 = 1-z_n$ when rewriting the denominator."
   ]
  },
  {
   "cell_type": "markdown",
   "metadata": {},
   "source": [
    "Since, for arbitrary $A$ and $B$\n",
    "\n",
    "$$\n",
    "\n",
    "\\frac1{Az_n+B} = \\frac{A(1+z_n)-B}{A^2+AB-B^2} \\,,\n",
    "\n",
    "$$\n",
    "\n",
    "we can also write $1/(1+z_n) = z_n$ (choosing $A=B=1$ in the above), which gives\n",
    "\n",
    "$$\n",
    "\n",
    "w_1 = \\frac{1-(1+k)z_n}2 \\,.\n",
    "\n",
    "$$\n",
    "\n",
    "This expression, with only positive powers of $k$ and $z_n$, guarantee that\n",
    "successive powers of $w_1$ can be easily simplified using the relations\n",
    "$k^2=3(3+z_n)$, $z_n^2 = 1-z_n$."
   ]
  },
  {
   "cell_type": "code",
   "execution_count": 21,
   "metadata": {},
   "outputs": [
    {
     "data": {
      "text/plain": [
       "True"
      ]
     },
     "execution_count": 21,
     "metadata": {},
     "output_type": "execute_result"
    }
   ],
   "source": [
    "# Check of the above:\n",
    "k = sqrt(3) / cos(alpha)\n",
    "w_1 = (1 - (1 + k) * z_n) / 2\n",
    "w_1.subs(z_n, -(1 + sqrt(5)) / 2).evalf().equals(w1_val)"
   ]
  },
  {
   "cell_type": "code",
   "execution_count": 22,
   "metadata": {},
   "outputs": [
    {
     "data": {
      "text/latex": [
       "$\\displaystyle 2.95629520146761$"
      ],
      "text/plain": [
       "2.95629520146761"
      ]
     },
     "execution_count": 22,
     "metadata": {},
     "output_type": "execute_result"
    }
   ],
   "source": [
    "((3 + sqrt(5) + sqrt(30 + 6 * sqrt(5))) / 4).evalf()"
   ]
  },
  {
   "cell_type": "code",
   "execution_count": 23,
   "metadata": {},
   "outputs": [
    {
     "data": {
      "text/latex": [
       "$\\displaystyle 12 \\sqrt{5} + 60$"
      ],
      "text/plain": [
       "12*sqrt(5) + 60"
      ]
     },
     "execution_count": 23,
     "metadata": {},
     "output_type": "execute_result"
    }
   ],
   "source": [
    "((18 - 3 * (1 + sqrt(5))) * ((1 + sqrt(5)) ** 2)).expand()"
   ]
  },
  {
   "cell_type": "markdown",
   "metadata": {},
   "source": [
    "Using similar methods, one can easily show that the antipodal point ${\\hat\n",
    "w}_1:= -1/w_1$ can be written\n",
    "\n",
    "$$\n",
    "\n",
    "{\\hat w}_1 = \\frac{1+(k-1)z_n}2 \\,.\n",
    "\n",
    "$$\n",
    "\n",
    "Therefore, the product of polynomial factors with antipodal pairs, as in\n",
    "{eq}`aqeq`, are found to be\n",
    "\n",
    "$$\n",
    "\n",
    "\\begin{aligned}\n",
    "P(u,v,w_1,{\\hat w}_1) &= u^{10} - (w_1^5+{\\hat w}_1^5)u^5v^5-v^{10} \\\\\n",
    "&= u^{10} - (64-100\\,z_n)u^5v^5-v^{10} \\,.\n",
    "\\end{aligned}\n",
    "\n",
    "$$\n",
    "\n",
    "However, the above expression only accounts for half of the face centres of the\n",
    "icosahedron."
   ]
  },
  {
   "cell_type": "markdown",
   "metadata": {},
   "source": [
    "The other 10 face centres can be found by using the twofold symmetry $(IV)$ of\n",
    "the icosahedron rotating $\\hat w_1$ about ${\\bf n}_2$ by $\\pi$:\n",
    "\n",
    "$$\n",
    "\n",
    "w_6 := \\frac{\\hat w_1\\,z_n+1}{\\hat w_1-z_n} = \\frac{2+z_n+k}2 \\,.\n",
    "\n",
    "$$\n",
    "\n",
    "From here, the other four face centres (related by symmetry $V$) can be easily\n",
    "determined by applying more powers of $\\epsilon$, and their antipodal pairs are\n",
    "given by\n",
    "\n",
    "$$\n",
    "\n",
    "{\\hat w}_6 := -\\frac1{w_6} = \\frac{2+z_n-k}2 \\,.\n",
    "\n",
    "$$"
   ]
  },
  {
   "cell_type": "markdown",
   "metadata": {},
   "source": [
    "Computing $P(u,v,w_6, {\\hat w}_6)$ as before, we find\n",
    "\n",
    "$$\n",
    "\n",
    "\n",
    "\\begin{aligned}\n",
    "P(u,v,w_6,{\\hat w}_6) &= u^{10} - (w_6^5+{\\hat w}_6^5)u^5v^5-v^{10} \\\\\n",
    "&= u^{10} - [64+100(1+z_n)]u^5v^5-v^{10} \\,.\n",
    "\\end{aligned}\n",
    "\n",
    "$$\n",
    "\n",
    "Putting this all together, we find that the polynomial invariant resulting from\n",
    "the product of all 20 icosahedral face centres is given by\n",
    "\n",
    "$$\n",
    "\n",
    "\\begin{aligned}\n",
    "H(u,v) &= P(u,v,w_1,{\\hat w}_1) \\,P(u,v,w_6,{\\hat w}_6) \\\\\n",
    "&=u^{20} - 228\\left(u^{15}v^5 - u^5v^{15}\\right)+494\\,u^{10}v^{10}+v^{20} \\,.\n",
    "\\end{aligned}\n",
    "\n",
    "$$\n",
    "\n",
    "(The above results from the general product \n",
    "\n",
    "$$\n",
    "\n",
    "\\begin{aligned}\n",
    "&\\left(u^{10} - X\\,u^5v^5-v^{10}\\right)\\left(u^{10} - Y\\,u^5v^5-v^{10}\\right) \\\\\n",
    "&= u^{20}-(X+Y)\\left(u^{15}v^5 - u^5v^{15}\\right)+\\left(XY-2\\right)\\,u^{10}v^{10}+v^{20}\n",
    "\\end{aligned}\n",
    "$$\n",
    "\n",
    "where we take $X=64-100\\,z_n$, $Y=64+100(1+z_n)$."
   ]
  },
  {
   "cell_type": "markdown",
   "metadata": {},
   "source": [
    "Lastly, we can verify that the polynomial invariants discussed above are interrelated as follows:\n",
    "\n",
    "$$\n",
    "\n",
    "T^2-H^3 = 1728\\,f^5 \\,.\n",
    "\n",
    "$$"
   ]
  },
  {
   "cell_type": "code",
   "execution_count": 24,
   "metadata": {},
   "outputs": [
    {
     "data": {
      "text/plain": [
       "True"
      ]
     },
     "execution_count": 24,
     "metadata": {},
     "output_type": "execute_result"
    }
   ],
   "source": [
    "# Check of the above\n",
    "(T**2 - H**3).equals(1728 * f**5)"
   ]
  },
  {
   "cell_type": "code",
   "execution_count": 25,
   "metadata": {},
   "outputs": [
    {
     "data": {
      "text/latex": [
       "$\\displaystyle u^{60} + 1044 u^{55} v^{5} + 252474 u^{50} v^{10} - 10445220 u^{45} v^{15} + 100080015 u^{40} v^{20} - 10446264 u^{35} v^{25} + 199655084 u^{30} v^{30} + 10446264 u^{25} v^{35} + 100080015 u^{20} v^{40} + 10445220 u^{15} v^{45} + 252474 u^{10} v^{50} - 1044 u^{5} v^{55} + v^{60}$"
      ],
      "text/plain": [
       "u**60 + 1044*u**55*v**5 + 252474*u**50*v**10 - 10445220*u**45*v**15 + 100080015*u**40*v**20 - 10446264*u**35*v**25 + 199655084*u**30*v**30 + 10446264*u**25*v**35 + 100080015*u**20*v**40 + 10445220*u**15*v**45 + 252474*u**10*v**50 - 1044*u**5*v**55 + v**60"
      ]
     },
     "execution_count": 25,
     "metadata": {},
     "output_type": "execute_result"
    }
   ],
   "source": [
    "(T**2).expand()"
   ]
  },
  {
   "cell_type": "markdown",
   "metadata": {},
   "source": [
    "## Edge Midpoints Redux\n",
    "\n",
    "An entirely orthogonal approach to the computation above is to consider directly\n",
    "the complex coordinates of each midpoint. We introduce here a calculus which can\n",
    "be used to simplify expressions involving these quantities.\n",
    "\n",
    "We begin by recalling that the icosahedral edge midpoint on the negative real\n",
    "axis is given by\n",
    "\n",
    "$$\n",
    "\n",
    "\\begin{aligned}\n",
    "v_1 &:= -\\frac{\\sin\\alpha}{1-\\cos\\alpha} = -\\cot\\left(\\alpha / 2\\right) = -\\cot\\alpha-\\csc\\alpha \\\\\n",
    "&= z_n +j\n",
    "\\end{aligned}\n",
    "\n",
    "$$\n",
    "\n",
    "where, in the last line, we define $j:=-\\csc\\alpha$ (recall that $z_n = -\\cot\\alpha$, as found earlier)."
   ]
  },
  {
   "cell_type": "markdown",
   "metadata": {},
   "source": [
    "By directly computing the square of $j$, we can verify that $j^2=2-z_n$:\n",
    "\n",
    "$$\n",
    "\n",
    "\\begin{aligned}\n",
    "j^2 &= \\frac1{\\sin^2\\alpha} = \\frac2{1-\\cos2\\alpha} \\\\\n",
    "&=\\frac2{1-(1/\\sqrt{5})} =\\frac{2\\sqrt{5}(1+\\sqrt{5})}4 \\\\\n",
    "&=(2\\phi-1)\\phi = 2+\\phi \\\\\n",
    "&= 2-z_n \\,.\n",
    "\\end{aligned}\n",
    "\n",
    "$$"
   ]
  },
  {
   "cell_type": "code",
   "execution_count": 26,
   "metadata": {},
   "outputs": [
    {
     "data": {
      "text/plain": [
       "True"
      ]
     },
     "execution_count": 26,
     "metadata": {},
     "output_type": "execute_result"
    }
   ],
   "source": [
    "# Check of the above:\n",
    "j = -csc(alpha)\n",
    "(j**2).subs(alpha, 1 / 2 * acos(1 / sqrt(5))).evalf().equals(\n",
    "    (2 + phi).subs(phi, (1 + sqrt(5)) / 2).evalf()\n",
    ")"
   ]
  },
  {
   "cell_type": "code",
   "execution_count": 27,
   "metadata": {},
   "outputs": [
    {
     "data": {
      "text/latex": [
       "$\\displaystyle -1.61803398874989$"
      ],
      "text/plain": [
       "-1.61803398874989"
      ]
     },
     "execution_count": 27,
     "metadata": {},
     "output_type": "execute_result"
    }
   ],
   "source": [
    "from sympy import cot\n",
    "\n",
    "\n",
    "z_n = -cot(alpha)\n",
    "z_n.subs(alpha, 1 / 2 * acos(1 / sqrt(5))).evalf()"
   ]
  },
  {
   "cell_type": "code",
   "execution_count": 28,
   "metadata": {},
   "outputs": [
    {
     "data": {
      "text/latex": [
       "$\\displaystyle -1.90211303259031$"
      ],
      "text/plain": [
       "-1.90211303259031"
      ]
     },
     "execution_count": 28,
     "metadata": {},
     "output_type": "execute_result"
    }
   ],
   "source": [
    "j = -csc(alpha)\n",
    "(j).subs(alpha, 1 / 2 * acos(1 / sqrt(5))).evalf()"
   ]
  },
  {
   "cell_type": "code",
   "execution_count": 29,
   "metadata": {},
   "outputs": [
    {
     "data": {
      "text/latex": [
       "$\\displaystyle -3.5201470213402$"
      ],
      "text/plain": [
       "-3.52014702134020"
      ]
     },
     "execution_count": 29,
     "metadata": {},
     "output_type": "execute_result"
    }
   ],
   "source": [
    "(z_n + j).subs(alpha, 1 / 2 * acos(1 / sqrt(5))).evalf()"
   ]
  },
  {
   "cell_type": "code",
   "execution_count": 30,
   "metadata": {},
   "outputs": [
    {
     "data": {
      "text/latex": [
       "$\\displaystyle 0.284079043840412$"
      ],
      "text/plain": [
       "0.284079043840412"
      ]
     },
     "execution_count": 30,
     "metadata": {},
     "output_type": "execute_result"
    }
   ],
   "source": [
    "(z_n - j).subs(alpha, 1 / 2 * acos(1 / sqrt(5))).evalf()"
   ]
  },
  {
   "cell_type": "markdown",
   "metadata": {},
   "source": [
    "From here on out, it becomes quite straightforward to compute the invariant\n",
    "polynomial: for example, the antipodal point to $v_1$ is\n",
    "\n",
    "$$\n",
    "\n",
    "\\begin{aligned}\n",
    "\\hat v_1 &= -\\frac1{v_1} = -\\frac1{z_n+j}\\times\\frac{(z_n-j)}{(z_n-j)} \\\\\n",
    "&=\\frac{z_n-j}{2-z_n-z_n^2} = z_n -j \\,.\n",
    "\\end{aligned}\n",
    "\n",
    "$$\n",
    "\n",
    "The next rung of midpoints can be expressed in terms of $v_1$ by applying a\n",
    "five-fold rotation, a reflection in ${\\bf \\hat n}_2$, and then three more\n",
    "five-fold rotations (yielding the edge midpoint lying on the positive real\n",
    "axis, which we refer to as $v_9$):\n",
    "\n",
    "$$\n",
    "\n",
    "\\begin{aligned}\n",
    "v_9 &=\\epsilon^3 \\times\\left(\\frac{\\epsilon\\,v_1\\,z_n+1}{\\epsilon\\,v_1-z_n}\\right) \\\\\n",
    "&=\\frac{\\epsilon^3(\\epsilon\\,v_1\\,z_n+1)(\\epsilon^4\\,v_1-z_n)}{v_1^2-z_n\\,z_m\\,v_1+z_n^2} \\\\\n",
    "&=\\frac{\\epsilon^3(\\epsilon\\,v_1\\,z_n+1)(\\epsilon^4\\,v_1-z_n)}{j(2\\,z_n+1)-2\\,z_n+4} \\\\\n",
    "&=\\frac{\\epsilon^3(\\epsilon\\,v_1\\,z_n+1)(\\epsilon^4\\,v_1-z_n)[j(2\\,z_n+1)-4+2\\,z_n]}{15\\,z_n-10} \\\\\n",
    "&=-\\frac{\\epsilon^3(\\epsilon\\,v_1\\,z_n+1)(\\epsilon^4\\,v_1-z_n)[j(2\\,z_n+1)-4+2\\,z_n][15(1+z_n)+10]}{25} \\\\\n",
    "&=(j-1)(1+z_n) \\,.\n",
    "\\end{aligned}\n",
    "\n",
    "$$"
   ]
  },
  {
   "cell_type": "code",
   "execution_count": 31,
   "metadata": {},
   "outputs": [
    {
     "data": {
      "text/latex": [
       "$\\displaystyle - 30 e^{8} j z_{n}^{5} - 95 e^{8} j z_{n}^{4} + 95 e^{8} j z_{n}^{2} - 50 e^{8} j z_{n} + 30 e^{8} z_{n}^{5} + 50 e^{8} z_{n}^{4} - 180 e^{8} z_{n}^{3} - 180 e^{8} z_{n}^{2} + 200 e^{8} z_{n} - 30 e^{7} j z_{n}^{3} - 95 e^{7} j z_{n}^{2} - 15 e^{7} j z_{n} + 100 e^{7} j + 15 e^{7} z_{n}^{2} - 5 e^{7} z_{n} - 50 e^{7} + 30 e^{4} j z_{n}^{5} + 95 e^{4} j z_{n}^{4} + 15 e^{4} j z_{n}^{3} - 100 e^{4} j z_{n}^{2} - 15 e^{4} z_{n}^{4} + 5 e^{4} z_{n}^{3} + 50 e^{4} z_{n}^{2} + 30 e^{3} j z_{n}^{3} + 65 e^{3} j z_{n}^{2} + 25 e^{3} j z_{n} + 30 e^{3} z_{n}^{3} - 10 e^{3} z_{n}^{2} - 100 e^{3} z_{n}$"
      ],
      "text/plain": [
       "-30*e**8*j*z_n**5 - 95*e**8*j*z_n**4 + 95*e**8*j*z_n**2 - 50*e**8*j*z_n + 30*e**8*z_n**5 + 50*e**8*z_n**4 - 180*e**8*z_n**3 - 180*e**8*z_n**2 + 200*e**8*z_n - 30*e**7*j*z_n**3 - 95*e**7*j*z_n**2 - 15*e**7*j*z_n + 100*e**7*j + 15*e**7*z_n**2 - 5*e**7*z_n - 50*e**7 + 30*e**4*j*z_n**5 + 95*e**4*j*z_n**4 + 15*e**4*j*z_n**3 - 100*e**4*j*z_n**2 - 15*e**4*z_n**4 + 5*e**4*z_n**3 + 50*e**4*z_n**2 + 30*e**3*j*z_n**3 + 65*e**3*j*z_n**2 + 25*e**3*j*z_n + 30*e**3*z_n**3 - 10*e**3*z_n**2 - 100*e**3*z_n"
      ]
     },
     "execution_count": 31,
     "metadata": {},
     "output_type": "execute_result"
    }
   ],
   "source": [
    "# Check of the above:\n",
    "v_1, j, z_n = symbols(\"v_1 j z_n\")\n",
    "num = (\n",
    "    -(e**3)\n",
    "    * (e * v_1 * z_n + 1)\n",
    "    * (e**4 * v_1 - z_n)\n",
    "    * (j * (2 * z_n + 1) - 4 + 2 * z_n)\n",
    "    * (15 * (1 + z_n) + 10)\n",
    ")\n",
    "num = (\n",
    "    num.expand()\n",
    "    .subs(v_1**2, z_n**2 + 2 * z_n * j + 2 - z_n)\n",
    "    .subs(v_1, j + z_n)\n",
    "    .expand()\n",
    "    .subs(j**2, 2 - z_n)\n",
    "    .expand()\n",
    ")\n",
    "num"
   ]
  },
  {
   "cell_type": "code",
   "execution_count": 32,
   "metadata": {},
   "outputs": [
    {
     "data": {
      "text/latex": [
       "$\\displaystyle 25 \\left(j - 1\\right) \\left(e^{3} + e^{2} + 1\\right)$"
      ],
      "text/plain": [
       "25*(j - 1)*(e**3 + e**2 + 1)"
      ]
     },
     "execution_count": 32,
     "metadata": {},
     "output_type": "execute_result"
    }
   ],
   "source": [
    "def z_simp(expr, z_n):\n",
    "    \"\"\"\n",
    "    Reduces the polynomial in z_n using the identity z_n^2 = 1-z_n.\n",
    "    \"\"\"\n",
    "    poly = Poly(expr, z_n)\n",
    "    coeffs = poly.all_coeffs()\n",
    "    while len(coeffs) > 2:\n",
    "        top_factor = coeffs[0]\n",
    "        coeffs[1] -= top_factor\n",
    "        coeffs[2] += top_factor\n",
    "        coeffs.pop(0)\n",
    "    return Poly.from_list(coeffs, z_n).as_expr()\n",
    "\n",
    "\n",
    "e_simp(z_simp(num, z_n).subs(z_n, e**2 + e**3), e).factor()"
   ]
  },
  {
   "cell_type": "markdown",
   "metadata": {},
   "source": [
    "We can also compute the antipodal point $\\hat v_9$ by inverting the expression\n",
    "above:\n",
    "\n",
    "$$\n",
    "\n",
    "\\begin{aligned}\n",
    "\\hat v_9 &= -\\frac1{v_9}= -\\frac1{(j-1)(1+z_n)} \\\\\n",
    "&=-\\frac{(1+j)z_n}{1-z_n} \\\\\n",
    "&=-\\frac{(j+1)z_n(2+z_n)}{(1-z_n)(2+z_n)} \\\\\n",
    "&=-(1+j)(1+z_n) \\,.\n",
    "\\end{aligned}\n",
    "\n",
    "$$"
   ]
  },
  {
   "cell_type": "markdown",
   "metadata": {},
   "source": [
    "Since the three pairs of antipodal points $(i,-i)$, $(v_1, \\hat v_1)$ and $(v_9,\n",
    "\\hat v_9)$ compromise one of the five octohedra, we now have a second way to\n",
    "compute the polynomial invariant $t_I(u,v)$: since pairs of real antipodal points $(z, \\hat z)$\n",
    "contribute a factor $(u^2 - (z+\\hat z)uv - v^2)$, it's sufficient to compute the sums\n",
    "\n",
    "$$\n",
    "\n",
    "\\begin{aligned}\n",
    "v_1 + \\hat v_1 &= 2\\,z_n \\\\\n",
    "v_9 + \\hat v_9 &= - 2(1+z_n) = 2\\,z_m \\,.\n",
    "\\end{aligned}\n",
    "\n",
    "$$\n",
    "\n",
    "Therefore, the factor for this octohedron is given as before:\n",
    "\n",
    "$$\n",
    "\n",
    "t_I(u,v) = (u^2+v^2)(u^2-2z_n\\,uv-v^2)(u^2-2z_m\\,uv-v^2) \\,.\n",
    "\n",
    "$$\n",
    "\n",
    "The contributions to $T(u,v)$ from the other 24 edge midpoints can be determined \n",
    "by applying successive five-fold rotations about the $\\zeta$ axis."
   ]
  },
  {
   "cell_type": "code",
   "execution_count": 33,
   "metadata": {},
   "outputs": [
    {
     "data": {
      "text/latex": [
       "$\\displaystyle z^{5} \\left(z^{10} + 11 z^{5} - 1\\right)^{5}$"
      ],
      "text/plain": [
       "z**5*(z**10 + 11*z**5 - 1)**5"
      ]
     },
     "execution_count": 33,
     "metadata": {},
     "output_type": "execute_result"
    }
   ],
   "source": [
    "z = symbols(\"z\")\n",
    "\n",
    "\n",
    "expr = (f**5).subs(u, z).subs(v, 1)\n",
    "expr"
   ]
  },
  {
   "cell_type": "code",
   "execution_count": 34,
   "metadata": {},
   "outputs": [
    {
     "ename": "NameError",
     "evalue": "name 'j_simp' is not defined",
     "output_type": "error",
     "traceback": [
      "\u001b[0;31m---------------------------------------------------------------------------\u001b[0m",
      "\u001b[0;31mNameError\u001b[0m                                 Traceback (most recent call last)",
      "Cell \u001b[0;32mIn[34], line 1\u001b[0m\n\u001b[0;32m----> 1\u001b[0m z_simp(\u001b[43mj_simp\u001b[49m(series(expr, z, z_n \u001b[38;5;241m-\u001b[39m j, n\u001b[38;5;241m=\u001b[39m\u001b[38;5;241m2\u001b[39m)\u001b[38;5;241m.\u001b[39mexpand()\u001b[38;5;241m.\u001b[39mremoveO(), j, z_n), z_n)\n",
      "\u001b[0;31mNameError\u001b[0m: name 'j_simp' is not defined"
     ]
    }
   ],
   "source": [
    "z_simp(j_simp(series(expr, z, z_n - j, n=2).expand().removeO(), j, z_n), z_n)"
   ]
  },
  {
   "cell_type": "code",
   "execution_count": null,
   "metadata": {},
   "outputs": [
    {
     "ename": "PolynomialError",
     "evalue": "1/(j**11 - 11*j**10*z_n + 55*j**9*z_n**2 - 165*j**8*z_n**3 + 330*j**7*z_n**4 - 462*j**6*z_n**5 - 11*j**6 + 462*j**5*z_n**6 + 66*j**5*z_n - 330*j**4*z_n**7 - 165*j**4*z_n**2 + 165*j**3*z_n**8 + 220*j**3*z_n**3 - 55*j**2*z_n**9 - 165*j**2*z_n**4 + 11*j*z_n**10 + 66*j*z_n**5 - j - z_n**11 - 11*z_n**6 + z_n) contains an element of the set of generators.",
     "output_type": "error",
     "traceback": [
      "\u001b[0;31m---------------------------------------------------------------------------\u001b[0m",
      "\u001b[0;31mKeyError\u001b[0m                                  Traceback (most recent call last)",
      "File \u001b[0;32m~/Documents/coding/ag_notes/.venv/lib/python3.13/site-packages/sympy/polys/polyutils.py:229\u001b[0m, in \u001b[0;36m_parallel_dict_from_expr_if_gens\u001b[0;34m(exprs, opt)\u001b[0m\n\u001b[1;32m    227\u001b[0m         base, exp \u001b[38;5;241m=\u001b[39m decompose_power_rat(factor)\n\u001b[0;32m--> 229\u001b[0m     monom[\u001b[43mindices\u001b[49m\u001b[43m[\u001b[49m\u001b[43mbase\u001b[49m\u001b[43m]\u001b[49m] \u001b[38;5;241m=\u001b[39m exp\n\u001b[1;32m    230\u001b[0m \u001b[38;5;28;01mexcept\u001b[39;00m \u001b[38;5;167;01mKeyError\u001b[39;00m:\n",
      "\u001b[0;31mKeyError\u001b[0m: 1/(j**11 - 11*j**10*z_n + 55*j**9*z_n**2 - 165*j**8*z_n**3 + 330*j**7*z_n**4 - 462*j**6*z_n**5 - 11*j**6 + 462*j**5*z_n**6 + 66*j**5*z_n - 330*j**4*z_n**7 - 165*j**4*z_n**2 + 165*j**3*z_n**8 + 220*j**3*z_n**3 - 55*j**2*z_n**9 - 165*j**2*z_n**4 + 11*j*z_n**10 + 66*j*z_n**5 - j - z_n**11 - 11*z_n**6 + z_n)",
      "\nDuring handling of the above exception, another exception occurred:\n",
      "\u001b[0;31mPolynomialError\u001b[0m                           Traceback (most recent call last)",
      "Cell \u001b[0;32mIn[63], line 7\u001b[0m\n\u001b[1;32m      3\u001b[0m \u001b[38;5;28;01mfrom\u001b[39;00m\u001b[38;5;250m \u001b[39m\u001b[38;5;21;01mutils\u001b[39;00m\u001b[38;5;250m \u001b[39m\u001b[38;5;28;01mimport\u001b[39;00m j_simp, k_simp, z_simp\n\u001b[1;32m      5\u001b[0m z_n, j \u001b[38;5;241m=\u001b[39m symbols(\u001b[38;5;124m\"\u001b[39m\u001b[38;5;124mz_n j\u001b[39m\u001b[38;5;124m\"\u001b[39m)\n\u001b[0;32m----> 7\u001b[0m z_simp(\u001b[43mj_simp\u001b[49m\u001b[43m(\u001b[49m\u001b[43mseries\u001b[49m\u001b[43m(\u001b[49m\u001b[43mexpr\u001b[49m\u001b[43m,\u001b[49m\u001b[43m \u001b[49m\u001b[43mz\u001b[49m\u001b[43m,\u001b[49m\u001b[43m \u001b[49m\u001b[43mz_n\u001b[49m\u001b[43m \u001b[49m\u001b[38;5;241;43m-\u001b[39;49m\u001b[43m \u001b[49m\u001b[43mj\u001b[49m\u001b[43m,\u001b[49m\u001b[43m \u001b[49m\u001b[43mn\u001b[49m\u001b[38;5;241;43m=\u001b[39;49m\u001b[38;5;241;43m2\u001b[39;49m\u001b[43m)\u001b[49m\u001b[38;5;241;43m.\u001b[39;49m\u001b[43mremoveO\u001b[49m\u001b[43m(\u001b[49m\u001b[43m)\u001b[49m\u001b[43m,\u001b[49m\u001b[43m \u001b[49m\u001b[43mj\u001b[49m\u001b[43m,\u001b[49m\u001b[43m \u001b[49m\u001b[43mz_n\u001b[49m\u001b[43m)\u001b[49m, z_n)\n",
      "File \u001b[0;32m~/Documents/coding/ag_notes/notes/utils.py:137\u001b[0m, in \u001b[0;36mj_simp\u001b[0;34m(expr, j, z_n)\u001b[0m\n\u001b[1;32m    136\u001b[0m \u001b[38;5;28;01mdef\u001b[39;00m\u001b[38;5;250m \u001b[39m\u001b[38;5;21mj_simp\u001b[39m(expr, j, z_n):\n\u001b[0;32m--> 137\u001b[0m     poly \u001b[38;5;241m=\u001b[39m \u001b[43mPoly\u001b[49m\u001b[43m(\u001b[49m\u001b[43mexpr\u001b[49m\u001b[43m,\u001b[49m\u001b[43m \u001b[49m\u001b[43mj\u001b[49m\u001b[43m)\u001b[49m\n\u001b[1;32m    138\u001b[0m     coeffs \u001b[38;5;241m=\u001b[39m poly\u001b[38;5;241m.\u001b[39mall_coeffs()\n\u001b[1;32m    139\u001b[0m     \u001b[38;5;28;01mwhile\u001b[39;00m \u001b[38;5;28mlen\u001b[39m(coeffs) \u001b[38;5;241m>\u001b[39m \u001b[38;5;241m2\u001b[39m:\n",
      "File \u001b[0;32m~/Documents/coding/ag_notes/.venv/lib/python3.13/site-packages/sympy/polys/polytools.py:186\u001b[0m, in \u001b[0;36mPoly.__new__\u001b[0;34m(cls, rep, *gens, **args)\u001b[0m\n\u001b[1;32m    184\u001b[0m     \u001b[38;5;28;01mreturn\u001b[39;00m \u001b[38;5;28mcls\u001b[39m\u001b[38;5;241m.\u001b[39m_from_poly(rep, opt)\n\u001b[1;32m    185\u001b[0m \u001b[38;5;28;01melse\u001b[39;00m:\n\u001b[0;32m--> 186\u001b[0m     \u001b[38;5;28;01mreturn\u001b[39;00m \u001b[38;5;28;43mcls\u001b[39;49m\u001b[38;5;241;43m.\u001b[39;49m\u001b[43m_from_expr\u001b[49m\u001b[43m(\u001b[49m\u001b[43mrep\u001b[49m\u001b[43m,\u001b[49m\u001b[43m \u001b[49m\u001b[43mopt\u001b[49m\u001b[43m)\u001b[49m\n",
      "File \u001b[0;32m~/Documents/coding/ag_notes/.venv/lib/python3.13/site-packages/sympy/polys/polytools.py:315\u001b[0m, in \u001b[0;36mPoly._from_expr\u001b[0;34m(cls, rep, opt)\u001b[0m\n\u001b[1;32m    312\u001b[0m \u001b[38;5;129m@classmethod\u001b[39m\n\u001b[1;32m    313\u001b[0m \u001b[38;5;28;01mdef\u001b[39;00m\u001b[38;5;250m \u001b[39m\u001b[38;5;21m_from_expr\u001b[39m(\u001b[38;5;28mcls\u001b[39m, rep, opt):\n\u001b[1;32m    314\u001b[0m \u001b[38;5;250m    \u001b[39m\u001b[38;5;124;03m\"\"\"Construct a polynomial from an expression. \"\"\"\u001b[39;00m\n\u001b[0;32m--> 315\u001b[0m     rep, opt \u001b[38;5;241m=\u001b[39m \u001b[43m_dict_from_expr\u001b[49m\u001b[43m(\u001b[49m\u001b[43mrep\u001b[49m\u001b[43m,\u001b[49m\u001b[43m \u001b[49m\u001b[43mopt\u001b[49m\u001b[43m)\u001b[49m\n\u001b[1;32m    316\u001b[0m     \u001b[38;5;28;01mreturn\u001b[39;00m \u001b[38;5;28mcls\u001b[39m\u001b[38;5;241m.\u001b[39m_from_dict(rep, opt)\n",
      "File \u001b[0;32m~/Documents/coding/ag_notes/.venv/lib/python3.13/site-packages/sympy/polys/polyutils.py:386\u001b[0m, in \u001b[0;36m_dict_from_expr\u001b[0;34m(expr, opt)\u001b[0m\n\u001b[1;32m    383\u001b[0m         expr \u001b[38;5;241m=\u001b[39m expand_mul(expr)\n\u001b[1;32m    385\u001b[0m \u001b[38;5;28;01mif\u001b[39;00m opt\u001b[38;5;241m.\u001b[39mgens:\n\u001b[0;32m--> 386\u001b[0m     rep, gens \u001b[38;5;241m=\u001b[39m \u001b[43m_dict_from_expr_if_gens\u001b[49m\u001b[43m(\u001b[49m\u001b[43mexpr\u001b[49m\u001b[43m,\u001b[49m\u001b[43m \u001b[49m\u001b[43mopt\u001b[49m\u001b[43m)\u001b[49m\n\u001b[1;32m    387\u001b[0m \u001b[38;5;28;01melse\u001b[39;00m:\n\u001b[1;32m    388\u001b[0m     rep, gens \u001b[38;5;241m=\u001b[39m _dict_from_expr_no_gens(expr, opt)\n",
      "File \u001b[0;32m~/Documents/coding/ag_notes/.venv/lib/python3.13/site-packages/sympy/polys/polyutils.py:325\u001b[0m, in \u001b[0;36m_dict_from_expr_if_gens\u001b[0;34m(expr, opt)\u001b[0m\n\u001b[1;32m    323\u001b[0m \u001b[38;5;28;01mdef\u001b[39;00m\u001b[38;5;250m \u001b[39m\u001b[38;5;21m_dict_from_expr_if_gens\u001b[39m(expr, opt):\n\u001b[1;32m    324\u001b[0m \u001b[38;5;250m    \u001b[39m\u001b[38;5;124;03m\"\"\"Transform an expression into a multinomial form given generators. \"\"\"\u001b[39;00m\n\u001b[0;32m--> 325\u001b[0m     (poly,), gens \u001b[38;5;241m=\u001b[39m \u001b[43m_parallel_dict_from_expr_if_gens\u001b[49m\u001b[43m(\u001b[49m\u001b[43m(\u001b[49m\u001b[43mexpr\u001b[49m\u001b[43m,\u001b[49m\u001b[43m)\u001b[49m\u001b[43m,\u001b[49m\u001b[43m \u001b[49m\u001b[43mopt\u001b[49m\u001b[43m)\u001b[49m\n\u001b[1;32m    326\u001b[0m     \u001b[38;5;28;01mreturn\u001b[39;00m poly, gens\n",
      "File \u001b[0;32m~/Documents/coding/ag_notes/.venv/lib/python3.13/site-packages/sympy/polys/polyutils.py:234\u001b[0m, in \u001b[0;36m_parallel_dict_from_expr_if_gens\u001b[0;34m(exprs, opt)\u001b[0m\n\u001b[1;32m    232\u001b[0m                 coeff\u001b[38;5;241m.\u001b[39mappend(factor)\n\u001b[1;32m    233\u001b[0m             \u001b[38;5;28;01melse\u001b[39;00m:\n\u001b[0;32m--> 234\u001b[0m                 \u001b[38;5;28;01mraise\u001b[39;00m PolynomialError(\u001b[38;5;124m\"\u001b[39m\u001b[38;5;132;01m%s\u001b[39;00m\u001b[38;5;124m contains an element of \u001b[39m\u001b[38;5;124m\"\u001b[39m\n\u001b[1;32m    235\u001b[0m                                       \u001b[38;5;124m\"\u001b[39m\u001b[38;5;124mthe set of generators.\u001b[39m\u001b[38;5;124m\"\u001b[39m \u001b[38;5;241m%\u001b[39m factor)\n\u001b[1;32m    237\u001b[0m monom \u001b[38;5;241m=\u001b[39m \u001b[38;5;28mtuple\u001b[39m(monom)\n\u001b[1;32m    239\u001b[0m \u001b[38;5;28;01mif\u001b[39;00m monom \u001b[38;5;129;01min\u001b[39;00m poly:\n",
      "\u001b[0;31mPolynomialError\u001b[0m: 1/(j**11 - 11*j**10*z_n + 55*j**9*z_n**2 - 165*j**8*z_n**3 + 330*j**7*z_n**4 - 462*j**6*z_n**5 - 11*j**6 + 462*j**5*z_n**6 + 66*j**5*z_n - 330*j**4*z_n**7 - 165*j**4*z_n**2 + 165*j**3*z_n**8 + 220*j**3*z_n**3 - 55*j**2*z_n**9 - 165*j**2*z_n**4 + 11*j*z_n**10 + 66*j*z_n**5 - j - z_n**11 - 11*z_n**6 + z_n) contains an element of the set of generators."
     ]
    }
   ],
   "source": [
    "from sympy import series\n",
    "\n",
    "from utils import j_simp, k_simp, z_simp\n",
    "\n",
    "z_n, j = symbols(\"z_n j\")\n",
    "\n",
    "z_simp(j_simp(series(expr, z, z_n - j, n=2).removeO(), j, z_n), z_n)"
   ]
  },
  {
   "cell_type": "code",
   "execution_count": null,
   "metadata": {},
   "outputs": [
    {
     "data": {
      "text/latex": [
       "$\\displaystyle \\left(z^{20} - 228 z^{15} + 494 z^{10} + 228 z^{5} + 1\\right)^{3}$"
      ],
      "text/plain": [
       "(z**20 - 228*z**15 + 494*z**10 + 228*z**5 + 1)**3"
      ]
     },
     "execution_count": 59,
     "metadata": {},
     "output_type": "execute_result"
    }
   ],
   "source": [
    "expr2 = (H**3).subs(u, z).subs(v, 1)\n",
    "expr2"
   ]
  },
  {
   "cell_type": "code",
   "execution_count": null,
   "metadata": {},
   "outputs": [
    {
     "data": {
      "text/latex": [
       "$\\displaystyle - 75413619148164581909179687500 j + z_{n} \\left(122021798996369555969238281250 j + 232099254131109928588867187500\\right) - 143445227816524921356201171875$"
      ],
      "text/plain": [
       "-75413619148164581909179687500*j + z_n*(122021798996369555969238281250*j + 232099254131109928588867187500) - 143445227816524921356201171875"
      ]
     },
     "execution_count": 62,
     "metadata": {},
     "output_type": "execute_result"
    }
   ],
   "source": [
    "from sympy import series\n",
    "\n",
    "from utils import k_simp, z_simp, j_simp\n",
    "\n",
    "z_n, j = symbols(\"z_n j\")\n",
    "\n",
    "z_simp(j_simp(series(-expr2 / 1728, z, z_n - j, n=1).removeO(), j, z_n), z_n)"
   ]
  },
  {
   "cell_type": "code",
   "execution_count": 36,
   "metadata": {},
   "outputs": [
    {
     "data": {
      "text/latex": [
       "$\\displaystyle 0.284079043840412 + 5.0 \\cdot 10^{-26} i$"
      ],
      "text/plain": [
       "0.284079043840412 + 0.e-25*I"
      ]
     },
     "execution_count": 36,
     "metadata": {},
     "output_type": "execute_result"
    }
   ],
   "source": [
    "from sympy import exp\n",
    "\n",
    "\n",
    "edge_val = (\n",
    "    (z_n + j)\n",
    "    .subs(j, sqrt(2 - z_n))\n",
    "    .subs(z_n, e**2 + e**3)\n",
    "    .subs(e, exp(2 * pi * I / 5))\n",
    "    .evalf()\n",
    ")\n",
    "edge_val\n"
   ]
  },
  {
   "cell_type": "code",
   "execution_count": null,
   "metadata": {},
   "outputs": [
    {
     "data": {
      "text/latex": [
       "$\\displaystyle 0.284079043840412 + 5.0 \\cdot 10^{-26} i$"
      ],
      "text/plain": [
       "0.284079043840412 + 0.e-25*I"
      ]
     },
     "execution_count": 85,
     "metadata": {},
     "output_type": "execute_result"
    }
   ],
   "source": [
    "from sympy import exp\n",
    "\n",
    "\n",
    "edge_val = (\n",
    "    (z_n + j)\n",
    "    .subs(j, sqrt(2 - z_n))\n",
    "    .subs(z_n, e**2 + e**3)\n",
    "    .subs(e, exp(2 * pi * I / 5))\n",
    "    .evalf()\n",
    ")\n",
    "edge_val\n"
   ]
  },
  {
   "cell_type": "code",
   "execution_count": null,
   "metadata": {},
   "outputs": [
    {
     "data": {
      "text/latex": [
       "$\\displaystyle e^{3}$"
      ],
      "text/plain": [
       "e**3"
      ]
     },
     "execution_count": 78,
     "metadata": {},
     "output_type": "execute_result"
    }
   ],
   "source": [
    "e_simp(e**8, e)"
   ]
  },
  {
   "cell_type": "code",
   "execution_count": null,
   "metadata": {},
   "outputs": [
    {
     "data": {
      "text/latex": [
       "$\\displaystyle - \\frac{307063701824}{27} + O\\left(z - 1; z\\rightarrow 1\\right)$"
      ],
      "text/plain": [
       "-307063701824/27 + O(z - 1, (z, 1))"
      ]
     },
     "execution_count": 91,
     "metadata": {},
     "output_type": "execute_result"
    }
   ],
   "source": [
    "series(-expr2 / (1728 / expr), z, 1, n=1)"
   ]
  }
 ],
 "metadata": {
  "kernelspec": {
   "display_name": "ag_notes",
   "language": "python",
   "name": "python3"
  },
  "language_info": {
   "codemirror_mode": {
    "name": "ipython",
    "version": 3
   },
   "file_extension": ".py",
   "mimetype": "text/x-python",
   "name": "python",
   "nbconvert_exporter": "python",
   "pygments_lexer": "ipython3",
   "version": "3.13.3"
  }
 },
 "nbformat": 4,
 "nbformat_minor": 2
}
