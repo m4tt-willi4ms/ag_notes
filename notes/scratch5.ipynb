{
 "cells": [
  {
   "cell_type": "code",
   "execution_count": 6,
   "metadata": {},
   "outputs": [],
   "source": [
    "from sympy import I, Poly, sqrt, symbols\n",
    "from utils import e_simp, j_simp, reduce_multiply, z_simp"
   ]
  },
  {
   "cell_type": "code",
   "execution_count": 7,
   "metadata": {},
   "outputs": [],
   "source": [
    "z_n, k, j = symbols(\"z_n k j\")"
   ]
  },
  {
   "cell_type": "code",
   "execution_count": 8,
   "metadata": {},
   "outputs": [],
   "source": [
    "expr = z_simp((3 * (3 + z_n) + 2 * sqrt(3) * k + 3) * (6 - 3 * (1 + z_n)), z_n)"
   ]
  },
  {
   "cell_type": "code",
   "execution_count": null,
   "metadata": {},
   "outputs": [],
   "source": [
    "(expr - 9).factor()"
   ]
  },
  {
   "cell_type": "code",
   "execution_count": 10,
   "metadata": {},
   "outputs": [],
   "source": [
    "expr = (j + z_n - 1) * (j - z_n - 1) * (1 + z_n) / (-2)"
   ]
  },
  {
   "cell_type": "code",
   "execution_count": null,
   "metadata": {},
   "outputs": [],
   "source": [
    "z_simp(j_simp(expr, j, z_n), z_n).factor()"
   ]
  },
  {
   "cell_type": "code",
   "execution_count": null,
   "metadata": {},
   "outputs": [],
   "source": [
    "u, v, e, x, z_n, j = symbols(\"u v e x z_n j\")\n",
    "\n",
    "v_1 = j + z_n\n",
    "v_1h = z_n - j\n",
    "v_2 = (j - 1) * (1 + z_n)\n",
    "v_2h = -(1 + j) * (1 + z_n)\n",
    "v_3 = I\n",
    "v_3h = -I\n",
    "\n",
    "expr = reduce_multiply([u - e**k * x * v for k in range(5)])\n",
    "expr"
   ]
  },
  {
   "cell_type": "code",
   "execution_count": null,
   "metadata": {},
   "outputs": [],
   "source": [
    "expr = Poly(expr.expand(), u).as_expr()\n",
    "expr"
   ]
  },
  {
   "cell_type": "code",
   "execution_count": null,
   "metadata": {},
   "outputs": [],
   "source": [
    "e_simp(expr, e)"
   ]
  },
  {
   "cell_type": "code",
   "execution_count": null,
   "metadata": {},
   "outputs": [],
   "source": [
    "expr = reduce_multiply([u - x * v for x in [v_1, v_1h, v_2, v_2h, v_3, v_3h]])\n",
    "expr"
   ]
  },
  {
   "cell_type": "code",
   "execution_count": null,
   "metadata": {},
   "outputs": [],
   "source": [
    "expr = j_simp(expr, j, z_n)\n",
    "expr"
   ]
  },
  {
   "cell_type": "code",
   "execution_count": null,
   "metadata": {},
   "outputs": [],
   "source": [
    "z_simp(j_simp(z_simp(expr, z_n), j, z_n), z_n)"
   ]
  },
  {
   "cell_type": "code",
   "execution_count": null,
   "metadata": {},
   "outputs": [],
   "source": [
    "from utils import e_simp\n",
    "\n",
    "expr2 = e_simp(expr.expand(), e)\n",
    "expr2"
   ]
  },
  {
   "cell_type": "code",
   "execution_count": null,
   "metadata": {},
   "outputs": [],
   "source": [
    "expr = reduce_multiply([u**5 - x**5 * v**5 for x in [v_1, v_1h, v_2, v_2h, v_3, v_3h]])\n",
    "expr.expand()"
   ]
  },
  {
   "cell_type": "code",
   "execution_count": null,
   "metadata": {},
   "outputs": [],
   "source": [
    "z_simp(j_simp(expr, j, z_n), z_n)"
   ]
  },
  {
   "cell_type": "code",
   "execution_count": null,
   "metadata": {},
   "outputs": [],
   "source": [
    "from itertools import combinations\n",
    "\n",
    "from sympy import acos, cos, pi, sin\n",
    "from utils import dot_product_from_complex_vals\n",
    "\n",
    "k, alpha = symbols(\"k alpha\")\n",
    "w_1 = (1 - (k + 1) * z_n) / 2\n",
    "w_1h = (1 + (k - 1) * z_n) / 2\n",
    "w_6 = (2 + z_n - k) / 2\n",
    "w_6h = (2 + z_n + k) / 2\n",
    "\n",
    "for i, j in combinations([w_1, w_1h, w_6, w_6h], 2):\n",
    "    i = (\n",
    "        i.subs(k, sqrt(3) / cos(alpha))\n",
    "        .subs(alpha, acos(1 / 2 / sin(pi / 5)))\n",
    "        .subs(z_n, -(1 + sqrt(5)) / 2)\n",
    "    )\n",
    "    j = (\n",
    "        j.subs(k, sqrt(3) / cos(alpha))\n",
    "        .subs(alpha, acos(1 / 2 / sin(pi / 5)))\n",
    "        .subs(z_n, -(1 + sqrt(5)) / 2)\n",
    "    )\n",
    "    print(dot_product_from_complex_vals(i, j).evalf())"
   ]
  },
  {
   "cell_type": "code",
   "execution_count": null,
   "metadata": {},
   "outputs": [],
   "source": [
    "val1 = (\n",
    "    w_1.subs(k, sqrt(3) / cos(alpha))\n",
    "    .subs(alpha, acos(1 / 2 / sin(pi / 5)))\n",
    "    .subs(z_n, -(1 + sqrt(5)) / 2)\n",
    ")\n",
    "\n",
    "for i in range(5):\n",
    "    val2 = e**i * w_1h\n",
    "    val2 = (\n",
    "        val2.subs(k, sqrt(3) / cos(alpha))\n",
    "        .subs(alpha, acos(1 / 2 / sin(pi / 5)))\n",
    "        .subs(z_n, -(1 + sqrt(5)) / 2)\n",
    "        .subs(e, cos(2 * pi / 5) + I * sin(2 * pi / 5))\n",
    "    )\n",
    "    print(dot_product_from_complex_vals(val1, val2).evalf())"
   ]
  },
  {
   "cell_type": "code",
   "execution_count": null,
   "metadata": {},
   "outputs": [],
   "source": [
    "val1 = (\n",
    "    w_1.subs(k, sqrt(3) / cos(alpha))\n",
    "    .subs(alpha, acos(1 / 2 / sin(pi / 5)))\n",
    "    .subs(z_n, -(1 + sqrt(5)) / 2)\n",
    ")\n",
    "\n",
    "for i in range(5):\n",
    "    val2 = e**i * w_6\n",
    "    val2 = (\n",
    "        val2.subs(k, sqrt(3) / cos(alpha))\n",
    "        .subs(alpha, acos(1 / 2 / sin(pi / 5)))\n",
    "        .subs(z_n, -(1 + sqrt(5)) / 2)\n",
    "        .subs(e, cos(2 * pi / 5) + I * sin(2 * pi / 5))\n",
    "    )\n",
    "    print(f\"{i}:\" + str(dot_product_from_complex_vals(val1, val2).evalf()))"
   ]
  },
  {
   "cell_type": "code",
   "execution_count": null,
   "metadata": {},
   "outputs": [],
   "source": [
    "val1 = (\n",
    "    w_1.subs(k, sqrt(3) / cos(alpha))\n",
    "    .subs(alpha, acos(1 / 2 / sin(pi / 5)))\n",
    "    .subs(z_n, -(1 + sqrt(5)) / 2)\n",
    ")\n",
    "\n",
    "for i in range(5):\n",
    "    val2 = e**i * w_6h\n",
    "    val2 = (\n",
    "        val2.subs(k, sqrt(3) / cos(alpha))\n",
    "        .subs(alpha, acos(1 / 2 / sin(pi / 5)))\n",
    "        .subs(z_n, -(1 + sqrt(5)) / 2)\n",
    "        .subs(e, cos(2 * pi / 5) + I * sin(2 * pi / 5))\n",
    "    )\n",
    "    print(dot_product_from_complex_vals(val1, val2).evalf())"
   ]
  },
  {
   "cell_type": "code",
   "execution_count": null,
   "metadata": {},
   "outputs": [],
   "source": [
    "from sympy import fraction\n",
    "\n",
    "z_n, z_m, u, v = symbols(\"z_n z_m u v\")\n",
    "vals = [\n",
    "    z_n,\n",
    "    (z_n - 1) / (1 + z_n),\n",
    "    (z_m - 1) / (1 + z_m),\n",
    "    z_m,\n",
    "]\n",
    "\n",
    "expr = Poly(reduce_multiply([u - x * v for x in vals]), u)\n",
    "expr = expr.as_expr().subs(z_m * z_n, -1)\n",
    "expr"
   ]
  },
  {
   "cell_type": "code",
   "execution_count": null,
   "metadata": {},
   "outputs": [],
   "source": [
    "n, d = fraction(expr.factor())\n",
    "num = Poly(expr, u)  # .as_expr()\n",
    "num\n",
    "new_coeffs = []\n",
    "for coeff in num.all_coeffs():\n",
    "    new_coeffs.append(coeff.factor())\n",
    "    print(coeff.factor())\n",
    "Poly.from_list(new_coeffs, u).as_expr()"
   ]
  },
  {
   "cell_type": "code",
   "execution_count": null,
   "metadata": {},
   "outputs": [],
   "source": [
    "A, u, v = symbols(\"A u v\")\n",
    "\n",
    "expr = (u**2 + v**2) * (u**4 + A * (u**3 * v - v**3 * u) - 6 * u**2 * v**2 + v**4)\n",
    "expr = Poly(expr.expand(), u).as_expr()\n",
    "expr"
   ]
  },
  {
   "cell_type": "code",
   "execution_count": null,
   "metadata": {},
   "outputs": [],
   "source": [
    "k = symbols(\"k\")\n",
    "e_simp(\n",
    "    (\n",
    "        expr.subs(v, e ** (k / 2) * v).subs(u, e ** (-k / 2) * u).subs(k, 1) * e**3\n",
    "    ).expand(),\n",
    "    e,\n",
    ")"
   ]
  },
  {
   "cell_type": "code",
   "execution_count": null,
   "metadata": {},
   "outputs": [],
   "source": [
    "(expr.subs(v, e ** (k / 2) * v).subs(u, e ** (-k / 2) * u) * e ** (3 * k)).expand()"
   ]
  },
  {
   "cell_type": "code",
   "execution_count": null,
   "metadata": {},
   "outputs": [],
   "source": [
    "expr"
   ]
  },
  {
   "cell_type": "code",
   "execution_count": null,
   "metadata": {},
   "outputs": [],
   "source": [
    "from sympy import Rational\n",
    "\n",
    "[\n",
    "    (\n",
    "        expr.subs(v, e ** (Rational(k, 2)) * v).subs(u, e ** (Rational(k, 2)) * u)\n",
    "        * e ** (3 * k)\n",
    "    ).expand()\n",
    "    for k in range(5)\n",
    "]"
   ]
  },
  {
   "cell_type": "code",
   "execution_count": null,
   "metadata": {},
   "outputs": [],
   "source": [
    "expr1 = expr.subs(A, 2)\n",
    "expr1"
   ]
  },
  {
   "cell_type": "code",
   "execution_count": null,
   "metadata": {},
   "outputs": [],
   "source": [
    "O1 = expr1\n",
    "O2 = e_simp(expr1.subs(v, e * v), e)\n",
    "O2 = Poly(O2, u).as_expr()\n",
    "O2"
   ]
  },
  {
   "cell_type": "code",
   "execution_count": null,
   "metadata": {},
   "outputs": [],
   "source": [
    "O3 = e_simp(expr1.subs(v, e**2 * v), e)\n",
    "O3 = Poly(O3, u).as_expr()\n",
    "O3"
   ]
  },
  {
   "cell_type": "code",
   "execution_count": null,
   "metadata": {},
   "outputs": [],
   "source": [
    "X, Y, F, D, E = symbols(\"X Y F D E\")\n",
    "\n",
    "expr3 = reduce_multiply(\n",
    "    [X - F - (X - E) * e_simp(expr1.subs(v, e**k * v), e) for k in range(5)]\n",
    ")\n",
    "expr3 = Poly(e_simp(expr3, e), X).as_expr()\n",
    "expr3"
   ]
  },
  {
   "cell_type": "code",
   "execution_count": null,
   "metadata": {},
   "outputs": [],
   "source": [
    "p = Poly(expr3, X)\n",
    "p.all_coeffs()[1].factor()"
   ]
  },
  {
   "cell_type": "code",
   "execution_count": null,
   "metadata": {},
   "outputs": [],
   "source": [
    "polyx = Poly(expr3.subs(F, (-(u**6) + 2 * u * v**5)).expand(), X)\n",
    "polyx.as_expr()"
   ]
  },
  {
   "cell_type": "code",
   "execution_count": 38,
   "metadata": {},
   "outputs": [],
   "source": [
    "expr = expr3.subs(F, 0)"
   ]
  },
  {
   "cell_type": "code",
   "execution_count": null,
   "metadata": {},
   "outputs": [],
   "source": [
    "y, a, b, c, d, e, z, m, n, x = symbols(\"y a b c d e z m n x\")\n",
    "\n",
    "expr = Poly(expr.subs(X, x).subs(x, X - m / 2), X)\n",
    "expr.as_expr()"
   ]
  },
  {
   "cell_type": "code",
   "execution_count": null,
   "metadata": {},
   "outputs": [],
   "source": [
    "expry = z * (z**2 + b * z + d) ** 2 - (a * z**2 + c * z + e) ** 2\n",
    "expry = expry.subs(z, y - n + m**2 / 4).expand()\n",
    "expry = Poly(expry, y).as_expr()\n",
    "expry\n"
   ]
  },
  {
   "cell_type": "code",
   "execution_count": null,
   "metadata": {},
   "outputs": [],
   "source": [
    "expry = Poly(\n",
    "    expry.subs(n, m**2 / 4 + Rational(2, 5) * b - Rational(1, 5) * a**2).simplify(), y\n",
    ")\n",
    "expry.as_expr()"
   ]
  },
  {
   "cell_type": "code",
   "execution_count": null,
   "metadata": {},
   "outputs": [],
   "source": [
    "coeffs = expr.all_coeffs()\n",
    "m_expr = (\n",
    "    expry.all_coeffs()[3]\n",
    "    .subs(a, coeffs[1])\n",
    "    .subs(b, coeffs[2])\n",
    "    .subs(c, coeffs[3])\n",
    "    .subs(d, coeffs[4])\n",
    "    .subs(e, coeffs[5])\n",
    "    .simplify()\n",
    ")\n",
    "m_expr2 = Poly(m_expr, m).as_expr()\n",
    "m_expr2"
   ]
  },
  {
   "cell_type": "code",
   "execution_count": null,
   "metadata": {},
   "outputs": [],
   "source": [
    "Poly(m_expr2.subs(m, z).subs(z, m - Rational(3325, 8) * u * v**5).expand(), m).as_expr()"
   ]
  },
  {
   "cell_type": "code",
   "execution_count": null,
   "metadata": {},
   "outputs": [],
   "source": [
    "Rational(66500, 160)"
   ]
  },
  {
   "cell_type": "code",
   "execution_count": null,
   "metadata": {},
   "outputs": [],
   "source": [
    "p = Poly(expr3.subs(F, (-(u**6) + 2 * u * v**5) * (1 + D)).expand(), X)\n",
    "p.all_coeffs()[3].factor()"
   ]
  },
  {
   "cell_type": "code",
   "execution_count": null,
   "metadata": {},
   "outputs": [],
   "source": [
    "from sympy import Pow\n",
    "\n",
    "Y * Pow(E * Y**2 + F, -1)"
   ]
  },
  {
   "cell_type": "code",
   "execution_count": null,
   "metadata": {},
   "outputs": [],
   "source": [
    "E, F, G = symbols(\"E F G\")\n",
    "expr5 = Poly(\n",
    "    ((expr3.subs(X, (Y - A) * Pow(G, -1))) * G**5)\n",
    "    .expand()\n",
    "    .subs(G, E * Y**2 + F)\n",
    "    .expand(),\n",
    "    Y,\n",
    ").as_expr()\n",
    "expr5"
   ]
  },
  {
   "cell_type": "code",
   "execution_count": null,
   "metadata": {},
   "outputs": [],
   "source": [
    "from sympy import resultant\n",
    "\n",
    "M, N, P = symbols(\"M N P\")\n",
    "coeffs = Poly(resultant(expr3, Y - X**2 - M * X - N), Y).all_coeffs()\n",
    "len(coeffs)"
   ]
  },
  {
   "cell_type": "code",
   "execution_count": null,
   "metadata": {},
   "outputs": [],
   "source": [
    "coeffs[-1]"
   ]
  },
  {
   "cell_type": "code",
   "execution_count": null,
   "metadata": {},
   "outputs": [],
   "source": [
    "expr4 = Poly(\n",
    "    expr3.subs(X, Y - (-5 * u**6 + 10 * u * v**5) * Rational(1, 5)), Y\n",
    ").as_expr()\n",
    "expr4"
   ]
  },
  {
   "cell_type": "code",
   "execution_count": null,
   "metadata": {},
   "outputs": [],
   "source": [
    "A, B, C, D, E, X, Y, G, H, J = symbols(\"A B C D E X Y G H J\")\n",
    "expr = X**5 + A * X**4 + B * X**3 + C * X**2 + D * X + E\n",
    "expr = Poly(expr.subs(X, Y - G - H * Y), Y).as_expr()\n",
    "expr"
   ]
  },
  {
   "cell_type": "code",
   "execution_count": null,
   "metadata": {},
   "outputs": [],
   "source": [
    "A, B, C, D, E, X, Y, G, H, J = symbols(\"A B C D E X Y G H J\")\n",
    "expr = X**5 + A * X**4 + B * X**3 + C * X**2 + D * X + E\n",
    "expr = Poly(expr.subs(X, Y - A * Rational(1, 5)), Y).as_expr()\n",
    "expr"
   ]
  },
  {
   "cell_type": "code",
   "execution_count": null,
   "metadata": {},
   "outputs": [],
   "source": [
    "expr2 = reduce_multiply([expr.subs(v, e**k * v) for k in range(5)])\n",
    "expr2 = e_simp(expr2, e)\n",
    "expr2 = Poly(expr2, u).as_expr()\n",
    "expr2"
   ]
  },
  {
   "cell_type": "code",
   "execution_count": null,
   "metadata": {},
   "outputs": [],
   "source": [
    "(A**5 + 25 * A**3 + 145 * A).factor()\n",
    "(A**4 * 20 + 740 * A**2 + 6725).factor()"
   ]
  },
  {
   "cell_type": "code",
   "execution_count": null,
   "metadata": {},
   "outputs": [],
   "source": [
    "740 / 20"
   ]
  },
  {
   "cell_type": "code",
   "execution_count": null,
   "metadata": {},
   "outputs": [],
   "source": [
    "10005 - 6725"
   ]
  },
  {
   "cell_type": "code",
   "execution_count": null,
   "metadata": {},
   "outputs": [],
   "source": [
    "3280 / 20"
   ]
  },
  {
   "cell_type": "code",
   "execution_count": null,
   "metadata": {},
   "outputs": [],
   "source": [
    "164 + 145"
   ]
  },
  {
   "cell_type": "code",
   "execution_count": null,
   "metadata": {},
   "outputs": [],
   "source": [
    "309 / 37"
   ]
  },
  {
   "cell_type": "code",
   "execution_count": null,
   "metadata": {},
   "outputs": [],
   "source": [
    "25 - 37"
   ]
  },
  {
   "cell_type": "code",
   "execution_count": null,
   "metadata": {},
   "outputs": [],
   "source": [
    "(309 - 12 * A**2).factor()"
   ]
  },
  {
   "cell_type": "code",
   "execution_count": null,
   "metadata": {},
   "outputs": [],
   "source": [
    "522 / 3"
   ]
  },
  {
   "cell_type": "code",
   "execution_count": null,
   "metadata": {},
   "outputs": [],
   "source": [
    "B = symbols(\"B\")\n",
    "(B**2 + 37 * B - 164).factor()"
   ]
  },
  {
   "cell_type": "code",
   "execution_count": null,
   "metadata": {},
   "outputs": [],
   "source": [
    "174 / (103 - 16)"
   ]
  },
  {
   "cell_type": "code",
   "execution_count": null,
   "metadata": {},
   "outputs": [],
   "source": [
    "(2 * B - 4 + B**2).factor()"
   ]
  }
 ],
 "metadata": {
  "kernelspec": {
   "display_name": ".venv",
   "language": "python",
   "name": "python3"
  },
  "language_info": {
   "codemirror_mode": {
    "name": "ipython",
    "version": 3
   },
   "file_extension": ".py",
   "mimetype": "text/x-python",
   "name": "python",
   "nbconvert_exporter": "python",
   "pygments_lexer": "ipython3",
   "version": "3.11.6"
  }
 },
 "nbformat": 4,
 "nbformat_minor": 2
}
