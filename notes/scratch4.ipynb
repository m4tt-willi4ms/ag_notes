{
 "cells": [
  {
   "cell_type": "code",
   "execution_count": 1,
   "metadata": {},
   "outputs": [],
   "source": [
    "from utils import e_simp, j_simp, z_simp"
   ]
  },
  {
   "cell_type": "code",
   "execution_count": 2,
   "metadata": {},
   "outputs": [],
   "source": [
    "from sympy import symbols\n",
    "\n",
    "e, v_1, z_n, j = symbols(\"e v_1 z_n j\")"
   ]
  },
  {
   "cell_type": "code",
   "execution_count": null,
   "metadata": {},
   "outputs": [],
   "source": [
    "expr = z_simp(\n",
    "    j_simp(\n",
    "        e_simp(e**2 * (e**4 * v_1 * z_n + 1) * (e * v_1 - z_n) ** 2, e)\n",
    "        .subs(v_1, j + z_n)\n",
    "        .expand(),\n",
    "        j,\n",
    "        z_n,\n",
    "    ),\n",
    "    z_n,\n",
    ")\n",
    "expr"
   ]
  },
  {
   "cell_type": "code",
   "execution_count": null,
   "metadata": {},
   "outputs": [],
   "source": [
    "e_simp(expr.subs(z_n, e**2 + e**3), e)"
   ]
  },
  {
   "cell_type": "code",
   "execution_count": null,
   "metadata": {},
   "outputs": [],
   "source": [
    "from sympy import Poly\n",
    "\n",
    "expr = Poly(_, j)\n",
    "expr.as_expr()"
   ]
  },
  {
   "cell_type": "code",
   "execution_count": null,
   "metadata": {},
   "outputs": [],
   "source": [
    "z_simp((4 - 2 * z_n) ** 2 - (2 - z_n) * (1 + 2 * z_n) ** 2, z_n)"
   ]
  },
  {
   "cell_type": "code",
   "execution_count": null,
   "metadata": {},
   "outputs": [],
   "source": [
    "v_9 = e**3 * (e * v_1 * z_n + 1) / (e * v_1 - z_n)\n",
    "v_9"
   ]
  },
  {
   "cell_type": "code",
   "execution_count": null,
   "metadata": {},
   "outputs": [],
   "source": [
    "from sympy import I, acos, cos, cot, pi, sqrt\n",
    "\n",
    "alpha = symbols(\"alpha\")\n",
    "\n",
    "v_9.subs(e, cos(2 * pi / 5) + I * sin(2 * pi / 5)).subs(\n",
    "    v_1, -cot(alpha / 2).subs(alpha, acos(1 / 2 / sin(pi / 5)))\n",
    ").subs(z_n, -(1 + sqrt(5)) / 2).evalf()"
   ]
  },
  {
   "cell_type": "code",
   "execution_count": null,
   "metadata": {},
   "outputs": [],
   "source": [
    "expr = v_1**2 + v_1 + z_n**2\n",
    "Poly(z_simp(j_simp(expr.subs(v_1, j + z_n), j, z_n), z_n), j).as_expr()"
   ]
  },
  {
   "cell_type": "code",
   "execution_count": null,
   "metadata": {},
   "outputs": [],
   "source": [
    "expr = (2 * z_n + 1) ** 2 * (2 - z_n) - (4 - 2 * z_n) ** 2\n",
    "z_simp(expr, z_n)"
   ]
  },
  {
   "cell_type": "code",
   "execution_count": null,
   "metadata": {},
   "outputs": [],
   "source": [
    "z_simp((15 * z_n - 10) * (15 * (1 + z_n) + 10), z_n)"
   ]
  },
  {
   "cell_type": "code",
   "execution_count": null,
   "metadata": {},
   "outputs": [],
   "source": [
    "num = (\n",
    "    e**3\n",
    "    * (e * v_1 * z_n + 1)\n",
    "    * (e**4 * v_1 - z_n)\n",
    "    * (j * (2 * z_n + 1) - 4 + 2 * z_n)\n",
    "    * (15 * (1 + z_n) + 10)\n",
    ")\n",
    "num"
   ]
  },
  {
   "cell_type": "code",
   "execution_count": null,
   "metadata": {},
   "outputs": [],
   "source": [
    "((e * v_1 * z_n + 1) * (e**4 * v_1 - z_n)).expand()"
   ]
  },
  {
   "cell_type": "code",
   "execution_count": null,
   "metadata": {},
   "outputs": [],
   "source": [
    "factor = j * (2 * z_n + 1) - 4 + 2 * z_n\n",
    "z_simp(factor.subs(j, v_1 - z_n), z_n)"
   ]
  },
  {
   "cell_type": "code",
   "execution_count": null,
   "metadata": {},
   "outputs": [],
   "source": [
    "v_9 = (e_simp(j_simp(num.subs(v_1, j + z_n), j, z_n).subs(z_n, e**2 + e**3), e)) / (-25)\n",
    "v_9 = v_9.factor()\n",
    "v_9"
   ]
  },
  {
   "cell_type": "code",
   "execution_count": null,
   "metadata": {},
   "outputs": [],
   "source": [
    "from sympy import sin\n",
    "\n",
    "v_9.subs(e**3, z_n - e**2).subs(j, -1 / sin(alpha)).subs(\n",
    "    alpha, acos(1 / 2 / sin(pi / 5))\n",
    ").subs(z_n, -(1 + sqrt(5)) / 2).evalf()"
   ]
  },
  {
   "cell_type": "code",
   "execution_count": null,
   "metadata": {},
   "outputs": [],
   "source": [
    "expr = v_1**2 - z_n**2 * v_1 + z_n**2\n",
    "Poly(z_simp(j_simp(expr.subs(v_1, j + z_n), j, z_n), z_n), j).as_expr()"
   ]
  },
  {
   "cell_type": "code",
   "execution_count": null,
   "metadata": {},
   "outputs": [],
   "source": [
    "expr = (3 * z_n - 1) ** 2 * j**2 - (5 * z_n - 5) ** 2\n",
    "z_simp(j_simp(expr, j, z_n), z_n)"
   ]
  },
  {
   "cell_type": "code",
   "execution_count": null,
   "metadata": {},
   "outputs": [],
   "source": [
    "z_simp((20 * z_n - 15) * (20 * (1 + z_n) + 15), z_n)"
   ]
  },
  {
   "cell_type": "code",
   "execution_count": null,
   "metadata": {},
   "outputs": [],
   "source": [
    "num = (\n",
    "    e**4\n",
    "    * (e**2 * v_1 * z_n + 1)\n",
    "    * (e**3 * v_1 - z_n)\n",
    "    * (j * (3 * z_n - 1) + 5 * z_n - 5)\n",
    "    * (20 * (1 + z_n) + 15)\n",
    ")\n",
    "num"
   ]
  },
  {
   "cell_type": "code",
   "execution_count": null,
   "metadata": {},
   "outputs": [],
   "source": [
    "e_simp(\n",
    "    z_simp(j_simp(num.subs(v_1, j + z_n), j, z_n), z_n).subs(z_n, e**2 + e**3),\n",
    "    e,\n",
    "    full=False,\n",
    ")"
   ]
  },
  {
   "cell_type": "code",
   "execution_count": null,
   "metadata": {},
   "outputs": [],
   "source": [
    "_.subs(e, cos(2 * pi / 5) + I * sin(2 * pi / 5)).subs(j, -1 / sin(alpha)).subs(\n",
    "    alpha, acos(1 / 2 / sin(pi / 5))\n",
    ").evalf()"
   ]
  },
  {
   "cell_type": "code",
   "execution_count": null,
   "metadata": {},
   "outputs": [],
   "source": [
    "z_simp((3 + z_n) * (3 - (1 + z_n)), z_n)"
   ]
  },
  {
   "cell_type": "code",
   "execution_count": null,
   "metadata": {},
   "outputs": [],
   "source": [
    "e_simp((e**3 - e**2) * (2 + 4 * e + e**2 + 3 * e**3) * (2 - e**2 - e**3), e)"
   ]
  },
  {
   "cell_type": "code",
   "execution_count": null,
   "metadata": {},
   "outputs": [],
   "source": [
    "from icosahedron import reduce_multiply\n",
    "\n",
    "u, v = symbols(\"u v\")\n",
    "e_simp(reduce_multiply([(u - I * e**p * v) * (u + I * e**p * v) for p in range(5)]), e)"
   ]
  },
  {
   "cell_type": "code",
   "execution_count": 132,
   "metadata": {},
   "outputs": [],
   "source": [
    "expr = e_simp(\n",
    "    reduce_multiply(\n",
    "        [\n",
    "            (u - (j - 1) * (1 + z_n) * e**p * v) * (u + (1 + j) * (1 + z_n) * e**p * v)\n",
    "            for p in range(5)\n",
    "        ]\n",
    "    ),\n",
    "    e,\n",
    ")"
   ]
  },
  {
   "cell_type": "code",
   "execution_count": null,
   "metadata": {},
   "outputs": [],
   "source": [
    "f1 = z_simp(j_simp(expr, j, z_n), z_n)\n",
    "f1"
   ]
  },
  {
   "cell_type": "code",
   "execution_count": 134,
   "metadata": {},
   "outputs": [],
   "source": [
    "expr = e_simp(\n",
    "    reduce_multiply(\n",
    "        [(u - (z_n - j) * e**p * v) * (u - (z_n + j) * e**p * v) for p in range(5)]\n",
    "    ),\n",
    "    e,\n",
    ")"
   ]
  },
  {
   "cell_type": "code",
   "execution_count": null,
   "metadata": {},
   "outputs": [],
   "source": [
    "f2 = z_simp(j_simp(expr, j, z_n), z_n)\n",
    "f2"
   ]
  },
  {
   "cell_type": "code",
   "execution_count": null,
   "metadata": {},
   "outputs": [],
   "source": [
    "z_simp(f1 * f2, z_n)"
   ]
  },
  {
   "cell_type": "code",
   "execution_count": null,
   "metadata": {},
   "outputs": [],
   "source": []
  }
 ],
 "metadata": {
  "kernelspec": {
   "display_name": ".venv",
   "language": "python",
   "name": "python3"
  },
  "language_info": {
   "codemirror_mode": {
    "name": "ipython",
    "version": 3
   },
   "file_extension": ".py",
   "mimetype": "text/x-python",
   "name": "python",
   "nbconvert_exporter": "python",
   "pygments_lexer": "ipython3",
   "version": "3.11.6"
  }
 },
 "nbformat": 4,
 "nbformat_minor": 2
}
