{
 "cells": [
  {
   "cell_type": "code",
   "execution_count": 1,
   "metadata": {},
   "outputs": [],
   "source": [
    "# Imports\n",
    "from functools import reduce\n",
    "from itertools import combinations\n",
    "from sympy import (\n",
    "    I,\n",
    "    symbols,\n",
    "    sqrt,\n",
    "    Rational,\n",
    "    conjugate,\n",
    "    simplify,\n",
    "    Poly,\n",
    "    Matrix,\n",
    "    expand,\n",
    "    diff,\n",
    "    exp,\n",
    "    cos,\n",
    "    tan,\n",
    "    sin,\n",
    "    oo,\n",
    "    pi,\n",
    ")\n",
    "\n",
    "from utils import phi_simp, n_simp, tetrahedral_angle_check"
   ]
  },
  {
   "cell_type": "markdown",
   "metadata": {},
   "source": [
    "## Dodecahedron\n",
    "\n"
   ]
  },
  {
   "cell_type": "markdown",
   "metadata": {},
   "source": [
    "The goal of these notes is to lay out the polynomial invariant related to the\n",
    "dodecahedron in two configurations: the first being the standard one, using the\n",
    "vertices of the cube --- at $V_n = (\\pm 1, \\pm 1, \\pm1) /\\sqrt{3}$ --- as eight\n",
    "of its twenty vertices; the second being the configuration such that one of its\n",
    "face normals is in the $\\hat{\\bf z}$ direction, and one of the vertices lies in\n",
    "the first quadrant of the ${\\bf xz}$-plane. (The latter configuration is helpful\n",
    "in relating its properties to that of the icosahedron, since the twenty face\n",
    "centres of the latter sit in this configuration when the icosahedron has two of\n",
    "its vertices along the $\\hat{\\bf z}$ axis, and one of the five next-closest\n",
    "vertices in the second quadrant of the ${\\bf xz}$-plane, as we saw before)."
   ]
  },
  {
   "cell_type": "code",
   "execution_count": 2,
   "metadata": {},
   "outputs": [],
   "source": [
    "phi, N, u, v = symbols(\"phi N u v\")"
   ]
  },
  {
   "cell_type": "code",
   "execution_count": 3,
   "metadata": {},
   "outputs": [
    {
     "data": {
      "text/plain": [
       "True"
      ]
     },
     "execution_count": 3,
     "metadata": {},
     "output_type": "execute_result"
    }
   ],
   "source": [
    "def reduce_multiply(any_list):\n",
    "    return reduce(lambda x, y: (x * y), any_list)\n",
    "\n",
    "\n",
    "def stereo(v1, v2, v3):\n",
    "    return (v1 + I * v2) / (1 - v3)\n",
    "\n",
    "\n",
    "def make_polynom(vs):\n",
    "    return reduce_multiply([u - stereo(*z) * v for z in vs])\n",
    "\n",
    "\n",
    "v1 = (1 / N, 1 / N, 1 / N)\n",
    "v2 = (-1 / N, -1 / N, 1 / N)\n",
    "v3 = (1 / N, -1 / N, -1 / N)\n",
    "v4 = (-1 / N, 1 / N, -1 / N)\n",
    "\n",
    "tetrahedral_angle_check([v1, v2, v3, v4], phi, N)"
   ]
  },
  {
   "cell_type": "code",
   "execution_count": 4,
   "metadata": {},
   "outputs": [
    {
     "data": {
      "text/latex": [
       "$\\displaystyle - 2 i N u^{2} v^{2} + u^{4} + v^{4}$"
      ],
      "text/plain": [
       "-2*I*N*u**2*v**2 + u**4 + v**4"
      ]
     },
     "execution_count": 4,
     "metadata": {},
     "output_type": "execute_result"
    }
   ],
   "source": [
    "n_simp(simplify(make_polynom([v1, v2, v3, v4])), N)  # .subs(N, 1 / sqrt(3)))"
   ]
  },
  {
   "cell_type": "markdown",
   "metadata": {},
   "source": []
  },
  {
   "cell_type": "code",
   "execution_count": 5,
   "metadata": {},
   "outputs": [
    {
     "data": {
      "text/plain": [
       "True"
      ]
     },
     "execution_count": 5,
     "metadata": {},
     "output_type": "execute_result"
    }
   ],
   "source": [
    "v1 = (-1 / N, -1 / N, -1 / N)\n",
    "v2 = (-1 / N / phi, 0, 1 / N * phi)\n",
    "v3 = (0, 1 / N * phi, -1 / N / phi)\n",
    "v4 = (1 / N * phi, -1 / N / phi, 0)\n",
    "tetrahedral_angle_check([v1, v2, v3, v4], phi, N)"
   ]
  },
  {
   "cell_type": "code",
   "execution_count": 6,
   "metadata": {},
   "outputs": [
    {
     "data": {
      "text/latex": [
       "$\\displaystyle u^{4} + \\frac{\\sqrt{15} u^{3} v \\left(1 - i\\right)}{3} + \\frac{\\sqrt{5} u^{3} v \\left(1 - i\\right)}{2} + u^{3} v \\left(1 + i\\right) + \\frac{5 \\sqrt{3} u^{3} v \\left(1 + i\\right)}{6} - \\frac{\\sqrt{15} u^{2} v^{2}}{2} - \\frac{\\sqrt{5} u^{2} v^{2}}{2} - \\frac{i u^{2} v^{2}}{2} + \\frac{\\sqrt{3} i u^{2} v^{2}}{2} + \\frac{u v^{3} \\cdot \\left(1 - i\\right)}{2} + \\frac{\\sqrt{15} u v^{3} \\cdot \\left(1 + i\\right)}{6} + \\frac{2 \\sqrt{3} u v^{3} \\left(-1 + i\\right)}{3} - \\frac{v^{4}}{2} - \\frac{\\sqrt{3} v^{4}}{6} + \\frac{\\sqrt{15} i v^{4}}{6} + \\frac{\\sqrt{5} i v^{4}}{2}$"
      ],
      "text/plain": [
       "u**4 + sqrt(15)*u**3*v*(1 - I)/3 + sqrt(5)*u**3*v*(1 - I)/2 + u**3*v*(1 + I) + 5*sqrt(3)*u**3*v*(1 + I)/6 - sqrt(15)*u**2*v**2/2 - sqrt(5)*u**2*v**2/2 - I*u**2*v**2/2 + sqrt(3)*I*u**2*v**2/2 + u*v**3*(1 - I)/2 + sqrt(15)*u*v**3*(1 + I)/6 + 2*sqrt(3)*u*v**3*(-1 + I)/3 - v**4/2 - sqrt(3)*v**4/6 + sqrt(15)*I*v**4/6 + sqrt(5)*I*v**4/2"
      ]
     },
     "execution_count": 6,
     "metadata": {},
     "output_type": "execute_result"
    }
   ],
   "source": [
    "result = simplify(\n",
    "    make_polynom([v1, v2, v3, v4])\n",
    "    .subs(N, sqrt(3))\n",
    "    .subs(phi, (1 + sqrt(5)) / 2)\n",
    "    .expand()\n",
    "    .radsimp()\n",
    ")\n",
    "result"
   ]
  },
  {
   "cell_type": "code",
   "execution_count": 7,
   "metadata": {},
   "outputs": [
    {
     "data": {
      "text/latex": [
       "$\\displaystyle u^{4} + \\frac{u^{3} v \\left(1 - i\\right) \\left(3 \\sqrt{5} + 2 \\sqrt{15} + 6 i + 5 \\sqrt{3} i\\right)}{6} + \\frac{u^{2} v^{2} \\left(- \\sqrt{15} - \\sqrt{5} - i + \\sqrt{3} i\\right)}{2} + \\frac{u v^{3} \\cdot \\left(1 - i\\right) \\left(- 4 \\sqrt{3} + 3 + \\sqrt{15} i\\right)}{6} + \\frac{v^{4} \\left(-3 - \\sqrt{3} + \\sqrt{15} i + 3 \\sqrt{5} i\\right)}{6}$"
      ],
      "text/plain": [
       "u**4 + u**3*v*(1 - I)*(3*sqrt(5) + 2*sqrt(15) + 6*I + 5*sqrt(3)*I)/6 + u**2*v**2*(-sqrt(15) - sqrt(5) - I + sqrt(3)*I)/2 + u*v**3*(1 - I)*(-4*sqrt(3) + 3 + sqrt(15)*I)/6 + v**4*(-3 - sqrt(3) + sqrt(15)*I + 3*sqrt(5)*I)/6"
      ]
     },
     "execution_count": 7,
     "metadata": {},
     "output_type": "execute_result"
    },
    {
     "ename": "",
     "evalue": "",
     "output_type": "error",
     "traceback": [
      "\u001b[1;31mThe Kernel crashed while executing code in the current cell or a previous cell. \n",
      "\u001b[1;31mPlease review the code in the cell(s) to identify a possible cause of the failure. \n",
      "\u001b[1;31mClick <a href='https://aka.ms/vscodeJupyterKernelCrash'>here</a> for more info. \n",
      "\u001b[1;31mView Jupyter <a href='command:jupyter.viewOutput'>log</a> for further details."
     ]
    }
   ],
   "source": [
    "result = Poly(result, u)\n",
    "new_coeffs = []\n",
    "for coeff in result.all_coeffs():\n",
    "    new_coeffs.append(simplify(phi_simp(n_simp(coeff, N), phi)))\n",
    "    # new_coeffs.append(coeff.factor())\n",
    "result = Poly.from_list(new_coeffs, u).as_expr()\n",
    "result"
   ]
  },
  {
   "cell_type": "code",
   "execution_count": 91,
   "metadata": {},
   "outputs": [
    {
     "data": {
      "text/latex": [
       "$\\displaystyle \\frac{i \\left(\\sqrt{15} + 3 \\sqrt{5} + \\sqrt{3} i + 3 i\\right)}{6}$"
      ],
      "text/plain": [
       "I*(sqrt(15) + 3*sqrt(5) + sqrt(3)*I + 3*I)/6"
      ]
     },
     "execution_count": 91,
     "metadata": {},
     "output_type": "execute_result"
    }
   ],
   "source": [
    "simplify(\n",
    "    reduce_multiply([stereo(*v) for v in [v1, v2, v3, v4]])\n",
    "    .subs(phi, (1 + sqrt(5)) / 2)\n",
    "    .subs(N, sqrt(3))\n",
    "    .radsimp()\n",
    "    # * 2\n",
    "    # / sqrt(5)\n",
    ").factor()"
   ]
  },
  {
   "cell_type": "code",
   "execution_count": 87,
   "metadata": {},
   "outputs": [
    {
     "data": {
      "text/latex": [
       "$\\displaystyle - \\frac{\\sqrt{5}}{2} - \\frac{\\sqrt{3}}{2} + \\frac{3}{2} + \\frac{\\sqrt{15}}{2}$"
      ],
      "text/plain": [
       "-sqrt(5)/2 - sqrt(3)/2 + 3/2 + sqrt(15)/2"
      ]
     },
     "execution_count": 87,
     "metadata": {},
     "output_type": "execute_result"
    }
   ],
   "source": [
    "A, B = symbols(\"A B\")\n",
    "(phi / (N - 1 / phi)).subs(phi, (1 + sqrt(5)) / 2).subs(N, sqrt(3)).radsimp().expand()"
   ]
  },
  {
   "cell_type": "code",
   "execution_count": 8,
   "metadata": {},
   "outputs": [],
   "source": [
    "result = simplify(\n",
    "    make_polynom([v1, v2, v3, v4])\n",
    "    # .subs(N, 1 / sqrt(3))\n",
    "    # .subs(phi, (1 + sqrt(5)) / 2)\n",
    "    .expand()\n",
    ")\n",
    "\n",
    "result = Poly(result, u)"
   ]
  },
  {
   "cell_type": "code",
   "execution_count": 9,
   "metadata": {},
   "outputs": [
    {
     "ename": "TypeError",
     "evalue": "phi_simp() missing 1 required positional argument: 'phi'",
     "output_type": "error",
     "traceback": [
      "\u001b[1;31m---------------------------------------------------------------------------\u001b[0m",
      "\u001b[1;31mTypeError\u001b[0m                                 Traceback (most recent call last)",
      "Cell \u001b[1;32mIn[9], line 1\u001b[0m\n\u001b[1;32m----> 1\u001b[0m \u001b[43mphi_simp\u001b[49m\u001b[43m(\u001b[49m\u001b[43mphi\u001b[49m\u001b[38;5;241;43m*\u001b[39;49m\u001b[38;5;241;43m*\u001b[39;49m\u001b[38;5;241;43m2\u001b[39;49m\u001b[43m \u001b[49m\u001b[38;5;241;43m+\u001b[39;49m\u001b[43m \u001b[49m\u001b[38;5;241;43m1\u001b[39;49m\u001b[43m \u001b[49m\u001b[38;5;241;43m/\u001b[39;49m\u001b[43m \u001b[49m\u001b[43mphi\u001b[49m\u001b[38;5;241;43m*\u001b[39;49m\u001b[38;5;241;43m*\u001b[39;49m\u001b[38;5;241;43m2\u001b[39;49m\u001b[43m)\u001b[49m\n",
      "\u001b[1;31mTypeError\u001b[0m: phi_simp() missing 1 required positional argument: 'phi'"
     ]
    }
   ],
   "source": [
    "phi_simp(phi**2 + 1 / phi**2)"
   ]
  },
  {
   "cell_type": "code",
   "execution_count": null,
   "metadata": {},
   "outputs": [
    {
     "name": "stdout",
     "output_type": "stream",
     "text": [
      "1 1\n",
      "-N*v*(N**3*phi**3 - I*N**3*phi + N**2*phi**4*(1 + I) + N**2*phi**3 + N**2*phi**2*(-2 - 2*I) - I*N**2*phi + N**2*(1 + I) + N*phi**4*(1 + I) + N*phi**3*(-2 - 2*I) + N*phi**2*(-1 - I) + N*phi*(2 + 2*I) + N*(1 + I) + phi**3*(-1 - I) + phi**2*(1 + I) + phi*(1 + I)) phi*(N + 1)*(N + phi)*(N*phi - 1)\n",
      "I*N**2*v**2*(N**2*phi**6 - N**2*phi**4 + N**2*phi**2 - N**2 + N*phi**6 - 3*N*phi**5 - I*N*phi**4 + 3*N*phi**3 - I*N*phi**2 - 3*N*phi - N - phi**5 + 2*phi**4 + phi**3 - 2*phi**2 - phi) phi**2*(N + 1)*(N + phi)*(N*phi - 1)\n",
      "-N**3*v**3*(N*phi**6*(1 - I) - N*phi**4 - I*N*phi**2 + N*(-1 + I) + phi**5*(-1 + I) + I*phi**4 + phi**3*(1 - I) + phi**2 + phi*(-1 + I)) phi**2*(N + 1)*(N + phi)*(N*phi - 1)\n",
      "N**4*v**4*(1 - I)*(phi**2 - I) (N + 1)*(N + phi)*(N*phi - 1)\n"
     ]
    }
   ],
   "source": [
    "new_coeffs = []\n",
    "for coeff in result.all_coeffs():\n",
    "    new_coeffs.append((phi_simp(coeff)).factor())  # .subs(N, 1 / sqrt(3))))"
   ]
  },
  {
   "cell_type": "code",
   "execution_count": null,
   "metadata": {},
   "outputs": [
    {
     "data": {
      "text/plain": [
       "[1,\n",
       " -N**3*v*(N*phi*(2 - I) + N + 3*phi + 2 + I)/((N + 1)*(phi + 1)*(N**2 + N - 1)),\n",
       " I*N**3*v**2*(6*N*phi + 3*N + phi*(-4 - 4*I) - 2 - 3*I)/((N + 1)*(2*phi + 1)*(N**2 + N - 1)),\n",
       " -N**3*v**3*(N*phi*(5 - 9*I) + N*(2 - 5*I) + phi*(-3 + 7*I) - 1 + 4*I)/((N + 1)*(2*phi + 1)*(N**2 + N - 1)),\n",
       " N**4*v**4*(1 - I)*(phi + 1 - I)/(phi*(N + 1)*(N**2 + N - 1))]"
      ]
     },
     "metadata": {},
     "output_type": "display_data"
    }
   ],
   "source": [
    "new_coeffs"
   ]
  },
  {
   "cell_type": "code",
   "execution_count": null,
   "metadata": {},
   "outputs": [
    {
     "data": {
      "text/latex": [
       "$\\displaystyle - \\frac{N^{3} v \\left(N \\phi \\left(2 - i\\right) + N + 3 \\phi + 2 + i\\right)}{\\left(N + 1\\right) \\left(\\phi + 1\\right) \\left(N^{2} + N - 1\\right)}$"
      ],
      "text/plain": [
       "-N**3*v*(N*phi*(2 - I) + N + 3*phi + 2 + I)/((N + 1)*(phi + 1)*(N**2 + N - 1))"
      ]
     },
     "metadata": {},
     "output_type": "display_data"
    }
   ],
   "source": [
    "(new_coeffs[1].radsimp()).factor()"
   ]
  },
  {
   "cell_type": "code",
   "execution_count": null,
   "metadata": {},
   "outputs": [
    {
     "data": {
      "text/latex": [
       "$\\displaystyle \\frac{i N^{3} v^{2} \\cdot \\left(3 N - 2 - \\sqrt{5} i\\right)}{\\left(N + 1\\right) \\left(N^{2} + N - 1\\right)}$"
      ],
      "text/plain": [
       "I*N**3*v**2*(3*N - 2 - sqrt(5)*I)/((N + 1)*(N**2 + N - 1))"
      ]
     },
     "metadata": {},
     "output_type": "display_data"
    }
   ],
   "source": [
    "(new_coeffs[2].subs(phi, (1 + sqrt(5)) / 2).radsimp()).factor()"
   ]
  },
  {
   "cell_type": "code",
   "execution_count": null,
   "metadata": {},
   "outputs": [
    {
     "data": {
      "text/latex": [
       "$\\displaystyle \\frac{N^{3} v^{3} \\cdot \\left(\\frac{1}{2} + \\frac{i}{2}\\right) \\left(\\sqrt{5} N + 7 i N - \\sqrt{5} - 5 i\\right)}{\\left(N + 1\\right) \\left(N^{2} + N - 1\\right)}$"
      ],
      "text/plain": [
       "N**3*v**3*(1/2 + I/2)*(sqrt(5)*N + 7*I*N - sqrt(5) - 5*I)/((N + 1)*(N**2 + N - 1))"
      ]
     },
     "metadata": {},
     "output_type": "display_data"
    }
   ],
   "source": [
    "(new_coeffs[3].subs(phi, (1 + sqrt(5)) / 2).radsimp()).factor()"
   ]
  },
  {
   "cell_type": "code",
   "execution_count": null,
   "metadata": {},
   "outputs": [
    {
     "data": {
      "text/latex": [
       "$\\displaystyle \\frac{v^{4} \\left(-3 - \\sqrt{3} + \\sqrt{15} i + 3 \\sqrt{5} i\\right)}{6}$"
      ],
      "text/plain": [
       "v**4*(-3 - sqrt(3) + sqrt(15)*I + 3*sqrt(5)*I)/6"
      ]
     },
     "metadata": {},
     "output_type": "display_data"
    }
   ],
   "source": [
    "simplify(new_coeffs[4].subs(phi, (1 + sqrt(5)) / 2).radsimp())"
   ]
  },
  {
   "cell_type": "code",
   "execution_count": null,
   "metadata": {},
   "outputs": [
    {
     "data": {
      "text/plain": [
       "True"
      ]
     },
     "metadata": {},
     "output_type": "display_data"
    }
   ],
   "source": [
    "v1 = (-N, N, N)\n",
    "v2 = (0, -N * phi, N / phi)\n",
    "v3 = (N * phi, N / phi, 0)\n",
    "v4 = (-N / phi, 0, -N * phi)\n",
    "angle_check([v1, v2, v3, v4])"
   ]
  },
  {
   "cell_type": "code",
   "execution_count": null,
   "metadata": {},
   "outputs": [
    {
     "data": {
      "text/plain": [
       "True"
      ]
     },
     "metadata": {},
     "output_type": "display_data"
    }
   ],
   "source": [
    "v1 = (N, -N, N)\n",
    "v2 = (N / phi, 0, -N * phi)\n",
    "v3 = (0, N * phi, N / phi)\n",
    "v4 = (-N * phi, -N / phi, 0)\n",
    "angle_check([v1, v2, v3, v4])"
   ]
  },
  {
   "cell_type": "code",
   "execution_count": null,
   "metadata": {},
   "outputs": [
    {
     "data": {
      "text/plain": [
       "True"
      ]
     },
     "metadata": {},
     "output_type": "display_data"
    }
   ],
   "source": [
    "v1 = (N, N, -N)\n",
    "v2 = (N / phi, 0, N * phi)\n",
    "v3 = (-N * phi, N / phi, 0)\n",
    "v4 = (0, -N * phi, -N / phi)\n",
    "angle_check([v1, v2, v3, v4])"
   ]
  },
  {
   "cell_type": "code",
   "execution_count": 60,
   "metadata": {},
   "outputs": [
    {
     "data": {
      "text/latex": [
       "$\\displaystyle \\left(u - v \\left(- \\frac{\\phi}{N} - \\frac{i}{N \\phi}\\right)\\right) \\left(u - v \\left(- \\frac{\\phi}{N} + \\frac{i}{N \\phi}\\right)\\right) \\left(u - v \\left(\\frac{\\phi}{N} - \\frac{i}{N \\phi}\\right)\\right) \\left(u - v \\left(\\frac{\\phi}{N} + \\frac{i}{N \\phi}\\right)\\right) \\left(u - \\frac{v \\left(- \\frac{1}{N} - \\frac{i}{N}\\right)}{1 - \\frac{1}{N}}\\right) \\left(u - \\frac{v \\left(- \\frac{1}{N} + \\frac{i}{N}\\right)}{1 - \\frac{1}{N}}\\right) \\left(u - \\frac{v \\left(\\frac{1}{N} - \\frac{i}{N}\\right)}{1 - \\frac{1}{N}}\\right) \\left(u - \\frac{v \\left(\\frac{1}{N} + \\frac{i}{N}\\right)}{1 - \\frac{1}{N}}\\right) \\left(u - \\frac{v \\left(- \\frac{1}{N} - \\frac{i}{N}\\right)}{1 + \\frac{1}{N}}\\right) \\left(u - \\frac{v \\left(- \\frac{1}{N} + \\frac{i}{N}\\right)}{1 + \\frac{1}{N}}\\right) \\left(u - \\frac{v \\left(\\frac{1}{N} - \\frac{i}{N}\\right)}{1 + \\frac{1}{N}}\\right) \\left(u - \\frac{v \\left(\\frac{1}{N} + \\frac{i}{N}\\right)}{1 + \\frac{1}{N}}\\right) \\left(u - \\frac{v}{N \\phi \\left(1 - \\frac{\\phi}{N}\\right)}\\right) \\left(u + \\frac{v}{N \\phi \\left(1 - \\frac{\\phi}{N}\\right)}\\right) \\left(u - \\frac{v}{N \\phi \\left(1 + \\frac{\\phi}{N}\\right)}\\right) \\left(u + \\frac{v}{N \\phi \\left(1 + \\frac{\\phi}{N}\\right)}\\right) \\left(u - \\frac{i \\phi v}{N \\left(1 - \\frac{1}{N \\phi}\\right)}\\right) \\left(u + \\frac{i \\phi v}{N \\left(1 - \\frac{1}{N \\phi}\\right)}\\right) \\left(u - \\frac{i \\phi v}{N \\left(1 + \\frac{1}{N \\phi}\\right)}\\right) \\left(u + \\frac{i \\phi v}{N \\left(1 + \\frac{1}{N \\phi}\\right)}\\right)$"
      ],
      "text/plain": [
       "(u - v*(-phi/N - I/(N*phi)))*(u - v*(-phi/N + I/(N*phi)))*(u - v*(phi/N - I/(N*phi)))*(u - v*(phi/N + I/(N*phi)))*(u - v*(-1/N - I/N)/(1 - 1/N))*(u - v*(-1/N + I/N)/(1 - 1/N))*(u - v*(1/N - I/N)/(1 - 1/N))*(u - v*(1/N + I/N)/(1 - 1/N))*(u - v*(-1/N - I/N)/(1 + 1/N))*(u - v*(-1/N + I/N)/(1 + 1/N))*(u - v*(1/N - I/N)/(1 + 1/N))*(u - v*(1/N + I/N)/(1 + 1/N))*(u - v/(N*phi*(1 - phi/N)))*(u + v/(N*phi*(1 - phi/N)))*(u - v/(N*phi*(1 + phi/N)))*(u + v/(N*phi*(1 + phi/N)))*(u - I*phi*v/(N*(1 - 1/(N*phi))))*(u + I*phi*v/(N*(1 - 1/(N*phi))))*(u - I*phi*v/(N*(1 + 1/(N*phi))))*(u + I*phi*v/(N*(1 + 1/(N*phi))))"
      ]
     },
     "execution_count": 60,
     "metadata": {},
     "output_type": "execute_result"
    }
   ],
   "source": [
    "vertices = []\n",
    "\n",
    "vertices.append(stereo(1 / N, 1 / N, 1 / N))\n",
    "vertices.append(stereo(-1 / N, -1 / N, 1 / N))\n",
    "vertices.append(stereo(1 / N, -1 / N, -1 / N))\n",
    "vertices.append(stereo(-1 / N, 1 / N, -1 / N))\n",
    "\n",
    "vertices.append(stereo(-1 / N, -1 / N, -1 / N))\n",
    "vertices.append(stereo(-1 / N / phi, 0, 1 / N * phi))\n",
    "vertices.append(stereo(0, 1 / N * phi, -1 / N / phi))\n",
    "vertices.append(stereo(1 / N * phi, -1 / N / phi, 0))\n",
    "\n",
    "vertices.append(stereo(-1 / N, 1 / N, 1 / N))\n",
    "vertices.append(stereo(0, -1 / N * phi, 1 / N / phi))\n",
    "vertices.append(stereo(1 / N * phi, 1 / N / phi, 0))\n",
    "vertices.append(stereo(-1 / N / phi, 0, -1 / N * phi))\n",
    "\n",
    "vertices.append(stereo(1 / N, -1 / N, 1 / N))\n",
    "vertices.append(stereo(1 / N / phi, 0, -1 / N * phi))\n",
    "vertices.append(stereo(0, 1 / N * phi, 1 / N / phi))\n",
    "vertices.append(stereo(-1 / N * phi, -1 / N / phi, 0))\n",
    "\n",
    "vertices.append(stereo(1 / N, 1 / N, -1 / N))\n",
    "vertices.append(stereo(1 / N / phi, 0, 1 / N * phi))\n",
    "vertices.append(stereo(-1 / N * phi, 1 / N / phi, 0))\n",
    "vertices.append(stereo(0, -1 / N * phi, -1 / N / phi))\n",
    "\n",
    "H = reduce_multiply([u - z * v for z in vertices])\n",
    "H"
   ]
  },
  {
   "cell_type": "code",
   "execution_count": 66,
   "metadata": {},
   "outputs": [],
   "source": [
    "expr = n_simp(phi_simp(simplify(H), phi), N)"
   ]
  },
  {
   "cell_type": "code",
   "execution_count": 69,
   "metadata": {},
   "outputs": [
    {
     "name": "stdout",
     "output_type": "stream",
     "text": [
      "1\n",
      "0\n",
      "-38*sqrt(5)*v**2/3\n",
      "0\n",
      "-19*v**4\n",
      "0\n",
      "-152*sqrt(5)*v**6\n",
      "0\n",
      "-494*v**8\n",
      "0\n",
      "988*sqrt(5)*v**10/3\n",
      "0\n",
      "-494*v**12\n",
      "0\n",
      "-152*sqrt(5)*v**14\n",
      "0\n",
      "-19*v**16\n",
      "0\n",
      "-38*sqrt(5)*v**18/3\n",
      "0\n",
      "v**20\n"
     ]
    },
    {
     "data": {
      "text/latex": [
       "$\\displaystyle u^{20} - \\frac{38 \\sqrt{5} u^{18} v^{2}}{3} - 19 u^{16} v^{4} - 152 \\sqrt{5} u^{14} v^{6} - 494 u^{12} v^{8} + \\frac{988 \\sqrt{5} u^{10} v^{10}}{3} - 494 u^{8} v^{12} - 152 \\sqrt{5} u^{6} v^{14} - 19 u^{4} v^{16} - \\frac{38 \\sqrt{5} u^{2} v^{18}}{3} + v^{20}$"
      ],
      "text/plain": [
       "u**20 - 38*sqrt(5)*u**18*v**2/3 - 19*u**16*v**4 - 152*sqrt(5)*u**14*v**6 - 494*u**12*v**8 + 988*sqrt(5)*u**10*v**10/3 - 494*u**8*v**12 - 152*sqrt(5)*u**6*v**14 - 19*u**4*v**16 - 38*sqrt(5)*u**2*v**18/3 + v**20"
      ]
     },
     "execution_count": 69,
     "metadata": {},
     "output_type": "execute_result"
    }
   ],
   "source": [
    "expr = Poly(expr, u)\n",
    "\n",
    "new_coeffs = []\n",
    "for coeff in expr.all_coeffs():\n",
    "    new_coeffs.append(coeff.subs(phi, (1 + sqrt(5)) / 2).radsimp().factor())\n",
    "    print(new_coeffs[-1])\n",
    "\n",
    "expr = Poly.from_list(new_coeffs, u).as_expr()\n",
    "expr"
   ]
  },
  {
   "cell_type": "code",
   "execution_count": 57,
   "metadata": {},
   "outputs": [
    {
     "data": {
      "text/latex": [
       "$\\displaystyle - \\frac{\\sqrt{5}}{2} - \\frac{\\sqrt{3}}{2} + \\frac{3}{2} + \\frac{\\sqrt{15}}{2}$"
      ],
      "text/plain": [
       "-sqrt(5)/2 - sqrt(3)/2 + 3/2 + sqrt(15)/2"
      ]
     },
     "execution_count": 57,
     "metadata": {},
     "output_type": "execute_result"
    }
   ],
   "source": [
    "radsimp(c.subs(phi, (1 + sqrt(5)) / 2).subs(N, sqrt(3))).expand()"
   ]
  },
  {
   "cell_type": "code",
   "execution_count": null,
   "metadata": {},
   "outputs": [
    {
     "data": {
      "text/latex": [
       "$\\displaystyle - \\frac{\\sqrt{15}}{2} - \\frac{3}{2} + \\frac{\\sqrt{3}}{2} + \\frac{\\sqrt{5}}{2}$"
      ],
      "text/plain": [
       "-sqrt(15)/2 - 3/2 + sqrt(3)/2 + sqrt(5)/2"
      ]
     },
     "metadata": {},
     "output_type": "display_data"
    }
   ],
   "source": [
    "radsimp(\n",
    "    (-phi / (N - 1 / phi))\n",
    "    .subs(phi2, 1 / phi)\n",
    "    .subs(phi, (1 + sqrt(5)) / 2)\n",
    "    .subs(N, sqrt(3))\n",
    ").expand()"
   ]
  },
  {
   "cell_type": "code",
   "execution_count": null,
   "metadata": {},
   "outputs": [
    {
     "data": {
      "text/latex": [
       "$\\displaystyle \\frac{3}{2} - \\frac{\\sqrt{5}}{2}$"
      ],
      "text/plain": [
       "3/2 - sqrt(5)/2"
      ]
     },
     "metadata": {},
     "output_type": "display_data"
    }
   ],
   "source": [
    "val = c / r\n",
    "radsimp(val.subs(phi2, 1 / phi).subs(phi, (1 + sqrt(5)) / 2).subs(N, sqrt(3))).expand()"
   ]
  },
  {
   "cell_type": "code",
   "execution_count": null,
   "metadata": {},
   "outputs": [
    {
     "name": "stdout",
     "output_type": "stream",
     "text": [
      "(N**2*phi2 + 2*N**2 + 2*N*phi - phi2)*(N**3*phi2 + N**3 + N**2*phi - N*phi2 - N - phi)/((N**3*phi2 + N**3 + N**2*phi - N*phi2 - N - phi)**2 + (-N**3 - N**2*phi - N**2*phi2 + 2*N**2 + 2*N*phi + 3*N + 3*phi + phi2)**2) + (-N**2*phi2 - 2*N*phi2 + 2*N + 2*phi + 3*phi2)*(N**3 + N**2*phi + N**2*phi2 - 2*N**2 - 2*N*phi - 3*N - 3*phi - phi2)/((N**3*phi2 + N**3 + N**2*phi - N*phi2 - N - phi)**2 + (-N**3 - N**2*phi - N**2*phi2 + 2*N**2 + 2*N*phi + 3*N + 3*phi + phi2)**2) -(N**2*phi2 + 2*N**2 + 2*N*phi - phi2)*(N**3 + N**2*phi + N**2*phi2 - 2*N**2 - 2*N*phi - 3*N - 3*phi - phi2)/((N**3*phi2 + N**3 + N**2*phi - N*phi2 - N - phi)**2 + (-N**3 - N**2*phi - N**2*phi2 + 2*N**2 + 2*N*phi + 3*N + 3*phi + phi2)**2) + (-N**2*phi2 - 2*N*phi2 + 2*N + 2*phi + 3*phi2)*(N**3*phi2 + N**3 + N**2*phi - N*phi2 - N - phi)/((N**3*phi2 + N**3 + N**2*phi - N*phi2 - N - phi)**2 + (-N**3 - N**2*phi - N**2*phi2 + 2*N**2 + 2*N*phi + 3*N + 3*phi + phi2)**2)\n"
     ]
    },
    {
     "ename": "PolynomialError",
     "evalue": "1/(N**6*phi2**2 + 2*N**6*phi2 + 2*N**6 + 2*N**5*phi*phi2 + 4*N**5*phi + 2*N**5*phi2 - 4*N**5 + 2*N**4*phi**2 + 2*N**4*phi*phi2 - 8*N**4*phi - N**4*phi2**2 - 8*N**4*phi2 - 4*N**4 - 4*N**3*phi**2 - 8*N**3*phi*phi2 - 8*N**3*phi - 8*N**3*phi2 + 12*N**3 - 4*N**2*phi**2 - 8*N**2*phi*phi2 + 24*N**2*phi - N**2*phi2**2 + 6*N**2*phi2 + 10*N**2 + 12*N*phi**2 + 6*N*phi*phi2 + 20*N*phi + 6*N*phi2 + 10*phi**2 + 6*phi*phi2 + phi2**2) contains an element of the set of generators.",
     "output_type": "error",
     "traceback": [
      "\u001b[1;31m---------------------------------------------------------------------------\u001b[0m\n",
      "\u001b[1;31mKeyError\u001b[0m                                  Traceback (most recent call last)\n",
      "File \u001b[1;32mc:\\Users\\mwkte\\dev\\ag_notes\\.venv\\Lib\\site-packages\\sympy\\polys\\polyutils.py:211\u001b[0m, in \u001b[0;36m_parallel_dict_from_expr_if_gens\u001b[1;34m(exprs, opt)\u001b[0m\n",
      "\u001b[0;32m    209\u001b[0m         base, exp \u001b[38;5;241m=\u001b[39m decompose_power_rat(factor)\n",
      "\u001b[1;32m--> 211\u001b[0m     monom[\u001b[43mindices\u001b[49m\u001b[43m[\u001b[49m\u001b[43mbase\u001b[49m\u001b[43m]\u001b[49m] \u001b[38;5;241m=\u001b[39m exp\n",
      "\u001b[0;32m    212\u001b[0m \u001b[38;5;28;01mexcept\u001b[39;00m \u001b[38;5;167;01mKeyError\u001b[39;00m:\n",
      "\n",
      "\u001b[1;31mKeyError\u001b[0m: 1/(N**6*phi2**2 + 2*N**6*phi2 + 2*N**6 + 2*N**5*phi*phi2 + 4*N**5*phi + 2*N**5*phi2 - 4*N**5 + 2*N**4*phi**2 + 2*N**4*phi*phi2 - 8*N**4*phi - N**4*phi2**2 - 8*N**4*phi2 - 4*N**4 - 4*N**3*phi**2 - 8*N**3*phi*phi2 - 8*N**3*phi - 8*N**3*phi2 + 12*N**3 - 4*N**2*phi**2 - 8*N**2*phi*phi2 + 24*N**2*phi - N**2*phi2**2 + 6*N**2*phi2 + 10*N**2 + 12*N*phi**2 + 6*N*phi*phi2 + 20*N*phi + 6*N*phi2 + 10*phi**2 + 6*phi*phi2 + phi2**2)\n",
      "\n",
      "During handling of the above exception, another exception occurred:\n",
      "\n",
      "\u001b[1;31mPolynomialError\u001b[0m                           Traceback (most recent call last)\n",
      "Cell \u001b[1;32mIn[344], line 1\u001b[0m\n",
      "\u001b[1;32m----> 1\u001b[0m phi_simp(\u001b[43mn_simp\u001b[49m\u001b[43m(\u001b[49m\u001b[43mval\u001b[49m\u001b[43m)\u001b[49m)\n",
      "\n",
      "Cell \u001b[1;32mIn[343], line 4\u001b[0m, in \u001b[0;36mn_simp\u001b[1;34m(expr)\u001b[0m\n",
      "\u001b[0;32m      2\u001b[0m num, denom \u001b[38;5;241m=\u001b[39m fraction(expr)\n",
      "\u001b[0;32m      3\u001b[0m \u001b[38;5;28mprint\u001b[39m(num, denom)\n",
      "\u001b[1;32m----> 4\u001b[0m num \u001b[38;5;241m=\u001b[39m \u001b[43mPoly\u001b[49m\u001b[43m(\u001b[49m\u001b[43mnum\u001b[49m\u001b[43m,\u001b[49m\u001b[43m \u001b[49m\u001b[43mN\u001b[49m\u001b[43m)\u001b[49m\n",
      "\u001b[0;32m      5\u001b[0m denom \u001b[38;5;241m=\u001b[39m Poly(denom\u001b[38;5;241m.\u001b[39mexpand(), N)\n",
      "\u001b[0;32m      6\u001b[0m new_coeffs \u001b[38;5;241m=\u001b[39m [\u001b[38;5;241m0\u001b[39m, \u001b[38;5;241m0\u001b[39m]\n",
      "\n",
      "File \u001b[1;32mc:\\Users\\mwkte\\dev\\ag_notes\\.venv\\Lib\\site-packages\\sympy\\polys\\polytools.py:182\u001b[0m, in \u001b[0;36mPoly.__new__\u001b[1;34m(cls, rep, *gens, **args)\u001b[0m\n",
      "\u001b[0;32m    180\u001b[0m     \u001b[38;5;28;01mreturn\u001b[39;00m \u001b[38;5;28mcls\u001b[39m\u001b[38;5;241m.\u001b[39m_from_poly(rep, opt)\n",
      "\u001b[0;32m    181\u001b[0m \u001b[38;5;28;01melse\u001b[39;00m:\n",
      "\u001b[1;32m--> 182\u001b[0m     \u001b[38;5;28;01mreturn\u001b[39;00m \u001b[38;5;28;43mcls\u001b[39;49m\u001b[38;5;241;43m.\u001b[39;49m\u001b[43m_from_expr\u001b[49m\u001b[43m(\u001b[49m\u001b[43mrep\u001b[49m\u001b[43m,\u001b[49m\u001b[43m \u001b[49m\u001b[43mopt\u001b[49m\u001b[43m)\u001b[49m\n",
      "\n",
      "File \u001b[1;32mc:\\Users\\mwkte\\dev\\ag_notes\\.venv\\Lib\\site-packages\\sympy\\polys\\polytools.py:311\u001b[0m, in \u001b[0;36mPoly._from_expr\u001b[1;34m(cls, rep, opt)\u001b[0m\n",
      "\u001b[0;32m    308\u001b[0m \u001b[38;5;129m@classmethod\u001b[39m\n",
      "\u001b[0;32m    309\u001b[0m \u001b[38;5;28;01mdef\u001b[39;00m \u001b[38;5;21m_from_expr\u001b[39m(\u001b[38;5;28mcls\u001b[39m, rep, opt):\n",
      "\u001b[0;32m    310\u001b[0m \u001b[38;5;250m    \u001b[39m\u001b[38;5;124;03m\"\"\"Construct a polynomial from an expression. \"\"\"\u001b[39;00m\n",
      "\u001b[1;32m--> 311\u001b[0m     rep, opt \u001b[38;5;241m=\u001b[39m \u001b[43m_dict_from_expr\u001b[49m\u001b[43m(\u001b[49m\u001b[43mrep\u001b[49m\u001b[43m,\u001b[49m\u001b[43m \u001b[49m\u001b[43mopt\u001b[49m\u001b[43m)\u001b[49m\n",
      "\u001b[0;32m    312\u001b[0m     \u001b[38;5;28;01mreturn\u001b[39;00m \u001b[38;5;28mcls\u001b[39m\u001b[38;5;241m.\u001b[39m_from_dict(rep, opt)\n",
      "\n",
      "File \u001b[1;32mc:\\Users\\mwkte\\dev\\ag_notes\\.venv\\Lib\\site-packages\\sympy\\polys\\polyutils.py:368\u001b[0m, in \u001b[0;36m_dict_from_expr\u001b[1;34m(expr, opt)\u001b[0m\n",
      "\u001b[0;32m    365\u001b[0m         expr \u001b[38;5;241m=\u001b[39m expand_mul(expr)\n",
      "\u001b[0;32m    367\u001b[0m \u001b[38;5;28;01mif\u001b[39;00m opt\u001b[38;5;241m.\u001b[39mgens:\n",
      "\u001b[1;32m--> 368\u001b[0m     rep, gens \u001b[38;5;241m=\u001b[39m \u001b[43m_dict_from_expr_if_gens\u001b[49m\u001b[43m(\u001b[49m\u001b[43mexpr\u001b[49m\u001b[43m,\u001b[49m\u001b[43m \u001b[49m\u001b[43mopt\u001b[49m\u001b[43m)\u001b[49m\n",
      "\u001b[0;32m    369\u001b[0m \u001b[38;5;28;01melse\u001b[39;00m:\n",
      "\u001b[0;32m    370\u001b[0m     rep, gens \u001b[38;5;241m=\u001b[39m _dict_from_expr_no_gens(expr, opt)\n",
      "\n",
      "File \u001b[1;32mc:\\Users\\mwkte\\dev\\ag_notes\\.venv\\Lib\\site-packages\\sympy\\polys\\polyutils.py:307\u001b[0m, in \u001b[0;36m_dict_from_expr_if_gens\u001b[1;34m(expr, opt)\u001b[0m\n",
      "\u001b[0;32m    305\u001b[0m \u001b[38;5;28;01mdef\u001b[39;00m \u001b[38;5;21m_dict_from_expr_if_gens\u001b[39m(expr, opt):\n",
      "\u001b[0;32m    306\u001b[0m \u001b[38;5;250m    \u001b[39m\u001b[38;5;124;03m\"\"\"Transform an expression into a multinomial form given generators. \"\"\"\u001b[39;00m\n",
      "\u001b[1;32m--> 307\u001b[0m     (poly,), gens \u001b[38;5;241m=\u001b[39m \u001b[43m_parallel_dict_from_expr_if_gens\u001b[49m\u001b[43m(\u001b[49m\u001b[43m(\u001b[49m\u001b[43mexpr\u001b[49m\u001b[43m,\u001b[49m\u001b[43m)\u001b[49m\u001b[43m,\u001b[49m\u001b[43m \u001b[49m\u001b[43mopt\u001b[49m\u001b[43m)\u001b[49m\n",
      "\u001b[0;32m    308\u001b[0m     \u001b[38;5;28;01mreturn\u001b[39;00m poly, gens\n",
      "\n",
      "File \u001b[1;32mc:\\Users\\mwkte\\dev\\ag_notes\\.venv\\Lib\\site-packages\\sympy\\polys\\polyutils.py:216\u001b[0m, in \u001b[0;36m_parallel_dict_from_expr_if_gens\u001b[1;34m(exprs, opt)\u001b[0m\n",
      "\u001b[0;32m    214\u001b[0m                 coeff\u001b[38;5;241m.\u001b[39mappend(factor)\n",
      "\u001b[0;32m    215\u001b[0m             \u001b[38;5;28;01melse\u001b[39;00m:\n",
      "\u001b[1;32m--> 216\u001b[0m                 \u001b[38;5;28;01mraise\u001b[39;00m PolynomialError(\u001b[38;5;124m\"\u001b[39m\u001b[38;5;132;01m%s\u001b[39;00m\u001b[38;5;124m contains an element of \u001b[39m\u001b[38;5;124m\"\u001b[39m\n",
      "\u001b[0;32m    217\u001b[0m                                       \u001b[38;5;124m\"\u001b[39m\u001b[38;5;124mthe set of generators.\u001b[39m\u001b[38;5;124m\"\u001b[39m \u001b[38;5;241m%\u001b[39m factor)\n",
      "\u001b[0;32m    219\u001b[0m monom \u001b[38;5;241m=\u001b[39m \u001b[38;5;28mtuple\u001b[39m(monom)\n",
      "\u001b[0;32m    221\u001b[0m \u001b[38;5;28;01mif\u001b[39;00m monom \u001b[38;5;129;01min\u001b[39;00m poly:\n",
      "\n",
      "\u001b[1;31mPolynomialError\u001b[0m: 1/(N**6*phi2**2 + 2*N**6*phi2 + 2*N**6 + 2*N**5*phi*phi2 + 4*N**5*phi + 2*N**5*phi2 - 4*N**5 + 2*N**4*phi**2 + 2*N**4*phi*phi2 - 8*N**4*phi - N**4*phi2**2 - 8*N**4*phi2 - 4*N**4 - 4*N**3*phi**2 - 8*N**3*phi*phi2 - 8*N**3*phi - 8*N**3*phi2 + 12*N**3 - 4*N**2*phi**2 - 8*N**2*phi*phi2 + 24*N**2*phi - N**2*phi2**2 + 6*N**2*phi2 + 10*N**2 + 12*N*phi**2 + 6*N*phi*phi2 + 20*N*phi + 6*N*phi2 + 10*phi**2 + 6*phi*phi2 + phi2**2) contains an element of the set of generators."
     ]
    }
   ],
   "source": [
    "phi_simp(n_simp(val))"
   ]
  },
  {
   "cell_type": "code",
   "execution_count": null,
   "metadata": {},
   "outputs": [
    {
     "data": {
      "text/latex": [
       "$\\displaystyle \\frac{- N^{4} \\phi_{2}^{2} - 2 N^{4} \\phi_{2} - 2 N^{4} - 2 N^{3} \\phi \\phi_{2} - 4 N^{3} \\phi - 2 N^{3} \\phi_{2}^{2} + 2 N^{3} \\phi_{2} + 8 N^{3} - 2 N^{2} \\phi^{2} + 2 N^{2} \\phi \\phi_{2} + 16 N^{2} \\phi + 6 N^{2} \\phi_{2}^{2} + 6 N^{2} \\phi_{2} - 2 N^{2} + 8 N \\phi^{2} + 6 N \\phi \\phi_{2} - 4 N \\phi - 2 N \\phi_{2}^{2} - 6 N \\phi_{2} - 2 \\phi^{2} - 6 \\phi \\phi_{2} - \\phi_{2}^{2}}{N^{5} \\phi_{2}^{2} + 2 N^{5} \\phi_{2} + 2 N^{5} + 2 N^{4} \\phi \\phi_{2} + 4 N^{4} \\phi - N^{4} \\phi_{2}^{2} - 6 N^{4} + 2 N^{3} \\phi^{2} - 12 N^{3} \\phi - 8 N^{3} \\phi_{2} + 2 N^{3} - 6 N^{2} \\phi^{2} - 8 N^{2} \\phi \\phi_{2} + 4 N^{2} \\phi + 10 N^{2} + 2 N \\phi^{2} + 20 N \\phi - N \\phi_{2}^{2} + 6 N \\phi_{2} + 10 \\phi^{2} + 6 \\phi \\phi_{2} + \\phi_{2}^{2}}$"
      ],
      "text/plain": [
       "(-N**4*phi2**2 - 2*N**4*phi2 - 2*N**4 - 2*N**3*phi*phi2 - 4*N**3*phi - 2*N**3*phi2**2 + 2*N**3*phi2 + 8*N**3 - 2*N**2*phi**2 + 2*N**2*phi*phi2 + 16*N**2*phi + 6*N**2*phi2**2 + 6*N**2*phi2 - 2*N**2 + 8*N*phi**2 + 6*N*phi*phi2 - 4*N*phi - 2*N*phi2**2 - 6*N*phi2 - 2*phi**2 - 6*phi*phi2 - phi2**2)/(N**5*phi2**2 + 2*N**5*phi2 + 2*N**5 + 2*N**4*phi*phi2 + 4*N**4*phi - N**4*phi2**2 - 6*N**4 + 2*N**3*phi**2 - 12*N**3*phi - 8*N**3*phi2 + 2*N**3 - 6*N**2*phi**2 - 8*N**2*phi*phi2 + 4*N**2*phi + 10*N**2 + 2*N*phi**2 + 20*N*phi - N*phi2**2 + 6*N*phi2 + 10*phi**2 + 6*phi*phi2 + phi2**2)"
      ]
     },
     "metadata": {},
     "output_type": "display_data"
    }
   ],
   "source": [
    "simplify(r.expand())"
   ]
  },
  {
   "cell_type": "code",
   "execution_count": null,
   "metadata": {},
   "outputs": [
    {
     "name": "stdout",
     "output_type": "stream",
     "text": [
      "(N**2*phi2 + 2*N**2 + 2*N*phi - phi2)*(-N**3 - N**2*phi - N**2*phi2 + 2*N**2 + 2*N*phi + 3*N + 3*phi + phi2) + (-N**2*phi2 - 2*N*phi2 + 2*N + 2*phi + 3*phi2)*(N**3*phi2 + N**3 + N**2*phi - N*phi2 - N - phi) (N**3*phi2 + N**3 + N**2*phi - N*phi2 - N - phi)**2 + (-N**3 - N**2*phi - N**2*phi2 + 2*N**2 + 2*N*phi + 3*N + 3*phi + phi2)**2\n",
      "[-2*phi**2 - 6*phi*phi2 - phi2**2, 0]\n",
      "[-2*phi**2 - 6*phi*phi2 - phi2**2, 6*phi**2 - 4*phi - 3*phi2**2 - 6*phi2]\n",
      "[16*phi**2 + 18*phi*phi2 + 36*phi + 11*phi2**2 - 6, 6*phi**2 - 4*phi - 3*phi2**2 - 6*phi2]\n",
      "[16*phi**2 + 18*phi*phi2 + 36*phi + 11*phi2**2 - 6, 32*phi + 9*phi2**2 + 18*phi2 + 18]\n",
      "[16*phi**2 - 16*phi2**2 + 48, 32*phi + 9*phi2**2 + 18*phi2 + 18]\n",
      "[16*phi**2 - 16*phi2**2 + 48, 32*phi]\n",
      "Poly(32*phi*N + 16*phi**2 - 16*phi2**2 + 48, N, domain='ZZ[phi,phi2]')\n",
      "[10*phi**2 + 6*phi*phi2 + phi2**2, 0]\n",
      "[10*phi**2 + 6*phi*phi2 + phi2**2, 12*phi**2 + 6*phi*phi2 + 20*phi + 6*phi2]\n",
      "[-2*phi**2 - 18*phi*phi2 + 72*phi - 2*phi2**2 + 18*phi2 + 30, 12*phi**2 + 6*phi*phi2 + 20*phi + 6*phi2]\n",
      "[-2*phi**2 - 18*phi*phi2 + 72*phi - 2*phi2**2 + 18*phi2 + 30, -18*phi*phi2 - 4*phi - 18*phi2 + 36]\n",
      "[16*phi**2 - 11*phi2**2 - 54*phi2 - 6, -18*phi*phi2 - 4*phi - 18*phi2 + 36]\n",
      "[16*phi**2 - 11*phi2**2 - 54*phi2 - 6, 32*phi]\n",
      "[16*phi**2 + 16*phi2**2 + 48, 32*phi]\n",
      "Poly(32*phi*N + 16*phi**2 + 16*phi2**2 + 48, N, domain='ZZ[phi,phi2]')\n"
     ]
    },
    {
     "data": {
      "text/latex": [
       "$\\displaystyle \\frac{2 N \\phi + \\phi^{2} - \\phi_{2}^{2} + 3}{2 N \\phi + \\phi^{2} + \\phi_{2}^{2} + 3}$"
      ],
      "text/plain": [
       "(2*N*phi + phi**2 - phi2**2 + 3)/(2*N*phi + phi**2 + phi2**2 + 3)"
      ]
     },
     "metadata": {},
     "output_type": "display_data"
    }
   ],
   "source": [
    "R = simplify(n_simp(simplify(r)))\n",
    "R"
   ]
  },
  {
   "cell_type": "code",
   "execution_count": null,
   "metadata": {},
   "outputs": [
    {
     "name": "stdout",
     "output_type": "stream",
     "text": [
      "(N**2*phi2 + 2*N**2 + 2*N*phi - phi2)*(N**3*phi2 + N**3 + N**2*phi - N*phi2 - N - phi) - (-N**2*phi2 - 2*N*phi2 + 2*N + 2*phi + 3*phi2)*(-N**3 - N**2*phi - N**2*phi2 + 2*N**2 + 2*N*phi + 3*N + 3*phi + phi2) (N**3*phi2 + N**3 + N**2*phi - N*phi2 - N - phi)**2 + (-N**3 - N**2*phi - N**2*phi2 + 2*N**2 + 2*N*phi + 3*N + 3*phi + phi2)**2\n",
      "[-6*phi**2 - 10*phi*phi2 - 3*phi2**2, 0]\n",
      "[-6*phi**2 - 10*phi*phi2 - 3*phi2**2, -6*phi**2 - 12*phi + 3*phi2**2 - 10*phi2]\n",
      "[14*phi*phi2 - 36*phi + 9*phi2**2 - 18, -6*phi**2 - 12*phi + 3*phi2**2 - 10*phi2]\n",
      "[14*phi*phi2 - 36*phi + 9*phi2**2 - 18, -9*phi2**2 + 14*phi2 - 18]\n",
      "[32*phi*phi2, -9*phi2**2 + 14*phi2 - 18]\n",
      "[32*phi*phi2, 32*phi2]\n",
      "Poly(32*phi2*N + 32*phi*phi2, N, domain='ZZ[phi,phi2]')\n",
      "[10*phi**2 + 6*phi*phi2 + phi2**2, 0]\n",
      "[10*phi**2 + 6*phi*phi2 + phi2**2, 12*phi**2 + 6*phi*phi2 + 20*phi + 6*phi2]\n",
      "[-2*phi**2 - 18*phi*phi2 + 72*phi - 2*phi2**2 + 18*phi2 + 30, 12*phi**2 + 6*phi*phi2 + 20*phi + 6*phi2]\n",
      "[-2*phi**2 - 18*phi*phi2 + 72*phi - 2*phi2**2 + 18*phi2 + 30, -18*phi*phi2 - 4*phi - 18*phi2 + 36]\n",
      "[16*phi**2 - 11*phi2**2 - 54*phi2 - 6, -18*phi*phi2 - 4*phi - 18*phi2 + 36]\n",
      "[16*phi**2 - 11*phi2**2 - 54*phi2 - 6, 32*phi]\n",
      "[16*phi**2 + 16*phi2**2 + 48, 32*phi]\n",
      "Poly(32*phi*N + 16*phi**2 + 16*phi2**2 + 48, N, domain='ZZ[phi,phi2]')\n"
     ]
    },
    {
     "data": {
      "text/latex": [
       "$\\displaystyle \\frac{2 \\phi_{2} \\left(N + \\phi\\right)}{2 N \\phi + \\phi^{2} + \\phi_{2}^{2} + 3}$"
      ],
      "text/plain": [
       "2*phi2*(N + phi)/(2*N*phi + phi**2 + phi2**2 + 3)"
      ]
     },
     "metadata": {},
     "output_type": "display_data"
    }
   ],
   "source": [
    "Im = simplify(n_simp(simplify(c)))\n",
    "Im"
   ]
  },
  {
   "cell_type": "code",
   "execution_count": null,
   "metadata": {},
   "outputs": [
    {
     "data": {
      "text/latex": [
       "$\\displaystyle \\frac{- \\sqrt{3} + \\sqrt{15}}{6}$"
      ],
      "text/plain": [
       "(-sqrt(3) + sqrt(15))/6"
      ]
     },
     "metadata": {},
     "output_type": "display_data"
    }
   ],
   "source": [
    "from sympy import radsimp\n",
    "\n",
    "\n",
    "expr = Im.subs(phi2, 1 / phi).subs(phi, (1 + sqrt(5)) / 2).subs(N, sqrt(3))\n",
    "radsimp(expr)"
   ]
  },
  {
   "cell_type": "code",
   "execution_count": null,
   "metadata": {},
   "outputs": [
    {
     "data": {
      "text/latex": [
       "$\\displaystyle \\frac{\\sqrt{3}}{6} + \\frac{\\sqrt{15}}{6}$"
      ],
      "text/plain": [
       "sqrt(3)/6 + sqrt(15)/6"
      ]
     },
     "metadata": {},
     "output_type": "display_data"
    }
   ],
   "source": [
    "expr = R.subs(phi2, 1 / phi).subs(phi, (1 + sqrt(5)) / 2).subs(N, sqrt(3))\n",
    "radsimp(expr).expand()"
   ]
  },
  {
   "cell_type": "code",
   "execution_count": null,
   "metadata": {},
   "outputs": [
    {
     "name": "stdout",
     "output_type": "stream",
     "text": [
      "2*N*phi**3 + phi**4 + 3*phi**2 - 1 2*N*phi**3 + phi**4 + 3*phi**2 + 1\n",
      "[phi**4 + 3*phi**2 - 1, 0]\n",
      "[phi**4 + 3*phi**2 - 1, 2*phi**3]\n",
      "Poly(2*phi**3*N + phi**4 + 3*phi**2 - 1, N, domain='ZZ[phi]')\n",
      "[phi**4 + 3*phi**2 + 1, 0]\n",
      "[phi**4 + 3*phi**2 + 1, 2*phi**3]\n",
      "Poly(2*phi**3*N + phi**4 + 3*phi**2 + 1, N, domain='ZZ[phi]')\n",
      "2*N*phi**3 + phi**4 + 3*phi**2 - 1 2*N*phi**3 + phi**4 + 3*phi**2 + 1\n"
     ]
    },
    {
     "data": {
      "text/latex": [
       "$\\displaystyle \\frac{2 N \\phi + N + 3 \\phi + 2}{2 N \\phi + N + 3 \\phi + 3}$"
      ],
      "text/plain": [
       "(2*N*phi + N + 3*phi + 2)/(2*N*phi + N + 3*phi + 3)"
      ]
     },
     "metadata": {},
     "output_type": "display_data"
    }
   ],
   "source": [
    "phi_simp(n_simp(R))"
   ]
  },
  {
   "cell_type": "code",
   "execution_count": null,
   "metadata": {},
   "outputs": [
    {
     "name": "stdout",
     "output_type": "stream",
     "text": [
      "2*phi*(N + phi) 2*N*phi**3 + phi**4 + 3*phi**2 + 1\n",
      "[2*phi**2, 0]\n",
      "[2*phi**2, 2*phi]\n",
      "Poly(2*phi*N + 2*phi**2, N, domain='ZZ[phi]')\n",
      "[phi**4 + 3*phi**2 + 1, 0]\n",
      "[phi**4 + 3*phi**2 + 1, 2*phi**3]\n",
      "Poly(2*phi**3*N + phi**4 + 3*phi**2 + 1, N, domain='ZZ[phi]')\n",
      "2*phi*(N + phi) 2*N*phi**3 + phi**4 + 3*phi**2 + 1\n"
     ]
    },
    {
     "data": {
      "text/latex": [
       "$\\displaystyle \\frac{N \\phi + \\phi + 1}{2 N \\phi + N + 3 \\phi + 3}$"
      ],
      "text/plain": [
       "(N*phi + phi + 1)/(2*N*phi + N + 3*phi + 3)"
      ]
     },
     "metadata": {},
     "output_type": "display_data"
    }
   ],
   "source": [
    "phi_simp(n_simp(Im))"
   ]
  },
  {
   "cell_type": "code",
   "execution_count": null,
   "metadata": {},
   "outputs": [
    {
     "name": "stdout",
     "output_type": "stream",
     "text": [
      "2*phi*(N + phi)*(2*N*phi**3 + phi**4 + 3*phi**2 - 1) (2*N*phi**3 + phi**4 + 3*phi**2 + 1)**2\n",
      "[2*phi**6 + 6*phi**4 - 2*phi**2, 0]\n",
      "[2*phi**6 + 6*phi**4 - 2*phi**2, 6*phi**5 + 6*phi**3 - 2*phi]\n",
      "[2*phi**6 + 18*phi**4 - 2*phi**2, 6*phi**5 + 6*phi**3 - 2*phi]\n",
      "Poly((6*phi**5 + 6*phi**3 - 2*phi)*N + 2*phi**6 + 18*phi**4 - 2*phi**2, N, domain='ZZ[phi]')\n",
      "[phi**8 + 6*phi**6 + 11*phi**4 + 6*phi**2 + 1, 0]\n",
      "[phi**8 + 6*phi**6 + 11*phi**4 + 6*phi**2 + 1, 4*phi**7 + 12*phi**5 + 4*phi**3]\n",
      "[phi**8 + 18*phi**6 + 11*phi**4 + 6*phi**2 + 1, 4*phi**7 + 12*phi**5 + 4*phi**3]\n",
      "Poly((4*phi**7 + 12*phi**5 + 4*phi**3)*N + phi**8 + 18*phi**6 + 11*phi**4 + 6*phi**2 + 1, N, domain='ZZ[phi]')\n",
      "2*phi*(3*N*phi**4 + 3*N*phi**2 - N + phi**5 + 9*phi**3 - phi) 4*N*phi**7 + 12*N*phi**5 + 4*N*phi**3 + phi**8 + 18*phi**6 + 11*phi**4 + 6*phi**2 + 1\n"
     ]
    },
    {
     "data": {
      "text/latex": [
       "$\\displaystyle \\frac{1}{3}$"
      ],
      "text/plain": [
       "1/3"
      ]
     },
     "metadata": {},
     "output_type": "display_data"
    }
   ],
   "source": [
    "phi_simp(n_simp(R * Im))"
   ]
  },
  {
   "cell_type": "code",
   "execution_count": null,
   "metadata": {},
   "outputs": [
    {
     "data": {
      "text/latex": [
       "$\\displaystyle 0.333333333333333$"
      ],
      "text/plain": [
       "0.333333333333333"
      ]
     },
     "metadata": {},
     "output_type": "display_data"
    }
   ],
   "source": [
    "(R * Im).subs(phi, (1 + sqrt(5)) / 2).subs(N, sqrt(3)).evalf()"
   ]
  },
  {
   "cell_type": "code",
   "execution_count": null,
   "metadata": {},
   "outputs": [
    {
     "data": {
      "text/latex": [
       "$\\displaystyle 3.26470820613219$"
      ],
      "text/plain": [
       "3.26470820613219"
      ]
     },
     "metadata": {},
     "output_type": "display_data"
    }
   ],
   "source": [
    "(phi**2 * (phi + 1) ** 2).subs(phi, (1 + sqrt(5)) / 2 / sqrt(3)).evalf()"
   ]
  },
  {
   "cell_type": "code",
   "execution_count": null,
   "metadata": {},
   "outputs": [
    {
     "data": {
      "text/latex": [
       "$\\displaystyle 0.934172358962716$"
      ],
      "text/plain": [
       "0.934172358962716"
      ]
     },
     "metadata": {},
     "output_type": "display_data"
    }
   ],
   "source": [
    "_.subs(N, sqrt(3)).subs(phi, (1 + sqrt(5)) / 2 / sqrt(3)).evalf()"
   ]
  },
  {
   "cell_type": "code",
   "execution_count": null,
   "metadata": {},
   "outputs": [
    {
     "data": {
      "text/latex": [
       "$\\displaystyle \\frac{N^{4} + 10 N^{3} + 6 \\sqrt{5} N^{3} + 66 \\sqrt{5} N^{2} + 148 N^{2} + 66 N + 30 \\sqrt{5} N - 246 \\sqrt{5} - 549}{\\left(N + 1\\right) \\left(N^{4} + 10 N^{3} + 6 \\sqrt{5} N^{3} + 66 \\sqrt{5} N^{2} + 152 N^{2} - 686 N - 306 \\sqrt{5} N + 378 \\sqrt{5} + 847\\right)}$"
      ],
      "text/plain": [
       "(N**4 + 10*N**3 + 6*sqrt(5)*N**3 + 66*sqrt(5)*N**2 + 148*N**2 + 66*N + 30*sqrt(5)*N - 246*sqrt(5) - 549)/((N + 1)*(N**4 + 10*N**3 + 6*sqrt(5)*N**3 + 66*sqrt(5)*N**2 + 152*N**2 - 686*N - 306*sqrt(5)*N + 378*sqrt(5) + 847))"
      ]
     },
     "metadata": {},
     "output_type": "display_data"
    }
   ],
   "source": [
    "c.subs(phi, (1 + sqrt(5)) / 2).factor()"
   ]
  },
  {
   "cell_type": "code",
   "execution_count": null,
   "metadata": {},
   "outputs": [
    {
     "data": {
      "text/latex": [
       "$\\displaystyle 0.35682208977309$"
      ],
      "text/plain": [
       "0.356822089773090"
      ]
     },
     "metadata": {},
     "output_type": "display_data"
    }
   ],
   "source": [
    "c.subs(phi, (1 + sqrt(5)) / 2).subs(N, sqrt(3)).evalf()"
   ]
  },
  {
   "cell_type": "code",
   "execution_count": null,
   "metadata": {},
   "outputs": [
    {
     "data": {
      "text/latex": [
       "$\\displaystyle 0.934172358962716$"
      ],
      "text/plain": [
       "0.934172358962716"
      ]
     },
     "metadata": {},
     "output_type": "display_data"
    }
   ],
   "source": [
    "(phi / sqrt(3)).subs(phi, (1 + sqrt(5)) / 2).evalf()"
   ]
  },
  {
   "cell_type": "code",
   "execution_count": null,
   "metadata": {},
   "outputs": [
    {
     "data": {
      "text/latex": [
       "$\\displaystyle 0.35682208977309$"
      ],
      "text/plain": [
       "0.356822089773090"
      ]
     },
     "metadata": {},
     "output_type": "display_data"
    }
   ],
   "source": [
    "(1 / phi / sqrt(3)).subs(phi, (1 + sqrt(5)) / 2).evalf()"
   ]
  },
  {
   "cell_type": "code",
   "execution_count": null,
   "metadata": {},
   "outputs": [
    {
     "data": {
      "text/latex": [
       "$\\displaystyle 1.0$"
      ],
      "text/plain": [
       "1.00000000000000"
      ]
     },
     "metadata": {},
     "output_type": "display_data"
    }
   ],
   "source": [
    "simplify(r**2 + c**2).subs(phi, (1 + sqrt(5)) / 2).evalf()"
   ]
  },
  {
   "cell_type": "code",
   "execution_count": null,
   "metadata": {},
   "outputs": [],
   "source": []
  },
  {
   "cell_type": "code",
   "execution_count": 41,
   "metadata": {},
   "outputs": [
    {
     "data": {
      "text/latex": [
       "$\\displaystyle \\frac{\\left(\\frac{-1 - i}{N + 1} - \\frac{1 - i}{N - 1}\\right) \\left(- \\frac{-1 + i}{N + 1} + \\frac{1}{\\phi \\left(N + \\phi\\right)}\\right)}{\\left(\\frac{-1 - i}{N + 1} - \\frac{-1 + i}{N + 1}\\right) \\left(- \\frac{1 - i}{N - 1} + \\frac{1}{\\phi \\left(N + \\phi\\right)}\\right)}$"
      ],
      "text/plain": [
       "((-1 - I)/(N + 1) - (1 - I)/(N - 1))*(-(-1 + I)/(N + 1) + 1/(phi*(N + phi)))/(((-1 - I)/(N + 1) - (-1 + I)/(N + 1))*(-(1 - I)/(N - 1) + 1/(phi*(N + phi))))"
      ]
     },
     "execution_count": 41,
     "metadata": {},
     "output_type": "execute_result"
    }
   ],
   "source": [
    "from sympy import Symbol, radsimp\n",
    "\n",
    "\n",
    "phi = Symbol(\"phi\", real=True)\n",
    "N = Symbol(\"N\", real=True)\n",
    "\n",
    "z1 = (1 - I) / (N - 1)\n",
    "z1A = (-1 + I) / (N + 1)\n",
    "zp4 = (1 / phi) / (N + phi)\n",
    "z4 = (-1 - I) / (N + 1)\n",
    "expr = (zp4 - z1A) / (zp4 - z1) * (z4 - z1) / (z4 - z1A)\n",
    "expr"
   ]
  },
  {
   "cell_type": "code",
   "execution_count": 42,
   "metadata": {},
   "outputs": [
    {
     "data": {
      "text/latex": [
       "$\\displaystyle \\frac{N^{2} \\phi \\left(-1 + i\\right) - N^{2} + N \\phi^{2} \\left(-1 + i\\right) + N \\phi \\left(1 + i\\right) + N \\left(-1 + i\\right) + \\phi^{2} \\cdot \\left(1 + i\\right) + i}{N^{2} \\phi \\left(1 + i\\right) - i N^{2} + N \\phi^{2} \\cdot \\left(1 + i\\right) + N \\phi \\left(1 + i\\right) + \\phi^{2} \\cdot \\left(1 + i\\right) + i}$"
      ],
      "text/plain": [
       "(N**2*phi*(-1 + I) - N**2 + N*phi**2*(-1 + I) + N*phi*(1 + I) + N*(-1 + I) + phi**2*(1 + I) + I)/(N**2*phi*(1 + I) - I*N**2 + N*phi**2*(1 + I) + N*phi*(1 + I) + phi**2*(1 + I) + I)"
      ]
     },
     "execution_count": 42,
     "metadata": {},
     "output_type": "execute_result"
    }
   ],
   "source": [
    "r, c = expr.as_real_imag()\n",
    "# expr = simplify(c / r)\n",
    "# expr = phi_simp(expr)\n",
    "simplify(expr.factor().expand())"
   ]
  },
  {
   "cell_type": "code",
   "execution_count": 43,
   "metadata": {},
   "outputs": [
    {
     "name": "stdout",
     "output_type": "stream",
     "text": [
      "here\n"
     ]
    },
    {
     "data": {
      "text/latex": [
       "$\\displaystyle \\sqrt{15}$"
      ],
      "text/plain": [
       "sqrt(15)"
      ]
     },
     "execution_count": 43,
     "metadata": {},
     "output_type": "execute_result"
    }
   ],
   "source": [
    "val = simplify(c / r)\n",
    "print(\"here\")\n",
    "radsimp(val.subs(phi, (1 + sqrt(5)) / 2).subs(N, sqrt(3))).expand()"
   ]
  },
  {
   "cell_type": "code",
   "execution_count": 44,
   "metadata": {},
   "outputs": [
    {
     "data": {
      "text/latex": [
       "$\\displaystyle \\frac{1}{4}$"
      ],
      "text/plain": [
       "1/4"
      ]
     },
     "execution_count": 44,
     "metadata": {},
     "output_type": "execute_result"
    }
   ],
   "source": [
    "radsimp(simplify(r).subs(phi, (1 + sqrt(5)) / 2).subs(N, sqrt(3)).factor())"
   ]
  },
  {
   "cell_type": "code",
   "execution_count": 45,
   "metadata": {},
   "outputs": [
    {
     "data": {
      "text/latex": [
       "$\\displaystyle \\frac{\\sqrt{15}}{4}$"
      ],
      "text/plain": [
       "sqrt(15)/4"
      ]
     },
     "execution_count": 45,
     "metadata": {},
     "output_type": "execute_result"
    }
   ],
   "source": [
    "radsimp(simplify(c).subs(phi, (1 + sqrt(5)) / 2).subs(N, sqrt(3)).factor())"
   ]
  },
  {
   "cell_type": "code",
   "execution_count": 52,
   "metadata": {},
   "outputs": [
    {
     "data": {
      "text/latex": [
       "$\\displaystyle \\frac{2 i \\left(N \\phi + \\phi^{2} + 1\\right)}{- N^{2} + 2 N \\phi + 2 \\phi^{2} + 1}$"
      ],
      "text/plain": [
       "2*I*(N*phi + phi**2 + 1)/(-N**2 + 2*N*phi + 2*phi**2 + 1)"
      ]
     },
     "execution_count": 52,
     "metadata": {},
     "output_type": "execute_result"
    }
   ],
   "source": [
    "# z2p = -I*phi/(sqrt(3)-1/phi)\n",
    "z2 = (1 + I) / (N + 1)\n",
    "A = expr * (z2 - z1A) / (z2 - z1)\n",
    "result = simplify((z1A - A * z1) / (1 - A))\n",
    "r, c = result.as_real_imag()\n",
    "simplify(result.expand())"
   ]
  },
  {
   "cell_type": "code",
   "execution_count": 53,
   "metadata": {},
   "outputs": [
    {
     "data": {
      "text/latex": [
       "$\\displaystyle \\frac{\\tilde{\\infty} \\left(N \\phi + \\phi^{2} + 1\\right)^{2}}{N \\phi + \\phi^{2} - 1}$"
      ],
      "text/plain": [
       "zoo*(N*phi + phi**2 + 1)**2/(N*phi + phi**2 - 1)"
      ]
     },
     "execution_count": 53,
     "metadata": {},
     "output_type": "execute_result"
    }
   ],
   "source": [
    "simplify(n_simp((c / r).factor(), N))"
   ]
  },
  {
   "cell_type": "code",
   "execution_count": 54,
   "metadata": {},
   "outputs": [
    {
     "data": {
      "text/latex": [
       "$\\displaystyle \\text{NaN}$"
      ],
      "text/plain": [
       "nan"
      ]
     },
     "execution_count": 54,
     "metadata": {},
     "output_type": "execute_result"
    }
   ],
   "source": [
    "simplify(phi_simp(_, phi))"
   ]
  },
  {
   "cell_type": "code",
   "execution_count": 55,
   "metadata": {},
   "outputs": [
    {
     "data": {
      "text/latex": [
       "$\\displaystyle 0$"
      ],
      "text/plain": [
       "0"
      ]
     },
     "execution_count": 55,
     "metadata": {},
     "output_type": "execute_result"
    }
   ],
   "source": [
    "radsimp(r.subs(phi, (1 + sqrt(5)) / 2).subs(N, sqrt(3))).expand().factor()"
   ]
  },
  {
   "cell_type": "code",
   "execution_count": 56,
   "metadata": {},
   "outputs": [
    {
     "data": {
      "text/latex": [
       "$\\displaystyle - \\frac{\\sqrt{5}}{2} - \\frac{\\sqrt{3}}{2} + \\frac{3}{2} + \\frac{\\sqrt{15}}{2}$"
      ],
      "text/plain": [
       "-sqrt(5)/2 - sqrt(3)/2 + 3/2 + sqrt(15)/2"
      ]
     },
     "execution_count": 56,
     "metadata": {},
     "output_type": "execute_result"
    }
   ],
   "source": [
    "radsimp(c.subs(phi, (1 + sqrt(5)) / 2).subs(N, sqrt(3))).expand()"
   ]
  },
  {
   "cell_type": "code",
   "execution_count": 94,
   "metadata": {},
   "outputs": [
    {
     "data": {
      "text/latex": [
       "$\\displaystyle 1.05572809000084$"
      ],
      "text/plain": [
       "1.05572809000084"
      ]
     },
     "execution_count": 94,
     "metadata": {},
     "output_type": "execute_result"
    }
   ],
   "source": [
    "x = (2 * (2 + phi) / (3 * phi + 2)).subs(phi, (1 + sqrt(5)) / 2).evalf()\n",
    "x"
   ]
  },
  {
   "cell_type": "code",
   "execution_count": 96,
   "metadata": {},
   "outputs": [
    {
     "data": {
      "text/latex": [
       "$\\displaystyle 0.43018017372508$"
      ],
      "text/plain": [
       "0.430180173725080"
      ]
     },
     "execution_count": 96,
     "metadata": {},
     "output_type": "execute_result"
    }
   ],
   "source": [
    "from sympy import atan\n",
    "\n",
    "tan(atan(x) / 2)"
   ]
  },
  {
   "cell_type": "code",
   "execution_count": 97,
   "metadata": {},
   "outputs": [
    {
     "data": {
      "text/latex": [
       "$\\displaystyle 0.76393202250021$"
      ],
      "text/plain": [
       "0.763932022500210"
      ]
     },
     "execution_count": 97,
     "metadata": {},
     "output_type": "execute_result"
    }
   ],
   "source": [
    "x = (2 / (1 + phi)).subs(phi, (1 + sqrt(5)) / 2).evalf()\n",
    "x"
   ]
  },
  {
   "cell_type": "code",
   "execution_count": 99,
   "metadata": {},
   "outputs": [
    {
     "data": {
      "text/latex": [
       "$\\displaystyle 1.61803398874989$"
      ],
      "text/plain": [
       "1.61803398874989"
      ]
     },
     "execution_count": 99,
     "metadata": {},
     "output_type": "execute_result"
    }
   ],
   "source": [
    "(phi).subs(phi, (1 + sqrt(5)) / 2).evalf()"
   ]
  },
  {
   "cell_type": "code",
   "execution_count": 98,
   "metadata": {},
   "outputs": [
    {
     "data": {
      "text/latex": [
       "$\\displaystyle 3.66915270681799$"
      ],
      "text/plain": [
       "3.66915270681799"
      ]
     },
     "execution_count": 98,
     "metadata": {},
     "output_type": "execute_result"
    }
   ],
   "source": [
    "tan(atan(x) * 2)"
   ]
  },
  {
   "cell_type": "code",
   "execution_count": 12,
   "metadata": {},
   "outputs": [
    {
     "data": {
      "text/latex": [
       "$\\displaystyle \\frac{8 \\phi}{15} + \\frac{1}{15}$"
      ],
      "text/plain": [
       "8*phi/15 + 1/15"
      ]
     },
     "execution_count": 12,
     "metadata": {},
     "output_type": "execute_result"
    }
   ],
   "source": [
    "from sympy import symbols, sqrt, Rational\n",
    "\n",
    "phi = symbols(\"phi\")\n",
    "expr = Rational(4, 3) * (phi * Rational(1, 2) + phi**4 * Rational(1, 4)) / (1 + phi**2)\n",
    "(expr).subs(phi, (1 + sqrt(5)) / 2).radsimp().expand().subs(\n",
    "    sqrt(5), 2 * phi - 1\n",
    ").expand()"
   ]
  },
  {
   "cell_type": "code",
   "execution_count": 13,
   "metadata": {},
   "outputs": [
    {
     "data": {
      "text/latex": [
       "$\\displaystyle 0.929618127333277$"
      ],
      "text/plain": [
       "0.929618127333277"
      ]
     },
     "execution_count": 13,
     "metadata": {},
     "output_type": "execute_result"
    }
   ],
   "source": [
    "_.subs(phi, (1 + sqrt(5)) / 2).evalf()"
   ]
  },
  {
   "cell_type": "code",
   "execution_count": 14,
   "metadata": {},
   "outputs": [
    {
     "data": {
      "text/latex": [
       "$\\displaystyle 0.929618127333277$"
      ],
      "text/plain": [
       "0.929618127333277"
      ]
     },
     "execution_count": 14,
     "metadata": {},
     "output_type": "execute_result"
    }
   ],
   "source": [
    "expr.subs(phi, (1 + sqrt(5)) / 2).evalf()"
   ]
  }
 ],
 "metadata": {
  "kernelspec": {
   "display_name": ".venv",
   "language": "python",
   "name": "python3"
  },
  "language_info": {
   "codemirror_mode": {
    "name": "ipython",
    "version": 3
   },
   "file_extension": ".py",
   "mimetype": "text/x-python",
   "name": "python",
   "nbconvert_exporter": "python",
   "pygments_lexer": "ipython3",
   "version": "3.12.3"
  }
 },
 "nbformat": 4,
 "nbformat_minor": 2
}
